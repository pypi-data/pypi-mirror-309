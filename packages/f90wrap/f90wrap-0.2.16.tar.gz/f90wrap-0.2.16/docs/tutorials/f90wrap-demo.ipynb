{
 "cells": [
  {
   "cell_type": "markdown",
   "metadata": {
    "slideshow": {
     "slide_type": "slide"
    }
   },
   "source": [
    "<center>\n",
    "<img src=\"warwick-logo.png\">\n",
    "<h1>Interoperability between scientific computing codes with Python</h1>\n",
    "<h3>James Kermode</h3>\n",
    "Warwick Centre for Predictive Modelling / School of Engineering<br>\n",
    "University of Warwick\n",
    "<br>\n",
    "<br>\n",
    "<img src=\"WCPM_logo_text.png\" width=\"50%\">\n",
    "\n",
    "</center>\n",
    "\n",
    "<br>\n",
    "<br>\n",
    "<br>\n",
    "<br>"
   ]
  },
  {
   "cell_type": "code",
   "execution_count": null,
   "metadata": {
    "slideshow": {
     "slide_type": "skip"
    }
   },
   "outputs": [],
   "source": [
    "import numpy as np\n",
    "import matplotlib.pyplot as plt\n",
    "\n",
    "#Customize default plotting style\n",
    "%matplotlib inline\n",
    "import seaborn as sns\n",
    "sns.set_context('talk')"
   ]
  },
  {
   "cell_type": "code",
   "execution_count": null,
   "metadata": {},
   "outputs": [],
   "source": [
    "plt.rcParams[\"figure.figsize\"] = (10, 8)"
   ]
  },
  {
   "cell_type": "markdown",
   "metadata": {
    "slideshow": {
     "slide_type": "slide"
    }
   },
   "source": [
    "# Introduction\n",
    "\n",
    "- Interfacing codes allows existing tools to be combined\n",
    "- Produce something that is more than the sum of the constituent parts \n",
    "- General feature of modern scientific computing: many well-documented libraries available\n",
    "- Python has emerged as the *de facto* standard “glue” language\n",
    "- Codes that have a Python interface can be combined in complex ways"
   ]
  },
  {
   "cell_type": "markdown",
   "metadata": {
    "slideshow": {
     "slide_type": "slide"
    }
   },
   "source": [
    "## Motivation\n",
    "\n",
    "- My examples are from atomistic materials modelling and electronic structure, but approach is general\n",
    "- All the activities I'm interested in require *robust*, *automated* coupling of two or more codes\n",
    "- For example, current projects include:\n",
    "    - developing and applying multiscale methods\n",
    "    - generating interatomic potentials\n",
    "    - uncertainty quantification\n",
    "\n",
    "<img src=\"multiscale.png\" width=\"70%\">"
   ]
  },
  {
   "cell_type": "markdown",
   "metadata": {
    "slideshow": {
     "slide_type": "slide"
    }
   },
   "source": [
    "# Python scripting for interoperability\n",
    "\n",
    "- [numpy](http://www.numpy.org/)/[scipy](http://scipy.org/) ecosystem\n",
    "- [matplotlib](http://matplotlib.org/) plotting and interactive graphics\n",
    "- [jupyter](https://jupyter.org/)/IPython notebooks encourage reproducible research\n",
    "- [anaconda](https://jupyter.org/) distribution and package management system\n",
    "   \n",
    "<center><img src=\"scipy-stack.png\" width=\"70%\"></center>\n",
    "\n",
    "http://www.scipy.org"
   ]
  },
  {
   "cell_type": "markdown",
   "metadata": {
    "slideshow": {
     "slide_type": "slide"
    }
   },
   "source": [
    "# Atomic Simulation Environment (ASE)\n",
    "\n",
    "- Within atomistic modelling, emerging standard for scripting interfaces is ASE\n",
    "- Wide range of calculators, flexible (but not too flexible) data model for Atoms objects\n",
    "- Can use many codes as drop-in replacements:\n",
    "\n",
    "<center><img src=\"ase-calculators.png\" width=\"60%\"></center>\n",
    "\n",
    "\n",
    "https://wiki.fysik.dtu.dk/ase/"
   ]
  },
  {
   "cell_type": "markdown",
   "metadata": {
    "slideshow": {
     "slide_type": "slide"
    }
   },
   "source": [
    "# Atomic Simulation Environment (ASE)\n",
    "\n",
    "- ASE mostly uses file-based interfaces: input generators and output parsers\n",
    "- Collection of parsers aids validation and verification - cf. DFT $\\Delta$-code project\n",
    "- Coupling $N$ codes requires maintaining $N$ parsers/interfaces, rather than $N^2$ converters\n",
    "- High-level functionality can be coded generically, or imported from other packages (e.g. `spglib`, `phonopy`) using minimal ASE-compatible API"
   ]
  },
  {
   "cell_type": "markdown",
   "metadata": {
    "slideshow": {
     "slide_type": "slide"
    }
   },
   "source": [
    "# File-based interfaces vs. Native interfaces\n",
    "\n",
    "- File-based interfaces (like those mostly used in ASE) to electronic structure codes can be slow and/or incomplete and parsers are hard to keep up to date and robust\n",
    "- Standardised output (e.g. chemical markup language, XML, JSON) part of solution\n",
    "- So are robust parsers - [NoMaD Centre of Excellence](http://nomad-coe.eu/) has produced parsers for top ~40 electronic structure and atomistic codes\n",
    "- **Alternative:** native interfaces provide a much deeper wrapping, exposing full public API of code to script writers (e.g. GPAW, LAMMPSlib)\n",
    "- **Future proofing:** anything accessible from Python works with other high-level languages (e.g. Julia)"
   ]
  },
  {
   "cell_type": "markdown",
   "metadata": {
    "slideshow": {
     "slide_type": "slide"
    }
   },
   "source": [
    "   \n",
    "# `f90wrap` adds derived type support to `f2py`\n",
    "\n",
    "- Writing deep Python interfaces 'by hand' is possible but tedious\n",
    "- There are good automatic interface generators for C++ codes (e.g.pybind11, SWIG, Boost.Python), but none support modern Fortran\n",
    "    - There's still lots of high-quality Fortran code around...\n",
    "    - [f2py](https://sysbio.ioc.ee/projects/f2py2e/) scans Fortran 77/90/95 codes, generates Python interfaces for individual routines\n",
    "    - No support for modern Fortran features: derived types, overloaded interfaces\n",
    "- My `f90wrap` package addresses this by generating an additional layer of wrappers, adding support for derived types, module data, efficient array access, Python 2.6+ and 3.x\n",
    "\n",
    "https://github.com/jameskermode/f90wrap"
   ]
  },
  {
   "cell_type": "markdown",
   "metadata": {
    "slideshow": {
     "slide_type": "slide"
    }
   },
   "source": [
    "# `f90wrap` schematic overview\n",
    "\n",
    "![f90wrap-schematic](f90wrap-schematic.png)\n",
    "\n",
    "More details: J. R. Kermode, f90wrap: an automated tool for constructing deep Python interfaces to modern Fortran codes. J. Phys. Condens. Matter (2020) [doi:10.1088/1361-648X/ab82d2](https://dx.doi.org/10.1088/1361-648X/ab82d2)"
   ]
  },
  {
   "cell_type": "markdown",
   "metadata": {
    "slideshow": {
     "slide_type": "slide"
    }
   },
   "source": [
    "# Example: wrapping  the `bader` code\n",
    "\n",
    "- Widely used code for post-processing charge densities to construct Bader volumes\n",
    "- Python interface would allow code to be used in workflows without I/O etc.\n",
    "- Downloaded [source](http://theory.cm.utexas.edu/henkelman/code/bader/), used `f90wrap` to *automatically* generate a deep Python interface with very little manual work\n",
    "\n",
    "Generation and compilation of wrappers:\n",
    "\n",
    "    f90wrap -v -k kind_map -I init.py -m bader \\\n",
    "         kind_mod.f90 matrix_mod.f90 \\\n",
    "         ions_mod.f90 options_mod.f90 charge_mod.f90 \\\n",
    "         chgcar_mod.f90 cube_mod.f90 io_mod.f90 \\\n",
    "         bader_mod.f90 voronoi_mod.f90 multipole_mod.f90\n",
    "\n",
    "    f2py-f90wrap -c -m _bader f90wrap_*.f90 -L. -lbader"
   ]
  },
  {
   "cell_type": "markdown",
   "metadata": {
    "scrolled": true,
    "slideshow": {
     "slide_type": "subslide"
    }
   },
   "source": [
    "To install it yourself, run the commands below, taking care to adjust `PY_INSTALL_DIR` according to your local setup:\n",
    "\n",
    "    git clone https://gitlab.com/jameskermode/bader\n",
    "    cd bader\n",
    "    export PY_INSTALL_DIR=~/.local/lib/python3.8/site-packages\n",
    "    make -f makefile.osx_gfortran python"
   ]
  },
  {
   "cell_type": "markdown",
   "metadata": {
    "slideshow": {
     "slide_type": "slide"
    }
   },
   "source": [
    "# Example: wrapping the `bader` code (contd.)\n",
    "\n",
    "Restart a `gpaw` DFT calculation (or run if necessary) and retrieve the density:"
   ]
  },
  {
   "cell_type": "code",
   "execution_count": 4,
   "metadata": {
    "scrolled": true,
    "slideshow": {
     "slide_type": "-"
    }
   },
   "outputs": [],
   "source": [
    "import os\n",
    "from ase.build import bulk\n",
    "from gpaw import GPAW, restart\n",
    "\n",
    "if not os.path.exists('si-vac.gpw'):\n",
    "    si = bulk('Si', cubic=True)\n",
    "    del si[0] # create a vacancy\n",
    "    gpaw = GPAW(h=0.15) \n",
    "    si.set_calculator(gpaw)\n",
    "    si.get_potential_energy()\n",
    "    gpaw.write('si-vac.gpw')\n",
    "\n",
    "si, gpaw = restart('si-vac.gpw')\n",
    "rho = gpaw.get_pseudo_density()"
   ]
  },
  {
   "cell_type": "code",
   "execution_count": 6,
   "metadata": {
    "slideshow": {
     "slide_type": "slide"
    }
   },
   "outputs": [
    {
     "data": {
      "image/png": "[encoded data removed]",
      "text/plain": [
       "<Figure size 720x576 with 1 Axes>"
      ]
     },
     "metadata": {
      "needs_background": "light"
     },
     "output_type": "display_data"
    }
   ],
   "source": [
    "plt.plot(si.positions[:, 0], si.positions[:, 1], 'r.', ms=50)\n",
    "plt.imshow(rho[:,:,0], extent=[0, si.cell[0,0], 0, si.cell[1,1]]);"
   ]
  },
  {
   "cell_type": "code",
   "execution_count": 8,
   "metadata": {
    "slideshow": {
     "slide_type": "slide"
    }
   },
   "outputs": [
    {
     "name": "stdout",
     "output_type": "stream",
     "text": [
      "ionchg: [4.2901335  4.43094328 4.28875689 4.43093625 4.32306902 4.43071537\n",
      " 4.3392679 ]\n",
      "\n",
      "  CALCULATING BADER CHARGE DISTRIBUTION\n",
      "                 0  10  25  50  75  100\n",
      "  PERCENT DONE:  ********************** \n",
      "\n",
      "  REFINING AUTOMATICALLY\n",
      "  ITERATION: 2\n",
      "  CHECKED POINTS:          0\n",
      "  REASSIGNED POINTS:       0\n",
      "\n",
      "  RUN TIME:       0.05 SECONDS\n",
      "\n",
      "  CALCULATING MINIMUM DISTANCES TO ATOMS\n",
      "                 0  10  25  50  75  100\n",
      "  PERCENT DONE:  **********************\n",
      "\n",
      "  RUN TIME:    0.01 SECONDS\n"
     ]
    }
   ],
   "source": [
    "import bader\n",
    "\n",
    "bdr = bader.bader(si, rho)\n",
    "\n",
    "print('ionchg:', bdr.ionchg)"
   ]
  },
  {
   "cell_type": "code",
   "execution_count": 16,
   "metadata": {},
   "outputs": [
    {
     "data": {
      "text/plain": [
       "dtype('float64')"
      ]
     },
     "execution_count": 16,
     "metadata": {},
     "output_type": "execute_result"
    }
   ],
   "source": [
    "## TAB-complete to introspect inside `bdr` Fortran type\n"
   ]
  },
  {
   "cell_type": "code",
   "execution_count": 17,
   "metadata": {
    "scrolled": false,
    "slideshow": {
     "slide_type": "slide"
    }
   },
   "outputs": [],
   "source": [
    "# collect Bader volumes associated with atom #5\n",
    "atom = 4\n",
    "rho3 = np.zeros_like(rho)\n",
    "for v in (bdr.nnion == atom+1).nonzero()[0]:\n",
    "    rho3[bdr.volnum == v+1] = rho[bdr.volnum == v+1]    "
   ]
  },
  {
   "cell_type": "code",
   "execution_count": 18,
   "metadata": {
    "slideshow": {
     "slide_type": "-"
    }
   },
   "outputs": [],
   "source": [
    "# write a CUBE file to allow visualisation of density (FIXME: can this be avoided?)\n",
    "from ase.io.cube import write_cube\n",
    "\n",
    "with open('rho3.cube', 'w') as f:\n",
    "    write_cube(f, si, rho3)"
   ]
  },
  {
   "cell_type": "code",
   "execution_count": 20,
   "metadata": {
    "slideshow": {
     "slide_type": "slide"
    }
   },
   "outputs": [
    {
     "data": {
      "application/vnd.jupyter.widget-view+json": {
       "model_id": "33613c05840f4436a586f0b3749ae002",
       "version_major": 2,
       "version_minor": 0
      },
      "text/plain": []
     },
     "metadata": {},
     "output_type": "display_data"
    },
    {
     "data": {
      "application/vnd.jupyter.widget-view+json": {
       "model_id": "af19f34815284faa8a83a24ff56afa01",
       "version_major": 2,
       "version_minor": 0
      },
      "text/plain": [
       "NGLWidget()"
      ]
     },
     "metadata": {},
     "output_type": "display_data"
    },
    {
     "data": {
      "application/vnd.jupyter.widget-view+json": {
       "model_id": "4ba9cade73984f32a9a79a97cdd345f4",
       "version_major": 2,
       "version_minor": 0
      },
      "text/plain": [
       "Tab(children=(Box(children=(Box(children=(Box(children=(Label(value='step'), IntSlider(value=1, min=-100)), la…"
      ]
     },
     "metadata": {},
     "output_type": "display_data"
    }
   ],
   "source": [
    "import nglview\n",
    "v = nglview.show_ase(si, gui=True)\n",
    "v.add_representation('unitcell')\n",
    "v.add_component('rho3.cube')\n",
    "v.component_1.update_surface()\n",
    "v"
   ]
  },
  {
   "cell_type": "markdown",
   "metadata": {
    "slideshow": {
     "slide_type": "slide"
    }
   },
   "source": [
    "# Wrapping Castep with f90wrap - CasPyTep\n",
    "\n",
    "- `f90wrap` can now wrap large codes like Castep to provide deep access to internal data \n",
    "- Summer project in 2014 by Greg Corbett at STFC built proof-of-principle Castep/Python interface. Results described in [RAL technical report](https://epubs.stfc.ac.uk/work/18048381)\n",
    "- Warwick MSc student Sebastian Potthoff wrote his dissertation on `CasPyTep` in 2016, adding MPI support and optimising performance of Nudged Elastic Band algorithm, coded in Python\n",
    "- Since then I've extended a bit further - e.g. adding Python 3.x support\n",
    "- Peter Byrne has very recently added a slimmed down `Castep_Python` module with a high level API, also built using `f90wrap`"
   ]
  },
  {
   "cell_type": "markdown",
   "metadata": {
    "slideshow": {
     "slide_type": "slide"
    }
   },
   "source": [
    "# CasPyTep Requirements\n",
    "\n",
    " - Castep source code - tested with latest development version\n",
    " - Supported Fortran compiler (tested with `gfortran` and `ifort`)\n",
    " - [Python](http://www.python.org) Python 3.6+\n",
    " - [Numpy](http://www.numpy.org): `pip install numpy`\n",
    " - [f90wrap](https://github.com/jameskermode/f90wrap) package: `pip install f90wrap`\n",
    " - [Atomic Simulation Enviroment](https://wiki.fysik.dtu.dk/ase/) (ASE): `pip install ase`\n"
   ]
  },
  {
   "cell_type": "markdown",
   "metadata": {
    "slideshow": {
     "slide_type": "slide"
    }
   },
   "source": [
    "# Compiling CasPyTep\n",
    "\n",
    "In principle:\n",
    "\n",
    "    cd castep\n",
    "    make\n",
    "    make python\n",
    "    export PY_INSTALL_DIR=/usr/local/python3.7/site-packages # or somewhere else\n",
    "    make python-install\n",
    "\n",
    "For the high level bindings only - see `README.INSTALL` for more details:\n",
    "\n",
    "    make castep_python\n",
    "    pip install -e obj/[ARCH]"
   ]
  },
  {
   "cell_type": "markdown",
   "metadata": {
    "slideshow": {
     "slide_type": "slide"
    }
   },
   "source": [
    "# CasPyTep Current Features\n",
    "\n",
    "- Set of source files currently wrapped is as follows, can be easily expanded:\n",
    "\n",
    "        Utility:     constants.F90 algor.F90 comms.serial.F90\n",
    "                     io.F90 trace.F90 license.F90 buildinfo.f90\n",
    "        Fundamental: parameters.F90 cell.F90 basis.F90 \n",
    "                     ion.F90 density.F90 wave.F90\n",
    "        Functional:  model.F90 electronic.F90 firstd.f90 xc.f90\n",
    "        \n",
    "- Already far too much to wrap by hand: \n",
    "   - 35 kLOC Fortran and 55 kLOC Python auto-generated \n",
    "   - 23 derived types \n",
    "   - ~2600 subroutines/functions"
   ]
  },
  {
   "cell_type": "markdown",
   "metadata": {
    "slideshow": {
     "slide_type": "slide"
    }
   },
   "source": [
    "# What is wrapped?\n",
    "\n",
    "- Dynamic introspection of data and objects:\n",
    "    - Module-level variables: `current_cell`, etc (*NB:* must have `target` attribute)\n",
    "    - Fortran derived types exposed as Python classes (e.g `unit_cell`, `model_state`), including all elements, arrays, etc. within them\n",
    "    - Arrays (including arrays of derived types) - no copying necessary to access data in numerical arrays e.g. `current_cell%ionic_positions` exposed directly in Python\n",
    "- Documentation strings are extracted from source code\n",
    "- `io_abort()` raises `RuntimeError` exception\n",
    "- Plus, there's a minimal ASE-compatible high level calculator `CasPyTep(atoms)`"
   ]
  },
  {
   "cell_type": "markdown",
   "metadata": {
    "slideshow": {
     "slide_type": "slide"
    }
   },
   "source": [
    "# Taking `caspytep` for a test drive"
   ]
  },
  {
   "cell_type": "code",
   "execution_count": 21,
   "metadata": {},
   "outputs": [],
   "source": [
    "import numpy as np\n",
    "import caspytep"
   ]
  },
  {
   "cell_type": "code",
   "execution_count": null,
   "metadata": {},
   "outputs": [],
   "source": [
    "## uncomment line below and press TAB for autocompletion\n",
    "caspytep.\n",
    "#caspytep.cell.unit_cell."
   ]
  },
  {
   "cell_type": "code",
   "execution_count": 22,
   "metadata": {},
   "outputs": [],
   "source": [
    "## append a ? to access documentation strings\n",
    "caspytep.model.model_wave_read?\n",
    "#caspytep.cell.cell_read?"
   ]
  },
  {
   "cell_type": "markdown",
   "metadata": {
    "slideshow": {
     "slide_type": "slide"
    }
   },
   "source": [
    "## Single point calculation\n",
    "\n",
    "This uses the ASE-compatible interface provided by the `CasPyTep` class."
   ]
  },
  {
   "cell_type": "code",
   "execution_count": 23,
   "metadata": {},
   "outputs": [],
   "source": [
    "from ase.build import bulk\n",
    "\n",
    "atoms = bulk('Si', cubic=True)\n",
    "calc = caspytep.calculator.CasPyTep(atoms=atoms)\n",
    "atoms.set_calculator(calc)"
   ]
  },
  {
   "cell_type": "code",
   "execution_count": 24,
   "metadata": {
    "code_folding": [],
    "scrolled": false
   },
   "outputs": [
    {
     "name": "stdout",
     "output_type": "stream",
     "text": [
      "energy: -1351.306 eV\n",
      "forces: [[-1.77531190e-06  7.79031704e-06 -7.78323921e-06]\n",
      " [ 5.28965998e-05 -1.26374348e-05 -2.42809706e-05]\n",
      " [-4.99546145e-06  1.06564617e-05  5.72414230e-05]\n",
      " [-1.50490900e-05 -1.54993264e-05 -1.93367246e-06]\n",
      " [ 9.94049519e-06  3.30692511e-05 -7.02829293e-06]\n",
      " [-1.56277562e-05  7.36665153e-06 -1.61929791e-05]\n",
      " [ 1.36706212e-05 -1.19693116e-05  3.73698167e-05]\n",
      " [-3.90600967e-05 -1.87766085e-05 -3.73920853e-05]]\n"
     ]
    }
   ],
   "source": [
    "e = atoms.get_potential_energy()\n",
    "f = atoms.get_forces()\n",
    "print(f'energy: {e:.3f} eV')\n",
    "print(f'forces: {f}')"
   ]
  },
  {
   "cell_type": "markdown",
   "metadata": {
    "slideshow": {
     "slide_type": "slide"
    }
   },
   "source": [
    "## Interactive introspection\n",
    "\n",
    "Unlike with standard ASE or other scripting approaches, after running a calculation, we can now poke around in all the internal arrays:"
   ]
  },
  {
   "cell_type": "code",
   "execution_count": 32,
   "metadata": {},
   "outputs": [
    {
     "data": {
      "text/plain": [
       "190.4797021705707"
      ]
     },
     "execution_count": 32,
     "metadata": {},
     "output_type": "execute_result"
    }
   ],
   "source": [
    "#calc.model.eigenvalues\n",
    "#calc.model.cell.ionic_positions\n",
    "#calc.model.cell.ionic_positions[...,0]\n",
    "#calc.model.wvfn.beta_phi\n",
    "#calc.model.cell.ionic_velocities.T\n",
    "from ase.units import Hartree\n",
    "calc.parameters.cut_off_energy"
   ]
  },
  {
   "cell_type": "markdown",
   "metadata": {
    "slideshow": {
     "slide_type": "slide"
    }
   },
   "source": [
    "## Postprocessing and Visualisation"
   ]
  },
  {
   "cell_type": "code",
   "execution_count": 34,
   "metadata": {},
   "outputs": [
    {
     "data": {
      "image/png": "[encoded data removed]",
      "text/plain": [
       "<Figure size 720x576 with 1 Axes>"
      ]
     },
     "metadata": {
      "needs_background": "light"
     },
     "output_type": "display_data"
    }
   ],
   "source": [
    "from ase.units import Bohr\n",
    "p = calc.model.cell.ionic_positions.copy()\n",
    "p = p[:, :, 0] # first species only\n",
    "p = calc.model.cell.real_lattice.T @ p\n",
    "xi, yi, zi = p * Bohr\n",
    "plt.scatter(xi, yi, s=200, c='r')\n",
    "plt.axis([0, atoms.cell[0,0], 0, atoms.cell[1,1]]); plt.axis(\"scaled\");"
   ]
  },
  {
   "cell_type": "code",
   "execution_count": 35,
   "metadata": {
    "slideshow": {
     "slide_type": "slide"
    }
   },
   "outputs": [
    {
     "data": {
      "image/png": "[encoded data removed]",
      "text/plain": [
       "<Figure size 720x576 with 1 Axes>"
      ]
     },
     "metadata": {
      "needs_background": "light"
     },
     "output_type": "display_data"
    }
   ],
   "source": [
    "# overlay the charge density\n",
    "plt.scatter(xi, yi, s=200, c='r')\n",
    "den = calc.model.den.real_charge.copy()\n",
    "basis = caspytep.basis.get_current_basis()\n",
    "den3 = (den.reshape((basis.ngx, basis.ngy, \n",
    "                     basis.ngz), order='F') / \n",
    "        basis.total_grid_points)\n",
    "plt.imshow(den3[:, :, basis.ngz//2],\n",
    "           extent=[0, atoms.cell[0,0], 0, atoms.cell[1,1]]);"
   ]
  },
  {
   "cell_type": "markdown",
   "metadata": {
    "slideshow": {
     "slide_type": "slide"
    }
   },
   "source": [
    "# Updating data inside a running Castep instance\n",
    "\n",
    "- So far this is just analysis/post-processing, but could easily go beyond this and **steer calculations** based on results of e.g. Bader analysis.\n",
    "- In the simplest case, we can move the ions and continue the calculation without having to restart from scratch (or do any I/O of `.check` files etc.).\n",
    "- This allows embedded Castep to be **efficiently** used as a standard ASE calculator, with existing high-level algorithms: geometry optimisation, NEB, basin hopping, etc.\n",
    "- Compared to file-based interface, save overhead of starting Castep each time\n",
    "- Reuse electronic model from one ionic step to the next\n",
    "- Wavefunction and charge density extrapolation possible just as in MD"
   ]
  },
  {
   "cell_type": "markdown",
   "metadata": {
    "slideshow": {
     "slide_type": "slide"
    }
   },
   "source": [
    "# Example 1 - geometry optimisation"
   ]
  },
  {
   "cell_type": "code",
   "execution_count": 36,
   "metadata": {
    "slideshow": {
     "slide_type": "-"
    }
   },
   "outputs": [
    {
     "name": "stdout",
     "output_type": "stream",
     "text": [
      "       Step     Time          Energy         fmax\n",
      "LBFGS:    0 15:45:59    -1351.292226        0.3984\n",
      "LBFGS:    1 15:46:02    -1351.299107        0.2784\n",
      "LBFGS:    2 15:46:05    -1351.306328        0.0425\n",
      "-1351.3063283114898\n"
     ]
    }
   ],
   "source": [
    "from ase.build import bulk\n",
    "from ase.optimize import LBFGS\n",
    "from caspytep.calculator import CasPyTep\n",
    "\n",
    "atoms = bulk(\"Si\", cubic=True)\n",
    "calc = CasPyTep(atoms=atoms)\n",
    "atoms.set_calculator(calc)\n",
    "atoms.rattle(0.01)\n",
    "a0 = atoms.copy()\n",
    "opt = LBFGS(atoms)\n",
    "opt.run(fmax=0.1)\n",
    "print(atoms.get_potential_energy())"
   ]
  },
  {
   "cell_type": "markdown",
   "metadata": {
    "slideshow": {
     "slide_type": "slide"
    }
   },
   "source": [
    "# Example 2 - testing new algorithms\n",
    "\n",
    "Python interface makes it quick to try out new high-level algorithms or connect things in new ways, e.g. testing preconditioned geometry optimizer [[Packwood2016](http://aip.scitation.org/doi/full/10.1063/1.4947024)]"
   ]
  },
  {
   "cell_type": "code",
   "execution_count": 37,
   "metadata": {
    "scrolled": true
   },
   "outputs": [
    {
     "name": "stdout",
     "output_type": "stream",
     "text": [
      "PreconLBFGS:   0  15:46:42    -1351.292226       0.3984\n",
      "PreconLBFGS:   1  15:46:51    -1351.306183       0.0593\n",
      "PreconLBFGS:   2  15:46:54    -1351.306486       0.0182\n"
     ]
    },
    {
     "data": {
      "text/plain": [
       "True"
      ]
     },
     "execution_count": 37,
     "metadata": {},
     "output_type": "execute_result"
    }
   ],
   "source": [
    "from ase.optimize.precon import PreconLBFGS\n",
    "from caspytep.calculator import CasPyTep\n",
    "\n",
    "atoms = a0.copy() # restart from same randomised positions as above\n",
    "atoms.set_calculator(CasPyTep(atoms=atoms))\n",
    "opt = PreconLBFGS(atoms, precon='Exp')\n",
    "opt.run(fmax=0.05)"
   ]
  },
  {
   "cell_type": "markdown",
   "metadata": {
    "slideshow": {
     "slide_type": "slide"
    }
   },
   "source": [
    "# Example 3 -  convergence testing\n",
    "\n",
    "This is an example of using the native CasPyTep interface directly rather than the ASE compatibility layer. We increase the plane wave cutoff energy in steps of 10% until energy changes by less than $10^{-3}$ Hartree. (This isn't necessarily the best way to do convergence testing...)"
   ]
  },
  {
   "cell_type": "code",
   "execution_count": 38,
   "metadata": {},
   "outputs": [],
   "source": [
    "from ase.build import bulk\n",
    "from caspytep.calculator import CasPyTep\n",
    "\n",
    "calc = CasPyTep(atoms=bulk(\"Si\")) # 2-atom Si system\n",
    "\n",
    "energy_tol = 1e-4\n",
    "current_params = caspytep.parameters.get_current_params()\n",
    "current_params.cut_off_energy = 7.0\n",
    "\n",
    "cutoffs = []\n",
    "energy = []"
   ]
  },
  {
   "cell_type": "code",
   "execution_count": 39,
   "metadata": {
    "slideshow": {
     "slide_type": "slide"
    }
   },
   "outputs": [
    {
     "name": "stdout",
     "output_type": "stream",
     "text": [
      "cutoff 7.70 energy -12.42124\n",
      "cutoff 8.47 energy -12.42233\n",
      "cutoff 9.32 energy -12.42250\n",
      "cutoff 10.25 energy -12.42281\n",
      "cutoff 11.27 energy -12.42289\n",
      "converged at cutoff 11.273570000000007\n"
     ]
    }
   ],
   "source": [
    "while True:\n",
    "    caspytep.basis.basis_initialise(current_params.cut_off_energy)\n",
    "    current_params.fine_gmax = (current_params.fine_grid_scale *\n",
    "                                np.sqrt(2.0*current_params.cut_off_energy))\n",
    "    caspytep.ion.ion_real_initialise()\n",
    "    model = caspytep.model.model_state()\n",
    "    model.converged = caspytep.electronic.electronic_minimisation(model)\n",
    "    current_params.cut_off_energy *= 1.1    \n",
    "    print('cutoff %.2f energy %.5f' % (current_params.cut_off_energy, \n",
    "                                       model.total_energy))\n",
    "    cutoffs.append(current_params.cut_off_energy)\n",
    "    energy.append(model.total_energy)    \n",
    "    if len(energy) > 2 and abs(energy[-1] - energy[-2]) < energy_tol:\n",
    "        print('converged at cutoff', cutoffs[-1])\n",
    "        break"
   ]
  },
  {
   "cell_type": "code",
   "execution_count": 40,
   "metadata": {
    "slideshow": {
     "slide_type": "slide"
    }
   },
   "outputs": [
    {
     "data": {
      "image/png": "[encoded data removed]",
      "text/plain": [
       "<Figure size 720x576 with 1 Axes>"
      ]
     },
     "metadata": {
      "needs_background": "light"
     },
     "output_type": "display_data"
    }
   ],
   "source": [
    "from ase.units import Hartree\n",
    "\n",
    "ecut = np.array(cutoffs) * Hartree\n",
    "ediff = np.array(energy) * Hartree\n",
    "ediff -= ediff[-1]\n",
    "plt.plot(ecut, abs(ediff) * 1e3 / caspytep.cell.current_cell.num_ions, 'o-')\n",
    "plt.xlabel('Cutoff / eV')\n",
    "plt.ylabel('Energy Error / meV')\n",
    "plt.axhline(1, linestyle='--');"
   ]
  },
  {
   "cell_type": "markdown",
   "metadata": {
    "slideshow": {
     "slide_type": "skip"
    }
   },
   "source": [
    "# Missing features\n",
    "\n",
    "- Make more example scripts and notebooks, e.g.:\n",
    "    - MD with wavefunction extrapolation\n",
    "    - Introspection and visualisation of wavefunctions/densities *in situ*\n",
    "    - Integrate with your favourite post-processing/analysis tools - e.g. *OptaPyDOS*\n",
    "- Improve Castep re-entrancy to allow multiple models/cells (partially done?)\n",
    "    - e.g. allow `current_cell` to be updated in place without having to call `cell_read()`:\n",
    "    should separate `cell_read()` into `cell_read()` and `cell_initialise()`\n",
    "- Think more about what to reset when configuration changes...\n",
    "    - e.g. symmetry operations may need to be updated when ions move\n",
    "- Experiment with MPI parallelisation and benchmark wrt standard Castep\n",
    "    - `mpirun -np N python script.py` works if CasPyTep compiled with MPI libraries    "
   ]
  },
  {
   "cell_type": "markdown",
   "metadata": {
    "slideshow": {
     "slide_type": "skip"
    }
   },
   "source": [
    "# Over to you...\n",
    "\n",
    "Download the image and have a play with CasPyTep in the practical session.\n",
    "\n",
    "Install [Docker CE](https://www.docker.com/community-edition#/download) (free download) on your Linux/Mac/Windows machine (root access required), then:\n",
    "\n",
    "    gzcat caspytep.tar.gz | docker load\n",
    "    docker run -v ~:/root/host -p 8899:8899 caspytep\n",
    "    \n",
    "Then point your web brower at http://localhost:8899 and browse to **noteboooks > demo.ipynb** to open this notebook.\n",
    "\n",
    "To open a `bash` shell instead:\n",
    "\n",
    "    docker run -v ~:/root/host -it caspytep /bin/bash\n",
    "    $ python\n",
    "    >>> import caspytep"
   ]
  },
  {
   "cell_type": "markdown",
   "metadata": {
    "slideshow": {
     "slide_type": "slide"
    }
   },
   "source": [
    "#  Summary - Benefits of Scripting Interfaces\n",
    "\n",
    "**Primary:**\n",
    " - Automated preparation of input files\n",
    " - Analysis and post-processing\n",
    " - Batch processing\n",
    " \n",
    "**Secondary:**\n",
    " - Expand access to advanced features to less experienced programmers\n",
    " - Simplify top-level programs\n",
    " - Unit and regression testing framework\n",
    " \n",
    "**Longer term benefits:**\n",
    " - Encourages good software engineering in main code - modularity, well defined APIs\n",
    " - Speed up development of new algorithms by using an appropriate mixture of high- and low-level languages\n"
   ]
  },
  {
   "cell_type": "markdown",
   "metadata": {
    "slideshow": {
     "slide_type": "slide"
    }
   },
   "source": [
    "# Conclusions and Outlook\n",
    "\n",
    "- Scripting interfaces can be very useful for automating calculations, or connecting components in new ways\n",
    "- Can give legacy C/Fortran code a new lease of life\n",
    "- Provides interactive environment for testing, debugging, development and visualisation\n",
    "- Appropriate mix of high- and low-level languages maximses overall efficiency\n",
    "- Julia is shaking up this balance a bit"
   ]
  }
 ],
 "metadata": {
  "celltoolbar": "Slideshow",
  "kernelspec": {
   "display_name": "Python 3 (ipykernel)",
   "language": "python",
   "name": "python3"
  },
  "language_info": {
   "codemirror_mode": {
    "name": "ipython",
    "version": 3
   },
   "file_extension": ".py",
   "mimetype": "text/x-python",
   "name": "python",
   "nbconvert_exporter": "python",
   "pygments_lexer": "ipython3",
   "version": "3.8.6"
  }
 },
 "nbformat": 4,
 "nbformat_minor": 1
}
