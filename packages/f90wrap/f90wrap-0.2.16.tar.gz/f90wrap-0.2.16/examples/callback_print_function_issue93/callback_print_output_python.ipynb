{
 "cells": [
  {
   "cell_type": "markdown",
   "metadata": {},
   "source": [
    "## Setting a callback message to trap print output\n",
    "\n",
    "`print *` statements in Fortran do print to the Python console stdandard output, but there is no satisfactory way to do the same with Jupyter notebooks (so far as I know). \n",
    "\n",
    "This document illustrates how to do so once you've built generated the module with `make`, purposely illustrating a workaround apparently needed to get the callback working. \n"
   ]
  },
  {
   "cell_type": "code",
   "execution_count": 1,
   "metadata": {},
   "outputs": [],
   "source": [
    "import CBF"
   ]
  },
  {
   "cell_type": "markdown",
   "metadata": {},
   "source": [
    "A function `test_write_msg` should trigger a call back to a python function; as we have not registered the callback the following call **as expected fails**:  "
   ]
  },
  {
   "cell_type": "code",
   "execution_count": 2,
   "metadata": {},
   "outputs": [
    {
     "ename": "error",
     "evalue": "cb: Callback pyfunc_print not defined (as an argument or module _CBF attribute).\n",
     "output_type": "error",
     "traceback": [
      "\u001b[0;31m---------------------------------------------------------------------------\u001b[0m",
      "\u001b[0;31merror\u001b[0m                                     Traceback (most recent call last)",
      "\u001b[0;32m<ipython-input-2-250d0d572965>\u001b[0m in \u001b[0;36m<module>\u001b[0;34m\u001b[0m\n\u001b[0;32m----> 1\u001b[0;31m \u001b[0mCBF\u001b[0m\u001b[0;34m.\u001b[0m\u001b[0mcaller\u001b[0m\u001b[0;34m.\u001b[0m\u001b[0mtest_write_msg\u001b[0m\u001b[0;34m(\u001b[0m\u001b[0;34m)\u001b[0m\u001b[0;34m\u001b[0m\u001b[0;34m\u001b[0m\u001b[0m\n\u001b[0m",
      "\u001b[0;32m~/src/github/f90wrap/examples/callback_print_function_issue93/CBF.py\u001b[0m in \u001b[0;36mtest_write_msg\u001b[0;34m()\u001b[0m\n\u001b[1;32m     50\u001b[0m \u001b[0;34m\u001b[0m\u001b[0m\n\u001b[1;32m     51\u001b[0m         \"\"\"\n\u001b[0;32m---> 52\u001b[0;31m         \u001b[0m_CBF\u001b[0m\u001b[0;34m.\u001b[0m\u001b[0mf90wrap_test_write_msg\u001b[0m\u001b[0;34m(\u001b[0m\u001b[0;34m)\u001b[0m\u001b[0;34m\u001b[0m\u001b[0;34m\u001b[0m\u001b[0m\n\u001b[0m\u001b[1;32m     53\u001b[0m \u001b[0;34m\u001b[0m\u001b[0m\n\u001b[1;32m     54\u001b[0m     \u001b[0;34m@\u001b[0m\u001b[0mstaticmethod\u001b[0m\u001b[0;34m\u001b[0m\u001b[0;34m\u001b[0m\u001b[0m\n",
      "\u001b[0;31merror\u001b[0m: cb: Callback pyfunc_print not defined (as an argument or module _CBF attribute).\n"
     ]
    }
   ],
   "source": [
    "CBF.caller.test_write_msg()"
   ]
  },
  {
   "cell_type": "markdown",
   "metadata": {},
   "source": [
    "We need to register the callback as follows. Admitedly low-level, to illustrate the mechanism."
   ]
  },
  {
   "cell_type": "code",
   "execution_count": 3,
   "metadata": {},
   "outputs": [],
   "source": [
    "def f(msg): \n",
    "    print(\"Yo! \" + msg)\n",
    "CBF._CBF.pyfunc_print = f\n",
    "\n",
    "# We need to prime the callback with a call \"under the hood\", not sure why."
   ]
  },
  {
   "cell_type": "markdown",
   "metadata": {},
   "source": [
    "The following call should then work, but for unknown reasons does not without another prepping."
   ]
  },
  {
   "cell_type": "code",
   "execution_count": 4,
   "metadata": {},
   "outputs": [
    {
     "ename": "TypeError",
     "evalue": "f() missing 1 required positional argument: 'msg'",
     "output_type": "error",
     "traceback": [
      "\u001b[0;31m---------------------------------------------------------------------------\u001b[0m",
      "\u001b[0;31mTypeError\u001b[0m                                 Traceback (most recent call last)",
      "\u001b[0;32m<ipython-input-4-250d0d572965>\u001b[0m in \u001b[0;36m<module>\u001b[0;34m\u001b[0m\n\u001b[0;32m----> 1\u001b[0;31m \u001b[0mCBF\u001b[0m\u001b[0;34m.\u001b[0m\u001b[0mcaller\u001b[0m\u001b[0;34m.\u001b[0m\u001b[0mtest_write_msg\u001b[0m\u001b[0;34m(\u001b[0m\u001b[0;34m)\u001b[0m\u001b[0;34m\u001b[0m\u001b[0;34m\u001b[0m\u001b[0m\n\u001b[0m",
      "\u001b[0;32m~/src/github/f90wrap/examples/callback_print_function_issue93/CBF.py\u001b[0m in \u001b[0;36mtest_write_msg\u001b[0;34m()\u001b[0m\n\u001b[1;32m     50\u001b[0m \u001b[0;34m\u001b[0m\u001b[0m\n\u001b[1;32m     51\u001b[0m         \"\"\"\n\u001b[0;32m---> 52\u001b[0;31m         \u001b[0m_CBF\u001b[0m\u001b[0;34m.\u001b[0m\u001b[0mf90wrap_test_write_msg\u001b[0m\u001b[0;34m(\u001b[0m\u001b[0;34m)\u001b[0m\u001b[0;34m\u001b[0m\u001b[0;34m\u001b[0m\u001b[0m\n\u001b[0m\u001b[1;32m     53\u001b[0m \u001b[0;34m\u001b[0m\u001b[0m\n\u001b[1;32m     54\u001b[0m     \u001b[0;34m@\u001b[0m\u001b[0mstaticmethod\u001b[0m\u001b[0;34m\u001b[0m\u001b[0;34m\u001b[0m\u001b[0m\n",
      "\u001b[0;31mTypeError\u001b[0m: f() missing 1 required positional argument: 'msg'"
     ]
    }
   ],
   "source": [
    "CBF.caller.test_write_msg()"
   ]
  },
  {
   "cell_type": "markdown",
   "metadata": {},
   "source": [
    "For unknown reasons, I found that I needed to trigger the call to the function `write_message` normally not meant to be called directly"
   ]
  },
  {
   "cell_type": "code",
   "execution_count": 5,
   "metadata": {},
   "outputs": [
    {
     "name": "stdout",
     "output_type": "stream",
     "text": [
      "write_message(msg)\n",
      "\n",
      "Wrapper for ``write_message``.\n",
      "\n",
      "Parameters\n",
      "----------\n",
      "msg : input string(len=-1)\n",
      "\n",
      "Notes\n",
      "-----\n",
      "Call-back functions::\n",
      "\n",
      "  def pyfunc_print(msg): return \n",
      "  Required arguments:\n",
      "    msg : input string(len=-1)\n",
      "\n"
     ]
    }
   ],
   "source": [
    "print(CBF._CBF.cback.write_message.__doc__)"
   ]
  },
  {
   "cell_type": "code",
   "execution_count": 11,
   "metadata": {},
   "outputs": [
    {
     "name": "stdout",
     "output_type": "stream",
     "text": [
      "Yo! blah\n"
     ]
    }
   ],
   "source": [
    "CBF._CBF.cback.write_message('blah')"
   ]
  },
  {
   "cell_type": "markdown",
   "metadata": {},
   "source": [
    "Subsequently other calls to higher level functions then work."
   ]
  },
  {
   "cell_type": "code",
   "execution_count": 12,
   "metadata": {},
   "outputs": [
    {
     "name": "stdout",
     "output_type": "stream",
     "text": [
      "Yo! from test_write_msg\n"
     ]
    }
   ],
   "source": [
    "CBF.caller.test_write_msg()"
   ]
  },
  {
   "cell_type": "code",
   "execution_count": 13,
   "metadata": {},
   "outputs": [
    {
     "name": "stdout",
     "output_type": "stream",
     "text": [
      "Yo! from test_write_msg\n"
     ]
    }
   ],
   "source": [
    "CBF.caller.test_write_msg()"
   ]
  },
  {
   "cell_type": "code",
   "execution_count": 14,
   "metadata": {},
   "outputs": [
    {
     "name": "stdout",
     "output_type": "stream",
     "text": [
      "Yo! from test_write_msg_2\n"
     ]
    }
   ],
   "source": [
    "CBF.caller.test_write_msg_2()"
   ]
  },
  {
   "cell_type": "code",
   "execution_count": 15,
   "metadata": {},
   "outputs": [
    {
     "name": "stdout",
     "output_type": "stream",
     "text": [
      "Yo! from test_write_msg\n"
     ]
    }
   ],
   "source": [
    "CBF.caller.test_write_msg()"
   ]
  },
  {
   "cell_type": "code",
   "execution_count": null,
   "metadata": {},
   "outputs": [],
   "source": []
  }
 ],
 "metadata": {
  "kernelspec": {
   "display_name": "Py3 (DCX)",
   "language": "python",
   "name": "dcx"
  },
  "language_info": {
   "codemirror_mode": {
    "name": "ipython",
    "version": 3
   },
   "file_extension": ".py",
   "mimetype": "text/x-python",
   "name": "python",
   "nbconvert_exporter": "python",
   "pygments_lexer": "ipython3",
   "version": "3.7.3"
  }
 },
 "nbformat": 4,
 "nbformat_minor": 4
}
