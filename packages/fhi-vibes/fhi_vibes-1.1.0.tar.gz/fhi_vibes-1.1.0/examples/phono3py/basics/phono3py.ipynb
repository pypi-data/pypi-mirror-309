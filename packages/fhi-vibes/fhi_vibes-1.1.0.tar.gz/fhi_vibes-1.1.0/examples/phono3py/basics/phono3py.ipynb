{
 "cells": [
  {
   "cell_type": "code",
   "execution_count": null,
   "metadata": {},
   "outputs": [],
   "source": [
    "import numpy as np\n",
    "from ase.build import bulk\n",
    "from ase.calculators.emt import EMT\n",
    "from phono3py import Phono3py\n",
    "\n",
    "from vibes.structure.convert import to_phonopy_atoms, to_Atoms"
   ]
  },
  {
   "cell_type": "code",
   "execution_count": null,
   "metadata": {},
   "outputs": [],
   "source": [
    "atoms = bulk('Al', cubic=True)\n",
    "\n",
    "smatrix = np.diag([2, 2, 2])\n",
    "q_mesh = 3 * [5, ]"
   ]
  },
  {
   "cell_type": "code",
   "execution_count": null,
   "metadata": {},
   "outputs": [],
   "source": [
    "calc = EMT()"
   ]
  },
  {
   "cell_type": "code",
   "execution_count": null,
   "metadata": {},
   "outputs": [],
   "source": [
    "phonon3 = Phono3py(\n",
    "    to_phonopy_atoms(atoms), supercell_matrix=smatrix, log_level=2\n",
    ")"
   ]
  },
  {
   "cell_type": "code",
   "execution_count": null,
   "metadata": {},
   "outputs": [],
   "source": [
    "phonon3.generate_displacements(cutoff_pair_distance=5)"
   ]
  },
  {
   "cell_type": "code",
   "execution_count": null,
   "metadata": {},
   "outputs": [],
   "source": [
    "primitive = to_Atoms(phonon3.primitive)\n",
    "supercell = to_Atoms(phonon3.supercell)\n",
    "\n",
    "primitive"
   ]
  },
  {
   "cell_type": "code",
   "execution_count": null,
   "metadata": {},
   "outputs": [],
   "source": [
    "scs = phonon3.supercells_with_displacements"
   ]
  },
  {
   "cell_type": "code",
   "execution_count": null,
   "metadata": {},
   "outputs": [],
   "source": [
    "force_sets = []\n",
    "for pa in scs:\n",
    "    if pa is None:\n",
    "        force_sets.append(np.zeros([len(supercell), 3]))\n",
    "        continue\n",
    "    a = to_Atoms(pa)\n",
    "    a.calc = EMT()\n",
    "    force_sets.append(a.get_forces())"
   ]
  },
  {
   "cell_type": "code",
   "execution_count": null,
   "metadata": {},
   "outputs": [],
   "source": [
    "phonon3.forces = np.array(force_sets)"
   ]
  },
  {
   "cell_type": "code",
   "execution_count": null,
   "metadata": {},
   "outputs": [],
   "source": [
    "phonon3.produce_fc2()\n",
    "phonon3.produce_fc3()"
   ]
  },
  {
   "cell_type": "code",
   "execution_count": null,
   "metadata": {},
   "outputs": [],
   "source": [
    "phonon3.mesh_numbers = [6, 6, 6]\n",
    "phonon3.init_phph_interaction()\n",
    "phonon3.run_thermal_conductivity(write_kappa=True)"
   ]
  },
  {
   "cell_type": "code",
   "execution_count": null,
   "metadata": {},
   "outputs": [],
   "source": []
  }
 ],
 "metadata": {
  "kernelspec": {
   "display_name": "Python 3 (ipykernel)",
   "language": "python",
   "name": "python3"
  },
  "language_info": {
   "codemirror_mode": {
    "name": "ipython",
    "version": 3
   },
   "file_extension": ".py",
   "mimetype": "text/x-python",
   "name": "python",
   "nbconvert_exporter": "python",
   "pygments_lexer": "ipython3",
   "version": "3.10.0"
  }
 },
 "nbformat": 4,
 "nbformat_minor": 4
}
