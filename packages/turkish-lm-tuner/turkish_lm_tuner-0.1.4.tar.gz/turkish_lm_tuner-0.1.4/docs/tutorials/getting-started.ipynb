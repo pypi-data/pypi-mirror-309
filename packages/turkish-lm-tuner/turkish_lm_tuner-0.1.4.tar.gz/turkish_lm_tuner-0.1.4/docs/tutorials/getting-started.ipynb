{
 "cells": [
  {
   "cell_type": "markdown",
   "metadata": {},
   "source": [
    "# Getting-Started\n",
    "\n",
    "`turkish-lm-tuner` simplifies the process of finetuning and evaluating transformer language models on various NLP tasks, with a special focus on Turkish language datasets. It is built on top of the [transformers](https://github.com/huggingface/transformers/) and supports both encoder and encoder-decoder models.\n",
    "\n",
    "\n",
    "## Key Features\n",
    "- **Support for Multiple Tasks:** Includes wrappers for tasks like summarization, text classification, and more.\n",
    "- **Easy Dataset Import and Processing:** Utilities for importing and preprocessing datasets tailored for specific NLP tasks.\n",
    "- **Simple Model Finetuning:** Streamlined finetuning of models with customizable parameters.\n",
    "- **Comprehensive Evaluation Metrics:** Offers a wide range of metrics for different tasks, making evaluation straightforward.\n",
    "\n",
    "## Installation \n",
    "\n",
    "`turkish-lm-tuner` can be installed as follows:\n",
    "\n",
    "```bash\n",
    "pip install turkish-lm-tuner\n",
    "```\n",
    "\n"
   ]
  },
  {
   "cell_type": "markdown",
   "metadata": {},
   "source": [
    "## Finetuning\n",
    "### Example: Finetuning TURNA on TR News Dataset\n",
    "\n",
    "####  Importing and Processing the Dataset\n",
    "\n",
    "\n",
    "```python\n",
    "from turkish_lm_tuner import DatasetProcessor\n",
    "\n",
    "# Define parameters\n",
    "dataset_name = \"tr_news\"\n",
    "task = \"summarization\"\n",
    "task_format = \"conditional_generation\"\n",
    "model_name = \"boun-tabi-LMG/TURNA\"\n",
    "max_input_length = 764\n",
    "max_target_length = 128\n",
    "\n",
    "# Initialize and process dataset\n",
    "dataset_processor = DatasetProcessor(dataset_name, task, task_format, '', model_name, max_input_length, max_target_length)\n",
    "train_dataset = dataset_processor.load_and_preprocess_data('train')\n",
    "eval_dataset = dataset_processor.load_and_preprocess_data('validation')\n",
    "```"
   ]
  },
  {
   "cell_type": "markdown",
   "metadata": {},
   "source": [
    "#### Setting up Training Parameters and Finetuning\n",
    "\n",
    "```python\n",
    "from turkish_lm_tuner import TrainerForConditionalGeneration\n",
    "\n",
    "# Define training and optimizer parameters\n",
    "training_params = {\n",
    "    'num_train_epochs': 10,\n",
    "    'per_device_train_batch_size': 4,\n",
    "    'per_device_eval_batch_size': 4,\n",
    "    'output_dir': './',\n",
    "    'evaluation_strategy': 'epoch',\n",
    "    'save_strategy': 'epoch',\n",
    "    'predict_with_generate': True\n",
    "}\n",
    "optimizer_params = {\n",
    "    'optimizer_type': 'adafactor',\n",
    "    'scheduler': False\n",
    "}\n",
    "model_save_path = \"turna_summarization_tr_news\"\n",
    "\n",
    "# Finetuning the model\n",
    "model_trainer = TrainerForConditionalGeneration(model_name, task, training_params, optimizer_params, model_save_path, max_input_length, max_target_length, dataset_processor.dataset.postprocess_data)\n",
    "trainer, model = model_trainer.train_and_evaluate(train_dataset, eval_dataset, None)\n",
    "\n",
    "# Save the model\n",
    "model.save_pretrained(model_save_path)\n",
    "dataset_processor.tokenizer.save_pretrained(model_save_path)\n",
    "```\n"
   ]
  },
  {
   "cell_type": "markdown",
   "metadata": {},
   "source": [
    "## Evaluation\n",
    "\n",
    "### Example: Using Evaluator for the Summarization Task\n",
    "\n",
    "#### Importing Task-Specific Metrics\n",
    "\n",
    "```python\n",
    "from turkish_lm_tuner import Evaluator\n",
    "\n",
    "# Initialize evaluator for summarization task\n",
    "eval = Evaluator(task='summarization')\n",
    "```\n",
    "\n",
    "#### Computing Metrics\n",
    "\n",
    "```python\n",
    "# Example predictions and labels\n",
    "preds = [generated_summary1, generated_summary2]\n",
    "labels = [true_summary1, true_summary2]\n",
    "\n",
    "# Compute metrics\n",
    "results = eval.compute_metrics(preds, labels)\n",
    "```"
   ]
  },
  {
   "cell_type": "markdown",
   "metadata": {},
   "source": [
    "## Contributing\n",
    "We welcome contributions to turkish-lm-tuner! Whether it's improving documentation, adding new features, or reporting issues, your input is valuable."
   ]
  }
 ],
 "metadata": {
  "language_info": {
   "name": "python"
  }
 },
 "nbformat": 4,
 "nbformat_minor": 2
}
