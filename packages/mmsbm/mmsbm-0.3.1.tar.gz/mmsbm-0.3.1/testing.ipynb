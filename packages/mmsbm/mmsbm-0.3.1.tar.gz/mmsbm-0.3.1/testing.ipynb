{
 "cells": [
  {
   "cell_type": "code",
   "id": "initial_id",
   "metadata": {
    "collapsed": true,
    "ExecuteTime": {
     "end_time": "2024-11-17T09:26:44.072713Z",
     "start_time": "2024-11-17T09:26:43.703352Z"
    }
   },
   "source": [
    "import time\n",
    "\n",
    "from src.mmsbm import MMSBM\n",
    "from tests.test_mmsbm import mock_data"
   ],
   "outputs": [],
   "execution_count": 1
  },
  {
   "metadata": {
    "ExecuteTime": {
     "end_time": "2024-11-17T09:26:44.426701Z",
     "start_time": "2024-11-17T09:26:44.075764Z"
    }
   },
   "cell_type": "code",
   "source": "data = mock_data(1, 10000)",
   "id": "2bfe731eff8d4f3",
   "outputs": [],
   "execution_count": 2
  },
  {
   "metadata": {
    "ExecuteTime": {
     "end_time": "2024-11-17T09:26:44.503384Z",
     "start_time": "2024-11-17T09:26:44.501084Z"
    }
   },
   "cell_type": "code",
   "source": "mmsbm = MMSBM(3, 2, seed=1)",
   "id": "34f47f479b5676",
   "outputs": [],
   "execution_count": 3
  },
  {
   "metadata": {
    "ExecuteTime": {
     "end_time": "2024-11-17T09:26:45.704196Z",
     "start_time": "2024-11-17T09:26:44.547257Z"
    }
   },
   "cell_type": "code",
   "source": [
    "# time fitting\n",
    "start_time = time.time()\n",
    "mmsbm.fit(data)\n",
    "print(f\"--- {time.time() - start_time} seconds ---\")"
   ],
   "id": "fb10d12b5156cd2e",
   "outputs": [
    {
     "name": "stderr",
     "output_type": "stream",
     "text": [
      "2024-11-17 10:26:44,548 INFO Running 1 runs of 400 iterations.\n"
     ]
    },
    {
     "name": "stdout",
     "output_type": "stream",
     "text": [
      "--- 1.154407024383545 seconds ---\n"
     ]
    }
   ],
   "execution_count": 4
  },
  {
   "metadata": {
    "ExecuteTime": {
     "end_time": "2024-08-02T12:03:51.568741Z",
     "start_time": "2024-08-02T12:03:51.547713Z"
    }
   },
   "cell_type": "code",
   "source": "pred_matrix = mmsbm.predict(data)",
   "id": "c41e304debdbd398",
   "outputs": [],
   "execution_count": 5
  },
  {
   "metadata": {
    "ExecuteTime": {
     "end_time": "2024-08-02T12:03:51.579846Z",
     "start_time": "2024-08-02T12:03:51.569718Z"
    }
   },
   "cell_type": "code",
   "source": "results = mmsbm.score()",
   "id": "ec7d0300bca8868e",
   "outputs": [
    {
     "name": "stderr",
     "output_type": "stream",
     "text": [
      "INFO:MMSBM:The final accuracy is 0.26, the one off accuracy is 0.569 and the MAE is 0.783.\n"
     ]
    }
   ],
   "execution_count": 6
  },
  {
   "metadata": {
    "ExecuteTime": {
     "end_time": "2024-08-02T10:37:17.115992Z",
     "start_time": "2024-08-02T10:37:17.105759Z"
    }
   },
   "cell_type": "code",
   "source": "results[\"objects\"][\"theta\"]",
   "id": "c8a3b32e8c33e80c",
   "outputs": [
    {
     "data": {
      "text/plain": [
       "              0         1         2\n",
       "user0  0.141102  0.525741  0.333157\n",
       "user1  0.235401  0.022382  0.742217\n",
       "user2  0.530561  0.352666  0.116773\n",
       "user3  0.118828  0.659936  0.221236\n",
       "user4  0.856264  0.016379  0.127357"
      ],
      "text/html": [
       "<div>\n",
       "<style scoped>\n",
       "    .dataframe tbody tr th:only-of-type {\n",
       "        vertical-align: middle;\n",
       "    }\n",
       "\n",
       "    .dataframe tbody tr th {\n",
       "        vertical-align: top;\n",
       "    }\n",
       "\n",
       "    .dataframe thead th {\n",
       "        text-align: right;\n",
       "    }\n",
       "</style>\n",
       "<table border=\"1\" class=\"dataframe\">\n",
       "  <thead>\n",
       "    <tr style=\"text-align: right;\">\n",
       "      <th></th>\n",
       "      <th>0</th>\n",
       "      <th>1</th>\n",
       "      <th>2</th>\n",
       "    </tr>\n",
       "  </thead>\n",
       "  <tbody>\n",
       "    <tr>\n",
       "      <th>user0</th>\n",
       "      <td>0.141102</td>\n",
       "      <td>0.525741</td>\n",
       "      <td>0.333157</td>\n",
       "    </tr>\n",
       "    <tr>\n",
       "      <th>user1</th>\n",
       "      <td>0.235401</td>\n",
       "      <td>0.022382</td>\n",
       "      <td>0.742217</td>\n",
       "    </tr>\n",
       "    <tr>\n",
       "      <th>user2</th>\n",
       "      <td>0.530561</td>\n",
       "      <td>0.352666</td>\n",
       "      <td>0.116773</td>\n",
       "    </tr>\n",
       "    <tr>\n",
       "      <th>user3</th>\n",
       "      <td>0.118828</td>\n",
       "      <td>0.659936</td>\n",
       "      <td>0.221236</td>\n",
       "    </tr>\n",
       "    <tr>\n",
       "      <th>user4</th>\n",
       "      <td>0.856264</td>\n",
       "      <td>0.016379</td>\n",
       "      <td>0.127357</td>\n",
       "    </tr>\n",
       "  </tbody>\n",
       "</table>\n",
       "</div>"
      ]
     },
     "execution_count": 9,
     "metadata": {},
     "output_type": "execute_result"
    }
   ],
   "execution_count": 9
  },
  {
   "metadata": {
    "ExecuteTime": {
     "end_time": "2024-08-02T10:38:28.893358Z",
     "start_time": "2024-08-02T10:38:28.887690Z"
    }
   },
   "cell_type": "code",
   "source": "results[\"objects\"][\"eta\"]",
   "id": "98053f6b46a28a5b",
   "outputs": [
    {
     "data": {
      "text/plain": [
       "              0         1\n",
       "item0  0.245837  0.754163\n",
       "item1  0.735376  0.264624\n",
       "item2  0.372228  0.627772\n",
       "item3  0.163602  0.836398\n",
       "item4  0.018591  0.981409\n",
       "item5  0.830409  0.169591\n",
       "item6  0.759667  0.240333\n",
       "item7  0.685834  0.314166\n",
       "item8  0.034417  0.965583\n",
       "item9  0.421670  0.578330"
      ],
      "text/html": [
       "<div>\n",
       "<style scoped>\n",
       "    .dataframe tbody tr th:only-of-type {\n",
       "        vertical-align: middle;\n",
       "    }\n",
       "\n",
       "    .dataframe tbody tr th {\n",
       "        vertical-align: top;\n",
       "    }\n",
       "\n",
       "    .dataframe thead th {\n",
       "        text-align: right;\n",
       "    }\n",
       "</style>\n",
       "<table border=\"1\" class=\"dataframe\">\n",
       "  <thead>\n",
       "    <tr style=\"text-align: right;\">\n",
       "      <th></th>\n",
       "      <th>0</th>\n",
       "      <th>1</th>\n",
       "    </tr>\n",
       "  </thead>\n",
       "  <tbody>\n",
       "    <tr>\n",
       "      <th>item0</th>\n",
       "      <td>0.245837</td>\n",
       "      <td>0.754163</td>\n",
       "    </tr>\n",
       "    <tr>\n",
       "      <th>item1</th>\n",
       "      <td>0.735376</td>\n",
       "      <td>0.264624</td>\n",
       "    </tr>\n",
       "    <tr>\n",
       "      <th>item2</th>\n",
       "      <td>0.372228</td>\n",
       "      <td>0.627772</td>\n",
       "    </tr>\n",
       "    <tr>\n",
       "      <th>item3</th>\n",
       "      <td>0.163602</td>\n",
       "      <td>0.836398</td>\n",
       "    </tr>\n",
       "    <tr>\n",
       "      <th>item4</th>\n",
       "      <td>0.018591</td>\n",
       "      <td>0.981409</td>\n",
       "    </tr>\n",
       "    <tr>\n",
       "      <th>item5</th>\n",
       "      <td>0.830409</td>\n",
       "      <td>0.169591</td>\n",
       "    </tr>\n",
       "    <tr>\n",
       "      <th>item6</th>\n",
       "      <td>0.759667</td>\n",
       "      <td>0.240333</td>\n",
       "    </tr>\n",
       "    <tr>\n",
       "      <th>item7</th>\n",
       "      <td>0.685834</td>\n",
       "      <td>0.314166</td>\n",
       "    </tr>\n",
       "    <tr>\n",
       "      <th>item8</th>\n",
       "      <td>0.034417</td>\n",
       "      <td>0.965583</td>\n",
       "    </tr>\n",
       "    <tr>\n",
       "      <th>item9</th>\n",
       "      <td>0.421670</td>\n",
       "      <td>0.578330</td>\n",
       "    </tr>\n",
       "  </tbody>\n",
       "</table>\n",
       "</div>"
      ]
     },
     "execution_count": 10,
     "metadata": {},
     "output_type": "execute_result"
    }
   ],
   "execution_count": 10
  },
  {
   "metadata": {
    "ExecuteTime": {
     "end_time": "2024-08-02T10:39:13.481919Z",
     "start_time": "2024-08-02T10:39:13.476089Z"
    }
   },
   "cell_type": "code",
   "source": "results[\"objects\"][\"pr\"][\"1\"]",
   "id": "9636ec18aac1fcff",
   "outputs": [
    {
     "data": {
      "text/plain": [
       "          0         1\n",
       "0  0.002794  0.376871\n",
       "1  0.152942  0.214888\n",
       "2  0.426385  0.041261"
      ],
      "text/html": [
       "<div>\n",
       "<style scoped>\n",
       "    .dataframe tbody tr th:only-of-type {\n",
       "        vertical-align: middle;\n",
       "    }\n",
       "\n",
       "    .dataframe tbody tr th {\n",
       "        vertical-align: top;\n",
       "    }\n",
       "\n",
       "    .dataframe thead th {\n",
       "        text-align: right;\n",
       "    }\n",
       "</style>\n",
       "<table border=\"1\" class=\"dataframe\">\n",
       "  <thead>\n",
       "    <tr style=\"text-align: right;\">\n",
       "      <th></th>\n",
       "      <th>0</th>\n",
       "      <th>1</th>\n",
       "    </tr>\n",
       "  </thead>\n",
       "  <tbody>\n",
       "    <tr>\n",
       "      <th>0</th>\n",
       "      <td>0.002794</td>\n",
       "      <td>0.376871</td>\n",
       "    </tr>\n",
       "    <tr>\n",
       "      <th>1</th>\n",
       "      <td>0.152942</td>\n",
       "      <td>0.214888</td>\n",
       "    </tr>\n",
       "    <tr>\n",
       "      <th>2</th>\n",
       "      <td>0.426385</td>\n",
       "      <td>0.041261</td>\n",
       "    </tr>\n",
       "  </tbody>\n",
       "</table>\n",
       "</div>"
      ]
     },
     "execution_count": 13,
     "metadata": {},
     "output_type": "execute_result"
    }
   ],
   "execution_count": 13
  },
  {
   "metadata": {},
   "cell_type": "code",
   "outputs": [],
   "execution_count": null,
   "source": "",
   "id": "62f2282adc2cb8db"
  }
 ],
 "metadata": {
  "kernelspec": {
   "display_name": "Python 3",
   "language": "python",
   "name": "python3"
  },
  "language_info": {
   "codemirror_mode": {
    "name": "ipython",
    "version": 2
   },
   "file_extension": ".py",
   "mimetype": "text/x-python",
   "name": "python",
   "nbconvert_exporter": "python",
   "pygments_lexer": "ipython2",
   "version": "2.7.6"
  }
 },
 "nbformat": 4,
 "nbformat_minor": 5
}
