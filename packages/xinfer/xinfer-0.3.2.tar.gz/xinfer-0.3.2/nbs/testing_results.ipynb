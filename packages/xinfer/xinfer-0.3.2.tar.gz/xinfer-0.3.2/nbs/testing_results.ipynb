{
 "cells": [
  {
   "cell_type": "code",
   "execution_count": 1,
   "metadata": {},
   "outputs": [
    {
     "name": "stderr",
     "output_type": "stream",
     "text": [
      "\u001b[32m2024-11-09 12:51:23.973\u001b[0m | \u001b[1mINFO    \u001b[0m | \u001b[36mxinfer.models\u001b[0m:\u001b[36m__init__\u001b[0m:\u001b[36m63\u001b[0m - \u001b[1mModel: ultralytics/yolov8s-pose\u001b[0m\n",
      "\u001b[32m2024-11-09 12:51:23.974\u001b[0m | \u001b[1mINFO    \u001b[0m | \u001b[36mxinfer.models\u001b[0m:\u001b[36m__init__\u001b[0m:\u001b[36m64\u001b[0m - \u001b[1mDevice: cuda\u001b[0m\n",
      "\u001b[32m2024-11-09 12:51:23.974\u001b[0m | \u001b[1mINFO    \u001b[0m | \u001b[36mxinfer.models\u001b[0m:\u001b[36m__init__\u001b[0m:\u001b[36m65\u001b[0m - \u001b[1mDtype: bfloat16\u001b[0m\n"
     ]
    }
   ],
   "source": [
    "import xinfer\n",
    "model = xinfer.create_model(\"ultralytics/yolov8s-pose\", device=\"cuda\", dtype=\"bfloat16\")"
   ]
  },
  {
   "cell_type": "code",
   "execution_count": 2,
   "metadata": {},
   "outputs": [
    {
     "name": "stdout",
     "output_type": "stream",
     "text": [
      "\n",
      "0: 448x640 2 persons, 59.6ms\n",
      "Speed: 1.7ms preprocess, 59.6ms inference, 70.8ms postprocess per image at shape (1, 3, 448, 640)\n"
     ]
    },
    {
     "data": {
      "text/plain": [
       "Result(categories=None, boxes=None, masks=None, poses=[Pose(keypoints=[[[311.5546875, 58.605472564697266], [316.828125, 51.5390625], [307.546875, 53.4375], [336.234375, 51.22265625], [0.0, 0.0], [371.25, 87.3984375], [314.0859375, 97.1015625], [394.03125, 140.87109375], [307.3359375, 154.16015625], [398.25, 189.80859375], [286.453125, 135.703125], [371.25, 175.78125], [338.1328125, 173.14453125], [326.7421875, 214.8046875], [296.3671875, 200.25], [294.890625, 291.375], [315.984375, 281.671875]]], scores=[[0.98388671875, 0.96630859375, 0.8232421875, 0.88232421875, 0.254150390625, 0.99560546875, 0.99609375, 0.9755859375, 0.97998046875, 0.9716796875, 0.97265625, 0.998046875, 0.998046875, 0.99755859375, 0.99755859375, 0.984375, 0.986328125]], labels=['Nose', 'Left Eye', 'Right Eye', 'Left Ear', 'Right Ear', 'Left Shoulder', 'Right Shoulder', 'Left Elbow', 'Right Elbow', 'Left Wrist', 'Right Wrist', 'Left Hip', 'Right Hip', 'Left Knee', 'Right Knee', 'Left Ankle', 'Right Ankle']), Pose(keypoints=[[[218.109375, 56.812503814697266], [217.6875, 50.6953125], [210.7265625, 51.1171875], [0.0, 0.0], [190.79296875, 55.652347564697266], [227.8125, 96.99609375], [158.51953125, 96.78515625], [234.140625, 143.71875], [157.5703125, 148.5703125], [228.4453125, 165.0234375], [195.64453125, 166.2890625], [215.26171875, 174.41015625], [170.96484375, 176.8359375], [251.6484375, 202.78125], [189.0, 197.296875], [213.2578125, 283.1484375], [221.484375, 284.625]]], scores=[[0.97021484375, 0.6279296875, 0.95654296875, 0.158447265625, 0.94970703125, 0.99267578125, 0.9990234375, 0.9638671875, 0.99853515625, 0.96533203125, 0.99755859375, 0.9990234375, 0.99951171875, 0.99755859375, 0.9990234375, 0.984375, 0.99169921875]], labels=['Nose', 'Left Eye', 'Right Eye', 'Left Ear', 'Right Ear', 'Left Shoulder', 'Right Shoulder', 'Left Elbow', 'Right Elbow', 'Left Wrist', 'Right Wrist', 'Left Hip', 'Right Hip', 'Left Knee', 'Right Knee', 'Left Ankle', 'Right Ankle'])], text=None)"
      ]
     },
     "execution_count": 2,
     "metadata": {},
     "output_type": "execute_result"
    }
   ],
   "source": [
    "result = model.infer(\"/home/dnth/Downloads/two.jpg\")\n",
    "result"
   ]
  },
  {
   "cell_type": "code",
   "execution_count": 3,
   "metadata": {},
   "outputs": [
    {
     "data": {
      "text/plain": [
       "[Pose(keypoints=[[[311.5546875, 58.605472564697266], [316.828125, 51.5390625], [307.546875, 53.4375], [336.234375, 51.22265625], [0.0, 0.0], [371.25, 87.3984375], [314.0859375, 97.1015625], [394.03125, 140.87109375], [307.3359375, 154.16015625], [398.25, 189.80859375], [286.453125, 135.703125], [371.25, 175.78125], [338.1328125, 173.14453125], [326.7421875, 214.8046875], [296.3671875, 200.25], [294.890625, 291.375], [315.984375, 281.671875]]], scores=[[0.98388671875, 0.96630859375, 0.8232421875, 0.88232421875, 0.254150390625, 0.99560546875, 0.99609375, 0.9755859375, 0.97998046875, 0.9716796875, 0.97265625, 0.998046875, 0.998046875, 0.99755859375, 0.99755859375, 0.984375, 0.986328125]], labels=['Nose', 'Left Eye', 'Right Eye', 'Left Ear', 'Right Ear', 'Left Shoulder', 'Right Shoulder', 'Left Elbow', 'Right Elbow', 'Left Wrist', 'Right Wrist', 'Left Hip', 'Right Hip', 'Left Knee', 'Right Knee', 'Left Ankle', 'Right Ankle']),\n",
       " Pose(keypoints=[[[218.109375, 56.812503814697266], [217.6875, 50.6953125], [210.7265625, 51.1171875], [0.0, 0.0], [190.79296875, 55.652347564697266], [227.8125, 96.99609375], [158.51953125, 96.78515625], [234.140625, 143.71875], [157.5703125, 148.5703125], [228.4453125, 165.0234375], [195.64453125, 166.2890625], [215.26171875, 174.41015625], [170.96484375, 176.8359375], [251.6484375, 202.78125], [189.0, 197.296875], [213.2578125, 283.1484375], [221.484375, 284.625]]], scores=[[0.97021484375, 0.6279296875, 0.95654296875, 0.158447265625, 0.94970703125, 0.99267578125, 0.9990234375, 0.9638671875, 0.99853515625, 0.96533203125, 0.99755859375, 0.9990234375, 0.99951171875, 0.99755859375, 0.9990234375, 0.984375, 0.99169921875]], labels=['Nose', 'Left Eye', 'Right Eye', 'Left Ear', 'Right Ear', 'Left Shoulder', 'Right Shoulder', 'Left Elbow', 'Right Elbow', 'Left Wrist', 'Right Wrist', 'Left Hip', 'Right Hip', 'Left Knee', 'Right Knee', 'Left Ankle', 'Right Ankle'])]"
      ]
     },
     "execution_count": 3,
     "metadata": {},
     "output_type": "execute_result"
    }
   ],
   "source": [
    "result.poses\n"
   ]
  },
  {
   "cell_type": "code",
   "execution_count": 4,
   "metadata": {},
   "outputs": [
    {
     "name": "stdout",
     "output_type": "stream",
     "text": [
      "\n",
      "0: 448x640 2 persons, 41.1ms\n",
      "1: 448x640 2 persons, 41.1ms\n",
      "Speed: 9.2ms preprocess, 41.1ms inference, 0.8ms postprocess per image at shape (1, 3, 448, 640)\n"
     ]
    },
    {
     "data": {
      "text/plain": [
       "[Result(categories=None, boxes=None, masks=None, poses=[Pose(keypoints=[[[311.5546875, 58.605472564697266], [316.828125, 51.5390625], [307.546875, 53.4375], [336.234375, 51.22265625], [0.0, 0.0], [371.25, 87.345703125], [314.0859375, 97.1015625], [394.03125, 140.87109375], [307.3359375, 154.16015625], [398.25, 189.80859375], [286.453125, 135.703125], [371.25, 175.78125], [338.1328125, 173.14453125], [326.7421875, 214.8046875], [296.3671875, 200.25], [294.890625, 291.375], [315.984375, 281.671875]]], scores=[[0.98388671875, 0.96630859375, 0.82275390625, 0.88232421875, 0.254150390625, 0.99560546875, 0.99609375, 0.9755859375, 0.97998046875, 0.9716796875, 0.97265625, 0.998046875, 0.998046875, 0.99755859375, 0.99755859375, 0.984375, 0.986328125]], labels=['Nose', 'Left Eye', 'Right Eye', 'Left Ear', 'Right Ear', 'Left Shoulder', 'Right Shoulder', 'Left Elbow', 'Right Elbow', 'Left Wrist', 'Right Wrist', 'Left Hip', 'Right Hip', 'Left Knee', 'Right Knee', 'Left Ankle', 'Right Ankle']), Pose(keypoints=[[[218.109375, 56.812503814697266], [217.6875, 50.6953125], [210.7265625, 51.1171875], [0.0, 0.0], [190.79296875, 55.652347564697266], [227.6015625, 96.99609375], [158.51953125, 96.890625], [234.140625, 143.71875], [157.5703125, 148.5703125], [228.4453125, 165.0234375], [195.64453125, 166.2890625], [215.26171875, 174.41015625], [170.96484375, 176.8359375], [251.6484375, 202.88671875], [189.0, 197.296875], [213.36328125, 283.1484375], [221.484375, 284.625]]], scores=[[0.97021484375, 0.62890625, 0.95654296875, 0.15869140625, 0.94970703125, 0.99267578125, 0.9990234375, 0.9638671875, 0.998046875, 0.96533203125, 0.99755859375, 0.9990234375, 0.99951171875, 0.99755859375, 0.9990234375, 0.984375, 0.99169921875]], labels=['Nose', 'Left Eye', 'Right Eye', 'Left Ear', 'Right Ear', 'Left Shoulder', 'Right Shoulder', 'Left Elbow', 'Right Elbow', 'Left Wrist', 'Right Wrist', 'Left Hip', 'Right Hip', 'Left Knee', 'Right Knee', 'Left Ankle', 'Right Ankle'])], text=None),\n",
       " Result(categories=None, boxes=None, masks=None, poses=[Pose(keypoints=[[[311.5546875, 58.605472564697266], [316.828125, 51.5390625], [307.546875, 53.4375], [336.234375, 51.22265625], [0.0, 0.0], [371.25, 87.345703125], [314.0859375, 97.1015625], [394.03125, 140.87109375], [307.3359375, 154.16015625], [398.25, 189.80859375], [286.453125, 135.703125], [371.25, 175.78125], [338.1328125, 173.14453125], [326.7421875, 214.8046875], [296.3671875, 200.25], [294.890625, 291.375], [315.984375, 281.671875]]], scores=[[0.98388671875, 0.96630859375, 0.82275390625, 0.88232421875, 0.254150390625, 0.99560546875, 0.99609375, 0.9755859375, 0.97998046875, 0.9716796875, 0.97265625, 0.998046875, 0.998046875, 0.99755859375, 0.99755859375, 0.984375, 0.986328125]], labels=['Nose', 'Left Eye', 'Right Eye', 'Left Ear', 'Right Ear', 'Left Shoulder', 'Right Shoulder', 'Left Elbow', 'Right Elbow', 'Left Wrist', 'Right Wrist', 'Left Hip', 'Right Hip', 'Left Knee', 'Right Knee', 'Left Ankle', 'Right Ankle']), Pose(keypoints=[[[218.109375, 56.812503814697266], [217.6875, 50.6953125], [210.7265625, 51.1171875], [0.0, 0.0], [190.79296875, 55.652347564697266], [227.6015625, 96.99609375], [158.51953125, 96.890625], [234.140625, 143.71875], [157.5703125, 148.5703125], [228.4453125, 165.0234375], [195.64453125, 166.2890625], [215.26171875, 174.41015625], [170.96484375, 176.8359375], [251.6484375, 202.88671875], [189.0, 197.296875], [213.36328125, 283.1484375], [221.484375, 284.625]]], scores=[[0.97021484375, 0.62890625, 0.95654296875, 0.15869140625, 0.94970703125, 0.99267578125, 0.9990234375, 0.9638671875, 0.998046875, 0.96533203125, 0.99755859375, 0.9990234375, 0.99951171875, 0.99755859375, 0.9990234375, 0.984375, 0.99169921875]], labels=['Nose', 'Left Eye', 'Right Eye', 'Left Ear', 'Right Ear', 'Left Shoulder', 'Right Shoulder', 'Left Elbow', 'Right Elbow', 'Left Wrist', 'Right Wrist', 'Left Hip', 'Right Hip', 'Left Knee', 'Right Knee', 'Left Ankle', 'Right Ankle'])], text=None)]"
      ]
     },
     "execution_count": 4,
     "metadata": {},
     "output_type": "execute_result"
    }
   ],
   "source": [
    "result = model.infer_batch([\"/home/dnth/Downloads/two.jpg\", \"/home/dnth/Downloads/two.jpg\"] )\n",
    "result"
   ]
  },
  {
   "cell_type": "code",
   "execution_count": null,
   "metadata": {},
   "outputs": [],
   "source": []
  },
  {
   "cell_type": "code",
   "execution_count": null,
   "metadata": {},
   "outputs": [],
   "source": [
    "from ultralytics import YOLO\n",
    "model = YOLO(\"yolov8s-pose.pt\")\n",
    "res = model.predict(\"/home/dnth/Downloads/two.jpg\")"
   ]
  },
  {
   "cell_type": "code",
   "execution_count": null,
   "metadata": {},
   "outputs": [],
   "source": [
    "len(res)"
   ]
  },
  {
   "cell_type": "code",
   "execution_count": null,
   "metadata": {},
   "outputs": [],
   "source": [
    "len(res[0]) # two people"
   ]
  },
  {
   "cell_type": "code",
   "execution_count": null,
   "metadata": {},
   "outputs": [],
   "source": [
    "pose_keypoints = res[0].keypoints\n",
    "pose_keypoints"
   ]
  },
  {
   "cell_type": "code",
   "execution_count": null,
   "metadata": {},
   "outputs": [],
   "source": [
    "for person_points in pose_keypoints:\n",
    "    print(person_points)"
   ]
  },
  {
   "cell_type": "code",
   "execution_count": null,
   "metadata": {},
   "outputs": [],
   "source": [
    "import xinfer\n",
    "model = xinfer.create_model(\"ultralytics/yolov8s-seg\", device=\"cuda\", dtype=\"bfloat16\")"
   ]
  },
  {
   "cell_type": "code",
   "execution_count": null,
   "metadata": {},
   "outputs": [],
   "source": [
    "result = model.infer(\"/home/dnth/Desktop/xinfer/tests/test_data/test_image_2.jpg\")\n",
    "result"
   ]
  },
  {
   "cell_type": "code",
   "execution_count": null,
   "metadata": {},
   "outputs": [],
   "source": [
    "len(result.boxes)"
   ]
  },
  {
   "cell_type": "code",
   "execution_count": null,
   "metadata": {},
   "outputs": [],
   "source": [
    "result.masks"
   ]
  },
  {
   "cell_type": "code",
   "execution_count": null,
   "metadata": {},
   "outputs": [],
   "source": [
    "import matplotlib.pyplot as plt\n",
    "import numpy as np\n",
    "from PIL import Image\n",
    "\n",
    "# Load the original image\n",
    "img_path = \"/home/dnth/Desktop/xinfer/tests/test_data/test_image_2.jpg\"\n",
    "image = Image.open(img_path)\n",
    "\n",
    "# Get the mask coordinates and convert to numpy array\n",
    "mask_coords = np.array(result.masks[0].xy)\n",
    "\n",
    "# Create figure and axis\n",
    "plt.figure(figsize=(10, 10))\n",
    "plt.imshow(image)\n",
    "\n",
    "# Plot the mask\n",
    "plt.plot(mask_coords[:, 0], mask_coords[:, 1], 'r-', linewidth=2, label='Mask')\n",
    "plt.legend()\n",
    "plt.axis('off')\n",
    "plt.show()"
   ]
  },
  {
   "cell_type": "code",
   "execution_count": null,
   "metadata": {},
   "outputs": [],
   "source": [
    "import matplotlib.pyplot as plt\n",
    "import numpy as np\n",
    "from PIL import Image\n",
    "from matplotlib.patches import Rectangle\n",
    "\n",
    "# Load the original image\n",
    "img_path = \"/home/dnth/Desktop/xinfer/tests/test_data/test_image_2.jpg\"\n",
    "image = Image.open(img_path)\n",
    "\n",
    "# Create figure and axis\n",
    "plt.figure(figsize=(10, 10))\n",
    "plt.imshow(image)\n",
    "\n",
    "# Plot the mask\n",
    "for mask in result.masks:\n",
    "    mask_coords = np.array(mask.xy)\n",
    "    plt.plot(mask_coords[:, 0], mask_coords[:, 1], 'r-', linewidth=2)\n",
    "\n",
    "# Plot the bounding box\n",
    "for box in result.boxes:\n",
    "    # Create rectangle patch\n",
    "    rect = Rectangle(\n",
    "        (box.x1, box.y1),\n",
    "        box.x2 - box.x1,  # width\n",
    "        box.y2 - box.y1,  # height\n",
    "        linewidth=2,\n",
    "        edgecolor='blue',\n",
    "        facecolor='none',\n",
    "        label=f'{box.label} ({box.score:.2f})'\n",
    "    )\n",
    "    plt.gca().add_patch(rect)\n",
    "\n",
    "plt.legend()\n",
    "plt.axis('off')\n",
    "plt.show()"
   ]
  },
  {
   "cell_type": "code",
   "execution_count": null,
   "metadata": {},
   "outputs": [],
   "source": []
  }
 ],
 "metadata": {
  "kernelspec": {
   "display_name": "xinfer",
   "language": "python",
   "name": "python3"
  },
  "language_info": {
   "codemirror_mode": {
    "name": "ipython",
    "version": 3
   },
   "file_extension": ".py",
   "mimetype": "text/x-python",
   "name": "python",
   "nbconvert_exporter": "python",
   "pygments_lexer": "ipython3",
   "version": "3.10.15"
  }
 },
 "nbformat": 4,
 "nbformat_minor": 2
}
