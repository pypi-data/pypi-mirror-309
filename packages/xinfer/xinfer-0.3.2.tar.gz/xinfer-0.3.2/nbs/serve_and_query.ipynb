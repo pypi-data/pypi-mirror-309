{
 "cells": [
  {
   "cell_type": "code",
   "execution_count": 1,
   "metadata": {},
   "outputs": [
    {
     "name": "stderr",
     "output_type": "stream",
     "text": [
      "2024-11-11 12:43:13,307\tINFO worker.py:1807 -- Started a local Ray instance. View the dashboard at \u001b[1m\u001b[32m127.0.0.1:8265 \u001b[39m\u001b[22m\n",
      "INFO 2024-11-11 12:43:15,088 serve 45845 api.py:277 - Started Serve in namespace \"serve\".\n",
      "INFO 2024-11-11 12:43:15,100 serve 45845 api.py:259 - Connecting to existing Serve app in namespace \"serve\". New http options will not be applied.\n",
      "WARNING 2024-11-11 12:43:15,100 serve 45845 api.py:85 - The new client HTTP config differs from the existing one in the following fields: ['host', 'port', 'location']. The new HTTP config is ignored.\n",
      "\u001b[36m(ProxyActor pid=46149)\u001b[0m INFO 2024-11-11 12:43:15,073 proxy 192.168.100.201 proxy.py:1191 - Proxy starting on node 4e5f8783044f0236389a7ac42da8433d1905db1ca7fb4aea955dedd8 (HTTP port: 5578).\n",
      "\u001b[36m(ServeController pid=46150)\u001b[0m INFO 2024-11-11 12:43:15,159 controller 46150 deployment_state.py:1604 - Deploying new version of Deployment(name='XInferModel', app='default') (initial target replicas: 1).\n",
      "\u001b[36m(ServeController pid=46150)\u001b[0m INFO 2024-11-11 12:43:15,261 controller 46150 deployment_state.py:1850 - Adding 1 replica to Deployment(name='XInferModel', app='default').\n",
      "\u001b[36m(ServeReplica:default:XInferModel pid=46144)\u001b[0m 2024-11-11 12:43:19.375 | INFO     | xinfer.models:__init__:63 - Model: vikhyatk/moondream2\n",
      "\u001b[36m(ServeReplica:default:XInferModel pid=46144)\u001b[0m 2024-11-11 12:43:19.375 | INFO     | xinfer.models:__init__:64 - Device: cuda\n",
      "\u001b[36m(ServeReplica:default:XInferModel pid=46144)\u001b[0m 2024-11-11 12:43:19.375 | INFO     | xinfer.models:__init__:65 - Dtype: float16\n",
      "INFO 2024-11-11 12:43:27,198 serve 45845 client.py:492 - Deployment 'XInferModel:656lahq0' is ready at `http://0.0.0.0:5578/`. component=serve deployment=XInferModel\n",
      "INFO 2024-11-11 12:43:27,200 serve 45845 api.py:549 - Deployed app 'default' successfully.\n",
      "\u001b[32m2024-11-11 12:43:27.200\u001b[0m | \u001b[1mINFO    \u001b[0m | \u001b[36mxinfer.serve\u001b[0m:\u001b[36mserve_model\u001b[0m:\u001b[36m161\u001b[0m - \u001b[1mOpen FastAPI docs at http://0.0.0.0:5578/docs\u001b[0m\n",
      "\u001b[32m2024-11-11 12:43:27.201\u001b[0m | \u001b[1mINFO    \u001b[0m | \u001b[36mxinfer.serve\u001b[0m:\u001b[36mserve_model\u001b[0m:\u001b[36m175\u001b[0m - \u001b[1mRunning server in non-blocking mode, remember to call serve.shutdown() to stop the server\u001b[0m\n"
     ]
    },
    {
     "data": {
      "text/plain": [
       "DeploymentHandle(deployment='XInferModel')"
      ]
     },
     "execution_count": 1,
     "metadata": {},
     "output_type": "execute_result"
    },
    {
     "name": "stderr",
     "output_type": "stream",
     "text": [
      "\u001b[36m(ServeReplica:default:XInferModel pid=46144)\u001b[0m INFO 2024-11-11 12:43:49,265 default_XInferModel gurqy1k4 546cf23a-32d0-4f42-ba12-ce299b0137fa /docs replica.py:378 - __CALL__ OK 1.6ms\n",
      "\u001b[36m(ServeReplica:default:XInferModel pid=46144)\u001b[0m INFO 2024-11-11 12:43:49,357 default_XInferModel gurqy1k4 50d1837f-ab81-425f-a323-ff8f131b70ad /openapi.json replica.py:378 - __CALL__ OK 8.3ms\n",
      "\u001b[36m(ServeReplica:default:XInferModel pid=46144)\u001b[0m INFO 2024-11-11 12:44:02,703 default_XInferModel gurqy1k4 670e8f23-f8c7-42ea-b4b5-e7e29422f3d6 /v1/chat/completions replica.py:378 - __CALL__ OK 8.2ms\n"
     ]
    }
   ],
   "source": [
    "import xinfer\n",
    "xinfer.serve_model(\n",
    "    \"vikhyatk/moondream2\",\n",
    "    device=\"cuda\",\n",
    "    dtype=\"float16\",\n",
    "    blocking=False,\n",
    "    open_api_docs=False,\n",
    "    host=\"0.0.0.0\",\n",
    "    port=5578,\n",
    ")"
   ]
  },
  {
   "cell_type": "code",
   "execution_count": null,
   "metadata": {},
   "outputs": [],
   "source": [
    "import xinfer\n",
    "xinfer.serve_model(\n",
    "    \"vikhyatk/moondream2\",\n",
    "    device=\"cuda\",\n",
    "    dtype=\"float16\",\n",
    "    blocking=False,\n",
    "    open_api_docs=False,\n",
    "    host=\"0.0.0.0\",\n",
    "    port=5678,\n",
    ")"
   ]
  },
  {
   "cell_type": "code",
   "execution_count": null,
   "metadata": {},
   "outputs": [],
   "source": [
    "from openai import OpenAI\n",
    "\n",
    "client = OpenAI(\n",
    "    api_key=\"dummy\",\n",
    "    base_url=\"http://127.0.0.1:8000/v1\"\n",
    ")\n",
    "\n",
    "response = client.chat.completions.create(\n",
    "    model=\"vikhyatk/moondream2\",\n",
    "    messages=[\n",
    "        {\n",
    "            \"role\": \"user\",\n",
    "            \"content\": [\n",
    "                {\n",
    "                    \"type\": \"image_url\",\n",
    "                    \"image_url\": \"https://raw.githubusercontent.com/dnth/x.infer/main/assets/demo/00aa2580828a9009.jpg\"\n",
    "                },\n",
    "                {\n",
    "                    \"type\": \"infer_kwargs\",\n",
    "                    \"infer_kwargs\": {\"text\": \"Caption.\", \"max_new_tokens\": 5}\n",
    "                },\n",
    "            ]\n",
    "        }\n",
    "    ]\n",
    ")\n",
    "\n",
    "print(response.choices[0].message.content)"
   ]
  },
  {
   "cell_type": "code",
   "execution_count": null,
   "metadata": {},
   "outputs": [],
   "source": [
    "%%bash\n",
    "\n",
    "curl http://127.0.0.1:8000/v1/chat/completions \\\n",
    "  -H \"Content-Type: application/json\" \\\n",
    "  -H \"Authorization: Bearer dummy\" \\\n",
    "  -d '{\n",
    "    \"model\": \"vikhyatk/moondream2\",\n",
    "    \"messages\": [\n",
    "      {\n",
    "        \"role\": \"user\",\n",
    "        \"content\": [\n",
    "          {\n",
    "            \"type\": \"image_url\",\n",
    "            \"image_url\": \"https://raw.githubusercontent.com/dnth/x.infer/main/assets/demo/00aa2580828a9009.jpg\"\n",
    "          },\n",
    "          {\n",
    "            \"type\": \"infer_kwargs\",\n",
    "            \"infer_kwargs\": {\n",
    "              \"text\": \"Caption.\",\n",
    "              \"max_new_tokens\": 5\n",
    "            }\n",
    "          }\n",
    "        ]\n",
    "      }\n",
    "    ]\n",
    "  }'"
   ]
  },
  {
   "cell_type": "code",
   "execution_count": null,
   "metadata": {},
   "outputs": [],
   "source": [
    "import xinfer\n",
    "xinfer.serve_model(\n",
    "    \"ultralytics/yolov8n\",\n",
    "    device=\"cuda\",\n",
    "    dtype=\"float16\",\n",
    "    blocking=False,\n",
    "    open_api_docs=False,\n",
    "    port=8001,\n",
    ")"
   ]
  },
  {
   "cell_type": "code",
   "execution_count": null,
   "metadata": {},
   "outputs": [],
   "source": [
    "from openai import OpenAI\n",
    "\n",
    "client = OpenAI(\n",
    "    api_key=\"dummy\",\n",
    "    base_url=\"http://127.0.0.1:8001/v1\"\n",
    ")\n",
    "\n",
    "response = client.chat.completions.create(\n",
    "    model=\"ultralytics/yolov8n\",\n",
    "    messages=[\n",
    "        {\n",
    "            \"role\": \"user\",\n",
    "            \"content\": [\n",
    "                {\n",
    "                    \"type\": \"image_url\",\n",
    "                    \"image_url\": \"https://raw.githubusercontent.com/dnth/x.infer/main/assets/demo/00aa2580828a9009.jpg\"\n",
    "                },\n",
    "            ]\n",
    "        }\n",
    "    ]\n",
    ")\n",
    "\n",
    "print(response.choices[0].message.content)"
   ]
  },
  {
   "cell_type": "code",
   "execution_count": null,
   "metadata": {},
   "outputs": [],
   "source": [
    "from ray import serve\n",
    "\n",
    "serve.shutdown()"
   ]
  },
  {
   "cell_type": "code",
   "execution_count": null,
   "metadata": {},
   "outputs": [],
   "source": []
  }
 ],
 "metadata": {
  "kernelspec": {
   "display_name": "xinfer",
   "language": "python",
   "name": "python3"
  },
  "language_info": {
   "codemirror_mode": {
    "name": "ipython",
    "version": 3
   },
   "file_extension": ".py",
   "mimetype": "text/x-python",
   "name": "python",
   "nbconvert_exporter": "python",
   "pygments_lexer": "ipython3",
   "version": "3.10.15"
  }
 },
 "nbformat": 4,
 "nbformat_minor": 2
}
