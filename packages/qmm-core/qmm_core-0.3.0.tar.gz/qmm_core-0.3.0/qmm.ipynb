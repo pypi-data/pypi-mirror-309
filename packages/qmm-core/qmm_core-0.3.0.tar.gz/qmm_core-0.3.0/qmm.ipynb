{
 "cells": [
  {
   "cell_type": "markdown",
   "metadata": {},
   "source": [
    "# Qualitative Mathematical Modelling in Python\n",
    "\n",
    "Author: Jayden Hyman\n",
    "\n",
    "Email: j.hyman@uq.edu.au\n",
    "\n",
    "📝 Getting started:\n",
    "\n",
    "1. Install the QMM package: run the cell `%pip install qmm-core`, then comment out the line `%pip install qmm-core` with `#` at the start of the line, or simply delete the cell. Then restart the kernel from the menu bar.\n",
    "2. Create a signed digraph using the web application: [Open in browser](https://d2x70551if0frn.cloudfront.net/).\n",
    "3. Run the Python package and dependencies cell.\n",
    "4. Import the signed digraph file (`.json`) using the `import_digraph` function (e.g., `import_digraph(\"folder/model.json\")`). You can also use the `list_to_digraph` to create a signed digraph from a signed adjacency matrix (e.g., `list_to_digraph(\"[[-1,-1,0],[1,-1,-1],[0,1,-1]]\")`).\n",
    "5. Run each cell by pressing the keyboard shortcut \"shift+enter\" or the play icon (when hovering over a cell). \n",
    "\n",
    "The lake-mesocosm model from Hulot et al. (2000) is used as an example in this notebook.\n",
    "\n",
    "Reference: Hulot, F.D., Lacroix, G., Lescher-Moutoué, F., Loreau, M., 2000. Functional diversity governs ecosystem response to nutrient enrichment. Nature 405, 340–344. https://doi.org/10.1038/35012591"
   ]
  },
  {
   "cell_type": "code",
   "execution_count": 1,
   "metadata": {},
   "outputs": [],
   "source": [
    "from qmm import *"
   ]
  },
  {
   "cell_type": "markdown",
   "metadata": {},
   "source": [
    "## Model structure"
   ]
  },
  {
   "cell_type": "code",
   "execution_count": 2,
   "metadata": {},
   "outputs": [
    {
     "data": {
      "text/latex": [
       "$\\displaystyle \\left[\\begin{matrix}-1 & -1 & -1 & -1 & 0 & 0 & 0 & 0\\\\1 & 0 & 0 & 0 & -1 & -1 & 0 & 0\\\\1 & 0 & 0 & 0 & 0 & -1 & 0 & 0\\\\1 & 0 & 0 & -1 & 0 & 0 & 0 & 0\\\\0 & 1 & 0 & 0 & 0 & 0 & -1 & -1\\\\0 & 1 & 1 & 0 & 0 & 0 & 0 & -1\\\\0 & 0 & 0 & 0 & 1 & 0 & 0 & -1\\\\0 & 0 & 0 & 0 & 1 & 1 & 1 & -1\\end{matrix}\\right]$"
      ],
      "text/plain": [
       "Matrix([\n",
       "[-1, -1, -1, -1,  0,  0,  0,  0],\n",
       "[ 1,  0,  0,  0, -1, -1,  0,  0],\n",
       "[ 1,  0,  0,  0,  0, -1,  0,  0],\n",
       "[ 1,  0,  0, -1,  0,  0,  0,  0],\n",
       "[ 0,  1,  0,  0,  0,  0, -1, -1],\n",
       "[ 0,  1,  1,  0,  0,  0,  0, -1],\n",
       "[ 0,  0,  0,  0,  1,  0,  0, -1],\n",
       "[ 0,  0,  0,  0,  1,  1,  1, -1]])"
      ]
     },
     "execution_count": 2,
     "metadata": {},
     "output_type": "execute_result"
    }
   ],
   "source": [
    "G = import_digraph(\"test/mesocosm.json\")\n",
    "create_matrix(G, form='signed')"
   ]
  },
  {
   "cell_type": "markdown",
   "metadata": {},
   "source": [
    "## Stability analysis"
   ]
  },
  {
   "cell_type": "code",
   "execution_count": 3,
   "metadata": {},
   "outputs": [
    {
     "data": {
      "text/html": [
       "<div>\n",
       "<style scoped>\n",
       "    .dataframe tbody tr th:only-of-type {\n",
       "        vertical-align: middle;\n",
       "    }\n",
       "\n",
       "    .dataframe tbody tr th {\n",
       "        vertical-align: top;\n",
       "    }\n",
       "\n",
       "    .dataframe thead th {\n",
       "        text-align: right;\n",
       "    }\n",
       "</style>\n",
       "<table border=\"1\" class=\"dataframe\">\n",
       "  <thead>\n",
       "    <tr style=\"text-align: right;\">\n",
       "      <th></th>\n",
       "      <th>Test</th>\n",
       "      <th>Definition</th>\n",
       "      <th>Result</th>\n",
       "    </tr>\n",
       "  </thead>\n",
       "  <tbody>\n",
       "    <tr>\n",
       "      <th>0</th>\n",
       "      <td>Condition i</td>\n",
       "      <td>No positive self-effects</td>\n",
       "      <td>True</td>\n",
       "    </tr>\n",
       "    <tr>\n",
       "      <th>1</th>\n",
       "      <td>Condition ii</td>\n",
       "      <td>At least one node is self-regulating</td>\n",
       "      <td>True</td>\n",
       "    </tr>\n",
       "    <tr>\n",
       "      <th>2</th>\n",
       "      <td>Condition iii</td>\n",
       "      <td>The product of any pairwise interaction is non-positive</td>\n",
       "      <td>True</td>\n",
       "    </tr>\n",
       "    <tr>\n",
       "      <th>3</th>\n",
       "      <td>Condition iv</td>\n",
       "      <td>No cycles greater than length two</td>\n",
       "      <td>False</td>\n",
       "    </tr>\n",
       "    <tr>\n",
       "      <th>4</th>\n",
       "      <td>Condition v</td>\n",
       "      <td>Non-zero determinant (all nodes have at least one incoming and outgoing link)</td>\n",
       "      <td>True</td>\n",
       "    </tr>\n",
       "    <tr>\n",
       "      <th>5</th>\n",
       "      <td>Colour test</td>\n",
       "      <td>Fails Jeffries' colour test</td>\n",
       "      <td>False</td>\n",
       "    </tr>\n",
       "    <tr>\n",
       "      <th>6</th>\n",
       "      <td>Sign stable</td>\n",
       "      <td>Satisfies necessary and sufficient conditions for sign stability</td>\n",
       "      <td>False</td>\n",
       "    </tr>\n",
       "  </tbody>\n",
       "</table>\n",
       "</div>"
      ],
      "text/plain": [
       "            Test  \\\n",
       "0    Condition i   \n",
       "1   Condition ii   \n",
       "2  Condition iii   \n",
       "3   Condition iv   \n",
       "4    Condition v   \n",
       "5    Colour test   \n",
       "6    Sign stable   \n",
       "\n",
       "                                                                      Definition  \\\n",
       "0                                                       No positive self-effects   \n",
       "1                                           At least one node is self-regulating   \n",
       "2                        The product of any pairwise interaction is non-positive   \n",
       "3                                              No cycles greater than length two   \n",
       "4  Non-zero determinant (all nodes have at least one incoming and outgoing link)   \n",
       "5                                                    Fails Jeffries' colour test   \n",
       "6               Satisfies necessary and sufficient conditions for sign stability   \n",
       "\n",
       "   Result  \n",
       "0    True  \n",
       "1    True  \n",
       "2    True  \n",
       "3   False  \n",
       "4    True  \n",
       "5   False  \n",
       "6   False  "
      ]
     },
     "execution_count": 3,
     "metadata": {},
     "output_type": "execute_result"
    }
   ],
   "source": [
    "sign_stability(G)"
   ]
  },
  {
   "cell_type": "code",
   "execution_count": 4,
   "metadata": {},
   "outputs": [
    {
     "data": {
      "text/html": [
       "<div>\n",
       "<style scoped>\n",
       "    .dataframe tbody tr th:only-of-type {\n",
       "        vertical-align: middle;\n",
       "    }\n",
       "\n",
       "    .dataframe tbody tr th {\n",
       "        vertical-align: top;\n",
       "    }\n",
       "\n",
       "    .dataframe thead th {\n",
       "        text-align: right;\n",
       "    }\n",
       "</style>\n",
       "<table border=\"1\" class=\"dataframe\">\n",
       "  <thead>\n",
       "    <tr style=\"text-align: right;\">\n",
       "      <th></th>\n",
       "      <th>Feedback level</th>\n",
       "      <th>Net</th>\n",
       "      <th>Absolute</th>\n",
       "      <th>Positive</th>\n",
       "      <th>Negative</th>\n",
       "      <th>Weighted</th>\n",
       "    </tr>\n",
       "  </thead>\n",
       "  <tbody>\n",
       "    <tr>\n",
       "      <th>0</th>\n",
       "      <td>0</td>\n",
       "      <td>-1</td>\n",
       "      <td>1</td>\n",
       "      <td>0</td>\n",
       "      <td>1</td>\n",
       "      <td>-1</td>\n",
       "    </tr>\n",
       "    <tr>\n",
       "      <th>1</th>\n",
       "      <td>1</td>\n",
       "      <td>-3</td>\n",
       "      <td>3</td>\n",
       "      <td>0</td>\n",
       "      <td>3</td>\n",
       "      <td>-1</td>\n",
       "    </tr>\n",
       "    <tr>\n",
       "      <th>2</th>\n",
       "      <td>2</td>\n",
       "      <td>-13</td>\n",
       "      <td>13</td>\n",
       "      <td>0</td>\n",
       "      <td>13</td>\n",
       "      <td>-1</td>\n",
       "    </tr>\n",
       "    <tr>\n",
       "      <th>3</th>\n",
       "      <td>3</td>\n",
       "      <td>-24</td>\n",
       "      <td>26</td>\n",
       "      <td>1</td>\n",
       "      <td>25</td>\n",
       "      <td>-12/13</td>\n",
       "    </tr>\n",
       "    <tr>\n",
       "      <th>4</th>\n",
       "      <td>4</td>\n",
       "      <td>-41</td>\n",
       "      <td>53</td>\n",
       "      <td>6</td>\n",
       "      <td>47</td>\n",
       "      <td>-41/53</td>\n",
       "    </tr>\n",
       "    <tr>\n",
       "      <th>5</th>\n",
       "      <td>5</td>\n",
       "      <td>-39</td>\n",
       "      <td>69</td>\n",
       "      <td>15</td>\n",
       "      <td>54</td>\n",
       "      <td>-13/23</td>\n",
       "    </tr>\n",
       "    <tr>\n",
       "      <th>6</th>\n",
       "      <td>6</td>\n",
       "      <td>-30</td>\n",
       "      <td>74</td>\n",
       "      <td>22</td>\n",
       "      <td>52</td>\n",
       "      <td>-15/37</td>\n",
       "    </tr>\n",
       "    <tr>\n",
       "      <th>7</th>\n",
       "      <td>7</td>\n",
       "      <td>-12</td>\n",
       "      <td>56</td>\n",
       "      <td>22</td>\n",
       "      <td>34</td>\n",
       "      <td>-3/14</td>\n",
       "    </tr>\n",
       "    <tr>\n",
       "      <th>8</th>\n",
       "      <td>8</td>\n",
       "      <td>-2</td>\n",
       "      <td>18</td>\n",
       "      <td>8</td>\n",
       "      <td>10</td>\n",
       "      <td>-1/9</td>\n",
       "    </tr>\n",
       "  </tbody>\n",
       "</table>\n",
       "</div>"
      ],
      "text/plain": [
       "  Feedback level  Net Absolute Positive Negative Weighted\n",
       "0              0   -1        1        0        1       -1\n",
       "1              1   -3        3        0        3       -1\n",
       "2              2  -13       13        0       13       -1\n",
       "3              3  -24       26        1       25   -12/13\n",
       "4              4  -41       53        6       47   -41/53\n",
       "5              5  -39       69       15       54   -13/23\n",
       "6              6  -30       74       22       52   -15/37\n",
       "7              7  -12       56       22       34    -3/14\n",
       "8              8   -2       18        8       10     -1/9"
      ]
     },
     "execution_count": 4,
     "metadata": {},
     "output_type": "execute_result"
    }
   ],
   "source": [
    "feedback_metrics(G)"
   ]
  },
  {
   "cell_type": "code",
   "execution_count": 5,
   "metadata": {},
   "outputs": [
    {
     "data": {
      "text/html": [
       "<div>\n",
       "<style scoped>\n",
       "    .dataframe tbody tr th:only-of-type {\n",
       "        vertical-align: middle;\n",
       "    }\n",
       "\n",
       "    .dataframe tbody tr th {\n",
       "        vertical-align: top;\n",
       "    }\n",
       "\n",
       "    .dataframe thead th {\n",
       "        text-align: right;\n",
       "    }\n",
       "</style>\n",
       "<table border=\"1\" class=\"dataframe\">\n",
       "  <thead>\n",
       "    <tr style=\"text-align: right;\">\n",
       "      <th></th>\n",
       "      <th>Hurwitz determinant</th>\n",
       "      <th>Net</th>\n",
       "      <th>Absolute</th>\n",
       "      <th>Weighted</th>\n",
       "    </tr>\n",
       "  </thead>\n",
       "  <tbody>\n",
       "    <tr>\n",
       "      <th>0</th>\n",
       "      <td>0</td>\n",
       "      <td>1</td>\n",
       "      <td>1</td>\n",
       "      <td>1</td>\n",
       "    </tr>\n",
       "    <tr>\n",
       "      <th>1</th>\n",
       "      <td>1</td>\n",
       "      <td>3</td>\n",
       "      <td>3</td>\n",
       "      <td>1</td>\n",
       "    </tr>\n",
       "    <tr>\n",
       "      <th>2</th>\n",
       "      <td>2</td>\n",
       "      <td>15</td>\n",
       "      <td>65</td>\n",
       "      <td>3/13</td>\n",
       "    </tr>\n",
       "    <tr>\n",
       "      <th>3</th>\n",
       "      <td>3</td>\n",
       "      <td>108</td>\n",
       "      <td>2374</td>\n",
       "      <td>54/1187</td>\n",
       "    </tr>\n",
       "    <tr>\n",
       "      <th>4</th>\n",
       "      <td>4</td>\n",
       "      <td>1269</td>\n",
       "      <td>217929</td>\n",
       "      <td>423/72643</td>\n",
       "    </tr>\n",
       "    <tr>\n",
       "      <th>5</th>\n",
       "      <td>5</td>\n",
       "      <td>15309</td>\n",
       "      <td>23101443</td>\n",
       "      <td>189/285203</td>\n",
       "    </tr>\n",
       "    <tr>\n",
       "      <th>6</th>\n",
       "      <td>6</td>\n",
       "      <td>140454</td>\n",
       "      <td>2688411078</td>\n",
       "      <td>7803/149356171</td>\n",
       "    </tr>\n",
       "    <tr>\n",
       "      <th>7</th>\n",
       "      <td>7</td>\n",
       "      <td>975402</td>\n",
       "      <td>186502751190</td>\n",
       "      <td>54189/10361263955</td>\n",
       "    </tr>\n",
       "    <tr>\n",
       "      <th>8</th>\n",
       "      <td>8</td>\n",
       "      <td>1950804</td>\n",
       "      <td>3357049521420</td>\n",
       "      <td>6021/10361263955</td>\n",
       "    </tr>\n",
       "  </tbody>\n",
       "</table>\n",
       "</div>"
      ],
      "text/plain": [
       "  Hurwitz determinant      Net       Absolute           Weighted\n",
       "0                   0        1              1                  1\n",
       "1                   1        3              3                  1\n",
       "2                   2       15             65               3/13\n",
       "3                   3      108           2374            54/1187\n",
       "4                   4     1269         217929          423/72643\n",
       "5                   5    15309       23101443         189/285203\n",
       "6                   6   140454     2688411078     7803/149356171\n",
       "7                   7   975402   186502751190  54189/10361263955\n",
       "8                   8  1950804  3357049521420   6021/10361263955"
      ]
     },
     "execution_count": 5,
     "metadata": {},
     "output_type": "execute_result"
    }
   ],
   "source": [
    "determinants_metrics(G)"
   ]
  },
  {
   "cell_type": "code",
   "execution_count": 6,
   "metadata": {},
   "outputs": [
    {
     "data": {
      "text/html": [
       "<div>\n",
       "<style scoped>\n",
       "    .dataframe tbody tr th:only-of-type {\n",
       "        vertical-align: middle;\n",
       "    }\n",
       "\n",
       "    .dataframe tbody tr th {\n",
       "        vertical-align: top;\n",
       "    }\n",
       "\n",
       "    .dataframe thead th {\n",
       "        text-align: right;\n",
       "    }\n",
       "</style>\n",
       "<table border=\"1\" class=\"dataframe\">\n",
       "  <thead>\n",
       "    <tr style=\"text-align: right;\">\n",
       "      <th></th>\n",
       "      <th>Test</th>\n",
       "      <th>Definition</th>\n",
       "      <th>Result</th>\n",
       "    </tr>\n",
       "  </thead>\n",
       "  <tbody>\n",
       "    <tr>\n",
       "      <th>0</th>\n",
       "      <td>Weighted feedback</td>\n",
       "      <td>Maximum weighted feedback (level 8)</td>\n",
       "      <td>-0.11</td>\n",
       "    </tr>\n",
       "    <tr>\n",
       "      <th>1</th>\n",
       "      <td>Weighted determinant</td>\n",
       "      <td>n-1 weighted determinant at level</td>\n",
       "      <td>5.2e-6</td>\n",
       "    </tr>\n",
       "    <tr>\n",
       "      <th>2</th>\n",
       "      <td>Ratio to model-c system</td>\n",
       "      <td>Ratio to a 'model-c' type system</td>\n",
       "      <td>16.</td>\n",
       "    </tr>\n",
       "    <tr>\n",
       "      <th>3</th>\n",
       "      <td>Model class</td>\n",
       "      <td>Class of the model based on conditional stability metrics</td>\n",
       "      <td>Class I</td>\n",
       "    </tr>\n",
       "  </tbody>\n",
       "</table>\n",
       "</div>"
      ],
      "text/plain": [
       "                      Test  \\\n",
       "0        Weighted feedback   \n",
       "1     Weighted determinant   \n",
       "2  Ratio to model-c system   \n",
       "3              Model class   \n",
       "\n",
       "                                                  Definition   Result  \n",
       "0                        Maximum weighted feedback (level 8)    -0.11  \n",
       "1                          n-1 weighted determinant at level   5.2e-6  \n",
       "2                           Ratio to a 'model-c' type system      16.  \n",
       "3  Class of the model based on conditional stability metrics  Class I  "
      ]
     },
     "execution_count": 6,
     "metadata": {},
     "output_type": "execute_result"
    }
   ],
   "source": [
    "conditional_stability(G)"
   ]
  },
  {
   "cell_type": "code",
   "execution_count": 7,
   "metadata": {},
   "outputs": [
    {
     "data": {
      "text/html": [
       "<div>\n",
       "<style scoped>\n",
       "    .dataframe tbody tr th:only-of-type {\n",
       "        vertical-align: middle;\n",
       "    }\n",
       "\n",
       "    .dataframe tbody tr th {\n",
       "        vertical-align: top;\n",
       "    }\n",
       "\n",
       "    .dataframe thead th {\n",
       "        text-align: right;\n",
       "    }\n",
       "</style>\n",
       "<table border=\"1\" class=\"dataframe\">\n",
       "  <thead>\n",
       "    <tr style=\"text-align: right;\">\n",
       "      <th></th>\n",
       "      <th>Test</th>\n",
       "      <th>Definition</th>\n",
       "      <th>Result</th>\n",
       "    </tr>\n",
       "  </thead>\n",
       "  <tbody>\n",
       "    <tr>\n",
       "      <th>0</th>\n",
       "      <td>Stable matrices</td>\n",
       "      <td>Proportion where all eigenvalues have negative real parts</td>\n",
       "      <td>35.98%</td>\n",
       "    </tr>\n",
       "    <tr>\n",
       "      <th>1</th>\n",
       "      <td>Unstable matrices</td>\n",
       "      <td>Proportion where one or more eigenvalues have positive real parts</td>\n",
       "      <td>64.02%</td>\n",
       "    </tr>\n",
       "    <tr>\n",
       "      <th>2</th>\n",
       "      <td>Hurwitz criterion i</td>\n",
       "      <td>Proportion where polynomial coefficients are not all of the same sign</td>\n",
       "      <td>38.83%</td>\n",
       "    </tr>\n",
       "    <tr>\n",
       "      <th>3</th>\n",
       "      <td>Hurwitz criterion ii</td>\n",
       "      <td>Proportion where Hurwitz determinants are not all positive</td>\n",
       "      <td>48.78%</td>\n",
       "    </tr>\n",
       "    <tr>\n",
       "      <th>4</th>\n",
       "      <td>Hurwitz criterion i only</td>\n",
       "      <td>Proportion where only Hurwitz criterion i fails</td>\n",
       "      <td>15.24%</td>\n",
       "    </tr>\n",
       "    <tr>\n",
       "      <th>5</th>\n",
       "      <td>Hurwitz criterion ii only</td>\n",
       "      <td>Proportion where only Hurwitz criterion ii fails</td>\n",
       "      <td>25.19%</td>\n",
       "    </tr>\n",
       "  </tbody>\n",
       "</table>\n",
       "</div>"
      ],
      "text/plain": [
       "                        Test  \\\n",
       "0            Stable matrices   \n",
       "1          Unstable matrices   \n",
       "2        Hurwitz criterion i   \n",
       "3       Hurwitz criterion ii   \n",
       "4   Hurwitz criterion i only   \n",
       "5  Hurwitz criterion ii only   \n",
       "\n",
       "                                                              Definition  \\\n",
       "0              Proportion where all eigenvalues have negative real parts   \n",
       "1      Proportion where one or more eigenvalues have positive real parts   \n",
       "2  Proportion where polynomial coefficients are not all of the same sign   \n",
       "3             Proportion where Hurwitz determinants are not all positive   \n",
       "4                        Proportion where only Hurwitz criterion i fails   \n",
       "5                       Proportion where only Hurwitz criterion ii fails   \n",
       "\n",
       "   Result  \n",
       "0  35.98%  \n",
       "1  64.02%  \n",
       "2  38.83%  \n",
       "3  48.78%  \n",
       "4  15.24%  \n",
       "5  25.19%  "
      ]
     },
     "execution_count": 7,
     "metadata": {},
     "output_type": "execute_result"
    }
   ],
   "source": [
    "simulation_stability(G, n_sim=10000)"
   ]
  },
  {
   "cell_type": "markdown",
   "metadata": {},
   "source": [
    "## Press perturbation analysis"
   ]
  },
  {
   "cell_type": "code",
   "execution_count": 8,
   "metadata": {},
   "outputs": [
    {
     "data": {
      "text/latex": [
       "$\\displaystyle \\left[\\begin{matrix}1 & -1 & 1 & -1 & 0 & 1 & -1 & 0\\\\-1 & 3 & -5 & 1 & -2 & -1 & 5 & -2\\\\1 & -1 & 3 & -1 & 2 & -1 & -3 & 2\\\\1 & -1 & 1 & 1 & 0 & 1 & -1 & 0\\\\0 & 2 & -2 & 0 & 0 & 0 & 0 & 0\\\\1 & -1 & 3 & -1 & 0 & 1 & -1 & 0\\\\-1 & 1 & -3 & 1 & 0 & -1 & 3 & -2\\\\0 & 2 & -2 & 0 & 0 & 0 & 2 & 0\\end{matrix}\\right]$"
      ],
      "text/plain": [
       "Matrix([\n",
       "[ 1, -1,  1, -1,  0,  1, -1,  0],\n",
       "[-1,  3, -5,  1, -2, -1,  5, -2],\n",
       "[ 1, -1,  3, -1,  2, -1, -3,  2],\n",
       "[ 1, -1,  1,  1,  0,  1, -1,  0],\n",
       "[ 0,  2, -2,  0,  0,  0,  0,  0],\n",
       "[ 1, -1,  3, -1,  0,  1, -1,  0],\n",
       "[-1,  1, -3,  1,  0, -1,  3, -2],\n",
       "[ 0,  2, -2,  0,  0,  0,  2,  0]])"
      ]
     },
     "execution_count": 8,
     "metadata": {},
     "output_type": "execute_result"
    }
   ],
   "source": [
    "adjoint_matrix(G, form='signed')"
   ]
  },
  {
   "cell_type": "code",
   "execution_count": 9,
   "metadata": {},
   "outputs": [
    {
     "data": {
      "text/latex": [
       "$\\displaystyle \\left[\\begin{matrix}1 & 7 & 9 & 1 & 2 & 1 & 5 & 2\\\\7 & 7 & 9 & 7 & 4 & 7 & 7 & 4\\\\9 & 9 & 11 & 9 & 4 & 9 & 9 & 4\\\\1 & 7 & 9 & 17 & 2 & 1 & 5 & 2\\\\2 & 4 & 4 & 2 & 4 & 2 & 10 & 4\\\\1 & 7 & 9 & 1 & 2 & 1 & 5 & 2\\\\5 & 7 & 9 & 5 & 10 & 5 & 11 & 8\\\\2 & 4 & 4 & 2 & 4 & 2 & 8 & 4\\end{matrix}\\right]$"
      ],
      "text/plain": [
       "Matrix([\n",
       "[1, 7,  9,  1,  2, 1,  5, 2],\n",
       "[7, 7,  9,  7,  4, 7,  7, 4],\n",
       "[9, 9, 11,  9,  4, 9,  9, 4],\n",
       "[1, 7,  9, 17,  2, 1,  5, 2],\n",
       "[2, 4,  4,  2,  4, 2, 10, 4],\n",
       "[1, 7,  9,  1,  2, 1,  5, 2],\n",
       "[5, 7,  9,  5, 10, 5, 11, 8],\n",
       "[2, 4,  4,  2,  4, 2,  8, 4]])"
      ]
     },
     "execution_count": 9,
     "metadata": {},
     "output_type": "execute_result"
    }
   ],
   "source": [
    "absolute_feedback_matrix(G)"
   ]
  },
  {
   "cell_type": "code",
   "execution_count": 10,
   "metadata": {},
   "outputs": [
    {
     "data": {
      "text/latex": [
       "$\\displaystyle \\left[\\begin{matrix}1.0 & -0.14 & 0.11 & -1.0 & 0 & 1.0 & -0.2 & 0\\\\-0.14 & 0.43 & -0.56 & 0.14 & -0.5 & -0.14 & 0.71 & -0.5\\\\0.11 & -0.11 & 0.27 & -0.11 & 0.5 & -0.11 & -0.33 & 0.5\\\\1.0 & -0.14 & 0.11 & 0.059 & 0 & 1.0 & -0.2 & 0\\\\0 & 0.5 & -0.5 & 0 & 0 & 0 & 0 & 0\\\\1.0 & -0.14 & 0.33 & -1.0 & 0 & 1.0 & -0.2 & 0\\\\-0.2 & 0.14 & -0.33 & 0.2 & 0 & -0.2 & 0.27 & -0.25\\\\0 & 0.5 & -0.5 & 0 & 0 & 0 & 0.25 & 0\\end{matrix}\\right]$"
      ],
      "text/plain": [
       "Matrix([\n",
       "[  1.0, -0.14,  0.11,  -1.0,    0,   1.0,  -0.2,     0],\n",
       "[-0.14,  0.43, -0.56,  0.14, -0.5, -0.14,  0.71,  -0.5],\n",
       "[ 0.11, -0.11,  0.27, -0.11,  0.5, -0.11, -0.33,   0.5],\n",
       "[  1.0, -0.14,  0.11, 0.059,    0,   1.0,  -0.2,     0],\n",
       "[    0,   0.5,  -0.5,     0,    0,     0,     0,     0],\n",
       "[  1.0, -0.14,  0.33,  -1.0,    0,   1.0,  -0.2,     0],\n",
       "[ -0.2,  0.14, -0.33,   0.2,    0,  -0.2,  0.27, -0.25],\n",
       "[    0,   0.5,  -0.5,     0,    0,     0,  0.25,     0]])"
      ]
     },
     "execution_count": 10,
     "metadata": {},
     "output_type": "execute_result"
    }
   ],
   "source": [
    "weighted_predictions_matrix(G, as_nan=False, as_abs=False).evalf(2)"
   ]
  },
  {
   "cell_type": "code",
   "execution_count": 11,
   "metadata": {},
   "outputs": [
    {
     "data": {
      "text/latex": [
       "$\\displaystyle \\left[\\begin{matrix}1.0 & 0.63 & 0.6 & 1.0 & 0.5 & 1.0 & 0.67 & 0.5\\\\0.63 & 0.83 & 0.89 & 0.63 & 0.86 & 0.63 & 0.93 & 0.86\\\\0.6 & 0.6 & 0.74 & 0.6 & 0.86 & 0.6 & 0.78 & 0.86\\\\1.0 & 0.63 & 0.6 & 0.56 & 0.5 & 1.0 & 0.67 & 0.5\\\\0.5 & 0.86 & 0.86 & 0.5 & 0.5 & 0.5 & 0.5 & 0.5\\\\1.0 & 0.63 & 0.78 & 1.0 & 0.5 & 1.0 & 0.67 & 0.5\\\\0.67 & 0.63 & 0.78 & 0.67 & 0.5 & 0.67 & 0.74 & 0.72\\\\0.5 & 0.86 & 0.86 & 0.5 & 0.5 & 0.5 & 0.72 & 0.5\\end{matrix}\\right]$"
      ],
      "text/plain": [
       "Matrix([\n",
       "[ 1.0, 0.63,  0.6,  1.0,  0.5,  1.0, 0.67,  0.5],\n",
       "[0.63, 0.83, 0.89, 0.63, 0.86, 0.63, 0.93, 0.86],\n",
       "[ 0.6,  0.6, 0.74,  0.6, 0.86,  0.6, 0.78, 0.86],\n",
       "[ 1.0, 0.63,  0.6, 0.56,  0.5,  1.0, 0.67,  0.5],\n",
       "[ 0.5, 0.86, 0.86,  0.5,  0.5,  0.5,  0.5,  0.5],\n",
       "[ 1.0, 0.63, 0.78,  1.0,  0.5,  1.0, 0.67,  0.5],\n",
       "[0.67, 0.63, 0.78, 0.67,  0.5, 0.67, 0.74, 0.72],\n",
       "[ 0.5, 0.86, 0.86,  0.5,  0.5,  0.5, 0.72,  0.5]])"
      ]
     },
     "execution_count": 11,
     "metadata": {},
     "output_type": "execute_result"
    }
   ],
   "source": [
    "sign_determinacy_matrix(G, method='average', as_nan=False, as_abs=True).evalf(2)"
   ]
  },
  {
   "cell_type": "code",
   "execution_count": 12,
   "metadata": {},
   "outputs": [
    {
     "data": {
      "text/latex": [
       "$\\displaystyle \\left[\\begin{matrix}1.0 & -0.7 & 0.63 & -1.0 & -0.54 & 1.0 & -0.64 & -0.54\\\\-0.65 & 0.91 & -0.98 & 0.65 & -0.85 & -0.65 & 0.96 & -0.85\\\\0.75 & -0.65 & 0.85 & -0.75 & 0.91 & -0.76 & -0.83 & 0.91\\\\1.0 & -0.7 & 0.63 & 0.9 & -0.54 & 1.0 & -0.64 & -0.54\\\\0.56 & 0.95 & -0.89 & -0.56 & 0.67 & 0.56 & -0.69 & 0.67\\\\1.0 & -0.7 & 0.85 & -1.0 & -0.54 & 1.0 & -0.64 & -0.54\\\\-0.75 & 0.64 & -0.84 & 0.75 & 0.6 & -0.75 & 0.93 & -0.93\\\\0.56 & 0.95 & -0.89 & -0.56 & 0.67 & 0.56 & 0.82 & 0.67\\end{matrix}\\right]$"
      ],
      "text/plain": [
       "Matrix([\n",
       "[  1.0,  -0.7,  0.63,  -1.0, -0.54,   1.0, -0.64, -0.54],\n",
       "[-0.65,  0.91, -0.98,  0.65, -0.85, -0.65,  0.96, -0.85],\n",
       "[ 0.75, -0.65,  0.85, -0.75,  0.91, -0.76, -0.83,  0.91],\n",
       "[  1.0,  -0.7,  0.63,   0.9, -0.54,   1.0, -0.64, -0.54],\n",
       "[ 0.56,  0.95, -0.89, -0.56,  0.67,  0.56, -0.69,  0.67],\n",
       "[  1.0,  -0.7,  0.85,  -1.0, -0.54,   1.0, -0.64, -0.54],\n",
       "[-0.75,  0.64, -0.84,  0.75,   0.6, -0.75,  0.93, -0.93],\n",
       "[ 0.56,  0.95, -0.89, -0.56,  0.67,  0.56,  0.82,  0.67]])"
      ]
     },
     "execution_count": 12,
     "metadata": {},
     "output_type": "execute_result"
    }
   ],
   "source": [
    "numerical_simulations(G, n_sim=10000, dist=\"uniform\", as_nan=False).evalf(2)"
   ]
  },
  {
   "cell_type": "markdown",
   "metadata": {},
   "source": [
    "## Qualitative predictions"
   ]
  },
  {
   "cell_type": "code",
   "execution_count": 13,
   "metadata": {},
   "outputs": [
    {
     "name": "stdout",
     "output_type": "stream",
     "text": [
      "Qualitative predictions (prediction weights):\n"
     ]
    },
    {
     "data": {
      "text/html": [
       "<div>\n",
       "<style scoped>\n",
       "    .dataframe tbody tr th:only-of-type {\n",
       "        vertical-align: middle;\n",
       "    }\n",
       "\n",
       "    .dataframe tbody tr th {\n",
       "        vertical-align: top;\n",
       "    }\n",
       "\n",
       "    .dataframe thead th {\n",
       "        text-align: right;\n",
       "    }\n",
       "</style>\n",
       "<table border=\"1\" class=\"dataframe\">\n",
       "  <thead>\n",
       "    <tr style=\"text-align: right;\">\n",
       "      <th></th>\n",
       "      <th>P</th>\n",
       "      <th>A1</th>\n",
       "      <th>A2</th>\n",
       "      <th>AP</th>\n",
       "      <th>H1</th>\n",
       "      <th>H2</th>\n",
       "      <th>C1</th>\n",
       "      <th>C2</th>\n",
       "    </tr>\n",
       "  </thead>\n",
       "  <tbody>\n",
       "    <tr>\n",
       "      <th>P</th>\n",
       "      <td>+</td>\n",
       "      <td>?</td>\n",
       "      <td>?</td>\n",
       "      <td>−</td>\n",
       "      <td>?</td>\n",
       "      <td>+</td>\n",
       "      <td>?</td>\n",
       "      <td>?</td>\n",
       "    </tr>\n",
       "    <tr>\n",
       "      <th>A1</th>\n",
       "      <td>?</td>\n",
       "      <td>?</td>\n",
       "      <td>(−)</td>\n",
       "      <td>?</td>\n",
       "      <td>(−)</td>\n",
       "      <td>?</td>\n",
       "      <td>(+)</td>\n",
       "      <td>(−)</td>\n",
       "    </tr>\n",
       "    <tr>\n",
       "      <th>A2</th>\n",
       "      <td>?</td>\n",
       "      <td>?</td>\n",
       "      <td>?</td>\n",
       "      <td>?</td>\n",
       "      <td>(+)</td>\n",
       "      <td>?</td>\n",
       "      <td>?</td>\n",
       "      <td>(+)</td>\n",
       "    </tr>\n",
       "    <tr>\n",
       "      <th>AP</th>\n",
       "      <td>+</td>\n",
       "      <td>?</td>\n",
       "      <td>?</td>\n",
       "      <td>?</td>\n",
       "      <td>?</td>\n",
       "      <td>+</td>\n",
       "      <td>?</td>\n",
       "      <td>?</td>\n",
       "    </tr>\n",
       "    <tr>\n",
       "      <th>H1</th>\n",
       "      <td>?</td>\n",
       "      <td>(+)</td>\n",
       "      <td>(−)</td>\n",
       "      <td>?</td>\n",
       "      <td>?</td>\n",
       "      <td>?</td>\n",
       "      <td>?</td>\n",
       "      <td>?</td>\n",
       "    </tr>\n",
       "    <tr>\n",
       "      <th>H2</th>\n",
       "      <td>+</td>\n",
       "      <td>?</td>\n",
       "      <td>?</td>\n",
       "      <td>−</td>\n",
       "      <td>?</td>\n",
       "      <td>+</td>\n",
       "      <td>?</td>\n",
       "      <td>?</td>\n",
       "    </tr>\n",
       "    <tr>\n",
       "      <th>C1</th>\n",
       "      <td>?</td>\n",
       "      <td>?</td>\n",
       "      <td>?</td>\n",
       "      <td>?</td>\n",
       "      <td>?</td>\n",
       "      <td>?</td>\n",
       "      <td>?</td>\n",
       "      <td>?</td>\n",
       "    </tr>\n",
       "    <tr>\n",
       "      <th>C2</th>\n",
       "      <td>?</td>\n",
       "      <td>(+)</td>\n",
       "      <td>(−)</td>\n",
       "      <td>?</td>\n",
       "      <td>?</td>\n",
       "      <td>?</td>\n",
       "      <td>?</td>\n",
       "      <td>?</td>\n",
       "    </tr>\n",
       "  </tbody>\n",
       "</table>\n",
       "</div>"
      ],
      "text/plain": [
       "    P   A1   A2 AP   H1 H2   C1   C2\n",
       "P   +    ?    ?  −    ?  +    ?    ?\n",
       "A1  ?    ?  (−)  ?  (−)  ?  (+)  (−)\n",
       "A2  ?    ?    ?  ?  (+)  ?    ?  (+)\n",
       "AP  +    ?    ?  ?    ?  +    ?    ?\n",
       "H1  ?  (+)  (−)  ?    ?  ?    ?    ?\n",
       "H2  +    ?    ?  −    ?  +    ?    ?\n",
       "C1  ?    ?    ?  ?    ?  ?    ?    ?\n",
       "C2  ?  (+)  (−)  ?    ?  ?    ?    ?"
      ]
     },
     "execution_count": 13,
     "metadata": {},
     "output_type": "execute_result"
    }
   ],
   "source": [
    "index, columns = get_nodes(G, 'state'), get_nodes(G, 'state')\n",
    "print(\"Qualitative predictions (prediction weights):\")\n",
    "table_of_predictions(weighted_predictions_matrix(G), t1=0.5, t2=1, index=index, columns=columns)"
   ]
  },
  {
   "cell_type": "code",
   "execution_count": 14,
   "metadata": {},
   "outputs": [
    {
     "name": "stdout",
     "output_type": "stream",
     "text": [
      "Qualitative predictions (sign determinacy):\n"
     ]
    },
    {
     "data": {
      "text/html": [
       "<div>\n",
       "<style scoped>\n",
       "    .dataframe tbody tr th:only-of-type {\n",
       "        vertical-align: middle;\n",
       "    }\n",
       "\n",
       "    .dataframe tbody tr th {\n",
       "        vertical-align: top;\n",
       "    }\n",
       "\n",
       "    .dataframe thead th {\n",
       "        text-align: right;\n",
       "    }\n",
       "</style>\n",
       "<table border=\"1\" class=\"dataframe\">\n",
       "  <thead>\n",
       "    <tr style=\"text-align: right;\">\n",
       "      <th></th>\n",
       "      <th>P</th>\n",
       "      <th>A1</th>\n",
       "      <th>A2</th>\n",
       "      <th>AP</th>\n",
       "      <th>H1</th>\n",
       "      <th>H2</th>\n",
       "      <th>C1</th>\n",
       "      <th>C2</th>\n",
       "    </tr>\n",
       "  </thead>\n",
       "  <tbody>\n",
       "    <tr>\n",
       "      <th>P</th>\n",
       "      <td>+</td>\n",
       "      <td>?</td>\n",
       "      <td>?</td>\n",
       "      <td>−</td>\n",
       "      <td>?</td>\n",
       "      <td>+</td>\n",
       "      <td>?</td>\n",
       "      <td>?</td>\n",
       "    </tr>\n",
       "    <tr>\n",
       "      <th>A1</th>\n",
       "      <td>?</td>\n",
       "      <td>(+)</td>\n",
       "      <td>(−)</td>\n",
       "      <td>?</td>\n",
       "      <td>(−)</td>\n",
       "      <td>?</td>\n",
       "      <td>(+)</td>\n",
       "      <td>(−)</td>\n",
       "    </tr>\n",
       "    <tr>\n",
       "      <th>A2</th>\n",
       "      <td>?</td>\n",
       "      <td>?</td>\n",
       "      <td>?</td>\n",
       "      <td>?</td>\n",
       "      <td>(+)</td>\n",
       "      <td>?</td>\n",
       "      <td>?</td>\n",
       "      <td>(+)</td>\n",
       "    </tr>\n",
       "    <tr>\n",
       "      <th>AP</th>\n",
       "      <td>+</td>\n",
       "      <td>?</td>\n",
       "      <td>?</td>\n",
       "      <td>?</td>\n",
       "      <td>?</td>\n",
       "      <td>+</td>\n",
       "      <td>?</td>\n",
       "      <td>?</td>\n",
       "    </tr>\n",
       "    <tr>\n",
       "      <th>H1</th>\n",
       "      <td>?</td>\n",
       "      <td>(+)</td>\n",
       "      <td>(−)</td>\n",
       "      <td>?</td>\n",
       "      <td>?</td>\n",
       "      <td>?</td>\n",
       "      <td>?</td>\n",
       "      <td>?</td>\n",
       "    </tr>\n",
       "    <tr>\n",
       "      <th>H2</th>\n",
       "      <td>+</td>\n",
       "      <td>?</td>\n",
       "      <td>?</td>\n",
       "      <td>−</td>\n",
       "      <td>?</td>\n",
       "      <td>+</td>\n",
       "      <td>?</td>\n",
       "      <td>?</td>\n",
       "    </tr>\n",
       "    <tr>\n",
       "      <th>C1</th>\n",
       "      <td>?</td>\n",
       "      <td>?</td>\n",
       "      <td>?</td>\n",
       "      <td>?</td>\n",
       "      <td>?</td>\n",
       "      <td>?</td>\n",
       "      <td>?</td>\n",
       "      <td>?</td>\n",
       "    </tr>\n",
       "    <tr>\n",
       "      <th>C2</th>\n",
       "      <td>?</td>\n",
       "      <td>(+)</td>\n",
       "      <td>(−)</td>\n",
       "      <td>?</td>\n",
       "      <td>?</td>\n",
       "      <td>?</td>\n",
       "      <td>?</td>\n",
       "      <td>?</td>\n",
       "    </tr>\n",
       "  </tbody>\n",
       "</table>\n",
       "</div>"
      ],
      "text/plain": [
       "    P   A1   A2 AP   H1 H2   C1   C2\n",
       "P   +    ?    ?  −    ?  +    ?    ?\n",
       "A1  ?  (+)  (−)  ?  (−)  ?  (+)  (−)\n",
       "A2  ?    ?    ?  ?  (+)  ?    ?  (+)\n",
       "AP  +    ?    ?  ?    ?  +    ?    ?\n",
       "H1  ?  (+)  (−)  ?    ?  ?    ?    ?\n",
       "H2  +    ?    ?  −    ?  +    ?    ?\n",
       "C1  ?    ?    ?  ?    ?  ?    ?    ?\n",
       "C2  ?  (+)  (−)  ?    ?  ?    ?    ?"
      ]
     },
     "execution_count": 14,
     "metadata": {},
     "output_type": "execute_result"
    }
   ],
   "source": [
    "print(\"Qualitative predictions (sign determinacy):\")\n",
    "table_of_predictions(sign_determinacy_matrix(G), t1=0.8, t2=1, index=index, columns=columns)"
   ]
  },
  {
   "cell_type": "code",
   "execution_count": 15,
   "metadata": {},
   "outputs": [
    {
     "name": "stdout",
     "output_type": "stream",
     "text": [
      "Qualitative predictions (numerical simulations):\n"
     ]
    },
    {
     "data": {
      "text/html": [
       "<div>\n",
       "<style scoped>\n",
       "    .dataframe tbody tr th:only-of-type {\n",
       "        vertical-align: middle;\n",
       "    }\n",
       "\n",
       "    .dataframe tbody tr th {\n",
       "        vertical-align: top;\n",
       "    }\n",
       "\n",
       "    .dataframe thead th {\n",
       "        text-align: right;\n",
       "    }\n",
       "</style>\n",
       "<table border=\"1\" class=\"dataframe\">\n",
       "  <thead>\n",
       "    <tr style=\"text-align: right;\">\n",
       "      <th></th>\n",
       "      <th>P</th>\n",
       "      <th>A1</th>\n",
       "      <th>A2</th>\n",
       "      <th>AP</th>\n",
       "      <th>H1</th>\n",
       "      <th>H2</th>\n",
       "      <th>C1</th>\n",
       "      <th>C2</th>\n",
       "    </tr>\n",
       "  </thead>\n",
       "  <tbody>\n",
       "    <tr>\n",
       "      <th>P</th>\n",
       "      <td>+</td>\n",
       "      <td>?</td>\n",
       "      <td>?</td>\n",
       "      <td>−</td>\n",
       "      <td>?</td>\n",
       "      <td>+</td>\n",
       "      <td>?</td>\n",
       "      <td>?</td>\n",
       "    </tr>\n",
       "    <tr>\n",
       "      <th>A1</th>\n",
       "      <td>?</td>\n",
       "      <td>(+)</td>\n",
       "      <td>(−)</td>\n",
       "      <td>?</td>\n",
       "      <td>(−)</td>\n",
       "      <td>?</td>\n",
       "      <td>(+)</td>\n",
       "      <td>(−)</td>\n",
       "    </tr>\n",
       "    <tr>\n",
       "      <th>A2</th>\n",
       "      <td>?</td>\n",
       "      <td>?</td>\n",
       "      <td>(+)</td>\n",
       "      <td>?</td>\n",
       "      <td>(+)</td>\n",
       "      <td>?</td>\n",
       "      <td>(−)</td>\n",
       "      <td>(+)</td>\n",
       "    </tr>\n",
       "    <tr>\n",
       "      <th>AP</th>\n",
       "      <td>+</td>\n",
       "      <td>?</td>\n",
       "      <td>?</td>\n",
       "      <td>(+)</td>\n",
       "      <td>?</td>\n",
       "      <td>+</td>\n",
       "      <td>?</td>\n",
       "      <td>?</td>\n",
       "    </tr>\n",
       "    <tr>\n",
       "      <th>H1</th>\n",
       "      <td>?</td>\n",
       "      <td>(+)</td>\n",
       "      <td>(−)</td>\n",
       "      <td>?</td>\n",
       "      <td>?</td>\n",
       "      <td>?</td>\n",
       "      <td>?</td>\n",
       "      <td>?</td>\n",
       "    </tr>\n",
       "    <tr>\n",
       "      <th>H2</th>\n",
       "      <td>+</td>\n",
       "      <td>?</td>\n",
       "      <td>(+)</td>\n",
       "      <td>−</td>\n",
       "      <td>?</td>\n",
       "      <td>+</td>\n",
       "      <td>?</td>\n",
       "      <td>?</td>\n",
       "    </tr>\n",
       "    <tr>\n",
       "      <th>C1</th>\n",
       "      <td>?</td>\n",
       "      <td>?</td>\n",
       "      <td>(−)</td>\n",
       "      <td>?</td>\n",
       "      <td>?</td>\n",
       "      <td>?</td>\n",
       "      <td>(+)</td>\n",
       "      <td>(−)</td>\n",
       "    </tr>\n",
       "    <tr>\n",
       "      <th>C2</th>\n",
       "      <td>?</td>\n",
       "      <td>(+)</td>\n",
       "      <td>(−)</td>\n",
       "      <td>?</td>\n",
       "      <td>?</td>\n",
       "      <td>?</td>\n",
       "      <td>(+)</td>\n",
       "      <td>?</td>\n",
       "    </tr>\n",
       "  </tbody>\n",
       "</table>\n",
       "</div>"
      ],
      "text/plain": [
       "    P   A1   A2   AP   H1 H2   C1   C2\n",
       "P   +    ?    ?    −    ?  +    ?    ?\n",
       "A1  ?  (+)  (−)    ?  (−)  ?  (+)  (−)\n",
       "A2  ?    ?  (+)    ?  (+)  ?  (−)  (+)\n",
       "AP  +    ?    ?  (+)    ?  +    ?    ?\n",
       "H1  ?  (+)  (−)    ?    ?  ?    ?    ?\n",
       "H2  +    ?  (+)    −    ?  +    ?    ?\n",
       "C1  ?    ?  (−)    ?    ?  ?  (+)  (−)\n",
       "C2  ?  (+)  (−)    ?    ?  ?  (+)    ?"
      ]
     },
     "execution_count": 15,
     "metadata": {},
     "output_type": "execute_result"
    }
   ],
   "source": [
    "print(\"Qualitative predictions (numerical simulations):\")\n",
    "table_of_predictions(numerical_simulations(G), t1=0.8, t2=1, index=index, columns=columns)"
   ]
  },
  {
   "cell_type": "markdown",
   "metadata": {},
   "source": [
    "## Extensions (experimental)\n",
    "\n",
    "### Structural sensitivity"
   ]
  },
  {
   "cell_type": "code",
   "execution_count": 16,
   "metadata": {},
   "outputs": [
    {
     "data": {
      "text/latex": [
       "$\\displaystyle \\left[\\begin{matrix}-1 & 1 & -1 & -1 & 0 & 0 & 0 & 0\\\\-1 & 0 & 0 & 0 & -2 & 1 & 0 & 0\\\\1 & 0 & 0 & 0 & 0 & -3 & 0 & 0\\\\-1 & 0 & 0 & -1 & 0 & 0 & 0 & 0\\\\0 & -2 & 0 & 0 & 0 & 0 & 0 & 0\\\\0 & -1 & -1 & 0 & 0 & 0 & 0 & 0\\\\0 & 0 & 0 & 0 & 0 & 0 & 0 & -2\\\\0 & 0 & 0 & 0 & 0 & 0 & -2 & 0\\end{matrix}\\right]$"
      ],
      "text/plain": [
       "Matrix([\n",
       "[-1,  1, -1, -1,  0,  0,  0,  0],\n",
       "[-1,  0,  0,  0, -2,  1,  0,  0],\n",
       "[ 1,  0,  0,  0,  0, -3,  0,  0],\n",
       "[-1,  0,  0, -1,  0,  0,  0,  0],\n",
       "[ 0, -2,  0,  0,  0,  0,  0,  0],\n",
       "[ 0, -1, -1,  0,  0,  0,  0,  0],\n",
       "[ 0,  0,  0,  0,  0,  0,  0, -2],\n",
       "[ 0,  0,  0,  0,  0,  0, -2,  0]])"
      ]
     },
     "execution_count": 16,
     "metadata": {},
     "output_type": "execute_result"
    }
   ],
   "source": [
    "net_structural_sensitivity(G, level=None)"
   ]
  },
  {
   "cell_type": "code",
   "execution_count": 17,
   "metadata": {},
   "outputs": [
    {
     "data": {
      "text/latex": [
       "$\\displaystyle \\left[\\begin{matrix}1 & 7 & 9 & 1 & 0 & 0 & 0 & 0\\\\7 & 0 & 0 & 0 & 4 & 7 & 0 & 0\\\\9 & 0 & 0 & 0 & 0 & 9 & 0 & 0\\\\1 & 0 & 0 & 17 & 0 & 0 & 0 & 0\\\\0 & 4 & 0 & 0 & 0 & 0 & 10 & 4\\\\0 & 7 & 9 & 0 & 0 & 0 & 0 & 2\\\\0 & 0 & 0 & 0 & 10 & 0 & 0 & 8\\\\0 & 0 & 0 & 0 & 4 & 2 & 8 & 4\\end{matrix}\\right]$"
      ],
      "text/plain": [
       "Matrix([\n",
       "[1, 7, 9,  1,  0, 0,  0, 0],\n",
       "[7, 0, 0,  0,  4, 7,  0, 0],\n",
       "[9, 0, 0,  0,  0, 9,  0, 0],\n",
       "[1, 0, 0, 17,  0, 0,  0, 0],\n",
       "[0, 4, 0,  0,  0, 0, 10, 4],\n",
       "[0, 7, 9,  0,  0, 0,  0, 2],\n",
       "[0, 0, 0,  0, 10, 0,  0, 8],\n",
       "[0, 0, 0,  0,  4, 2,  8, 4]])"
      ]
     },
     "execution_count": 17,
     "metadata": {},
     "output_type": "execute_result"
    }
   ],
   "source": [
    "absolute_structural_sensitivity(G, level=None)"
   ]
  },
  {
   "cell_type": "code",
   "execution_count": 18,
   "metadata": {},
   "outputs": [
    {
     "data": {
      "text/latex": [
       "$\\displaystyle \\left[\\begin{matrix}-1.0 & 0.14 & -0.11 & -1.0 & \\text{NaN} & \\text{NaN} & \\text{NaN} & \\text{NaN}\\\\-0.14 & \\text{NaN} & \\text{NaN} & \\text{NaN} & -0.5 & 0.14 & \\text{NaN} & \\text{NaN}\\\\0.11 & \\text{NaN} & \\text{NaN} & \\text{NaN} & \\text{NaN} & -0.33 & \\text{NaN} & \\text{NaN}\\\\-1.0 & \\text{NaN} & \\text{NaN} & -0.059 & \\text{NaN} & \\text{NaN} & \\text{NaN} & \\text{NaN}\\\\\\text{NaN} & -0.5 & \\text{NaN} & \\text{NaN} & \\text{NaN} & \\text{NaN} & 0 & 0\\\\\\text{NaN} & -0.14 & -0.11 & \\text{NaN} & \\text{NaN} & \\text{NaN} & \\text{NaN} & 0\\\\\\text{NaN} & \\text{NaN} & \\text{NaN} & \\text{NaN} & 0 & \\text{NaN} & \\text{NaN} & -0.25\\\\\\text{NaN} & \\text{NaN} & \\text{NaN} & \\text{NaN} & 0 & 0 & -0.25 & 0\\end{matrix}\\right]$"
      ],
      "text/plain": [
       "Matrix([\n",
       "[ -1.0,  0.14, -0.11,   -1.0,  nan,   nan,   nan,   nan],\n",
       "[-0.14,   nan,   nan,    nan, -0.5,  0.14,   nan,   nan],\n",
       "[ 0.11,   nan,   nan,    nan,  nan, -0.33,   nan,   nan],\n",
       "[ -1.0,   nan,   nan, -0.059,  nan,   nan,   nan,   nan],\n",
       "[  nan,  -0.5,   nan,    nan,  nan,   nan,     0,     0],\n",
       "[  nan, -0.14, -0.11,    nan,  nan,   nan,   nan,     0],\n",
       "[  nan,   nan,   nan,    nan,    0,   nan,   nan, -0.25],\n",
       "[  nan,   nan,   nan,    nan,    0,     0, -0.25,     0]])"
      ]
     },
     "execution_count": 18,
     "metadata": {},
     "output_type": "execute_result"
    }
   ],
   "source": [
    "weighted_structural_sensitivity(G, level=None).evalf(2)"
   ]
  },
  {
   "cell_type": "markdown",
   "metadata": {},
   "source": [
    "### Change in life expectancy"
   ]
  },
  {
   "cell_type": "code",
   "execution_count": 19,
   "metadata": {},
   "outputs": [
    {
     "data": {
      "text/latex": [
       "$\\displaystyle \\left[\\begin{matrix}0 & 0 & 0 & 0 & 0 & 0 & 0 & 0\\\\1 & 0 & 0 & 0 & 0 & 0 & 0 & 0\\\\1 & 0 & 0 & 0 & 0 & 0 & 0 & 0\\\\1 & 0 & 0 & 0 & 0 & 0 & 0 & 0\\\\0 & 1 & 0 & 0 & 0 & 0 & 0 & 0\\\\0 & 1 & 1 & 0 & 0 & 0 & 0 & 0\\\\0 & 0 & 0 & 0 & 1 & 0 & 0 & 0\\\\0 & 0 & 0 & 0 & 1 & 1 & 1 & 0\\end{matrix}\\right]$"
      ],
      "text/plain": [
       "Matrix([\n",
       "[0, 0, 0, 0, 0, 0, 0, 0],\n",
       "[1, 0, 0, 0, 0, 0, 0, 0],\n",
       "[1, 0, 0, 0, 0, 0, 0, 0],\n",
       "[1, 0, 0, 0, 0, 0, 0, 0],\n",
       "[0, 1, 0, 0, 0, 0, 0, 0],\n",
       "[0, 1, 1, 0, 0, 0, 0, 0],\n",
       "[0, 0, 0, 0, 1, 0, 0, 0],\n",
       "[0, 0, 0, 0, 1, 1, 1, 0]])"
      ]
     },
     "execution_count": 19,
     "metadata": {},
     "output_type": "execute_result"
    }
   ],
   "source": [
    "birth_matrix(G, form='signed')"
   ]
  },
  {
   "cell_type": "code",
   "execution_count": 20,
   "metadata": {},
   "outputs": [
    {
     "data": {
      "text/latex": [
       "$\\displaystyle \\left[\\begin{matrix}1 & 1 & 1 & 1 & 0 & 0 & 0 & 0\\\\0 & 0 & 0 & 0 & 1 & 1 & 0 & 0\\\\0 & 0 & 0 & 0 & 0 & 1 & 0 & 0\\\\0 & 0 & 0 & 1 & 0 & 0 & 0 & 0\\\\0 & 0 & 0 & 0 & 0 & 0 & 1 & 1\\\\0 & 0 & 0 & 0 & 0 & 0 & 0 & 1\\\\0 & 0 & 0 & 0 & 0 & 0 & 0 & 1\\\\0 & 0 & 0 & 0 & 0 & 0 & 0 & 1\\end{matrix}\\right]$"
      ],
      "text/plain": [
       "Matrix([\n",
       "[1, 1, 1, 1, 0, 0, 0, 0],\n",
       "[0, 0, 0, 0, 1, 1, 0, 0],\n",
       "[0, 0, 0, 0, 0, 1, 0, 0],\n",
       "[0, 0, 0, 1, 0, 0, 0, 0],\n",
       "[0, 0, 0, 0, 0, 0, 1, 1],\n",
       "[0, 0, 0, 0, 0, 0, 0, 1],\n",
       "[0, 0, 0, 0, 0, 0, 0, 1],\n",
       "[0, 0, 0, 0, 0, 0, 0, 1]])"
      ]
     },
     "execution_count": 20,
     "metadata": {},
     "output_type": "execute_result"
    }
   ],
   "source": [
    "death_matrix(G, form='signed')"
   ]
  },
  {
   "cell_type": "code",
   "execution_count": 21,
   "metadata": {},
   "outputs": [
    {
     "data": {
      "text/latex": [
       "$\\displaystyle \\left[\\begin{matrix}-2 & 0 & 0 & 0 & 0 & 0 & 0 & 0\\\\-1 & -1 & -1 & 1 & 0 & -1 & 1 & 0\\\\-1 & 1 & -3 & 1 & 0 & -1 & 1 & 0\\\\-1 & 1 & -1 & -1 & 0 & -1 & 1 & 0\\\\1 & -3 & 5 & -1 & 0 & 1 & -5 & 2\\\\0 & -2 & 2 & 0 & 0 & 0 & -2 & 0\\\\0 & -2 & 2 & 0 & 0 & 0 & -2 & 0\\\\0 & -2 & 2 & 0 & 0 & 0 & -2 & 0\\end{matrix}\\right]$"
      ],
      "text/plain": [
       "Matrix([\n",
       "[-2,  0,  0,  0, 0,  0,  0, 0],\n",
       "[-1, -1, -1,  1, 0, -1,  1, 0],\n",
       "[-1,  1, -3,  1, 0, -1,  1, 0],\n",
       "[-1,  1, -1, -1, 0, -1,  1, 0],\n",
       "[ 1, -3,  5, -1, 0,  1, -5, 2],\n",
       "[ 0, -2,  2,  0, 0,  0, -2, 0],\n",
       "[ 0, -2,  2,  0, 0,  0, -2, 0],\n",
       "[ 0, -2,  2,  0, 0,  0, -2, 0]])"
      ]
     },
     "execution_count": 21,
     "metadata": {},
     "output_type": "execute_result"
    }
   ],
   "source": [
    "net_life_expectancy_change(G, type='birth')"
   ]
  },
  {
   "cell_type": "code",
   "execution_count": 22,
   "metadata": {},
   "outputs": [
    {
     "data": {
      "text/latex": [
       "$\\displaystyle \\left[\\begin{matrix}0 & 0 & 0 & 0 & 0 & 0 & 0 & 0\\\\-1 & 1 & -1 & 1 & 0 & -1 & 1 & 0\\\\-1 & 1 & -1 & 1 & 0 & -1 & 1 & 0\\\\-1 & 1 & -1 & 1 & 0 & -1 & 1 & 0\\\\1 & -3 & 5 & -1 & 2 & 1 & -5 & 2\\\\0 & -2 & 2 & 0 & 0 & 2 & -2 & 0\\\\0 & -2 & 2 & 0 & 0 & 0 & 0 & 0\\\\0 & -2 & 2 & 0 & 0 & 0 & -2 & 2\\end{matrix}\\right]$"
      ],
      "text/plain": [
       "Matrix([\n",
       "[ 0,  0,  0,  0, 0,  0,  0, 0],\n",
       "[-1,  1, -1,  1, 0, -1,  1, 0],\n",
       "[-1,  1, -1,  1, 0, -1,  1, 0],\n",
       "[-1,  1, -1,  1, 0, -1,  1, 0],\n",
       "[ 1, -3,  5, -1, 2,  1, -5, 2],\n",
       "[ 0, -2,  2,  0, 0,  2, -2, 0],\n",
       "[ 0, -2,  2,  0, 0,  0,  0, 0],\n",
       "[ 0, -2,  2,  0, 0,  0, -2, 2]])"
      ]
     },
     "execution_count": 22,
     "metadata": {},
     "output_type": "execute_result"
    }
   ],
   "source": [
    "net_life_expectancy_change(G, type='death')"
   ]
  },
  {
   "cell_type": "code",
   "execution_count": 23,
   "metadata": {},
   "outputs": [
    {
     "data": {
      "text/latex": [
       "$\\displaystyle \\left[\\begin{matrix}18 & 0 & 0 & 0 & 0 & 0 & 0 & 0\\\\1 & 11 & 9 & 1 & 2 & 1 & 5 & 2\\\\1 & 7 & 9 & 1 & 2 & 1 & 5 & 2\\\\1 & 7 & 9 & 17 & 2 & 1 & 5 & 2\\\\7 & 7 & 9 & 7 & 14 & 7 & 7 & 4\\\\2 & 4 & 4 & 2 & 4 & 2 & 8 & 4\\\\2 & 4 & 4 & 2 & 4 & 2 & 8 & 4\\\\2 & 4 & 4 & 2 & 4 & 2 & 8 & 4\\end{matrix}\\right]$"
      ],
      "text/plain": [
       "Matrix([\n",
       "[18,  0, 0,  0,  0, 0, 0, 0],\n",
       "[ 1, 11, 9,  1,  2, 1, 5, 2],\n",
       "[ 1,  7, 9,  1,  2, 1, 5, 2],\n",
       "[ 1,  7, 9, 17,  2, 1, 5, 2],\n",
       "[ 7,  7, 9,  7, 14, 7, 7, 4],\n",
       "[ 2,  4, 4,  2,  4, 2, 8, 4],\n",
       "[ 2,  4, 4,  2,  4, 2, 8, 4],\n",
       "[ 2,  4, 4,  2,  4, 2, 8, 4]])"
      ]
     },
     "execution_count": 23,
     "metadata": {},
     "output_type": "execute_result"
    }
   ],
   "source": [
    "absolute_life_expectancy_change(G, type='birth')"
   ]
  },
  {
   "cell_type": "code",
   "execution_count": 24,
   "metadata": {},
   "outputs": [
    {
     "data": {
      "text/latex": [
       "$\\displaystyle \\left[\\begin{matrix}0 & 0 & 0 & 0 & 0 & 0 & 0 & 0\\\\1 & 7 & 9 & 1 & 2 & 1 & 5 & 2\\\\1 & 7 & 9 & 1 & 2 & 1 & 5 & 2\\\\1 & 7 & 9 & 1 & 2 & 1 & 5 & 2\\\\7 & 7 & 9 & 7 & 4 & 7 & 7 & 4\\\\2 & 4 & 4 & 2 & 4 & 16 & 8 & 4\\\\2 & 4 & 4 & 2 & 4 & 2 & 10 & 4\\\\2 & 4 & 4 & 2 & 4 & 2 & 8 & 14\\end{matrix}\\right]$"
      ],
      "text/plain": [
       "Matrix([\n",
       "[0, 0, 0, 0, 0,  0,  0,  0],\n",
       "[1, 7, 9, 1, 2,  1,  5,  2],\n",
       "[1, 7, 9, 1, 2,  1,  5,  2],\n",
       "[1, 7, 9, 1, 2,  1,  5,  2],\n",
       "[7, 7, 9, 7, 4,  7,  7,  4],\n",
       "[2, 4, 4, 2, 4, 16,  8,  4],\n",
       "[2, 4, 4, 2, 4,  2, 10,  4],\n",
       "[2, 4, 4, 2, 4,  2,  8, 14]])"
      ]
     },
     "execution_count": 24,
     "metadata": {},
     "output_type": "execute_result"
    }
   ],
   "source": [
    "absolute_life_expectancy_change(G, type='death')"
   ]
  },
  {
   "cell_type": "code",
   "execution_count": 25,
   "metadata": {},
   "outputs": [
    {
     "data": {
      "text/latex": [
       "$\\displaystyle \\left[\\begin{matrix}0.11 & 1.0 & 1.0 & 1.0 & 1.0 & 1.0 & 1.0 & 1.0\\\\1.0 & 0.091 & 0.11 & 1.0 & 0 & 1.0 & 0.2 & 0\\\\1.0 & 0.14 & 0.33 & 1.0 & 0 & 1.0 & 0.2 & 0\\\\1.0 & 0.14 & 0.11 & 0.059 & 0 & 1.0 & 0.2 & 0\\\\0.14 & 0.43 & 0.56 & 0.14 & 0 & 0.14 & 0.71 & 0.5\\\\0 & 0.5 & 0.5 & 0 & 0 & 0 & 0.25 & 0\\\\0 & 0.5 & 0.5 & 0 & 0 & 0 & 0.25 & 0\\\\0 & 0.5 & 0.5 & 0 & 0 & 0 & 0.25 & 0\\end{matrix}\\right]$"
      ],
      "text/plain": [
       "Matrix([\n",
       "[0.11,   1.0,  1.0,   1.0, 1.0,  1.0,  1.0, 1.0],\n",
       "[ 1.0, 0.091, 0.11,   1.0,   0,  1.0,  0.2,   0],\n",
       "[ 1.0,  0.14, 0.33,   1.0,   0,  1.0,  0.2,   0],\n",
       "[ 1.0,  0.14, 0.11, 0.059,   0,  1.0,  0.2,   0],\n",
       "[0.14,  0.43, 0.56,  0.14,   0, 0.14, 0.71, 0.5],\n",
       "[   0,   0.5,  0.5,     0,   0,    0, 0.25,   0],\n",
       "[   0,   0.5,  0.5,     0,   0,    0, 0.25,   0],\n",
       "[   0,   0.5,  0.5,     0,   0,    0, 0.25,   0]])"
      ]
     },
     "execution_count": 25,
     "metadata": {},
     "output_type": "execute_result"
    }
   ],
   "source": [
    "weighted_predictions_life_expectancy(G, type='birth', as_nan=False, as_abs=True).evalf(2)"
   ]
  },
  {
   "cell_type": "code",
   "execution_count": 26,
   "metadata": {},
   "outputs": [
    {
     "data": {
      "text/latex": [
       "$\\displaystyle \\left[\\begin{matrix}1.0 & 1.0 & 1.0 & 1.0 & 1.0 & 1.0 & 1.0 & 1.0\\\\1.0 & 0.14 & 0.11 & 1.0 & 0 & 1.0 & 0.2 & 0\\\\1.0 & 0.14 & 0.11 & 1.0 & 0 & 1.0 & 0.2 & 0\\\\1.0 & 0.14 & 0.11 & 1.0 & 0 & 1.0 & 0.2 & 0\\\\0.14 & 0.43 & 0.56 & 0.14 & 0.5 & 0.14 & 0.71 & 0.5\\\\0 & 0.5 & 0.5 & 0 & 0 & 0.13 & 0.25 & 0\\\\0 & 0.5 & 0.5 & 0 & 0 & 0 & 0 & 0\\\\0 & 0.5 & 0.5 & 0 & 0 & 0 & 0.25 & 0.14\\end{matrix}\\right]$"
      ],
      "text/plain": [
       "Matrix([\n",
       "[ 1.0,  1.0,  1.0,  1.0, 1.0,  1.0,  1.0,  1.0],\n",
       "[ 1.0, 0.14, 0.11,  1.0,   0,  1.0,  0.2,    0],\n",
       "[ 1.0, 0.14, 0.11,  1.0,   0,  1.0,  0.2,    0],\n",
       "[ 1.0, 0.14, 0.11,  1.0,   0,  1.0,  0.2,    0],\n",
       "[0.14, 0.43, 0.56, 0.14, 0.5, 0.14, 0.71,  0.5],\n",
       "[   0,  0.5,  0.5,    0,   0, 0.13, 0.25,    0],\n",
       "[   0,  0.5,  0.5,    0,   0,    0,    0,    0],\n",
       "[   0,  0.5,  0.5,    0,   0,    0, 0.25, 0.14]])"
      ]
     },
     "execution_count": 26,
     "metadata": {},
     "output_type": "execute_result"
    }
   ],
   "source": [
    "weighted_predictions_life_expectancy(G, type='death', as_nan=False, as_abs=True).evalf(2)"
   ]
  },
  {
   "cell_type": "code",
   "execution_count": 27,
   "metadata": {},
   "outputs": [
    {
     "data": {
      "text/html": [
       "<div>\n",
       "<style scoped>\n",
       "    .dataframe tbody tr th:only-of-type {\n",
       "        vertical-align: middle;\n",
       "    }\n",
       "\n",
       "    .dataframe tbody tr th {\n",
       "        vertical-align: top;\n",
       "    }\n",
       "\n",
       "    .dataframe thead th {\n",
       "        text-align: right;\n",
       "    }\n",
       "</style>\n",
       "<table border=\"1\" class=\"dataframe\">\n",
       "  <thead>\n",
       "    <tr style=\"text-align: right;\">\n",
       "      <th></th>\n",
       "      <th>P</th>\n",
       "      <th>A1</th>\n",
       "      <th>A2</th>\n",
       "      <th>AP</th>\n",
       "      <th>H1</th>\n",
       "      <th>H2</th>\n",
       "      <th>C1</th>\n",
       "      <th>C2</th>\n",
       "    </tr>\n",
       "  </thead>\n",
       "  <tbody>\n",
       "    <tr>\n",
       "      <th>P</th>\n",
       "      <td>?, 0</td>\n",
       "      <td>0</td>\n",
       "      <td>0</td>\n",
       "      <td>0</td>\n",
       "      <td>0</td>\n",
       "      <td>0</td>\n",
       "      <td>0</td>\n",
       "      <td>0</td>\n",
       "    </tr>\n",
       "    <tr>\n",
       "      <th>A1</th>\n",
       "      <td>−</td>\n",
       "      <td>?</td>\n",
       "      <td>?</td>\n",
       "      <td>+</td>\n",
       "      <td>?</td>\n",
       "      <td>−</td>\n",
       "      <td>?</td>\n",
       "      <td>?</td>\n",
       "    </tr>\n",
       "    <tr>\n",
       "      <th>A2</th>\n",
       "      <td>−</td>\n",
       "      <td>?</td>\n",
       "      <td>?</td>\n",
       "      <td>+</td>\n",
       "      <td>?</td>\n",
       "      <td>−</td>\n",
       "      <td>?</td>\n",
       "      <td>?</td>\n",
       "    </tr>\n",
       "    <tr>\n",
       "      <th>AP</th>\n",
       "      <td>−</td>\n",
       "      <td>?</td>\n",
       "      <td>?</td>\n",
       "      <td>?, +</td>\n",
       "      <td>?</td>\n",
       "      <td>−</td>\n",
       "      <td>?</td>\n",
       "      <td>?</td>\n",
       "    </tr>\n",
       "    <tr>\n",
       "      <th>H1</th>\n",
       "      <td>?</td>\n",
       "      <td>?</td>\n",
       "      <td>(+)</td>\n",
       "      <td>?</td>\n",
       "      <td>?, (+)</td>\n",
       "      <td>?</td>\n",
       "      <td>(−)</td>\n",
       "      <td>(+)</td>\n",
       "    </tr>\n",
       "    <tr>\n",
       "      <th>H2</th>\n",
       "      <td>?</td>\n",
       "      <td>(−)</td>\n",
       "      <td>(+)</td>\n",
       "      <td>?</td>\n",
       "      <td>?</td>\n",
       "      <td>?</td>\n",
       "      <td>?</td>\n",
       "      <td>?</td>\n",
       "    </tr>\n",
       "    <tr>\n",
       "      <th>C1</th>\n",
       "      <td>?</td>\n",
       "      <td>(−)</td>\n",
       "      <td>(+)</td>\n",
       "      <td>?</td>\n",
       "      <td>?</td>\n",
       "      <td>?</td>\n",
       "      <td>?</td>\n",
       "      <td>?</td>\n",
       "    </tr>\n",
       "    <tr>\n",
       "      <th>C2</th>\n",
       "      <td>?</td>\n",
       "      <td>(−)</td>\n",
       "      <td>(+)</td>\n",
       "      <td>?</td>\n",
       "      <td>?</td>\n",
       "      <td>?</td>\n",
       "      <td>?</td>\n",
       "      <td>?</td>\n",
       "    </tr>\n",
       "  </tbody>\n",
       "</table>\n",
       "</div>"
      ],
      "text/plain": [
       "       P   A1   A2    AP      H1 H2   C1   C2\n",
       "P   ?, 0    0    0     0       0  0    0    0\n",
       "A1     −    ?    ?     +       ?  −    ?    ?\n",
       "A2     −    ?    ?     +       ?  −    ?    ?\n",
       "AP     −    ?    ?  ?, +       ?  −    ?    ?\n",
       "H1     ?    ?  (+)     ?  ?, (+)  ?  (−)  (+)\n",
       "H2     ?  (−)  (+)     ?       ?  ?    ?    ?\n",
       "C1     ?  (−)  (+)     ?       ?  ?    ?    ?\n",
       "C2     ?  (−)  (+)     ?       ?  ?    ?    ?"
      ]
     },
     "execution_count": 27,
     "metadata": {},
     "output_type": "execute_result"
    }
   ],
   "source": [
    "bpred = table_of_predictions(weighted_predictions_life_expectancy(G, type='birth'), t1=0.5, t2=1)\n",
    "dpred = table_of_predictions(weighted_predictions_life_expectancy(G, type='death'), t1=0.5, t2=1)\n",
    "delta_le = compare_predictions(bpred, dpred)\n",
    "delta_le.columns = get_nodes(G, 'state')\n",
    "delta_le.index = get_nodes(G, 'state')\n",
    "delta_le"
   ]
  },
  {
   "cell_type": "markdown",
   "metadata": {},
   "source": [
    "### Causal pathways\n",
    "\n",
    "Specify source and target node id for selected analyses:"
   ]
  },
  {
   "cell_type": "code",
   "execution_count": 28,
   "metadata": {},
   "outputs": [
    {
     "data": {
      "text/html": [
       "<div>\n",
       "<style scoped>\n",
       "    .dataframe tbody tr th:only-of-type {\n",
       "        vertical-align: middle;\n",
       "    }\n",
       "\n",
       "    .dataframe tbody tr th {\n",
       "        vertical-align: top;\n",
       "    }\n",
       "\n",
       "    .dataframe thead th {\n",
       "        text-align: right;\n",
       "    }\n",
       "</style>\n",
       "<table border=\"1\" class=\"dataframe\">\n",
       "  <thead>\n",
       "    <tr style=\"text-align: right;\">\n",
       "      <th></th>\n",
       "      <th>Length</th>\n",
       "      <th>Cycle</th>\n",
       "      <th>Sign</th>\n",
       "    </tr>\n",
       "  </thead>\n",
       "  <tbody>\n",
       "    <tr>\n",
       "      <th>0</th>\n",
       "      <td>1</td>\n",
       "      <td>AP ⊸ AP</td>\n",
       "      <td>−</td>\n",
       "    </tr>\n",
       "    <tr>\n",
       "      <th>1</th>\n",
       "      <td>1</td>\n",
       "      <td>C2 ⊸ C2</td>\n",
       "      <td>−</td>\n",
       "    </tr>\n",
       "    <tr>\n",
       "      <th>2</th>\n",
       "      <td>1</td>\n",
       "      <td>P ⊸ P</td>\n",
       "      <td>−</td>\n",
       "    </tr>\n",
       "    <tr>\n",
       "      <th>3</th>\n",
       "      <td>2</td>\n",
       "      <td>A1 → H1 ⊸ A1</td>\n",
       "      <td>−</td>\n",
       "    </tr>\n",
       "    <tr>\n",
       "      <th>4</th>\n",
       "      <td>2</td>\n",
       "      <td>A1 → H2 ⊸ A1</td>\n",
       "      <td>−</td>\n",
       "    </tr>\n",
       "    <tr>\n",
       "      <th>5</th>\n",
       "      <td>2</td>\n",
       "      <td>A1 ⊸ P → A1</td>\n",
       "      <td>−</td>\n",
       "    </tr>\n",
       "    <tr>\n",
       "      <th>6</th>\n",
       "      <td>2</td>\n",
       "      <td>A2 → H2 ⊸ A2</td>\n",
       "      <td>−</td>\n",
       "    </tr>\n",
       "    <tr>\n",
       "      <th>7</th>\n",
       "      <td>2</td>\n",
       "      <td>A2 ⊸ P → A2</td>\n",
       "      <td>−</td>\n",
       "    </tr>\n",
       "    <tr>\n",
       "      <th>8</th>\n",
       "      <td>2</td>\n",
       "      <td>C2 ⊸ C1 → C2</td>\n",
       "      <td>−</td>\n",
       "    </tr>\n",
       "    <tr>\n",
       "      <th>9</th>\n",
       "      <td>2</td>\n",
       "      <td>C2 ⊸ H1 → C2</td>\n",
       "      <td>−</td>\n",
       "    </tr>\n",
       "    <tr>\n",
       "      <th>10</th>\n",
       "      <td>2</td>\n",
       "      <td>C2 ⊸ H2 → C2</td>\n",
       "      <td>−</td>\n",
       "    </tr>\n",
       "    <tr>\n",
       "      <th>11</th>\n",
       "      <td>2</td>\n",
       "      <td>H1 → C1 ⊸ H1</td>\n",
       "      <td>−</td>\n",
       "    </tr>\n",
       "    <tr>\n",
       "      <th>12</th>\n",
       "      <td>2</td>\n",
       "      <td>P → AP ⊸ P</td>\n",
       "      <td>−</td>\n",
       "    </tr>\n",
       "    <tr>\n",
       "      <th>13</th>\n",
       "      <td>3</td>\n",
       "      <td>C2 ⊸ C1 ⊸ H1 → C2</td>\n",
       "      <td>+</td>\n",
       "    </tr>\n",
       "    <tr>\n",
       "      <th>14</th>\n",
       "      <td>3</td>\n",
       "      <td>C2 ⊸ H1 → C1 → C2</td>\n",
       "      <td>−</td>\n",
       "    </tr>\n",
       "    <tr>\n",
       "      <th>15</th>\n",
       "      <td>4</td>\n",
       "      <td>A1 → H2 ⊸ A2 ⊸ P → A1</td>\n",
       "      <td>+</td>\n",
       "    </tr>\n",
       "    <tr>\n",
       "      <th>16</th>\n",
       "      <td>4</td>\n",
       "      <td>A1 ⊸ P → A2 → H2 ⊸ A1</td>\n",
       "      <td>+</td>\n",
       "    </tr>\n",
       "    <tr>\n",
       "      <th>17</th>\n",
       "      <td>4</td>\n",
       "      <td>C2 ⊸ H1 ⊸ A1 → H2 → C2</td>\n",
       "      <td>+</td>\n",
       "    </tr>\n",
       "    <tr>\n",
       "      <th>18</th>\n",
       "      <td>4</td>\n",
       "      <td>C2 ⊸ H2 ⊸ A1 → H1 → C2</td>\n",
       "      <td>+</td>\n",
       "    </tr>\n",
       "    <tr>\n",
       "      <th>19</th>\n",
       "      <td>5</td>\n",
       "      <td>C2 ⊸ C1 ⊸ H1 ⊸ A1 → H2 → C2</td>\n",
       "      <td>−</td>\n",
       "    </tr>\n",
       "    <tr>\n",
       "      <th>20</th>\n",
       "      <td>5</td>\n",
       "      <td>C2 ⊸ H2 ⊸ A1 → H1 → C1 → C2</td>\n",
       "      <td>+</td>\n",
       "    </tr>\n",
       "    <tr>\n",
       "      <th>21</th>\n",
       "      <td>6</td>\n",
       "      <td>C2 ⊸ H1 ⊸ A1 ⊸ P → A2 → H2 → C2</td>\n",
       "      <td>−</td>\n",
       "    </tr>\n",
       "    <tr>\n",
       "      <th>22</th>\n",
       "      <td>6</td>\n",
       "      <td>C2 ⊸ H2 ⊸ A2 ⊸ P → A1 → H1 → C2</td>\n",
       "      <td>−</td>\n",
       "    </tr>\n",
       "    <tr>\n",
       "      <th>23</th>\n",
       "      <td>7</td>\n",
       "      <td>C2 ⊸ C1 ⊸ H1 ⊸ A1 ⊸ P → A2 → H2 → C2</td>\n",
       "      <td>+</td>\n",
       "    </tr>\n",
       "    <tr>\n",
       "      <th>24</th>\n",
       "      <td>7</td>\n",
       "      <td>C2 ⊸ H2 ⊸ A2 ⊸ P → A1 → H1 → C1 → C2</td>\n",
       "      <td>−</td>\n",
       "    </tr>\n",
       "  </tbody>\n",
       "</table>\n",
       "</div>"
      ],
      "text/plain": [
       "    Length                                 Cycle Sign\n",
       "0        1                               AP ⊸ AP    −\n",
       "1        1                               C2 ⊸ C2    −\n",
       "2        1                                 P ⊸ P    −\n",
       "3        2                          A1 → H1 ⊸ A1    −\n",
       "4        2                          A1 → H2 ⊸ A1    −\n",
       "5        2                           A1 ⊸ P → A1    −\n",
       "6        2                          A2 → H2 ⊸ A2    −\n",
       "7        2                           A2 ⊸ P → A2    −\n",
       "8        2                          C2 ⊸ C1 → C2    −\n",
       "9        2                          C2 ⊸ H1 → C2    −\n",
       "10       2                          C2 ⊸ H2 → C2    −\n",
       "11       2                          H1 → C1 ⊸ H1    −\n",
       "12       2                            P → AP ⊸ P    −\n",
       "13       3                     C2 ⊸ C1 ⊸ H1 → C2    +\n",
       "14       3                     C2 ⊸ H1 → C1 → C2    −\n",
       "15       4                 A1 → H2 ⊸ A2 ⊸ P → A1    +\n",
       "16       4                 A1 ⊸ P → A2 → H2 ⊸ A1    +\n",
       "17       4                C2 ⊸ H1 ⊸ A1 → H2 → C2    +\n",
       "18       4                C2 ⊸ H2 ⊸ A1 → H1 → C2    +\n",
       "19       5           C2 ⊸ C1 ⊸ H1 ⊸ A1 → H2 → C2    −\n",
       "20       5           C2 ⊸ H2 ⊸ A1 → H1 → C1 → C2    +\n",
       "21       6       C2 ⊸ H1 ⊸ A1 ⊸ P → A2 → H2 → C2    −\n",
       "22       6       C2 ⊸ H2 ⊸ A2 ⊸ P → A1 → H1 → C2    −\n",
       "23       7  C2 ⊸ C1 ⊸ H1 ⊸ A1 ⊸ P → A2 → H2 → C2    +\n",
       "24       7  C2 ⊸ H2 ⊸ A2 ⊸ P → A1 → H1 → C1 → C2    −"
      ]
     },
     "execution_count": 28,
     "metadata": {},
     "output_type": "execute_result"
    }
   ],
   "source": [
    "cycles_table(G)"
   ]
  },
  {
   "cell_type": "code",
   "execution_count": 29,
   "metadata": {},
   "outputs": [
    {
     "data": {
      "text/html": [
       "<div>\n",
       "<style scoped>\n",
       "    .dataframe tbody tr th:only-of-type {\n",
       "        vertical-align: middle;\n",
       "    }\n",
       "\n",
       "    .dataframe tbody tr th {\n",
       "        vertical-align: top;\n",
       "    }\n",
       "\n",
       "    .dataframe thead th {\n",
       "        text-align: right;\n",
       "    }\n",
       "</style>\n",
       "<table border=\"1\" class=\"dataframe\">\n",
       "  <thead>\n",
       "    <tr style=\"text-align: right;\">\n",
       "      <th></th>\n",
       "      <th>Length</th>\n",
       "      <th>Path</th>\n",
       "      <th>Sign</th>\n",
       "    </tr>\n",
       "  </thead>\n",
       "  <tbody>\n",
       "    <tr>\n",
       "      <th>0</th>\n",
       "      <td>3</td>\n",
       "      <td>P → A1 → H2 → C2</td>\n",
       "      <td>+</td>\n",
       "    </tr>\n",
       "    <tr>\n",
       "      <th>1</th>\n",
       "      <td>3</td>\n",
       "      <td>P → A1 → H1 → C2</td>\n",
       "      <td>+</td>\n",
       "    </tr>\n",
       "    <tr>\n",
       "      <th>2</th>\n",
       "      <td>4</td>\n",
       "      <td>P → A1 → H1 → C1 → C2</td>\n",
       "      <td>+</td>\n",
       "    </tr>\n",
       "    <tr>\n",
       "      <th>3</th>\n",
       "      <td>5</td>\n",
       "      <td>P → A2 → H2 ⊸ A1 → H1 → C2</td>\n",
       "      <td>−</td>\n",
       "    </tr>\n",
       "    <tr>\n",
       "      <th>4</th>\n",
       "      <td>6</td>\n",
       "      <td>P → A2 → H2 ⊸ A1 → H1 → C1 → C2</td>\n",
       "      <td>−</td>\n",
       "    </tr>\n",
       "    <tr>\n",
       "      <th>5</th>\n",
       "      <td>3</td>\n",
       "      <td>P → A2 → H2 → C2</td>\n",
       "      <td>+</td>\n",
       "    </tr>\n",
       "  </tbody>\n",
       "</table>\n",
       "</div>"
      ],
      "text/plain": [
       "   Length                             Path Sign\n",
       "0       3                 P → A1 → H2 → C2    +\n",
       "1       3                 P → A1 → H1 → C2    +\n",
       "2       4            P → A1 → H1 → C1 → C2    +\n",
       "3       5       P → A2 → H2 ⊸ A1 → H1 → C2    −\n",
       "4       6  P → A2 → H2 ⊸ A1 → H1 → C1 → C2    −\n",
       "5       3                 P → A2 → H2 → C2    +"
      ]
     },
     "execution_count": 29,
     "metadata": {},
     "output_type": "execute_result"
    }
   ],
   "source": [
    "source='P'\n",
    "target='C2'\n",
    "paths_table(G, source=source, target=target)"
   ]
  },
  {
   "cell_type": "code",
   "execution_count": 30,
   "metadata": {},
   "outputs": [
    {
     "data": {
      "text/latex": [
       "$\\displaystyle \\left[\\begin{matrix}1\\\\1\\\\1\\\\-1\\\\-1\\\\1\\end{matrix}\\right]$"
      ],
      "text/plain": [
       "Matrix([\n",
       "[ 1],\n",
       "[ 1],\n",
       "[ 1],\n",
       "[-1],\n",
       "[-1],\n",
       "[ 1]])"
      ]
     },
     "execution_count": 30,
     "metadata": {},
     "output_type": "execute_result"
    }
   ],
   "source": [
    "get_paths(G, source=source, target=target, form='signed')"
   ]
  },
  {
   "cell_type": "code",
   "execution_count": 31,
   "metadata": {},
   "outputs": [
    {
     "data": {
      "text/latex": [
       "$\\displaystyle \\left[\\begin{matrix}0\\\\0\\\\-1\\\\0\\\\-1\\\\0\\end{matrix}\\right]$"
      ],
      "text/plain": [
       "Matrix([\n",
       "[ 0],\n",
       "[ 0],\n",
       "[-1],\n",
       "[ 0],\n",
       "[-1],\n",
       "[ 0]])"
      ]
     },
     "execution_count": 31,
     "metadata": {},
     "output_type": "execute_result"
    }
   ],
   "source": [
    "complementary_feedback(G, source=source, target=target, form='signed')"
   ]
  },
  {
   "cell_type": "code",
   "execution_count": 32,
   "metadata": {},
   "outputs": [
    {
     "data": {
      "text/latex": [
       "$\\displaystyle \\left[\\begin{matrix}0\\\\0\\\\1\\\\0\\\\-1\\\\0\\end{matrix}\\right]$"
      ],
      "text/plain": [
       "Matrix([\n",
       "[ 0],\n",
       "[ 0],\n",
       "[ 1],\n",
       "[ 0],\n",
       "[-1],\n",
       "[ 0]])"
      ]
     },
     "execution_count": 32,
     "metadata": {},
     "output_type": "execute_result"
    }
   ],
   "source": [
    "system_paths(G, source=source, target=target, form='signed')"
   ]
  },
  {
   "cell_type": "code",
   "execution_count": 33,
   "metadata": {},
   "outputs": [
    {
     "data": {
      "text/latex": [
       "$\\displaystyle \\left[\\begin{matrix}0\\\\0\\\\1\\\\0\\\\-1\\\\0\\end{matrix}\\right]$"
      ],
      "text/plain": [
       "Matrix([\n",
       "[ 0],\n",
       "[ 0],\n",
       "[ 1],\n",
       "[ 0],\n",
       "[-1],\n",
       "[ 0]])"
      ]
     },
     "execution_count": 33,
     "metadata": {},
     "output_type": "execute_result"
    }
   ],
   "source": [
    "weighted_paths(G, source=source, target=target)"
   ]
  },
  {
   "cell_type": "code",
   "execution_count": 34,
   "metadata": {},
   "outputs": [
    {
     "data": {
      "text/html": [
       "<div>\n",
       "<style scoped>\n",
       "    .dataframe tbody tr th:only-of-type {\n",
       "        vertical-align: middle;\n",
       "    }\n",
       "\n",
       "    .dataframe tbody tr th {\n",
       "        vertical-align: top;\n",
       "    }\n",
       "\n",
       "    .dataframe thead th {\n",
       "        text-align: right;\n",
       "    }\n",
       "</style>\n",
       "<table border=\"1\" class=\"dataframe\">\n",
       "  <thead>\n",
       "    <tr style=\"text-align: right;\">\n",
       "      <th></th>\n",
       "      <th>Length</th>\n",
       "      <th>Path</th>\n",
       "      <th>Path sign</th>\n",
       "      <th>Complementary subsystem</th>\n",
       "      <th>Net feedback</th>\n",
       "      <th>Absolute feedback</th>\n",
       "      <th>Positive feedback</th>\n",
       "      <th>Negative feedback</th>\n",
       "      <th>Weighted feedback</th>\n",
       "      <th>Weighted path</th>\n",
       "    </tr>\n",
       "  </thead>\n",
       "  <tbody>\n",
       "    <tr>\n",
       "      <th>0</th>\n",
       "      <td>3</td>\n",
       "      <td>P, A1, H2, C2</td>\n",
       "      <td>+</td>\n",
       "      <td>A2, AP, H1, C1</td>\n",
       "      <td>0</td>\n",
       "      <td>0</td>\n",
       "      <td>0</td>\n",
       "      <td>0</td>\n",
       "      <td>0</td>\n",
       "      <td>0</td>\n",
       "    </tr>\n",
       "    <tr>\n",
       "      <th>1</th>\n",
       "      <td>3</td>\n",
       "      <td>P, A1, H1, C2</td>\n",
       "      <td>+</td>\n",
       "      <td>A2, AP, H2, C1</td>\n",
       "      <td>0</td>\n",
       "      <td>0</td>\n",
       "      <td>0</td>\n",
       "      <td>0</td>\n",
       "      <td>0</td>\n",
       "      <td>0</td>\n",
       "    </tr>\n",
       "    <tr>\n",
       "      <th>2</th>\n",
       "      <td>4</td>\n",
       "      <td>P, A1, H1, C1, C2</td>\n",
       "      <td>+</td>\n",
       "      <td>A2, AP, H2</td>\n",
       "      <td>-1</td>\n",
       "      <td>1</td>\n",
       "      <td>0</td>\n",
       "      <td>1</td>\n",
       "      <td>-1</td>\n",
       "      <td>1</td>\n",
       "    </tr>\n",
       "    <tr>\n",
       "      <th>3</th>\n",
       "      <td>5</td>\n",
       "      <td>P, A2, H2, A1, H1, C2</td>\n",
       "      <td>−</td>\n",
       "      <td>AP, C1</td>\n",
       "      <td>0</td>\n",
       "      <td>0</td>\n",
       "      <td>0</td>\n",
       "      <td>0</td>\n",
       "      <td>0</td>\n",
       "      <td>0</td>\n",
       "    </tr>\n",
       "    <tr>\n",
       "      <th>4</th>\n",
       "      <td>6</td>\n",
       "      <td>P, A2, H2, A1, H1, C1, C2</td>\n",
       "      <td>−</td>\n",
       "      <td>AP</td>\n",
       "      <td>-1</td>\n",
       "      <td>1</td>\n",
       "      <td>0</td>\n",
       "      <td>1</td>\n",
       "      <td>-1</td>\n",
       "      <td>-1</td>\n",
       "    </tr>\n",
       "    <tr>\n",
       "      <th>5</th>\n",
       "      <td>3</td>\n",
       "      <td>P, A2, H2, C2</td>\n",
       "      <td>+</td>\n",
       "      <td>A1, AP, H1, C1</td>\n",
       "      <td>0</td>\n",
       "      <td>0</td>\n",
       "      <td>0</td>\n",
       "      <td>0</td>\n",
       "      <td>0</td>\n",
       "      <td>0</td>\n",
       "    </tr>\n",
       "  </tbody>\n",
       "</table>\n",
       "</div>"
      ],
      "text/plain": [
       "   Length                       Path Path sign Complementary subsystem  \\\n",
       "0       3              P, A1, H2, C2         +          A2, AP, H1, C1   \n",
       "1       3              P, A1, H1, C2         +          A2, AP, H2, C1   \n",
       "2       4          P, A1, H1, C1, C2         +              A2, AP, H2   \n",
       "3       5      P, A2, H2, A1, H1, C2         −                  AP, C1   \n",
       "4       6  P, A2, H2, A1, H1, C1, C2         −                      AP   \n",
       "5       3              P, A2, H2, C2         +          A1, AP, H1, C1   \n",
       "\n",
       "  Net feedback Absolute feedback Positive feedback Negative feedback  \\\n",
       "0            0                 0                 0                 0   \n",
       "1            0                 0                 0                 0   \n",
       "2           -1                 1                 0                 1   \n",
       "3            0                 0                 0                 0   \n",
       "4           -1                 1                 0                 1   \n",
       "5            0                 0                 0                 0   \n",
       "\n",
       "  Weighted feedback Weighted path  \n",
       "0                 0             0  \n",
       "1                 0             0  \n",
       "2                -1             1  \n",
       "3                 0             0  \n",
       "4                -1            -1  \n",
       "5                 0             0  "
      ]
     },
     "execution_count": 34,
     "metadata": {},
     "output_type": "execute_result"
    }
   ],
   "source": [
    "path_metrics(G, source=source, target=target)"
   ]
  },
  {
   "cell_type": "markdown",
   "metadata": {},
   "source": [
    "## Symbolic analyses\n",
    "\n",
    "### Structure"
   ]
  },
  {
   "cell_type": "code",
   "execution_count": 35,
   "metadata": {},
   "outputs": [
    {
     "data": {
      "text/latex": [
       "$\\displaystyle \\left[\\begin{matrix}- a_{P,P} & - a_{P,A1} & - a_{P,A2} & - a_{P,AP} & 0 & 0 & 0 & 0\\\\a_{A1,P} & 0 & 0 & 0 & - a_{A1,H1} & - a_{A1,H2} & 0 & 0\\\\a_{A2,P} & 0 & 0 & 0 & 0 & - a_{A2,H2} & 0 & 0\\\\a_{AP,P} & 0 & 0 & - a_{AP,AP} & 0 & 0 & 0 & 0\\\\0 & a_{H1,A1} & 0 & 0 & 0 & 0 & - a_{H1,C1} & - a_{H1,C2}\\\\0 & a_{H2,A1} & a_{H2,A2} & 0 & 0 & 0 & 0 & - a_{H2,C2}\\\\0 & 0 & 0 & 0 & a_{C1,H1} & 0 & 0 & - a_{C1,C2}\\\\0 & 0 & 0 & 0 & a_{C2,H1} & a_{C2,H2} & a_{C2,C1} & - a_{C2,C2}\\end{matrix}\\right]$"
      ],
      "text/plain": [
       "Matrix([\n",
       "[-a_P,P, -a_P,A1, -a_P,A2,  -a_P,AP,        0,        0,        0,        0],\n",
       "[a_A1,P,       0,       0,        0, -a_A1,H1, -a_A1,H2,        0,        0],\n",
       "[a_A2,P,       0,       0,        0,        0, -a_A2,H2,        0,        0],\n",
       "[a_AP,P,       0,       0, -a_AP,AP,        0,        0,        0,        0],\n",
       "[     0, a_H1,A1,       0,        0,        0,        0, -a_H1,C1, -a_H1,C2],\n",
       "[     0, a_H2,A1, a_H2,A2,        0,        0,        0,        0, -a_H2,C2],\n",
       "[     0,       0,       0,        0,  a_C1,H1,        0,        0, -a_C1,C2],\n",
       "[     0,       0,       0,        0,  a_C2,H1,  a_C2,H2,  a_C2,C1, -a_C2,C2]])"
      ]
     },
     "execution_count": 35,
     "metadata": {},
     "output_type": "execute_result"
    }
   ],
   "source": [
    "create_matrix(G, form='symbolic')"
   ]
  },
  {
   "cell_type": "markdown",
   "metadata": {},
   "source": [
    "### Stability"
   ]
  },
  {
   "cell_type": "code",
   "execution_count": 36,
   "metadata": {},
   "outputs": [
    {
     "data": {
      "text/latex": [
       "$\\displaystyle \\left[\\begin{matrix}-1\\\\- a_{AP,AP} - a_{C2,C2} - a_{P,P}\\\\- a_{A1,H1} a_{H1,A1} - a_{A1,H2} a_{H2,A1} - a_{A1,P} a_{P,A1} - a_{A2,H2} a_{H2,A2} - a_{A2,P} a_{P,A2} - a_{AP,AP} a_{C2,C2} - a_{AP,AP} a_{P,P} - a_{AP,P} a_{P,AP} - a_{C1,C2} a_{C2,C1} - a_{C1,H1} a_{H1,C1} - a_{C2,C2} a_{P,P} - a_{C2,H1} a_{H1,C2} - a_{C2,H2} a_{H2,C2}\\\\- a_{A1,H1} a_{AP,AP} a_{H1,A1} - a_{A1,H1} a_{C2,C2} a_{H1,A1} - a_{A1,H1} a_{H1,A1} a_{P,P} - a_{A1,H2} a_{AP,AP} a_{H2,A1} - a_{A1,H2} a_{C2,C2} a_{H2,A1} - a_{A1,H2} a_{H2,A1} a_{P,P} - a_{A1,P} a_{AP,AP} a_{P,A1} - a_{A1,P} a_{C2,C2} a_{P,A1} - a_{A2,H2} a_{AP,AP} a_{H2,A2} - a_{A2,H2} a_{C2,C2} a_{H2,A2} - a_{A2,H2} a_{H2,A2} a_{P,P} - a_{A2,P} a_{AP,AP} a_{P,A2} - a_{A2,P} a_{C2,C2} a_{P,A2} - a_{AP,AP} a_{C1,C2} a_{C2,C1} - a_{AP,AP} a_{C1,H1} a_{H1,C1} - a_{AP,AP} a_{C2,C2} a_{P,P} - a_{AP,AP} a_{C2,H1} a_{H1,C2} - a_{AP,AP} a_{C2,H2} a_{H2,C2} - a_{AP,P} a_{C2,C2} a_{P,AP} - a_{C1,C2} a_{C2,C1} a_{P,P} + a_{C1,C2} a_{C2,H1} a_{H1,C1} - a_{C1,H1} a_{C2,C1} a_{H1,C2} - a_{C1,H1} a_{C2,C2} a_{H1,C1} - a_{C1,H1} a_{H1,C1} a_{P,P} - a_{C2,H1} a_{H1,C2} a_{P,P} - a_{C2,H2} a_{H2,C2} a_{P,P}\\\\- a_{A1,H1} a_{A2,H2} a_{H1,A1} a_{H2,A2} - a_{A1,H1} a_{A2,P} a_{H1,A1} a_{P,A2} - a_{A1,H1} a_{AP,AP} a_{C2,C2} a_{H1,A1} - a_{A1,H1} a_{AP,AP} a_{H1,A1} a_{P,P} - a_{A1,H1} a_{AP,P} a_{H1,A1} a_{P,AP} - a_{A1,H1} a_{C1,C2} a_{C2,C1} a_{H1,A1} - a_{A1,H1} a_{C2,C2} a_{H1,A1} a_{P,P} - a_{A1,H1} a_{C2,H2} a_{H1,A1} a_{H2,C2} + a_{A1,H1} a_{C2,H2} a_{H1,C2} a_{H2,A1} - a_{A1,H2} a_{A2,P} a_{H2,A1} a_{P,A2} + a_{A1,H2} a_{A2,P} a_{H2,A2} a_{P,A1} - a_{A1,H2} a_{AP,AP} a_{C2,C2} a_{H2,A1} - a_{A1,H2} a_{AP,AP} a_{H2,A1} a_{P,P} - a_{A1,H2} a_{AP,P} a_{H2,A1} a_{P,AP} - a_{A1,H2} a_{C1,C2} a_{C2,C1} a_{H2,A1} - a_{A1,H2} a_{C1,H1} a_{H1,C1} a_{H2,A1} - a_{A1,H2} a_{C2,C2} a_{H2,A1} a_{P,P} + a_{A1,H2} a_{C2,H1} a_{H1,A1} a_{H2,C2} - a_{A1,H2} a_{C2,H1} a_{H1,C2} a_{H2,A1} + a_{A1,P} a_{A2,H2} a_{H2,A1} a_{P,A2} - a_{A1,P} a_{A2,H2} a_{H2,A2} a_{P,A1} - a_{A1,P} a_{AP,AP} a_{C2,C2} a_{P,A1} - a_{A1,P} a_{C1,C2} a_{C2,C1} a_{P,A1} - a_{A1,P} a_{C1,H1} a_{H1,C1} a_{P,A1} - a_{A1,P} a_{C2,H1} a_{H1,C2} a_{P,A1} - a_{A1,P} a_{C2,H2} a_{H2,C2} a_{P,A1} - a_{A2,H2} a_{AP,AP} a_{C2,C2} a_{H2,A2} - a_{A2,H2} a_{AP,AP} a_{H2,A2} a_{P,P} - a_{A2,H2} a_{AP,P} a_{H2,A2} a_{P,AP} - a_{A2,H2} a_{C1,C2} a_{C2,C1} a_{H2,A2} - a_{A2,H2} a_{C1,H1} a_{H1,C1} a_{H2,A2} - a_{A2,H2} a_{C2,C2} a_{H2,A2} a_{P,P} - a_{A2,H2} a_{C2,H1} a_{H1,C2} a_{H2,A2} - a_{A2,P} a_{AP,AP} a_{C2,C2} a_{P,A2} - a_{A2,P} a_{C1,C2} a_{C2,C1} a_{P,A2} - a_{A2,P} a_{C1,H1} a_{H1,C1} a_{P,A2} - a_{A2,P} a_{C2,H1} a_{H1,C2} a_{P,A2} - a_{A2,P} a_{C2,H2} a_{H2,C2} a_{P,A2} - a_{AP,AP} a_{C1,C2} a_{C2,C1} a_{P,P} + a_{AP,AP} a_{C1,C2} a_{C2,H1} a_{H1,C1} - a_{AP,AP} a_{C1,H1} a_{C2,C1} a_{H1,C2} - a_{AP,AP} a_{C1,H1} a_{C2,C2} a_{H1,C1} - a_{AP,AP} a_{C1,H1} a_{H1,C1} a_{P,P} - a_{AP,AP} a_{C2,H1} a_{H1,C2} a_{P,P} - a_{AP,AP} a_{C2,H2} a_{H2,C2} a_{P,P} - a_{AP,P} a_{C1,C2} a_{C2,C1} a_{P,AP} - a_{AP,P} a_{C1,H1} a_{H1,C1} a_{P,AP} - a_{AP,P} a_{C2,H1} a_{H1,C2} a_{P,AP} - a_{AP,P} a_{C2,H2} a_{H2,C2} a_{P,AP} + a_{C1,C2} a_{C2,H1} a_{H1,C1} a_{P,P} - a_{C1,H1} a_{C2,C1} a_{H1,C2} a_{P,P} - a_{C1,H1} a_{C2,C2} a_{H1,C1} a_{P,P} - a_{C1,H1} a_{C2,H2} a_{H1,C1} a_{H2,C2}\\\\- a_{A1,H1} a_{A2,H2} a_{AP,AP} a_{H1,A1} a_{H2,A2} - a_{A1,H1} a_{A2,H2} a_{C2,C2} a_{H1,A1} a_{H2,A2} - a_{A1,H1} a_{A2,H2} a_{H1,A1} a_{H2,A2} a_{P,P} - a_{A1,H1} a_{A2,P} a_{AP,AP} a_{H1,A1} a_{P,A2} - a_{A1,H1} a_{A2,P} a_{C2,C2} a_{H1,A1} a_{P,A2} - a_{A1,H1} a_{AP,AP} a_{C1,C2} a_{C2,C1} a_{H1,A1} - a_{A1,H1} a_{AP,AP} a_{C2,C2} a_{H1,A1} a_{P,P} - a_{A1,H1} a_{AP,AP} a_{C2,H2} a_{H1,A1} a_{H2,C2} + a_{A1,H1} a_{AP,AP} a_{C2,H2} a_{H1,C2} a_{H2,A1} - a_{A1,H1} a_{AP,P} a_{C2,C2} a_{H1,A1} a_{P,AP} - a_{A1,H1} a_{C1,C2} a_{C2,C1} a_{H1,A1} a_{P,P} - a_{A1,H1} a_{C1,C2} a_{C2,H2} a_{H1,C1} a_{H2,A1} - a_{A1,H1} a_{C2,H2} a_{H1,A1} a_{H2,C2} a_{P,P} + a_{A1,H1} a_{C2,H2} a_{H1,C2} a_{H2,A1} a_{P,P} - a_{A1,H2} a_{A2,P} a_{AP,AP} a_{H2,A1} a_{P,A2} + a_{A1,H2} a_{A2,P} a_{AP,AP} a_{H2,A2} a_{P,A1} - a_{A1,H2} a_{A2,P} a_{C2,C2} a_{H2,A1} a_{P,A2} + a_{A1,H2} a_{A2,P} a_{C2,C2} a_{H2,A2} a_{P,A1} - a_{A1,H2} a_{AP,AP} a_{C1,C2} a_{C2,C1} a_{H2,A1} - a_{A1,H2} a_{AP,AP} a_{C1,H1} a_{H1,C1} a_{H2,A1} - a_{A1,H2} a_{AP,AP} a_{C2,C2} a_{H2,A1} a_{P,P} + a_{A1,H2} a_{AP,AP} a_{C2,H1} a_{H1,A1} a_{H2,C2} - a_{A1,H2} a_{AP,AP} a_{C2,H1} a_{H1,C2} a_{H2,A1} - a_{A1,H2} a_{AP,P} a_{C2,C2} a_{H2,A1} a_{P,AP} - a_{A1,H2} a_{C1,C2} a_{C2,C1} a_{H2,A1} a_{P,P} + a_{A1,H2} a_{C1,C2} a_{C2,H1} a_{H1,C1} a_{H2,A1} + a_{A1,H2} a_{C1,H1} a_{C2,C1} a_{H1,A1} a_{H2,C2} - a_{A1,H2} a_{C1,H1} a_{C2,C1} a_{H1,C2} a_{H2,A1} - a_{A1,H2} a_{C1,H1} a_{C2,C2} a_{H1,C1} a_{H2,A1} - a_{A1,H2} a_{C1,H1} a_{H1,C1} a_{H2,A1} a_{P,P} + a_{A1,H2} a_{C2,H1} a_{H1,A1} a_{H2,C2} a_{P,P} - a_{A1,H2} a_{C2,H1} a_{H1,C2} a_{H2,A1} a_{P,P} + a_{A1,P} a_{A2,H2} a_{AP,AP} a_{H2,A1} a_{P,A2} - a_{A1,P} a_{A2,H2} a_{AP,AP} a_{H2,A2} a_{P,A1} + a_{A1,P} a_{A2,H2} a_{C2,C2} a_{H2,A1} a_{P,A2} - a_{A1,P} a_{A2,H2} a_{C2,C2} a_{H2,A2} a_{P,A1} - a_{A1,P} a_{AP,AP} a_{C1,C2} a_{C2,C1} a_{P,A1} - a_{A1,P} a_{AP,AP} a_{C1,H1} a_{H1,C1} a_{P,A1} - a_{A1,P} a_{AP,AP} a_{C2,H1} a_{H1,C2} a_{P,A1} - a_{A1,P} a_{AP,AP} a_{C2,H2} a_{H2,C2} a_{P,A1} + a_{A1,P} a_{C1,C2} a_{C2,H1} a_{H1,C1} a_{P,A1} - a_{A1,P} a_{C1,H1} a_{C2,C1} a_{H1,C2} a_{P,A1} - a_{A1,P} a_{C1,H1} a_{C2,C2} a_{H1,C1} a_{P,A1} - a_{A2,H2} a_{AP,AP} a_{C1,C2} a_{C2,C1} a_{H2,A2} - a_{A2,H2} a_{AP,AP} a_{C1,H1} a_{H1,C1} a_{H2,A2} - a_{A2,H2} a_{AP,AP} a_{C2,C2} a_{H2,A2} a_{P,P} - a_{A2,H2} a_{AP,AP} a_{C2,H1} a_{H1,C2} a_{H2,A2} - a_{A2,H2} a_{AP,P} a_{C2,C2} a_{H2,A2} a_{P,AP} - a_{A2,H2} a_{C1,C2} a_{C2,C1} a_{H2,A2} a_{P,P} + a_{A2,H2} a_{C1,C2} a_{C2,H1} a_{H1,C1} a_{H2,A2} - a_{A2,H2} a_{C1,H1} a_{C2,C1} a_{H1,C2} a_{H2,A2} - a_{A2,H2} a_{C1,H1} a_{C2,C2} a_{H1,C1} a_{H2,A2} - a_{A2,H2} a_{C1,H1} a_{H1,C1} a_{H2,A2} a_{P,P} - a_{A2,H2} a_{C2,H1} a_{H1,C2} a_{H2,A2} a_{P,P} - a_{A2,P} a_{AP,AP} a_{C1,C2} a_{C2,C1} a_{P,A2} - a_{A2,P} a_{AP,AP} a_{C1,H1} a_{H1,C1} a_{P,A2} - a_{A2,P} a_{AP,AP} a_{C2,H1} a_{H1,C2} a_{P,A2} - a_{A2,P} a_{AP,AP} a_{C2,H2} a_{H2,C2} a_{P,A2} + a_{A2,P} a_{C1,C2} a_{C2,H1} a_{H1,C1} a_{P,A2} - a_{A2,P} a_{C1,H1} a_{C2,C1} a_{H1,C2} a_{P,A2} - a_{A2,P} a_{C1,H1} a_{C2,C2} a_{H1,C1} a_{P,A2} + a_{AP,AP} a_{C1,C2} a_{C2,H1} a_{H1,C1} a_{P,P} - a_{AP,AP} a_{C1,H1} a_{C2,C1} a_{H1,C2} a_{P,P} - a_{AP,AP} a_{C1,H1} a_{C2,C2} a_{H1,C1} a_{P,P} - a_{AP,AP} a_{C1,H1} a_{C2,H2} a_{H1,C1} a_{H2,C2} + a_{AP,P} a_{C1,C2} a_{C2,H1} a_{H1,C1} a_{P,AP} - a_{AP,P} a_{C1,H1} a_{C2,C1} a_{H1,C2} a_{P,AP} - a_{AP,P} a_{C1,H1} a_{C2,C2} a_{H1,C1} a_{P,AP} - a_{C1,H1} a_{C2,H2} a_{H1,C1} a_{H2,C2} a_{P,P}\\\\- a_{A1,H1} a_{A2,H2} a_{AP,AP} a_{C2,C2} a_{H1,A1} a_{H2,A2} - a_{A1,H1} a_{A2,H2} a_{AP,AP} a_{H1,A1} a_{H2,A2} a_{P,P} - a_{A1,H1} a_{A2,H2} a_{AP,P} a_{H1,A1} a_{H2,A2} a_{P,AP} - a_{A1,H1} a_{A2,H2} a_{C1,C2} a_{C2,C1} a_{H1,A1} a_{H2,A2} - a_{A1,H1} a_{A2,H2} a_{C2,C2} a_{H1,A1} a_{H2,A2} a_{P,P} - a_{A1,H1} a_{A2,P} a_{AP,AP} a_{C2,C2} a_{H1,A1} a_{P,A2} - a_{A1,H1} a_{A2,P} a_{C1,C2} a_{C2,C1} a_{H1,A1} a_{P,A2} - a_{A1,H1} a_{A2,P} a_{C2,H2} a_{H1,A1} a_{H2,C2} a_{P,A2} + a_{A1,H1} a_{A2,P} a_{C2,H2} a_{H1,C2} a_{H2,A1} a_{P,A2} - a_{A1,H1} a_{A2,P} a_{C2,H2} a_{H1,C2} a_{H2,A2} a_{P,A1} - a_{A1,H1} a_{AP,AP} a_{C1,C2} a_{C2,C1} a_{H1,A1} a_{P,P} - a_{A1,H1} a_{AP,AP} a_{C1,C2} a_{C2,H2} a_{H1,C1} a_{H2,A1} - a_{A1,H1} a_{AP,AP} a_{C2,H2} a_{H1,A1} a_{H2,C2} a_{P,P} + a_{A1,H1} a_{AP,AP} a_{C2,H2} a_{H1,C2} a_{H2,A1} a_{P,P} - a_{A1,H1} a_{AP,P} a_{C1,C2} a_{C2,C1} a_{H1,A1} a_{P,AP} - a_{A1,H1} a_{AP,P} a_{C2,H2} a_{H1,A1} a_{H2,C2} a_{P,AP} + a_{A1,H1} a_{AP,P} a_{C2,H2} a_{H1,C2} a_{H2,A1} a_{P,AP} - a_{A1,H1} a_{C1,C2} a_{C2,H2} a_{H1,C1} a_{H2,A1} a_{P,P} - a_{A1,H2} a_{A2,P} a_{AP,AP} a_{C2,C2} a_{H2,A1} a_{P,A2} + a_{A1,H2} a_{A2,P} a_{AP,AP} a_{C2,C2} a_{H2,A2} a_{P,A1} - a_{A1,H2} a_{A2,P} a_{C1,C2} a_{C2,C1} a_{H2,A1} a_{P,A2} + a_{A1,H2} a_{A2,P} a_{C1,C2} a_{C2,C1} a_{H2,A2} a_{P,A1} - a_{A1,H2} a_{A2,P} a_{C1,H1} a_{H1,C1} a_{H2,A1} a_{P,A2} + a_{A1,H2} a_{A2,P} a_{C1,H1} a_{H1,C1} a_{H2,A2} a_{P,A1} + a_{A1,H2} a_{A2,P} a_{C2,H1} a_{H1,A1} a_{H2,C2} a_{P,A2} - a_{A1,H2} a_{A2,P} a_{C2,H1} a_{H1,C2} a_{H2,A1} a_{P,A2} + a_{A1,H2} a_{A2,P} a_{C2,H1} a_{H1,C2} a_{H2,A2} a_{P,A1} - a_{A1,H2} a_{AP,AP} a_{C1,C2} a_{C2,C1} a_{H2,A1} a_{P,P} + a_{A1,H2} a_{AP,AP} a_{C1,C2} a_{C2,H1} a_{H1,C1} a_{H2,A1} + a_{A1,H2} a_{AP,AP} a_{C1,H1} a_{C2,C1} a_{H1,A1} a_{H2,C2} - a_{A1,H2} a_{AP,AP} a_{C1,H1} a_{C2,C1} a_{H1,C2} a_{H2,A1} - a_{A1,H2} a_{AP,AP} a_{C1,H1} a_{C2,C2} a_{H1,C1} a_{H2,A1} - a_{A1,H2} a_{AP,AP} a_{C1,H1} a_{H1,C1} a_{H2,A1} a_{P,P} + a_{A1,H2} a_{AP,AP} a_{C2,H1} a_{H1,A1} a_{H2,C2} a_{P,P} - a_{A1,H2} a_{AP,AP} a_{C2,H1} a_{H1,C2} a_{H2,A1} a_{P,P} - a_{A1,H2} a_{AP,P} a_{C1,C2} a_{C2,C1} a_{H2,A1} a_{P,AP} - a_{A1,H2} a_{AP,P} a_{C1,H1} a_{H1,C1} a_{H2,A1} a_{P,AP} + a_{A1,H2} a_{AP,P} a_{C2,H1} a_{H1,A1} a_{H2,C2} a_{P,AP} - a_{A1,H2} a_{AP,P} a_{C2,H1} a_{H1,C2} a_{H2,A1} a_{P,AP} + a_{A1,H2} a_{C1,C2} a_{C2,H1} a_{H1,C1} a_{H2,A1} a_{P,P} + a_{A1,H2} a_{C1,H1} a_{C2,C1} a_{H1,A1} a_{H2,C2} a_{P,P} - a_{A1,H2} a_{C1,H1} a_{C2,C1} a_{H1,C2} a_{H2,A1} a_{P,P} - a_{A1,H2} a_{C1,H1} a_{C2,C2} a_{H1,C1} a_{H2,A1} a_{P,P} + a_{A1,P} a_{A2,H2} a_{AP,AP} a_{C2,C2} a_{H2,A1} a_{P,A2} - a_{A1,P} a_{A2,H2} a_{AP,AP} a_{C2,C2} a_{H2,A2} a_{P,A1} + a_{A1,P} a_{A2,H2} a_{C1,C2} a_{C2,C1} a_{H2,A1} a_{P,A2} - a_{A1,P} a_{A2,H2} a_{C1,C2} a_{C2,C1} a_{H2,A2} a_{P,A1} + a_{A1,P} a_{A2,H2} a_{C1,H1} a_{H1,C1} a_{H2,A1} a_{P,A2} - a_{A1,P} a_{A2,H2} a_{C1,H1} a_{H1,C1} a_{H2,A2} a_{P,A1} - a_{A1,P} a_{A2,H2} a_{C2,H1} a_{H1,A1} a_{H2,C2} a_{P,A2} + a_{A1,P} a_{A2,H2} a_{C2,H1} a_{H1,C2} a_{H2,A1} a_{P,A2} - a_{A1,P} a_{A2,H2} a_{C2,H1} a_{H1,C2} a_{H2,A2} a_{P,A1} + a_{A1,P} a_{AP,AP} a_{C1,C2} a_{C2,H1} a_{H1,C1} a_{P,A1} - a_{A1,P} a_{AP,AP} a_{C1,H1} a_{C2,C1} a_{H1,C2} a_{P,A1} - a_{A1,P} a_{AP,AP} a_{C1,H1} a_{C2,C2} a_{H1,C1} a_{P,A1} - a_{A1,P} a_{C1,H1} a_{C2,H2} a_{H1,C1} a_{H2,C2} a_{P,A1} - a_{A2,H2} a_{AP,AP} a_{C1,C2} a_{C2,C1} a_{H2,A2} a_{P,P} + a_{A2,H2} a_{AP,AP} a_{C1,C2} a_{C2,H1} a_{H1,C1} a_{H2,A2} - a_{A2,H2} a_{AP,AP} a_{C1,H1} a_{C2,C1} a_{H1,C2} a_{H2,A2} - a_{A2,H2} a_{AP,AP} a_{C1,H1} a_{C2,C2} a_{H1,C1} a_{H2,A2} - a_{A2,H2} a_{AP,AP} a_{C1,H1} a_{H1,C1} a_{H2,A2} a_{P,P} - a_{A2,H2} a_{AP,AP} a_{C2,H1} a_{H1,C2} a_{H2,A2} a_{P,P} - a_{A2,H2} a_{AP,P} a_{C1,C2} a_{C2,C1} a_{H2,A2} a_{P,AP} - a_{A2,H2} a_{AP,P} a_{C1,H1} a_{H1,C1} a_{H2,A2} a_{P,AP} - a_{A2,H2} a_{AP,P} a_{C2,H1} a_{H1,C2} a_{H2,A2} a_{P,AP} + a_{A2,H2} a_{C1,C2} a_{C2,H1} a_{H1,C1} a_{H2,A2} a_{P,P} - a_{A2,H2} a_{C1,H1} a_{C2,C1} a_{H1,C2} a_{H2,A2} a_{P,P} - a_{A2,H2} a_{C1,H1} a_{C2,C2} a_{H1,C1} a_{H2,A2} a_{P,P} + a_{A2,P} a_{AP,AP} a_{C1,C2} a_{C2,H1} a_{H1,C1} a_{P,A2} - a_{A2,P} a_{AP,AP} a_{C1,H1} a_{C2,C1} a_{H1,C2} a_{P,A2} - a_{A2,P} a_{AP,AP} a_{C1,H1} a_{C2,C2} a_{H1,C1} a_{P,A2} - a_{A2,P} a_{C1,H1} a_{C2,H2} a_{H1,C1} a_{H2,C2} a_{P,A2} - a_{AP,AP} a_{C1,H1} a_{C2,H2} a_{H1,C1} a_{H2,C2} a_{P,P} - a_{AP,P} a_{C1,H1} a_{C2,H2} a_{H1,C1} a_{H2,C2} a_{P,AP}\\\\- a_{A1,H1} a_{A2,H2} a_{AP,AP} a_{C1,C2} a_{C2,C1} a_{H1,A1} a_{H2,A2} - a_{A1,H1} a_{A2,H2} a_{AP,AP} a_{C2,C2} a_{H1,A1} a_{H2,A2} a_{P,P} - a_{A1,H1} a_{A2,H2} a_{AP,P} a_{C2,C2} a_{H1,A1} a_{H2,A2} a_{P,AP} - a_{A1,H1} a_{A2,H2} a_{C1,C2} a_{C2,C1} a_{H1,A1} a_{H2,A2} a_{P,P} - a_{A1,H1} a_{A2,P} a_{AP,AP} a_{C1,C2} a_{C2,C1} a_{H1,A1} a_{P,A2} - a_{A1,H1} a_{A2,P} a_{AP,AP} a_{C2,H2} a_{H1,A1} a_{H2,C2} a_{P,A2} + a_{A1,H1} a_{A2,P} a_{AP,AP} a_{C2,H2} a_{H1,C2} a_{H2,A1} a_{P,A2} - a_{A1,H1} a_{A2,P} a_{AP,AP} a_{C2,H2} a_{H1,C2} a_{H2,A2} a_{P,A1} - a_{A1,H1} a_{A2,P} a_{C1,C2} a_{C2,H2} a_{H1,C1} a_{H2,A1} a_{P,A2} + a_{A1,H1} a_{A2,P} a_{C1,C2} a_{C2,H2} a_{H1,C1} a_{H2,A2} a_{P,A1} - a_{A1,H1} a_{AP,AP} a_{C1,C2} a_{C2,H2} a_{H1,C1} a_{H2,A1} a_{P,P} - a_{A1,H1} a_{AP,P} a_{C1,C2} a_{C2,H2} a_{H1,C1} a_{H2,A1} a_{P,AP} - a_{A1,H2} a_{A2,P} a_{AP,AP} a_{C1,C2} a_{C2,C1} a_{H2,A1} a_{P,A2} + a_{A1,H2} a_{A2,P} a_{AP,AP} a_{C1,C2} a_{C2,C1} a_{H2,A2} a_{P,A1} - a_{A1,H2} a_{A2,P} a_{AP,AP} a_{C1,H1} a_{H1,C1} a_{H2,A1} a_{P,A2} + a_{A1,H2} a_{A2,P} a_{AP,AP} a_{C1,H1} a_{H1,C1} a_{H2,A2} a_{P,A1} + a_{A1,H2} a_{A2,P} a_{AP,AP} a_{C2,H1} a_{H1,A1} a_{H2,C2} a_{P,A2} - a_{A1,H2} a_{A2,P} a_{AP,AP} a_{C2,H1} a_{H1,C2} a_{H2,A1} a_{P,A2} + a_{A1,H2} a_{A2,P} a_{AP,AP} a_{C2,H1} a_{H1,C2} a_{H2,A2} a_{P,A1} + a_{A1,H2} a_{A2,P} a_{C1,C2} a_{C2,H1} a_{H1,C1} a_{H2,A1} a_{P,A2} - a_{A1,H2} a_{A2,P} a_{C1,C2} a_{C2,H1} a_{H1,C1} a_{H2,A2} a_{P,A1} + a_{A1,H2} a_{A2,P} a_{C1,H1} a_{C2,C1} a_{H1,A1} a_{H2,C2} a_{P,A2} - a_{A1,H2} a_{A2,P} a_{C1,H1} a_{C2,C1} a_{H1,C2} a_{H2,A1} a_{P,A2} + a_{A1,H2} a_{A2,P} a_{C1,H1} a_{C2,C1} a_{H1,C2} a_{H2,A2} a_{P,A1} - a_{A1,H2} a_{A2,P} a_{C1,H1} a_{C2,C2} a_{H1,C1} a_{H2,A1} a_{P,A2} + a_{A1,H2} a_{A2,P} a_{C1,H1} a_{C2,C2} a_{H1,C1} a_{H2,A2} a_{P,A1} + a_{A1,H2} a_{AP,AP} a_{C1,C2} a_{C2,H1} a_{H1,C1} a_{H2,A1} a_{P,P} + a_{A1,H2} a_{AP,AP} a_{C1,H1} a_{C2,C1} a_{H1,A1} a_{H2,C2} a_{P,P} - a_{A1,H2} a_{AP,AP} a_{C1,H1} a_{C2,C1} a_{H1,C2} a_{H2,A1} a_{P,P} - a_{A1,H2} a_{AP,AP} a_{C1,H1} a_{C2,C2} a_{H1,C1} a_{H2,A1} a_{P,P} + a_{A1,H2} a_{AP,P} a_{C1,C2} a_{C2,H1} a_{H1,C1} a_{H2,A1} a_{P,AP} + a_{A1,H2} a_{AP,P} a_{C1,H1} a_{C2,C1} a_{H1,A1} a_{H2,C2} a_{P,AP} - a_{A1,H2} a_{AP,P} a_{C1,H1} a_{C2,C1} a_{H1,C2} a_{H2,A1} a_{P,AP} - a_{A1,H2} a_{AP,P} a_{C1,H1} a_{C2,C2} a_{H1,C1} a_{H2,A1} a_{P,AP} + a_{A1,P} a_{A2,H2} a_{AP,AP} a_{C1,C2} a_{C2,C1} a_{H2,A1} a_{P,A2} - a_{A1,P} a_{A2,H2} a_{AP,AP} a_{C1,C2} a_{C2,C1} a_{H2,A2} a_{P,A1} + a_{A1,P} a_{A2,H2} a_{AP,AP} a_{C1,H1} a_{H1,C1} a_{H2,A1} a_{P,A2} - a_{A1,P} a_{A2,H2} a_{AP,AP} a_{C1,H1} a_{H1,C1} a_{H2,A2} a_{P,A1} - a_{A1,P} a_{A2,H2} a_{AP,AP} a_{C2,H1} a_{H1,A1} a_{H2,C2} a_{P,A2} + a_{A1,P} a_{A2,H2} a_{AP,AP} a_{C2,H1} a_{H1,C2} a_{H2,A1} a_{P,A2} - a_{A1,P} a_{A2,H2} a_{AP,AP} a_{C2,H1} a_{H1,C2} a_{H2,A2} a_{P,A1} - a_{A1,P} a_{A2,H2} a_{C1,C2} a_{C2,H1} a_{H1,C1} a_{H2,A1} a_{P,A2} + a_{A1,P} a_{A2,H2} a_{C1,C2} a_{C2,H1} a_{H1,C1} a_{H2,A2} a_{P,A1} - a_{A1,P} a_{A2,H2} a_{C1,H1} a_{C2,C1} a_{H1,A1} a_{H2,C2} a_{P,A2} + a_{A1,P} a_{A2,H2} a_{C1,H1} a_{C2,C1} a_{H1,C2} a_{H2,A1} a_{P,A2} - a_{A1,P} a_{A2,H2} a_{C1,H1} a_{C2,C1} a_{H1,C2} a_{H2,A2} a_{P,A1} + a_{A1,P} a_{A2,H2} a_{C1,H1} a_{C2,C2} a_{H1,C1} a_{H2,A1} a_{P,A2} - a_{A1,P} a_{A2,H2} a_{C1,H1} a_{C2,C2} a_{H1,C1} a_{H2,A2} a_{P,A1} - a_{A1,P} a_{AP,AP} a_{C1,H1} a_{C2,H2} a_{H1,C1} a_{H2,C2} a_{P,A1} + a_{A2,H2} a_{AP,AP} a_{C1,C2} a_{C2,H1} a_{H1,C1} a_{H2,A2} a_{P,P} - a_{A2,H2} a_{AP,AP} a_{C1,H1} a_{C2,C1} a_{H1,C2} a_{H2,A2} a_{P,P} - a_{A2,H2} a_{AP,AP} a_{C1,H1} a_{C2,C2} a_{H1,C1} a_{H2,A2} a_{P,P} + a_{A2,H2} a_{AP,P} a_{C1,C2} a_{C2,H1} a_{H1,C1} a_{H2,A2} a_{P,AP} - a_{A2,H2} a_{AP,P} a_{C1,H1} a_{C2,C1} a_{H1,C2} a_{H2,A2} a_{P,AP} - a_{A2,H2} a_{AP,P} a_{C1,H1} a_{C2,C2} a_{H1,C1} a_{H2,A2} a_{P,AP} - a_{A2,P} a_{AP,AP} a_{C1,H1} a_{C2,H2} a_{H1,C1} a_{H2,C2} a_{P,A2}\\\\- a_{A1,H1} a_{A2,H2} a_{AP,AP} a_{C1,C2} a_{C2,C1} a_{H1,A1} a_{H2,A2} a_{P,P} - a_{A1,H1} a_{A2,H2} a_{AP,P} a_{C1,C2} a_{C2,C1} a_{H1,A1} a_{H2,A2} a_{P,AP} - a_{A1,H1} a_{A2,P} a_{AP,AP} a_{C1,C2} a_{C2,H2} a_{H1,C1} a_{H2,A1} a_{P,A2} + a_{A1,H1} a_{A2,P} a_{AP,AP} a_{C1,C2} a_{C2,H2} a_{H1,C1} a_{H2,A2} a_{P,A1} + a_{A1,H2} a_{A2,P} a_{AP,AP} a_{C1,C2} a_{C2,H1} a_{H1,C1} a_{H2,A1} a_{P,A2} - a_{A1,H2} a_{A2,P} a_{AP,AP} a_{C1,C2} a_{C2,H1} a_{H1,C1} a_{H2,A2} a_{P,A1} + a_{A1,H2} a_{A2,P} a_{AP,AP} a_{C1,H1} a_{C2,C1} a_{H1,A1} a_{H2,C2} a_{P,A2} - a_{A1,H2} a_{A2,P} a_{AP,AP} a_{C1,H1} a_{C2,C1} a_{H1,C2} a_{H2,A1} a_{P,A2} + a_{A1,H2} a_{A2,P} a_{AP,AP} a_{C1,H1} a_{C2,C1} a_{H1,C2} a_{H2,A2} a_{P,A1} - a_{A1,H2} a_{A2,P} a_{AP,AP} a_{C1,H1} a_{C2,C2} a_{H1,C1} a_{H2,A1} a_{P,A2} + a_{A1,H2} a_{A2,P} a_{AP,AP} a_{C1,H1} a_{C2,C2} a_{H1,C1} a_{H2,A2} a_{P,A1} - a_{A1,P} a_{A2,H2} a_{AP,AP} a_{C1,C2} a_{C2,H1} a_{H1,C1} a_{H2,A1} a_{P,A2} + a_{A1,P} a_{A2,H2} a_{AP,AP} a_{C1,C2} a_{C2,H1} a_{H1,C1} a_{H2,A2} a_{P,A1} - a_{A1,P} a_{A2,H2} a_{AP,AP} a_{C1,H1} a_{C2,C1} a_{H1,A1} a_{H2,C2} a_{P,A2} + a_{A1,P} a_{A2,H2} a_{AP,AP} a_{C1,H1} a_{C2,C1} a_{H1,C2} a_{H2,A1} a_{P,A2} - a_{A1,P} a_{A2,H2} a_{AP,AP} a_{C1,H1} a_{C2,C1} a_{H1,C2} a_{H2,A2} a_{P,A1} + a_{A1,P} a_{A2,H2} a_{AP,AP} a_{C1,H1} a_{C2,C2} a_{H1,C1} a_{H2,A1} a_{P,A2} - a_{A1,P} a_{A2,H2} a_{AP,AP} a_{C1,H1} a_{C2,C2} a_{H1,C1} a_{H2,A2} a_{P,A1}\\end{matrix}\\right]$"
      ],
      "text/plain": [
       "Matrix([\n",
       "[                                                                                                                                                                                                                                                                                                                                                                                                                                                                                                                                                                                                                                                                                                                                                                                                                                                                                                                                                                                                                                                                                                                                                                                                                                                                                                                                                                                                                                                                                                                                                                                                                                                                                                                                                                                                                                                                                                                                                                                                                                                                                                                                                                                                                                                                                                                                                                                                                                                                                                                                                                                                                                                                                                                                                                                                                                                                                                                                                                                                                                                                                                                                                                                                                                                                                                                                                                                                                                                                                                                                                                                                                                                                                                                -1],\n",
       "[                                                                                                                                                                                                                                                                                                                                                                                                                                                                                                                                                                                                                                                                                                                                                                                                                                                                                                                                                                                                                                                                                                                                                                                                                                                                                                                                                                                                                                                                                                                                                                                                                                                                                                                                                                                                                                                                                                                                                                                                                                                                                                                                                                                                                                                                                                                                                                                                                                                                                                                                                                                                                                                                                                                                                                                                                                                                                                                                                                                                                                                                                                                                                                                                                                                                                                                                                                                                                                                                                                                                                                                                                                                                                        -a_AP,AP - a_C2,C2 - a_P,P],\n",
       "[                                                                                                                                                                                                                                                                                                                                                                                                                                                                                                                                                                                                                                                                                                                                                                                                                                                                                                                                                                                                                                                                                                                                                                                                                                                                                                                                                                                                                                                                                                                                                                                                                                                                                                                                                                                                                                                                                                                                                                                                                                                                                                                                                                                                                                                                                                                                                                                                                                                                                                                                                                                                                                                                                                                                                                                                                                                                                                                                                                                                                                                                                                                                                                                                                                                                                                                                                                                                                                                                                    -a_A1,H1*a_H1,A1 - a_A1,H2*a_H2,A1 - a_A1,P*a_P,A1 - a_A2,H2*a_H2,A2 - a_A2,P*a_P,A2 - a_AP,AP*a_C2,C2 - a_AP,AP*a_P,P - a_AP,P*a_P,AP - a_C1,C2*a_C2,C1 - a_C1,H1*a_H1,C1 - a_C2,C2*a_P,P - a_C2,H1*a_H1,C2 - a_C2,H2*a_H2,C2],\n",
       "[                                                                                                                                                                                                                                                                                                                                                                                                                                                                                                                                                                                                                                                                                                                                                                                                                                                                                                                                                                                                                                                                                                                                                                                                                                                                                                                                                                                                                                                                                                                                                                                                                                                                                                                                                                                                                                                                                                                                                                                                                                                                                                                                                                                                                                                                                                                                                                                                                                                                                                                                                                                                                                                                                                                                                                                                                                                                                                                                                                                                                                          -a_A1,H1*a_AP,AP*a_H1,A1 - a_A1,H1*a_C2,C2*a_H1,A1 - a_A1,H1*a_H1,A1*a_P,P - a_A1,H2*a_AP,AP*a_H2,A1 - a_A1,H2*a_C2,C2*a_H2,A1 - a_A1,H2*a_H2,A1*a_P,P - a_A1,P*a_AP,AP*a_P,A1 - a_A1,P*a_C2,C2*a_P,A1 - a_A2,H2*a_AP,AP*a_H2,A2 - a_A2,H2*a_C2,C2*a_H2,A2 - a_A2,H2*a_H2,A2*a_P,P - a_A2,P*a_AP,AP*a_P,A2 - a_A2,P*a_C2,C2*a_P,A2 - a_AP,AP*a_C1,C2*a_C2,C1 - a_AP,AP*a_C1,H1*a_H1,C1 - a_AP,AP*a_C2,C2*a_P,P - a_AP,AP*a_C2,H1*a_H1,C2 - a_AP,AP*a_C2,H2*a_H2,C2 - a_AP,P*a_C2,C2*a_P,AP - a_C1,C2*a_C2,C1*a_P,P + a_C1,C2*a_C2,H1*a_H1,C1 - a_C1,H1*a_C2,C1*a_H1,C2 - a_C1,H1*a_C2,C2*a_H1,C1 - a_C1,H1*a_H1,C1*a_P,P - a_C2,H1*a_H1,C2*a_P,P - a_C2,H2*a_H2,C2*a_P,P],\n",
       "[                                                                                                                                                                                                                                                                                                                                                                                                                                                                                                                                                                                                                                                                                                                                                                                                                                                                                                                                                                                                                                                                                                                                                                                                                                                                                                                                                                                                                                                                                                                                                                                                                                                                                                                                                                                                                                                                                                                -a_A1,H1*a_A2,H2*a_H1,A1*a_H2,A2 - a_A1,H1*a_A2,P*a_H1,A1*a_P,A2 - a_A1,H1*a_AP,AP*a_C2,C2*a_H1,A1 - a_A1,H1*a_AP,AP*a_H1,A1*a_P,P - a_A1,H1*a_AP,P*a_H1,A1*a_P,AP - a_A1,H1*a_C1,C2*a_C2,C1*a_H1,A1 - a_A1,H1*a_C2,C2*a_H1,A1*a_P,P - a_A1,H1*a_C2,H2*a_H1,A1*a_H2,C2 + a_A1,H1*a_C2,H2*a_H1,C2*a_H2,A1 - a_A1,H2*a_A2,P*a_H2,A1*a_P,A2 + a_A1,H2*a_A2,P*a_H2,A2*a_P,A1 - a_A1,H2*a_AP,AP*a_C2,C2*a_H2,A1 - a_A1,H2*a_AP,AP*a_H2,A1*a_P,P - a_A1,H2*a_AP,P*a_H2,A1*a_P,AP - a_A1,H2*a_C1,C2*a_C2,C1*a_H2,A1 - a_A1,H2*a_C1,H1*a_H1,C1*a_H2,A1 - a_A1,H2*a_C2,C2*a_H2,A1*a_P,P + a_A1,H2*a_C2,H1*a_H1,A1*a_H2,C2 - a_A1,H2*a_C2,H1*a_H1,C2*a_H2,A1 + a_A1,P*a_A2,H2*a_H2,A1*a_P,A2 - a_A1,P*a_A2,H2*a_H2,A2*a_P,A1 - a_A1,P*a_AP,AP*a_C2,C2*a_P,A1 - a_A1,P*a_C1,C2*a_C2,C1*a_P,A1 - a_A1,P*a_C1,H1*a_H1,C1*a_P,A1 - a_A1,P*a_C2,H1*a_H1,C2*a_P,A1 - a_A1,P*a_C2,H2*a_H2,C2*a_P,A1 - a_A2,H2*a_AP,AP*a_C2,C2*a_H2,A2 - a_A2,H2*a_AP,AP*a_H2,A2*a_P,P - a_A2,H2*a_AP,P*a_H2,A2*a_P,AP - a_A2,H2*a_C1,C2*a_C2,C1*a_H2,A2 - a_A2,H2*a_C1,H1*a_H1,C1*a_H2,A2 - a_A2,H2*a_C2,C2*a_H2,A2*a_P,P - a_A2,H2*a_C2,H1*a_H1,C2*a_H2,A2 - a_A2,P*a_AP,AP*a_C2,C2*a_P,A2 - a_A2,P*a_C1,C2*a_C2,C1*a_P,A2 - a_A2,P*a_C1,H1*a_H1,C1*a_P,A2 - a_A2,P*a_C2,H1*a_H1,C2*a_P,A2 - a_A2,P*a_C2,H2*a_H2,C2*a_P,A2 - a_AP,AP*a_C1,C2*a_C2,C1*a_P,P + a_AP,AP*a_C1,C2*a_C2,H1*a_H1,C1 - a_AP,AP*a_C1,H1*a_C2,C1*a_H1,C2 - a_AP,AP*a_C1,H1*a_C2,C2*a_H1,C1 - a_AP,AP*a_C1,H1*a_H1,C1*a_P,P - a_AP,AP*a_C2,H1*a_H1,C2*a_P,P - a_AP,AP*a_C2,H2*a_H2,C2*a_P,P - a_AP,P*a_C1,C2*a_C2,C1*a_P,AP - a_AP,P*a_C1,H1*a_H1,C1*a_P,AP - a_AP,P*a_C2,H1*a_H1,C2*a_P,AP - a_AP,P*a_C2,H2*a_H2,C2*a_P,AP + a_C1,C2*a_C2,H1*a_H1,C1*a_P,P - a_C1,H1*a_C2,C1*a_H1,C2*a_P,P - a_C1,H1*a_C2,C2*a_H1,C1*a_P,P - a_C1,H1*a_C2,H2*a_H1,C1*a_H2,C2],\n",
       "[                                                                                                                                                                                                                                                                                                                                                                                                                                                                                                                                                                                                                                                                                                                                                                                                  -a_A1,H1*a_A2,H2*a_AP,AP*a_H1,A1*a_H2,A2 - a_A1,H1*a_A2,H2*a_C2,C2*a_H1,A1*a_H2,A2 - a_A1,H1*a_A2,H2*a_H1,A1*a_H2,A2*a_P,P - a_A1,H1*a_A2,P*a_AP,AP*a_H1,A1*a_P,A2 - a_A1,H1*a_A2,P*a_C2,C2*a_H1,A1*a_P,A2 - a_A1,H1*a_AP,AP*a_C1,C2*a_C2,C1*a_H1,A1 - a_A1,H1*a_AP,AP*a_C2,C2*a_H1,A1*a_P,P - a_A1,H1*a_AP,AP*a_C2,H2*a_H1,A1*a_H2,C2 + a_A1,H1*a_AP,AP*a_C2,H2*a_H1,C2*a_H2,A1 - a_A1,H1*a_AP,P*a_C2,C2*a_H1,A1*a_P,AP - a_A1,H1*a_C1,C2*a_C2,C1*a_H1,A1*a_P,P - a_A1,H1*a_C1,C2*a_C2,H2*a_H1,C1*a_H2,A1 - a_A1,H1*a_C2,H2*a_H1,A1*a_H2,C2*a_P,P + a_A1,H1*a_C2,H2*a_H1,C2*a_H2,A1*a_P,P - a_A1,H2*a_A2,P*a_AP,AP*a_H2,A1*a_P,A2 + a_A1,H2*a_A2,P*a_AP,AP*a_H2,A2*a_P,A1 - a_A1,H2*a_A2,P*a_C2,C2*a_H2,A1*a_P,A2 + a_A1,H2*a_A2,P*a_C2,C2*a_H2,A2*a_P,A1 - a_A1,H2*a_AP,AP*a_C1,C2*a_C2,C1*a_H2,A1 - a_A1,H2*a_AP,AP*a_C1,H1*a_H1,C1*a_H2,A1 - a_A1,H2*a_AP,AP*a_C2,C2*a_H2,A1*a_P,P + a_A1,H2*a_AP,AP*a_C2,H1*a_H1,A1*a_H2,C2 - a_A1,H2*a_AP,AP*a_C2,H1*a_H1,C2*a_H2,A1 - a_A1,H2*a_AP,P*a_C2,C2*a_H2,A1*a_P,AP - a_A1,H2*a_C1,C2*a_C2,C1*a_H2,A1*a_P,P + a_A1,H2*a_C1,C2*a_C2,H1*a_H1,C1*a_H2,A1 + a_A1,H2*a_C1,H1*a_C2,C1*a_H1,A1*a_H2,C2 - a_A1,H2*a_C1,H1*a_C2,C1*a_H1,C2*a_H2,A1 - a_A1,H2*a_C1,H1*a_C2,C2*a_H1,C1*a_H2,A1 - a_A1,H2*a_C1,H1*a_H1,C1*a_H2,A1*a_P,P + a_A1,H2*a_C2,H1*a_H1,A1*a_H2,C2*a_P,P - a_A1,H2*a_C2,H1*a_H1,C2*a_H2,A1*a_P,P + a_A1,P*a_A2,H2*a_AP,AP*a_H2,A1*a_P,A2 - a_A1,P*a_A2,H2*a_AP,AP*a_H2,A2*a_P,A1 + a_A1,P*a_A2,H2*a_C2,C2*a_H2,A1*a_P,A2 - a_A1,P*a_A2,H2*a_C2,C2*a_H2,A2*a_P,A1 - a_A1,P*a_AP,AP*a_C1,C2*a_C2,C1*a_P,A1 - a_A1,P*a_AP,AP*a_C1,H1*a_H1,C1*a_P,A1 - a_A1,P*a_AP,AP*a_C2,H1*a_H1,C2*a_P,A1 - a_A1,P*a_AP,AP*a_C2,H2*a_H2,C2*a_P,A1 + a_A1,P*a_C1,C2*a_C2,H1*a_H1,C1*a_P,A1 - a_A1,P*a_C1,H1*a_C2,C1*a_H1,C2*a_P,A1 - a_A1,P*a_C1,H1*a_C2,C2*a_H1,C1*a_P,A1 - a_A2,H2*a_AP,AP*a_C1,C2*a_C2,C1*a_H2,A2 - a_A2,H2*a_AP,AP*a_C1,H1*a_H1,C1*a_H2,A2 - a_A2,H2*a_AP,AP*a_C2,C2*a_H2,A2*a_P,P - a_A2,H2*a_AP,AP*a_C2,H1*a_H1,C2*a_H2,A2 - a_A2,H2*a_AP,P*a_C2,C2*a_H2,A2*a_P,AP - a_A2,H2*a_C1,C2*a_C2,C1*a_H2,A2*a_P,P + a_A2,H2*a_C1,C2*a_C2,H1*a_H1,C1*a_H2,A2 - a_A2,H2*a_C1,H1*a_C2,C1*a_H1,C2*a_H2,A2 - a_A2,H2*a_C1,H1*a_C2,C2*a_H1,C1*a_H2,A2 - a_A2,H2*a_C1,H1*a_H1,C1*a_H2,A2*a_P,P - a_A2,H2*a_C2,H1*a_H1,C2*a_H2,A2*a_P,P - a_A2,P*a_AP,AP*a_C1,C2*a_C2,C1*a_P,A2 - a_A2,P*a_AP,AP*a_C1,H1*a_H1,C1*a_P,A2 - a_A2,P*a_AP,AP*a_C2,H1*a_H1,C2*a_P,A2 - a_A2,P*a_AP,AP*a_C2,H2*a_H2,C2*a_P,A2 + a_A2,P*a_C1,C2*a_C2,H1*a_H1,C1*a_P,A2 - a_A2,P*a_C1,H1*a_C2,C1*a_H1,C2*a_P,A2 - a_A2,P*a_C1,H1*a_C2,C2*a_H1,C1*a_P,A2 + a_AP,AP*a_C1,C2*a_C2,H1*a_H1,C1*a_P,P - a_AP,AP*a_C1,H1*a_C2,C1*a_H1,C2*a_P,P - a_AP,AP*a_C1,H1*a_C2,C2*a_H1,C1*a_P,P - a_AP,AP*a_C1,H1*a_C2,H2*a_H1,C1*a_H2,C2 + a_AP,P*a_C1,C2*a_C2,H1*a_H1,C1*a_P,AP - a_AP,P*a_C1,H1*a_C2,C1*a_H1,C2*a_P,AP - a_AP,P*a_C1,H1*a_C2,C2*a_H1,C1*a_P,AP - a_C1,H1*a_C2,H2*a_H1,C1*a_H2,C2*a_P,P],\n",
       "[-a_A1,H1*a_A2,H2*a_AP,AP*a_C2,C2*a_H1,A1*a_H2,A2 - a_A1,H1*a_A2,H2*a_AP,AP*a_H1,A1*a_H2,A2*a_P,P - a_A1,H1*a_A2,H2*a_AP,P*a_H1,A1*a_H2,A2*a_P,AP - a_A1,H1*a_A2,H2*a_C1,C2*a_C2,C1*a_H1,A1*a_H2,A2 - a_A1,H1*a_A2,H2*a_C2,C2*a_H1,A1*a_H2,A2*a_P,P - a_A1,H1*a_A2,P*a_AP,AP*a_C2,C2*a_H1,A1*a_P,A2 - a_A1,H1*a_A2,P*a_C1,C2*a_C2,C1*a_H1,A1*a_P,A2 - a_A1,H1*a_A2,P*a_C2,H2*a_H1,A1*a_H2,C2*a_P,A2 + a_A1,H1*a_A2,P*a_C2,H2*a_H1,C2*a_H2,A1*a_P,A2 - a_A1,H1*a_A2,P*a_C2,H2*a_H1,C2*a_H2,A2*a_P,A1 - a_A1,H1*a_AP,AP*a_C1,C2*a_C2,C1*a_H1,A1*a_P,P - a_A1,H1*a_AP,AP*a_C1,C2*a_C2,H2*a_H1,C1*a_H2,A1 - a_A1,H1*a_AP,AP*a_C2,H2*a_H1,A1*a_H2,C2*a_P,P + a_A1,H1*a_AP,AP*a_C2,H2*a_H1,C2*a_H2,A1*a_P,P - a_A1,H1*a_AP,P*a_C1,C2*a_C2,C1*a_H1,A1*a_P,AP - a_A1,H1*a_AP,P*a_C2,H2*a_H1,A1*a_H2,C2*a_P,AP + a_A1,H1*a_AP,P*a_C2,H2*a_H1,C2*a_H2,A1*a_P,AP - a_A1,H1*a_C1,C2*a_C2,H2*a_H1,C1*a_H2,A1*a_P,P - a_A1,H2*a_A2,P*a_AP,AP*a_C2,C2*a_H2,A1*a_P,A2 + a_A1,H2*a_A2,P*a_AP,AP*a_C2,C2*a_H2,A2*a_P,A1 - a_A1,H2*a_A2,P*a_C1,C2*a_C2,C1*a_H2,A1*a_P,A2 + a_A1,H2*a_A2,P*a_C1,C2*a_C2,C1*a_H2,A2*a_P,A1 - a_A1,H2*a_A2,P*a_C1,H1*a_H1,C1*a_H2,A1*a_P,A2 + a_A1,H2*a_A2,P*a_C1,H1*a_H1,C1*a_H2,A2*a_P,A1 + a_A1,H2*a_A2,P*a_C2,H1*a_H1,A1*a_H2,C2*a_P,A2 - a_A1,H2*a_A2,P*a_C2,H1*a_H1,C2*a_H2,A1*a_P,A2 + a_A1,H2*a_A2,P*a_C2,H1*a_H1,C2*a_H2,A2*a_P,A1 - a_A1,H2*a_AP,AP*a_C1,C2*a_C2,C1*a_H2,A1*a_P,P + a_A1,H2*a_AP,AP*a_C1,C2*a_C2,H1*a_H1,C1*a_H2,A1 + a_A1,H2*a_AP,AP*a_C1,H1*a_C2,C1*a_H1,A1*a_H2,C2 - a_A1,H2*a_AP,AP*a_C1,H1*a_C2,C1*a_H1,C2*a_H2,A1 - a_A1,H2*a_AP,AP*a_C1,H1*a_C2,C2*a_H1,C1*a_H2,A1 - a_A1,H2*a_AP,AP*a_C1,H1*a_H1,C1*a_H2,A1*a_P,P + a_A1,H2*a_AP,AP*a_C2,H1*a_H1,A1*a_H2,C2*a_P,P - a_A1,H2*a_AP,AP*a_C2,H1*a_H1,C2*a_H2,A1*a_P,P - a_A1,H2*a_AP,P*a_C1,C2*a_C2,C1*a_H2,A1*a_P,AP - a_A1,H2*a_AP,P*a_C1,H1*a_H1,C1*a_H2,A1*a_P,AP + a_A1,H2*a_AP,P*a_C2,H1*a_H1,A1*a_H2,C2*a_P,AP - a_A1,H2*a_AP,P*a_C2,H1*a_H1,C2*a_H2,A1*a_P,AP + a_A1,H2*a_C1,C2*a_C2,H1*a_H1,C1*a_H2,A1*a_P,P + a_A1,H2*a_C1,H1*a_C2,C1*a_H1,A1*a_H2,C2*a_P,P - a_A1,H2*a_C1,H1*a_C2,C1*a_H1,C2*a_H2,A1*a_P,P - a_A1,H2*a_C1,H1*a_C2,C2*a_H1,C1*a_H2,A1*a_P,P + a_A1,P*a_A2,H2*a_AP,AP*a_C2,C2*a_H2,A1*a_P,A2 - a_A1,P*a_A2,H2*a_AP,AP*a_C2,C2*a_H2,A2*a_P,A1 + a_A1,P*a_A2,H2*a_C1,C2*a_C2,C1*a_H2,A1*a_P,A2 - a_A1,P*a_A2,H2*a_C1,C2*a_C2,C1*a_H2,A2*a_P,A1 + a_A1,P*a_A2,H2*a_C1,H1*a_H1,C1*a_H2,A1*a_P,A2 - a_A1,P*a_A2,H2*a_C1,H1*a_H1,C1*a_H2,A2*a_P,A1 - a_A1,P*a_A2,H2*a_C2,H1*a_H1,A1*a_H2,C2*a_P,A2 + a_A1,P*a_A2,H2*a_C2,H1*a_H1,C2*a_H2,A1*a_P,A2 - a_A1,P*a_A2,H2*a_C2,H1*a_H1,C2*a_H2,A2*a_P,A1 + a_A1,P*a_AP,AP*a_C1,C2*a_C2,H1*a_H1,C1*a_P,A1 - a_A1,P*a_AP,AP*a_C1,H1*a_C2,C1*a_H1,C2*a_P,A1 - a_A1,P*a_AP,AP*a_C1,H1*a_C2,C2*a_H1,C1*a_P,A1 - a_A1,P*a_C1,H1*a_C2,H2*a_H1,C1*a_H2,C2*a_P,A1 - a_A2,H2*a_AP,AP*a_C1,C2*a_C2,C1*a_H2,A2*a_P,P + a_A2,H2*a_AP,AP*a_C1,C2*a_C2,H1*a_H1,C1*a_H2,A2 - a_A2,H2*a_AP,AP*a_C1,H1*a_C2,C1*a_H1,C2*a_H2,A2 - a_A2,H2*a_AP,AP*a_C1,H1*a_C2,C2*a_H1,C1*a_H2,A2 - a_A2,H2*a_AP,AP*a_C1,H1*a_H1,C1*a_H2,A2*a_P,P - a_A2,H2*a_AP,AP*a_C2,H1*a_H1,C2*a_H2,A2*a_P,P - a_A2,H2*a_AP,P*a_C1,C2*a_C2,C1*a_H2,A2*a_P,AP - a_A2,H2*a_AP,P*a_C1,H1*a_H1,C1*a_H2,A2*a_P,AP - a_A2,H2*a_AP,P*a_C2,H1*a_H1,C2*a_H2,A2*a_P,AP + a_A2,H2*a_C1,C2*a_C2,H1*a_H1,C1*a_H2,A2*a_P,P - a_A2,H2*a_C1,H1*a_C2,C1*a_H1,C2*a_H2,A2*a_P,P - a_A2,H2*a_C1,H1*a_C2,C2*a_H1,C1*a_H2,A2*a_P,P + a_A2,P*a_AP,AP*a_C1,C2*a_C2,H1*a_H1,C1*a_P,A2 - a_A2,P*a_AP,AP*a_C1,H1*a_C2,C1*a_H1,C2*a_P,A2 - a_A2,P*a_AP,AP*a_C1,H1*a_C2,C2*a_H1,C1*a_P,A2 - a_A2,P*a_C1,H1*a_C2,H2*a_H1,C1*a_H2,C2*a_P,A2 - a_AP,AP*a_C1,H1*a_C2,H2*a_H1,C1*a_H2,C2*a_P,P - a_AP,P*a_C1,H1*a_C2,H2*a_H1,C1*a_H2,C2*a_P,AP],\n",
       "[                                                                                                                                                                                                                                                                                                                                                                                                                                                  -a_A1,H1*a_A2,H2*a_AP,AP*a_C1,C2*a_C2,C1*a_H1,A1*a_H2,A2 - a_A1,H1*a_A2,H2*a_AP,AP*a_C2,C2*a_H1,A1*a_H2,A2*a_P,P - a_A1,H1*a_A2,H2*a_AP,P*a_C2,C2*a_H1,A1*a_H2,A2*a_P,AP - a_A1,H1*a_A2,H2*a_C1,C2*a_C2,C1*a_H1,A1*a_H2,A2*a_P,P - a_A1,H1*a_A2,P*a_AP,AP*a_C1,C2*a_C2,C1*a_H1,A1*a_P,A2 - a_A1,H1*a_A2,P*a_AP,AP*a_C2,H2*a_H1,A1*a_H2,C2*a_P,A2 + a_A1,H1*a_A2,P*a_AP,AP*a_C2,H2*a_H1,C2*a_H2,A1*a_P,A2 - a_A1,H1*a_A2,P*a_AP,AP*a_C2,H2*a_H1,C2*a_H2,A2*a_P,A1 - a_A1,H1*a_A2,P*a_C1,C2*a_C2,H2*a_H1,C1*a_H2,A1*a_P,A2 + a_A1,H1*a_A2,P*a_C1,C2*a_C2,H2*a_H1,C1*a_H2,A2*a_P,A1 - a_A1,H1*a_AP,AP*a_C1,C2*a_C2,H2*a_H1,C1*a_H2,A1*a_P,P - a_A1,H1*a_AP,P*a_C1,C2*a_C2,H2*a_H1,C1*a_H2,A1*a_P,AP - a_A1,H2*a_A2,P*a_AP,AP*a_C1,C2*a_C2,C1*a_H2,A1*a_P,A2 + a_A1,H2*a_A2,P*a_AP,AP*a_C1,C2*a_C2,C1*a_H2,A2*a_P,A1 - a_A1,H2*a_A2,P*a_AP,AP*a_C1,H1*a_H1,C1*a_H2,A1*a_P,A2 + a_A1,H2*a_A2,P*a_AP,AP*a_C1,H1*a_H1,C1*a_H2,A2*a_P,A1 + a_A1,H2*a_A2,P*a_AP,AP*a_C2,H1*a_H1,A1*a_H2,C2*a_P,A2 - a_A1,H2*a_A2,P*a_AP,AP*a_C2,H1*a_H1,C2*a_H2,A1*a_P,A2 + a_A1,H2*a_A2,P*a_AP,AP*a_C2,H1*a_H1,C2*a_H2,A2*a_P,A1 + a_A1,H2*a_A2,P*a_C1,C2*a_C2,H1*a_H1,C1*a_H2,A1*a_P,A2 - a_A1,H2*a_A2,P*a_C1,C2*a_C2,H1*a_H1,C1*a_H2,A2*a_P,A1 + a_A1,H2*a_A2,P*a_C1,H1*a_C2,C1*a_H1,A1*a_H2,C2*a_P,A2 - a_A1,H2*a_A2,P*a_C1,H1*a_C2,C1*a_H1,C2*a_H2,A1*a_P,A2 + a_A1,H2*a_A2,P*a_C1,H1*a_C2,C1*a_H1,C2*a_H2,A2*a_P,A1 - a_A1,H2*a_A2,P*a_C1,H1*a_C2,C2*a_H1,C1*a_H2,A1*a_P,A2 + a_A1,H2*a_A2,P*a_C1,H1*a_C2,C2*a_H1,C1*a_H2,A2*a_P,A1 + a_A1,H2*a_AP,AP*a_C1,C2*a_C2,H1*a_H1,C1*a_H2,A1*a_P,P + a_A1,H2*a_AP,AP*a_C1,H1*a_C2,C1*a_H1,A1*a_H2,C2*a_P,P - a_A1,H2*a_AP,AP*a_C1,H1*a_C2,C1*a_H1,C2*a_H2,A1*a_P,P - a_A1,H2*a_AP,AP*a_C1,H1*a_C2,C2*a_H1,C1*a_H2,A1*a_P,P + a_A1,H2*a_AP,P*a_C1,C2*a_C2,H1*a_H1,C1*a_H2,A1*a_P,AP + a_A1,H2*a_AP,P*a_C1,H1*a_C2,C1*a_H1,A1*a_H2,C2*a_P,AP - a_A1,H2*a_AP,P*a_C1,H1*a_C2,C1*a_H1,C2*a_H2,A1*a_P,AP - a_A1,H2*a_AP,P*a_C1,H1*a_C2,C2*a_H1,C1*a_H2,A1*a_P,AP + a_A1,P*a_A2,H2*a_AP,AP*a_C1,C2*a_C2,C1*a_H2,A1*a_P,A2 - a_A1,P*a_A2,H2*a_AP,AP*a_C1,C2*a_C2,C1*a_H2,A2*a_P,A1 + a_A1,P*a_A2,H2*a_AP,AP*a_C1,H1*a_H1,C1*a_H2,A1*a_P,A2 - a_A1,P*a_A2,H2*a_AP,AP*a_C1,H1*a_H1,C1*a_H2,A2*a_P,A1 - a_A1,P*a_A2,H2*a_AP,AP*a_C2,H1*a_H1,A1*a_H2,C2*a_P,A2 + a_A1,P*a_A2,H2*a_AP,AP*a_C2,H1*a_H1,C2*a_H2,A1*a_P,A2 - a_A1,P*a_A2,H2*a_AP,AP*a_C2,H1*a_H1,C2*a_H2,A2*a_P,A1 - a_A1,P*a_A2,H2*a_C1,C2*a_C2,H1*a_H1,C1*a_H2,A1*a_P,A2 + a_A1,P*a_A2,H2*a_C1,C2*a_C2,H1*a_H1,C1*a_H2,A2*a_P,A1 - a_A1,P*a_A2,H2*a_C1,H1*a_C2,C1*a_H1,A1*a_H2,C2*a_P,A2 + a_A1,P*a_A2,H2*a_C1,H1*a_C2,C1*a_H1,C2*a_H2,A1*a_P,A2 - a_A1,P*a_A2,H2*a_C1,H1*a_C2,C1*a_H1,C2*a_H2,A2*a_P,A1 + a_A1,P*a_A2,H2*a_C1,H1*a_C2,C2*a_H1,C1*a_H2,A1*a_P,A2 - a_A1,P*a_A2,H2*a_C1,H1*a_C2,C2*a_H1,C1*a_H2,A2*a_P,A1 - a_A1,P*a_AP,AP*a_C1,H1*a_C2,H2*a_H1,C1*a_H2,C2*a_P,A1 + a_A2,H2*a_AP,AP*a_C1,C2*a_C2,H1*a_H1,C1*a_H2,A2*a_P,P - a_A2,H2*a_AP,AP*a_C1,H1*a_C2,C1*a_H1,C2*a_H2,A2*a_P,P - a_A2,H2*a_AP,AP*a_C1,H1*a_C2,C2*a_H1,C1*a_H2,A2*a_P,P + a_A2,H2*a_AP,P*a_C1,C2*a_C2,H1*a_H1,C1*a_H2,A2*a_P,AP - a_A2,H2*a_AP,P*a_C1,H1*a_C2,C1*a_H1,C2*a_H2,A2*a_P,AP - a_A2,H2*a_AP,P*a_C1,H1*a_C2,C2*a_H1,C1*a_H2,A2*a_P,AP - a_A2,P*a_AP,AP*a_C1,H1*a_C2,H2*a_H1,C1*a_H2,C2*a_P,A2],\n",
       "[                                                                                                                                                                                                                                                                                                                                                                                                                                                                                                                                                                                                                                                                                                                                                                                                                                                                                                                                                                                                                                                                                                                                                                                                                                                                                                                                                                                                                                                                                                                                                                                                                                                                                                                                                                                                                                                                                                                                                                                                                                                                                                                                                                                                                                                                                                                                                                                                                                                                                                                    -a_A1,H1*a_A2,H2*a_AP,AP*a_C1,C2*a_C2,C1*a_H1,A1*a_H2,A2*a_P,P - a_A1,H1*a_A2,H2*a_AP,P*a_C1,C2*a_C2,C1*a_H1,A1*a_H2,A2*a_P,AP - a_A1,H1*a_A2,P*a_AP,AP*a_C1,C2*a_C2,H2*a_H1,C1*a_H2,A1*a_P,A2 + a_A1,H1*a_A2,P*a_AP,AP*a_C1,C2*a_C2,H2*a_H1,C1*a_H2,A2*a_P,A1 + a_A1,H2*a_A2,P*a_AP,AP*a_C1,C2*a_C2,H1*a_H1,C1*a_H2,A1*a_P,A2 - a_A1,H2*a_A2,P*a_AP,AP*a_C1,C2*a_C2,H1*a_H1,C1*a_H2,A2*a_P,A1 + a_A1,H2*a_A2,P*a_AP,AP*a_C1,H1*a_C2,C1*a_H1,A1*a_H2,C2*a_P,A2 - a_A1,H2*a_A2,P*a_AP,AP*a_C1,H1*a_C2,C1*a_H1,C2*a_H2,A1*a_P,A2 + a_A1,H2*a_A2,P*a_AP,AP*a_C1,H1*a_C2,C1*a_H1,C2*a_H2,A2*a_P,A1 - a_A1,H2*a_A2,P*a_AP,AP*a_C1,H1*a_C2,C2*a_H1,C1*a_H2,A1*a_P,A2 + a_A1,H2*a_A2,P*a_AP,AP*a_C1,H1*a_C2,C2*a_H1,C1*a_H2,A2*a_P,A1 - a_A1,P*a_A2,H2*a_AP,AP*a_C1,C2*a_C2,H1*a_H1,C1*a_H2,A1*a_P,A2 + a_A1,P*a_A2,H2*a_AP,AP*a_C1,C2*a_C2,H1*a_H1,C1*a_H2,A2*a_P,A1 - a_A1,P*a_A2,H2*a_AP,AP*a_C1,H1*a_C2,C1*a_H1,A1*a_H2,C2*a_P,A2 + a_A1,P*a_A2,H2*a_AP,AP*a_C1,H1*a_C2,C1*a_H1,C2*a_H2,A1*a_P,A2 - a_A1,P*a_A2,H2*a_AP,AP*a_C1,H1*a_C2,C1*a_H1,C2*a_H2,A2*a_P,A1 + a_A1,P*a_A2,H2*a_AP,AP*a_C1,H1*a_C2,C2*a_H1,C1*a_H2,A1*a_P,A2 - a_A1,P*a_A2,H2*a_AP,AP*a_C1,H1*a_C2,C2*a_H1,C1*a_H2,A2*a_P,A1]])"
      ]
     },
     "execution_count": 36,
     "metadata": {},
     "output_type": "execute_result"
    }
   ],
   "source": [
    "system_feedback(G)"
   ]
  },
  {
   "cell_type": "code",
   "execution_count": 37,
   "metadata": {},
   "outputs": [],
   "source": [
    "if len(get_nodes(G, 'state')) < 5:\n",
    "    display(hurwitz_determinants(G))"
   ]
  },
  {
   "cell_type": "code",
   "execution_count": 38,
   "metadata": {},
   "outputs": [],
   "source": [
    "structural_sensitivity(G)"
   ]
  },
  {
   "cell_type": "markdown",
   "metadata": {},
   "source": [
    "### Press perturbation"
   ]
  },
  {
   "cell_type": "code",
   "execution_count": null,
   "metadata": {},
   "outputs": [],
   "source": [
    "adjoint_matrix(G, form='symbolic')"
   ]
  },
  {
   "cell_type": "code",
   "execution_count": null,
   "metadata": {},
   "outputs": [],
   "source": [
    "birth_matrix(G, form='symbolic')"
   ]
  },
  {
   "cell_type": "code",
   "execution_count": null,
   "metadata": {},
   "outputs": [],
   "source": [
    "death_matrix(G, form='symbolic')"
   ]
  },
  {
   "cell_type": "code",
   "execution_count": null,
   "metadata": {},
   "outputs": [],
   "source": [
    "life_expectancy_change(G, type='birth')"
   ]
  },
  {
   "cell_type": "code",
   "execution_count": null,
   "metadata": {},
   "outputs": [],
   "source": [
    "life_expectancy_change(G, type='death')"
   ]
  },
  {
   "cell_type": "code",
   "execution_count": null,
   "metadata": {},
   "outputs": [],
   "source": [
    "perturb='P'\n",
    "adjoint_matrix(G, form='symbolic', perturb=perturb)"
   ]
  },
  {
   "cell_type": "code",
   "execution_count": null,
   "metadata": {},
   "outputs": [],
   "source": [
    "life_expectancy_change(G, type='birth', perturb=perturb)"
   ]
  },
  {
   "cell_type": "code",
   "execution_count": null,
   "metadata": {},
   "outputs": [],
   "source": [
    "life_expectancy_change(G, type='death', perturb=perturb)"
   ]
  },
  {
   "cell_type": "markdown",
   "metadata": {},
   "source": [
    "### Causal pathways"
   ]
  },
  {
   "cell_type": "code",
   "execution_count": null,
   "metadata": {},
   "outputs": [],
   "source": [
    "get_cycles(G)"
   ]
  },
  {
   "cell_type": "code",
   "execution_count": null,
   "metadata": {},
   "outputs": [],
   "source": [
    "get_paths(G, source=source, target=target, form='symbolic')"
   ]
  },
  {
   "cell_type": "code",
   "execution_count": null,
   "metadata": {},
   "outputs": [],
   "source": [
    "complementary_feedback(G, source=source, target=target, form='symbolic')"
   ]
  },
  {
   "cell_type": "code",
   "execution_count": null,
   "metadata": {},
   "outputs": [],
   "source": [
    "system_paths(G, source=source, target=target, form='symbolic')"
   ]
  }
 ],
 "metadata": {
  "kernelspec": {
   "display_name": "Python 3 (ipykernel)",
   "language": "python",
   "name": "python3"
  },
  "language_info": {
   "codemirror_mode": {
    "name": "ipython",
    "version": 3
   },
   "file_extension": ".py",
   "mimetype": "text/x-python",
   "name": "python",
   "nbconvert_exporter": "python",
   "pygments_lexer": "ipython3",
   "version": "3.11.7"
  }
 },
 "nbformat": 4,
 "nbformat_minor": 4
}
