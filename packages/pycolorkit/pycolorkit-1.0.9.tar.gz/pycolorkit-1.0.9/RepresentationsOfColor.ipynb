{
 "cells": [
  {
   "cell_type": "markdown",
   "metadata": {},
   "source": [
    "# Representations of Color\n",
    "Converting input Hex codes to RGB and HSL."
   ]
  },
  {
   "cell_type": "code",
   "execution_count": 23,
   "metadata": {},
   "outputs": [
    {
     "name": "stdout",
     "output_type": "stream",
     "text": [
      "Requirement already satisfied: pycolorkit in c:\\users\\kaitlen crawford\\anaconda3\\lib\\site-packages (1.0.0)\n"
     ]
    }
   ],
   "source": [
    "!pip install pycolorkit"
   ]
  },
  {
   "cell_type": "code",
   "execution_count": 24,
   "metadata": {},
   "outputs": [],
   "source": [
    "import pandas as pd\n",
    "from pycolorkit.pycolorkit import ColorConverter, ColorGenerator"
   ]
  },
  {
   "cell_type": "code",
   "execution_count": 25,
   "metadata": {},
   "outputs": [
    {
     "data": {
      "text/html": [
       "<div>\n",
       "<style scoped>\n",
       "    .dataframe tbody tr th:only-of-type {\n",
       "        vertical-align: middle;\n",
       "    }\n",
       "\n",
       "    .dataframe tbody tr th {\n",
       "        vertical-align: top;\n",
       "    }\n",
       "\n",
       "    .dataframe thead th {\n",
       "        text-align: right;\n",
       "    }\n",
       "</style>\n",
       "<table border=\"1\" class=\"dataframe\">\n",
       "  <thead>\n",
       "    <tr style=\"text-align: right;\">\n",
       "      <th></th>\n",
       "      <th>hex</th>\n",
       "    </tr>\n",
       "  </thead>\n",
       "  <tbody>\n",
       "    <tr>\n",
       "      <th>0</th>\n",
       "      <td>#FF0000</td>\n",
       "    </tr>\n",
       "    <tr>\n",
       "      <th>1</th>\n",
       "      <td>#00ff00</td>\n",
       "    </tr>\n",
       "    <tr>\n",
       "      <th>2</th>\n",
       "      <td>#123</td>\n",
       "    </tr>\n",
       "    <tr>\n",
       "      <th>3</th>\n",
       "      <td>356</td>\n",
       "    </tr>\n",
       "  </tbody>\n",
       "</table>\n",
       "</div>"
      ],
      "text/plain": [
       "       hex\n",
       "0  #FF0000\n",
       "1  #00ff00\n",
       "2     #123\n",
       "3      356"
      ]
     },
     "execution_count": 25,
     "metadata": {},
     "output_type": "execute_result"
    }
   ],
   "source": [
    "# Valid entries\n",
    "df = pd.DataFrame(['#FF0000', '#00ff00', '#123', '356'], columns=['hex'])\n",
    "df.head()"
   ]
  },
  {
   "cell_type": "markdown",
   "metadata": {},
   "source": [
    "## Hex to RGB\n",
    "Convert every set of two hexidecimals to decimals."
   ]
  },
  {
   "cell_type": "code",
   "execution_count": 26,
   "metadata": {},
   "outputs": [
    {
     "data": {
      "text/html": [
       "<div>\n",
       "<style scoped>\n",
       "    .dataframe tbody tr th:only-of-type {\n",
       "        vertical-align: middle;\n",
       "    }\n",
       "\n",
       "    .dataframe tbody tr th {\n",
       "        vertical-align: top;\n",
       "    }\n",
       "\n",
       "    .dataframe thead th {\n",
       "        text-align: right;\n",
       "    }\n",
       "</style>\n",
       "<table border=\"1\" class=\"dataframe\">\n",
       "  <thead>\n",
       "    <tr style=\"text-align: right;\">\n",
       "      <th></th>\n",
       "      <th>hex</th>\n",
       "    </tr>\n",
       "  </thead>\n",
       "  <tbody>\n",
       "    <tr>\n",
       "      <th>0</th>\n",
       "      <td>FF0000</td>\n",
       "    </tr>\n",
       "    <tr>\n",
       "      <th>1</th>\n",
       "      <td>00ff00</td>\n",
       "    </tr>\n",
       "    <tr>\n",
       "      <th>2</th>\n",
       "      <td>112233</td>\n",
       "    </tr>\n",
       "    <tr>\n",
       "      <th>3</th>\n",
       "      <td>335566</td>\n",
       "    </tr>\n",
       "  </tbody>\n",
       "</table>\n",
       "</div>"
      ],
      "text/plain": [
       "      hex\n",
       "0  FF0000\n",
       "1  00ff00\n",
       "2  112233\n",
       "3  335566"
      ]
     },
     "execution_count": 26,
     "metadata": {},
     "output_type": "execute_result"
    }
   ],
   "source": [
    "df['hex'] = df['hex'].apply(ColorConverter.format_hex)\n",
    "df"
   ]
  },
  {
   "cell_type": "code",
   "execution_count": 27,
   "metadata": {},
   "outputs": [
    {
     "data": {
      "text/html": [
       "<div>\n",
       "<style scoped>\n",
       "    .dataframe tbody tr th:only-of-type {\n",
       "        vertical-align: middle;\n",
       "    }\n",
       "\n",
       "    .dataframe tbody tr th {\n",
       "        vertical-align: top;\n",
       "    }\n",
       "\n",
       "    .dataframe thead th {\n",
       "        text-align: right;\n",
       "    }\n",
       "</style>\n",
       "<table border=\"1\" class=\"dataframe\">\n",
       "  <thead>\n",
       "    <tr style=\"text-align: right;\">\n",
       "      <th></th>\n",
       "      <th>hex</th>\n",
       "      <th>rgb</th>\n",
       "    </tr>\n",
       "  </thead>\n",
       "  <tbody>\n",
       "    <tr>\n",
       "      <th>0</th>\n",
       "      <td>FF0000</td>\n",
       "      <td>[255, 0, 0]</td>\n",
       "    </tr>\n",
       "    <tr>\n",
       "      <th>1</th>\n",
       "      <td>00ff00</td>\n",
       "      <td>[0, 255, 0]</td>\n",
       "    </tr>\n",
       "    <tr>\n",
       "      <th>2</th>\n",
       "      <td>112233</td>\n",
       "      <td>[17, 34, 51]</td>\n",
       "    </tr>\n",
       "    <tr>\n",
       "      <th>3</th>\n",
       "      <td>335566</td>\n",
       "      <td>[51, 85, 102]</td>\n",
       "    </tr>\n",
       "  </tbody>\n",
       "</table>\n",
       "</div>"
      ],
      "text/plain": [
       "      hex            rgb\n",
       "0  FF0000    [255, 0, 0]\n",
       "1  00ff00    [0, 255, 0]\n",
       "2  112233   [17, 34, 51]\n",
       "3  335566  [51, 85, 102]"
      ]
     },
     "execution_count": 27,
     "metadata": {},
     "output_type": "execute_result"
    }
   ],
   "source": [
    "df['rgb'] = df['hex'].apply(lambda h: list(ColorConverter.hex_to_rgb(h)))\n",
    "df"
   ]
  },
  {
   "cell_type": "markdown",
   "metadata": {},
   "source": [
    "## RGB to HSL\n",
    "This human-friendly conversion allows us to represent color on a color wheel by determining where the color point exists in relation to pure red, green, or blue. We can do this in 4 steps:\n",
    "\n",
    "**Step 1**. Calculate the max, min, and chroma.  \n",
    "\n",
    "$\n",
    "M = max(R, G, B) \\\\\n",
    "m = min(R, G, B) \\\\\n",
    "C = range(R, G, B) = M - m$\n",
    "\n",
    "**Step 2**. Calculate the hue measured in degrees `[0°, 360°)`.  \n",
    "\n",
    "$H' = \n",
    "\\begin{cases}\n",
    "\\text{undefined}, & \\text{if } C = 0 \\\\\n",
    "\\frac{G-B}{C} \\bmod 6, & \\text{if } M = R \\\\\n",
    "\\frac{B-R}{C} + 2, & \\text{if } M = G \\\\\n",
    "\\frac{R-G}{C} + 4, & \\text{if } M = B\n",
    "\\end{cases}$\n",
    "\n",
    "Then, $H = 60° × H'$\n",
    "\n",
    "**Step 3**. Calculate Lightness measuring color intensity using set `[0%, 100%)`.\n",
    "\n",
    "$L = mid(R, G, B) = \\frac{1}{2}(M + m)$\n",
    "    \n",
    "\n",
    "**Step 4**. Calculate Saturation determined by the amount of grayscale or pure color from `[0%, 100%)`.\n",
    "\n",
    "$S_L =\n",
    "\\begin{cases}\n",
    "0, & \\text{if } L = 1 \\text{ or } L = 0 \\\\\n",
    "\\frac{C}{1-|2L-1|}, & \\text{otherwise}\n",
    "\\end{cases}$\n",
    "  \n",
    "\n",
    "See [wiki page](https://en.wikipedia.org/wiki/HSL_and_HSV)."
   ]
  },
  {
   "cell_type": "code",
   "execution_count": 28,
   "metadata": {},
   "outputs": [
    {
     "data": {
      "text/html": [
       "<div>\n",
       "<style scoped>\n",
       "    .dataframe tbody tr th:only-of-type {\n",
       "        vertical-align: middle;\n",
       "    }\n",
       "\n",
       "    .dataframe tbody tr th {\n",
       "        vertical-align: top;\n",
       "    }\n",
       "\n",
       "    .dataframe thead th {\n",
       "        text-align: right;\n",
       "    }\n",
       "</style>\n",
       "<table border=\"1\" class=\"dataframe\">\n",
       "  <thead>\n",
       "    <tr style=\"text-align: right;\">\n",
       "      <th></th>\n",
       "      <th>hex</th>\n",
       "      <th>rgb</th>\n",
       "      <th>hsl</th>\n",
       "    </tr>\n",
       "  </thead>\n",
       "  <tbody>\n",
       "    <tr>\n",
       "      <th>0</th>\n",
       "      <td>FF0000</td>\n",
       "      <td>[255, 0, 0]</td>\n",
       "      <td>[0, 100, 50]</td>\n",
       "    </tr>\n",
       "    <tr>\n",
       "      <th>1</th>\n",
       "      <td>00ff00</td>\n",
       "      <td>[0, 255, 0]</td>\n",
       "      <td>[120, 100, 50]</td>\n",
       "    </tr>\n",
       "    <tr>\n",
       "      <th>2</th>\n",
       "      <td>112233</td>\n",
       "      <td>[17, 34, 51]</td>\n",
       "      <td>[210, 50, 13]</td>\n",
       "    </tr>\n",
       "    <tr>\n",
       "      <th>3</th>\n",
       "      <td>335566</td>\n",
       "      <td>[51, 85, 102]</td>\n",
       "      <td>[200, 33, 30]</td>\n",
       "    </tr>\n",
       "  </tbody>\n",
       "</table>\n",
       "</div>"
      ],
      "text/plain": [
       "      hex            rgb             hsl\n",
       "0  FF0000    [255, 0, 0]    [0, 100, 50]\n",
       "1  00ff00    [0, 255, 0]  [120, 100, 50]\n",
       "2  112233   [17, 34, 51]   [210, 50, 13]\n",
       "3  335566  [51, 85, 102]   [200, 33, 30]"
      ]
     },
     "execution_count": 28,
     "metadata": {},
     "output_type": "execute_result"
    }
   ],
   "source": [
    "df['hsl'] = df['rgb'].apply(lambda rgb: list(ColorConverter.rgb_to_hsl(rgb)))\n",
    "df"
   ]
  },
  {
   "cell_type": "markdown",
   "metadata": {},
   "source": [
    "# Lightness Adjustments\n",
    "Center the base lightness value and generate a range of shades and tints in the same hue. Tints add light to the lightness (`l`). Shades removes light from the lightness (`l`). Functions assume that l is a decimal value. The base color value is included in the final output."
   ]
  },
  {
   "cell_type": "code",
   "execution_count": 29,
   "metadata": {},
   "outputs": [
    {
     "data": {
      "text/html": [
       "<div>\n",
       "<style scoped>\n",
       "    .dataframe tbody tr th:only-of-type {\n",
       "        vertical-align: middle;\n",
       "    }\n",
       "\n",
       "    .dataframe tbody tr th {\n",
       "        vertical-align: top;\n",
       "    }\n",
       "\n",
       "    .dataframe thead th {\n",
       "        text-align: right;\n",
       "    }\n",
       "</style>\n",
       "<table border=\"1\" class=\"dataframe\">\n",
       "  <thead>\n",
       "    <tr style=\"text-align: right;\">\n",
       "      <th></th>\n",
       "      <th>hsl</th>\n",
       "      <th>sequential_hsl</th>\n",
       "    </tr>\n",
       "  </thead>\n",
       "  <tbody>\n",
       "    <tr>\n",
       "      <th>0</th>\n",
       "      <td>[0, 100, 50]</td>\n",
       "      <td>[(0, 100, 10), (0, 100, 18), (0, 100, 26), (0,...</td>\n",
       "    </tr>\n",
       "    <tr>\n",
       "      <th>1</th>\n",
       "      <td>[120, 100, 50]</td>\n",
       "      <td>[(120, 100, 10), (120, 100, 18), (120, 100, 26...</td>\n",
       "    </tr>\n",
       "    <tr>\n",
       "      <th>2</th>\n",
       "      <td>[210, 50, 13]</td>\n",
       "      <td>None</td>\n",
       "    </tr>\n",
       "    <tr>\n",
       "      <th>3</th>\n",
       "      <td>[200, 33, 30]</td>\n",
       "      <td>[(200, 33, 10), (200, 33, 14), (200, 33, 18), ...</td>\n",
       "    </tr>\n",
       "  </tbody>\n",
       "</table>\n",
       "</div>"
      ],
      "text/plain": [
       "              hsl                                     sequential_hsl\n",
       "0    [0, 100, 50]  [(0, 100, 10), (0, 100, 18), (0, 100, 26), (0,...\n",
       "1  [120, 100, 50]  [(120, 100, 10), (120, 100, 18), (120, 100, 26...\n",
       "2   [210, 50, 13]                                               None\n",
       "3   [200, 33, 30]  [(200, 33, 10), (200, 33, 14), (200, 33, 18), ..."
      ]
     },
     "execution_count": 29,
     "metadata": {},
     "output_type": "execute_result"
    }
   ],
   "source": [
    "df['sequential_hsl'] = df['hsl'].apply(lambda hsl: ColorGenerator.sequence(hsl))\n",
    "df[['hsl', 'sequential_hsl']]"
   ]
  },
  {
   "cell_type": "markdown",
   "metadata": {},
   "source": [
    "# Complimentary Colors\n",
    "Colors compliment each other when they are directly opposite one another on the color wheel. Add $180\\degree$ to the base color hue value."
   ]
  },
  {
   "cell_type": "code",
   "execution_count": 30,
   "metadata": {},
   "outputs": [
    {
     "data": {
      "text/html": [
       "<div>\n",
       "<style scoped>\n",
       "    .dataframe tbody tr th:only-of-type {\n",
       "        vertical-align: middle;\n",
       "    }\n",
       "\n",
       "    .dataframe tbody tr th {\n",
       "        vertical-align: top;\n",
       "    }\n",
       "\n",
       "    .dataframe thead th {\n",
       "        text-align: right;\n",
       "    }\n",
       "</style>\n",
       "<table border=\"1\" class=\"dataframe\">\n",
       "  <thead>\n",
       "    <tr style=\"text-align: right;\">\n",
       "      <th></th>\n",
       "      <th>hsl</th>\n",
       "      <th>compliment_hsl</th>\n",
       "    </tr>\n",
       "  </thead>\n",
       "  <tbody>\n",
       "    <tr>\n",
       "      <th>0</th>\n",
       "      <td>[0, 100, 50]</td>\n",
       "      <td>[180, 100, 50]</td>\n",
       "    </tr>\n",
       "    <tr>\n",
       "      <th>1</th>\n",
       "      <td>[120, 100, 50]</td>\n",
       "      <td>[300, 100, 50]</td>\n",
       "    </tr>\n",
       "    <tr>\n",
       "      <th>2</th>\n",
       "      <td>[210, 50, 13]</td>\n",
       "      <td>[30, 50, 13]</td>\n",
       "    </tr>\n",
       "    <tr>\n",
       "      <th>3</th>\n",
       "      <td>[200, 33, 30]</td>\n",
       "      <td>[20, 33, 30]</td>\n",
       "    </tr>\n",
       "  </tbody>\n",
       "</table>\n",
       "</div>"
      ],
      "text/plain": [
       "              hsl  compliment_hsl\n",
       "0    [0, 100, 50]  [180, 100, 50]\n",
       "1  [120, 100, 50]  [300, 100, 50]\n",
       "2   [210, 50, 13]    [30, 50, 13]\n",
       "3   [200, 33, 30]    [20, 33, 30]"
      ]
     },
     "execution_count": 30,
     "metadata": {},
     "output_type": "execute_result"
    }
   ],
   "source": [
    "df['compliment_hsl'] = df['hsl'].apply(lambda hsl: list(ColorGenerator.compliment(hsl)))\n",
    "df[['hsl','compliment_hsl']]"
   ]
  },
  {
   "cell_type": "markdown",
   "metadata": {},
   "source": [
    "You can also create a sequence of colors between the base colors and it's complimentary colors since they have th same lightness values."
   ]
  },
  {
   "cell_type": "code",
   "execution_count": 31,
   "metadata": {},
   "outputs": [
    {
     "name": "stdout",
     "output_type": "stream",
     "text": [
      "[[(180, 100, 10), (180, 100, 18), (180, 100, 26), (180, 100, 34), (180, 100, 42), (180, 100, 50), (180, 100, 58), (180, 100, 66), (180, 100, 74), (180, 100, 82), (0, 100, 10), (0, 100, 18), (0, 100, 26), (0, 100, 34), (0, 100, 42), (0, 100, 50), (0, 100, 58), (0, 100, 66), (0, 100, 74), (0, 100, 82)]]\n"
     ]
    }
   ],
   "source": [
    "# sequence lightness for complimentary colors\n",
    "df['diverging_hsl'] = df['compliment_hsl'].apply(ColorGenerator.sequence)\n",
    "\n",
    "# combine with base color sequence\n",
    "df['diverging_hsl'] = df['diverging_hsl'] + df['sequential_hsl']\n",
    "\n",
    "# preview colors\n",
    "print([i for i in df[['diverging_hsl']].iloc[0]])"
   ]
  },
  {
   "cell_type": "markdown",
   "metadata": {},
   "source": [
    "# HSL to Hex\n",
    "Returning generated colors to machine compatible color codes."
   ]
  },
  {
   "cell_type": "markdown",
   "metadata": {},
   "source": [
    "### HSL to RGB\n",
    "Step 1. Find chroma.\n",
    "\n",
    "$C = (1 - |2L - 1|) * S_L$\n",
    "  \n",
    "\n",
    "Step 2. Find a point (R,G,B) with the same hue and chroma.\n",
    "\n",
    "$H' = \\frac{H}{60\\degree}$\n",
    "    \n",
    "$X = C s (1 |H' \\mod 2 - 1|) \\\\$  \n",
    " \n",
    "$(R_1, G_1, B_1) = \n",
    "\\begin{cases}\n",
    "(C, X, 0) & \\text{if } 0<=H'<1 \\\\\n",
    "(X, C, 0) & \\text{if } 1<=H'<2 \\\\\n",
    "(0, C, X) & \\text{if } 2<=H'<3 \\\\\n",
    "(0, X, C) & \\text{if } 3<=H'<4 \\\\\n",
    "(X, 0, C) & \\text{if } 4<=H'<5 \\\\\n",
    "(C, 0, X) & \\text{if } 5<=H'<6 \\\\\n",
    "\\end{cases}$\n",
    "\n",
    "Step 3. Add amount to match the lightness.\n",
    "\n",
    "$m = L - \\frac{C}{2}$  \n",
    " \n",
    "$(R, G, B) = (R_1 + m, G_1 + m, B_1 + m)$"
   ]
  },
  {
   "cell_type": "code",
   "execution_count": null,
   "metadata": {},
   "outputs": [],
   "source": [
    "df['sequential_rgb'] = df['sequential_hsl'].apply(lambda hsl: [ColorConverter.hsl_to_rgb(i) for i in hsl])\n",
    "df[['sequential_rgb']]"
   ]
  },
  {
   "cell_type": "code",
   "execution_count": null,
   "metadata": {},
   "outputs": [],
   "source": [
    "df['diverging_rgb'] = df['diverging_hsl'].apply(lambda hsl: [ColorConverter.hsl_to_rgb(i) for i in hsl])\n",
    "df[['diverging_rgb']]"
   ]
  },
  {
   "cell_type": "markdown",
   "metadata": {},
   "source": [
    "### RGB to Hex"
   ]
  },
  {
   "cell_type": "code",
   "execution_count": null,
   "metadata": {},
   "outputs": [],
   "source": [
    "df['sequential_hex'] = df['sequential_rgb'].apply(lambda rgb: [ColorConverter.rgb_to_hex(i) for i in rgb])\n",
    "df[['sequential_hex']]"
   ]
  },
  {
   "cell_type": "code",
   "execution_count": null,
   "metadata": {},
   "outputs": [],
   "source": [
    "df['diverging_hex'] = df['diverging_rgb'].apply(lambda rgb: [ColorConverter.rgb_to_hex(i) for i in rgb])\n",
    "df[['diverging_hex']]"
   ]
  },
  {
   "cell_type": "markdown",
   "metadata": {},
   "source": [
    "Preview all conversions."
   ]
  },
  {
   "cell_type": "code",
   "execution_count": 36,
   "metadata": {},
   "outputs": [
    {
     "data": {
      "text/html": [
       "<div>\n",
       "<style scoped>\n",
       "    .dataframe tbody tr th:only-of-type {\n",
       "        vertical-align: middle;\n",
       "    }\n",
       "\n",
       "    .dataframe tbody tr th {\n",
       "        vertical-align: top;\n",
       "    }\n",
       "\n",
       "    .dataframe thead th {\n",
       "        text-align: right;\n",
       "    }\n",
       "</style>\n",
       "<table border=\"1\" class=\"dataframe\">\n",
       "  <thead>\n",
       "    <tr style=\"text-align: right;\">\n",
       "      <th></th>\n",
       "      <th>hex</th>\n",
       "      <th>rgb</th>\n",
       "      <th>hsl</th>\n",
       "      <th>sequential_hsl</th>\n",
       "      <th>compliment_hsl</th>\n",
       "      <th>diverging_hsl</th>\n",
       "    </tr>\n",
       "  </thead>\n",
       "  <tbody>\n",
       "    <tr>\n",
       "      <th>0</th>\n",
       "      <td>FF0000</td>\n",
       "      <td>[255, 0, 0]</td>\n",
       "      <td>[0, 100, 50]</td>\n",
       "      <td>[(0, 100, 10), (0, 100, 18), (0, 100, 26), (0,...</td>\n",
       "      <td>[180, 100, 50]</td>\n",
       "      <td>[(180, 100, 10), (180, 100, 18), (180, 100, 26...</td>\n",
       "    </tr>\n",
       "    <tr>\n",
       "      <th>1</th>\n",
       "      <td>00ff00</td>\n",
       "      <td>[0, 255, 0]</td>\n",
       "      <td>[120, 100, 50]</td>\n",
       "      <td>[(120, 100, 10), (120, 100, 18), (120, 100, 26...</td>\n",
       "      <td>[300, 100, 50]</td>\n",
       "      <td>[(300, 100, 10), (300, 100, 18), (300, 100, 26...</td>\n",
       "    </tr>\n",
       "    <tr>\n",
       "      <th>2</th>\n",
       "      <td>112233</td>\n",
       "      <td>[17, 34, 51]</td>\n",
       "      <td>[210, 50, 13]</td>\n",
       "      <td>None</td>\n",
       "      <td>[30, 50, 13]</td>\n",
       "      <td>NaN</td>\n",
       "    </tr>\n",
       "    <tr>\n",
       "      <th>3</th>\n",
       "      <td>335566</td>\n",
       "      <td>[51, 85, 102]</td>\n",
       "      <td>[200, 33, 30]</td>\n",
       "      <td>[(200, 33, 10), (200, 33, 14), (200, 33, 18), ...</td>\n",
       "      <td>[20, 33, 30]</td>\n",
       "      <td>[(20, 33, 10), (20, 33, 14), (20, 33, 18), (20...</td>\n",
       "    </tr>\n",
       "  </tbody>\n",
       "</table>\n",
       "</div>"
      ],
      "text/plain": [
       "      hex            rgb             hsl  \\\n",
       "0  FF0000    [255, 0, 0]    [0, 100, 50]   \n",
       "1  00ff00    [0, 255, 0]  [120, 100, 50]   \n",
       "2  112233   [17, 34, 51]   [210, 50, 13]   \n",
       "3  335566  [51, 85, 102]   [200, 33, 30]   \n",
       "\n",
       "                                      sequential_hsl  compliment_hsl  \\\n",
       "0  [(0, 100, 10), (0, 100, 18), (0, 100, 26), (0,...  [180, 100, 50]   \n",
       "1  [(120, 100, 10), (120, 100, 18), (120, 100, 26...  [300, 100, 50]   \n",
       "2                                               None    [30, 50, 13]   \n",
       "3  [(200, 33, 10), (200, 33, 14), (200, 33, 18), ...    [20, 33, 30]   \n",
       "\n",
       "                                       diverging_hsl  \n",
       "0  [(180, 100, 10), (180, 100, 18), (180, 100, 26...  \n",
       "1  [(300, 100, 10), (300, 100, 18), (300, 100, 26...  \n",
       "2                                                NaN  \n",
       "3  [(20, 33, 10), (20, 33, 14), (20, 33, 18), (20...  "
      ]
     },
     "execution_count": 36,
     "metadata": {},
     "output_type": "execute_result"
    }
   ],
   "source": [
    "df.to_csv('./color.csv')\n",
    "df"
   ]
  },
  {
   "cell_type": "code",
   "execution_count": null,
   "metadata": {},
   "outputs": [],
   "source": []
  }
 ],
 "metadata": {
  "kernelspec": {
   "display_name": "base",
   "language": "python",
   "name": "python3"
  },
  "language_info": {
   "codemirror_mode": {
    "name": "ipython",
    "version": 3
   },
   "file_extension": ".py",
   "mimetype": "text/x-python",
   "name": "python",
   "nbconvert_exporter": "python",
   "pygments_lexer": "ipython3",
   "version": "3.12.4"
  }
 },
 "nbformat": 4,
 "nbformat_minor": 2
}
