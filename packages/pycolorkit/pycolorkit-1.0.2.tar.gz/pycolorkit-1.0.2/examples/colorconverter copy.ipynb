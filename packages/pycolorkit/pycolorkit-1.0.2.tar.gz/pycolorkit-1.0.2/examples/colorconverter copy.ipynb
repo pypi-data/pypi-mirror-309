{
 "cells": [
  {
   "cell_type": "markdown",
   "metadata": {},
   "source": [
    "# Representations of Color\n",
    "Converting input Hex codes to RGB and HSL."
   ]
  },
  {
   "cell_type": "code",
   "execution_count": null,
   "metadata": {},
   "outputs": [],
   "source": [
    "import pandas as pd\n",
    "from pycolorkit import ColorConverter, ColorGenerator"
   ]
  },
  {
   "cell_type": "code",
   "execution_count": 125,
   "metadata": {},
   "outputs": [
    {
     "data": {
      "text/html": [
       "<div>\n",
       "<style scoped>\n",
       "    .dataframe tbody tr th:only-of-type {\n",
       "        vertical-align: middle;\n",
       "    }\n",
       "\n",
       "    .dataframe tbody tr th {\n",
       "        vertical-align: top;\n",
       "    }\n",
       "\n",
       "    .dataframe thead th {\n",
       "        text-align: right;\n",
       "    }\n",
       "</style>\n",
       "<table border=\"1\" class=\"dataframe\">\n",
       "  <thead>\n",
       "    <tr style=\"text-align: right;\">\n",
       "      <th></th>\n",
       "      <th>hex</th>\n",
       "    </tr>\n",
       "  </thead>\n",
       "  <tbody>\n",
       "    <tr>\n",
       "      <th>0</th>\n",
       "      <td>#FF0000</td>\n",
       "    </tr>\n",
       "    <tr>\n",
       "      <th>1</th>\n",
       "      <td>#00ff00</td>\n",
       "    </tr>\n",
       "    <tr>\n",
       "      <th>2</th>\n",
       "      <td>#fff</td>\n",
       "    </tr>\n",
       "  </tbody>\n",
       "</table>\n",
       "</div>"
      ],
      "text/plain": [
       "       hex\n",
       "0  #FF0000\n",
       "1  #00ff00\n",
       "2     #fff"
      ]
     },
     "execution_count": 125,
     "metadata": {},
     "output_type": "execute_result"
    }
   ],
   "source": [
    "# Valid entries\n",
    "df = pd.DataFrame(['#FF0000', '#00ff00', '#fff'], columns=['hex'])\n",
    "df.head()"
   ]
  },
  {
   "cell_type": "markdown",
   "metadata": {},
   "source": [
    "## Hex to RGB\n",
    "Convert every set of two hexidecimals to decimals."
   ]
  },
  {
   "cell_type": "code",
   "execution_count": null,
   "metadata": {},
   "outputs": [],
   "source": [
    "def format_hex(s:str):\n",
    "\n",
    "    s = s.replace('#','')\n",
    "    \n",
    "    if len(s) == 3:\n",
    "        s = [s[i] * 2 for i in range(3)] \n",
    "\n",
    "\n",
    "    return ''.join(s)"
   ]
  },
  {
   "cell_type": "code",
   "execution_count": null,
   "metadata": {},
   "outputs": [
    {
     "data": {
      "text/html": [
       "<div>\n",
       "<style scoped>\n",
       "    .dataframe tbody tr th:only-of-type {\n",
       "        vertical-align: middle;\n",
       "    }\n",
       "\n",
       "    .dataframe tbody tr th {\n",
       "        vertical-align: top;\n",
       "    }\n",
       "\n",
       "    .dataframe thead th {\n",
       "        text-align: right;\n",
       "    }\n",
       "</style>\n",
       "<table border=\"1\" class=\"dataframe\">\n",
       "  <thead>\n",
       "    <tr style=\"text-align: right;\">\n",
       "      <th></th>\n",
       "      <th>hex</th>\n",
       "    </tr>\n",
       "  </thead>\n",
       "  <tbody>\n",
       "    <tr>\n",
       "      <th>0</th>\n",
       "      <td>FF0000</td>\n",
       "    </tr>\n",
       "    <tr>\n",
       "      <th>1</th>\n",
       "      <td>00ff00</td>\n",
       "    </tr>\n",
       "    <tr>\n",
       "      <th>2</th>\n",
       "      <td>ffffff</td>\n",
       "    </tr>\n",
       "  </tbody>\n",
       "</table>\n",
       "</div>"
      ],
      "text/plain": [
       "      hex\n",
       "0  FF0000\n",
       "1  00ff00\n",
       "2  ffffff"
      ]
     },
     "execution_count": 127,
     "metadata": {},
     "output_type": "execute_result"
    }
   ],
   "source": [
    "df['hex'] = df['hex'].apply(format_hex)\n",
    "df"
   ]
  },
  {
   "cell_type": "code",
   "execution_count": null,
   "metadata": {},
   "outputs": [],
   "source": [
    "def hex_to_rgb(h:str):\n",
    "    # hexadecimal to decimal\n",
    "    return tuple(int(h[i:i+2], 16) for i in (0, 2, 4))"
   ]
  },
  {
   "cell_type": "code",
   "execution_count": 129,
   "metadata": {},
   "outputs": [
    {
     "data": {
      "text/html": [
       "<div>\n",
       "<style scoped>\n",
       "    .dataframe tbody tr th:only-of-type {\n",
       "        vertical-align: middle;\n",
       "    }\n",
       "\n",
       "    .dataframe tbody tr th {\n",
       "        vertical-align: top;\n",
       "    }\n",
       "\n",
       "    .dataframe thead th {\n",
       "        text-align: right;\n",
       "    }\n",
       "</style>\n",
       "<table border=\"1\" class=\"dataframe\">\n",
       "  <thead>\n",
       "    <tr style=\"text-align: right;\">\n",
       "      <th></th>\n",
       "      <th>hex</th>\n",
       "      <th>rgb</th>\n",
       "    </tr>\n",
       "  </thead>\n",
       "  <tbody>\n",
       "    <tr>\n",
       "      <th>0</th>\n",
       "      <td>FF0000</td>\n",
       "      <td>(255, 0, 0)</td>\n",
       "    </tr>\n",
       "    <tr>\n",
       "      <th>1</th>\n",
       "      <td>00ff00</td>\n",
       "      <td>(0, 255, 0)</td>\n",
       "    </tr>\n",
       "    <tr>\n",
       "      <th>2</th>\n",
       "      <td>ffffff</td>\n",
       "      <td>(255, 255, 255)</td>\n",
       "    </tr>\n",
       "  </tbody>\n",
       "</table>\n",
       "</div>"
      ],
      "text/plain": [
       "      hex              rgb\n",
       "0  FF0000      (255, 0, 0)\n",
       "1  00ff00      (0, 255, 0)\n",
       "2  ffffff  (255, 255, 255)"
      ]
     },
     "execution_count": 129,
     "metadata": {},
     "output_type": "execute_result"
    }
   ],
   "source": [
    "df['rgb'] = df['hex'].apply(hexToRGB)\n",
    "df"
   ]
  },
  {
   "cell_type": "markdown",
   "metadata": {},
   "source": [
    "## RGB to HSL\n",
    "This human-friendly conversion allows us to represent color on a color wheel by determining where the color point exists in relation to pure red, green, or blue. We can do this in 4 steps:\n",
    "\n",
    "**Step 1**. Calculate the max, min, and chroma.  \n",
    "\n",
    "$\n",
    "M = max(R, G, B) \\\\\n",
    "m = min(R, G, B) \\\\\n",
    "C = range(R, G, B) = M - m$\n",
    "\n",
    "**Step 2**. Calculate the hue measured in degrees `[0°, 360°)`.  \n",
    "\n",
    "$H' = \n",
    "\\begin{cases}\n",
    "\\text{undefined}, & \\text{if } C = 0 \\\\\n",
    "\\frac{G-B}{C} \\bmod 6, & \\text{if } M = R \\\\\n",
    "\\frac{B-R}{C} + 2, & \\text{if } M = G \\\\\n",
    "\\frac{R-G}{C} + 4, & \\text{if } M = B\n",
    "\\end{cases}$\n",
    "\n",
    "Then, $H = 60° × H'$\n",
    "\n",
    "**Step 3**. Calculate Lightness measuring color intensity using set `[0%, 100%)`.\n",
    "\n",
    "$L = mid(R, G, B) = \\frac{1}{2}(M + m)$\n",
    "    \n",
    "\n",
    "**Step 4**. Calculate Saturation determined by the amount of grayscale or pure color from `[0%, 100%)`.\n",
    "\n",
    "$S_L =\n",
    "\\begin{cases}\n",
    "0, & \\text{if } L = 1 \\text{ or } L = 0 \\\\\n",
    "\\frac{C}{1-|2L-1|}, & \\text{otherwise}\n",
    "\\end{cases}$\n",
    "  \n",
    "\n",
    "See [wiki page](https://en.wikipedia.org/wiki/HSL_and_HSV)."
   ]
  },
  {
   "cell_type": "code",
   "execution_count": 130,
   "metadata": {},
   "outputs": [],
   "source": [
    "def rgbToHSL(rgb):\n",
    "    # Change range from 0-255 to 0-100%\n",
    "    r = rgb[0] / 255\n",
    "    g = rgb[1] / 255\n",
    "    b = rgb[2] / 255\n",
    "\n",
    "    # Determine Chroma component values \n",
    "    cmax = max(r, g, b)\n",
    "    cmin = min(r, g, b)\n",
    "    delta = cmax - cmin\n",
    "\n",
    "    # Calculate Hue: Distance from white (0-350 degrees)\n",
    "    if delta == 0:\n",
    "        h = 0\n",
    "    elif cmax == r:                # more red\n",
    "        h = (g - b) / delta % 6\n",
    "    elif cmax == g:\n",
    "        h = (b - r) / delta + 2.0   # more green\n",
    "    else:                       # more blue\n",
    "        h = (r - g) / delta + 4.0\n",
    "\n",
    "    # Calulate Lightness: Midrange of RGB (0-100%)\n",
    "    l = (cmax + cmin) / 2\n",
    "\n",
    "    # Calulate Saturation: Gray to Pure (0-100%)\n",
    "    if delta == 0:\n",
    "        s = 0\n",
    "    else:\n",
    "        s = delta / (1 - abs(2 * l - 1))\n",
    "\n",
    "    h = round(h * 60)\n",
    "    s = round(s * 100)\n",
    "    l = round(l * 100)\n",
    "    return (h, s, l)"
   ]
  },
  {
   "cell_type": "code",
   "execution_count": 131,
   "metadata": {},
   "outputs": [
    {
     "data": {
      "text/html": [
       "<div>\n",
       "<style scoped>\n",
       "    .dataframe tbody tr th:only-of-type {\n",
       "        vertical-align: middle;\n",
       "    }\n",
       "\n",
       "    .dataframe tbody tr th {\n",
       "        vertical-align: top;\n",
       "    }\n",
       "\n",
       "    .dataframe thead th {\n",
       "        text-align: right;\n",
       "    }\n",
       "</style>\n",
       "<table border=\"1\" class=\"dataframe\">\n",
       "  <thead>\n",
       "    <tr style=\"text-align: right;\">\n",
       "      <th></th>\n",
       "      <th>hex</th>\n",
       "      <th>rgb</th>\n",
       "      <th>hsl</th>\n",
       "    </tr>\n",
       "  </thead>\n",
       "  <tbody>\n",
       "    <tr>\n",
       "      <th>0</th>\n",
       "      <td>FF0000</td>\n",
       "      <td>(255, 0, 0)</td>\n",
       "      <td>(0, 100, 50)</td>\n",
       "    </tr>\n",
       "    <tr>\n",
       "      <th>1</th>\n",
       "      <td>00ff00</td>\n",
       "      <td>(0, 255, 0)</td>\n",
       "      <td>(120, 100, 50)</td>\n",
       "    </tr>\n",
       "    <tr>\n",
       "      <th>2</th>\n",
       "      <td>ffffff</td>\n",
       "      <td>(255, 255, 255)</td>\n",
       "      <td>(0, 0, 100)</td>\n",
       "    </tr>\n",
       "  </tbody>\n",
       "</table>\n",
       "</div>"
      ],
      "text/plain": [
       "      hex              rgb             hsl\n",
       "0  FF0000      (255, 0, 0)    (0, 100, 50)\n",
       "1  00ff00      (0, 255, 0)  (120, 100, 50)\n",
       "2  ffffff  (255, 255, 255)     (0, 0, 100)"
      ]
     },
     "execution_count": 131,
     "metadata": {},
     "output_type": "execute_result"
    }
   ],
   "source": [
    "df['hsl'] = df['rgb'].apply(rgbToHSL)\n",
    "df"
   ]
  },
  {
   "cell_type": "markdown",
   "metadata": {},
   "source": [
    "# Lightness Adjustments\n",
    "Center the base lightness value and generate a range of shades and tints in the same hue. Tints add light to the lightness (`l`). Shades removes light from the lightness (`l`). Functions assume that l is a decimal value. The base color value is included in the final output."
   ]
  },
  {
   "cell_type": "code",
   "execution_count": 132,
   "metadata": {},
   "outputs": [],
   "source": [
    "# Fixed lightness values from 10% to 90%\n",
    "def sequence(hsl, n=10, min_l=10, max_l=90):\n",
    "    h = round(hsl[0])\n",
    "    s = round(hsl[1])\n",
    "    l = round(hsl[2])\n",
    "    \n",
    "    shade_diff = int((l - min_l) / (n/2))\n",
    "    shades = [i for i in range(min_l, l, shade_diff)]\n",
    "\n",
    "    tint_diff = int((max_l - l) / (n/2))\n",
    "    tints = [i for i in range(l, max_l, tint_diff)]\n",
    "\n",
    "    return [(h,s,l) for l in shades+tints]"
   ]
  },
  {
   "cell_type": "code",
   "execution_count": 133,
   "metadata": {},
   "outputs": [
    {
     "data": {
      "text/html": [
       "<div>\n",
       "<style scoped>\n",
       "    .dataframe tbody tr th:only-of-type {\n",
       "        vertical-align: middle;\n",
       "    }\n",
       "\n",
       "    .dataframe tbody tr th {\n",
       "        vertical-align: top;\n",
       "    }\n",
       "\n",
       "    .dataframe thead th {\n",
       "        text-align: right;\n",
       "    }\n",
       "</style>\n",
       "<table border=\"1\" class=\"dataframe\">\n",
       "  <thead>\n",
       "    <tr style=\"text-align: right;\">\n",
       "      <th></th>\n",
       "      <th>hsl</th>\n",
       "      <th>sequential_hsl</th>\n",
       "    </tr>\n",
       "  </thead>\n",
       "  <tbody>\n",
       "    <tr>\n",
       "      <th>0</th>\n",
       "      <td>(0, 100, 50)</td>\n",
       "      <td>[(0, 100, 10), (0, 100, 18), (0, 100, 26), (0,...</td>\n",
       "    </tr>\n",
       "    <tr>\n",
       "      <th>1</th>\n",
       "      <td>(120, 100, 50)</td>\n",
       "      <td>[(120, 100, 10), (120, 100, 18), (120, 100, 26...</td>\n",
       "    </tr>\n",
       "    <tr>\n",
       "      <th>2</th>\n",
       "      <td>(0, 0, 100)</td>\n",
       "      <td>[(0, 0, 10), (0, 0, 28), (0, 0, 46), (0, 0, 64...</td>\n",
       "    </tr>\n",
       "  </tbody>\n",
       "</table>\n",
       "</div>"
      ],
      "text/plain": [
       "              hsl                                     sequential_hsl\n",
       "0    (0, 100, 50)  [(0, 100, 10), (0, 100, 18), (0, 100, 26), (0,...\n",
       "1  (120, 100, 50)  [(120, 100, 10), (120, 100, 18), (120, 100, 26...\n",
       "2     (0, 0, 100)  [(0, 0, 10), (0, 0, 28), (0, 0, 46), (0, 0, 64..."
      ]
     },
     "execution_count": 133,
     "metadata": {},
     "output_type": "execute_result"
    }
   ],
   "source": [
    "df['sequential_hsl'] = df['hsl'].apply(sequence)\n",
    "df[['hsl','sequential_hsl']]"
   ]
  },
  {
   "cell_type": "markdown",
   "metadata": {},
   "source": [
    "# Complimentary Colors\n",
    "Colors compliment each other when they are directly opposite one another on the color wheel. Add $180\\degree$ to the base color hue value."
   ]
  },
  {
   "cell_type": "code",
   "execution_count": 134,
   "metadata": {},
   "outputs": [],
   "source": [
    "def compliment(hsl):\n",
    "    h = hsl[0]\n",
    "    s = hsl[1]\n",
    "    l = hsl[2]\n",
    "\n",
    "    if (h + 180) > 360:\n",
    "        return (h-180, s, l)\n",
    "    else:\n",
    "        return (h+180, s, l)"
   ]
  },
  {
   "cell_type": "code",
   "execution_count": 135,
   "metadata": {},
   "outputs": [
    {
     "data": {
      "text/html": [
       "<div>\n",
       "<style scoped>\n",
       "    .dataframe tbody tr th:only-of-type {\n",
       "        vertical-align: middle;\n",
       "    }\n",
       "\n",
       "    .dataframe tbody tr th {\n",
       "        vertical-align: top;\n",
       "    }\n",
       "\n",
       "    .dataframe thead th {\n",
       "        text-align: right;\n",
       "    }\n",
       "</style>\n",
       "<table border=\"1\" class=\"dataframe\">\n",
       "  <thead>\n",
       "    <tr style=\"text-align: right;\">\n",
       "      <th></th>\n",
       "      <th>hsl</th>\n",
       "      <th>compliment_hsl</th>\n",
       "    </tr>\n",
       "  </thead>\n",
       "  <tbody>\n",
       "    <tr>\n",
       "      <th>0</th>\n",
       "      <td>(0, 100, 50)</td>\n",
       "      <td>(180, 100, 50)</td>\n",
       "    </tr>\n",
       "    <tr>\n",
       "      <th>1</th>\n",
       "      <td>(120, 100, 50)</td>\n",
       "      <td>(300, 100, 50)</td>\n",
       "    </tr>\n",
       "    <tr>\n",
       "      <th>2</th>\n",
       "      <td>(0, 0, 100)</td>\n",
       "      <td>(180, 0, 100)</td>\n",
       "    </tr>\n",
       "  </tbody>\n",
       "</table>\n",
       "</div>"
      ],
      "text/plain": [
       "              hsl  compliment_hsl\n",
       "0    (0, 100, 50)  (180, 100, 50)\n",
       "1  (120, 100, 50)  (300, 100, 50)\n",
       "2     (0, 0, 100)   (180, 0, 100)"
      ]
     },
     "execution_count": 135,
     "metadata": {},
     "output_type": "execute_result"
    }
   ],
   "source": [
    "df['compliment_hsl'] = df['hsl'].apply(compliment)\n",
    "df[['hsl','compliment_hsl']]"
   ]
  },
  {
   "cell_type": "markdown",
   "metadata": {},
   "source": [
    "You can also create a sequence of colors between the base colors and it's complimentary colors since they have th same lightness values."
   ]
  },
  {
   "cell_type": "code",
   "execution_count": 136,
   "metadata": {},
   "outputs": [
    {
     "name": "stdout",
     "output_type": "stream",
     "text": [
      "[[(180, 100, 82), (180, 100, 74), (180, 100, 66), (180, 100, 58), (180, 100, 50), (180, 100, 42), (180, 100, 34), (180, 100, 26), (180, 100, 18), (180, 100, 10), (0, 100, 10), (0, 100, 18), (0, 100, 26), (0, 100, 34), (0, 100, 42), (0, 100, 50), (0, 100, 58), (0, 100, 66), (0, 100, 74), (0, 100, 82)]]\n"
     ]
    }
   ],
   "source": [
    "# sequence lightness for complimentary colors\n",
    "df['diverging_hsl'] = df['compliment_hsl'].apply(sequence)\n",
    "\n",
    "# reverse list order\n",
    "df['diverging_hsl'] = df['diverging_hsl'].apply(lambda x: x[::-1])\n",
    "\n",
    "# combine with base color sequence\n",
    "df['diverging_hsl'] = df['diverging_hsl'] + df['sequential_hsl']\n",
    "\n",
    "# preview colors\n",
    "print([i for i in df[['diverging_hsl']].iloc[0]])"
   ]
  },
  {
   "cell_type": "markdown",
   "metadata": {},
   "source": [
    "# HSL to Hex\n",
    "Returning generated colors to machine compatible color codes."
   ]
  },
  {
   "cell_type": "markdown",
   "metadata": {},
   "source": [
    "### HSL to RGB\n",
    "Step 1. Find chroma.\n",
    "\n",
    "$C = (1 - |2L - 1|) * S_L$\n",
    "  \n",
    "\n",
    "Step 2. Find a point (R,G,B) with the same hue and chroma.\n",
    "\n",
    "$H' = \\frac{H}{60\\degree}$\n",
    "    \n",
    "$X = C s (1 |H' \\mod 2 - 1|) \\\\$  \n",
    " \n",
    "$(R_1, G_1, B_1) = \n",
    "\\begin{cases}\n",
    "(C, X, 0) & \\text{if } 0<=H'<1 \\\\\n",
    "(X, C, 0) & \\text{if } 1<=H'<2 \\\\\n",
    "(0, C, X) & \\text{if } 2<=H'<3 \\\\\n",
    "(0, X, C) & \\text{if } 3<=H'<4 \\\\\n",
    "(X, 0, C) & \\text{if } 4<=H'<5 \\\\\n",
    "(C, 0, X) & \\text{if } 5<=H'<6 \\\\\n",
    "\\end{cases}$\n",
    "\n",
    "Step 3. Add amount to match the lightness.\n",
    "\n",
    "$m = L - \\frac{C}{2}$  \n",
    " \n",
    "$(R, G, B) = (R_1 + m, G_1 + m, B_1 + m)$"
   ]
  },
  {
   "cell_type": "code",
   "execution_count": 137,
   "metadata": {},
   "outputs": [],
   "source": [
    "def hslToRGB(colors:list):\n",
    "    h = colors[0]\n",
    "    s = colors[1]/100\n",
    "    l = colors[2]/100\n",
    "\n",
    "    # Find chroma\n",
    "    chroma = (1 - abs(2*l - 1)) * s\n",
    "\n",
    "    # Find point (r,g,b) of RGB cube\n",
    "    X = chroma * (1 - abs((h/60) % 2 - 1))\n",
    "\n",
    "    if      0 <= h < 1: rgb = [chroma, X, 0]\n",
    "    elif    1 <= h < 2: rgb = [X, chroma, 0]\n",
    "    elif    2 <= h < 3: rgb = [0, chroma, X]\n",
    "    elif    3 <= h < 4: rgb = [0, X, chroma]\n",
    "    elif    4 <= h < 5: rgb = [X, 0, chroma]\n",
    "    else:   rgb = [chroma, 0, X]\n",
    "\n",
    "    # Match the lightness\n",
    "    m = l - chroma/2\n",
    "    return [int((i+m) * 255) for i in rgb]"
   ]
  },
  {
   "cell_type": "code",
   "execution_count": 138,
   "metadata": {},
   "outputs": [
    {
     "data": {
      "text/html": [
       "<div>\n",
       "<style scoped>\n",
       "    .dataframe tbody tr th:only-of-type {\n",
       "        vertical-align: middle;\n",
       "    }\n",
       "\n",
       "    .dataframe tbody tr th {\n",
       "        vertical-align: top;\n",
       "    }\n",
       "\n",
       "    .dataframe thead th {\n",
       "        text-align: right;\n",
       "    }\n",
       "</style>\n",
       "<table border=\"1\" class=\"dataframe\">\n",
       "  <thead>\n",
       "    <tr style=\"text-align: right;\">\n",
       "      <th></th>\n",
       "      <th>sequential_rgb</th>\n",
       "    </tr>\n",
       "  </thead>\n",
       "  <tbody>\n",
       "    <tr>\n",
       "      <th>0</th>\n",
       "      <td>[[50, 0, 0], [91, 0, 0], [132, 0, 0], [173, 0,...</td>\n",
       "    </tr>\n",
       "    <tr>\n",
       "      <th>1</th>\n",
       "      <td>[[50, 0, 0], [91, 0, 0], [132, 0, 0], [173, 0,...</td>\n",
       "    </tr>\n",
       "    <tr>\n",
       "      <th>2</th>\n",
       "      <td>[[25, 25, 25], [71, 71, 71], [117, 117, 117], ...</td>\n",
       "    </tr>\n",
       "  </tbody>\n",
       "</table>\n",
       "</div>"
      ],
      "text/plain": [
       "                                      sequential_rgb\n",
       "0  [[50, 0, 0], [91, 0, 0], [132, 0, 0], [173, 0,...\n",
       "1  [[50, 0, 0], [91, 0, 0], [132, 0, 0], [173, 0,...\n",
       "2  [[25, 25, 25], [71, 71, 71], [117, 117, 117], ..."
      ]
     },
     "execution_count": 138,
     "metadata": {},
     "output_type": "execute_result"
    }
   ],
   "source": [
    "df['sequential_rgb'] = df['sequential_hsl'].apply(lambda x: [hslToRGB(i) for i in x])\n",
    "df[['sequential_rgb']]"
   ]
  },
  {
   "cell_type": "code",
   "execution_count": 139,
   "metadata": {},
   "outputs": [
    {
     "data": {
      "text/html": [
       "<div>\n",
       "<style scoped>\n",
       "    .dataframe tbody tr th:only-of-type {\n",
       "        vertical-align: middle;\n",
       "    }\n",
       "\n",
       "    .dataframe tbody tr th {\n",
       "        vertical-align: top;\n",
       "    }\n",
       "\n",
       "    .dataframe thead th {\n",
       "        text-align: right;\n",
       "    }\n",
       "</style>\n",
       "<table border=\"1\" class=\"dataframe\">\n",
       "  <thead>\n",
       "    <tr style=\"text-align: right;\">\n",
       "      <th></th>\n",
       "      <th>diverging_rgb</th>\n",
       "    </tr>\n",
       "  </thead>\n",
       "  <tbody>\n",
       "    <tr>\n",
       "      <th>0</th>\n",
       "      <td>[[255, 163, 255], [255, 122, 255], [255, 81, 2...</td>\n",
       "    </tr>\n",
       "    <tr>\n",
       "      <th>1</th>\n",
       "      <td>[[255, 163, 255], [255, 122, 255], [255, 81, 2...</td>\n",
       "    </tr>\n",
       "    <tr>\n",
       "      <th>2</th>\n",
       "      <td>[[234, 234, 234], [239, 239, 239], [244, 244, ...</td>\n",
       "    </tr>\n",
       "  </tbody>\n",
       "</table>\n",
       "</div>"
      ],
      "text/plain": [
       "                                       diverging_rgb\n",
       "0  [[255, 163, 255], [255, 122, 255], [255, 81, 2...\n",
       "1  [[255, 163, 255], [255, 122, 255], [255, 81, 2...\n",
       "2  [[234, 234, 234], [239, 239, 239], [244, 244, ..."
      ]
     },
     "execution_count": 139,
     "metadata": {},
     "output_type": "execute_result"
    }
   ],
   "source": [
    "df['diverging_rgb'] = df['diverging_hsl'].apply(lambda x: [hslToRGB(i) for i in x])\n",
    "df[['diverging_rgb']]"
   ]
  },
  {
   "cell_type": "markdown",
   "metadata": {},
   "source": [
    "### RGB to Hex"
   ]
  },
  {
   "cell_type": "code",
   "execution_count": 140,
   "metadata": {},
   "outputs": [],
   "source": [
    "def rgbToHex(rgb):\n",
    "    hexcode = [hex(i)[2:] for i in rgb]\n",
    "\n",
    "    # six digit format\n",
    "    for i in range(len(hexcode)):\n",
    "        if len(hexcode[i]) != 2:\n",
    "            hexcode[i] *= 2 \n",
    "    \n",
    "    return ''.join(hexcode)"
   ]
  },
  {
   "cell_type": "code",
   "execution_count": 141,
   "metadata": {},
   "outputs": [
    {
     "data": {
      "text/html": [
       "<div>\n",
       "<style scoped>\n",
       "    .dataframe tbody tr th:only-of-type {\n",
       "        vertical-align: middle;\n",
       "    }\n",
       "\n",
       "    .dataframe tbody tr th {\n",
       "        vertical-align: top;\n",
       "    }\n",
       "\n",
       "    .dataframe thead th {\n",
       "        text-align: right;\n",
       "    }\n",
       "</style>\n",
       "<table border=\"1\" class=\"dataframe\">\n",
       "  <thead>\n",
       "    <tr style=\"text-align: right;\">\n",
       "      <th></th>\n",
       "      <th>sequential_hex</th>\n",
       "    </tr>\n",
       "  </thead>\n",
       "  <tbody>\n",
       "    <tr>\n",
       "      <th>0</th>\n",
       "      <td>[320000, 5b0000, 840000, ad0000, d60000, ff000...</td>\n",
       "    </tr>\n",
       "    <tr>\n",
       "      <th>1</th>\n",
       "      <td>[320000, 5b0000, 840000, ad0000, d60000, ff000...</td>\n",
       "    </tr>\n",
       "    <tr>\n",
       "      <th>2</th>\n",
       "      <td>[191919, 474747, 757575, a3a3a3, d1d1d1, fffff...</td>\n",
       "    </tr>\n",
       "  </tbody>\n",
       "</table>\n",
       "</div>"
      ],
      "text/plain": [
       "                                      sequential_hex\n",
       "0  [320000, 5b0000, 840000, ad0000, d60000, ff000...\n",
       "1  [320000, 5b0000, 840000, ad0000, d60000, ff000...\n",
       "2  [191919, 474747, 757575, a3a3a3, d1d1d1, fffff..."
      ]
     },
     "execution_count": 141,
     "metadata": {},
     "output_type": "execute_result"
    }
   ],
   "source": [
    "df['sequential_hex'] = df['sequential_rgb'].apply(lambda x: [rgbToHex(i) for i in x])\n",
    "df[['sequential_hex']]"
   ]
  },
  {
   "cell_type": "code",
   "execution_count": 142,
   "metadata": {},
   "outputs": [
    {
     "data": {
      "text/html": [
       "<div>\n",
       "<style scoped>\n",
       "    .dataframe tbody tr th:only-of-type {\n",
       "        vertical-align: middle;\n",
       "    }\n",
       "\n",
       "    .dataframe tbody tr th {\n",
       "        vertical-align: top;\n",
       "    }\n",
       "\n",
       "    .dataframe thead th {\n",
       "        text-align: right;\n",
       "    }\n",
       "</style>\n",
       "<table border=\"1\" class=\"dataframe\">\n",
       "  <thead>\n",
       "    <tr style=\"text-align: right;\">\n",
       "      <th></th>\n",
       "      <th>diverging_hex</th>\n",
       "    </tr>\n",
       "  </thead>\n",
       "  <tbody>\n",
       "    <tr>\n",
       "      <th>0</th>\n",
       "      <td>[ffa3ff, ff7aff, ff51ff, ff28ff, ff00ff, d600d...</td>\n",
       "    </tr>\n",
       "    <tr>\n",
       "      <th>1</th>\n",
       "      <td>[ffa3ff, ff7aff, ff51ff, ff28ff, ff00ff, d600d...</td>\n",
       "    </tr>\n",
       "    <tr>\n",
       "      <th>2</th>\n",
       "      <td>[eaeaea, efefef, f4f4f4, f9f9f9, ffffff, d1d1d...</td>\n",
       "    </tr>\n",
       "  </tbody>\n",
       "</table>\n",
       "</div>"
      ],
      "text/plain": [
       "                                       diverging_hex\n",
       "0  [ffa3ff, ff7aff, ff51ff, ff28ff, ff00ff, d600d...\n",
       "1  [ffa3ff, ff7aff, ff51ff, ff28ff, ff00ff, d600d...\n",
       "2  [eaeaea, efefef, f4f4f4, f9f9f9, ffffff, d1d1d..."
      ]
     },
     "execution_count": 142,
     "metadata": {},
     "output_type": "execute_result"
    }
   ],
   "source": [
    "df['diverging_hex'] = df['diverging_rgb'].apply(lambda x: [rgbToHex(i) for i in x])\n",
    "df[['diverging_hex']]"
   ]
  },
  {
   "cell_type": "markdown",
   "metadata": {},
   "source": [
    "Preview all conversions."
   ]
  },
  {
   "cell_type": "code",
   "execution_count": 143,
   "metadata": {},
   "outputs": [
    {
     "data": {
      "text/html": [
       "<div>\n",
       "<style scoped>\n",
       "    .dataframe tbody tr th:only-of-type {\n",
       "        vertical-align: middle;\n",
       "    }\n",
       "\n",
       "    .dataframe tbody tr th {\n",
       "        vertical-align: top;\n",
       "    }\n",
       "\n",
       "    .dataframe thead th {\n",
       "        text-align: right;\n",
       "    }\n",
       "</style>\n",
       "<table border=\"1\" class=\"dataframe\">\n",
       "  <thead>\n",
       "    <tr style=\"text-align: right;\">\n",
       "      <th></th>\n",
       "      <th>hex</th>\n",
       "      <th>rgb</th>\n",
       "      <th>hsl</th>\n",
       "      <th>sequential_hsl</th>\n",
       "      <th>compliment_hsl</th>\n",
       "      <th>diverging_hsl</th>\n",
       "      <th>sequential_rgb</th>\n",
       "      <th>diverging_rgb</th>\n",
       "      <th>sequential_hex</th>\n",
       "      <th>diverging_hex</th>\n",
       "    </tr>\n",
       "  </thead>\n",
       "  <tbody>\n",
       "    <tr>\n",
       "      <th>0</th>\n",
       "      <td>FF0000</td>\n",
       "      <td>(255, 0, 0)</td>\n",
       "      <td>(0, 100, 50)</td>\n",
       "      <td>[(0, 100, 10), (0, 100, 18), (0, 100, 26), (0,...</td>\n",
       "      <td>(180, 100, 50)</td>\n",
       "      <td>[(180, 100, 82), (180, 100, 74), (180, 100, 66...</td>\n",
       "      <td>[[50, 0, 0], [91, 0, 0], [132, 0, 0], [173, 0,...</td>\n",
       "      <td>[[255, 163, 255], [255, 122, 255], [255, 81, 2...</td>\n",
       "      <td>[320000, 5b0000, 840000, ad0000, d60000, ff000...</td>\n",
       "      <td>[ffa3ff, ff7aff, ff51ff, ff28ff, ff00ff, d600d...</td>\n",
       "    </tr>\n",
       "    <tr>\n",
       "      <th>1</th>\n",
       "      <td>00ff00</td>\n",
       "      <td>(0, 255, 0)</td>\n",
       "      <td>(120, 100, 50)</td>\n",
       "      <td>[(120, 100, 10), (120, 100, 18), (120, 100, 26...</td>\n",
       "      <td>(300, 100, 50)</td>\n",
       "      <td>[(300, 100, 82), (300, 100, 74), (300, 100, 66...</td>\n",
       "      <td>[[50, 0, 0], [91, 0, 0], [132, 0, 0], [173, 0,...</td>\n",
       "      <td>[[255, 163, 255], [255, 122, 255], [255, 81, 2...</td>\n",
       "      <td>[320000, 5b0000, 840000, ad0000, d60000, ff000...</td>\n",
       "      <td>[ffa3ff, ff7aff, ff51ff, ff28ff, ff00ff, d600d...</td>\n",
       "    </tr>\n",
       "    <tr>\n",
       "      <th>2</th>\n",
       "      <td>ffffff</td>\n",
       "      <td>(255, 255, 255)</td>\n",
       "      <td>(0, 0, 100)</td>\n",
       "      <td>[(0, 0, 10), (0, 0, 28), (0, 0, 46), (0, 0, 64...</td>\n",
       "      <td>(180, 0, 100)</td>\n",
       "      <td>[(180, 0, 92), (180, 0, 94), (180, 0, 96), (18...</td>\n",
       "      <td>[[25, 25, 25], [71, 71, 71], [117, 117, 117], ...</td>\n",
       "      <td>[[234, 234, 234], [239, 239, 239], [244, 244, ...</td>\n",
       "      <td>[191919, 474747, 757575, a3a3a3, d1d1d1, fffff...</td>\n",
       "      <td>[eaeaea, efefef, f4f4f4, f9f9f9, ffffff, d1d1d...</td>\n",
       "    </tr>\n",
       "  </tbody>\n",
       "</table>\n",
       "</div>"
      ],
      "text/plain": [
       "      hex              rgb             hsl  \\\n",
       "0  FF0000      (255, 0, 0)    (0, 100, 50)   \n",
       "1  00ff00      (0, 255, 0)  (120, 100, 50)   \n",
       "2  ffffff  (255, 255, 255)     (0, 0, 100)   \n",
       "\n",
       "                                      sequential_hsl  compliment_hsl  \\\n",
       "0  [(0, 100, 10), (0, 100, 18), (0, 100, 26), (0,...  (180, 100, 50)   \n",
       "1  [(120, 100, 10), (120, 100, 18), (120, 100, 26...  (300, 100, 50)   \n",
       "2  [(0, 0, 10), (0, 0, 28), (0, 0, 46), (0, 0, 64...   (180, 0, 100)   \n",
       "\n",
       "                                       diverging_hsl  \\\n",
       "0  [(180, 100, 82), (180, 100, 74), (180, 100, 66...   \n",
       "1  [(300, 100, 82), (300, 100, 74), (300, 100, 66...   \n",
       "2  [(180, 0, 92), (180, 0, 94), (180, 0, 96), (18...   \n",
       "\n",
       "                                      sequential_rgb  \\\n",
       "0  [[50, 0, 0], [91, 0, 0], [132, 0, 0], [173, 0,...   \n",
       "1  [[50, 0, 0], [91, 0, 0], [132, 0, 0], [173, 0,...   \n",
       "2  [[25, 25, 25], [71, 71, 71], [117, 117, 117], ...   \n",
       "\n",
       "                                       diverging_rgb  \\\n",
       "0  [[255, 163, 255], [255, 122, 255], [255, 81, 2...   \n",
       "1  [[255, 163, 255], [255, 122, 255], [255, 81, 2...   \n",
       "2  [[234, 234, 234], [239, 239, 239], [244, 244, ...   \n",
       "\n",
       "                                      sequential_hex  \\\n",
       "0  [320000, 5b0000, 840000, ad0000, d60000, ff000...   \n",
       "1  [320000, 5b0000, 840000, ad0000, d60000, ff000...   \n",
       "2  [191919, 474747, 757575, a3a3a3, d1d1d1, fffff...   \n",
       "\n",
       "                                       diverging_hex  \n",
       "0  [ffa3ff, ff7aff, ff51ff, ff28ff, ff00ff, d600d...  \n",
       "1  [ffa3ff, ff7aff, ff51ff, ff28ff, ff00ff, d600d...  \n",
       "2  [eaeaea, efefef, f4f4f4, f9f9f9, ffffff, d1d1d...  "
      ]
     },
     "execution_count": 143,
     "metadata": {},
     "output_type": "execute_result"
    }
   ],
   "source": [
    "df"
   ]
  }
 ],
 "metadata": {
  "kernelspec": {
   "display_name": "base",
   "language": "python",
   "name": "python3"
  },
  "language_info": {
   "codemirror_mode": {
    "name": "ipython",
    "version": 3
   },
   "file_extension": ".py",
   "mimetype": "text/x-python",
   "name": "python",
   "nbconvert_exporter": "python",
   "pygments_lexer": "ipython3",
   "version": "3.12.4"
  }
 },
 "nbformat": 4,
 "nbformat_minor": 2
}
