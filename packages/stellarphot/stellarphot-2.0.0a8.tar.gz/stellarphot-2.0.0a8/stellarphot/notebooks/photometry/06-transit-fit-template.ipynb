{
 "cells": [
  {
   "cell_type": "code",
   "execution_count": null,
   "metadata": {
    "tags": []
   },
   "outputs": [],
   "source": [
    "from itertools import product\n",
    "import pickle\n",
    "\n",
    "import ipywidgets as ipw\n",
    "import numpy as np\n",
    "\n",
    "from matplotlib import pyplot as plt\n",
    "from astropy.table import Table\n",
    "\n",
    "from stellarphot.transit_fitting import TransitModelFit\n",
    "from stellarphot.transit_fitting.gui import *\n",
    "from stellarphot.io import TOI\n",
    "from stellarphot.settings.fits_opener import FitsOpener\n",
    "from stellarphot.plotting import plot_many_factors\n",
    "from stellarphot import PhotometryData\n",
    "from astropy.timeseries import BinnedTimeSeries, TimeSeries, aggregate_downsample\n",
    "from astropy.time import Time\n",
    "from astropy.table import Table, Column\n",
    "from astropy import units as u"
   ]
  },
  {
   "cell_type": "markdown",
   "metadata": {},
   "source": [
    "### 0. Get some data"
   ]
  },
  {
   "cell_type": "code",
   "execution_count": null,
   "metadata": {
    "tags": []
   },
   "outputs": [],
   "source": [
    "fits_openr = FitsOpener(\n",
    "    title=\"Select your photometry/flux file\",\n",
    "    filter_pattern=[\"*.csv\", \"*.fits\", \"*.ecsv\"],\n",
    ")\n",
    "fits_openr2 = FitsOpener(title=\"Select your TESS info file\", filter_pattern=[\"*.json\"])\n",
    "passband = ipw.Dropdown(description=\"Filter\", options=[\"gp\", \"ip\"], disabled=True)\n",
    "box = ipw.VBox()\n",
    "\n",
    "def update_filter_list(change):\n",
    "    tab = Table.read(fits_openr.path)[\"passband\"]\n",
    "    passband.options = sorted(set(tab))\n",
    "    passband.disabled = False\n",
    "    passband.value = passband.options[0]\n",
    "\n",
    "\n",
    "fits_openr.file_chooser.observe(update_filter_list, names=\"_value\")\n",
    "box.children = [fits_openr.file_chooser, fits_openr2.file_chooser, passband]\n",
    "box"
   ]
  },
  {
   "cell_type": "code",
   "execution_count": null,
   "metadata": {
    "tags": []
   },
   "outputs": [],
   "source": [
    "# 👉 File with photometry, including flux\n",
    "photometry_file = fits_openr.path\n",
    "\n",
    "# 👉 File with exoplanet info in\n",
    "tess_info_output_file = fits_openr2.path"
   ]
  },
  {
   "cell_type": "markdown",
   "metadata": {},
   "source": [
    "### 👇👇👇 use this to exclude some data (only if needed!) 👇👇👇"
   ]
  },
  {
   "cell_type": "code",
   "execution_count": null,
   "metadata": {},
   "outputs": [],
   "source": [
    "use_no_data_before = Time(2400000, format=\"jd\", scale=\"tdb\")\n",
    "\n",
    "use_no_data_between = [\n",
    "    [Time(2400000, format=\"jd\", scale=\"tdb\"), Time(2400000, format=\"jd\", scale=\"tdb\")]\n",
    "]\n",
    "\n",
    "use_no_data_after = Time(2499999, format=\"jd\", scale=\"tdb\")"
   ]
  },
  {
   "cell_type": "code",
   "execution_count": null,
   "metadata": {
    "tags": []
   },
   "outputs": [],
   "source": [
    "photometry = PhotometryData.read(photometry_file)\n",
    "\n",
    "tess_info = TOI.model_validate_json(tess_info_output_file.read_text())\n",
    "# with open(tess_info_output_file, \"rb\") as f:\n",
    "#     tess_info = pickle.load(f)"
   ]
  },
  {
   "cell_type": "code",
   "execution_count": null,
   "metadata": {},
   "outputs": [],
   "source": [
    "phot_times = Time(photometry[\"bjd\"], format=\"jd\", scale=\"tdb\")\n",
    "\n",
    "n_dropped = 0\n",
    "\n",
    "bad_data = phot_times < use_no_data_before\n",
    "\n",
    "n_dropped = bad_data.sum()\n",
    "\n",
    "if n_dropped > 0:\n",
    "    print(f\"👉👉👉👉 Dropping {n_dropped} data points before BJD {use_no_data_before}\")\n",
    "\n",
    "bad_data = bad_data | (\n",
    "    (use_no_data_between[0][0] < phot_times) & (phot_times < use_no_data_between[0][1])\n",
    ")\n",
    "\n",
    "new_dropped = bad_data.sum() - n_dropped\n",
    "\n",
    "if new_dropped:\n",
    "    print(\n",
    "        f\"👉👉👉👉 Dropping {new_dropped} data points between BJD {use_no_data_between[0][0]} and {use_no_data_between[0][1]}\"\n",
    "    )\n",
    "\n",
    "n_dropped += new_dropped\n",
    "\n",
    "bad_data = bad_data | (phot_times > use_no_data_after)\n",
    "\n",
    "new_dropped = bad_data.sum() - n_dropped\n",
    "\n",
    "if new_dropped:\n",
    "    print(f\"👉👉👉👉 Dropping {new_dropped} data points after BJD {use_no_data_after}\")\n",
    "\n",
    "n_dropped += new_dropped\n",
    "\n",
    "photometry = photometry[~bad_data]"
   ]
  },
  {
   "cell_type": "markdown",
   "metadata": {},
   "source": [
    "### You may need to alter some of the settings here"
   ]
  },
  {
   "cell_type": "code",
   "execution_count": null,
   "metadata": {
    "tags": []
   },
   "outputs": [],
   "source": [
    "# These affect the fitting that is done\n",
    "\n",
    "# bin size in minutes\n",
    "bin_size = 5 * u.min\n",
    "\n",
    "# Keep the time of transit fixed?\n",
    "keep_fixed_transit_time = True\n",
    "transit_time_range = 60 * u.min\n",
    "\n",
    "# Keep radius of planet fixed?\n",
    "\n",
    "keep_fixed_radius_planet = False\n",
    "\n",
    "# Keep radius of orbit fixed?\n",
    "\n",
    "keep_fixed_radius_orbit = False\n",
    "\n",
    "# Remove effects of airmas?\n",
    "fit_airmass = False\n",
    "\n",
    "# Remove effects of sky background?\n",
    "fit_spp = False\n",
    "\n",
    "# Remove effects of change in focus?\n",
    "fit_width = False"
   ]
  },
  {
   "cell_type": "code",
   "execution_count": null,
   "metadata": {
    "tags": []
   },
   "outputs": [],
   "source": [
    "# Enter your object's period here\n",
    "period = tess_info.period\n",
    "\n",
    "# Enter the epoch here\n",
    "epoch = tess_info.epoch  # Time(2458761.602894, scale='tdb', format='jd')\n",
    "\n",
    "# Enter the duration below\n",
    "duration = tess_info.duration\n",
    "\n",
    "# Enter the transit depth here -- get the \"ppm\" value from ExoFOP-TESS\n",
    "depth = tess_info.depth_ppt\n",
    "\n",
    "# Enter object name\n",
    "obj = f\"TIC {tess_info.tic_id}\"\n",
    "\n",
    "# Enter filter\n",
    "phot_filter = \"rp\""
   ]
  },
  {
   "cell_type": "code",
   "execution_count": null,
   "metadata": {
    "tags": []
   },
   "outputs": [],
   "source": [
    "# These affect spacing of lines on final plot\n",
    "high = 1.06\n",
    "low = 0.82\n",
    "scale = 0.15 * (high - low)\n",
    "shift = -0.72 * (high - low)"
   ]
  },
  {
   "cell_type": "code",
   "execution_count": null,
   "metadata": {},
   "outputs": [],
   "source": []
  },
  {
   "cell_type": "code",
   "execution_count": null,
   "metadata": {
    "tags": []
   },
   "outputs": [],
   "source": [
    "target_star = photometry[\"star_id\"] == 1\n",
    "\n",
    "# No changes to the line below, it is grabbing the first time in the data series\n",
    "then = Time(photometry[\"bjd\"][target_star][0], scale=\"tdb\", format=\"jd\")\n",
    "\n",
    "date_obs = photometry[\"date-obs\"][target_star][0]\n",
    "exposure_time = photometry[\"exposure\"][target_star][0]"
   ]
  },
  {
   "cell_type": "markdown",
   "metadata": {},
   "source": [
    "Looks like we need to normalize the data first....."
   ]
  },
  {
   "cell_type": "code",
   "execution_count": null,
   "metadata": {
    "tags": []
   },
   "outputs": [],
   "source": [
    "band_filter = photometry[\"passband\"] == phot_filter\n",
    "\n",
    "target_and_filter = target_star & band_filter"
   ]
  },
  {
   "cell_type": "code",
   "execution_count": null,
   "metadata": {
    "tags": []
   },
   "outputs": [],
   "source": [
    "photometry = photometry[target_and_filter]"
   ]
  },
  {
   "cell_type": "code",
   "execution_count": null,
   "metadata": {
    "tags": []
   },
   "outputs": [],
   "source": [
    "cycle_number = int((then - epoch) / period + 1)\n",
    "that_transit = cycle_number * period + epoch\n",
    "that_transit"
   ]
  },
  {
   "cell_type": "code",
   "execution_count": null,
   "metadata": {
    "tags": []
   },
   "outputs": [],
   "source": [
    "start = that_transit - duration / 2\n",
    "mid = that_transit\n",
    "end = that_transit + duration / 2\n",
    "\n",
    "after_transit = (photometry[\"bjd\"] - 2400000 * u.day) > end\n",
    "\n",
    "outside_transit = (photometry[\"bjd\"] < start) | (photometry[\"bjd\"] > end)\n",
    "\n",
    "normalization_factor = np.nanmean(1 / photometry[\"relative_flux\"][outside_transit])\n",
    "normalized_flux = Column(photometry[\"relative_flux\"] * normalization_factor, name=\"relative_flux\")"
   ]
  },
  {
   "cell_type": "markdown",
   "metadata": {},
   "source": [
    "### Bin Data\n",
    "\n",
    "Need\n",
    "* data table\n",
    "* start\n",
    "* end\n",
    "* bin_size"
   ]
  },
  {
   "cell_type": "code",
   "execution_count": null,
   "metadata": {},
   "outputs": [],
   "source": [
    "len(normalization_factor * photometry[\"relative_flux_error\"].value)"
   ]
  },
  {
   "cell_type": "code",
   "execution_count": null,
   "metadata": {
    "tags": []
   },
   "outputs": [],
   "source": [
    "t_ob = Time(photometry[\"bjd\"], scale=\"tdb\", format=\"jd\")\n",
    "ts = TimeSeries(\n",
    "    [\n",
    "        normalized_flux,\n",
    "        photometry[\"airmass\"],\n",
    "        photometry[\"xcenter\"],\n",
    "        photometry[\"sky_per_pix_avg\"],\n",
    "        photometry[\"width\"],\n",
    "    ],\n",
    "    time=t_ob,\n",
    ")\n",
    "ts2 = TimeSeries(\n",
    "    [Column(\n",
    "        data=normalization_factor * photometry[\"relative_flux_error\"].value,\n",
    "        name=\"relative_flux_error\"\n",
    "    )],\n",
    "    time=t_ob\n",
    ")\n",
    "\n",
    "first_time = photometry[\"bjd\"][0] - 2400000\n",
    "last_time = photometry[\"bjd\"][-1] - 2400000\n",
    "\n",
    "\n",
    "def add_quad(x):\n",
    "    try:\n",
    "        n = len(x)\n",
    "    except TypeError:\n",
    "        n = 1\n",
    "    return np.sqrt(np.nansum(x**2)) / n\n",
    "\n",
    "\n",
    "binned = aggregate_downsample(ts, time_bin_size=bin_size)\n",
    "binned2 = aggregate_downsample(ts2, time_bin_size=bin_size, aggregate_func=add_quad)\n",
    "\n",
    "# binned_time = BinnedTimeSeries(photometry['bjd'], time_bin_start=first_time, time_bin_end=last_time, time_bin_size=bin_size)"
   ]
  },
  {
   "cell_type": "markdown",
   "metadata": {},
   "source": [
    "### 1. Create the model object"
   ]
  },
  {
   "cell_type": "code",
   "execution_count": null,
   "metadata": {
    "tags": []
   },
   "outputs": [],
   "source": [
    "mod = TransitModelFit()"
   ]
  },
  {
   "cell_type": "markdown",
   "metadata": {},
   "source": [
    "### 2. Load some data\n",
    "\n",
    "Here we will just load times and normalized flux. You can also set width, spp (sky per pixel) and airmass. The only two that must be set are times and flux.\n",
    "\n",
    "If you have set `mod.spp`, `mod.width` or `mod.airmass` then those things will be included in the fit. Otherwise, they are ignored.\n",
    "\n",
    "THE WEIGHTS ARE IMPORTANT TO INCLUDE"
   ]
  },
  {
   "cell_type": "code",
   "execution_count": null,
   "metadata": {
    "tags": []
   },
   "outputs": [],
   "source": [
    "not_empty = ~np.isnan(binned[\"relative_flux\"])\n",
    "\n",
    "mod.times = (np.array(binned[\"time_bin_start\"].value) - 2400000)[not_empty]\n",
    "mod.data = binned[\"relative_flux\"].value[not_empty]\n",
    "mod.weights = 1 / (binned2[\"relative_flux_error\"].value)[not_empty]"
   ]
  },
  {
   "cell_type": "markdown",
   "metadata": {},
   "source": [
    "### 3. Set up the model\n",
    "\n",
    "You should be able to get the parameters for this from TTF. There are more parameters you can set; `shift-Tab` in the arguments to pull up the docstring, which lists and explains them all."
   ]
  },
  {
   "cell_type": "code",
   "execution_count": null,
   "metadata": {
    "tags": []
   },
   "outputs": [],
   "source": [
    "mod.setup_model(\n",
    "    t0=mid.jd - 2400000,  # midpoint, BJD\n",
    "    depth=depth,  # parts per thousand\n",
    "    duration=duration.to(\"day\").value,  # days\n",
    "    period=period.to(\"day\").value,  # days\n",
    ")"
   ]
  },
  {
   "cell_type": "markdown",
   "metadata": {},
   "source": [
    "### 3.25 Set up airmass, etc"
   ]
  },
  {
   "cell_type": "code",
   "execution_count": null,
   "metadata": {
    "tags": []
   },
   "outputs": [],
   "source": [
    "mod.airmass = np.array(binned[\"airmass\"])[not_empty]\n",
    "mod.width = np.array(binned[\"width\"])[not_empty]\n",
    "mod.spp = np.array(binned[\"sky_per_pix_avg\"])[not_empty]"
   ]
  },
  {
   "cell_type": "markdown",
   "metadata": {},
   "source": [
    "### 3.5 Constrain the fits if you want\n",
    "\n",
    "#### Exoplanet parameters"
   ]
  },
  {
   "cell_type": "code",
   "execution_count": null,
   "metadata": {
    "tags": []
   },
   "outputs": [],
   "source": [
    "mod.model.t0.bounds = [\n",
    "    mid.jd - 2400000 - transit_time_range.to(\"day\").value / 2,\n",
    "    mid.jd - 2400000 + transit_time_range.to(\"day\").value / 2,\n",
    "]\n",
    "mod.model.t0.fixed = keep_fixed_transit_time\n",
    "mod.model.a.fixed = keep_fixed_radius_orbit\n",
    "mod.model.rp.fixed = keep_fixed_radius_planet"
   ]
  },
  {
   "cell_type": "markdown",
   "metadata": {},
   "source": [
    "#### Detrending parameters"
   ]
  },
  {
   "cell_type": "code",
   "execution_count": null,
   "metadata": {
    "tags": []
   },
   "outputs": [],
   "source": [
    "mod.model.spp_trend.fixed = not fit_spp\n",
    "mod.model.airmass_trend.fixed = not fit_airmass\n",
    "mod.model.width_trend.fixed = not fit_width"
   ]
  },
  {
   "cell_type": "code",
   "execution_count": null,
   "metadata": {
    "tags": []
   },
   "outputs": [],
   "source": [
    "detrended_by = []\n",
    "if fit_airmass:\n",
    "    detrended_by.append(\"Airmass\")\n",
    "\n",
    "if fit_spp:\n",
    "    detrended_by.append(\"SPP\")\n",
    "\n",
    "if fit_width:\n",
    "    detrended_by.append(\"Wdith\")\n",
    "\n",
    "detrended_by = (\n",
    "    (\"Detrended by: \" + \",\".join(detrended_by)) if detrended_by else \"No detrending\"\n",
    ")"
   ]
  },
  {
   "cell_type": "markdown",
   "metadata": {},
   "source": [
    "### 4. Run the fit"
   ]
  },
  {
   "cell_type": "code",
   "execution_count": null,
   "metadata": {
    "tags": []
   },
   "outputs": [],
   "source": [
    "mod.fit()"
   ]
  },
  {
   "cell_type": "markdown",
   "metadata": {},
   "source": [
    "### 5. Let's try a plot...."
   ]
  },
  {
   "cell_type": "code",
   "execution_count": null,
   "metadata": {
    "tags": []
   },
   "outputs": [],
   "source": [
    "plt.plot(mod.times, mod.data, \".\")\n",
    "plt.plot(mod.times, mod.model_light_curve())\n",
    "plt.vlines(start.jd - 2400000, 0.98, 1.02, colors=\"r\", linestyle=\"--\", alpha=0.5)\n",
    "plt.vlines(end.jd - 2400000, 0.98, 1.02, colors=\"r\", linestyle=\"--\", alpha=0.5)\n",
    "plt.title(\"Data and fit\")\n",
    "plt.grid()"
   ]
  },
  {
   "cell_type": "code",
   "execution_count": null,
   "metadata": {
    "tags": []
   },
   "outputs": [],
   "source": [
    "mod.model"
   ]
  },
  {
   "cell_type": "code",
   "execution_count": null,
   "metadata": {
    "tags": []
   },
   "outputs": [],
   "source": [
    "# mod._fitter.fit_info"
   ]
  },
  {
   "cell_type": "code",
   "execution_count": null,
   "metadata": {
    "tags": []
   },
   "outputs": [],
   "source": [
    "flux_full_detrend = mod.data_light_curve(detrend_by=\"all\")\n",
    "flux_full_detrend_model = mod.model_light_curve(detrend_by=\"all\")"
   ]
  },
  {
   "cell_type": "code",
   "execution_count": null,
   "metadata": {
    "tags": []
   },
   "outputs": [],
   "source": [
    "rel_detrended_flux = flux_full_detrend / np.mean(flux_full_detrend)\n",
    "\n",
    "rel_detrended_flux_rms = np.std(rel_detrended_flux)\n",
    "rel_model_rms = np.std(flux_full_detrend_model - rel_detrended_flux)\n",
    "\n",
    "rel_flux_rms = np.std(mod.data)"
   ]
  },
  {
   "cell_type": "code",
   "execution_count": null,
   "metadata": {
    "tags": []
   },
   "outputs": [],
   "source": [
    "grid_y_ticks = np.arange(low, high, 0.02)"
   ]
  },
  {
   "cell_type": "code",
   "execution_count": null,
   "metadata": {
    "tags": []
   },
   "outputs": [],
   "source": [
    "# (RMS={rel_flux_rms:.5f})\n",
    "\n",
    "plt.figure(figsize=(8, 11))\n",
    "fig, ax = plt.subplots(1, 1, figsize=(8, 11))\n",
    "\n",
    "plt.plot(\n",
    "    (photometry[\"bjd\"] - 2400000 * u.day).jd,\n",
    "    normalized_flux,\n",
    "    \"b.\",\n",
    "    label=f\"rel_flux_T1 (RMS={rel_flux_rms:.5f})\",\n",
    "    ms=4,\n",
    ")\n",
    "\n",
    "plt.plot(\n",
    "    mod.times,\n",
    "    flux_full_detrend - 0.04,\n",
    "    \".\",\n",
    "    c=\"r\",\n",
    "    ms=4,\n",
    "    label=f\"rel_flux_T1 ({detrended_by})(RMS={rel_detrended_flux_rms:.5f}), (bin size={bin_size} min)\",\n",
    ")\n",
    "\n",
    "plt.plot(\n",
    "    mod.times,\n",
    "    flux_full_detrend - 0.08,\n",
    "    \".\",\n",
    "    c=\"g\",\n",
    "    ms=4,\n",
    "    label=f\"rel_flux_T1 ({detrended_by} with transit fit)(RMS={rel_model_rms:.5f}), (bin size={bin_size})\",\n",
    ")\n",
    "plt.plot(\n",
    "    mod.times,\n",
    "    flux_full_detrend_model - 0.08,\n",
    "    c=\"g\",\n",
    "    ms=4,\n",
    "    label=f\"rel_flux_T1 Transit Model ([P={mod.model.period.value:.4f}], \"\n",
    "    f\"(Rp/R*)^2={(mod.model.rp.value)**2:.4f}, \\na/R*={mod.model.a.value:.4f}, \"\n",
    "    f\"[Tc={mod.model.t0.value + 2400000:.4f}], \"\n",
    "    f\"[u1={mod.model.limb_u1.value:.1f}, u2={mod.model.limb_u2.value:.1f})\",\n",
    ")\n",
    "\n",
    "plot_many_factors(photometry, shift, scale)\n",
    "\n",
    "plt.vlines(start.jd - 2400000, low, 1.025, colors=\"r\", linestyle=\"--\", alpha=0.5)\n",
    "plt.vlines(end.jd - 2400000, low, 1.025, colors=\"r\", linestyle=\"--\", alpha=0.5)\n",
    "plt.text(\n",
    "    start.jd - 2400000,\n",
    "    low + 0.0005,\n",
    "    f\"Predicted\\nIngress\\n{start.jd-2400000-int(start.jd - 2400000):.3f}\",\n",
    "    horizontalalignment=\"center\",\n",
    "    c=\"r\",\n",
    ")\n",
    "plt.text(\n",
    "    end.jd - 2400000,\n",
    "    low + 0.0005,\n",
    "    f\"Predicted\\nEgress\\n{end.jd-2400000-int(end.jd - 2400000):.3f}\",\n",
    "    horizontalalignment=\"center\",\n",
    "    c=\"r\",\n",
    ")\n",
    "\n",
    "# plt.vlines(start + 0.005, low, 1, colors='darkgray', linestyle='--', alpha=0.5)\n",
    "# plt.text(start + 0.005, low+0.001, f'Left\\n{start-int(start)+0.005:.3f}', horizontalalignment='center',c='darkgray')\n",
    "# plt.vlines(end - 0.005, low, 1, colors='darkgray', linestyle='--', alpha=0.5)\n",
    "# plt.text(end - 0.005, low+0.001, f'Rght\\n{end-int(end)-0.005:.3f}', horizontalalignment='center',c='darkgray')\n",
    "\n",
    "\n",
    "plt.ylim(low, high)\n",
    "plt.xlabel(\"Barycentric Julian Date (TDB)\", fontname=\"Arial\")\n",
    "plt.ylabel(\"Relative Flux (normalized)\", fontname=\"Arial\")\n",
    "plt.title(\n",
    "    f\"{obj}.01   UT{date_obs}\\nPaul P. Feder Observatory 0.4m ({phot_filter} filter, {exposure_time} exp, fap 10-25-40)\",\n",
    "    fontsize=14,\n",
    "    fontname=\"Arial\",\n",
    ")\n",
    "plt.legend(loc=\"upper center\", frameon=False, fontsize=8, bbox_to_anchor=(0.6, 1.0))\n",
    "ax.set_yticks(grid_y_ticks)\n",
    "plt.grid()\n",
    "\n",
    "plt.savefig(\n",
    "    f\"TIC{tess_info.tic_id}-01_20200701_Paul-P-Feder-0.4m_gp_lightcurve.png\",\n",
    "    facecolor=\"w\",\n",
    ")"
   ]
  },
  {
   "cell_type": "code",
   "execution_count": null,
   "metadata": {
    "tags": []
   },
   "outputs": [],
   "source": [
    "mod.n_fit_parameters"
   ]
  },
  {
   "cell_type": "code",
   "execution_count": null,
   "metadata": {
    "tags": []
   },
   "outputs": [],
   "source": [
    "mod._all_detrend_params"
   ]
  },
  {
   "cell_type": "code",
   "execution_count": null,
   "metadata": {
    "tags": []
   },
   "outputs": [],
   "source": [
    "def evaluate_fits(mod):\n",
    "    BICs = []\n",
    "    settings = []\n",
    "    all_trendable = mod._all_detrend_params\n",
    "    tf_sequence = product([True, False], repeat=len(all_trendable))\n",
    "    for fixed in tf_sequence:\n",
    "        this_summary = []\n",
    "        for param, fix in zip(all_trendable, fixed):\n",
    "            trend_mod = getattr(mod.model, f\"{param}_trend\")\n",
    "            if fix:\n",
    "                setattr(mod.model, f\"{param}_trend\", 0.0)\n",
    "            trend_mod.fixed = fix\n",
    "            this_summary.append(f\"{param}: {not fix}\")\n",
    "\n",
    "        settings.append(\", \".join(this_summary))\n",
    "        mod.fit()\n",
    "        BICs.append(mod.BIC)\n",
    "    return Table(data=[settings, BICs], names=[\"Fit this param?\", \"BIC\"])"
   ]
  },
  {
   "cell_type": "code",
   "execution_count": null,
   "metadata": {
    "tags": []
   },
   "outputs": [],
   "source": [
    "bic_table = evaluate_fits(mod)\n",
    "bic_table.sort(\"BIC\")\n",
    "bic_table"
   ]
  },
  {
   "cell_type": "code",
   "execution_count": null,
   "metadata": {},
   "outputs": [],
   "source": []
  }
 ],
 "metadata": {
  "kernelspec": {
   "display_name": "Python 3 (ipykernel)",
   "language": "python",
   "name": "python3"
  },
  "language_info": {
   "codemirror_mode": {
    "name": "ipython",
    "version": 3
   },
   "file_extension": ".py",
   "mimetype": "text/x-python",
   "name": "python",
   "nbconvert_exporter": "python",
   "pygments_lexer": "ipython3",
   "version": "3.11.8"
  }
 },
 "nbformat": 4,
 "nbformat_minor": 4
}
