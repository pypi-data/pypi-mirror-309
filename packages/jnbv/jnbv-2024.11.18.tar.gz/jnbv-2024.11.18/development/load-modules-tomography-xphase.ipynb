{
 "cells": [
  {
   "cell_type": "markdown",
   "metadata": {},
   "source": [
    "# Load modules installed in conda environment or loaded via lmod\n",
    "Just a simple test that the expected modules exist, taken from the development kernel file:<br>\n",
    "jupyter-docker-stacks/tomography-notebook/ubuntu-bionic/development/xphase-kernel-environment.yml"
   ]
  },
  {
   "cell_type": "code",
   "execution_count": 6,
   "metadata": {},
   "outputs": [
    {
     "name": "stdout",
     "output_type": "stream",
     "text": [
      "If no errors, then everything was imported!\n"
     ]
    }
   ],
   "source": [
    "## Analysis modules\n",
    "import matplotlib\n",
    "import pandas\n",
    "import skimage\n",
    "import tifffile\n",
    "import mpl_toolkits\n",
    "import matplotlib\n",
    "import numpy\n",
    "\n",
    "## Modules installed via pip\n",
    "import LightPipes\n",
    "\n",
    "print('If no errors, then everything was imported!')"
   ]
  },
  {
   "cell_type": "code",
   "execution_count": null,
   "metadata": {},
   "outputs": [],
   "source": []
  }
 ],
 "metadata": {
  "kernelspec": {
   "display_name": "Tomography / Xphase / GPU",
   "language": "python",
   "name": "maxiv-jhub-docker-kernel-tomography-xphase"
  },
  "language_info": {
   "codemirror_mode": {
    "name": "ipython",
    "version": 3
   },
   "file_extension": ".py",
   "mimetype": "text/x-python",
   "name": "python",
   "nbconvert_exporter": "python",
   "pygments_lexer": "ipython3",
   "version": "3.7.8"
  }
 },
 "nbformat": 4,
 "nbformat_minor": 4
}
