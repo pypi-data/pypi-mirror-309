{
 "cells": [
  {
   "cell_type": "markdown",
   "id": "ef3cbcee-ea26-47e9-8822-3b9d04ee716d",
   "metadata": {},
   "source": [
    "# Running experiments on a cluster"
   ]
  },
  {
   "cell_type": "markdown",
   "id": "af762438-ea62-4d05-bb34-b6148126c81d",
   "metadata": {},
   "source": [
    "For many research projects in quantum error correction, running experiments on a computer cluster is needed to produce convincing results on large code distances. PanQEC contains an extensive set of tools to help you run experiments on a cluster painlessly. It includes commands to run experiments in parallel on a given number of cores, to generate scripts for Slurm, SGE and PBS cluster management systems, to automatically save experiments in real-time, and to check the progress of your experiments at any point.\n",
    "\n",
    "In this tutorial, we will cover the whole pipeline of a cluster experiment, from creating the input files to plotting the final results on your laptop."
   ]
  },
  {
   "cell_type": "markdown",
   "id": "aa4a956b-9379-41c7-9009-5deac87bfa48",
   "metadata": {},
   "source": [
    "## Folder structure"
   ]
  },
  {
   "cell_type": "markdown",
   "id": "3eb92029-85b7-4b49-ab2f-e214f3b1725d",
   "metadata": {},
   "source": [
    "In this tutorial, we will adopt the following folder structure for the experiment:\n",
    "\n",
    "* `my-experiment/`: root folder that will contain all the data of the experiments\n",
    "    * `my-experiment/inputs/`: contains the input json file(s)\n",
    "    * `my-experiment/results/`: contain the result json files (once the experiments is running)\n",
    "    * `my-experiment/logs/`: contain the log files of the experiment, such as the current progress and the CPU/RAM usage.\n",
    "    \n",
    "The `my-experiment` folder and the `inputs` subfolder will be automatically generated with the `panqec generate-input` command. The subfolders `results` and `logs` will be created automatically when starting the experiment."
   ]
  },
  {
   "cell_type": "markdown",
   "id": "809ede83-59bc-457e-a9f1-59c2b82e6e4a",
   "metadata": {},
   "source": [
    "## Creating the input files"
   ]
  },
  {
   "cell_type": "markdown",
   "id": "a1656892-7bf1-472f-a55d-5a28917b99f2",
   "metadata": {},
   "source": [
    "PanQEC works by processing input files written in a `json` format. Those specify most details of the experiments you want to run: the code/decoder/error model to use and their parameters, the lattice sizes, the physical error rates, etc. \n",
    "Here is an example of input file that describes a 2D toric code simulation under depolarizing noise, decoded using minimum-weight perfect matching:"
   ]
  },
  {
   "cell_type": "markdown",
   "id": "94d7dce6-5fb8-41b5-b718-ed0f23c38a91",
   "metadata": {},
   "source": [
    "```json\n",
    "{\n",
    "    \"comments\": \"\",\n",
    "    \"ranges\": {\n",
    "        \"label\": \"toric-2d-experiment\",\n",
    "        \"method\": {\n",
    "            \"name\": \"direct\",\n",
    "            \"parameters\": {}\n",
    "        },\n",
    "        \"code\": {\n",
    "            \"name\": \"Toric2DCode\",\n",
    "            \"parameters\": [\n",
    "                {\n",
    "                    \"L_x\": 5,\n",
    "                    \"L_y\": 5,\n",
    "                },\n",
    "                {\n",
    "                    \"L_x\": 7,\n",
    "                    \"L_y\": 7,\n",
    "                },\n",
    "                {\n",
    "                    \"L_x\": 9,\n",
    "                    \"L_y\": 9,\n",
    "                }\n",
    "            ]\n",
    "        },\n",
    "        \"error_model\": {\n",
    "            \"name\": \"PauliErrorModel\",\n",
    "            \"parameters\": {\n",
    "                \"r_x\": 0.33333333333333337,\n",
    "                \"r_y\": 0.33333333333333337,\n",
    "                \"r_z\": 0.3333333333333333\n",
    "            }\n",
    "        },\n",
    "        \"decoder\": {\n",
    "            \"name\": \"MatchingDecoder\",\n",
    "            \"parameters\": {}\n",
    "        },\n",
    "        \"error_rate\": [\n",
    "            0.1,\n",
    "            0.11,\n",
    "            0.12,\n",
    "            0.13,\n",
    "            0.14,\n",
    "            0.15,\n",
    "            0.16,\n",
    "            0.17,\n",
    "            0.18,\n",
    "            0.19,\n",
    "            0.2,\n",
    "        ]\n",
    "    }\n",
    "}\n",
    "```"
   ]
  },
  {
   "cell_type": "markdown",
   "id": "e2b00b0c-09c7-4361-a911-04a020ca22b6",
   "metadata": {},
   "source": [
    "Let's analyze the different parts of this input json file:\n",
    "\n",
    "* `label` is a name you want to give to this experiment\n",
    "* `method` specifies the simulation method. For the moment, there are two different methods: `direct` and `splitting`. The direct method consists in sampling independent errors at each Monte-Carlo round, while the splitting method samples errors using a Monte-Carlo Markov Chain algorithm introduced in [this paper](https://arxiv.org/abs/1308.6270) by Bravyi and Vargo. The splitting method has not been as thoroughly tested as the direct one in PanQEC at the moment, and we would advise against using it.\n",
    "* `code`: name and parameters of the code. The list of all codes can be found using the command line `panqec ls codes`. `L_x`, `L_y` (and `L_z` for 3D codes) define the lattice dimensions.\n",
    "* `error_model`: name and parameters of the error model. At the moment, there is only one error model called `PauliErrorModel`, which samples i.i.d Pauli errors at each run, without any measurement error. It is specified by three parameters, (`r_x`, `r_y`, `r_z`), which define the rate of Pauli $X$, $Y$ and $Z$ errors respectively. They should therefore all lie between $0$ and $1$ and satisfy the constraint $r_x+r_y+r_z=1$.\n",
    "* `decoder`: name and parameters of the decoder. The list of all decoders can be found using the command line `panqec ls decoders`.\n",
    "* `error_rate`: list of physical error rates included in the simulation."
   ]
  },
  {
   "cell_type": "markdown",
   "id": "20e94a05-138c-419d-a262-e9d246c3de83",
   "metadata": {},
   "source": [
    "The above input file can be generated by using the `panqec generate-input` command as follows."
   ]
  },
  {
   "cell_type": "markdown",
   "id": "ac70fb60-ff86-4367-8643-b55749dcbadd",
   "metadata": {},
   "source": [
    "```bash\n",
    "panqec generate-input -d \"my-experiment\" \\\n",
    "    --code_class Toric2DCode --sizes \"5x5,7x7,9x9\" \\\n",
    "    --decoder_class MatchingDecoder \\\n",
    "    --bias \"Z\" --eta \"0.5\" \\\n",
    "    --prob \"0.1:0.2:0.01\"\n",
    "```"
   ]
  },
  {
   "cell_type": "markdown",
   "id": "b11c2b83-ff3c-4a49-b342-21984efc6053",
   "metadata": {},
   "source": [
    "The above command will create a directory called `my-experiment` in the current working directory with the file structure previously described. Specifically, the input file will be written to `my-experiment/inputs/experiment.json`, which you may inspect.\n",
    "\n",
    "The only non-obvious parameters might be `bias` and `eta`. The parameter `bias` can be either `X`, `Y` or `Z`, and `eta` can be any value between `0.5` and `inf`, where `eta=0.5` corresponds to depolarizing noise and `eta=inf` to pure {X,Y,Z} noise (depending on the value of `bias`). See `panqec generate-input --help` for more information."
   ]
  },
  {
   "cell_type": "markdown",
   "id": "f60aebfa-02a2-4647-941c-102406132e08",
   "metadata": {},
   "source": [
    "To test that the input file is correct and that all the libraries are correctly installed, we recommand you to do a mock run with the following command:"
   ]
  },
  {
   "cell_type": "markdown",
   "id": "deeeb144-6267-406b-b6fa-379b25d2bbc7",
   "metadata": {},
   "source": [
    "```bash\n",
    "panqec run -i my-experiment/inputs/experiment.json -o mock.json.gz -t 10\n",
    "```"
   ]
  },
  {
   "cell_type": "markdown",
   "id": "0054314e-f9a6-46b8-9670-dfd296a51576",
   "metadata": {},
   "source": [
    "This will run your experiment with 10 trials and store the result in a compressed json file `mock.json.gz`"
   ]
  },
  {
   "cell_type": "markdown",
   "id": "b2b2769f-3cc6-4264-b6c2-550f9d512b3e",
   "metadata": {},
   "source": [
    "## Generating cluster script"
   ]
  },
  {
   "cell_type": "markdown",
   "id": "62fd323a-1da8-4da1-aa44-47607116db20",
   "metadata": {},
   "source": [
    "PanQEC has a command to automatically generate a cluster script, namely `panqec generate-cluster-script`. Its first input is a *header file*. It should contain the template for the first few lines a cluster script, which must be tailored for your specific cluster. Here is an example of a header file for Slurm (note that your cluster may require a slightly different format):"
   ]
  },
  {
   "cell_type": "markdown",
   "id": "6bf94765-2a98-4fcd-bb9f-3d1fbd1051de",
   "metadata": {},
   "source": [
    "```bash\n",
    "#!/bin/bash\n",
    "#SBATCH -N 1\n",
    "#SBATCH -t ${TIME}\n",
    "#SBATCH --cpus-per-task=${N_CORES}\n",
    "#SBATCH --exclusive\n",
    "#SBATCH --job-name=${NAME}\n",
    "#SBATCH --array=1-${N_NODES}\n",
    "#SBATCH --mem=${MEMORY}\n",
    "#SBATCH -p ${QUEUE}\n",
    "#SBATCH --output=${DATA_DIR}/%j.out\n",
    "\n",
    "module purge\n",
    "module load gcc/devtoolset/9\n",
    "module load anaconda/anaconda3.7\n",
    "source ~/.bashrc\n",
    "```"
   ]
  },
  {
   "cell_type": "markdown",
   "id": "93817027-8327-47cc-8b6a-00ac669b360d",
   "metadata": {},
   "source": [
    "All the variables enclosed by `${}` will be replaced by an actual value in generated cluster scripts. \n",
    "Once you have this header ready, let's say in a file `slurm_header.sbatch`, you can run the following command:"
   ]
  },
  {
   "cell_type": "markdown",
   "id": "f44755bd-90f9-48e0-b64a-d499df4e0675",
   "metadata": {},
   "source": [
    "```bash\n",
    "panqec generate-cluster-script \\\n",
    "       slurm_header.sbatch \\\n",
    "       --output-file my-experiment/run.sbatch \\\n",
    "       --data-dir my-experiment \\\n",
    "       --cluster slurm \\\n",
    "       --trials 10000 \\\n",
    "       --n-nodes 8 \\\n",
    "       --n-cores 5 \\\n",
    "       --wall-time \"00:10:00\" \\\n",
    "       --memory \"1G\" \\\n",
    "       --partition debug \\\n",
    "       --delete-existing\n",
    "```"
   ]
  },
  {
   "cell_type": "markdown",
   "id": "79a6c67b-d4b4-4ae7-b3ec-8628969e690f",
   "metadata": {},
   "source": [
    "You should now have the following content in the generated cluster script `my-experiment/run.sbatch`:"
   ]
  },
  {
   "cell_type": "markdown",
   "id": "a6423798-7fc0-4f10-8e55-b182793af25a",
   "metadata": {},
   "source": [
    "```bash\n",
    "#!/bin/bash\n",
    "#SBATCH -N 1\n",
    "#SBATCH -t 00:10:00\n",
    "#SBATCH --cpus-per-task=5\n",
    "#SBATCH --exclusive\n",
    "#SBATCH --job-name=my-experiment\n",
    "#SBATCH --array=1-8\n",
    "#SBATCH --mem=1G\n",
    "#SBATCH -p debug\n",
    "#SBATCH --output=my-experiment/%j.out\n",
    "\n",
    "module purge\n",
    "module load gcc/devtoolset/9\n",
    "module load anaconda/anaconda3.7\n",
    "source ~/.bashrc\n",
    "\n",
    "panqec monitor-usage my-experiment/logs/usage_$SLURM_JOB_ID_$SLURM_ARRAY_TASK_ID.txt &\n",
    "\n",
    "panqec run-parallel -d my-experiment -n 8 -j $SLURM_ARRAY_TASK_ID -c 5 -t 10000 --delete-existing\n",
    "\n",
    "date\n",
    "```"
   ]
  },
  {
   "cell_type": "markdown",
   "id": "e8b82b32-b41c-419c-a46d-fd1eeac6f2c2",
   "metadata": {},
   "source": [
    "As you can see, it first contains a command to monitor the resource usage (CPU and RAM), which will be stored in the logs directory. The second command, `run-parallel`, parallelizes the 10000 Monte Carlo trials over all the nodes and cores, and runs the simulation on the current node of the job array."
   ]
  },
  {
   "cell_type": "markdown",
   "id": "8289ee67-3c8c-4990-aba1-06ccf9f9dc85",
   "metadata": {},
   "source": [
    "## Running the script and checking progress"
   ]
  },
  {
   "cell_type": "markdown",
   "id": "bb65d105-26a9-4139-af40-7296e41063dd",
   "metadata": {},
   "source": [
    "Simply run the script generated above with your cluster system command to submit jobs. For instance, in Slurm, enter:"
   ]
  },
  {
   "cell_type": "markdown",
   "id": "d40e5b60-7beb-4974-827c-bfa4f4b862fa",
   "metadata": {},
   "source": [
    "```bash\n",
    "sbatch my-experiment/run.sbatch\n",
    "```"
   ]
  },
  {
   "cell_type": "markdown",
   "id": "20368fca-d022-4417-985d-0a3cfc22f64e",
   "metadata": {},
   "source": [
    "You can check the progress of the experiment with the command"
   ]
  },
  {
   "cell_type": "markdown",
   "id": "29a1cf4f-f695-4014-8eed-8d7980cad137",
   "metadata": {},
   "source": [
    "```bash\n",
    "panqec check-progress my-experiment/logs\n",
    "```"
   ]
  },
  {
   "cell_type": "markdown",
   "id": "f1467e1c-efd1-4178-a710-0b6069d4ae9d",
   "metadata": {},
   "source": [
    "The above will display a progress bar shown how much has been completed.\n",
    "You can add the option `-a` to inspect the progress on all the cores individually"
   ]
  },
  {
   "cell_type": "markdown",
   "id": "3d695659-8d78-4905-8c29-8ca0915f3285",
   "metadata": {},
   "source": [
    "You can also graphically check the usage of available resources using\n",
    "```\n",
    "panqec check-usage my-experiment/\n",
    "```\n",
    "which will plot the RAM and CPU usage over time in the command line."
   ]
  },
  {
   "cell_type": "markdown",
   "id": "aab0871f-0806-43d6-ac30-aa7ddb3c1915",
   "metadata": {},
   "source": [
    "## Aggregating and analyzing results"
   ]
  },
  {
   "cell_type": "markdown",
   "id": "6adfeda0-8ab0-4d5b-b7ee-be015eef7312",
   "metadata": {},
   "source": [
    "Once the experiment is running, all the results will be regularly saved in the files `my-experiment/results/results_[i].json.gz` where `[i]` is the index of the core. At any moment during the experiment, you can merge the results into a single file and send it to your laptop for analysis. Here is the command you need to run:"
   ]
  },
  {
   "cell_type": "markdown",
   "id": "ca4b9b7d-965b-4375-9bd3-29bdd8aa78d1",
   "metadata": {},
   "source": [
    "```bash\n",
    "panqec merge-results my-experiment/results/results_* -o my-experiments/merged-results.json.gz\n",
    "```"
   ]
  },
  {
   "cell_type": "markdown",
   "id": "afd73265-eb77-4e95-965e-d65d1a778584",
   "metadata": {},
   "source": [
    "You can then send the file `my-experiment/merged-results.json.gz` to your laptop using `scp`, `rsync` or an equivalent method. For example, if `my-experiment` is in your cluster's home directory then you can sync it to a local directory called `my-experiment/` on your laptop by running the following command on your laptop:\n",
    "```\n",
    "rsync -avzhe ssh user@example.com:~/my-experiments/merged-results.json.gz my-experiment/\n",
    "```\n",
    "Of course, you should replace `user` and `example.com` with your appropriate username and cluster URL."
   ]
  },
  {
   "cell_type": "markdown",
   "id": "09cc1736-ec76-412e-8fcb-8c414470aa07",
   "metadata": {},
   "source": [
    "The following piece of code, which you can run locally on a Jupyter Notebook, will allow you to quickly visualize the obtained data and estimate the threshold."
   ]
  },
  {
   "cell_type": "code",
   "execution_count": 1,
   "id": "e1db573b-4c71-4a02-8ccf-490a539711ec",
   "metadata": {},
   "outputs": [
    {
     "data": {
      "image/png": "[encoded data removed]",
      "text/plain": [
       "<Figure size 640x480 with 1 Axes>"
      ]
     },
     "metadata": {},
     "output_type": "display_data"
    }
   ],
   "source": [
    "from panqec.analysis import Analysis\n",
    "analysis = Analysis(\"my-experiment/merged-results.json.gz\")\n",
    "analysis.plot_thresholds()"
   ]
  },
  {
   "cell_type": "markdown",
   "id": "071e5a40-0b23-4c4e-af42-73df5809396a",
   "metadata": {},
   "source": [
    "If you wish to inspect the data yourself, just use the `get_results()` method.\n",
    "For example,"
   ]
  },
  {
   "cell_type": "code",
   "execution_count": 3,
   "id": "cbb746c0-d37d-4a39-9588-b0c222614eb4",
   "metadata": {},
   "outputs": [
    {
     "data": {
      "text/html": [
       "<div>\n",
       "<style scoped>\n",
       "    .dataframe tbody tr th:only-of-type {\n",
       "        vertical-align: middle;\n",
       "    }\n",
       "\n",
       "    .dataframe tbody tr th {\n",
       "        vertical-align: top;\n",
       "    }\n",
       "\n",
       "    .dataframe thead th {\n",
       "        text-align: right;\n",
       "    }\n",
       "</style>\n",
       "<table border=\"1\" class=\"dataframe\">\n",
       "  <thead>\n",
       "    <tr style=\"text-align: right;\">\n",
       "      <th></th>\n",
       "      <th>code</th>\n",
       "      <th>d</th>\n",
       "      <th>error_model</th>\n",
       "      <th>bias</th>\n",
       "      <th>decoder</th>\n",
       "      <th>error_rate</th>\n",
       "      <th>n_fail</th>\n",
       "      <th>n_trials</th>\n",
       "    </tr>\n",
       "  </thead>\n",
       "  <tbody>\n",
       "    <tr>\n",
       "      <th>0</th>\n",
       "      <td>Toric2DCode</td>\n",
       "      <td>5</td>\n",
       "      <td>PauliErrorModel</td>\n",
       "      <td>0.5</td>\n",
       "      <td>MatchingDecoder</td>\n",
       "      <td>0.10</td>\n",
       "      <td>1347</td>\n",
       "      <td>10000</td>\n",
       "    </tr>\n",
       "    <tr>\n",
       "      <th>1</th>\n",
       "      <td>Toric2DCode</td>\n",
       "      <td>5</td>\n",
       "      <td>PauliErrorModel</td>\n",
       "      <td>0.5</td>\n",
       "      <td>MatchingDecoder</td>\n",
       "      <td>0.11</td>\n",
       "      <td>1821</td>\n",
       "      <td>10000</td>\n",
       "    </tr>\n",
       "    <tr>\n",
       "      <th>2</th>\n",
       "      <td>Toric2DCode</td>\n",
       "      <td>5</td>\n",
       "      <td>PauliErrorModel</td>\n",
       "      <td>0.5</td>\n",
       "      <td>MatchingDecoder</td>\n",
       "      <td>0.12</td>\n",
       "      <td>2284</td>\n",
       "      <td>10000</td>\n",
       "    </tr>\n",
       "    <tr>\n",
       "      <th>3</th>\n",
       "      <td>Toric2DCode</td>\n",
       "      <td>5</td>\n",
       "      <td>PauliErrorModel</td>\n",
       "      <td>0.5</td>\n",
       "      <td>MatchingDecoder</td>\n",
       "      <td>0.13</td>\n",
       "      <td>2841</td>\n",
       "      <td>10000</td>\n",
       "    </tr>\n",
       "    <tr>\n",
       "      <th>4</th>\n",
       "      <td>Toric2DCode</td>\n",
       "      <td>5</td>\n",
       "      <td>PauliErrorModel</td>\n",
       "      <td>0.5</td>\n",
       "      <td>MatchingDecoder</td>\n",
       "      <td>0.14</td>\n",
       "      <td>3249</td>\n",
       "      <td>10000</td>\n",
       "    </tr>\n",
       "    <tr>\n",
       "      <th>5</th>\n",
       "      <td>Toric2DCode</td>\n",
       "      <td>5</td>\n",
       "      <td>PauliErrorModel</td>\n",
       "      <td>0.5</td>\n",
       "      <td>MatchingDecoder</td>\n",
       "      <td>0.15</td>\n",
       "      <td>3931</td>\n",
       "      <td>10000</td>\n",
       "    </tr>\n",
       "    <tr>\n",
       "      <th>6</th>\n",
       "      <td>Toric2DCode</td>\n",
       "      <td>5</td>\n",
       "      <td>PauliErrorModel</td>\n",
       "      <td>0.5</td>\n",
       "      <td>MatchingDecoder</td>\n",
       "      <td>0.16</td>\n",
       "      <td>4355</td>\n",
       "      <td>10000</td>\n",
       "    </tr>\n",
       "    <tr>\n",
       "      <th>7</th>\n",
       "      <td>Toric2DCode</td>\n",
       "      <td>5</td>\n",
       "      <td>PauliErrorModel</td>\n",
       "      <td>0.5</td>\n",
       "      <td>MatchingDecoder</td>\n",
       "      <td>0.17</td>\n",
       "      <td>4781</td>\n",
       "      <td>10000</td>\n",
       "    </tr>\n",
       "    <tr>\n",
       "      <th>8</th>\n",
       "      <td>Toric2DCode</td>\n",
       "      <td>5</td>\n",
       "      <td>PauliErrorModel</td>\n",
       "      <td>0.5</td>\n",
       "      <td>MatchingDecoder</td>\n",
       "      <td>0.18</td>\n",
       "      <td>5428</td>\n",
       "      <td>10000</td>\n",
       "    </tr>\n",
       "    <tr>\n",
       "      <th>9</th>\n",
       "      <td>Toric2DCode</td>\n",
       "      <td>5</td>\n",
       "      <td>PauliErrorModel</td>\n",
       "      <td>0.5</td>\n",
       "      <td>MatchingDecoder</td>\n",
       "      <td>0.19</td>\n",
       "      <td>5820</td>\n",
       "      <td>10000</td>\n",
       "    </tr>\n",
       "  </tbody>\n",
       "</table>\n",
       "</div>"
      ],
      "text/plain": [
       "          code  d      error_model  bias          decoder  error_rate  n_fail  \\\n",
       "0  Toric2DCode  5  PauliErrorModel   0.5  MatchingDecoder        0.10    1347   \n",
       "1  Toric2DCode  5  PauliErrorModel   0.5  MatchingDecoder        0.11    1821   \n",
       "2  Toric2DCode  5  PauliErrorModel   0.5  MatchingDecoder        0.12    2284   \n",
       "3  Toric2DCode  5  PauliErrorModel   0.5  MatchingDecoder        0.13    2841   \n",
       "4  Toric2DCode  5  PauliErrorModel   0.5  MatchingDecoder        0.14    3249   \n",
       "5  Toric2DCode  5  PauliErrorModel   0.5  MatchingDecoder        0.15    3931   \n",
       "6  Toric2DCode  5  PauliErrorModel   0.5  MatchingDecoder        0.16    4355   \n",
       "7  Toric2DCode  5  PauliErrorModel   0.5  MatchingDecoder        0.17    4781   \n",
       "8  Toric2DCode  5  PauliErrorModel   0.5  MatchingDecoder        0.18    5428   \n",
       "9  Toric2DCode  5  PauliErrorModel   0.5  MatchingDecoder        0.19    5820   \n",
       "\n",
       "   n_trials  \n",
       "0     10000  \n",
       "1     10000  \n",
       "2     10000  \n",
       "3     10000  \n",
       "4     10000  \n",
       "5     10000  \n",
       "6     10000  \n",
       "7     10000  \n",
       "8     10000  \n",
       "9     10000  "
      ]
     },
     "execution_count": 3,
     "metadata": {},
     "output_type": "execute_result"
    }
   ],
   "source": [
    "df = analysis.get_results()\n",
    "df[['code', 'd', 'error_model', 'bias', 'decoder', 'error_rate', 'n_fail', 'n_trials']].head(10)"
   ]
  },
  {
   "cell_type": "markdown",
   "id": "e354b33f-0aab-4ede-9b34-b1ef1e190a24",
   "metadata": {},
   "source": [
    "In the above table, `error_rate` is the physical error rate,\n",
    "`n_fail` is the number of decoding failures and `n_trials` is the number of trials simulated."
   ]
  },
  {
   "cell_type": "markdown",
   "id": "8643485e-45fc-42c6-b324-39f9fb7cabef",
   "metadata": {},
   "source": [
    "You can also inspect the numerical values of the threshold estimates."
   ]
  },
  {
   "cell_type": "code",
   "execution_count": 4,
   "id": "385d757c-52ec-4d8e-a134-d5c7fbfdafbf",
   "metadata": {},
   "outputs": [
    {
     "data": {
      "text/html": [
       "<div>\n",
       "<style scoped>\n",
       "    .dataframe tbody tr th:only-of-type {\n",
       "        vertical-align: middle;\n",
       "    }\n",
       "\n",
       "    .dataframe tbody tr th {\n",
       "        vertical-align: top;\n",
       "    }\n",
       "\n",
       "    .dataframe thead th {\n",
       "        text-align: right;\n",
       "    }\n",
       "</style>\n",
       "<table border=\"1\" class=\"dataframe\">\n",
       "  <thead>\n",
       "    <tr style=\"text-align: right;\">\n",
       "      <th></th>\n",
       "      <th>code</th>\n",
       "      <th>error_model</th>\n",
       "      <th>bias</th>\n",
       "      <th>p_th_fss</th>\n",
       "      <th>p_th_fss_left</th>\n",
       "      <th>p_th_fss_right</th>\n",
       "    </tr>\n",
       "  </thead>\n",
       "  <tbody>\n",
       "    <tr>\n",
       "      <th>0</th>\n",
       "      <td>Toric2DCode</td>\n",
       "      <td>PauliErrorModel</td>\n",
       "      <td>0.5</td>\n",
       "      <td>0.144347</td>\n",
       "      <td>0.14033</td>\n",
       "      <td>0.147065</td>\n",
       "    </tr>\n",
       "  </tbody>\n",
       "</table>\n",
       "</div>"
      ],
      "text/plain": [
       "          code      error_model  bias  p_th_fss  p_th_fss_left  p_th_fss_right\n",
       "0  Toric2DCode  PauliErrorModel   0.5  0.144347        0.14033        0.147065"
      ]
     },
     "execution_count": 4,
     "metadata": {},
     "output_type": "execute_result"
    }
   ],
   "source": [
    "analysis.thresholds[['code', 'error_model', 'bias', 'p_th_fss', 'p_th_fss_left', 'p_th_fss_right']]"
   ]
  },
  {
   "cell_type": "markdown",
   "id": "72b0e034-310e-4106-9995-61863addfb9d",
   "metadata": {},
   "source": [
    "In the above table, `p_th_fss` is the threshold estimate by finite-size scaling and\n",
    "`p_th_fss_left` and `p_th_fss_right` are left and right $1\\sigma$ CI bounds on the estimate."
   ]
  },
  {
   "cell_type": "markdown",
   "id": "a12a5361-7a13-4a69-81b2-3de1356dd1d2",
   "metadata": {},
   "source": [
    "More detailed on the `Analysis` class can be found in the tutorial [Computing the Threshold of the Surface Code](/tutorials/Computing%20threshold.html) and in [the documentation](/analysis.html)."
   ]
  }
 ],
 "metadata": {
  "kernelspec": {
   "display_name": "Python 3 (ipykernel)",
   "language": "python",
   "name": "python3"
  },
  "language_info": {
   "codemirror_mode": {
    "name": "ipython",
    "version": 3
   },
   "file_extension": ".py",
   "mimetype": "text/x-python",
   "name": "python",
   "nbconvert_exporter": "python",
   "pygments_lexer": "ipython3",
   "version": "3.10.8"
  }
 },
 "nbformat": 4,
 "nbformat_minor": 5
}
