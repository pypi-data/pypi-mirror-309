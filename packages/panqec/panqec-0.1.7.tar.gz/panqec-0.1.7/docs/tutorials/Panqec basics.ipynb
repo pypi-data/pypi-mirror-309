{
 "cells": [
  {
   "cell_type": "markdown",
   "id": "002545f1-d210-4b76-8856-67d8626a871a",
   "metadata": {},
   "source": [
    "# PanQEC basics\n",
    "\n",
    "In this tutorial, we will learn how the library is structured and what we can do with it."
   ]
  },
  {
   "cell_type": "markdown",
   "id": "68615ab6-2701-4312-8746-b7ae4fdb3548",
   "metadata": {},
   "source": [
    "## Codes, noise models and decoders"
   ]
  },
  {
   "cell_type": "markdown",
   "id": "efc3bb7f-0557-407d-8293-eee51d3c4878",
   "metadata": {},
   "source": [
    "PanQEC is made of three main ingredients: the codes, the noise models and the decoders. Let's take a look at an example of how those components can interact."
   ]
  },
  {
   "cell_type": "code",
   "execution_count": 1,
   "id": "78549907",
   "metadata": {},
   "outputs": [],
   "source": [
    "from panqec.codes import Toric2DCode\n",
    "from panqec.error_models import PauliErrorModel\n",
    "from panqec.decoders import MatchingDecoder"
   ]
  },
  {
   "cell_type": "markdown",
   "id": "8a2e20e4",
   "metadata": {},
   "source": [
    "Let's start by instantiating the following elements:\n",
    "\n",
    "1. A 2D toric code of lattice size $L=4$\n",
    "\n",
    "2. A Pauli error model where 20% of errors are Pauli $X$ errors, 30% are Pauli $Y$, and 50% Pauli $Z$, and the total probability of error is $p=0.1$, which is called the physical error rate.\n",
    "\n",
    "3. A minimum-weight perfect matching decoder based on the library [PyMatching](https://pymatching.readthedocs.io)"
   ]
  },
  {
   "cell_type": "code",
   "execution_count": 2,
   "id": "144e1aca",
   "metadata": {},
   "outputs": [],
   "source": [
    "code = Toric2DCode(4)\n",
    "\n",
    "error_model = PauliErrorModel(0.2, 0.3, 0.5)\n",
    "p = 0.1\n",
    "\n",
    "decoder = MatchingDecoder(code, error_model, p)"
   ]
  },
  {
   "cell_type": "markdown",
   "id": "bbe81bc2",
   "metadata": {},
   "source": [
    "We can then use the error model to generate some errors, from which we can extract a syndrome"
   ]
  },
  {
   "cell_type": "code",
   "execution_count": 3,
   "id": "6d75915b",
   "metadata": {},
   "outputs": [
    {
     "name": "stdout",
     "output_type": "stream",
     "text": [
      "Errors:  [0 1 0 0 0 0 0 0 0 1 0 0 0 0 0 0 0 0 0 0 0 0 0 0 0 0 0 0 0 0 0 0 0 1 0 0 0\n",
      " 0 0 0 0 0 0 0 0 0 0 0 0 0 0 0 0 0 0 0 0 0 1 0 0 0 0 0]\n",
      "Syndrome:  [0 1 0 0 0 1 0 0 0 1 0 0 0 1 0 0 1 1 0 0 0 0 1 0 0 0 1 0 0 0 0 0]\n"
     ]
    }
   ],
   "source": [
    "errors = error_model.generate(code, p)\n",
    "syndrome = code.measure_syndrome(errors)\n",
    "\n",
    "print(\"Errors: \", errors)\n",
    "print(\"Syndrome: \", syndrome)"
   ]
  },
  {
   "cell_type": "markdown",
   "id": "ccc3c70a",
   "metadata": {},
   "source": [
    "The error vector is represented in the so-called **binary symplectic format**. It is an array of size $2n$ (with $n$ the number of physical qubits), such that the first half of the array describes the presence or absence of Pauli $X$ operators, and the second half of Pauli $Z$ operators."
   ]
  },
  {
   "cell_type": "markdown",
   "id": "4e5a3617",
   "metadata": {},
   "source": [
    "And finally we can decode the syndrome using our matching decoder, and check if the decoding succeeded"
   ]
  },
  {
   "cell_type": "code",
   "execution_count": 4,
   "id": "3c524d74",
   "metadata": {},
   "outputs": [
    {
     "name": "stdout",
     "output_type": "stream",
     "text": [
      "Correction:  [0 1 0 0 0 0 0 0 0 1 0 0 0 0 0 0 0 0 0 0 0 0 0 0 0 0 0 0 0 0 0 0 0 1 0 0 0\n",
      " 0 0 0 0 0 0 0 0 0 0 0 0 0 0 0 0 0 0 0 0 0 1 0 0 0 0 0]\n",
      "Residual error:  [0 0 0 0 0 0 0 0 0 0 0 0 0 0 0 0 0 0 0 0 0 0 0 0 0 0 0 0 0 0 0 0 0 0 0 0 0\n",
      " 0 0 0 0 0 0 0 0 0 0 0 0 0 0 0 0 0 0 0 0 0 0 0 0 0 0 0]\n",
      "Is in codespace:  True\n",
      "Logical errors:  [0 0 0 0]\n",
      "Success:  True\n"
     ]
    }
   ],
   "source": [
    "# Obtain the correction by decoding the syndrome\n",
    "correction = decoder.decode(syndrome)\n",
    "print(\"Correction: \", correction)\n",
    "\n",
    "# Get the remaining error once the correction has been applied\n",
    "residual_error = (correction + errors) % 2\n",
    "print(\"Residual error: \", residual_error)\n",
    "\n",
    "# Check whether the residual error is in the codespace \n",
    "# (i.e. whether there is any remaining excitation)\n",
    "in_codespace = code.in_codespace(residual_error)\n",
    "print(\"Is in codespace: \", in_codespace)\n",
    "\n",
    "# Get the logical errors\n",
    "logical_errors = code.logical_errors(residual_error)\n",
    "print(\"Logical errors: \", logical_errors)\n",
    "\n",
    "# Check whether the decoding succeeded\n",
    "success = not code.is_logical_error(residual_error) and in_codespace\n",
    "print(\"Success: \", success)"
   ]
  },
  {
   "cell_type": "markdown",
   "id": "14bb0eca",
   "metadata": {},
   "source": [
    "## Code properties"
   ]
  },
  {
   "cell_type": "markdown",
   "id": "db8c613b",
   "metadata": {},
   "source": [
    "### $[[n, k, d]]$"
   ]
  },
  {
   "cell_type": "markdown",
   "id": "3c7e6b4e",
   "metadata": {},
   "source": [
    "The first properties we might want to extract from a code are the number of physical qubits $n$, the number of logical qubits $k$, and the distance $d$ of the code."
   ]
  },
  {
   "cell_type": "code",
   "execution_count": 5,
   "id": "7236c7ab",
   "metadata": {},
   "outputs": [
    {
     "name": "stdout",
     "output_type": "stream",
     "text": [
      "[[n,k,d]]=[[32,2,4]]\n"
     ]
    }
   ],
   "source": [
    "code = code = Toric2DCode(4)\n",
    "\n",
    "print(f\"[[n,k,d]]=[[{code.n},{code.k},{code.d}]]\")"
   ]
  },
  {
   "cell_type": "markdown",
   "id": "c9891082",
   "metadata": {},
   "source": [
    "### Parity-check matrix"
   ]
  },
  {
   "cell_type": "markdown",
   "id": "32cca3d0",
   "metadata": {},
   "source": [
    "From a computational perspective, a code is entirely described by its parity-check matrix. We can extract it using `code.stabilizer_matrix`:"
   ]
  },
  {
   "cell_type": "code",
   "execution_count": 6,
   "id": "48093e3a",
   "metadata": {},
   "outputs": [
    {
     "data": {
      "text/plain": [
       "<32x64 sparse matrix of type '<class 'numpy.uint8'>'\n",
       "\twith 128 stored elements in Compressed Sparse Row format>"
      ]
     },
     "execution_count": 6,
     "metadata": {},
     "output_type": "execute_result"
    }
   ],
   "source": [
    "code.stabilizer_matrix"
   ]
  },
  {
   "cell_type": "markdown",
   "id": "2e42881e",
   "metadata": {},
   "source": [
    "As you can see from the output, the parity-check matrix is represented in a sparse format (as a [scipy.sparse.csr_matrix](https://docs.scipy.org/doc/scipy/reference/generated/scipy.sparse.csr_matrix.html)), meaning that only the 1s are stored in memory. If you need it as a (dense) numpy array, you can use the method `.toarray()` to do the conversion:"
   ]
  },
  {
   "cell_type": "code",
   "execution_count": 7,
   "id": "ec9efd28",
   "metadata": {},
   "outputs": [
    {
     "data": {
      "text/plain": [
       "array([[0, 0, 0, ..., 0, 0, 0],\n",
       "       [0, 0, 0, ..., 0, 0, 0],\n",
       "       [0, 0, 0, ..., 0, 0, 0],\n",
       "       ...,\n",
       "       [0, 0, 0, ..., 0, 0, 0],\n",
       "       [0, 0, 0, ..., 0, 0, 0],\n",
       "       [0, 0, 0, ..., 0, 0, 0]], dtype=uint8)"
      ]
     },
     "execution_count": 7,
     "metadata": {},
     "output_type": "execute_result"
    }
   ],
   "source": [
    "code.stabilizer_matrix.toarray()"
   ]
  },
  {
   "cell_type": "markdown",
   "id": "dd65f21e",
   "metadata": {},
   "source": [
    "Just like the error vectors, parity-check matrices are stored in binary symplectic format"
   ]
  },
  {
   "cell_type": "markdown",
   "id": "4fa34f9a",
   "metadata": {},
   "source": [
    "For CSS codes, the stabilizer matrix can be separated into $H_X$ and $H_Z$ submatrices, made respectively of $X$ and $Z$ pauli operators. In the case of the 2D toric code, $H_X$ describes the vertex stabilizers and $H_Z$ the face stabilizers. It is possible to extract those matrices using the properties `code.Hx` and `code.Hz` of CSS codes:"
   ]
  },
  {
   "cell_type": "code",
   "execution_count": 8,
   "id": "33db20f6",
   "metadata": {},
   "outputs": [
    {
     "name": "stdout",
     "output_type": "stream",
     "text": [
      "Is CSS:  True\n",
      "Hx shape (16, 32)\n",
      "Hz shape (16, 32)\n"
     ]
    }
   ],
   "source": [
    "# Check that the code is CSS\n",
    "print(\"Is CSS: \", code.is_css)\n",
    "\n",
    "# Extract Hx and Hz\n",
    "print(\"Hx shape\", code.Hx.shape)\n",
    "print(\"Hz shape\", code.Hz.shape)"
   ]
  },
  {
   "cell_type": "markdown",
   "id": "3a5a76f2",
   "metadata": {},
   "source": [
    "When dealing with CSS codes, it is sometimes useful to get the $X$ part and the $Z$ part of the syndrome separately. For instance, in the 2D toric code, you might want to decode vertex and face excitations in different steps. Here is how to decompose the syndrome in PanQEC:"
   ]
  },
  {
   "cell_type": "code",
   "execution_count": 9,
   "id": "95756207",
   "metadata": {},
   "outputs": [
    {
     "name": "stdout",
     "output_type": "stream",
     "text": [
      "Vertex syndrome [0 0 1 1 0 1 0 0 1 0 1 0 0 0 0 1]\n",
      "Face syndrome [0 0 0 0 0 0 1 0 0 0 0 1 0 0 0 0]\n"
     ]
    }
   ],
   "source": [
    "error_model = PauliErrorModel(0.2, 0.3, 0.5)\n",
    "p = 0.1\n",
    "errors = error_model.generate(code, p)\n",
    "syndrome = code.measure_syndrome(errors)\n",
    "\n",
    "vertex_syndrome = code.extract_x_syndrome(syndrome)\n",
    "face_syndrome = code.extract_z_syndrome(syndrome)\n",
    "\n",
    "print(\"Vertex syndrome\", vertex_syndrome)\n",
    "print(\"Face syndrome\", face_syndrome)"
   ]
  },
  {
   "cell_type": "markdown",
   "id": "5ecb4141",
   "metadata": {},
   "source": [
    "### Logical operators"
   ]
  },
  {
   "cell_type": "markdown",
   "id": "08dd9407",
   "metadata": {},
   "source": [
    "Codes are also provided with logical operators, that you can access using `code.logicals_x` and `code.logicals_z`. They will give you arrays with $2n$ columns and one logical operator per row (in binary symplectic format)."
   ]
  },
  {
   "cell_type": "code",
   "execution_count": 10,
   "id": "d884aa94",
   "metadata": {},
   "outputs": [
    {
     "name": "stdout",
     "output_type": "stream",
     "text": [
      "Logicals X [[1 0 0 0 1 0 0 0 1 0 0 0 1 0 0 0 0 0 0 0 0 0 0 0 0 0 0 0 0 0 0 0 0 0 0 0\n",
      "  0 0 0 0 0 0 0 0 0 0 0 0 0 0 0 0 0 0 0 0 0 0 0 0 0 0 0 0]\n",
      " [0 0 0 0 0 0 0 0 0 0 0 0 0 0 0 0 1 1 1 1 0 0 0 0 0 0 0 0 0 0 0 0 0 0 0 0\n",
      "  0 0 0 0 0 0 0 0 0 0 0 0 0 0 0 0 0 0 0 0 0 0 0 0 0 0 0 0]]\n",
      "Logicals Z [[0 0 0 0 0 0 0 0 0 0 0 0 0 0 0 0 0 0 0 0 0 0 0 0 0 0 0 0 0 0 0 0 1 1 1 1\n",
      "  0 0 0 0 0 0 0 0 0 0 0 0 0 0 0 0 0 0 0 0 0 0 0 0 0 0 0 0]\n",
      " [0 0 0 0 0 0 0 0 0 0 0 0 0 0 0 0 0 0 0 0 0 0 0 0 0 0 0 0 0 0 0 0 0 0 0 0\n",
      "  0 0 0 0 0 0 0 0 0 0 0 0 1 0 0 0 1 0 0 0 1 0 0 0 1 0 0 0]]\n"
     ]
    }
   ],
   "source": [
    "print(\"Logicals X\", code.logicals_x)\n",
    "print(\"Logicals Z\", code.logicals_z)"
   ]
  }
 ],
 "metadata": {
  "interpreter": {
   "hash": "67534835c7f42cb62191e54e7cd8c2e031277e78b15f3a583b96a0caadea09cb"
  },
  "kernelspec": {
   "display_name": "Python 3.8.13 ('panqec')",
   "language": "python",
   "name": "python3"
  },
  "language_info": {
   "codemirror_mode": {
    "name": "ipython",
    "version": 3
   },
   "file_extension": ".py",
   "mimetype": "text/x-python",
   "name": "python",
   "nbconvert_exporter": "python",
   "pygments_lexer": "ipython3",
   "version": "3.8.13"
  }
 },
 "nbformat": 4,
 "nbformat_minor": 5
}
