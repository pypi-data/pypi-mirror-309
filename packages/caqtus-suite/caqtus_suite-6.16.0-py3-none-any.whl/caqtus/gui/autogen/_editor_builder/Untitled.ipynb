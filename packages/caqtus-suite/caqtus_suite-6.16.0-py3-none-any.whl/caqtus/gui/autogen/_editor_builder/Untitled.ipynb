{
 "cells": [
  {
   "cell_type": "code",
   "execution_count": 1,
   "id": "f29b76b7-5c13-488c-9171-9db00f66ce97",
   "metadata": {},
   "outputs": [],
   "source": [
    "import attrs"
   ]
  },
  {
   "cell_type": "code",
   "execution_count": 13,
   "id": "90802006-bc4f-4e2a-8937-b9b0c6938254",
   "metadata": {},
   "outputs": [],
   "source": [
    "@attrs.define\n",
    "class Test:\n",
    "    a: int = attrs.field(validator=[attrs.validators.ge(0), attrs.validators.le(10), attrs.validators.gt(-1)])"
   ]
  },
  {
   "cell_type": "code",
   "execution_count": 14,
   "id": "91d10421-1fb2-4f2d-9662-fbe0a70d0378",
   "metadata": {},
   "outputs": [
    {
     "data": {
      "text/plain": [
       "_AndValidator(_validators=(<Validator for x >= 0>, <Validator for x <= 10>, <Validator for x > -1>))"
      ]
     },
     "execution_count": 14,
     "metadata": {},
     "output_type": "execute_result"
    }
   ],
   "source": []
  },
  {
   "cell_type": "code",
   "execution_count": null,
   "id": "45118851-5e15-460f-a2df-199282dee339",
   "metadata": {},
   "outputs": [],
   "source": []
  }
 ],
 "metadata": {
  "kernelspec": {
   "display_name": "Python 3 (ipykernel)",
   "language": "python",
   "name": "python3"
  },
  "language_info": {
   "codemirror_mode": {
    "name": "ipython",
    "version": 3
   },
   "file_extension": ".py",
   "mimetype": "text/x-python",
   "name": "python",
   "nbconvert_exporter": "python",
   "pygments_lexer": "ipython3",
   "version": "3.12.3"
  }
 },
 "nbformat": 4,
 "nbformat_minor": 5
}
