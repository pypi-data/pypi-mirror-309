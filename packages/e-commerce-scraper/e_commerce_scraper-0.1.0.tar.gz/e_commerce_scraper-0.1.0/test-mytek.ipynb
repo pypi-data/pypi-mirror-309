{
 "cells": [
  {
   "cell_type": "code",
   "execution_count": 1,
   "outputs": [],
   "source": [
    "%load_ext autoreload\n",
    "%autoreload 2"
   ],
   "metadata": {
    "collapsed": false,
    "ExecuteTime": {
     "end_time": "2024-11-18T09:38:10.109047Z",
     "start_time": "2024-11-18T09:38:10.048047100Z"
    }
   }
  },
  {
   "cell_type": "code",
   "execution_count": 2,
   "outputs": [],
   "source": [
    "from e_commerce_scraper.scraper import EcommerceScraper"
   ],
   "metadata": {
    "collapsed": false,
    "ExecuteTime": {
     "end_time": "2024-11-18T09:38:12.022938700Z",
     "start_time": "2024-11-18T09:38:11.327859300Z"
    }
   }
  },
  {
   "cell_type": "code",
   "execution_count": 3,
   "outputs": [
    {
     "name": "stderr",
     "output_type": "stream",
     "text": [
      "2024-11-18 10:38:12,960:[INFO]: [19]: using selenium on remote mode\n"
     ]
    }
   ],
   "source": [
    "scraper = EcommerceScraper(\n",
    "    remote = True,\n",
    "    remote_url = \"http://localhost:4444\"\n",
    ")"
   ],
   "metadata": {
    "collapsed": false,
    "ExecuteTime": {
     "end_time": "2024-11-18T09:38:17.051877500Z",
     "start_time": "2024-11-18T09:38:12.884013100Z"
    }
   }
  },
  {
   "cell_type": "code",
   "execution_count": 4,
   "outputs": [
    {
     "name": "stdout",
     "output_type": "stream",
     "text": [
      "Element not clickable with JS after 3 seconds.\n"
     ]
    }
   ],
   "source": [
    "data = []\n",
    "for prod in scraper.getProductsFromMytek([1,1,1], 1):\n",
    "    data.append(prod)"
   ],
   "metadata": {
    "collapsed": false,
    "ExecuteTime": {
     "end_time": "2024-11-18T09:39:03.666052600Z",
     "start_time": "2024-11-18T09:38:28.114958500Z"
    }
   }
  },
  {
   "cell_type": "code",
   "execution_count": null,
   "outputs": [],
   "source": [
    "data = []\n",
    "for prod in scraper.getProductsFromTunisianet([1, 1, 2], 2):\n",
    "    data.append(prod)"
   ],
   "metadata": {
    "collapsed": false
   }
  },
  {
   "cell_type": "code",
   "execution_count": null,
   "outputs": [],
   "source": [
    "data = []\n",
    "for prod in scraper.getProductsFromZoom([1,1,1], 10):\n",
    "    data.append(prod)"
   ],
   "metadata": {
    "collapsed": false
   }
  },
  {
   "cell_type": "code",
   "execution_count": null,
   "outputs": [],
   "source": [
    "data = []\n",
    "for prod in scraper.getProductsFromSpacenet([1,100,1,1,1], 10):\n",
    "    data.append(prod)"
   ],
   "metadata": {
    "collapsed": false
   }
  },
  {
   "cell_type": "code",
   "execution_count": 5,
   "outputs": [
    {
     "data": {
      "text/plain": "[{'website': 'mytek.tn',\n  'product_reference_in_website': 'A30XQEA',\n  'product_name': 'PC PORTABLE HP 15-FD0298NK INTEL N100 4GO 256GO SSD - NOIR',\n  'product_category': 'Ordinateurs portables',\n  'product_manufacturer': 'hp',\n  'in_stock': True,\n  'product_price': '705,000',\n  'product_url': 'https://www.mytek.tn/pc-portable-hp-15-fd0298nk-intel-n100-4go-256go-ssd-noir.html',\n  'product_description': 'Écran 15.6\" HD - Processeur: Intel® N100 (Up to 3,40 GHz Turbo max, 6 Mo de mémoire cache, Quad-Core) - Système d\\'exploitation: FreeDos - Mémoire: 4 Go DDR4-3200 MHz - Disque dur: 256 Go SSD - Carte graphique: Intel UHD Graphics, avec Wi-Fi, Bluetooth, 1x USB Type-C, 2x USB Type-A, 1x HDMI 1.4b, 1x prise combinée casque/microphone, 1x prise adaptateur secteur Smart Pin - Clavier noir profond, de grande taille avec pavé numérique - Couleur: Noir - Garantie: 1 an',\n  'availability': {'Achat En Ligne:': 'Expédition en',\n   'Megastore Tunis Charguia:': 'En Arrivage',\n   'Magasin Av. liberté Tunis:': 'Commande 48h',\n   'Magasin Bizerte:': 'Commande 48h',\n   'Magasin Hammamet:': 'En Stock',\n   'Magasin Nabeul:': 'Commande 48h',\n   'Magasin Béja:': 'En Stock',\n   'Megastore Sousse:': 'En Stock',\n   'Magasin Trocadero Sousse:': 'En Stock',\n   'Magasin Kairouan:': 'Commande 48h',\n   'Megastore Sfax Lafrane:': 'En Stock',\n   'Magasin Sfax Av. 5 Août:': 'Commande 48h'},\n  'technical_sheet': {'DISPONIBILITÉ': 'En stock',\n   'gtin': 'A30XQEA',\n   'Marque': 'HP',\n   'Gamme PC': '15-fd0298nk',\n   'Gamer': 'Non',\n   \"Système d'exploitation\": 'FreeDos',\n   \"Taille de l'écran\": '15.6 Pouces',\n   'Ecran': 'HD',\n   'Ecran Tactile': 'Non',\n   \"Résolution d'écrans\": '1366 x 768 pixels',\n   'Processeur': 'Intel Celeron',\n   'Type Processeur': 'Quad Core',\n   'Référence Processeur': 'Intel® N100',\n   'Fréquence Processeur': 'Up to 3,40 GHz Turbo max',\n   'Mémoire Cache': '6 Mo',\n   'Mémoire': '4 Go',\n   'Disque Dur': '256 Go SSD',\n   'Type Disque Dur': 'SSD',\n   'Carte Graphique': 'Graphique Intégrée',\n   'Chipset Graphique': 'Intel UHD',\n   'Clavier': 'noir profond, de grande taille avec pavé numérique',\n   'Connecteurs': '1x USB Type-C, 2x USB Type-A, 1x HDMI 1.4b, 1x prise combinée casque/microphone, 1x prise adaptateur secteur Smart Pin',\n   'Couleur': 'Noir',\n   'Garantie': '1 an'},\n  'product_images': ['https://mk-media.mytek.tn/media/catalog/product/cache/8be3f98b14227a82112b46963246dfe1/p/c/pc-portable-hp-15-fd0298nk-intel-n100-4go-256go-ssd-noir-3_1.jpg',\n   'https://mk-media.mytek.tn/media/catalog/product/cache/8be3f98b14227a82112b46963246dfe1/p/c/pc-portable-hp-15-fd0298nk-intel-n100-4go-256go-ssd-noir-1_1.jpg',\n   'https://mk-media.mytek.tn/media/catalog/product/cache/8be3f98b14227a82112b46963246dfe1/p/c/pc-portable-hp-15-fd0298nk-intel-n100-4go-256go-ssd-noir-2_1.jpg',\n   'https://mk-media.mytek.tn/media/catalog/product/cache/8be3f98b14227a82112b46963246dfe1/p/c/pc-portable-hp-15-fd0298nk-intel-n100-4go-256go-ssd-noir-4_1.jpg',\n   'https://mk-media.mytek.tn/media/catalog/product/cache/8be3f98b14227a82112b46963246dfe1/p/c/pc-portable-hp-15-fd0298nk-intel-n100-4go-256go-ssd-noir-6.jpg',\n   'https://mk-media.mytek.tn/media/catalog/product/cache/8be3f98b14227a82112b46963246dfe1/p/c/pc-portable-hp-15-fd0298nk-intel-n100-4go-256go-ssd-noir_1.jpg']},\n {'website': 'mytek.tn',\n  'product_reference_in_website': 'A30XQEA',\n  'product_name': 'PC PORTABLE HP 15-FD0298NK INTEL N100 4GO 256GO SSD - NOIR',\n  'product_category': 'Ordinateurs portables',\n  'product_manufacturer': 'hp',\n  'in_stock': True,\n  'product_price': '705,000',\n  'product_url': 'https://www.mytek.tn/pc-portable-hp-15-fd0298nk-intel-n100-4go-256go-ssd-noir.html',\n  'product_description': 'Écran 15.6\" HD - Processeur: Intel® N100 (Up to 3,40 GHz Turbo max, 6 Mo de mémoire cache, Quad-Core) - Système d\\'exploitation: FreeDos - Mémoire: 4 Go DDR4-3200 MHz - Disque dur: 256 Go SSD - Carte graphique: Intel UHD Graphics, avec Wi-Fi, Bluetooth, 1x USB Type-C, 2x USB Type-A, 1x HDMI 1.4b, 1x prise combinée casque/microphone, 1x prise adaptateur secteur Smart Pin - Clavier noir profond, de grande taille avec pavé numérique - Couleur: Noir - Garantie: 1 an',\n  'availability': {'Achat En Ligne:': 'Expédition en',\n   'Megastore Tunis Charguia:': 'En Arrivage',\n   'Magasin Av. liberté Tunis:': 'Commande 48h',\n   'Magasin Bizerte:': 'Commande 48h',\n   'Magasin Hammamet:': 'En Stock',\n   'Magasin Nabeul:': 'Commande 48h',\n   'Magasin Béja:': 'En Stock',\n   'Megastore Sousse:': 'En Stock',\n   'Magasin Trocadero Sousse:': 'En Stock',\n   'Magasin Kairouan:': 'Commande 48h',\n   'Megastore Sfax Lafrane:': 'En Stock',\n   'Magasin Sfax Av. 5 Août:': 'Commande 48h'},\n  'technical_sheet': {'DISPONIBILITÉ': 'En stock',\n   'gtin': 'A30XQEA',\n   'Marque': 'HP',\n   'Gamme PC': '15-fd0298nk',\n   'Gamer': 'Non',\n   \"Système d'exploitation\": 'FreeDos',\n   \"Taille de l'écran\": '15.6 Pouces',\n   'Ecran': 'HD',\n   'Ecran Tactile': 'Non',\n   \"Résolution d'écrans\": '1366 x 768 pixels',\n   'Processeur': 'Intel Celeron',\n   'Type Processeur': 'Quad Core',\n   'Référence Processeur': 'Intel® N100',\n   'Fréquence Processeur': 'Up to 3,40 GHz Turbo max',\n   'Mémoire Cache': '6 Mo',\n   'Mémoire': '4 Go',\n   'Disque Dur': '256 Go SSD',\n   'Type Disque Dur': 'SSD',\n   'Carte Graphique': 'Graphique Intégrée',\n   'Chipset Graphique': 'Intel UHD',\n   'Clavier': 'noir profond, de grande taille avec pavé numérique',\n   'Connecteurs': '1x USB Type-C, 2x USB Type-A, 1x HDMI 1.4b, 1x prise combinée casque/microphone, 1x prise adaptateur secteur Smart Pin',\n   'Couleur': 'Noir',\n   'Garantie': '1 an'},\n  'product_images': ['https://mk-media.mytek.tn/media/catalog/product/cache/8be3f98b14227a82112b46963246dfe1/p/c/pc-portable-hp-15-fd0298nk-intel-n100-4go-256go-ssd-noir-3_1.jpg',\n   'https://mk-media.mytek.tn/media/catalog/product/cache/8be3f98b14227a82112b46963246dfe1/p/c/pc-portable-hp-15-fd0298nk-intel-n100-4go-256go-ssd-noir-1_1.jpg',\n   'https://mk-media.mytek.tn/media/catalog/product/cache/8be3f98b14227a82112b46963246dfe1/p/c/pc-portable-hp-15-fd0298nk-intel-n100-4go-256go-ssd-noir-2_1.jpg',\n   'https://mk-media.mytek.tn/media/catalog/product/cache/8be3f98b14227a82112b46963246dfe1/p/c/pc-portable-hp-15-fd0298nk-intel-n100-4go-256go-ssd-noir-4_1.jpg',\n   'https://mk-media.mytek.tn/media/catalog/product/cache/8be3f98b14227a82112b46963246dfe1/p/c/pc-portable-hp-15-fd0298nk-intel-n100-4go-256go-ssd-noir-6.jpg',\n   'https://mk-media.mytek.tn/media/catalog/product/cache/8be3f98b14227a82112b46963246dfe1/p/c/pc-portable-hp-15-fd0298nk-intel-n100-4go-256go-ssd-noir_1.jpg']}]"
     },
     "execution_count": 5,
     "metadata": {},
     "output_type": "execute_result"
    }
   ],
   "source": [
    "data"
   ],
   "metadata": {
    "collapsed": false,
    "ExecuteTime": {
     "end_time": "2024-11-18T09:39:17.440210500Z",
     "start_time": "2024-11-18T09:39:17.332778400Z"
    }
   }
  },
  {
   "cell_type": "code",
   "execution_count": 6,
   "outputs": [],
   "source": [
    "import json\n",
    "with open(\"output/exemple.json\", \"w\", encoding='utf-8') as f:\n",
    "    json.dump(data, f, ensure_ascii=False, indent=4)"
   ],
   "metadata": {
    "collapsed": false,
    "ExecuteTime": {
     "end_time": "2024-11-18T09:39:22.816645500Z",
     "start_time": "2024-11-18T09:39:22.728440Z"
    }
   }
  },
  {
   "cell_type": "code",
   "execution_count": 7,
   "outputs": [],
   "source": [
    "scraper.close()"
   ],
   "metadata": {
    "collapsed": false,
    "ExecuteTime": {
     "end_time": "2024-11-18T09:40:00.324648800Z",
     "start_time": "2024-11-18T09:39:59.579479100Z"
    }
   }
  },
  {
   "cell_type": "code",
   "execution_count": null,
   "outputs": [],
   "source": [],
   "metadata": {
    "collapsed": false
   }
  }
 ],
 "metadata": {
  "kernelspec": {
   "display_name": "Python 3",
   "language": "python",
   "name": "python3"
  },
  "language_info": {
   "codemirror_mode": {
    "name": "ipython",
    "version": 2
   },
   "file_extension": ".py",
   "mimetype": "text/x-python",
   "name": "python",
   "nbconvert_exporter": "python",
   "pygments_lexer": "ipython2",
   "version": "2.7.6"
  }
 },
 "nbformat": 4,
 "nbformat_minor": 0
}
