{
 "cells": [
  {
   "attachments": {},
   "cell_type": "markdown",
   "id": "475d292c",
   "metadata": {},
   "source": [
    "# Special Case: Impact of Model Complexity on FGC\n",
    "\n",
    "When training a Random Forest model, we usually tune our models wrt. hyperparameters by optimizing a specified scoring function, e.g. R^2 or accuracy. When only optimizing for a metric, we might end up with a highly complex Random Forest model, which has deeply grown trees to better fit the data at hand. When the model gets too complex, it can start to learn irrelevant information (“noise”) within the dataset and we run into the problem of overfitting. When this happens, the algorithm unfortunately cannot perform accurately on unseen data, defeating its purpose. This problem also propagates into the generalization of the explanations we retrieve from FGC. FGC allows us to uncover the stable patterns in the data using the structure of a Random Forest model. However, if the model becomes too complex, e.g. has deeply grown trees, it starts learning patterns that are specific to certain instances in the training set, rather than learning generalizeable patterns. \n",
    "\n",
    "**Note:** for installation description and a general introduction to FGC please have a look at [Read the Docs - Installation](https://forest-guided-clustering.readthedocs.io/en/latest/_getting_started/installation.html) and [Introduction Notebook](https://github.com/HelmholtzAI-Consultants-Munich/fg-clustering/blob/main/tutorials/introduction_to_FGC_use_cases.ipynb)."
   ]
  },
  {
   "attachments": {},
   "cell_type": "markdown",
   "metadata": {},
   "source": [
    "**Imports:**"
   ]
  },
  {
   "cell_type": "code",
   "execution_count": 1,
   "metadata": {},
   "outputs": [],
   "source": [
    "## Import the Forest-Guided Clustering package\n",
    "from fgclustering import FgClustering\n",
    "\n",
    "## Imports for datasets\n",
    "from sklearn.datasets import fetch_california_housing\n",
    "\n",
    "## Additional imports for use-cases\n",
    "\n",
    "from sklearn.ensemble import RandomForestRegressor\n",
    "from sklearn.model_selection import GridSearchCV"
   ]
  },
  {
   "attachments": {},
   "cell_type": "markdown",
   "metadata": {},
   "source": [
    "To showcase how model complexity impacts FGC, we will again use the California Housing dataset (for dataset description, please see *Use Case 3*). We will use the first 1000 samples of the dataset as training data to train a Random Forest Regressor, where we tune the *max_depth* with 5-fold corss-validation."
   ]
  },
  {
   "cell_type": "code",
   "execution_count": 2,
   "id": "3159e814",
   "metadata": {},
   "outputs": [
    {
     "name": "stdout",
     "output_type": "stream",
     "text": [
      "Parameter Grid: [{'max_depth': 2}, {'max_depth': 5}, {'max_depth': 10}, {'max_depth': 20}, {'max_depth': 30}]\n",
      "Test R^2 score: [0.21068248 0.43956159 0.51229987 0.51506051 0.51523013]\n",
      "Parameters of best prediction model: {'max_depth': 30}\n"
     ]
    }
   ],
   "source": [
    "data_housing = fetch_california_housing(as_frame=True).frame\n",
    "\n",
    "data_housing_train = data_housing.iloc[:1000]\n",
    "X_housing_train = data_housing_train.loc[:, data_housing_train.columns != 'MedHouseVal']\n",
    "y_housing_train = data_housing_train.MedHouseVal\n",
    "\n",
    "regressor = RandomForestRegressor(max_features='log2', max_samples=0.8, bootstrap=True, oob_score=True, random_state=42)\n",
    "\n",
    "grid = {'max_depth':[2, 5, 10, 20, 30]}\n",
    "grid_regressor = GridSearchCV(regressor, grid, cv=5)\n",
    "grid_regressor.fit(X_housing_train, y_housing_train)\n",
    "rf_housing = grid_regressor.best_estimator_\n",
    "\n",
    "params = grid_regressor.cv_results_['params']\n",
    "score = grid_regressor.cv_results_['mean_test_score']\n",
    "print(f'Parameter Grid: {params}')\n",
    "print(f'Test R^2 score: {score}')\n",
    "\n",
    "print(f'Parameters of best prediction model: {grid_regressor.best_params_}')"
   ]
  },
  {
   "cell_type": "markdown",
   "id": "953e3c57",
   "metadata": {},
   "source": [
    "The results above show that optimizing only for metrics results in a highly complex model with maximum tree depth of 30, although the performance metric does not change from *max_depth=10* upwards. We now apply Forest-Guided Clustering on the trained model and dataset, to see if we retrieve any stable pattern from this Random Forest model."
   ]
  },
  {
   "cell_type": "code",
   "execution_count": 3,
   "id": "1b268470",
   "metadata": {},
   "outputs": [
    {
     "name": "stdout",
     "output_type": "stream",
     "text": [
      "Interpreting RandomForestRegressor\n"
     ]
    },
    {
     "name": "stderr",
     "output_type": "stream",
     "text": [
      " 17%|█▋        | 1/6 [00:02<00:13,  2.66s/it]"
     ]
    },
    {
     "name": "stdout",
     "output_type": "stream",
     "text": [
      "For number of cluster 2 the Jaccard Index is 0.04151478360120275\n",
      "Clustering is instable, no score computed!\n"
     ]
    },
    {
     "name": "stderr",
     "output_type": "stream",
     "text": [
      " 33%|███▎      | 2/6 [00:07<00:15,  3.84s/it]"
     ]
    },
    {
     "name": "stdout",
     "output_type": "stream",
     "text": [
      "For number of cluster 3 the Jaccard Index is 0.0639124681474813\n",
      "Clustering is instable, no score computed!\n"
     ]
    },
    {
     "name": "stderr",
     "output_type": "stream",
     "text": [
      " 50%|█████     | 3/6 [00:15<00:18,  6.02s/it]"
     ]
    },
    {
     "name": "stdout",
     "output_type": "stream",
     "text": [
      "For number of cluster 4 the Jaccard Index is 0.06234212556086201\n",
      "Clustering is instable, no score computed!\n"
     ]
    },
    {
     "name": "stderr",
     "output_type": "stream",
     "text": [
      " 67%|██████▋   | 4/6 [00:26<00:15,  7.78s/it]"
     ]
    },
    {
     "name": "stdout",
     "output_type": "stream",
     "text": [
      "For number of cluster 5 the Jaccard Index is 0.08500454028798372\n",
      "Clustering is instable, no score computed!\n"
     ]
    },
    {
     "name": "stderr",
     "output_type": "stream",
     "text": [
      " 83%|████████▎ | 5/6 [00:43<00:11, 11.22s/it]"
     ]
    },
    {
     "name": "stdout",
     "output_type": "stream",
     "text": [
      "For number of cluster 6 the Jaccard Index is 0.10481112006920552\n",
      "Clustering is instable, no score computed!\n"
     ]
    },
    {
     "name": "stderr",
     "output_type": "stream",
     "text": [
      "100%|██████████| 6/6 [01:06<00:00, 11.02s/it]"
     ]
    },
    {
     "name": "stdout",
     "output_type": "stream",
     "text": [
      "For number of cluster 7 the Jaccard Index is 0.0807985607763865\n",
      "Clustering is instable, no score computed!\n"
     ]
    },
    {
     "name": "stderr",
     "output_type": "stream",
     "text": [
      "\n",
      "/Users/lisa.barros/Desktop/fg-clustering/fgclustering/forest_guided_clustering.py:175: UserWarning: No stable clusters were found!\n",
      "  warnings.warn(\"No stable clusters were found!\")\n"
     ]
    }
   ],
   "source": [
    "fgc = FgClustering(model=rf_housing, data=data_housing_train, target_column='MedHouseVal')\n",
    "fgc.run()"
   ]
  },
  {
   "cell_type": "markdown",
   "id": "34d5643c",
   "metadata": {},
   "source": [
    "As we can see from the results above, FGC does not find any stable clustering, which means that we do not find any generalizeable pattern in the data. But how is that possible, given that in Use Case 3 we use the same data (to train the model / run FGC) and find clear and stable patterns using FGC? The reason is that we optimized our model only in terms of metric performance and not in terms of explainability! We saw above that optimizing our model in terms of R^2 score, lead to a highly complex model with a maximum tree depth of 30, while the performance is not significantly better than a Random Forest model with a maximum tree depth of 10. A high tree depth leads to trees with many leaves containing only few samples. However, the deeper we go in the tree, the higher the chances that the separation is only based on properties specific to the training samples, i.e. we start fitting the \"noise\" in our training data. Let's now see what happens if we apply FGC to the same Random Forest model trained with *max_depth=10*."
   ]
  },
  {
   "cell_type": "code",
   "execution_count": 4,
   "id": "5ffb7c23",
   "metadata": {},
   "outputs": [
    {
     "name": "stdout",
     "output_type": "stream",
     "text": [
      "Interpreting RandomForestRegressor\n"
     ]
    },
    {
     "name": "stderr",
     "output_type": "stream",
     "text": [
      " 17%|█▋        | 1/6 [00:03<00:18,  3.80s/it]"
     ]
    },
    {
     "name": "stdout",
     "output_type": "stream",
     "text": [
      "For number of cluster 2 the Jaccard Index is 0.7204314803463794\n",
      "For number of cluster 2 the score is 776.0190906201934\n"
     ]
    },
    {
     "name": "stderr",
     "output_type": "stream",
     "text": [
      " 33%|███▎      | 2/6 [00:10<00:21,  5.28s/it]"
     ]
    },
    {
     "name": "stdout",
     "output_type": "stream",
     "text": [
      "For number of cluster 3 the Jaccard Index is 0.343363692706108\n",
      "Clustering is instable, no score computed!\n"
     ]
    },
    {
     "name": "stderr",
     "output_type": "stream",
     "text": [
      " 50%|█████     | 3/6 [00:20<00:23,  7.72s/it]"
     ]
    },
    {
     "name": "stdout",
     "output_type": "stream",
     "text": [
      "For number of cluster 4 the Jaccard Index is 0.4464751826329628\n",
      "Clustering is instable, no score computed!\n"
     ]
    },
    {
     "name": "stderr",
     "output_type": "stream",
     "text": [
      " 67%|██████▋   | 4/6 [00:34<00:19,  9.98s/it]"
     ]
    },
    {
     "name": "stdout",
     "output_type": "stream",
     "text": [
      "For number of cluster 5 the Jaccard Index is 0.5457086314072344\n",
      "Clustering is instable, no score computed!\n"
     ]
    },
    {
     "name": "stderr",
     "output_type": "stream",
     "text": [
      " 83%|████████▎ | 5/6 [00:51<00:12, 12.49s/it]"
     ]
    },
    {
     "name": "stdout",
     "output_type": "stream",
     "text": [
      "For number of cluster 6 the Jaccard Index is 0.5388533537672784\n",
      "Clustering is instable, no score computed!\n"
     ]
    },
    {
     "name": "stderr",
     "output_type": "stream",
     "text": [
      "100%|██████████| 6/6 [01:09<00:00, 11.56s/it]"
     ]
    },
    {
     "name": "stdout",
     "output_type": "stream",
     "text": [
      "For number of cluster 7 the Jaccard Index is 0.3574391861664191\n",
      "Clustering is instable, no score computed!\n",
      "Optimal number of cluster is: 2\n"
     ]
    },
    {
     "name": "stderr",
     "output_type": "stream",
     "text": [
      "\n"
     ]
    }
   ],
   "source": [
    "regressor = RandomForestRegressor(max_depth=10, max_features='log2', max_samples=0.8, bootstrap=True, oob_score=True, random_state=42)\n",
    "regressor.fit(X_housing_train, y_housing_train)\n",
    "\n",
    "fgc = FgClustering(model=regressor, data=data_housing_train, target_column='MedHouseVal')\n",
    "fgc.run()\n"
   ]
  },
  {
   "cell_type": "markdown",
   "id": "8b297125",
   "metadata": {},
   "source": [
    "Using a Random Forest model with *max_depth=10*, which achieves equally good performance results as a Random Forest model with *max_depth=30*, indeed finds a stable clustering with *k=2*. This shows that the performance metric should not be the only optimization aim when we train a Random Forest model that we want to interpret!"
   ]
  }
 ],
 "metadata": {
  "kernelspec": {
   "display_name": "FGC",
   "language": "python",
   "name": "python3"
  },
  "language_info": {
   "codemirror_mode": {
    "name": "ipython",
    "version": 3
   },
   "file_extension": ".py",
   "mimetype": "text/x-python",
   "name": "python",
   "nbconvert_exporter": "python",
   "pygments_lexer": "ipython3",
   "version": "3.12.5"
  },
  "orig_nbformat": 4,
  "vscode": {
   "interpreter": {
    "hash": "37285dfef009657dce5ddc24f929c246885e51e790fc9d2c313b35f492be6391"
   }
  }
 },
 "nbformat": 4,
 "nbformat_minor": 2
}
