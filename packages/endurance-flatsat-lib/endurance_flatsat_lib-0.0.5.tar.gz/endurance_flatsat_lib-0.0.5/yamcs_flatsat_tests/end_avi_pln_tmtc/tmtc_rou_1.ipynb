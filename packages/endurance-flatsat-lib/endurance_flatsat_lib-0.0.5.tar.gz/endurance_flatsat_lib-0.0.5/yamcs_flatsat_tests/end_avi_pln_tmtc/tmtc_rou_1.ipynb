{
 "cells": [
  {
   "cell_type": "code",
   "execution_count": null,
   "metadata": {},
   "outputs": [],
   "source": [
    "from yamcs_flatsat_utils.yamcs_interface import YamcsInterface"
   ]
  },
  {
   "cell_type": "code",
   "execution_count": null,
   "metadata": {},
   "outputs": [],
   "source": [
    "from yamcs_flatsat_utils.command_processor import CommandProcessor"
   ]
  },
  {
   "cell_type": "markdown",
   "metadata": {},
   "source": [
    "# Test TMTC_01 - TM/TC Routing"
   ]
  },
  {
   "cell_type": "markdown",
   "metadata": {},
   "source": [
    "## Objectives\n",
    "\n",
    "Test that the ground can send a TC to all computers:\n",
    "    - Active Mission Computer\n",
    "    - Standby Mission Computer\n",
    "    - Active ADCS Computer\n",
    "    - Standby ADCS Computer\n",
    "    - Active GNC Computer\n",
    "    - Standby GNC Computer\n",
    "    - Test that all computers can send a TM (realtime) to the ground.\n",
    "    - Test that all computers can send a TM (deferred) to the ground.\n",
    "    - Test the procedures put in place to send TC / receive TM when there is an issue of known and unknown origins."
   ]
  },
  {
   "cell_type": "markdown",
   "metadata": {},
   "source": [
    "## General Test Procedures\n",
    "\n",
    "The following test cases have a similar configuration. The set-up and end-of-test procedures described below will be executed for each of these test cases.\n",
    "\n",
    "### Test Set-up Configuration\n",
    "\n",
    "The set-up consists of configuring packet storage, forwarding reports, and resetting TMTC counters:\n",
    "\n",
    "| ID  | Test Step                                                      | Test Data | Expected Result                             |\n",
    "|-----|-----------------------------------------------------------------|-----------|---------------------------------------------|\n",
    "| XX  | Send TC[15,1] to enable packet storing for deferred logging      | None      | TM[1,1] & TM[1,7]                           |\n",
    "| XX  | Send TC[14,1] to add forward reports                            | None      | TM[1,1] & TM[1,7]                           |\n",
    "| XX  | Reset accepted TCs counters of all OBCs concerned for this test | None      | TM[1,1], TM[1,7], parameter reset           |\n",
    "| XX  | Reset forwarded TCs of the active OBC and standby OBC           | None      | TM[1,1], TM[1,7], parameter reset           |\n",
    "| XX  | Reset TM counter of the active OBC and standby OBC              | None      | TM[1,1], TM[1,7], parameter reset           |\n",
    "\n",
    "> **Note:** The order of parameter resetting affects the final counter values for different configurations.\n",
    "\n",
    "### End-of-Test Configuration\n",
    "\n",
    "The end-of-test procedure consists of disabling PUS services 14 and 15 to prevent interference with other test cases:\n",
    "\n",
    "| ID  | Test Step                                        | Test Data | Expected Result             |\n",
    "|-----|--------------------------------------------------|-----------|-----------------------------|\n",
    "| XX  | Send TC[14,2] to delete forwarding reports       | None      | TM[1,1] & TM[1,7]           |\n",
    "| XX  | Send TC[15,2] to disable packet storage          | None      | TM[1,1] & TM[1,7]           |\n",
    "\n",
    "---\n",
    "\n"
   ]
  },
  {
   "cell_type": "markdown",
   "metadata": {},
   "source": [
    "## Test Case: TMTC_ROU_01 - Ping Them All\n",
    "\n",
    "| **TC Routing**                      | **TM Routing**                     |\n",
    "|--------------------------------------|------------------------------------|\n",
    "| Test if the computer answers TC 17,1, demonstrating capacity to route TC and TM to/from any computer to/from the ground. |\n",
    "\n",
    "TMs must be forwarded real-time (service 14) and stored onboard (service 15). Then, the TM stores are downloaded to demonstrate deferred TM capacity. This test also checks TC/TM counter management.\n",
    "\n",
    "### Covered Requirements:\n",
    "- FSW-MSW-TCR-1095 (Part)\n",
    "- FSW-MSW-TCR-1098\n",
    "- FSW-MSW-TCR-1099\n",
    "- FSW-MSW-TCR-1100 (Part)\n",
    "- FSW-MSW-TCR-1101\n",
    "- FSW-MSW-TCR-1102\n",
    "- FSW-MSW-TCR-1103 (Part)\n",
    "- FSW-MSW-TCR-1104\n",
    "- FSW-MSW-TCR-1105\n",
    "- FSW-MSW-TMR-1111\n",
    "- FSW-MSW-TMR-1112\n",
    "- FSW-MSW-TMR-1115\n",
    "- FSW-MSW-TMR-1117\n",
    "- FSW-MSW-TMR-1118\n",
    "- FSW-MSW-TMR-1120\n",
    "- FSW-MSW-TMR-1122\n",
    "\n",
    "### Test Steps:\n",
    "\n",
    "| ID             | Test Step                                                                          | Test Data | Expected Result                                                                 |\n",
    "|----------------|------------------------------------------------------------------------------------|-----------|---------------------------------------------------------------------------------|\n",
    "| TMTC_ROU_01_01    | Test set-up configuration                                                          | None      | -                                                                               |\n",
    "| TMTC_ROU_01_02    | Set accepted TC, forwarded TC, and sent TM counters as housekeeping.                | None      | -                                                                               |\n",
    "| TMTC_ROU_01_03    | Send 17,1 to Active Mission OBC                                                    | None      | TM[1,1], TM[1,7], TM[17,2] received                                             |\n",
    "| TMTC_ROU_01_04    | Send 17,1 to Standby Mission OBC                                                   | None      | TM[1,1], TM[1,7], TM[17,2] received                                             |\n",
    "| TMTC_ROU_01_05    | Send 17,1 to Active GNC OBC                                                        | None      | TM[1,1], TM[1,7], TM[17,2] received                                             |\n",
    "| TMTC_ROU_01_06    | Send 17,1 to Standby GNC OBC                                                       | None      | TM[1,1], TM[1,7], TM[17,2] received                                             |\n",
    "| TMTC_ROU_01_07    | Check accepted TC counters for Active and Standby Mission OBCs and both GNC OBCs   | TBD       | Each accepted TC counter has been incremented                                    |\n",
    "| TMTC_ROU_01_08    | Check forwarded TC counters have incremented correctly on Active Mission computer   | TBD       | Forwarded TC counters have been incremented                                      |\n",
    "| TMTC_ROU_01_09    | Check TM counter has been incremented correctly on Active OBC                      | TBD       | Sent TM counters have been incremented                                           |\n",
    "| TMTC_ROU_01_10    | Reset TC counters                                                                  | None      | Counters should be reset                                                        |\n",
    "| TMTC_ROU_01_11    | Send 15,TBD to retrieve deferred telemetry and compare with counters               | None      | TM[1,1], TM[1,2], TM[17,2] appear in correct order                              |\n",
    "| TMTC_ROU_01_12    | End test reset configuration                                                       | None      | -                                                                               |\n",
    "\n",
    "---\n"
   ]
  },
  {
   "cell_type": "markdown",
   "metadata": {},
   "source": [
    "## TMTC_ROU_01 Test"
   ]
  },
  {
   "cell_type": "markdown",
   "metadata": {},
   "source": [
    "### TMTC_ROU_01_01"
   ]
  },
  {
   "cell_type": "code",
   "execution_count": null,
   "metadata": {},
   "outputs": [],
   "source": [
    "interface = YamcsInterface()"
   ]
  },
  {
   "cell_type": "markdown",
   "metadata": {},
   "source": [
    "### TMTC_ROU_01_02"
   ]
  },
  {
   "cell_type": "code",
   "execution_count": null,
   "metadata": {},
   "outputs": [],
   "source": [
    "proc = CommandProcessor(interface)"
   ]
  },
  {
   "cell_type": "markdown",
   "metadata": {},
   "source": [
    "### TMTC_ROU_01_03"
   ]
  },
  {
   "cell_type": "code",
   "execution_count": null,
   "metadata": {},
   "outputs": [],
   "source": [
    "proc.issue_command_yamcs(apid=\"Mission A\", tc_type=17, tc_stype=1, ackflags=15, monitor=False)"
   ]
  },
  {
   "cell_type": "markdown",
   "metadata": {},
   "source": [
    "### TMTC_ROU_01_04"
   ]
  },
  {
   "cell_type": "raw",
   "metadata": {
    "vscode": {
     "languageId": "raw"
    }
   },
   "source": [
    "proc.issue_command_yamcs(apid=\"Mission B\", tc_type=17, tc_stype=1,ackflags=15, monitor=True)"
   ]
  },
  {
   "cell_type": "markdown",
   "metadata": {},
   "source": [
    "### TMTC_ROU_01_05"
   ]
  },
  {
   "cell_type": "raw",
   "metadata": {
    "vscode": {
     "languageId": "raw"
    }
   },
   "source": [
    "proc.issue_command_yamcs(apid=\"GNC A\", tc_type=17, tc_stype=1,ackflags=15, monitor=True)"
   ]
  },
  {
   "cell_type": "markdown",
   "metadata": {},
   "source": [
    "### TMTC_ROU_01_06"
   ]
  },
  {
   "cell_type": "raw",
   "metadata": {
    "vscode": {
     "languageId": "raw"
    }
   },
   "source": [
    "proc.issue_command_yamcs(apid=\"GNC B\", tc_type=17, tc_stype=1,ackflags=15, monitor=True)"
   ]
  },
  {
   "cell_type": "markdown",
   "metadata": {},
   "source": [
    "### TMTC_ROU_01_07"
   ]
  },
  {
   "cell_type": "markdown",
   "metadata": {},
   "source": [
    "### TMTC_ROU_01_08"
   ]
  },
  {
   "cell_type": "markdown",
   "metadata": {},
   "source": [
    "### TMTC_ROU_01_09"
   ]
  },
  {
   "cell_type": "markdown",
   "metadata": {},
   "source": [
    "### TMTC_ROU_01_10"
   ]
  },
  {
   "cell_type": "markdown",
   "metadata": {},
   "source": [
    "### TMTC_ROU_01_11"
   ]
  },
  {
   "cell_type": "markdown",
   "metadata": {},
   "source": [
    "### TMTC_ROU_01_12"
   ]
  },
  {
   "cell_type": "markdown",
   "metadata": {},
   "source": [
    "### TMTC_ROU_01_13"
   ]
  },
  {
   "cell_type": "markdown",
   "metadata": {},
   "source": [
    "### TMTC_ROU_01_14"
   ]
  }
 ],
 "metadata": {
  "kernelspec": {
   "display_name": "default",
   "language": "python",
   "name": "python3"
  },
  "language_info": {
   "codemirror_mode": {
    "name": "ipython",
    "version": 3
   },
   "file_extension": ".py",
   "mimetype": "text/x-python",
   "name": "python",
   "nbconvert_exporter": "python",
   "pygments_lexer": "ipython3",
   "version": "3.12.6"
  }
 },
 "nbformat": 4,
 "nbformat_minor": 2
}
