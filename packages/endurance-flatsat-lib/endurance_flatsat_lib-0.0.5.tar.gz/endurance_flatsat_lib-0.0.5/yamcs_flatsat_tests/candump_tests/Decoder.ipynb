{
 "cells": [
  {
   "cell_type": "code",
   "execution_count": null,
   "metadata": {},
   "outputs": [],
   "source": [
    "import sys\n",
    "from candump_utils.can_id import write_candump_line\n",
    "from candump_utils.packet_header import process_first_message_data\n",
    "from candump_utils.data_field_tm import process_data_field_tm\n",
    "from candump_utils.data_field_tc import process_data_field_tc"
   ]
  },
  {
   "cell_type": "markdown",
   "metadata": {},
   "source": [
    "# Librairies and Dictionnaries"
   ]
  },
  {
   "cell_type": "markdown",
   "metadata": {},
   "source": [
    "# 0. Test Message"
   ]
  },
  {
   "cell_type": "code",
   "execution_count": null,
   "metadata": {},
   "outputs": [],
   "source": [
    "default_dir = \"/home/romain/Bureau/test.txt\"\n",
    "# Lire le fichier contenant les données CAN\n",
    "with open(default_dir, \"r\") as file:\n",
    "    test_message = file.readlines()"
   ]
  },
  {
   "cell_type": "markdown",
   "metadata": {},
   "source": [
    "# 1. Decode CAN"
   ]
  },
  {
   "cell_type": "code",
   "execution_count": null,
   "metadata": {},
   "outputs": [],
   "source": [
    "cpt = 0\n",
    "\n",
    "for line in test_message:\n",
    "    print(\"#-----------------------------------------------------------#\")\n",
    "    print(line)\n",
    "\n",
    "    # Call write_candump_line for each line\n",
    "    can_id, supervisor = write_candump_line(line)\n",
    "    sbr = can_id[\"sbr_type\"]\n",
    "\n",
    "    if supervisor:\n",
    "        print(\"/**-------------------------SUPERVISOR-------------------------**/\")\n",
    "        continue\n",
    "\n",
    "    # For the first line, process the first message and get the length\n",
    "    if (sbr == \"Set Block Request\") & (can_id[\"sb_type\"] != \"Unsolicited Telemetry\"):\n",
    "        x, _ = write_candump_line(line, doplot=False)\n",
    "        nb_blocks = int(x[\"block_to_transfert\"])\n",
    "\n",
    "        packet_header = process_first_message_data(line)\n",
    "        tmtc = packet_header[\"str_type\"]\n",
    "\n",
    "    # For the second line, process the TM data field\n",
    "    elif sbr == \"Transfer\":\n",
    "        if tmtc == \"TM\":\n",
    "            if cpt == 0:\n",
    "                process_data_field_tm(line)\n",
    "                cpt += 1\n",
    "        elif tmtc == \"TC\":\n",
    "            if cpt == 0:\n",
    "                process_data_field_tc(line)\n",
    "                cpt += 1\n",
    "        else:\n",
    "            raise ValueError\n",
    "    else:\n",
    "        cpt = 0\n",
    "\n",
    "    print(\"#-----------------------------------------------------------#\\n\")"
   ]
  }
 ],
 "metadata": {
  "kernelspec": {
   "display_name": "default",
   "language": "python",
   "name": "python3"
  },
  "language_info": {
   "codemirror_mode": {
    "name": "ipython",
    "version": 3
   },
   "file_extension": ".py",
   "mimetype": "text/x-python",
   "name": "python",
   "nbconvert_exporter": "python",
   "pygments_lexer": "ipython3",
   "version": "3.12.6"
  }
 },
 "nbformat": 4,
 "nbformat_minor": 2
}
