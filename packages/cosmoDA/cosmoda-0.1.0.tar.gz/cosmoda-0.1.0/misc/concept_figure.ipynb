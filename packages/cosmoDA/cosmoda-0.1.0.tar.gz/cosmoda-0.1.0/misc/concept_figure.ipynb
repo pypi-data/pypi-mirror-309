{
 "cells": [
  {
   "metadata": {},
   "cell_type": "markdown",
   "source": "# Concept Figure",
   "id": "2f4eff1f1db37cfd"
  },
  {
   "cell_type": "code",
   "id": "initial_id",
   "metadata": {
    "collapsed": true,
    "ExecuteTime": {
     "end_time": "2024-10-10T07:49:10.304396Z",
     "start_time": "2024-10-10T07:49:09.865682Z"
    }
   },
   "source": [
    "import numpy as np\n",
    "import pandas as pd\n",
    "import seaborn as sns\n",
    "import matplotlib.pyplot as plt\n",
    "import cosmoDA.cosmoDA as go\n",
    "\n",
    "import rpy2\n",
    "from rpy2.robjects.packages import importr\n",
    "from rpy2.robjects import numpy2ri\n",
    "import rpy2.robjects as ro\n",
    "rpy2.robjects.numpy2ri.activate()\n",
    "from rpy2.rinterface_lib.callbacks import logger as rpy2_logger\n",
    "import logging\n",
    "rpy2_logger.setLevel(logging.ERROR)\n",
    "\n",
    "import warnings\n",
    "warnings.simplefilter(action='ignore', category=FutureWarning)\n",
    "np.set_printoptions(edgeitems=10,linewidth=180)\n",
    "\n",
    "genscore = importr(\"genscore\")"
   ],
   "outputs": [],
   "execution_count": 1
  },
  {
   "metadata": {
    "ExecuteTime": {
     "end_time": "2024-10-10T07:49:10.448695Z",
     "start_time": "2024-10-10T07:49:10.305241Z"
    }
   },
   "cell_type": "code",
   "source": [
    "n = 10\n",
    "p = 5\n",
    "\n",
    "eta_0 = np.array([0.4, 0.4, 0.05, 0.3, 0.5])*12\n",
    "eta_c = np.array([-8, 0, 0, 0, 0])\n",
    "K = np.array([[6, -5.8, 0, -0.1, -0.1], [-5.8, 5.6, -0.1, 0, -0.1], [0, -0.1, 3, -0.2, -0.1], [-0.1, 0, -0.2, 3, 0], [-0.1, -0.1, -0.1, 0, 3]])*1\n",
    "print(np.linalg.eigvals(K))\n",
    "\n",
    "fig, ax = plt.subplots(figsize=(3, 3))\n",
    "sns.heatmap(K, center=0, cmap=\"vlag\", vmin=-10, vmax=10, linewidths=0.7, linecolor='black', ax=ax, cbar=False)\n",
    "ax.set_xticks([], [])\n",
    "ax.set_yticks([], [])\n",
    "ax.spines['bottom'].set_visible(True)\n",
    "ax.spines['right'].set_visible(True)\n",
    "\n",
    "save_dir = \".\"\n",
    "plt.savefig(f\"{save_dir}/concept_K.svg\", bbox_inches='tight', format='svg')\n",
    "plt.savefig(f\"{save_dir}/concept_K.png\", bbox_inches='tight', format='png', dpi=300)\n",
    "plt.show()\n"
   ],
   "id": "b9caacc630a98fde",
   "outputs": [
    {
     "name": "stdout",
     "output_type": "stream",
     "text": [
      "[11.60463829 -0.013884    2.78326538  3.00300009  3.22298024]\n"
     ]
    },
    {
     "data": {
      "text/plain": [
       "<Figure size 300x300 with 1 Axes>"
      ],
      "image/png": "[encoded data removed]"
     },
     "metadata": {},
     "output_type": "display_data"
    }
   ],
   "execution_count": 2
  },
  {
   "metadata": {
    "ExecuteTime": {
     "end_time": "2024-10-10T07:49:10.690197Z",
     "start_time": "2024-10-10T07:49:10.450002Z"
    }
   },
   "cell_type": "code",
   "source": [
    "fig, ax = plt.subplots(figsize=(0.6, 3))\n",
    "sns.heatmap(eta_0.reshape((p, 1)), center=0, cmap=\"vlag\", vmin=-10, vmax=10, linewidths=0.7, linecolor='black', ax=ax, cbar=False)\n",
    "ax.set_xticks([], [])\n",
    "ax.set_yticks([], [])\n",
    "ax.spines['bottom'].set_visible(True)\n",
    "ax.spines['right'].set_visible(True)\n",
    "\n",
    "save_dir = \".\"\n",
    "plt.savefig(f\"{save_dir}/concept_eta_0.svg\", bbox_inches='tight', format='svg')\n",
    "plt.savefig(f\"{save_dir}/concept_eta_0.png\", bbox_inches='tight', format='png', dpi=300)\n",
    "\n",
    "plt.show()"
   ],
   "id": "64dc12687226fc41",
   "outputs": [
    {
     "data": {
      "text/plain": [
       "<Figure size 60x300 with 1 Axes>"
      ],
      "image/png": "[encoded data removed]"
     },
     "metadata": {},
     "output_type": "display_data"
    }
   ],
   "execution_count": 3
  },
  {
   "metadata": {
    "ExecuteTime": {
     "end_time": "2024-10-10T07:49:10.779009Z",
     "start_time": "2024-10-10T07:49:10.691682Z"
    }
   },
   "cell_type": "code",
   "source": [
    "fig, ax = plt.subplots(figsize=(0.6, 3))\n",
    "sns.heatmap(eta_c.reshape((p, 1)), center=0, cmap=\"vlag\", vmin=-10, vmax=10, linewidths=0.7, linecolor='black', ax=ax, cbar=False)\n",
    "ax.set_xticks([], [])\n",
    "ax.set_yticks([], [])\n",
    "ax.spines['bottom'].set_visible(True)\n",
    "ax.spines['right'].set_visible(True)\n",
    "\n",
    "save_dir = \".\"\n",
    "plt.savefig(f\"{save_dir}/concept_eta_c.svg\", bbox_inches='tight', format='svg')\n",
    "plt.savefig(f\"{save_dir}/concept_eta_c.png\", bbox_inches='tight', format='png', dpi=300)\n",
    "\n",
    "plt.show()"
   ],
   "id": "ed2b090f73330ece",
   "outputs": [
    {
     "data": {
      "text/plain": [
       "<Figure size 60x300 with 1 Axes>"
      ],
      "image/png": "[encoded data removed]"
     },
     "metadata": {},
     "output_type": "display_data"
    }
   ],
   "execution_count": 4
  },
  {
   "metadata": {
    "ExecuteTime": {
     "end_time": "2024-10-10T07:49:12.624133Z",
     "start_time": "2024-10-10T07:49:10.780151Z"
    }
   },
   "cell_type": "code",
   "source": [
    "domain = genscore.make_domain(type=\"simplex\", p=p)\n",
    "\n",
    "x_control = genscore.gen(n/2, setting=\"log_log_sum0\", abs=False, eta=eta_0, K=K, domain=domain, finite_infinity=100, seed=1, burn_in=1000, thinning=1000, verbose=False, remove_outofbound=True)\n",
    "x_case = genscore.gen(n/2, setting=\"log_log_sum0\", abs=False, eta=eta_0 + eta_c, K=K, domain=domain, finite_infinity=100, seed=1, burn_in=1000, thinning=1000, verbose=False, remove_outofbound=True)\n",
    "x = np.concatenate((x_control, x_case), axis=0)"
   ],
   "id": "d04185050ed7e91b",
   "outputs": [],
   "execution_count": 5
  },
  {
   "metadata": {
    "ExecuteTime": {
     "end_time": "2024-10-10T07:49:12.627156Z",
     "start_time": "2024-10-10T07:49:12.624716Z"
    }
   },
   "cell_type": "code",
   "source": "x",
   "id": "119c038793aebcf4",
   "outputs": [
    {
     "data": {
      "text/plain": [
       "array([[0.21331924, 0.22245602, 0.14668499, 0.16107847, 0.25646127],\n",
       "       [0.19982297, 0.20604182, 0.1386643 , 0.27119836, 0.18427255],\n",
       "       [0.12927439, 0.10683064, 0.26694081, 0.29748753, 0.19946662],\n",
       "       [0.13693437, 0.09619096, 0.1329507 , 0.26657872, 0.36734525],\n",
       "       [0.14864591, 0.10285253, 0.30926092, 0.17855705, 0.26068358],\n",
       "       [0.08563745, 0.07585537, 0.24638031, 0.20538597, 0.38674091],\n",
       "       [0.06326097, 0.09870729, 0.16131964, 0.33579935, 0.34091275],\n",
       "       [0.04319057, 0.09960769, 0.16540907, 0.3468175 , 0.34497516],\n",
       "       [0.03188535, 0.03930081, 0.2487521 , 0.28844547, 0.39161627],\n",
       "       [0.03637819, 0.04045715, 0.17913419, 0.35437548, 0.389655  ]])"
      ]
     },
     "execution_count": 6,
     "metadata": {},
     "output_type": "execute_result"
    }
   ],
   "execution_count": 6
  },
  {
   "metadata": {
    "ExecuteTime": {
     "end_time": "2024-10-10T07:49:12.825353Z",
     "start_time": "2024-10-10T07:49:12.627876Z"
    }
   },
   "cell_type": "code",
   "source": [
    "sns.set_style(\"ticks\")\n",
    "width = 0.8\n",
    "fig, ax = plt.subplots(1, 2, figsize=(7, 4))\n",
    "fig.subplots_adjust(wspace=0.5)\n",
    "bottom = np.zeros(int(n/2))\n",
    "names = [\"a\", \"b\", \"c\", \"d\", \"e\"]\n",
    "palette=sns.color_palette([\"#ed254e\",\"#f9dc5c\",\"#386641\",\"#648de5\",\"#2e294e\"])\n",
    "\n",
    "labels_control = tuple([f\"Control {j+1}\" for j in range(int(n/2))])\n",
    "for i in range(p):\n",
    "    name = names[i]\n",
    "    ax[0].bar(x=labels_control, height=x_control[:, i].flatten(), width=width, label=name, bottom=bottom, color=palette[i])\n",
    "    bottom += x_control[:, i]\n",
    "ax[0].set_xticks([], [])\n",
    "ax[0].set_ylabel(\"Proportion\")\n",
    "ax[0].set_xlabel(\"Control\")\n",
    "\n",
    "bottom = np.zeros(int(n/2))\n",
    "labels_case = tuple([f\"Treatment {j+1}\" for j in range(int(n/2))])\n",
    "for i in range(p):\n",
    "    name = names[i]\n",
    "    ax[1].bar(x=labels_case, height=x_case[:, i].flatten(), width=width, label=name, bottom=bottom, color=palette[i])\n",
    "    bottom += x_case[:, i]\n",
    "ax[1].set_xticks([], [])\n",
    "ax[1].set_ylabel(\"\")\n",
    "ax[1].set_xlabel(\"Treatment\")\n",
    "\n",
    "sns.despine()\n",
    "# plt.tight_layout()\n",
    "\n",
    "save_dir = \".\"\n",
    "plt.savefig(f\"{save_dir}/concept_bars.svg\", bbox_inches='tight', format='svg')\n",
    "plt.savefig(f\"{save_dir}/concept_bars.png\", bbox_inches='tight', format='png', dpi=300)\n",
    "\n",
    "plt.show()"
   ],
   "id": "be9a36adf07bf34e",
   "outputs": [
    {
     "data": {
      "text/plain": [
       "<Figure size 700x400 with 2 Axes>"
      ],
      "image/png": "[encoded data removed]"
     },
     "metadata": {},
     "output_type": "display_data"
    }
   ],
   "execution_count": 7
  },
  {
   "metadata": {
    "ExecuteTime": {
     "end_time": "2024-10-10T07:49:21.533957Z",
     "start_time": "2024-10-10T07:49:20.835266Z"
    }
   },
   "cell_type": "code",
   "source": [
    "tol = 1e-8\n",
    "\n",
    "maxit = 1000\n",
    "nlambda = 200\n",
    "h_mode = \"pow\"\n",
    "h_param1 = 2\n",
    "\n",
    "lambda1s = np.exp(np.linspace(np.log(1.5), np.log(1e-7), nlambda))\n",
    "res = go.estimate(x, symmetric=\"symmetric\", cov=np.repeat((0,1), n/2), tol=tol, maxit=maxit, centered=False, scale=\"\", lambda1s=lambda1s, h_param1=h_param1, BIC_refit=True, return_raw=True, return_elts=True, diagonal_multiplier=None, cv_fold=5, cv_fold_seed=42, sum_zero=True, a=0, b=0)\n",
    "lambda_cv_id, lambda_cv, K_opt, eta_0_opt, eta_c_opt = go.get_K_eta_cv(x, res)\n",
    "test = go.da_test(res, lambda_cv_id, np.repeat((0,1), n/2))\n",
    "test"
   ],
   "id": "9ed4784a6d34ef3a",
   "outputs": [
    {
     "name": "stderr",
     "output_type": "stream",
     "text": [
      "/Users/johannesostner/Documents/PhD/score_matching_CODA/cosmoDA/cosmoDA/cosmoDA.py:865: RuntimeWarning: divide by zero encountered in scalar divide\n",
      "  if ((lambda1 != 0) & (np.abs(l1 - lambda1) / lambda1 <= tol) &\n",
      "/Users/johannesostner/Documents/PhD/score_matching_CODA/cosmoDA/cosmoDA/cosmoDA.py:868: RuntimeWarning: invalid value encountered in scalar divide\n",
      "  ((lambda2 != np.inf) & (l2 != 0) & (np.abs(l2 - lambda2) / lambda2 <= tol)) &\n",
      "/opt/anaconda3/envs/cosmoDA/lib/python3.11/site-packages/numpy/core/_methods.py:173: RuntimeWarning: invalid value encountered in subtract\n",
      "  x = asanyarray(arr - arrmean)\n"
     ]
    },
    {
     "data": {
      "text/plain": [
       "  Parameter   estimate        std      pval      qval\n",
       "0   eta_0_0   6.115694   2.838878  0.031219  0.052032\n",
       "1   eta_0_1   5.403219   3.086006  0.079967  0.079967\n",
       "2   eta_0_2   7.445470   3.748288  0.046993  0.058741\n",
       "3   eta_0_3   8.177502   2.935765  0.005345  0.016490\n",
       "4   eta_0_4   9.258143   3.408016  0.006596  0.016490\n",
       "5   eta_c_0   0.665820   2.838070  0.814517  0.814517\n",
       "6   eta_c_1   4.368000   4.432794  0.324436  0.405545\n",
       "7   eta_c_2  21.104009   8.159178  0.009695  0.024237\n",
       "8   eta_c_3  37.467525  19.681682  0.056953  0.094921\n",
       "9   eta_c_4  45.775645  17.679853  0.009622  0.024237"
      ],
      "text/html": [
       "<div>\n",
       "<style scoped>\n",
       "    .dataframe tbody tr th:only-of-type {\n",
       "        vertical-align: middle;\n",
       "    }\n",
       "\n",
       "    .dataframe tbody tr th {\n",
       "        vertical-align: top;\n",
       "    }\n",
       "\n",
       "    .dataframe thead th {\n",
       "        text-align: right;\n",
       "    }\n",
       "</style>\n",
       "<table border=\"1\" class=\"dataframe\">\n",
       "  <thead>\n",
       "    <tr style=\"text-align: right;\">\n",
       "      <th></th>\n",
       "      <th>Parameter</th>\n",
       "      <th>estimate</th>\n",
       "      <th>std</th>\n",
       "      <th>pval</th>\n",
       "      <th>qval</th>\n",
       "    </tr>\n",
       "  </thead>\n",
       "  <tbody>\n",
       "    <tr>\n",
       "      <th>0</th>\n",
       "      <td>eta_0_0</td>\n",
       "      <td>6.115694</td>\n",
       "      <td>2.838878</td>\n",
       "      <td>0.031219</td>\n",
       "      <td>0.052032</td>\n",
       "    </tr>\n",
       "    <tr>\n",
       "      <th>1</th>\n",
       "      <td>eta_0_1</td>\n",
       "      <td>5.403219</td>\n",
       "      <td>3.086006</td>\n",
       "      <td>0.079967</td>\n",
       "      <td>0.079967</td>\n",
       "    </tr>\n",
       "    <tr>\n",
       "      <th>2</th>\n",
       "      <td>eta_0_2</td>\n",
       "      <td>7.445470</td>\n",
       "      <td>3.748288</td>\n",
       "      <td>0.046993</td>\n",
       "      <td>0.058741</td>\n",
       "    </tr>\n",
       "    <tr>\n",
       "      <th>3</th>\n",
       "      <td>eta_0_3</td>\n",
       "      <td>8.177502</td>\n",
       "      <td>2.935765</td>\n",
       "      <td>0.005345</td>\n",
       "      <td>0.016490</td>\n",
       "    </tr>\n",
       "    <tr>\n",
       "      <th>4</th>\n",
       "      <td>eta_0_4</td>\n",
       "      <td>9.258143</td>\n",
       "      <td>3.408016</td>\n",
       "      <td>0.006596</td>\n",
       "      <td>0.016490</td>\n",
       "    </tr>\n",
       "    <tr>\n",
       "      <th>5</th>\n",
       "      <td>eta_c_0</td>\n",
       "      <td>0.665820</td>\n",
       "      <td>2.838070</td>\n",
       "      <td>0.814517</td>\n",
       "      <td>0.814517</td>\n",
       "    </tr>\n",
       "    <tr>\n",
       "      <th>6</th>\n",
       "      <td>eta_c_1</td>\n",
       "      <td>4.368000</td>\n",
       "      <td>4.432794</td>\n",
       "      <td>0.324436</td>\n",
       "      <td>0.405545</td>\n",
       "    </tr>\n",
       "    <tr>\n",
       "      <th>7</th>\n",
       "      <td>eta_c_2</td>\n",
       "      <td>21.104009</td>\n",
       "      <td>8.159178</td>\n",
       "      <td>0.009695</td>\n",
       "      <td>0.024237</td>\n",
       "    </tr>\n",
       "    <tr>\n",
       "      <th>8</th>\n",
       "      <td>eta_c_3</td>\n",
       "      <td>37.467525</td>\n",
       "      <td>19.681682</td>\n",
       "      <td>0.056953</td>\n",
       "      <td>0.094921</td>\n",
       "    </tr>\n",
       "    <tr>\n",
       "      <th>9</th>\n",
       "      <td>eta_c_4</td>\n",
       "      <td>45.775645</td>\n",
       "      <td>17.679853</td>\n",
       "      <td>0.009622</td>\n",
       "      <td>0.024237</td>\n",
       "    </tr>\n",
       "  </tbody>\n",
       "</table>\n",
       "</div>"
      ]
     },
     "execution_count": 9,
     "metadata": {},
     "output_type": "execute_result"
    }
   ],
   "execution_count": 9
  },
  {
   "metadata": {
    "ExecuteTime": {
     "end_time": "2024-10-10T07:49:23.347671Z",
     "start_time": "2024-10-10T07:49:22.502144Z"
    }
   },
   "cell_type": "code",
   "source": [
    "import matplotlib\n",
    "plt.figure(figsize=(5, 3))\n",
    "rel_abs = np.logspace(start=-5, stop=0, num=100)\n",
    "a_s = [0.01, 0.05, 0.1, 0.5, 1]\n",
    "cmap = matplotlib.cm.get_cmap('tab10')\n",
    "c = 0\n",
    "for a in a_s:\n",
    "    plt.plot(rel_abs, (rel_abs**a-1)/a, label=a, color=cmap(c))\n",
    "    c += 1\n",
    "plt.plot(rel_abs, np.log(rel_abs), label=\"log\", color=\"black\")\n",
    "plt.legend(bbox_to_anchor=(1.05, 1), loc=2, borderaxespad=0., title=\"$\\phi$\")\n",
    "plt.xlabel(\"$X$\")\n",
    "plt.ylabel(\"$(X^{\\phi} -1)/{\\phi}$\")\n",
    "\n",
    "plt.xscale(\"log\")\n",
    "save_dir = \".\"\n",
    "plt.savefig(f\"{save_dir}/concept_power.svg\", bbox_inches='tight', format='svg')\n",
    "plt.savefig(f\"{save_dir}/concept_power.png\", bbox_inches='tight', format='png', dpi=300)\n",
    "\n",
    "plt.show()"
   ],
   "id": "39df170ba4f1023",
   "outputs": [
    {
     "name": "stderr",
     "output_type": "stream",
     "text": [
      "/var/folders/sp/vkxzpjtj3ml_0r91ng1z6vx00000gn/T/ipykernel_90076/1861565662.py:5: MatplotlibDeprecationWarning: The get_cmap function was deprecated in Matplotlib 3.7 and will be removed in 3.11. Use ``matplotlib.colormaps[name]`` or ``matplotlib.colormaps.get_cmap()`` or ``pyplot.get_cmap()`` instead.\n",
      "  cmap = matplotlib.cm.get_cmap('tab10')\n"
     ]
    },
    {
     "data": {
      "text/plain": [
       "<Figure size 500x300 with 1 Axes>"
      ],
      "image/png": "[encoded data removed]"
     },
     "metadata": {},
     "output_type": "display_data"
    }
   ],
   "execution_count": 10
  },
  {
   "metadata": {
    "ExecuteTime": {
     "end_time": "2024-10-10T07:49:24.234844Z",
     "start_time": "2024-10-10T07:49:23.921115Z"
    }
   },
   "cell_type": "code",
   "source": [
    "fig, ax = plt.subplots(1, 1, figsize=(6, 3))\n",
    "data_df = pd.DataFrame(x, columns=names, index=[f\"x_{i}\" for i in range(n)])\n",
    "data_df[\"Treatment\"] = np.repeat((\"Control\", \"Treatment\"), int(n/2))\n",
    "data_long = pd.melt(data_df.reset_index(), id_vars=(\"index\", \"Treatment\"), value_vars=names)\n",
    "data_long[\"Feature\"] = pd.Categorical(data_long[\"variable\"], categories=names)\n",
    "\n",
    "sns.boxplot(data=data_long, x=\"Treatment\", y=\"value\", hue=\"Feature\", palette=palette, ax=ax)\n",
    "ax.set_yscale(\"log\")\n",
    "ax.set_ylabel(\"Proportion\")\n",
    "ax.set_xlabel(\"Condition\")\n",
    "print(ax.get_legend_handles_labels())\n",
    "ax.legend(bbox_to_anchor=(1.01, 1), loc=2, \n",
    "          labels=[\"Feature a: $p_{adj} < 0.05$\", \"Feature b: $p_{adj} > 0.05$\", \"Feature c: $p_{adj} > 0.05$\", \"Feature d: $p_{adj} > 0.05$\", \"Feature e: $p_{adj} > 0.05$\"],\n",
    "          handles=ax.get_legend_handles_labels()[0])\n",
    "sns.despine()\n",
    "plt.tight_layout()\n",
    "\n",
    "save_dir = \".\"\n",
    "plt.savefig(f\"{save_dir}/concept_da.svg\", bbox_inches='tight', format='svg')\n",
    "plt.savefig(f\"{save_dir}/concept_da.png\", bbox_inches='tight', format='png', dpi=300)\n",
    "plt.show()"
   ],
   "id": "99e36aebebf32c9b",
   "outputs": [
    {
     "name": "stdout",
     "output_type": "stream",
     "text": [
      "([<matplotlib.patches.Rectangle object at 0x3218f0450>, <matplotlib.patches.Rectangle object at 0x321afb090>, <matplotlib.patches.Rectangle object at 0x17fa5f390>, <matplotlib.patches.Rectangle object at 0x320c9ded0>, <matplotlib.patches.Rectangle object at 0x321aeb650>], ['a', 'b', 'c', 'd', 'e'])\n"
     ]
    },
    {
     "data": {
      "text/plain": [
       "<Figure size 600x300 with 1 Axes>"
      ],
      "image/png": "[encoded data removed]"
     },
     "metadata": {},
     "output_type": "display_data"
    }
   ],
   "execution_count": 11
  },
  {
   "metadata": {},
   "cell_type": "code",
   "source": "",
   "id": "3188be789d49a64e",
   "outputs": [],
   "execution_count": null
  }
 ],
 "metadata": {
  "kernelspec": {
   "display_name": "Python 3",
   "language": "python",
   "name": "python3"
  },
  "language_info": {
   "codemirror_mode": {
    "name": "ipython",
    "version": 2
   },
   "file_extension": ".py",
   "mimetype": "text/x-python",
   "name": "python",
   "nbconvert_exporter": "python",
   "pygments_lexer": "ipython2",
   "version": "2.7.6"
  }
 },
 "nbformat": 4,
 "nbformat_minor": 5
}
