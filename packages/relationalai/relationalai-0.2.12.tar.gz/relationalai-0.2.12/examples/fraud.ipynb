{
 "cells": [
  {
   "cell_type": "markdown",
   "id": "9a76db9f-7b15-49d0-84fa-1ebccddf97b7",
   "metadata": {},
   "source": [
    "# Fraud example"
   ]
  },
  {
   "cell_type": "code",
   "execution_count": null,
   "id": "489c07ad-a035-4d4d-a6df-4b425fab31fb",
   "metadata": {},
   "outputs": [],
   "source": [
    "import relationalai as rai\n",
    "\n",
    "model = rai.Model(\"fraud\")\n",
    "\n",
    "Person = model.Type(\"Person\")\n",
    "Customer = model.Type(\"Customer\")\n",
    "Criminal = model.Type(\"Criminal\")\n",
    "Transaction = model.Type(\"Transaction\")\n",
    "Suspicious = model.Type(\"Suspicious\")\n",
    "ImmediateReview = model.Type(\"ImmediateReview\")"
   ]
  },
  {
   "cell_type": "markdown",
   "id": "c738d219-2797-44d8-82de-cd4f95074658",
   "metadata": {},
   "source": [
    "## Import data"
   ]
  },
  {
   "cell_type": "code",
   "execution_count": null,
   "id": "0e377157-1a24-40cf-85c0-f84c862effb9",
   "metadata": {},
   "outputs": [],
   "source": [
    "with model.rule():\n",
    "    (id, name, age, account, is_criminal) = rai.csv.load_file(model, \"data/people.csv\")\n",
    "    p = Person.add(name=name, age=age, csv_id=id)\n",
    "    with account:\n",
    "        p.set(Customer, account=account)\n",
    "    with is_criminal:\n",
    "        p.set(Criminal)\n",
    "\n",
    "with model.rule():\n",
    "    (txn_id, date, from_id, to_id, amount) = rai.csv.load_file(model, \"data/transactions.csv\")\n",
    "    Transaction.add(\n",
    "        txn_id=txn_id, date=date,\n",
    "        from_=Customer(csv_id=from_id),\n",
    "        to_=Customer(csv_id=to_id),\n",
    "        amount=amount\n",
    "    )"
   ]
  },
  {
   "cell_type": "code",
   "execution_count": null,
   "id": "f52b6dc8-a0a4-4b3c-a99e-3b0a3d506718",
   "metadata": {},
   "outputs": [],
   "source": [
    "with model.query() as select:\n",
    "    txn = Transaction()\n",
    "    res = select(txn, txn.from_.name, txn.to_.name, txn.amount)\n",
    "\n",
    "res"
   ]
  },
  {
   "cell_type": "markdown",
   "id": "cfe3bf03-fd0c-4c26-8e8b-fc1b603635aa",
   "metadata": {},
   "source": [
    "## Identify suspicious transactions"
   ]
  },
  {
   "cell_type": "code",
   "execution_count": null,
   "id": "0f7c1a56-e452-40c6-a733-11eb50d2c7bf",
   "metadata": {},
   "outputs": [],
   "source": [
    "with model.rule():\n",
    "    t = Transaction(from_=Customer(), to_=Criminal())\n",
    "    t.set(Suspicious)\n",
    "    with t.amount > 40000:\n",
    "        t.set(ImmediateReview, review_reason=\"Large transaction to criminal\")\n",
    "\n",
    "with model.query() as select:\n",
    "    txn = ImmediateReview()\n",
    "    res = select(txn.from_.name, txn.to_.name, txn.amount)\n",
    "\n",
    "res"
   ]
  },
  {
   "cell_type": "markdown",
   "id": "9fb0da98-e47b-48a1-977e-4a641e4bf721",
   "metadata": {},
   "source": [
    "## Display graph"
   ]
  },
  {
   "cell_type": "code",
   "execution_count": null,
   "id": "26afb89a-8e41-4c9d-b75a-091a4b0c2329",
   "metadata": {},
   "outputs": [],
   "source": [
    "with model.rule():\n",
    "    s = Suspicious(Transaction)\n",
    "    s.from_.set(Suspicious)\n",
    "    s.to_.set(Suspicious)\n",
    "\n",
    "with model.query() as select:\n",
    "    c = Criminal()\n",
    "    criminals = select(c)\n",
    "\n",
    "criminals = set(criminals.results['criminal'])\n",
    "\n",
    "# Create edges\n",
    "\n",
    "with model.query() as select:\n",
    "    s = Suspicious(Transaction)\n",
    "    edges = select(s.from_, s.to_, s.amount)\n",
    "\n",
    "# Create nodes\n",
    "\n",
    "with model.query() as select:\n",
    "    s = Suspicious(Person)\n",
    "    nodes = select(s, s.name)\n",
    "\n",
    "nodes"
   ]
  },
  {
   "cell_type": "code",
   "execution_count": null,
   "id": "4320500c-57ae-4888-b130-1cb53d589e67",
   "metadata": {
    "scrolled": true
   },
   "outputs": [],
   "source": [
    "import gravis as gv\n",
    "\n",
    "graph1 = {\n",
    "    'graph': {\n",
    "        'directed': True,\n",
    "        'metadata': {\n",
    "            'arrow_size': 5,\n",
    "            'background_color': 'black',\n",
    "            'edge_size': 3,\n",
    "            'edge_label_size': 10,\n",
    "            'edge_label_color': 'white',\n",
    "            'edge_color': '#777',\n",
    "            'node_size': 15,\n",
    "            'node_color': 'white',\n",
    "            'node_label_color': 'white',\n",
    "            'node_label_size': 10,\n",
    "        },\n",
    "        'nodes': {\n",
    "            node_id: {'metadata': {'name': name,\n",
    "                                  'color': '#f88' if node_id in criminals else 'white',\n",
    "                                  }} for (node_id, name) in nodes\n",
    "        },\n",
    "        'edges': [\n",
    "            {\n",
    "                'source': source,\n",
    "                'target': target,\n",
    "                'metadata': {\n",
    "                    'color': '#f44' if amount > 40000 else '#777',\n",
    "                             'label_color': 'orange' if amount > 40000 else '#ccc',\n",
    "                            'amount': f\"${amount/1000:,.0f}k\"}\n",
    "            } for (source, target, amount) in edges\n",
    "        ],\n",
    "    }\n",
    "}\n",
    "gv.vis(graph1,\n",
    "       # show_edge_label=True,\n",
    "       node_label_data_source='name',\n",
    "       edge_label_data_source='amount',\n",
    "       layout_algorithm='forceAtlas2Based',\n",
    "       central_gravity=2.69,\n",
    "       spring_length=13)"
   ]
  },
  {
   "cell_type": "code",
   "execution_count": null,
   "id": "4247fc7f",
   "metadata": {},
   "outputs": [],
   "source": [
    "# Coming soon is the ability to export python functions as SQL stored procedures\n",
    "\n",
    "# @graph.export\n",
    "# def suspicious_transactions(min_amount:int):\n",
    "#     s = Suspicious(Transaction)\n",
    "#     s.amount >= min_amount\n",
    "#     return s\n",
    "\n",
    "# SELECT\n",
    "#   txn.*\n",
    "# FROM\n",
    "#   transaction as txn\n",
    "#   JOIN suspicious_transactions(10000) as sus ON txn.id = sus.id"
   ]
  }
 ],
 "metadata": {
  "kernelspec": {
   "display_name": "Python 3 (ipykernel)",
   "language": "python",
   "name": "python3"
  },
  "language_info": {
   "codemirror_mode": {
    "name": "ipython",
    "version": 3
   },
   "file_extension": ".py",
   "mimetype": "text/x-python",
   "name": "python",
   "nbconvert_exporter": "python",
   "pygments_lexer": "ipython3",
   "version": "3.11.7"
  }
 },
 "nbformat": 4,
 "nbformat_minor": 5
}
