{
 "cells": [
  {
   "cell_type": "markdown",
   "id": "0c8d2593",
   "metadata": {},
   "source": [
    "# Glidertest demo "
   ]
  },
  {
   "cell_type": "markdown",
   "id": "97e9729d-4db2-419c-bbc2-a2078fc9b7dc",
   "metadata": {},
   "source": [
    "\n",
    "The purpose of this notebook is to demostrate the functionality of glidertests functions. \n",
    "This notebooks can be used to diagnose issues within your glider data. We have added suggested processing in some cases."
   ]
  },
  {
   "cell_type": "code",
   "execution_count": null,
   "id": "0813362a",
   "metadata": {},
   "outputs": [],
   "source": [
    "import matplotlib.pyplot as plt\n",
    "import numpy as np\n",
    "from glidertest import fetchers\n",
    "from glidertest import tools, utilities, plots"
   ]
  },
  {
   "cell_type": "markdown",
   "id": "dd041858-c498-4654-a7c8-1731beb839fc",
   "metadata": {},
   "source": [
    "### Load dataset\n",
    "\n",
    "Load an example dataset using `glidertest.fetchers.load_sample_dataset`\n",
    "\n",
    "Alternatively, use your own with e.g. `ds = xr.open_dataset('/path/to/yourfile.nc')`"
   ]
  },
  {
   "cell_type": "code",
   "execution_count": null,
   "id": "c336267e-b924-4bcf-937a-5f0c11857da2",
   "metadata": {},
   "outputs": [],
   "source": [
    "ds = fetchers.load_sample_dataset()"
   ]
  },
  {
   "cell_type": "markdown",
   "id": "6f0be010-d06a-4d24-bc0d-1479ebb76169",
   "metadata": {},
   "source": [
    "### Other example datasets\n",
    "\n",
    "Several other example datasets are available, though they do not have all of the variables required to run the functions in this notebook. Uncomment lines in the following cell to use them"
   ]
  },
  {
   "cell_type": "code",
   "execution_count": null,
   "id": "258b96cf-d9fd-4cfe-96da-32e95868bc40",
   "metadata": {},
   "outputs": [],
   "source": [
    "#ds = fetchers.load_sample_dataset(dataset_name=\"sea055_20220104T1536_delayed.nc\") # Full SeaExplorer mission in the Baltic\n",
    "#ds = fetchers.load_sample_dataset(dataset_name=\"sg015_20050213T230253_delayed.nc\") # Seaglider data\n",
    "#ds = fetchers.load_sample_dataset(dataset_name=\"sg014_20040924T182454_delayed.nc\") # Full Seaglider mission in the Labrador Sea\n",
    "#ds = fetchers.load_sample_dataset(dataset_name=\"sg014_20040924T182454_delayed_subset.nc\") #Subset of a full Seaglider mission in the Labrador Sea\n"
   ]
  },
  {
   "cell_type": "code",
   "execution_count": null,
   "id": "f4f1eb80-1e06-45ec-afbf-7b589d46779b",
   "metadata": {},
   "outputs": [],
   "source": [
    "ds"
   ]
  },
  {
   "cell_type": "markdown",
   "id": "6b93a2ef",
   "metadata": {},
   "source": [
    "### Vertical velocity"
   ]
  },
  {
   "cell_type": "code",
   "execution_count": null,
   "id": "02264a97",
   "metadata": {},
   "outputs": [],
   "source": [
    "# Load glider dataset with vertical velocity parameters\n",
    "ds_sg014 = fetchers.load_sample_dataset(dataset_name=\"sg014_20040924T182454_delayed_subset.nc\") # Subset of a full Seaglider mission in the Labrador Sea\n",
    "\n",
    "# Calculate vertical seawater velocity \n",
    "# First, calculate the vertical speed of the glider from the depth data\n",
    "ds_sg014 = tools.calc_w_meas(ds_sg014)\n",
    "\n",
    "# Next, calculate the vertical seawater speed by differencing the DZDT data and the modelled vertical glider speed\n",
    "ds_sg014 = tools.calc_w_sw(ds_sg014)\n",
    "\n",
    "# Plot about 20 profiles to see the behaviour of the flight model\n",
    "start_prof = 400\n",
    "end_prof = 420\n",
    "plots.plot_vertical_speeds_with_histograms(ds_sg014, start_prof, end_prof);"
   ]
  },
  {
   "cell_type": "code",
   "execution_count": null,
   "id": "f16b9d94",
   "metadata": {},
   "outputs": [],
   "source": [
    "# One way to characterise the flight model performance is to look at the average\n",
    "# vertical seawater velocity for climbs and for dives.  This uses a bin average of the original\n",
    "# data on time intervals, and PHASE to separate dives from climbs\n",
    "\n",
    "# Dive climb bias in the vertical speed\n",
    "# Separate dives and climbs using the PHASE variable, PHASE=2 is a dive, PHASE=1 is a climb\n",
    "ds_dives = ds_sg014.sel(N_MEASUREMENTS=ds_sg014.PHASE == 2)\n",
    "ds_climbs = ds_sg014.sel(N_MEASUREMENTS=ds_sg014.PHASE == 1)\n",
    "\n",
    "# Calculate bin averages\n",
    "ds_out_dives = tools.quant_binavg(ds_dives, var = 'VERT_CURR_MODEL', dz=10)\n",
    "ds_out_climbs = tools.quant_binavg(ds_climbs, var = 'VERT_CURR_MODEL', dz=10)\n",
    "\n",
    "# Plot the profiles (compare to Fig 3 and Fig 4 in Frajka-Williams et al. 2011)\n",
    "plots.plot_combined_velocity_profiles(ds_out_dives, ds_out_climbs)"
   ]
  },
  {
   "cell_type": "markdown",
   "id": "d22b9ca5",
   "metadata": {},
   "source": [
    "### Basic statistics of dataset"
   ]
  },
  {
   "cell_type": "code",
   "execution_count": null,
   "id": "c6fd094f",
   "metadata": {},
   "outputs": [],
   "source": [
    "# Basic plot of the location of the dataset in space/time\n",
    "plots.plot_glider_track(ds)"
   ]
  },
  {
   "cell_type": "code",
   "execution_count": null,
   "id": "620e5523",
   "metadata": {},
   "outputs": [],
   "source": [
    "# Basic diagnostics of the gridding in the dataset\n",
    "plots.plot_grid_spacing(ds);"
   ]
  },
  {
   "cell_type": "code",
   "execution_count": null,
   "id": "6bf7fb8d",
   "metadata": {},
   "outputs": [],
   "source": [
    "# Basic diagnostics of the watermass properties\n",
    "plots.plot_ts(ds);"
   ]
  },
  {
   "cell_type": "markdown",
   "id": "4f0504af-b61b-4369-b2d9-f41101bf06d3",
   "metadata": {},
   "source": [
    "### Check basic data and water column structure first"
   ]
  },
  {
   "cell_type": "code",
   "execution_count": null,
   "id": "df3badf9-77bc-4980-bbcf-667ecbe7ac83",
   "metadata": {},
   "outputs": [],
   "source": [
    "fig, ax = plots.plot_basic_vars(ds,v_res=1, start_prof=0, end_prof=int(ds.PROFILE_NUMBER.max()))"
   ]
  },
  {
   "cell_type": "markdown",
   "id": "34dd4862-c730-49f8-973b-f533407c9e79",
   "metadata": {},
   "source": [
    "### Check if the profile number was assigned well \n",
    "\n",
    "We want to check if the profile number is consistently increasing or not.\n",
    "When using pyglider to assign the profile, there can be some issues if the correct pressure and time threshold is not chosen.\n",
    "\n",
    "Users, based on their dataset will chose a specific min_dp and profile_min_time for the get_profiles_new(). If not chosen carefully, the function may struggle assigning a profile number (resulting in 0s in the middle of the dataset) or could split profiles when, for example, the glider get stuck on pycnoclne\n"
   ]
  },
  {
   "cell_type": "code",
   "execution_count": null,
   "id": "59ff30b8-8894-4c88-b0bc-b9ef13667bfe",
   "metadata": {},
   "outputs": [],
   "source": [
    "tools.check_monotony(ds.PROFILE_NUMBER)\n",
    "plots.plot_prof_monotony(ds);"
   ]
  },
  {
   "cell_type": "markdown",
   "id": "3c8e018e-389b-410b-8455-d37d6effca7e",
   "metadata": {},
   "source": [
    "### Check for up-downcast bias in Salinity, Temperature, Chlorophyll and Oxygen"
   ]
  },
  {
   "cell_type": "code",
   "execution_count": null,
   "id": "1c7071c3-e90c-41de-b1a3-508dae16933f",
   "metadata": {},
   "outputs": [],
   "source": [
    "fig, ax = plt.subplots(1, 4, figsize=(15, 5))\n",
    "plots.plot_updown_bias(tools.quant_updown_bias(ds, var='TEMP', v_res=1), ax[0],  xlabel='Temperature [C]')\n",
    "plots.plot_updown_bias(tools.quant_updown_bias(ds, var='PSAL', v_res=1), ax[1],  xlabel='Salinity [PSU]')\n",
    "plots.plot_updown_bias(tools.quant_updown_bias(ds, var='DOXY', v_res=1), ax[2],  xlabel='Dissolved Oxygen [mmol m-3]')\n",
    "plots.plot_updown_bias(tools.quant_updown_bias(ds, var='CHLA', v_res=1), ax[3],  xlabel='Chlorophyll [mg m-3]')\n",
    "ax[0].set_ylabel('Depth [m]')\n",
    "plt.show()"
   ]
  },
  {
   "cell_type": "markdown",
   "id": "d4553a25-675a-4738-be65-409c0f134ac0",
   "metadata": {},
   "source": [
    "### CTD\n",
    "\n",
    "Check for any thermal intertia related issues\n",
    "\n",
    "Salinity SOP provides a great summary of the needed processing of salinity data and the vaious difference based on sensor modela nd platform type https://oceangliderscommunity.github.io/Salinity_SOP/sections/salinity_dmqc.html"
   ]
  },
  {
   "cell_type": "markdown",
   "id": "4ae684a3-f9a8-454c-804e-a669cd6d25a5",
   "metadata": {},
   "source": [
    "### Chlorophyll fluorescence\n",
    "\n",
    "*  Check bottom data and see if we have stable data that can be used for calibration. We also check stability of data to assess whether or not we have suspicious drift over the mission\n",
    "* We check for any temporal drift when analysing the entire water column and not just the bottom data\n",
    "* We then check if data is affected by non photochemical quenching (NPQ). NPQ is a physiological response to high light environments used by plants and algae to protect themselves from damage and causes an evident weakening in fluorescence signal during the day. With the 'day_night_avg' function, we compute day and night averages of chlorophyll. We then plot a selected section of chlorophyll data with 'plot_section_with_srss' to see if any NPQ effect in the top few meters is visible and then we plot a selcted day daily and night average to check again any NPQ effect with 'plot_daynight_avg'.\n",
    "\n",
    "(Reminder this tests mission had issues with FLBBCD as it stopped working few days into the missiona and got flooded)"
   ]
  },
  {
   "cell_type": "code",
   "execution_count": null,
   "id": "1cb7cb44-d228-4a1b-bdc6-0214b240e4bd",
   "metadata": {},
   "outputs": [],
   "source": [
    "plots.process_optics_assess(ds, var='CHLA');"
   ]
  },
  {
   "cell_type": "code",
   "execution_count": null,
   "id": "c93c6b45-9b6d-40c6-be1b-931eabb59848",
   "metadata": {},
   "outputs": [],
   "source": [
    "plots.check_temporal_drift(ds, var='CHLA')"
   ]
  },
  {
   "cell_type": "code",
   "execution_count": null,
   "id": "9a5830d3-df8e-420b-bdef-cb6ea8e7d3cf",
   "metadata": {},
   "outputs": [],
   "source": [
    "# Let's visually check a section of chlorphyll and see if we observe any NPQ\n",
    "fig, ax = plt.subplots(1, 1, figsize=(15, 5))\n",
    "\n",
    "plots.plot_quench_assess(ds, 'CHLA', ax, ylim=35);"
   ]
  },
  {
   "cell_type": "code",
   "execution_count": null,
   "id": "36ee2bc6-8d67-4ce4-a76f-a7a8df194af9",
   "metadata": {},
   "outputs": [],
   "source": [
    "# Compute day and night average for chlorophylla and temeparture\n",
    "dayT, nightT = tools.compute_daynight_avg(ds, sel_var='TEMP')\n",
    "dayS, nightS = tools.compute_daynight_avg(ds, sel_var='PSAL')\n",
    "dayC, nightC = tools.compute_daynight_avg(ds, sel_var='CHLA')"
   ]
  },
  {
   "cell_type": "code",
   "execution_count": null,
   "id": "4ba12a0d-bcdf-42e2-a705-aed268977b95",
   "metadata": {},
   "outputs": [],
   "source": [
    "fig, ax = plt.subplots(1, 3, figsize=(15, 5))\n",
    "\n",
    "plots.plot_daynight_avg( dayT, nightT, ax[0], xlabel='Temperature [C]')\n",
    "plots.plot_daynight_avg( dayS, nightS, ax[1], xlabel='Salinity [PSU]')\n",
    "plots.plot_daynight_avg( dayC, nightC, ax[2], xlabel='Chlorophyll [mg m-3]')\n",
    "plt.show()"
   ]
  },
  {
   "cell_type": "markdown",
   "id": "60e18c38-0911-443d-8543-6099237f4475",
   "metadata": {},
   "source": [
    "Do we see any difference in chl between day and night? Can this just simply be explained by changes in water mass properties (different temp and salinity)?"
   ]
  },
  {
   "cell_type": "markdown",
   "id": "1af62665-5c60-457f-8ee4-c83d0139c8c1",
   "metadata": {},
   "source": [
    "#### Non photochemical quenching corrections\n",
    "NPQ occurs only during the daytime, therefore when night measurements close in time and \n",
    "space are available, they can be used to correct daytime profiles. Different methods exist for NPQ \n",
    "correction. We recommend the paper by Thomalla et al. (2018) for a good overview on all possible methods. \n",
    "GliderTools (https://glidertools.readthedocs.io/en/latest/optics.html#quenching-correction) provides good tools for correction\n",
    "\n",
    "Thomalla, S. J., W. Moutier, T. J. Ryan-Keogh, L. Gregor, and J. Schütt. 2018. An optimized \n",
    "method for correcting fluorescence quenching using optical backscattering on autonomous \n",
    "platforms. Limnology and Oceanography: Methods, 16: 132-144. DOI: \n",
    "https://doi.org/10.1002/lom3.10234"
   ]
  },
  {
   "cell_type": "markdown",
   "id": "6f23e85e-80a2-45b0-af03-817223db10c0",
   "metadata": {},
   "source": [
    "### Photosyntetically Active Radiation (PAR)"
   ]
  },
  {
   "cell_type": "code",
   "execution_count": null,
   "id": "c2c640e7-f3e0-4e7a-b652-c1efbc0c2fc7",
   "metadata": {},
   "outputs": [],
   "source": [
    "fig, ax = plt.subplots(1, 1, figsize=(5, 5))\n",
    "plots.plot_updown_bias(tools.quant_updown_bias(ds, var='DPAR', v_res=1), ax,  xlabel='Irradiance')\n",
    "plt.show()"
   ]
  },
  {
   "cell_type": "markdown",
   "id": "da91f0b2-99d9-44f9-b593-006f3cd20244",
   "metadata": {},
   "source": [
    "Do we notice any strong up down cast bias?\n",
    "\n",
    "Likely we do as the diving angle changes. The pitch for upcast and downcast are very different while the position of the sensor remains the same. This means that the angle at which the sensor is exposed to light is very different and data will not be comparable. Furthermore, navigation patterns have to be considered too when processing PAR data. As the glider sits at surface, the pitch (therefore the sensor angle) can be very different from the rest of the dive. Moreover, as the glider starts to dive or prepares for surfacing during a climb the pitch may be very different as well.\n",
    "\n",
    "Discarding and reconstructing algebraically the surface PAR using an exponential equation and selecting data from only up or downcast is therefore recommended. GliderTools provides great examples and functions to address this issues (https://glidertools.readthedocs.io/en/latest/optics.html#par-replacement)"
   ]
  },
  {
   "cell_type": "markdown",
   "id": "5d15da55-af84-41d0-aedd-d699b651c4de",
   "metadata": {},
   "source": [
    "### Optical Backscatter\n",
    "\n",
    "*  Check bottom data and see if we have stable data that can be used for calibration. We also check stability of data to assess whether or not we have suspicious drift over the mission\n",
    "* We check for any temporal drift when analysing the entire water column and not just the bottom data\n",
    "* In case computation of particle backscattering from the scaled optical data was not done, this can be done following a function from GliderTools. this functions uses uses the coefficients from Zhang et al. (2009) to convert the raw counts into total backscatter (m-1), correcting for temperature and salinity. The $\\chi$ factor and $\\theta$ in this example were taken from Sullivan et al. (2013) and Slade & Boss (2015).\n",
    "\n",
    "Slade, W., Boss, E. 2015. Spectral attenuation and backscattering as indicators of average particle size. Applied Optics 54: 7264-7277, doi:10.1364/AO.54.00726. \n",
    "\n",
    "Sullivan, J., Twardowski, M., Zaneveld, J.R.V., Moore, C. 2013. Measuring optical backscattering in water. Light Scattering Reviews 7. 189-224. 10.1007/978-3-642-21907-8_6.\n",
    "\n",
    "Zhang, X., and L. Hu. 2009. Estimating scattering of pure water from density fluctuation of the \n",
    "refractive index. Optics Express, 17: 1671-1678. DOI: 10.1364/OE.17.001671 7"
   ]
  },
  {
   "cell_type": "code",
   "execution_count": null,
   "id": "5975e520-b695-4dd9-bbce-58feb91e4164",
   "metadata": {},
   "outputs": [],
   "source": [
    "plots.process_optics_assess(ds, var='BBP700');"
   ]
  },
  {
   "cell_type": "markdown",
   "id": "f8c7d90a-6482-4f25-b417-ecc6e2e7f65d",
   "metadata": {},
   "source": [
    "### Oxygen\n",
    "\n",
    "*  Check for any possible drift in the data that might look suspicious. The great temporal and spatial variability may not allow for such check to be succesful. Evaluation using reference CTD cast data or any other data available in the stufy area is recommended.\n",
    "\n",
    "Oxygen SOP provides a great summary of the needed processing of salinity data and the vaious difference based on sensor model and platform type https://oceangliderscommunity.github.io/Salinity_SOP/sections/salinity_dmqc.html"
   ]
  },
  {
   "cell_type": "code",
   "execution_count": null,
   "id": "d6096ce8-2a9a-4d36-bde2-3148045191aa",
   "metadata": {},
   "outputs": [],
   "source": [
    "plots.check_temporal_drift(ds, var='DOXY');"
   ]
  },
  {
   "cell_type": "markdown",
   "id": "d420085d-8021-417b-af0e-b565b72566f9",
   "metadata": {},
   "source": [
    "### Hysteresis"
   ]
  },
  {
   "cell_type": "code",
   "execution_count": null,
   "id": "5470e896-7a50-4d1d-bbff-89ed8ea90cc8",
   "metadata": {},
   "outputs": [],
   "source": [
    "df, diff, err, rms = tools.compute_hyst_stat(ds, var='DOXY', v_res=1)\n",
    "fig, ax = plots.plot_hysteresis(ds, var='DOXY')"
   ]
  },
  {
   "cell_type": "code",
   "execution_count": null,
   "id": "3f129c63-73c4-4e0d-8d33-451e90eaa309",
   "metadata": {},
   "outputs": [],
   "source": [
    "if len(err.where(err>2).dropna())<2:\n",
    "    print('No data has an percentage error above 2% when the difference between up and downcast is computed')\n",
    "else:\n",
    "    print(f'{int((100*len(err.where(err>2).dropna()))/len(err))}% of the data has a percentage error above 2 %. \\nThe error reaches {int(np.nanmax(err))}% at {int(df.depth[np.where(err==np.nanmax(err))[0][0]])}m. \\nThis may idicate data shows hysteresis. \\nThe RMS between climb and dive data is {np.round(rms, 1)}')"
   ]
  }
 ],
 "metadata": {
  "kernelspec": {
   "display_name": "Python 3 (ipykernel)",
   "language": "python",
   "name": "python3"
  },
  "language_info": {
   "codemirror_mode": {
    "name": "ipython",
    "version": 3
   },
   "file_extension": ".py",
   "mimetype": "text/x-python",
   "name": "python",
   "nbconvert_exporter": "python",
   "pygments_lexer": "ipython3",
   "version": "3.10.12"
  }
 },
 "nbformat": 4,
 "nbformat_minor": 5
}
