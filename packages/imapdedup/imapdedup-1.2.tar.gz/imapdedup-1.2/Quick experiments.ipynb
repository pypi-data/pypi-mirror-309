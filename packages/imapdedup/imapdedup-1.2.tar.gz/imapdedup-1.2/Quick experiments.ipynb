{
 "cells": [
  {
   "cell_type": "markdown",
   "metadata": {},
   "source": [
    "# Quick experiments with imaplib"
   ]
  },
  {
   "cell_type": "code",
   "execution_count": 2,
   "metadata": {
    "collapsed": false
   },
   "outputs": [
    {
     "data": {
      "text/plain": [
       "('OK',\n",
       " [b'(\\\\HasChildren) \".\" INBOX',\n",
       "  b'(\\\\HasNoChildren \\\\Archive) \".\" INBOX.Archive',\n",
       "  b'(\\\\HasNoChildren) \".\" INBOX.Archives.1991',\n",
       "  b'(\\\\HasNoChildren) \".\" INBOX.Archives.1992',\n",
       "  b'(\\\\HasNoChildren) \".\" INBOX.Archives.1993',\n",
       "  b'(\\\\HasNoChildren) \".\" INBOX.Archives.1994',\n",
       "  b'(\\\\HasNoChildren) \".\" INBOX.Archives.1995',\n",
       "  b'(\\\\HasNoChildren) \".\" INBOX.Archives.1996',\n",
       "  b'(\\\\HasNoChildren) \".\" INBOX.Archives.1997',\n",
       "  b'(\\\\HasNoChildren) \".\" INBOX.Archives.1998',\n",
       "  b'(\\\\HasNoChildren) \".\" INBOX.Archives.1999',\n",
       "  b'(\\\\HasNoChildren) \".\" INBOX.Archives.2000',\n",
       "  b'(\\\\HasNoChildren) \".\" INBOX.Archives.2001',\n",
       "  b'(\\\\HasNoChildren) \".\" INBOX.Archives.2002',\n",
       "  b'(\\\\HasNoChildren) \".\" INBOX.Archives.2003',\n",
       "  b'(\\\\HasNoChildren) \".\" INBOX.Archives.2004',\n",
       "  b'(\\\\HasNoChildren) \".\" INBOX.Archives.2005',\n",
       "  b'(\\\\HasNoChildren) \".\" INBOX.Archives.2006',\n",
       "  b'(\\\\HasNoChildren) \".\" INBOX.Archives.2007',\n",
       "  b'(\\\\HasNoChildren) \".\" INBOX.Archives.2008',\n",
       "  b'(\\\\HasNoChildren) \".\" INBOX.Archives.2009',\n",
       "  b'(\\\\HasNoChildren) \".\" INBOX.Archives.2010',\n",
       "  b'(\\\\HasNoChildren) \".\" INBOX.Archives.2011',\n",
       "  b'(\\\\HasNoChildren) \".\" INBOX.Archives.2012',\n",
       "  b'(\\\\HasNoChildren) \".\" INBOX.Archives.2013',\n",
       "  b'(\\\\HasNoChildren) \".\" \"INBOX.Archives.invalid dates\"',\n",
       "  b'(\\\\HasNoChildren) \".\" \"INBOX.Deleted Messages\"',\n",
       "  b'(\\\\HasNoChildren \\\\Drafts) \".\" INBOX.Drafts',\n",
       "  b'(\\\\HasNoChildren) \".\" INBOX.Facebook',\n",
       "  b'(\\\\HasNoChildren \\\\Junk) \".\" \"INBOX.Junk Mail\"',\n",
       "  b'(\\\\HasNoChildren \\\\XNotes) \".\" INBOX.Notes',\n",
       "  b'(\\\\HasNoChildren) \".\" \"INBOX.Numed Alerts\"',\n",
       "  b'(\\\\HasNoChildren) \".\" \"INBOX.SD Alerts\"',\n",
       "  b'(\\\\HasNoChildren \\\\Sent) \".\" \"INBOX.Sent Items\"',\n",
       "  b'(\\\\HasNoChildren) \".\" INBOX.Test',\n",
       "  b'(\\\\HasNoChildren \\\\Trash) \".\" INBOX.Trash',\n",
       "  b'(\\\\HasNoChildren) \".\" INBOX.Tweets'])"
      ]
     },
     "execution_count": 2,
     "metadata": {},
     "output_type": "execute_result"
    }
   ],
   "source": [
    "import imaplib\n",
    "\n",
    "server = imaplib.IMAP4_SSL('mail.messagingengine.com')\n",
    "if ('STARTTLS' in server.capabilities) and hasattr(server, 'starttls'):\n",
    "    server.starttls()\n",
    "server.login('qsf@qandr.org', 'thepassword')\n",
    "\n",
    "server.list()\n"
   ]
  },
  {
   "cell_type": "code",
   "execution_count": 3,
   "metadata": {
    "collapsed": false
   },
   "outputs": [
    {
     "data": {
      "text/plain": [
       "('OK', [b'9316'])"
      ]
     },
     "execution_count": 3,
     "metadata": {},
     "output_type": "execute_result"
    }
   ],
   "source": [
    "server.select('INBOX')"
   ]
  },
  {
   "cell_type": "code",
   "execution_count": 4,
   "metadata": {
    "collapsed": false
   },
   "outputs": [
    {
     "data": {
      "text/plain": [
       "('OK', [b''])"
      ]
     },
     "execution_count": 4,
     "metadata": {},
     "output_type": "execute_result"
    }
   ],
   "source": [
    "server.search(None, 'DELETED')"
   ]
  },
  {
   "cell_type": "code",
   "execution_count": 5,
   "metadata": {
    "collapsed": false
   },
   "outputs": [
    {
     "data": {
      "text/plain": [
       "('OK', [b'8112'])"
      ]
     },
     "execution_count": 5,
     "metadata": {},
     "output_type": "execute_result"
    }
   ],
   "source": [
    "server.search(None, 'FLAGGED')"
   ]
  },
  {
   "cell_type": "code",
   "execution_count": 8,
   "metadata": {
    "collapsed": false
   },
   "outputs": [
    {
     "ename": "IndexError",
     "evalue": "index out of range",
     "output_type": "error",
     "traceback": [
      "\u001b[0;31m---------------------------------------------------------------------------\u001b[0m",
      "\u001b[0;31mIndexError\u001b[0m                                Traceback (most recent call last)",
      "\u001b[0;32m<ipython-input-8-ed025a0ce6f6>\u001b[0m in \u001b[0;36m<module>\u001b[0;34m()\u001b[0m\n\u001b[0;32m----> 1\u001b[0;31m \u001b[0;34mb''\u001b[0m\u001b[0;34m[\u001b[0m\u001b[0;36m0\u001b[0m\u001b[0;34m]\u001b[0m\u001b[0;34m.\u001b[0m\u001b[0msplit\u001b[0m\u001b[0;34m(\u001b[0m\u001b[0;34m)\u001b[0m\u001b[0;34m\u001b[0m\u001b[0m\n\u001b[0m",
      "\u001b[0;31mIndexError\u001b[0m: index out of range"
     ]
    }
   ],
   "source": [
    "b''[0].split()"
   ]
  },
  {
   "cell_type": "code",
   "execution_count": null,
   "metadata": {
    "collapsed": true
   },
   "outputs": [],
   "source": []
  }
 ],
 "metadata": {
  "kernelspec": {
   "display_name": "Python 3",
   "language": "python",
   "name": "python3"
  },
  "language_info": {
   "codemirror_mode": {
    "name": "ipython",
    "version": 3
   },
   "file_extension": ".py",
   "mimetype": "text/x-python",
   "name": "python",
   "nbconvert_exporter": "python",
   "pygments_lexer": "ipython3",
   "version": "3.6.0"
  }
 },
 "nbformat": 4,
 "nbformat_minor": 2
}
