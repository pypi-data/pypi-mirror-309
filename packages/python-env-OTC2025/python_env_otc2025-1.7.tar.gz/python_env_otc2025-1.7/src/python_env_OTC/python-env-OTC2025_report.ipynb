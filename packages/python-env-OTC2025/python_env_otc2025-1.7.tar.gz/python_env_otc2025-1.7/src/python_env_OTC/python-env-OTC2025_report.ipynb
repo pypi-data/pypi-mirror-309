{
 "cells": [
  {
   "cell_type": "markdown",
   "id": "724a85f6",
   "metadata": {},
   "source": [
    "### Inspecting the test results"
   ]
  },
  {
   "cell_type": "markdown",
   "id": "0b322511-87df-4b2c-ad38-3058e42a794c",
   "metadata": {},
   "source": [
    "If the last test went smoothly, the SEAScope viewer should now be displaying the \"OTC\" letters with color gradients.\n",
    "\n",
    "Now to make sure that all the tests went fine, please execute the following cell by clicking on the Run button (or press Shift + Enter)\n",
    "\n",
    "If something went wrong, please follow the instructions printed below"
   ]
  },
  {
   "cell_type": "code",
   "execution_count": null,
   "id": "17b83f5c-3cd6-4489-8a55-8338e68b78cb",
   "metadata": {},
   "outputs": [],
   "source": [
    "import python_env_OTC\n",
    "python_env_OTC.read_report()"
   ]
  },
  {
   "cell_type": "markdown",
   "id": "85814442",
   "metadata": {},
   "source": [
    "### Concluding the test"
   ]
  },
  {
   "cell_type": "markdown",
   "id": "2a37da35",
   "metadata": {},
   "source": [
    "To conclude the test, execute the following cell. It will stop the notebooks server, so Jupyter will complain about a \"Dead kernel\": simply choose to not reload the kernel and close the browser tab.\n",
    "\n",
    "If you need to re-execute the ``otc2025-check-environment`` command in the future, please restart the SEAScope viewer first so that the tests are not biased by previous failures"
   ]
  },
  {
   "cell_type": "code",
   "execution_count": null,
   "id": "77e06de6",
   "metadata": {},
   "outputs": [],
   "source": [
    "python_env_OTC.stop_notebook()"
   ]
  }
 ],
 "metadata": {
  "kernelspec": {
   "display_name": "Python 3 (ipykernel)",
   "language": "python",
   "name": "python3"
  },
  "language_info": {
   "codemirror_mode": {
    "name": "ipython",
    "version": 3
   },
   "file_extension": ".py",
   "mimetype": "text/x-python",
   "name": "python",
   "nbconvert_exporter": "python",
   "pygments_lexer": "ipython3",
   "version": "3.10.6"
  }
 },
 "nbformat": 4,
 "nbformat_minor": 5
}
