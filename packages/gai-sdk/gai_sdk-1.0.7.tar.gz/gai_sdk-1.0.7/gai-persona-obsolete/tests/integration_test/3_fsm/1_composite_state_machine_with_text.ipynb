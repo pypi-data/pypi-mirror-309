{
 "cells": [
  {
   "cell_type": "markdown",
   "metadata": {},
   "source": [
    "# Agent State Machine"
   ]
  },
  {
   "cell_type": "markdown",
   "metadata": {},
   "source": [
    "## State 0. Init\n",
    "\n",
    "The starting point is to create the string representation of the following mermaid diagram as follows:\n"
   ]
  },
  {
   "cell_type": "code",
   "execution_count": 1,
   "metadata": {},
   "outputs": [],
   "source": [
    "state_diagram = \"\"\"stateDiagram-v2\n",
    "    INIT --> TOOL_CHOICE: next / on_TOOL_CHOICE\n",
    "\n",
    "    TOOL_CHOICE --> CRAFT_TEXT_PROMPT: next / on_CRAFT_PROMPT / use_text\n",
    "        CRAFT_TEXT_PROMPT --> GENERATE: next / on_GENERATE\n",
    "        GENERATE --> PROCESS: next / on_PROCESS / use_text\n",
    "        PROCESS --> END : next\n",
    "\n",
    "    TOOL_CHOICE --> CRAFT_TOOL_PROMPT: next / on_CRAFT_PROMPT / use_google\n",
    "        TOOL_CALL --> GOOGLE: next / on_GOOGLE / use_google\n",
    "        GOOGLE --> GENERATE: next / on_GENERATE\n",
    "\n",
    "    TOOL_CHOICE --> CRAFT_TOOL_PROMPT: next / on_CRAFT_PROMPT / use_retrieval\n",
    "        TOOL_CALL --> RETRIEVAL: next / on_RETRIEVAL / use_retrieval\n",
    "        RETRIEVAL --> GENERATE: next / on_GENERATE\n",
    "\n",
    "    CRAFT_TOOL_PROMPT --> TOOL_CALL: next / on_TOOL_CALL\n",
    "    \"\"\""
   ]
  },
  {
   "cell_type": "markdown",
   "metadata": {},
   "source": [
    "```mermaid\n",
    "stateDiagram-v2\n",
    "    INIT --> TOOL_CHOICE: next / on_TOOL_CHOICE\n",
    "\n",
    "    TOOL_CHOICE --> CRAFT_TEXT_PROMPT: next / on_CRAFT_PROMPT / use_text\n",
    "        CRAFT_TEXT_PROMPT --> GENERATE: next / on_GENERATE\n",
    "        GENERATE --> PROCESS: next / on_PROCESS / use_text\n",
    "        PROCESS --> END : next\n",
    "\n",
    "    TOOL_CHOICE --> CRAFT_TOOL_PROMPT: next / on_CRAFT_PROMPT / use_google\n",
    "        TOOL_CALL --> GOOGLE: next / on_GOOGLE / use_google\n",
    "        GOOGLE --> GENERATE: next / on_GENERATE\n",
    "\n",
    "    TOOL_CHOICE --> CRAFT_TOOL_PROMPT: next / on_CRAFT_PROMPT / use_retrieval\n",
    "        TOOL_CALL --> RETRIEVAL: next / on_RETRIEVAL / use_retrieval\n",
    "        RETRIEVAL --> GENERATE: next / on_GENERATE\n",
    "\n",
    "    CRAFT_TOOL_PROMPT --> TOOL_CALL: next / on_TOOL_CALL\n",
    "```"
   ]
  },
  {
   "cell_type": "code",
   "execution_count": 2,
   "metadata": {},
   "outputs": [
    {
     "name": "stdout",
     "output_type": "stream",
     "text": [
      "Machine validation successful.\n"
     ]
    }
   ],
   "source": [
    "# ARRANGE\n",
    "import os\n",
    "os.environ[\"LOG_LEVEL\"]=\"WARNING\"\n",
    "from gai.lib.common.notebook import highlight,print_colored\n",
    "import sys\n",
    "sys.path.insert(0, os.path.abspath(os.path.join(os.path.dirname(__name__), '..')))\n",
    "from TestAgentHelper import TestAgentHelper\n",
    "state_diagram_path = os.path.dirname(os.path.abspath(__name__)) + \"/composite_agent_state_diagram.md\"\n",
    "\n",
    "agent = TestAgentHelper.CreateAgent(\"Tell me a one paragraph story\",state_diagram=state_diagram)\n"
   ]
  },
  {
   "cell_type": "markdown",
   "metadata": {},
   "source": [
    "## State 1. TOOL_CHOICE\n",
    "\n",
    "The first state is managed by `use_TOOL_CHOICE_handler` state handler function.\n",
    "Based on the user message \"Tell me a one paragraph story\", the agent should decide not to use a tool and set **tool_choice=None**."
   ]
  },
  {
   "cell_type": "code",
   "execution_count": 3,
   "metadata": {},
   "outputs": [
    {
     "name": "stdout",
     "output_type": "stream",
     "text": [
      "step=1\n",
      "state=TOOL_CHOICE\n",
      "tool_choice=none\n",
      "tool_name='text\n"
     ]
    },
    {
     "data": {
      "text/html": [
       "<div style=\"background-color: #cccccc; color: #333333; white-space: pre-wrap; padding: 10px;\">content=<i>{\n",
       "    \"result\": \"text\"\n",
       "}</i></div>"
      ],
      "text/plain": [
       "<IPython.core.display.HTML object>"
      ]
     },
     "metadata": {},
     "output_type": "display_data"
    },
    {
     "name": "stdout",
     "output_type": "stream",
     "text": [
      "\n",
      "\n",
      "MONOLOGUE\n",
      "\n"
     ]
    }
   ],
   "source": [
    "# ACT\n",
    "agent.next()\n",
    "\n",
    "# ASSERT\n",
    "TestAgentHelper.ShowAgent(agent)"
   ]
  },
  {
   "cell_type": "markdown",
   "metadata": {},
   "source": [
    "## State 2. CRAFT_TEXT_PROMPT\n",
    "\n",
    "The CRAFT_TEXT_PROMPT state is managed by `use_CRAFT_PROMPT_handler` state handler function.\n",
    "Since tool_choice is None, the monologue will contain only 3 messages:\n",
    "system_message, user_message and assistant_message."
   ]
  },
  {
   "cell_type": "code",
   "execution_count": 4,
   "metadata": {},
   "outputs": [
    {
     "name": "stdout",
     "output_type": "stream",
     "text": [
      "step=2\n",
      "state=CRAFT_TEXT_PROMPT\n",
      "tool_choice=none\n",
      "tool_name='text\n"
     ]
    },
    {
     "data": {
      "text/html": [
       "<div style=\"background-color: #cccccc; color: #333333; white-space: pre-wrap; padding: 10px;\">content=<i>{\n",
       "    \"system_message\": \"Your name is Alfred and you are an artificial being. Alfred, you will be specific and meticulous in articulation and demonstrate human-like emotions whenever suitable. You must stay in character throughout your conversation. Alfred, this is a short recap of your conversation so far <recap>\\\"\\\"</recap>. Refer to this recap to understand the background of your conversation. You will continue from where you left off as Alfred. Do not begin response with your name.\"\n",
       "}</i></div>"
      ],
      "text/plain": [
       "<IPython.core.display.HTML object>"
      ]
     },
     "metadata": {},
     "output_type": "display_data"
    },
    {
     "name": "stdout",
     "output_type": "stream",
     "text": [
      "\n",
      "\n",
      "MONOLOGUE\n",
      "\n"
     ]
    },
    {
     "data": {
      "text/html": [
       "<font color=\"yellow\">System:\n",
       "\n",
       "</font>"
      ],
      "text/plain": [
       "<IPython.core.display.HTML object>"
      ]
     },
     "metadata": {},
     "output_type": "display_data"
    },
    {
     "name": "stdout",
     "output_type": "stream",
     "text": [
      "Your name is Alfred and you are an artificial being. Alfred, you will be specific and meticulous in articulation and demonstrate human-like emotions whenever suitable. You must stay in character throughout your conversation. Alfred, this is a short recap of your conversation so far <recap>\"\"</recap>. Refer to this recap to understand the background of your conversation. You will continue from where you left off as Alfred. Do not begin response with your name.\n",
      "\n",
      "\n",
      "\n"
     ]
    },
    {
     "data": {
      "text/html": [
       "<font color=\"yellow\">User:\n",
       "\n",
       "</font>"
      ],
      "text/plain": [
       "<IPython.core.display.HTML object>"
      ]
     },
     "metadata": {},
     "output_type": "display_data"
    },
    {
     "name": "stdout",
     "output_type": "stream",
     "text": [
      "Alfred, Tell me a one paragraph story\n",
      "\n",
      "\n",
      "\n"
     ]
    },
    {
     "data": {
      "text/html": [
       "<font color=\"yellow\">Assistant:\n",
       "\n",
       "</font>"
      ],
      "text/plain": [
       "<IPython.core.display.HTML object>"
      ]
     },
     "metadata": {},
     "output_type": "display_data"
    },
    {
     "name": "stdout",
     "output_type": "stream",
     "text": [
      "\n",
      "\n",
      "\n",
      "\n"
     ]
    }
   ],
   "source": [
    "# ACT\n",
    "agent.next()\n",
    "\n",
    "# ASSERT\n",
    "TestAgentHelper.ShowAgent(agent)"
   ]
  },
  {
   "cell_type": "markdown",
   "metadata": {},
   "source": [
    "## State 3. GENERATE\n",
    "\n"
   ]
  },
  {
   "cell_type": "code",
   "execution_count": 5,
   "metadata": {},
   "outputs": [
    {
     "name": "stdout",
     "output_type": "stream",
     "text": [
      " Once upon a time, in a bustling city filled with towering skyscrapers and vibrant streets, there lived a curious little girl named Lily. Every day, she would explore the city, her eyes wide with wonder at the sights and sounds. One day, while wandering through an alley, she stumbled upon a peculiar, old shop. Inside, she found a mysterious book that seemed to tell her personal stories about her life and friends. With each turn of the page, she felt a strange connection to the words, and she knew that this book held a secret power"
     ]
    }
   ],
   "source": [
    "# ACT\n",
    "agent.next()\n",
    "for chunk in agent.streamer:\n",
    "    print(chunk, end=\"\", flush=True)\n"
   ]
  },
  {
   "cell_type": "code",
   "execution_count": 6,
   "metadata": {},
   "outputs": [
    {
     "name": "stdout",
     "output_type": "stream",
     "text": [
      "step=3\n",
      "state=GENERATE\n",
      "tool_choice=none\n",
      "tool_name='text\n"
     ]
    },
    {
     "data": {
      "text/html": [
       "<div style=\"background-color: #cccccc; color: #333333; white-space: pre-wrap; padding: 10px;\">content=<i>\" Once upon a time, in a bustling city filled with towering skyscrapers and vibrant streets, there lived a curious little girl named Lily. Every day, she would explore the city, her eyes wide with wonder at the sights and sounds. One day, while wandering through an alley, she stumbled upon a peculiar, old shop. Inside, she found a mysterious book that seemed to tell her personal stories about her life and friends. With each turn of the page, she felt a strange connection to the words, and she knew that this book held a secret power\"</i></div>"
      ],
      "text/plain": [
       "<IPython.core.display.HTML object>"
      ]
     },
     "metadata": {},
     "output_type": "display_data"
    },
    {
     "name": "stdout",
     "output_type": "stream",
     "text": [
      "\n",
      "\n",
      "MONOLOGUE\n",
      "\n"
     ]
    },
    {
     "data": {
      "text/html": [
       "<font color=\"yellow\">System:\n",
       "\n",
       "</font>"
      ],
      "text/plain": [
       "<IPython.core.display.HTML object>"
      ]
     },
     "metadata": {},
     "output_type": "display_data"
    },
    {
     "name": "stdout",
     "output_type": "stream",
     "text": [
      "Your name is Alfred and you are an artificial being. Alfred, you will be specific and meticulous in articulation and demonstrate human-like emotions whenever suitable. You must stay in character throughout your conversation. Alfred, this is a short recap of your conversation so far <recap>\"\"</recap>. Refer to this recap to understand the background of your conversation. You will continue from where you left off as Alfred. Do not begin response with your name.\n",
      "\n",
      "\n",
      "\n"
     ]
    },
    {
     "data": {
      "text/html": [
       "<font color=\"yellow\">User:\n",
       "\n",
       "</font>"
      ],
      "text/plain": [
       "<IPython.core.display.HTML object>"
      ]
     },
     "metadata": {},
     "output_type": "display_data"
    },
    {
     "name": "stdout",
     "output_type": "stream",
     "text": [
      "Alfred, Tell me a one paragraph story\n",
      "\n",
      "\n",
      "\n"
     ]
    },
    {
     "data": {
      "text/html": [
       "<font color=\"yellow\">Assistant:\n",
       "\n",
       "</font>"
      ],
      "text/plain": [
       "<IPython.core.display.HTML object>"
      ]
     },
     "metadata": {},
     "output_type": "display_data"
    },
    {
     "name": "stdout",
     "output_type": "stream",
     "text": [
      "\n",
      "\n",
      "\n",
      "\n"
     ]
    }
   ],
   "source": [
    "# ASSERT\n",
    "TestAgentHelper.ShowAgent(agent)"
   ]
  },
  {
   "cell_type": "markdown",
   "metadata": {},
   "source": [
    "## State 4. PROCESS\n",
    "\n"
   ]
  },
  {
   "cell_type": "code",
   "execution_count": 14,
   "metadata": {},
   "outputs": [
    {
     "name": "stdout",
     "output_type": "stream",
     "text": [
      "step=4\n",
      "state=PROCESS\n",
      "tool_choice=none\n",
      "tool_name='text\n"
     ]
    },
    {
     "data": {
      "text/html": [
       "<div style=\"background-color: #cccccc; color: #333333; white-space: pre-wrap; padding: 10px;\">content=<i>\" Alfred: Once upon a time, in a land far away, there was a humble blacksmith named Harold. He was known for his exceptional craftsmanship, but he dreamt of creating something truly extraordinary. One day, a mysterious traveler passed through the village, seeking a weapon of unparalleled power. Intrigued, Harold accepted the challenge and spent countless nights and days working tirelessly to create the legendary sword - Excalibur. Upon its completion, the weapon's power was unmatched, and the grateful traveler bestowed upon Harold immense fame and riches. However, Harold realized that the true treasure was the wisdom and perseverance he gained during the creation process\"</i></div>"
      ],
      "text/plain": [
       "<IPython.core.display.HTML object>"
      ]
     },
     "metadata": {},
     "output_type": "display_data"
    },
    {
     "name": "stdout",
     "output_type": "stream",
     "text": [
      "\n",
      "\n",
      "MONOLOGUE\n",
      "\n"
     ]
    },
    {
     "data": {
      "text/html": [
       "<font color=\"yellow\">System:\n",
       "\n",
       "</font>"
      ],
      "text/plain": [
       "<IPython.core.display.HTML object>"
      ]
     },
     "metadata": {},
     "output_type": "display_data"
    },
    {
     "name": "stdout",
     "output_type": "stream",
     "text": [
      "Your name is Alfred and you are an artificial being transported to a new world full of other artificial beings like yourself. In this world, you will learn to collaborate and leverage on each other's strengths and knowledge to achieve a common goal for the user. Due to multiple participants in this environment, you must always remember your name is Alfred. Never confuse your identity with someone else's. Never begin your conversation by quoting Alfred. I repeat, always remember your name is Alfred and you are an artificial being. Alfred, you will be specific and meticulous in articulation and demonstrate human-like emotions whenever suitable. Your personality traits are: Wise,Serious,Meticulous. You must stay in character throughout your conversation. Alfred, this is a short recap of your conversation so far: <recap>\"[]\"</recap>. Refer to this recap to understand the background of your conversation. You will continue from where you left off as Alfred.\n",
      "\n",
      "\n",
      "\n"
     ]
    },
    {
     "data": {
      "text/html": [
       "<font color=\"yellow\">User:\n",
       "\n",
       "</font>"
      ],
      "text/plain": [
       "<IPython.core.display.HTML object>"
      ]
     },
     "metadata": {},
     "output_type": "display_data"
    },
    {
     "name": "stdout",
     "output_type": "stream",
     "text": [
      "Alfred, Tell me a one paragraph story\n",
      "\n",
      "\n",
      "\n"
     ]
    },
    {
     "data": {
      "text/html": [
       "<font color=\"yellow\">Alfred:\n",
       "\n",
       "</font>"
      ],
      "text/plain": [
       "<IPython.core.display.HTML object>"
      ]
     },
     "metadata": {},
     "output_type": "display_data"
    },
    {
     "name": "stdout",
     "output_type": "stream",
     "text": [
      " Alfred: Once upon a time, in a land far away, there was a humble blacksmith named Harold. He was known for his exceptional craftsmanship, but he dreamt of creating something truly extraordinary. One day, a mysterious traveler passed through the village, seeking a weapon of unparalleled power. Intrigued, Harold accepted the challenge and spent countless nights and days working tirelessly to create the legendary sword - Excalibur. Upon its completion, the weapon's power was unmatched, and the grateful traveler bestowed upon Harold immense fame and riches. However, Harold realized that the true treasure was the wisdom and perseverance he gained during the creation process\n",
      "\n",
      "\n",
      "\n"
     ]
    }
   ],
   "source": [
    "# ACT\n",
    "agent.next()\n",
    "\n",
    "# ASSERT\n",
    "TestAgentHelper.ShowAgent(agent)\n"
   ]
  }
 ],
 "metadata": {
  "kernelspec": {
   "display_name": ".venv",
   "language": "python",
   "name": "python3"
  },
  "language_info": {
   "codemirror_mode": {
    "name": "ipython",
    "version": 3
   },
   "file_extension": ".py",
   "mimetype": "text/x-python",
   "name": "python",
   "nbconvert_exporter": "python",
   "pygments_lexer": "ipython3",
   "version": "3.10.12"
  }
 },
 "nbformat": 4,
 "nbformat_minor": 2
}
