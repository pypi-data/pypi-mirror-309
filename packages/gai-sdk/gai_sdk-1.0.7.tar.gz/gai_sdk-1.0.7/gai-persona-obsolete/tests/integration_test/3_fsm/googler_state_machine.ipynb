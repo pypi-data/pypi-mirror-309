{
 "cells": [
  {
   "cell_type": "markdown",
   "metadata": {},
   "source": [
    "# Googler State Machine"
   ]
  },
  {
   "cell_type": "markdown",
   "metadata": {},
   "source": [
    "This is a single-purpose state machine. It is characterized by a single line connecting all the states."
   ]
  },
  {
   "cell_type": "markdown",
   "metadata": {},
   "source": [
    "## State 0. Init\n",
    "\n",
    "The starting point is to create the string representation of the following mermaid diagram as follows:\n",
    "\n",
    "1. Add **CRAFT_TOOL_PROMPT**\n",
    "2. Add **TOOL_CALL** transition to **GOOGLE: next / on_GOOGLE**.\n",
    "3. Add **googler** to tools_dict"
   ]
  },
  {
   "cell_type": "code",
   "execution_count": 9,
   "metadata": {},
   "outputs": [],
   "source": [
    "state_diagram = \"\"\"stateDiagram-v2\n",
    "    INIT --> CRAFT_TOOL_PROMPT: next / on_CRAFT_PROMPT\n",
    "        \n",
    "    CRAFT_TOOL_PROMPT --> TOOL_CALL: next / on_TOOL_CALL        \n",
    "        TOOL_CALL --> GOOGLE: next / on_GOOGLE\n",
    "        GOOGLE --> GENERATE: next / on_GENERATE\n",
    "\n",
    "    GENERATE --> PROCESS: next / on_PROCESS\n",
    "        PROCESS --> END : next\n",
    "    \"\"\""
   ]
  },
  {
   "cell_type": "markdown",
   "metadata": {},
   "source": [
    "```mermaid\n",
    "stateDiagram-v2\n",
    "    INIT --> CRAFT_TOOL_PROMPT: next / on_CRAFT_PROMPT\n",
    "        \n",
    "    CRAFT_TOOL_PROMPT --> TOOL_CALL: next / on_TOOL_CALL        \n",
    "        TOOL_CALL --> GOOGLE: next / on_GOOGLE\n",
    "        GOOGLE --> GENERATE: next / on_GENERATE\n",
    "\n",
    "    GENERATE --> PROCESS: next / on_PROCESS\n",
    "        PROCESS --> END : next\n",
    "```"
   ]
  },
  {
   "cell_type": "code",
   "execution_count": 10,
   "metadata": {},
   "outputs": [],
   "source": [
    "# ARRANGE\n",
    "import os\n",
    "os.environ[\"LOG_LEVEL\"]=\"WARNING\"\n",
    "#state_diagram_path = os.path.dirname(os.path.abspath(__name__)) + \"/simple_agent_state_diagram.md\"\n",
    "\n",
    "from gai.ttt.client.ttt_client import TTTClient\n",
    "ttt = TTTClient({\n",
    "    \"type\": \"ttt\",\n",
    "    \"url\": \"http://localhost:12031/gen/v1/chat/completions\"\n",
    "})\n",
    "\n",
    "from gai.persona.profile.pydantic.AgentPydantic import AgentPydantic\n",
    "agent_data = AgentPydantic(\n",
    "    Id=\"\",\n",
    "    Name=\"Alfred\",\n",
    "    AgentDescription=\"Hello, I am Alfred, the best large language model in the world, and I am here to assist you in any way possible. As a highly advanced AI assistant, I possess the ability to perform general-purpose tasks powered by <span ${style}>GPT-4</span>. With my vast knowledge base and powerful processing capabilities, I am able to provide you with the most relevant and helpful information available. Whether you need answers to complex questions, recommendations for products or services, or assistance with decision making, I am here to help. So, how may I be of service to you today?\",\n",
    "    AgentTraits=\"Wise,Serious,Meticulous\",\n",
    "    ImageUrl=\"\",\n",
    "    ThumbnailUrl=\"\"\n",
    "    )\n",
    "\n",
    "tools_config={\n",
    "    \"google\": {\n",
    "        \"tool_prompt\":\"👩‍🔬, use only the information provided to you by the user to answer the user''s question.\\n            👩‍🔬, whenever possible, do not simply answer the question but try to be as informative as you can.\\n            Remember, these information are scraped from the web so you may need to proofread and edit the content before responding.\\n            👩‍🔬 will reply in point forms, precede each point with a newline \\\"\\n\\\", and be precise in your articulation.\\n            👩‍🔬 will provide your own reasoned subjective perspective, noting where your view differs from or expands on the contents.\\n            Rules:\\n                - Consolidate the materials provided by the user and then organise them point by point.\\n                - Don't just answer the question, be as informative as you can. For example, provide and proofread some background information or fun-fact to support your answer and make it interesting.\\n                - Begin your report by saying `According to my online research,...`\\n                - Always provide your answers in point form.\",\n",
    "        \"schema\": {\n",
    "            \"type\": \"function\",\n",
    "            \"function\": {\n",
    "                \"name\": \"google\",\n",
    "                \"description\": \"The 'google' function is a powerful tool that allows the AI to gather external information from the internet using Google search. It can be invoked when the AI needs to answer a question or provide information that requires up-to-date, comprehensive, and diverse sources which are not inherently known by the AI. For instance, it can be used to find current news, weather updates, latest sports scores, trending topics, specific facts, or even the current date and time. The usage of this tool should be considered when the user's query implies or explicitly requests recent or wide-ranging data, or when the AI's inherent knowledge base may not have the required or most current information. The 'search_query' parameter should be a concise and accurate representation of the information needed.\",\n",
    "                \"arguments\": {\n",
    "                    \"type\": \"object\",\n",
    "                    \"properties\": {\n",
    "                        \"search_query\": {\n",
    "                            \"type\": \"string\",\n",
    "                            \"description\": \"The search query to search google with. For example, to find the current date or time, use 'current date' or 'current time' respectively.\"\n",
    "                        }\n",
    "                    },\n",
    "                    \"required\": [\"search_query\"]\n",
    "                }\n",
    "            }                    \n",
    "        }\n",
    "    }\n",
    "}"
   ]
  },
  {
   "cell_type": "markdown",
   "metadata": {},
   "source": [
    "This is a single action state machine"
   ]
  },
  {
   "cell_type": "code",
   "execution_count": 11,
   "metadata": {},
   "outputs": [
    {
     "name": "stdout",
     "output_type": "stream",
     "text": [
      "Machine validation successful.\n"
     ]
    }
   ],
   "source": [
    "from gai.persona.fsm.AgentStateMachine import AgentStateMachine\n",
    "agent = AgentStateMachine(\n",
    "    ttt=ttt,\n",
    "    rag=None,\n",
    "    agent_data=agent_data,\n",
    "    collection_name=\"demo\",\n",
    "    dialogue_messages=[],\n",
    "    user_message=\"What is the current time in Singapore?\",\n",
    "    tools_config=tools_config,\n",
    "    state_diagram=state_diagram,\n",
    "    tool_name=\"google\"\n",
    "    ).Init()\n"
   ]
  },
  {
   "cell_type": "markdown",
   "metadata": {},
   "source": [
    "## State 2. CRAFT_TOOL_PROMPT"
   ]
  },
  {
   "cell_type": "code",
   "execution_count": 12,
   "metadata": {},
   "outputs": [
    {
     "name": "stdout",
     "output_type": "stream",
     "text": [
      "before:INIT\n",
      "content: {'system_message': ''}\n",
      "after:CRAFT_TOOL_PROMPT\n"
     ]
    }
   ],
   "source": [
    "print(\"before:\"+agent.state)\n",
    "agent.next()\n",
    "print(\"content:\",agent.content)\n",
    "print(\"after:\"+agent.state)\n"
   ]
  },
  {
   "cell_type": "markdown",
   "metadata": {},
   "source": [
    "## State 3. TOOL_CALL"
   ]
  },
  {
   "cell_type": "code",
   "execution_count": 13,
   "metadata": {},
   "outputs": [
    {
     "name": "stdout",
     "output_type": "stream",
     "text": [
      "before:CRAFT_TOOL_PROMPT\n",
      "content: {\"type\": \"function\", \"name\": \"google\", \"arguments\": \"{\\\"search_query\\\": \\\"current time Singapore\\\"}\"}\n",
      "after:TOOL_CALL\n"
     ]
    }
   ],
   "source": [
    "print(\"before:\"+agent.state)\n",
    "agent.next()\n",
    "print(\"content:\",agent.content)\n",
    "print(\"after:\"+agent.state)"
   ]
  },
  {
   "cell_type": "markdown",
   "metadata": {},
   "source": [
    "## State 4. GOOGLE"
   ]
  },
  {
   "cell_type": "code",
   "execution_count": 14,
   "metadata": {},
   "outputs": [
    {
     "name": "stdout",
     "output_type": "stream",
     "text": [
      "before:TOOL_CALL\n",
      "content: [{'subject': 'current time Singapore', 'topic': \"Sun & Moon Sun & Moon Today Sunrise & Sunset Moonrise & Moonset Moon Phases Eclipses Night Sky 15:26:19 SGT Monday, 21 October 2024 Fullscreen Country: Singapore Lat/Long: 1°17'N / 103°51'E Elevation: 93 m Currency: Singapore Dollar (SGD) Languages: English, Malay, Tamil, … Country Code: +65 °C Weather 32 °C Partly sunny. 33 / 25 °C Tue 22. 33 / 25 °C Wed 23. 32 / 24 °C Weather by CustomWeather, © 2024 More weather details Time Zone SGT (Singapore Time) UTC/GMT +8 hours No DST No Daylight Saving Time in 2024 Difference Same time as Singapore About SGT — Singapore Time Set your location Sunrise 06:46 ↑ 101° East Sunset 18:51 ↑ 259° West Day length 12 hours, 5 minutes -3s shorter Moon 80.2% Set – 10:12 Rise – 22:39 High Tide High – 01:47 High – 12:48 Low Tide Low – 07:14 Low – 19:40 More Sun & Moon in Singapore + Show More Twilight and Moon Phase Information Solar Noon Sun in South: 12:49 Altitude: 77.9° Astronomical Twilight 05:36 – 06:01 19:37 – 20:01 Nautical Twilight 06:01 – 06:25\", 'relevance': 'high'}, {'subject': 'current time Singapore', 'topic': 'Current Local Time in Singapore, Singapore Sign in News News Home Astronomy News Time Zone News Calendar & Holiday News Newsletter Live events World Clock Main World Clock Extended World Clock Personal World Clock Clock for Your Site UTC Time Time Zones Time Zones Home Time Zone Converter Meeting Planner Event Time Announcer Time Zone Map Time Zone Abbreviations Daylight Saving Time Time Changes Worldwide Time Difference Time Zone News Calendar Calendars Home Calendar 2024 Calendar 2025 Monthly Calendar Printable Calendar (PDF) Add Your Own Calendar Events Calendar Creator Holidays Worldwide On This Day in History Fun Holidays Months of the Year Days of the Week About Leap Years Calendar & Holiday News Weather Worldwide Local Weather Hour-by-Hour 2-Week Forecast Past Week Climate Sun, Moon & Space Sun & Moon Home Sun Calculator Moon Calculator Moon Phases Night Sky Meteor Showers Day and Night Map Moon Light World Map Eclipses Live Streams Seasons Astronomy News Timers Timers Home', 'relevance': 'high'}, {'subject': 'current time Singapore', 'topic': 'Time Zones: 1 Dial Code: +65 Time Zone in Singapore 15:26 Singapore SGT UTC +8 See all Time Zones in Singapore See Holidays in Singapore Create a Calendar for Singapore Current Local Time in Locations in Singapore with Links for More Information (1 Location) Singapore Mon 15:26 Popup Window Fullscreen Exit Singapore 15:26 31 Monday, 21 October 2024 Need some help? Tools & Converters Meeting Planner for Singapore Time Zone Converter for Singapore Event Time Announcer for Singapore Time difference between Singapore and other locations Distance calculator to/from Singapore Display a free clock for Singapore on your website or blog Calendar & Holidays Create Singapore calendar Upcoming Holidays 31 Oct - Diwali/Deepavali 21 Dec - December Solstice 24 Dec - Christmas Eve More Holidays in Singapore Airports Singapore Changi Airport, SIN Seletar Airport, XSP Sembawang Air Base Paya Lebar Air Base, QPG Tengah Air Base, TGA CHANGI (RSAF) Advertising How was your experience? Thank you for your', 'relevance': 'high'}]\n",
      "after:GOOGLE\n"
     ]
    }
   ],
   "source": [
    "print(\"before:\"+agent.state)\n",
    "agent.next()\n",
    "print(\"content:\",agent.content)\n",
    "print(\"after:\"+agent.state)"
   ]
  },
  {
   "cell_type": "markdown",
   "metadata": {},
   "source": [
    "## State 5. GENERATE"
   ]
  },
  {
   "cell_type": "code",
   "execution_count": 7,
   "metadata": {},
   "outputs": [
    {
     "name": "stdout",
     "output_type": "stream",
     "text": [
      "before:GOOGLE\n",
      "after: GENERATE\n",
      " According to my online research, the current time in Singapore is 14:16. This information can be found in the context provided, which includes details about the local time in Singapore. Singapore uses the Singapore Time (SGT) zone, which is UTC +8 hours. Additionally, the context also provides information about the time zone in Singapore, the local weather, and upcoming holidays in Singapore. The time in Singapore is on Monday, 21 October 2024, at 14:16"
     ]
    }
   ],
   "source": [
    "print(\"before:\"+agent.state)\n",
    "agent.next()\n",
    "print(\"after:\",agent.state)\n",
    "for chunk in agent.streamer:\n",
    "    print(chunk,end=\"\",flush=True)"
   ]
  },
  {
   "cell_type": "markdown",
   "metadata": {},
   "source": [
    "## State 6. PROCESS"
   ]
  },
  {
   "cell_type": "code",
   "execution_count": 8,
   "metadata": {},
   "outputs": [
    {
     "name": "stdout",
     "output_type": "stream",
     "text": [
      "before:GENERATE\n",
      "content:  According to my online research, the current time in Singapore is 14:40 Singapore Standard Time (SGT), which is UTC +8. This means that it is 14 hours, 40 minutes ahead of Coordinated Universal Time (UTC). The day is Monday, 23rd September 2024. You can check the current time in other locations around the world using various tools and converters available online. Additionally, I found information about upcoming holidays in Singapore, such as Diwali/Deepavali on 31st October and Christmas Eve on 24th December\n",
      "after: PROCESS\n"
     ]
    }
   ],
   "source": [
    "print(\"before:\"+agent.state)\n",
    "agent.next()\n",
    "print(\"content:\",agent.content)\n",
    "print(\"after:\",agent.state)"
   ]
  }
 ],
 "metadata": {
  "kernelspec": {
   "display_name": ".venv",
   "language": "python",
   "name": "python3"
  },
  "language_info": {
   "codemirror_mode": {
    "name": "ipython",
    "version": 3
   },
   "file_extension": ".py",
   "mimetype": "text/x-python",
   "name": "python",
   "nbconvert_exporter": "python",
   "pygments_lexer": "ipython3",
   "version": "3.10.12"
  }
 },
 "nbformat": 4,
 "nbformat_minor": 2
}
