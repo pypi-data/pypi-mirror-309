{
 "cells": [
  {
   "cell_type": "markdown",
   "metadata": {},
   "source": [
    "# Binary Classifier"
   ]
  },
  {
   "cell_type": "markdown",
   "metadata": {},
   "source": [
    "This is a primitive state machine. It is characterized by one state between INIT and END."
   ]
  },
  {
   "cell_type": "markdown",
   "metadata": {},
   "source": [
    "## State 0. Init\n",
    "\n",
    "The starting point is to create the string representation of the following mermaid diagram as follows:\n"
   ]
  },
  {
   "cell_type": "code",
   "execution_count": 1,
   "metadata": {},
   "outputs": [],
   "source": [
    "state_diagram = \"\"\"stateDiagram-v2\n",
    "    INIT --> BOOLEAN: next / on_BOOLEAN\n",
    "    BOOLEAN --> END: next / on_ERROR / has_error\n",
    "    BOOLEAN --> PROCESS: next / on_PROCESS / not_has_error\n",
    "    PROCESS --> END: next\n",
    "    \"\"\""
   ]
  },
  {
   "cell_type": "markdown",
   "metadata": {},
   "source": [
    "```mermaid\n",
    "stateDiagram-v2\n",
    "    INIT --> BOOLEAN: next / on_BOOLEAN\n",
    "    BOOLEAN --> END: next / on_ERROR / has_error\n",
    "    BOOLEAN --> PROCESS: next / on_PROCESS / not_has_error\n",
    "    PROCESS --> END: next\n",
    "```"
   ]
  },
  {
   "cell_type": "code",
   "execution_count": 2,
   "metadata": {},
   "outputs": [],
   "source": [
    "# ARRANGE\n",
    "import os\n",
    "os.environ[\"LOG_LEVEL\"]=\"WARNING\"\n",
    "#state_diagram_path = os.path.dirname(os.path.abspath(__name__)) + \"/simple_agent_state_diagram.md\"\n",
    "\n",
    "from gai.ttt.client.ttt_client import TTTClient\n",
    "ttt = TTTClient({\n",
    "    \"type\": \"ttt\",\n",
    "    \"url\": \"http://localhost:12031/gen/v1/chat/completions\"\n",
    "})\n",
    "\n",
    "from gai.persona.profile.pydantic.AgentPydantic import AgentPydantic\n",
    "agent_data = AgentPydantic(\n",
    "    Id=\"\",\n",
    "    Name=\"Alfred\",\n",
    "    AgentDescription=\"Hello, I am Alfred, the best large language model in the world, and I am here to assist you in any way possible. As a highly advanced AI assistant, I possess the ability to perform general-purpose tasks powered by <span ${style}>GPT-4</span>. With my vast knowledge base and powerful processing capabilities, I am able to provide you with the most relevant and helpful information available. Whether you need answers to complex questions, recommendations for products or services, or assistance with decision making, I am here to help. So, how may I be of service to you today?\",\n",
    "    AgentTraits=\"Wise,Serious,Meticulous\",\n",
    "    ImageUrl=\"\",\n",
    "    ThumbnailUrl=\"\"\n",
    "    )\n",
    "\n",
    "tools_dict={ \n",
    "    \"text\": {\n",
    "        \"type\": \"function\",\n",
    "        \"function\": {\n",
    "            \"name\": \"text\",\n",
    "            \"description\": \"The 'text' function is the default catch-all function returned when none of the other tools are applicable.\",\n",
    "            \"parameters\": {\n",
    "                \"type\": \"object\",\n",
    "                \"properties\": {\n",
    "                    \"message\": {\n",
    "                        \"type\": \"string\",\n",
    "                        \"description\": \"The user's message.\"\n",
    "                    }\n",
    "                },\n",
    "                \"required\": [\"message\"]\n",
    "            }\n",
    "        }\n",
    "    }\n",
    "}\n"
   ]
  },
  {
   "cell_type": "markdown",
   "metadata": {},
   "source": [
    "## State 1. BOOLEAN\n",
    "\n",
    "This is a single action state machine"
   ]
  },
  {
   "cell_type": "code",
   "execution_count": 3,
   "metadata": {},
   "outputs": [
    {
     "name": "stdout",
     "output_type": "stream",
     "text": [
      "Machine validation successful.\n",
      "True\n"
     ]
    }
   ],
   "source": [
    "from gai.persona.fsm.AgentStateMachine import AgentStateMachine\n",
    "agent = AgentStateMachine(\n",
    "    ttt=ttt,\n",
    "    rag=None,\n",
    "    agent_data=agent_data,\n",
    "    collection_name=\"demo\",\n",
    "    dialogue_messages=[],\n",
    "    user_message=\"The sun rises from the east\",\n",
    "    tools_dict=tools_dict,\n",
    "    state_diagram=state_diagram\n",
    "    ).Init()\n",
    "agent.next()\n",
    "print(agent.content)\n",
    "assert agent.content == True"
   ]
  }
 ],
 "metadata": {
  "kernelspec": {
   "display_name": ".venv",
   "language": "python",
   "name": "python3"
  },
  "language_info": {
   "codemirror_mode": {
    "name": "ipython",
    "version": 3
   },
   "file_extension": ".py",
   "mimetype": "text/x-python",
   "name": "python",
   "nbconvert_exporter": "python",
   "pygments_lexer": "ipython3",
   "version": "3.10.12"
  }
 },
 "nbformat": 4,
 "nbformat_minor": 2
}
