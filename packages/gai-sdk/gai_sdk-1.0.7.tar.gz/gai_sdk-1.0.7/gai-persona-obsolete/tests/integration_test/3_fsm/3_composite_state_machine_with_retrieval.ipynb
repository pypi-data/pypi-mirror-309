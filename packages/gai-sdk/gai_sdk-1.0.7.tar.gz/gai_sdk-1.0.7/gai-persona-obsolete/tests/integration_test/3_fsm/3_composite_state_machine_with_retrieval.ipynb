{
 "cells": [
  {
   "cell_type": "markdown",
   "metadata": {},
   "source": [
    "# Agent State Machine"
   ]
  },
  {
   "cell_type": "markdown",
   "metadata": {},
   "source": [
    "**ARRANGE:** index the document"
   ]
  },
  {
   "cell_type": "code",
   "execution_count": 1,
   "metadata": {},
   "outputs": [
    {
     "name": "stderr",
     "output_type": "stream",
     "text": [
      "\u001b[45m\u001b[30mDEBUG   \u001b[0m \u001b[35mhttppost:url=http://localhost:12036/gen/v1/rag/index-file\u001b[0m\n",
      "\u001b[45m\u001b[30mDEBUG   \u001b[0m \u001b[35mhttppost:data=None\u001b[0m\n",
      "\u001b[45m\u001b[30mDEBUG   \u001b[0m \u001b[35mhttppost:files={'file': ('where_to_find_the_best_chicken_rice_in_singapore.txt',\n",
      "          <_io.BufferedReader name='/home/kakkoii1337/github/kakkoii1337/gai-core/gai-sdk/gai-persona/tests/integration_test/3_fsm/where_to_find_the_best_chicken_rice_in_singapore.txt'>,\n",
      "          'application/pdf'),\n",
      " 'req': (None,\n",
      "         '{\"Id\":null,\"CollectionName\":\"demo\",\"FilePath\":\"/home/kakkoii1337/github/kakkoii1337/gai-core/gai-sdk/gai-persona/tests/integration_test/3_fsm/where_to_find_the_best_chicken_rice_in_singapore.txt\",\"FileType\":\"\",\"Source\":\"\",\"ByteSize\":null,\"Title\":\"\",\"Abstract\":null,\"Authors\":\"\",\"Publisher\":\"\",\"PublishedDate\":\"\",\"Comments\":\"\",\"Keywords\":\"\",\"ChunkGroupId\":null,\"ChunkSize\":null,\"ChunkOverlap\":null,\"ChunkCount\":null}',\n",
      "         'application/json')}\u001b[0m\n"
     ]
    },
    {
     "data": {
      "text/plain": [
       "IndexedDocChunkIdsPydantic(DocumentId='PPa4WO6HZIWHS4cFAWTeiAtpyA1QYHRLTNtLQyzCBHA', ChunkgroupId='ecc2b665-988f-44ed-8406-a4fa6998ee73', ChunkIds=['c8688791-629e-4b0e-b153-c2169a685e1e', '158679d5-db56-49be-9da1-5d8ef3d6f9de', '8799a05f-6cfa-48f1-8fac-c384e657f604', 'ed5628b6-05fb-4823-9dd1-f2f0cc90227d', 'cbb1e20a-e732-4a8e-9f5e-f99f9e92c3bb', 'fa2840fa-ec31-49bf-a7ba-d8b8776df355', 'ee0fa917-8986-485c-bdfd-2307c704454f', '67bca4b1-f232-4965-99e2-edab5e635fe9', 'ef79646c-a407-454f-9e38-e11c986b9450', 'aa753210-111b-474b-863f-7fd1666b7fba', 'f3320df9-e578-4edc-8e70-be18f3691b7b', '9850ef8e-4802-4709-8f8f-739aef9e9c7a', '96483851-fc09-42fb-ae68-88bedd7eec64', '8d7e58a3-ce33-4904-9dd6-a358a827b50e', 'fa935674-b16c-488d-9cd7-6b8b6333cc3e', 'ff9419f1-8ae0-4280-acc2-7ee265ebe252', '31f336c6-6efb-46a8-8da1-5922458fd300', '113e2927-9758-4b60-98ea-b8df18b025b5', '24f894d8-9c1e-4a92-a530-4ad84a472775', 'eea1ea09-12a2-48b8-bf84-b473fa3235db', '0229f831-4889-4d6c-b3ad-f5e73c4d0064', 'e7e14adc-8cf9-4617-81a1-36c3fcad00ab', '69acdef6-5fb5-4b06-bd4a-22fcb0f26608'])"
      ]
     },
     "execution_count": 1,
     "metadata": {},
     "output_type": "execute_result"
    }
   ],
   "source": [
    "# Index test doc\n",
    "import os\n",
    "os.environ[\"LOG_LEVEL\"]=\"DEBUG\"\n",
    "\n",
    "from gai.rag.client.rag_client_async import RagClientAsync\n",
    "rag = RagClientAsync({\n",
    "    \"type\": \"rag\",\n",
    "    \"url\": \"http://localhost:12036/gen/v1/rag\",\n",
    "    \"ws_url\": \"ws://localhost:12036/gen/v1/rag/index-file/ws\"\n",
    "})\n",
    "cwd = os.getcwd()\n",
    "await rag.index_document_async(collection_name=\"demo\", file_path=f\"{cwd}/where_to_find_the_best_chicken_rice_in_singapore.txt\")"
   ]
  },
  {
   "cell_type": "markdown",
   "metadata": {},
   "source": [
    "## State 0. Init\n",
    "\n",
    "The starting point is to create the string representation of the following mermaid diagram as follows:\n"
   ]
  },
  {
   "cell_type": "code",
   "execution_count": 1,
   "metadata": {},
   "outputs": [],
   "source": [
    "state_diagram = \"\"\"stateDiagram-v2\n",
    "    INIT --> TOOL_CHOICE: next / on_TOOL_CHOICE\n",
    "\n",
    "    TOOL_CHOICE --> CRAFT_TEXT_PROMPT: next / on_CRAFT_PROMPT / use_text\n",
    "        CRAFT_TEXT_PROMPT --> GENERATE: next / on_GENERATE\n",
    "        GENERATE --> PROCESS: next / on_PROCESS / use_text\n",
    "        PROCESS --> END : next\n",
    "\n",
    "    TOOL_CHOICE --> CRAFT_TOOL_PROMPT: next / on_CRAFT_PROMPT / use_google\n",
    "        TOOL_CALL --> GOOGLE: next / on_GOOGLE / use_google\n",
    "        GOOGLE --> GENERATE: next / on_GENERATE\n",
    "\n",
    "    TOOL_CHOICE --> CRAFT_TOOL_PROMPT: next / on_CRAFT_PROMPT / use_retrieval\n",
    "        TOOL_CALL --> RETRIEVAL: next / on_RETRIEVAL / use_retrieval\n",
    "        RETRIEVAL --> GENERATE: next / on_GENERATE\n",
    "\n",
    "    CRAFT_TOOL_PROMPT --> TOOL_CALL: next / on_TOOL_CALL\n",
    "    \"\"\""
   ]
  },
  {
   "cell_type": "markdown",
   "metadata": {},
   "source": [
    "```mermaid\n",
    "stateDiagram-v2\n",
    "    INIT --> TOOL_CHOICE: next / on_TOOL_CHOICE\n",
    "\n",
    "    TOOL_CHOICE --> CRAFT_TEXT_PROMPT: next / on_CRAFT_PROMPT / use_text\n",
    "        CRAFT_TEXT_PROMPT --> GENERATE: next / on_GENERATE\n",
    "        GENERATE --> PROCESS: next / on_PROCESS / use_text\n",
    "        PROCESS --> END : next\n",
    "\n",
    "    TOOL_CHOICE --> CRAFT_TOOL_PROMPT: next / on_CRAFT_PROMPT / use_google\n",
    "        TOOL_CALL --> GOOGLE: next / on_GOOGLE / use_google\n",
    "        GOOGLE --> GENERATE: next / on_GENERATE\n",
    "\n",
    "    TOOL_CHOICE --> CRAFT_TOOL_PROMPT: next / on_CRAFT_PROMPT / use_retrieval\n",
    "        TOOL_CALL --> RETRIEVAL: next / on_RETRIEVAL / use_retrieval\n",
    "        RETRIEVAL --> GENERATE: next / on_GENERATE\n",
    "\n",
    "    CRAFT_TOOL_PROMPT --> TOOL_CALL: next / on_TOOL_CALL\n",
    "```"
   ]
  },
  {
   "cell_type": "code",
   "execution_count": 2,
   "metadata": {},
   "outputs": [
    {
     "name": "stdout",
     "output_type": "stream",
     "text": [
      "Machine validation successful.\n"
     ]
    }
   ],
   "source": [
    "# ARRANGE\n",
    "import os\n",
    "os.environ[\"LOG_LEVEL\"]=\"WARNING\"\n",
    "from gai.lib.common.notebook import highlight,print_colored\n",
    "import sys\n",
    "sys.path.insert(0, os.path.abspath(os.path.join(os.path.dirname(__name__), '..')))\n",
    "from TestAgentHelper import TestAgentHelper\n",
    "agent = TestAgentHelper.CreateAgent(\"Which famous chicken rice in Singapore also sells char siew?\",state_diagram=state_diagram)\n"
   ]
  },
  {
   "cell_type": "markdown",
   "metadata": {},
   "source": [
    "## State 1. TOOL_CHOICE\n",
    "\n",
    "The first state is managed by `use_TOOL_CHOICE_handler` state handler function.\n",
    "The agent should decide to use \"retrieval\"."
   ]
  },
  {
   "cell_type": "code",
   "execution_count": null,
   "metadata": {},
   "outputs": [],
   "source": [
    "# ACT\n",
    "agent.next()\n",
    "\n",
    "# ASSERT\n",
    "TestAgentHelper.ShowAgent(agent)"
   ]
  },
  {
   "cell_type": "markdown",
   "metadata": {},
   "source": [
    "## State 2. CRAFT_TOOL_PROMPT\n",
    "\n",
    "CRAFT_TOOL_PROMPT is triggered because the agent recommends \"retrieval\". System message should return \"\"."
   ]
  },
  {
   "cell_type": "code",
   "execution_count": 4,
   "metadata": {},
   "outputs": [
    {
     "name": "stdout",
     "output_type": "stream",
     "text": [
      "step=2\n",
      "state=CRAFT_TOOL_PROMPT\n",
      "tool_choice=required\n",
      "tool_name='retrieval\n"
     ]
    },
    {
     "data": {
      "text/html": [
       "<div style=\"background-color: #cccccc; color: #333333; white-space: pre-wrap; padding: 10px;\">content=<i>{\n",
       "    \"system_message\": \"\"\n",
       "}</i></div>"
      ],
      "text/plain": [
       "<IPython.core.display.HTML object>"
      ]
     },
     "metadata": {},
     "output_type": "display_data"
    },
    {
     "name": "stdout",
     "output_type": "stream",
     "text": [
      "\n",
      "\n",
      "MONOLOGUE\n",
      "\n"
     ]
    },
    {
     "data": {
      "text/html": [
       "<font color=\"yellow\">System:\n",
       "\n",
       "</font>"
      ],
      "text/plain": [
       "<IPython.core.display.HTML object>"
      ]
     },
     "metadata": {},
     "output_type": "display_data"
    },
    {
     "name": "stdout",
     "output_type": "stream",
     "text": [
      "\n",
      "\n",
      "\n",
      "\n"
     ]
    },
    {
     "data": {
      "text/html": [
       "<font color=\"yellow\">User:\n",
       "\n",
       "</font>"
      ],
      "text/plain": [
       "<IPython.core.display.HTML object>"
      ]
     },
     "metadata": {},
     "output_type": "display_data"
    },
    {
     "name": "stdout",
     "output_type": "stream",
     "text": [
      "Alfred, Which famous chicken rice in Singapore also sells char siew?\n",
      "\n",
      "\n",
      "\n"
     ]
    },
    {
     "data": {
      "text/html": [
       "<font color=\"yellow\">Assistant:\n",
       "\n",
       "</font>"
      ],
      "text/plain": [
       "<IPython.core.display.HTML object>"
      ]
     },
     "metadata": {},
     "output_type": "display_data"
    },
    {
     "name": "stdout",
     "output_type": "stream",
     "text": [
      "\n",
      "\n",
      "\n",
      "\n"
     ]
    }
   ],
   "source": [
    "# ACT\n",
    "agent.next()\n",
    "\n",
    "# ASSERT\n",
    "TestAgentHelper.ShowAgent(agent)"
   ]
  },
  {
   "cell_type": "markdown",
   "metadata": {},
   "source": [
    "## State 3. TOOL_CALL\n"
   ]
  },
  {
   "cell_type": "code",
   "execution_count": 6,
   "metadata": {},
   "outputs": [
    {
     "name": "stderr",
     "output_type": "stream",
     "text": [
      "\u001b[45m\u001b[30mDEBUG   \u001b[0m \u001b[35mhttppost:url=http://localhost:12031/gen/v1/chat/completions\u001b[0m\n",
      "\u001b[45m\u001b[30mDEBUG   \u001b[0m \u001b[35mhttppost:data={'json_schema': None,\n",
      " 'max_new_tokens': 1000,\n",
      " 'max_tokens': 2000,\n",
      " 'messages': [{'content': '', 'role': 'system'},\n",
      "              {'content': 'Alfred, Which famous chicken rice in Singapore also '\n",
      "                          'sells char siew?',\n",
      "               'role': 'user'},\n",
      "              {'content': '', 'role': 'assistant'}],\n",
      " 'stop_conditions': None,\n",
      " 'stream': False,\n",
      " 'temperature': 1e-08,\n",
      " 'tool_choice': 'required',\n",
      " 'tools': ['function',\n",
      "           {'arguments': {'properties': {'search_query': {'description': 'The '\n",
      "                                                                         'most '\n",
      "                                                                         'effective '\n",
      "                                                                         'search '\n",
      "                                                                         'query '\n",
      "                                                                         'for '\n",
      "                                                                         'semantic '\n",
      "                                                                         'search '\n",
      "                                                                         'that '\n",
      "                                                                         'will '\n",
      "                                                                         'return '\n",
      "                                                                         'the '\n",
      "                                                                         'most '\n",
      "                                                                         'precise '\n",
      "                                                                         'result.',\n",
      "                                                          'type': 'string'}},\n",
      "                          'required': ['search_query'],\n",
      "                          'type': 'object'},\n",
      "            'description': '\\n'\n",
      "                           '                            The `retrieval` '\n",
      "                           'function is a powerful tool that allows the AI to '\n",
      "                           'access articles outside of its knowledge domain '\n",
      "                           'from external sources. \\n'\n",
      "                           '                            The external articles '\n",
      "                           'are stored in an archive and organised by '\n",
      "                           '<titles>:\\n'\n",
      "                           \"{ titles: [['MICHELIN Guide Singapore 2016: Where \"\n",
      "                           \"to Find the Best Chicken Rice in Singapore']] }\\n\"\n",
      "                           '                            and <keywords>:\\n'\n",
      "                           '                            { keywords: '\n",
      "                           \"[['Singapore', 'Chicken Rice', 'Food']] }\\n\"\n",
      "                           '                            **IMPORTANT**: Use '\n",
      "                           'this tool when any of the <titles> or <keywords> '\n",
      "                           \"may be relevant to user's question.\\n\"\n",
      "                           \"                            The 'search_query' \"\n",
      "                           'parameter should be crafted in a way that it '\n",
      "                           'returns the most precise result based on the '\n",
      "                           'conversation context.\\n'\n",
      "                           '                        ',\n",
      "            'name': 'retrieval'}],\n",
      " 'top_k': None,\n",
      " 'top_p': None}\u001b[0m\n"
     ]
    },
    {
     "name": "stdout",
     "output_type": "stream",
     "text": [
      "{\"type\": \"function\", \"name\": \"retrieval\", \"arguments\": \"{\\\"search_query\\\": \\\"famous chicken rice in singapore also sells char siew\\\"}\"}\n",
      "step=3\n",
      "state=TOOL_CALL\n",
      "tool_choice=required\n",
      "tool_name='retrieval\n"
     ]
    },
    {
     "data": {
      "text/html": [
       "<div style=\"background-color: #cccccc; color: #333333; white-space: pre-wrap; padding: 10px;\">content=<i>\"{\\\"type\\\": \\\"function\\\", \\\"name\\\": \\\"retrieval\\\", \\\"arguments\\\": \\\"{\\\\\\\"search_query\\\\\\\": \\\\\\\"famous chicken rice in singapore also sells char siew\\\\\\\"}\\\"}\"</i></div>"
      ],
      "text/plain": [
       "<IPython.core.display.HTML object>"
      ]
     },
     "metadata": {},
     "output_type": "display_data"
    },
    {
     "name": "stdout",
     "output_type": "stream",
     "text": [
      "\n",
      "\n",
      "MONOLOGUE\n",
      "\n"
     ]
    },
    {
     "data": {
      "text/html": [
       "<font color=\"yellow\">System:\n",
       "\n",
       "</font>"
      ],
      "text/plain": [
       "<IPython.core.display.HTML object>"
      ]
     },
     "metadata": {},
     "output_type": "display_data"
    },
    {
     "name": "stdout",
     "output_type": "stream",
     "text": [
      "\n",
      "\n",
      "\n",
      "\n"
     ]
    },
    {
     "data": {
      "text/html": [
       "<font color=\"yellow\">User:\n",
       "\n",
       "</font>"
      ],
      "text/plain": [
       "<IPython.core.display.HTML object>"
      ]
     },
     "metadata": {},
     "output_type": "display_data"
    },
    {
     "name": "stdout",
     "output_type": "stream",
     "text": [
      "Alfred, Which famous chicken rice in Singapore also sells char siew?\n",
      "\n",
      "\n",
      "\n"
     ]
    },
    {
     "data": {
      "text/html": [
       "<font color=\"yellow\">Assistant:\n",
       "\n",
       "</font>"
      ],
      "text/plain": [
       "<IPython.core.display.HTML object>"
      ]
     },
     "metadata": {},
     "output_type": "display_data"
    },
    {
     "name": "stdout",
     "output_type": "stream",
     "text": [
      "\n",
      "\n",
      "\n",
      "\n"
     ]
    }
   ],
   "source": [
    "# ACT\n",
    "agent.next()\n",
    "print(agent.content)\n",
    "\n",
    "# ASSERT\n",
    "TestAgentHelper.ShowAgent(agent)"
   ]
  },
  {
   "cell_type": "markdown",
   "metadata": {},
   "source": [
    "## State 4. RETRIEVAL\n",
    "\n"
   ]
  },
  {
   "cell_type": "code",
   "execution_count": 7,
   "metadata": {},
   "outputs": [
    {
     "name": "stderr",
     "output_type": "stream",
     "text": [
      "\u001b[45m\u001b[30mDEBUG   \u001b[0m \u001b[35mhttppost:url=http://localhost:12036/gen/v1/rag/retrieve\u001b[0m\n",
      "\u001b[45m\u001b[30mDEBUG   \u001b[0m \u001b[35mhttppost:data={'collection_name': 'demo',\n",
      " 'n_results': 4,\n",
      " 'query_texts': 'Which famous chicken rice in Singapore also sells char siew?'}\u001b[0m\n",
      "\u001b[45m\u001b[30mDEBUG   \u001b[0m \u001b[35mhttppost:files=None\u001b[0m\n"
     ]
    },
    {
     "name": "stdout",
     "output_type": "stream",
     "text": [
      "step=4\n",
      "state=RETRIEVAL\n",
      "tool_choice=none\n",
      "tool_name='text\n"
     ]
    },
    {
     "data": {
      "text/html": [
       "<div style=\"background-color: #cccccc; color: #333333; white-space: pre-wrap; padding: 10px;\">content=<i>[\n",
       "    \"well as salt-baked chicken. With the diversity presented in a single dish, Singapore's chicken rice definitely draws in curious diners to uncover more of the Lion City's chicken rice culture. Being equally fascinated with Singapore's chicken rice, the MICHELIN Guide inspectors share with us where to get the best ones in Singapore, so read on below! Boon Tong Kee (Balestier Road) 399, 401, 403 Balestier Road, 329801 Singapore $\",\n",
       "    \"15 September 2023 There are many dishes that are very much representative of Singapore, and one of the most iconic of them is, of course, chicken rice. Loosely referred to as Singapore's national dish, the ubiquitous Hainanese chicken rice requires a meticulous preparation process. To make this classic chicken rice dish, the chicken is first scalded until cooked through before it is dipped in ice-cold water to keep the meat soft and tender. Served with chicken broth, ginger sauce, black soy sauce, and chilli, the highlight is the rice that has been cooked with the chicken's oils. The end-product may look deceptively simple, but it is very delicious. Singapore's offerings also go beyond the traditional Hainanese chicken rice. There is also kampung -style chicken rice where the poultry used is leaner. Soya sauce chicken rice is also a popular choice, as well as salt-baked chicken. With the diversity presented in a single dish, Singapore's chicken rice\",\n",
       "    \"\\u00b7 Cantonese Roast Meats A household brand that's popular both in Singapore and overseas, Hawker Chan Soya Sauce Chicken Rice & Noodle 's soya sauce chicken is well-known far and wide. The chicken is cooked in the chef's secret sauce for several hours, and it yields tender and flavourful meat. First-time diners are recommended to try the signature soya sauce chicken rice to experience its charming qualities. More Details Xing Yun Hainanese Boneless Chicken Rice Yuhua Market & Hawker Centre, #01-202, Blk 347, Jurong East Avenue 1, Jurong East, 600347 Singapore $ \\u00b7\",\n",
       "    \"\\u00b7 Street Food Located in the Maxwell Food Centre, Tian Tian Hainanese Chicken Rice is a popular Hainanese chicken rice stall has been around since 1987 and is well-known overseas. There is always a long queue, so one can only imagine how enticing the chicken rice here is. The meat is tender and is drizzled with a secret sauce to enhance its umami. Don't forget to enjoy it with the fragrant rice! More Details People's Park Hainanese Chicken Rice People's Park Complex Food Centre, #01-1098, 32 New Market Road, 050032 Singapore $ \\u00b7\"\n",
       "]</i></div>"
      ],
      "text/plain": [
       "<IPython.core.display.HTML object>"
      ]
     },
     "metadata": {},
     "output_type": "display_data"
    },
    {
     "name": "stdout",
     "output_type": "stream",
     "text": [
      "\n",
      "\n",
      "MONOLOGUE\n",
      "\n"
     ]
    },
    {
     "data": {
      "text/html": [
       "<font color=\"yellow\">System:\n",
       "\n",
       "</font>"
      ],
      "text/plain": [
       "<IPython.core.display.HTML object>"
      ]
     },
     "metadata": {},
     "output_type": "display_data"
    },
    {
     "name": "stdout",
     "output_type": "stream",
     "text": [
      "👩‍🔬, use only the information provided to you by the user to answer the user''s question. \n",
      "            If the information is insufficient for 👩‍🔬 to derive an answer, just say ''I cannot find relevant information in my document store to answer the question correctly.'' \n",
      "            👩‍🔬 is to provide an in-depth analysis to the question based only on the information provided by the user and nothing more.\n",
      "            👩‍🔬 will give a real-life example to support illustrating your point and contrasting it with a counter-example. \n",
      "            👩‍🔬 will also proofread and edit the content before responding. \n",
      "            👩‍🔬 will provide your own reasoned subjective perspective, noting where your view differs from or expands on the contents.\n",
      "            Rules:\n",
      "                - Consolidate the materials provided by the user and then organise them point by point.\n",
      "                - Provide as much details as you can extract from the materials provided by the user.\n",
      "                - Begin your report by saying `According to my document store,...`\n",
      "                - Always provide your answers in point form.\n",
      "\n",
      "\n",
      "\n"
     ]
    },
    {
     "data": {
      "text/html": [
       "<font color=\"yellow\">User:\n",
       "\n",
       "</font>"
      ],
      "text/plain": [
       "<IPython.core.display.HTML object>"
      ]
     },
     "metadata": {},
     "output_type": "display_data"
    },
    {
     "name": "stdout",
     "output_type": "stream",
     "text": [
      "\n",
      "            Refer to the following context: `[\"well as salt-baked chicken. With the diversity presented in a single dish, Singapore's chicken rice definitely draws in curious diners to uncover more of the Lion City's chicken rice culture. Being equally fascinated with Singapore's chicken rice, the MICHELIN Guide inspectors share with us where to get the best ones in Singapore, so read on below! Boon Tong Kee (Balestier Road) 399, 401, 403 Balestier Road, 329801 Singapore $\", \"15 September 2023 There are many dishes that are very much representative of Singapore, and one of the most iconic of them is, of course, chicken rice. Loosely referred to as Singapore's national dish, the ubiquitous Hainanese chicken rice requires a meticulous preparation process. To make this classic chicken rice dish, the chicken is first scalded until cooked through before it is dipped in ice-cold water to keep the meat soft and tender. Served with chicken broth, ginger sauce, black soy sauce, and chilli, the highlight is the rice that has been cooked with the chicken's oils. The end-product may look deceptively simple, but it is very delicious. Singapore's offerings also go beyond the traditional Hainanese chicken rice. There is also kampung -style chicken rice where the poultry used is leaner. Soya sauce chicken rice is also a popular choice, as well as salt-baked chicken. With the diversity presented in a single dish, Singapore's chicken rice\", \"· Cantonese Roast Meats A household brand that's popular both in Singapore and overseas, Hawker Chan Soya Sauce Chicken Rice & Noodle 's soya sauce chicken is well-known far and wide. The chicken is cooked in the chef's secret sauce for several hours, and it yields tender and flavourful meat. First-time diners are recommended to try the signature soya sauce chicken rice to experience its charming qualities. More Details Xing Yun Hainanese Boneless Chicken Rice Yuhua Market & Hawker Centre, #01-202, Blk 347, Jurong East Avenue 1, Jurong East, 600347 Singapore $ ·\", \"· Street Food Located in the Maxwell Food Centre, Tian Tian Hainanese Chicken Rice is a popular Hainanese chicken rice stall has been around since 1987 and is well-known overseas. There is always a long queue, so one can only imagine how enticing the chicken rice here is. The meat is tender and is drizzled with a secret sauce to enhance its umami. Don't forget to enjoy it with the fragrant rice! More Details People's Park Hainanese Chicken Rice People's Park Complex Food Centre, #01-1098, 32 New Market Road, 050032 Singapore $ ·\"]`. \n",
      "            Based on the earlier context, answer the question Which famous chicken rice in Singapore also sells char siew?.\"\n",
      "            \n",
      "\n",
      "\n",
      "\n"
     ]
    },
    {
     "data": {
      "text/html": [
       "<font color=\"yellow\">Assistant:\n",
       "\n",
       "</font>"
      ],
      "text/plain": [
       "<IPython.core.display.HTML object>"
      ]
     },
     "metadata": {},
     "output_type": "display_data"
    },
    {
     "name": "stdout",
     "output_type": "stream",
     "text": [
      "\n",
      "\n",
      "\n",
      "\n"
     ]
    }
   ],
   "source": [
    "# ACT\n",
    "agent.next()\n",
    "\n",
    "# ASSERT\n",
    "TestAgentHelper.ShowAgent(agent)"
   ]
  },
  {
   "cell_type": "markdown",
   "metadata": {},
   "source": [
    "## State 5. GENERATE\n",
    "\n"
   ]
  },
  {
   "cell_type": "code",
   "execution_count": 8,
   "metadata": {},
   "outputs": [
    {
     "name": "stderr",
     "output_type": "stream",
     "text": [
      "\u001b[45m\u001b[30mDEBUG   \u001b[0m \u001b[35mhttppost:url=http://localhost:12031/gen/v1/chat/completions\u001b[0m\n",
      "\u001b[45m\u001b[30mDEBUG   \u001b[0m \u001b[35mhttppost:data={'json_schema': None,\n",
      " 'max_new_tokens': 1000,\n",
      " 'max_tokens': 2000,\n",
      " 'messages': [{'content': '👩\\u200d🔬, use only the information provided to you '\n",
      "                          \"by the user to answer the user''s question. If the \"\n",
      "                          'information is insufficient for 👩\\u200d🔬 to derive '\n",
      "                          \"an answer, just say ''I cannot find relevant \"\n",
      "                          'information in my document store to answer the '\n",
      "                          \"question correctly.'' 👩\\u200d🔬 is to provide an \"\n",
      "                          'in-depth analysis to the question based only on the '\n",
      "                          'information provided by the user and nothing more. '\n",
      "                          '👩\\u200d🔬 will give a real-life example to support '\n",
      "                          'illustrating your point and contrasting it with a '\n",
      "                          'counter-example. 👩\\u200d🔬 will also proofread and '\n",
      "                          'edit the content before responding. 👩\\u200d🔬 will '\n",
      "                          'provide your own reasoned subjective perspective, '\n",
      "                          'noting where your view differs from or expands on '\n",
      "                          'the contents. Rules: - Consolidate the materials '\n",
      "                          'provided by the user and then organise them point '\n",
      "                          'by point. - Provide as much details as you can '\n",
      "                          'extract from the materials provided by the user. - '\n",
      "                          'Begin your report by saying `According to my '\n",
      "                          'document store,...` - Always provide your answers '\n",
      "                          'in point form.',\n",
      "               'role': 'system'},\n",
      "              {'content': '\\n'\n",
      "                          '            Refer to the following context: `[\"well '\n",
      "                          'as salt-baked chicken. With the diversity presented '\n",
      "                          \"in a single dish, Singapore's chicken rice \"\n",
      "                          'definitely draws in curious diners to uncover more '\n",
      "                          \"of the Lion City's chicken rice culture. Being \"\n",
      "                          \"equally fascinated with Singapore's chicken rice, \"\n",
      "                          'the MICHELIN Guide inspectors share with us where '\n",
      "                          'to get the best ones in Singapore, so read on '\n",
      "                          'below! Boon Tong Kee (Balestier Road) 399, 401, 403 '\n",
      "                          'Balestier Road, 329801 Singapore $\", \"15 September '\n",
      "                          '2023 There are many dishes that are very much '\n",
      "                          'representative of Singapore, and one of the most '\n",
      "                          'iconic of them is, of course, chicken rice. Loosely '\n",
      "                          \"referred to as Singapore's national dish, the \"\n",
      "                          'ubiquitous Hainanese chicken rice requires a '\n",
      "                          'meticulous preparation process. To make this '\n",
      "                          'classic chicken rice dish, the chicken is first '\n",
      "                          'scalded until cooked through before it is dipped in '\n",
      "                          'ice-cold water to keep the meat soft and tender. '\n",
      "                          'Served with chicken broth, ginger sauce, black soy '\n",
      "                          'sauce, and chilli, the highlight is the rice that '\n",
      "                          \"has been cooked with the chicken's oils. The \"\n",
      "                          'end-product may look deceptively simple, but it is '\n",
      "                          \"very delicious. Singapore's offerings also go \"\n",
      "                          'beyond the traditional Hainanese chicken rice. '\n",
      "                          'There is also kampung -style chicken rice where the '\n",
      "                          'poultry used is leaner. Soya sauce chicken rice is '\n",
      "                          'also a popular choice, as well as salt-baked '\n",
      "                          'chicken. With the diversity presented in a single '\n",
      "                          'dish, Singapore\\'s chicken rice\", \"· Cantonese '\n",
      "                          \"Roast Meats A household brand that's popular both \"\n",
      "                          'in Singapore and overseas, Hawker Chan Soya Sauce '\n",
      "                          \"Chicken Rice & Noodle 's soya sauce chicken is \"\n",
      "                          'well-known far and wide. The chicken is cooked in '\n",
      "                          \"the chef's secret sauce for several hours, and it \"\n",
      "                          'yields tender and flavourful meat. First-time '\n",
      "                          'diners are recommended to try the signature soya '\n",
      "                          'sauce chicken rice to experience its charming '\n",
      "                          'qualities. More Details Xing Yun Hainanese Boneless '\n",
      "                          'Chicken Rice Yuhua Market & Hawker Centre, #01-202, '\n",
      "                          'Blk 347, Jurong East Avenue 1, Jurong East, 600347 '\n",
      "                          'Singapore $ ·\", \"· Street Food Located in the '\n",
      "                          'Maxwell Food Centre, Tian Tian Hainanese Chicken '\n",
      "                          'Rice is a popular Hainanese chicken rice stall has '\n",
      "                          'been around since 1987 and is well-known overseas. '\n",
      "                          'There is always a long queue, so one can only '\n",
      "                          'imagine how enticing the chicken rice here is. The '\n",
      "                          'meat is tender and is drizzled with a secret sauce '\n",
      "                          \"to enhance its umami. Don't forget to enjoy it with \"\n",
      "                          \"the fragrant rice! More Details People's Park \"\n",
      "                          \"Hainanese Chicken Rice People's Park Complex Food \"\n",
      "                          'Centre, #01-1098, 32 New Market Road, 050032 '\n",
      "                          'Singapore $ ·\"]`. \\n'\n",
      "                          '            Based on the earlier context, answer '\n",
      "                          'the question Which famous chicken rice in Singapore '\n",
      "                          'also sells char siew?.\"\\n'\n",
      "                          '            ',\n",
      "               'role': 'user'},\n",
      "              {'content': '', 'role': 'assistant'}],\n",
      " 'stop_conditions': None,\n",
      " 'stream': True,\n",
      " 'temperature': 1e-08,\n",
      " 'tool_choice': 'none',\n",
      " 'tools': None,\n",
      " 'top_k': None,\n",
      " 'top_p': None}\u001b[0m\n"
     ]
    },
    {
     "name": "stdout",
     "output_type": "stream",
     "text": [
      " According to my document store, there is no information provided about any famous chicken rice in Singapore that also sells char siew. However, it is worth noting that the context does not mention any other dishes served by the restaurants mentioned. Therefore, it is possible that some of these restaurants may serve char siew as part of their menu, but this information is not provided in the context.\n",
      "\n",
      "To answer your question more definitively, I would need additional information about which specific restaurants or chains of restaurants in Singapore are known for both chicken rice and char siew. Once I have that information, I can search my document store for more detailed information about those restaurants and their menus.\n",
      "\n",
      "For example, let's say we know that the restaurant \"Lau Pa Sat\" is famous for both chicken rice and char siew. In that case, I could search my document store for more information about Lau Pa Sat and find out that they do indeed serve char siew as part of their menu.\n",
      "\n",
      "In conclusion, while the context does not provide information about any famous chicken rice in Singapore that also sells char siew, it is possible that some of the restaurants mentioned in the context may serve char siew as part of their menu. To confirm this, we would need more specific information about which restaurants are known for both chicken rice and char siew."
     ]
    }
   ],
   "source": [
    "# ACT\n",
    "agent.next()\n",
    "for chunk in agent.streamer:\n",
    "    print(chunk, end=\"\", flush=True)"
   ]
  },
  {
   "cell_type": "code",
   "execution_count": 9,
   "metadata": {},
   "outputs": [
    {
     "name": "stdout",
     "output_type": "stream",
     "text": [
      "step=5\n",
      "state=GENERATE\n",
      "tool_choice=none\n",
      "tool_name='text\n"
     ]
    },
    {
     "data": {
      "text/html": [
       "<div style=\"background-color: #cccccc; color: #333333; white-space: pre-wrap; padding: 10px;\">content=<i>\" According to my document store, there is no information provided about any famous chicken rice in Singapore that also sells char siew. However, it is worth noting that the context does not mention any other dishes served by the restaurants mentioned. Therefore, it is possible that some of these restaurants may serve char siew as part of their menu, but this information is not provided in the context.\\n\\nTo answer your question more definitively, I would need additional information about which specific restaurants or chains of restaurants in Singapore are known for both chicken rice and char siew. Once I have that information, I can search my document store for more detailed information about those restaurants and their menus.\\n\\nFor example, let's say we know that the restaurant \\\"Lau Pa Sat\\\" is famous for both chicken rice and char siew. In that case, I could search my document store for more information about Lau Pa Sat and find out that they do indeed serve char siew as part of their menu.\\n\\nIn conclusion, while the context does not provide information about any famous chicken rice in Singapore that also sells char siew, it is possible that some of the restaurants mentioned in the context may serve char siew as part of their menu. To confirm this, we would need more specific information about which restaurants are known for both chicken rice and char siew.\"</i></div>"
      ],
      "text/plain": [
       "<IPython.core.display.HTML object>"
      ]
     },
     "metadata": {},
     "output_type": "display_data"
    },
    {
     "name": "stdout",
     "output_type": "stream",
     "text": [
      "\n",
      "\n",
      "MONOLOGUE\n",
      "\n"
     ]
    },
    {
     "data": {
      "text/html": [
       "<font color=\"yellow\">System:\n",
       "\n",
       "</font>"
      ],
      "text/plain": [
       "<IPython.core.display.HTML object>"
      ]
     },
     "metadata": {},
     "output_type": "display_data"
    },
    {
     "name": "stdout",
     "output_type": "stream",
     "text": [
      "👩‍🔬, use only the information provided to you by the user to answer the user''s question. \n",
      "            If the information is insufficient for 👩‍🔬 to derive an answer, just say ''I cannot find relevant information in my document store to answer the question correctly.'' \n",
      "            👩‍🔬 is to provide an in-depth analysis to the question based only on the information provided by the user and nothing more.\n",
      "            👩‍🔬 will give a real-life example to support illustrating your point and contrasting it with a counter-example. \n",
      "            👩‍🔬 will also proofread and edit the content before responding. \n",
      "            👩‍🔬 will provide your own reasoned subjective perspective, noting where your view differs from or expands on the contents.\n",
      "            Rules:\n",
      "                - Consolidate the materials provided by the user and then organise them point by point.\n",
      "                - Provide as much details as you can extract from the materials provided by the user.\n",
      "                - Begin your report by saying `According to my document store,...`\n",
      "                - Always provide your answers in point form.\n",
      "\n",
      "\n",
      "\n"
     ]
    },
    {
     "data": {
      "text/html": [
       "<font color=\"yellow\">User:\n",
       "\n",
       "</font>"
      ],
      "text/plain": [
       "<IPython.core.display.HTML object>"
      ]
     },
     "metadata": {},
     "output_type": "display_data"
    },
    {
     "name": "stdout",
     "output_type": "stream",
     "text": [
      "\n",
      "            Refer to the following context: `[\"well as salt-baked chicken. With the diversity presented in a single dish, Singapore's chicken rice definitely draws in curious diners to uncover more of the Lion City's chicken rice culture. Being equally fascinated with Singapore's chicken rice, the MICHELIN Guide inspectors share with us where to get the best ones in Singapore, so read on below! Boon Tong Kee (Balestier Road) 399, 401, 403 Balestier Road, 329801 Singapore $\", \"15 September 2023 There are many dishes that are very much representative of Singapore, and one of the most iconic of them is, of course, chicken rice. Loosely referred to as Singapore's national dish, the ubiquitous Hainanese chicken rice requires a meticulous preparation process. To make this classic chicken rice dish, the chicken is first scalded until cooked through before it is dipped in ice-cold water to keep the meat soft and tender. Served with chicken broth, ginger sauce, black soy sauce, and chilli, the highlight is the rice that has been cooked with the chicken's oils. The end-product may look deceptively simple, but it is very delicious. Singapore's offerings also go beyond the traditional Hainanese chicken rice. There is also kampung -style chicken rice where the poultry used is leaner. Soya sauce chicken rice is also a popular choice, as well as salt-baked chicken. With the diversity presented in a single dish, Singapore's chicken rice\", \"· Cantonese Roast Meats A household brand that's popular both in Singapore and overseas, Hawker Chan Soya Sauce Chicken Rice & Noodle 's soya sauce chicken is well-known far and wide. The chicken is cooked in the chef's secret sauce for several hours, and it yields tender and flavourful meat. First-time diners are recommended to try the signature soya sauce chicken rice to experience its charming qualities. More Details Xing Yun Hainanese Boneless Chicken Rice Yuhua Market & Hawker Centre, #01-202, Blk 347, Jurong East Avenue 1, Jurong East, 600347 Singapore $ ·\", \"· Street Food Located in the Maxwell Food Centre, Tian Tian Hainanese Chicken Rice is a popular Hainanese chicken rice stall has been around since 1987 and is well-known overseas. There is always a long queue, so one can only imagine how enticing the chicken rice here is. The meat is tender and is drizzled with a secret sauce to enhance its umami. Don't forget to enjoy it with the fragrant rice! More Details People's Park Hainanese Chicken Rice People's Park Complex Food Centre, #01-1098, 32 New Market Road, 050032 Singapore $ ·\"]`. \n",
      "            Based on the earlier context, answer the question Which famous chicken rice in Singapore also sells char siew?.\"\n",
      "            \n",
      "\n",
      "\n",
      "\n"
     ]
    },
    {
     "data": {
      "text/html": [
       "<font color=\"yellow\">Assistant:\n",
       "\n",
       "</font>"
      ],
      "text/plain": [
       "<IPython.core.display.HTML object>"
      ]
     },
     "metadata": {},
     "output_type": "display_data"
    },
    {
     "name": "stdout",
     "output_type": "stream",
     "text": [
      "\n",
      "\n",
      "\n",
      "\n"
     ]
    }
   ],
   "source": [
    "# ASSERT\n",
    "TestAgentHelper.ShowAgent(agent)\n"
   ]
  },
  {
   "cell_type": "markdown",
   "metadata": {},
   "source": [
    "## State 6. PROCESS\n",
    "\n"
   ]
  },
  {
   "cell_type": "code",
   "execution_count": 10,
   "metadata": {},
   "outputs": [
    {
     "name": "stdout",
     "output_type": "stream",
     "text": [
      "step=6\n",
      "state=PROCESS\n",
      "tool_choice=none\n",
      "tool_name='text\n"
     ]
    },
    {
     "data": {
      "text/html": [
       "<div style=\"background-color: #cccccc; color: #333333; white-space: pre-wrap; padding: 10px;\">content=<i>\" According to my document store, there is no information provided about any famous chicken rice in Singapore that also sells char siew. However, it is worth noting that the context does not mention any other dishes served by the restaurants mentioned. Therefore, it is possible that some of these restaurants may serve char siew as part of their menu, but this information is not provided in the context.\\n\\nTo answer your question more definitively, I would need additional information about which specific restaurants or chains of restaurants in Singapore are known for both chicken rice and char siew. Once I have that information, I can search my document store for more detailed information about those restaurants and their menus.\\n\\nFor example, let's say we know that the restaurant \\\"Lau Pa Sat\\\" is famous for both chicken rice and char siew. In that case, I could search my document store for more information about Lau Pa Sat and find out that they do indeed serve char siew as part of their menu.\\n\\nIn conclusion, while the context does not provide information about any famous chicken rice in Singapore that also sells char siew, it is possible that some of the restaurants mentioned in the context may serve char siew as part of their menu. To confirm this, we would need more specific information about which restaurants are known for both chicken rice and char siew.\"</i></div>"
      ],
      "text/plain": [
       "<IPython.core.display.HTML object>"
      ]
     },
     "metadata": {},
     "output_type": "display_data"
    },
    {
     "name": "stdout",
     "output_type": "stream",
     "text": [
      "\n",
      "\n",
      "MONOLOGUE\n",
      "\n"
     ]
    },
    {
     "data": {
      "text/html": [
       "<font color=\"yellow\">System:\n",
       "\n",
       "</font>"
      ],
      "text/plain": [
       "<IPython.core.display.HTML object>"
      ]
     },
     "metadata": {},
     "output_type": "display_data"
    },
    {
     "name": "stdout",
     "output_type": "stream",
     "text": [
      "👩‍🔬, use only the information provided to you by the user to answer the user''s question. \n",
      "            If the information is insufficient for 👩‍🔬 to derive an answer, just say ''I cannot find relevant information in my document store to answer the question correctly.'' \n",
      "            👩‍🔬 is to provide an in-depth analysis to the question based only on the information provided by the user and nothing more.\n",
      "            👩‍🔬 will give a real-life example to support illustrating your point and contrasting it with a counter-example. \n",
      "            👩‍🔬 will also proofread and edit the content before responding. \n",
      "            👩‍🔬 will provide your own reasoned subjective perspective, noting where your view differs from or expands on the contents.\n",
      "            Rules:\n",
      "                - Consolidate the materials provided by the user and then organise them point by point.\n",
      "                - Provide as much details as you can extract from the materials provided by the user.\n",
      "                - Begin your report by saying `According to my document store,...`\n",
      "                - Always provide your answers in point form.\n",
      "\n",
      "\n",
      "\n"
     ]
    },
    {
     "data": {
      "text/html": [
       "<font color=\"yellow\">User:\n",
       "\n",
       "</font>"
      ],
      "text/plain": [
       "<IPython.core.display.HTML object>"
      ]
     },
     "metadata": {},
     "output_type": "display_data"
    },
    {
     "name": "stdout",
     "output_type": "stream",
     "text": [
      "\n",
      "            Refer to the following context: `[\"well as salt-baked chicken. With the diversity presented in a single dish, Singapore's chicken rice definitely draws in curious diners to uncover more of the Lion City's chicken rice culture. Being equally fascinated with Singapore's chicken rice, the MICHELIN Guide inspectors share with us where to get the best ones in Singapore, so read on below! Boon Tong Kee (Balestier Road) 399, 401, 403 Balestier Road, 329801 Singapore $\", \"15 September 2023 There are many dishes that are very much representative of Singapore, and one of the most iconic of them is, of course, chicken rice. Loosely referred to as Singapore's national dish, the ubiquitous Hainanese chicken rice requires a meticulous preparation process. To make this classic chicken rice dish, the chicken is first scalded until cooked through before it is dipped in ice-cold water to keep the meat soft and tender. Served with chicken broth, ginger sauce, black soy sauce, and chilli, the highlight is the rice that has been cooked with the chicken's oils. The end-product may look deceptively simple, but it is very delicious. Singapore's offerings also go beyond the traditional Hainanese chicken rice. There is also kampung -style chicken rice where the poultry used is leaner. Soya sauce chicken rice is also a popular choice, as well as salt-baked chicken. With the diversity presented in a single dish, Singapore's chicken rice\", \"· Cantonese Roast Meats A household brand that's popular both in Singapore and overseas, Hawker Chan Soya Sauce Chicken Rice & Noodle 's soya sauce chicken is well-known far and wide. The chicken is cooked in the chef's secret sauce for several hours, and it yields tender and flavourful meat. First-time diners are recommended to try the signature soya sauce chicken rice to experience its charming qualities. More Details Xing Yun Hainanese Boneless Chicken Rice Yuhua Market & Hawker Centre, #01-202, Blk 347, Jurong East Avenue 1, Jurong East, 600347 Singapore $ ·\", \"· Street Food Located in the Maxwell Food Centre, Tian Tian Hainanese Chicken Rice is a popular Hainanese chicken rice stall has been around since 1987 and is well-known overseas. There is always a long queue, so one can only imagine how enticing the chicken rice here is. The meat is tender and is drizzled with a secret sauce to enhance its umami. Don't forget to enjoy it with the fragrant rice! More Details People's Park Hainanese Chicken Rice People's Park Complex Food Centre, #01-1098, 32 New Market Road, 050032 Singapore $ ·\"]`. \n",
      "            Based on the earlier context, answer the question Which famous chicken rice in Singapore also sells char siew?.\"\n",
      "            \n",
      "\n",
      "\n",
      "\n"
     ]
    },
    {
     "data": {
      "text/html": [
       "<font color=\"yellow\">Alfred:\n",
       "\n",
       "</font>"
      ],
      "text/plain": [
       "<IPython.core.display.HTML object>"
      ]
     },
     "metadata": {},
     "output_type": "display_data"
    },
    {
     "name": "stdout",
     "output_type": "stream",
     "text": [
      " According to my document store, there is no information provided about any famous chicken rice in Singapore that also sells char siew. However, it is worth noting that the context does not mention any other dishes served by the restaurants mentioned. Therefore, it is possible that some of these restaurants may serve char siew as part of their menu, but this information is not provided in the context.\n",
      "\n",
      "To answer your question more definitively, I would need additional information about which specific restaurants or chains of restaurants in Singapore are known for both chicken rice and char siew. Once I have that information, I can search my document store for more detailed information about those restaurants and their menus.\n",
      "\n",
      "For example, let's say we know that the restaurant \"Lau Pa Sat\" is famous for both chicken rice and char siew. In that case, I could search my document store for more information about Lau Pa Sat and find out that they do indeed serve char siew as part of their menu.\n",
      "\n",
      "In conclusion, while the context does not provide information about any famous chicken rice in Singapore that also sells char siew, it is possible that some of the restaurants mentioned in the context may serve char siew as part of their menu. To confirm this, we would need more specific information about which restaurants are known for both chicken rice and char siew.\n",
      "\n",
      "\n",
      "\n"
     ]
    }
   ],
   "source": [
    "# ACT\n",
    "agent.next()\n",
    "\n",
    "# ASSERT\n",
    "TestAgentHelper.ShowAgent(agent)\n"
   ]
  }
 ],
 "metadata": {
  "kernelspec": {
   "display_name": ".venv",
   "language": "python",
   "name": "python3"
  },
  "language_info": {
   "codemirror_mode": {
    "name": "ipython",
    "version": 3
   },
   "file_extension": ".py",
   "mimetype": "text/x-python",
   "name": "python",
   "nbconvert_exporter": "python",
   "pygments_lexer": "ipython3",
   "version": "3.10.12"
  }
 },
 "nbformat": 4,
 "nbformat_minor": 2
}
