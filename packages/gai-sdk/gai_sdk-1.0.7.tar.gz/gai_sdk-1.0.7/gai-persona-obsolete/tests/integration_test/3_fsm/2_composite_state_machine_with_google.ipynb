{
 "cells": [
  {
   "cell_type": "markdown",
   "metadata": {},
   "source": [
    "# Agent State Machine"
   ]
  },
  {
   "cell_type": "markdown",
   "metadata": {},
   "source": [
    "## State 0. Init\n",
    "\n",
    "The starting point is to create the string representation of the following mermaid diagram as follows:\n"
   ]
  },
  {
   "cell_type": "code",
   "execution_count": 1,
   "metadata": {},
   "outputs": [],
   "source": [
    "state_diagram = \"\"\"stateDiagram-v2\n",
    "    INIT --> TOOL_CHOICE: next / on_TOOL_CHOICE\n",
    "\n",
    "    TOOL_CHOICE --> CRAFT_TEXT_PROMPT: next / on_CRAFT_PROMPT / use_text\n",
    "        CRAFT_TEXT_PROMPT --> GENERATE: next / on_GENERATE\n",
    "        GENERATE --> PROCESS: next / on_PROCESS / use_text\n",
    "        PROCESS --> END : next\n",
    "\n",
    "    TOOL_CHOICE --> CRAFT_TOOL_PROMPT: next / on_CRAFT_PROMPT / use_google\n",
    "        TOOL_CALL --> GOOGLE: next / on_GOOGLE / use_google\n",
    "        GOOGLE --> GENERATE: next / on_GENERATE\n",
    "\n",
    "    TOOL_CHOICE --> CRAFT_TOOL_PROMPT: next / on_CRAFT_PROMPT / use_retrieval\n",
    "        TOOL_CALL --> RETRIEVAL: next / on_RETRIEVAL / use_retrieval\n",
    "        RETRIEVAL --> GENERATE: next / on_GENERATE\n",
    "\n",
    "    CRAFT_TOOL_PROMPT --> TOOL_CALL: next / on_TOOL_CALL\n",
    "    \"\"\""
   ]
  },
  {
   "cell_type": "markdown",
   "metadata": {},
   "source": [
    "```mermaid\n",
    "stateDiagram-v2\n",
    "    INIT --> TOOL_CHOICE: next / on_TOOL_CHOICE\n",
    "\n",
    "    TOOL_CHOICE --> CRAFT_TEXT_PROMPT: next / on_CRAFT_PROMPT / use_text\n",
    "        CRAFT_TEXT_PROMPT --> GENERATE: next / on_GENERATE\n",
    "        GENERATE --> PROCESS: next / on_PROCESS / use_text\n",
    "        PROCESS --> END : next\n",
    "\n",
    "    TOOL_CHOICE --> CRAFT_TOOL_PROMPT: next / on_CRAFT_PROMPT / use_google\n",
    "        TOOL_CALL --> GOOGLE: next / on_GOOGLE / use_google\n",
    "        GOOGLE --> GENERATE: next / on_GENERATE\n",
    "\n",
    "    TOOL_CHOICE --> CRAFT_TOOL_PROMPT: next / on_CRAFT_PROMPT / use_retrieval\n",
    "        TOOL_CALL --> RETRIEVAL: next / on_RETRIEVAL / use_retrieval\n",
    "        RETRIEVAL --> GENERATE: next / on_GENERATE\n",
    "\n",
    "    CRAFT_TOOL_PROMPT --> TOOL_CALL: next / on_TOOL_CALL\n",
    "```"
   ]
  },
  {
   "cell_type": "code",
   "execution_count": 2,
   "metadata": {},
   "outputs": [
    {
     "name": "stdout",
     "output_type": "stream",
     "text": [
      "Machine validation successful.\n"
     ]
    }
   ],
   "source": [
    "# ARRANGE\n",
    "import os\n",
    "os.environ[\"LOG_LEVEL\"]=\"WARNING\"\n",
    "from gai.lib.common.notebook import highlight,print_colored\n",
    "import sys\n",
    "sys.path.insert(0, os.path.abspath(os.path.join(os.path.dirname(__name__), '..')))\n",
    "from TestAgentHelper import TestAgentHelper\n",
    "agent = TestAgentHelper.CreateAgent(\"What is the current time in Singapore?\",state_diagram=state_diagram)\n"
   ]
  },
  {
   "cell_type": "markdown",
   "metadata": {},
   "source": [
    "## State 1. TOOL_CHOICE\n",
    "\n",
    "The first state is managed by `use_TOOL_CHOICE_handler` state handler function.\n",
    "The agent should decide to use \"google\"."
   ]
  },
  {
   "cell_type": "code",
   "execution_count": 3,
   "metadata": {},
   "outputs": [
    {
     "name": "stdout",
     "output_type": "stream",
     "text": [
      "step=1\n",
      "state=TOOL_CHOICE\n",
      "tool_choice=required\n",
      "tool_name='google\n"
     ]
    },
    {
     "data": {
      "text/html": [
       "<div style=\"background-color: #cccccc; color: #333333; white-space: pre-wrap; padding: 10px;\">content=<i>{\n",
       "    \"result\": \"google\"\n",
       "}</i></div>"
      ],
      "text/plain": [
       "<IPython.core.display.HTML object>"
      ]
     },
     "metadata": {},
     "output_type": "display_data"
    },
    {
     "name": "stdout",
     "output_type": "stream",
     "text": [
      "\n",
      "\n",
      "MONOLOGUE\n",
      "\n"
     ]
    }
   ],
   "source": [
    "# ACT\n",
    "agent.next()\n",
    "\n",
    "# ASSERT\n",
    "TestAgentHelper.ShowAgent(agent)"
   ]
  },
  {
   "cell_type": "markdown",
   "metadata": {},
   "source": [
    "## State 2. CRAFT_TOOL_PROMPT\n",
    "\n",
    "CRAFT_TOOL_PROMPT is triggered because the agent recommends \"google\". System message should return \"\"."
   ]
  },
  {
   "cell_type": "code",
   "execution_count": 4,
   "metadata": {},
   "outputs": [
    {
     "name": "stdout",
     "output_type": "stream",
     "text": [
      "step=2\n",
      "state=CRAFT_TOOL_PROMPT\n",
      "tool_choice=required\n",
      "tool_name='google\n"
     ]
    },
    {
     "data": {
      "text/html": [
       "<div style=\"background-color: #cccccc; color: #333333; white-space: pre-wrap; padding: 10px;\">content=<i>{\n",
       "    \"system_message\": \"\"\n",
       "}</i></div>"
      ],
      "text/plain": [
       "<IPython.core.display.HTML object>"
      ]
     },
     "metadata": {},
     "output_type": "display_data"
    },
    {
     "name": "stdout",
     "output_type": "stream",
     "text": [
      "\n",
      "\n",
      "MONOLOGUE\n",
      "\n"
     ]
    },
    {
     "data": {
      "text/html": [
       "<font color=\"yellow\">System:\n",
       "\n",
       "</font>"
      ],
      "text/plain": [
       "<IPython.core.display.HTML object>"
      ]
     },
     "metadata": {},
     "output_type": "display_data"
    },
    {
     "name": "stdout",
     "output_type": "stream",
     "text": [
      "\n",
      "\n",
      "\n",
      "\n"
     ]
    },
    {
     "data": {
      "text/html": [
       "<font color=\"yellow\">User:\n",
       "\n",
       "</font>"
      ],
      "text/plain": [
       "<IPython.core.display.HTML object>"
      ]
     },
     "metadata": {},
     "output_type": "display_data"
    },
    {
     "name": "stdout",
     "output_type": "stream",
     "text": [
      "Alfred, What is the current time in Singapore?\n",
      "\n",
      "\n",
      "\n"
     ]
    },
    {
     "data": {
      "text/html": [
       "<font color=\"yellow\">Assistant:\n",
       "\n",
       "</font>"
      ],
      "text/plain": [
       "<IPython.core.display.HTML object>"
      ]
     },
     "metadata": {},
     "output_type": "display_data"
    },
    {
     "name": "stdout",
     "output_type": "stream",
     "text": [
      "\n",
      "\n",
      "\n",
      "\n"
     ]
    }
   ],
   "source": [
    "# ACT\n",
    "agent.next()\n",
    "\n",
    "# ASSERT\n",
    "TestAgentHelper.ShowAgent(agent)"
   ]
  },
  {
   "cell_type": "markdown",
   "metadata": {},
   "source": [
    "## State 3. TOOL_CALL\n",
    "\n"
   ]
  },
  {
   "cell_type": "code",
   "execution_count": 5,
   "metadata": {},
   "outputs": [
    {
     "name": "stdout",
     "output_type": "stream",
     "text": [
      "{\"type\": \"function\", \"name\": \"google\", \"arguments\": \"{\\\"search_query\\\": \\\"current time Singapore\\\"}\"}\n",
      "step=3\n",
      "state=TOOL_CALL\n",
      "tool_choice=required\n",
      "tool_name='google\n"
     ]
    },
    {
     "data": {
      "text/html": [
       "<div style=\"background-color: #cccccc; color: #333333; white-space: pre-wrap; padding: 10px;\">content=<i>\"{\\\"type\\\": \\\"function\\\", \\\"name\\\": \\\"google\\\", \\\"arguments\\\": \\\"{\\\\\\\"search_query\\\\\\\": \\\\\\\"current time Singapore\\\\\\\"}\\\"}\"</i></div>"
      ],
      "text/plain": [
       "<IPython.core.display.HTML object>"
      ]
     },
     "metadata": {},
     "output_type": "display_data"
    },
    {
     "name": "stdout",
     "output_type": "stream",
     "text": [
      "\n",
      "\n",
      "MONOLOGUE\n",
      "\n"
     ]
    },
    {
     "data": {
      "text/html": [
       "<font color=\"yellow\">System:\n",
       "\n",
       "</font>"
      ],
      "text/plain": [
       "<IPython.core.display.HTML object>"
      ]
     },
     "metadata": {},
     "output_type": "display_data"
    },
    {
     "name": "stdout",
     "output_type": "stream",
     "text": [
      "\n",
      "\n",
      "\n",
      "\n"
     ]
    },
    {
     "data": {
      "text/html": [
       "<font color=\"yellow\">User:\n",
       "\n",
       "</font>"
      ],
      "text/plain": [
       "<IPython.core.display.HTML object>"
      ]
     },
     "metadata": {},
     "output_type": "display_data"
    },
    {
     "name": "stdout",
     "output_type": "stream",
     "text": [
      "Alfred, What is the current time in Singapore?\n",
      "\n",
      "\n",
      "\n"
     ]
    },
    {
     "data": {
      "text/html": [
       "<font color=\"yellow\">Assistant:\n",
       "\n",
       "</font>"
      ],
      "text/plain": [
       "<IPython.core.display.HTML object>"
      ]
     },
     "metadata": {},
     "output_type": "display_data"
    },
    {
     "name": "stdout",
     "output_type": "stream",
     "text": [
      "\n",
      "\n",
      "\n",
      "\n"
     ]
    }
   ],
   "source": [
    "# ACT\n",
    "agent.next()\n",
    "print(agent.content)\n",
    "\n",
    "# ASSERT\n",
    "TestAgentHelper.ShowAgent(agent)"
   ]
  },
  {
   "cell_type": "markdown",
   "metadata": {},
   "source": [
    "## State 4. GOOGLE\n",
    "\n"
   ]
  },
  {
   "cell_type": "code",
   "execution_count": 6,
   "metadata": {},
   "outputs": [
    {
     "name": "stdout",
     "output_type": "stream",
     "text": [
      "step=4\n",
      "state=GOOGLE\n",
      "tool_choice=none\n",
      "tool_name='text\n"
     ]
    },
    {
     "data": {
      "text/html": [
       "<div style=\"background-color: #cccccc; color: #333333; white-space: pre-wrap; padding: 10px;\">content=<i>[\n",
       "    {\n",
       "        \"subject\": \"current time Singapore\",\n",
       "        \"topic\": \"Sun & Moon Sun & Moon Today Sunrise & Sunset Moonrise & Moonset Moon Phases Eclipses Night Sky 15:10:33 SGT Monday, 21 October 2024 Fullscreen Country: Singapore Lat/Long: 1\\u00b017'N / 103\\u00b051'E Elevation: 93 m Currency: Singapore Dollar (SGD) Languages: English, Malay, Tamil, \\u2026 Country Code: +65 \\u00b0C Weather 32 \\u00b0C Partly sunny. 33 / 25 \\u00b0C Tue 22. 33 / 25 \\u00b0C Wed 23. 32 / 24 \\u00b0C Weather by CustomWeather, \\u00a9 2024 More weather details Time Zone SGT (Singapore Time) UTC/GMT +8 hours No DST No Daylight Saving Time in 2024 Difference Same time as Singapore About SGT \\u2014 Singapore Time Set your location Sunrise 06:46 \\u2191 101\\u00b0 East Sunset 18:51 \\u2191 259\\u00b0 West Day length 12 hours, 5 minutes -3s shorter Moon 80.3% Set \\u2013 10:12 Rise \\u2013 22:39 High Tide High \\u2013 01:47 High \\u2013 12:48 Low Tide Low \\u2013 07:14 Low \\u2013 19:40 More Sun & Moon in Singapore + Show More Twilight and Moon Phase Information Solar Noon Sun in South: 12:49 Altitude: 77.9\\u00b0 Astronomical Twilight 05:36 \\u2013 06:01 19:37 \\u2013 20:01 Nautical Twilight 06:01 \\u2013 06:25\",\n",
       "        \"relevance\": \"high\"\n",
       "    },\n",
       "    {\n",
       "        \"subject\": \"current time Singapore\",\n",
       "        \"topic\": \"Current Local Time in Singapore, Singapore Sign in News News Home Astronomy News Time Zone News Calendar & Holiday News Newsletter Live events World Clock Main World Clock Extended World Clock Personal World Clock Clock for Your Site UTC Time Time Zones Time Zones Home Time Zone Converter Meeting Planner Event Time Announcer Time Zone Map Time Zone Abbreviations Daylight Saving Time Time Changes Worldwide Time Difference Time Zone News Calendar Calendars Home Calendar 2024 Calendar 2025 Monthly Calendar Printable Calendar (PDF) Add Your Own Calendar Events Calendar Creator Holidays Worldwide On This Day in History Fun Holidays Months of the Year Days of the Week About Leap Years Calendar & Holiday News Weather Worldwide Local Weather Hour-by-Hour 2-Week Forecast Past Week Climate Sun, Moon & Space Sun & Moon Home Sun Calculator Moon Calculator Moon Phases Night Sky Meteor Showers Day and Night Map Moon Light World Map Eclipses Live Streams Seasons Astronomy News Timers Timers Home\",\n",
       "        \"relevance\": \"high\"\n",
       "    },\n",
       "    {\n",
       "        \"subject\": \"current time Singapore\",\n",
       "        \"topic\": \"Time Zones: 1 Dial Code: +65 Time Zone in Singapore 15:10 Singapore SGT UTC +8 See all Time Zones in Singapore See Holidays in Singapore Create a Calendar for Singapore Current Local Time in Locations in Singapore with Links for More Information (1 Location) Singapore Mon 15:10 Popup Window Fullscreen Exit Singapore 15:10 46 Monday, 21 October 2024 Need some help? Tools & Converters Meeting Planner for Singapore Time Zone Converter for Singapore Event Time Announcer for Singapore Time difference between Singapore and other locations Distance calculator to/from Singapore Display a free clock for Singapore on your website or blog Calendar & Holidays Create Singapore calendar Upcoming Holidays 31 Oct - Diwali/Deepavali 21 Dec - December Solstice 24 Dec - Christmas Eve More Holidays in Singapore Airports Singapore Changi Airport, SIN Seletar Airport, XSP Sembawang Air Base Paya Lebar Air Base, QPG Tengah Air Base, TGA CHANGI (RSAF) Advertising How was your experience? Thank you for your\",\n",
       "        \"relevance\": \"high\"\n",
       "    }\n",
       "]</i></div>"
      ],
      "text/plain": [
       "<IPython.core.display.HTML object>"
      ]
     },
     "metadata": {},
     "output_type": "display_data"
    },
    {
     "name": "stdout",
     "output_type": "stream",
     "text": [
      "\n",
      "\n",
      "MONOLOGUE\n",
      "\n"
     ]
    },
    {
     "data": {
      "text/html": [
       "<font color=\"yellow\">System:\n",
       "\n",
       "</font>"
      ],
      "text/plain": [
       "<IPython.core.display.HTML object>"
      ]
     },
     "metadata": {},
     "output_type": "display_data"
    },
    {
     "name": "stdout",
     "output_type": "stream",
     "text": [
      "👩‍🔬, use only the information provided to you by the user to answer the user''s question.\n",
      "            👩‍🔬, whenever possible, do not simply answer the question but try to be as informative as you can.\n",
      "            Remember, these information are scraped from the web so you may need to proofread and edit the content before responding.\n",
      "            👩‍🔬 will reply in point forms, precede each point with a newline \"\n",
      "\", and be precise in your articulation.\n",
      "            👩‍🔬 will provide your own reasoned subjective perspective, noting where your view differs from or expands on the contents.\n",
      "            Rules:\n",
      "                - Consolidate the materials provided by the user and then organise them point by point.\n",
      "                - Don't just answer the question, be as informative as you can. For example, provide and proofread some background information or fun-fact to support your answer and make it interesting.\n",
      "                - Begin your report by saying `According to my online research,...`\n",
      "                - Always provide your answers in point form.\n",
      "\n",
      "\n",
      "\n"
     ]
    },
    {
     "data": {
      "text/html": [
       "<font color=\"yellow\">User:\n",
       "\n",
       "</font>"
      ],
      "text/plain": [
       "<IPython.core.display.HTML object>"
      ]
     },
     "metadata": {},
     "output_type": "display_data"
    },
    {
     "name": "stdout",
     "output_type": "stream",
     "text": [
      "\n",
      "            Refer to the following context: `[{'subject': 'current time Singapore', 'topic': \"Sun & Moon Sun & Moon Today Sunrise & Sunset Moonrise & Moonset Moon Phases Eclipses Night Sky 15:10:33 SGT Monday, 21 October 2024 Fullscreen Country: Singapore Lat/Long: 1°17'N / 103°51'E Elevation: 93 m Currency: Singapore Dollar (SGD) Languages: English, Malay, Tamil, … Country Code: +65 °C Weather 32 °C Partly sunny. 33 / 25 °C Tue 22. 33 / 25 °C Wed 23. 32 / 24 °C Weather by CustomWeather, © 2024 More weather details Time Zone SGT (Singapore Time) UTC/GMT +8 hours No DST No Daylight Saving Time in 2024 Difference Same time as Singapore About SGT — Singapore Time Set your location Sunrise 06:46 ↑ 101° East Sunset 18:51 ↑ 259° West Day length 12 hours, 5 minutes -3s shorter Moon 80.3% Set – 10:12 Rise – 22:39 High Tide High – 01:47 High – 12:48 Low Tide Low – 07:14 Low – 19:40 More Sun & Moon in Singapore + Show More Twilight and Moon Phase Information Solar Noon Sun in South: 12:49 Altitude: 77.9° Astronomical Twilight 05:36 – 06:01 19:37 – 20:01 Nautical Twilight 06:01 – 06:25\", 'relevance': 'high'}, {'subject': 'current time Singapore', 'topic': 'Current Local Time in Singapore, Singapore Sign in News News Home Astronomy News Time Zone News Calendar & Holiday News Newsletter Live events World Clock Main World Clock Extended World Clock Personal World Clock Clock for Your Site UTC Time Time Zones Time Zones Home Time Zone Converter Meeting Planner Event Time Announcer Time Zone Map Time Zone Abbreviations Daylight Saving Time Time Changes Worldwide Time Difference Time Zone News Calendar Calendars Home Calendar 2024 Calendar 2025 Monthly Calendar Printable Calendar (PDF) Add Your Own Calendar Events Calendar Creator Holidays Worldwide On This Day in History Fun Holidays Months of the Year Days of the Week About Leap Years Calendar & Holiday News Weather Worldwide Local Weather Hour-by-Hour 2-Week Forecast Past Week Climate Sun, Moon & Space Sun & Moon Home Sun Calculator Moon Calculator Moon Phases Night Sky Meteor Showers Day and Night Map Moon Light World Map Eclipses Live Streams Seasons Astronomy News Timers Timers Home', 'relevance': 'high'}, {'subject': 'current time Singapore', 'topic': 'Time Zones: 1 Dial Code: +65 Time Zone in Singapore 15:10 Singapore SGT UTC +8 See all Time Zones in Singapore See Holidays in Singapore Create a Calendar for Singapore Current Local Time in Locations in Singapore with Links for More Information (1 Location) Singapore Mon 15:10 Popup Window Fullscreen Exit Singapore 15:10 46 Monday, 21 October 2024 Need some help? Tools & Converters Meeting Planner for Singapore Time Zone Converter for Singapore Event Time Announcer for Singapore Time difference between Singapore and other locations Distance calculator to/from Singapore Display a free clock for Singapore on your website or blog Calendar & Holidays Create Singapore calendar Upcoming Holidays 31 Oct - Diwali/Deepavali 21 Dec - December Solstice 24 Dec - Christmas Eve More Holidays in Singapore Airports Singapore Changi Airport, SIN Seletar Airport, XSP Sembawang Air Base Paya Lebar Air Base, QPG Tengah Air Base, TGA CHANGI (RSAF) Advertising How was your experience? Thank you for your', 'relevance': 'high'}]`. \n",
      "            Based on the earlier context, answer the question What is the current time in Singapore?.\"\n",
      "            \n",
      "\n",
      "\n",
      "\n"
     ]
    },
    {
     "data": {
      "text/html": [
       "<font color=\"yellow\">Assistant:\n",
       "\n",
       "</font>"
      ],
      "text/plain": [
       "<IPython.core.display.HTML object>"
      ]
     },
     "metadata": {},
     "output_type": "display_data"
    },
    {
     "name": "stdout",
     "output_type": "stream",
     "text": [
      "\n",
      "\n",
      "\n",
      "\n"
     ]
    }
   ],
   "source": [
    "# ACT\n",
    "agent.next()\n",
    "\n",
    "# ASSERT\n",
    "TestAgentHelper.ShowAgent(agent)"
   ]
  },
  {
   "cell_type": "markdown",
   "metadata": {},
   "source": [
    "## State 5. GENERATE\n",
    "\n"
   ]
  },
  {
   "cell_type": "code",
   "execution_count": 7,
   "metadata": {},
   "outputs": [
    {
     "name": "stdout",
     "output_type": "stream",
     "text": [
      " According to my online research, the current time in Singapore is 15:10. This information can be found in the context provided, which includes the local time in Singapore. The timezone in Singapore is UTC +8, which is also mentioned in the context. Additionally, the context provides a list of holidays in Singapore, as well as information about airports in Singapore"
     ]
    }
   ],
   "source": [
    "# ACT\n",
    "agent.next()\n",
    "for chunk in agent.streamer:\n",
    "    print(chunk, end=\"\", flush=True)"
   ]
  },
  {
   "cell_type": "code",
   "execution_count": 8,
   "metadata": {},
   "outputs": [
    {
     "name": "stdout",
     "output_type": "stream",
     "text": [
      "step=5\n",
      "state=GENERATE\n",
      "tool_choice=none\n",
      "tool_name='text\n"
     ]
    },
    {
     "data": {
      "text/html": [
       "<div style=\"background-color: #cccccc; color: #333333; white-space: pre-wrap; padding: 10px;\">content=<i>\" According to my online research, the current time in Singapore is 15:10. This information can be found in the context provided, which includes the local time in Singapore. The timezone in Singapore is UTC +8, which is also mentioned in the context. Additionally, the context provides a list of holidays in Singapore, as well as information about airports in Singapore\"</i></div>"
      ],
      "text/plain": [
       "<IPython.core.display.HTML object>"
      ]
     },
     "metadata": {},
     "output_type": "display_data"
    },
    {
     "name": "stdout",
     "output_type": "stream",
     "text": [
      "\n",
      "\n",
      "MONOLOGUE\n",
      "\n"
     ]
    },
    {
     "data": {
      "text/html": [
       "<font color=\"yellow\">System:\n",
       "\n",
       "</font>"
      ],
      "text/plain": [
       "<IPython.core.display.HTML object>"
      ]
     },
     "metadata": {},
     "output_type": "display_data"
    },
    {
     "name": "stdout",
     "output_type": "stream",
     "text": [
      "👩‍🔬, use only the information provided to you by the user to answer the user''s question.\n",
      "            👩‍🔬, whenever possible, do not simply answer the question but try to be as informative as you can.\n",
      "            Remember, these information are scraped from the web so you may need to proofread and edit the content before responding.\n",
      "            👩‍🔬 will reply in point forms, precede each point with a newline \"\n",
      "\", and be precise in your articulation.\n",
      "            👩‍🔬 will provide your own reasoned subjective perspective, noting where your view differs from or expands on the contents.\n",
      "            Rules:\n",
      "                - Consolidate the materials provided by the user and then organise them point by point.\n",
      "                - Don't just answer the question, be as informative as you can. For example, provide and proofread some background information or fun-fact to support your answer and make it interesting.\n",
      "                - Begin your report by saying `According to my online research,...`\n",
      "                - Always provide your answers in point form.\n",
      "\n",
      "\n",
      "\n"
     ]
    },
    {
     "data": {
      "text/html": [
       "<font color=\"yellow\">User:\n",
       "\n",
       "</font>"
      ],
      "text/plain": [
       "<IPython.core.display.HTML object>"
      ]
     },
     "metadata": {},
     "output_type": "display_data"
    },
    {
     "name": "stdout",
     "output_type": "stream",
     "text": [
      "\n",
      "            Refer to the following context: `[{'subject': 'current time Singapore', 'topic': \"Sun & Moon Sun & Moon Today Sunrise & Sunset Moonrise & Moonset Moon Phases Eclipses Night Sky 15:10:33 SGT Monday, 21 October 2024 Fullscreen Country: Singapore Lat/Long: 1°17'N / 103°51'E Elevation: 93 m Currency: Singapore Dollar (SGD) Languages: English, Malay, Tamil, … Country Code: +65 °C Weather 32 °C Partly sunny. 33 / 25 °C Tue 22. 33 / 25 °C Wed 23. 32 / 24 °C Weather by CustomWeather, © 2024 More weather details Time Zone SGT (Singapore Time) UTC/GMT +8 hours No DST No Daylight Saving Time in 2024 Difference Same time as Singapore About SGT — Singapore Time Set your location Sunrise 06:46 ↑ 101° East Sunset 18:51 ↑ 259° West Day length 12 hours, 5 minutes -3s shorter Moon 80.3% Set – 10:12 Rise – 22:39 High Tide High – 01:47 High – 12:48 Low Tide Low – 07:14 Low – 19:40 More Sun & Moon in Singapore + Show More Twilight and Moon Phase Information Solar Noon Sun in South: 12:49 Altitude: 77.9° Astronomical Twilight 05:36 – 06:01 19:37 – 20:01 Nautical Twilight 06:01 – 06:25\", 'relevance': 'high'}, {'subject': 'current time Singapore', 'topic': 'Current Local Time in Singapore, Singapore Sign in News News Home Astronomy News Time Zone News Calendar & Holiday News Newsletter Live events World Clock Main World Clock Extended World Clock Personal World Clock Clock for Your Site UTC Time Time Zones Time Zones Home Time Zone Converter Meeting Planner Event Time Announcer Time Zone Map Time Zone Abbreviations Daylight Saving Time Time Changes Worldwide Time Difference Time Zone News Calendar Calendars Home Calendar 2024 Calendar 2025 Monthly Calendar Printable Calendar (PDF) Add Your Own Calendar Events Calendar Creator Holidays Worldwide On This Day in History Fun Holidays Months of the Year Days of the Week About Leap Years Calendar & Holiday News Weather Worldwide Local Weather Hour-by-Hour 2-Week Forecast Past Week Climate Sun, Moon & Space Sun & Moon Home Sun Calculator Moon Calculator Moon Phases Night Sky Meteor Showers Day and Night Map Moon Light World Map Eclipses Live Streams Seasons Astronomy News Timers Timers Home', 'relevance': 'high'}, {'subject': 'current time Singapore', 'topic': 'Time Zones: 1 Dial Code: +65 Time Zone in Singapore 15:10 Singapore SGT UTC +8 See all Time Zones in Singapore See Holidays in Singapore Create a Calendar for Singapore Current Local Time in Locations in Singapore with Links for More Information (1 Location) Singapore Mon 15:10 Popup Window Fullscreen Exit Singapore 15:10 46 Monday, 21 October 2024 Need some help? Tools & Converters Meeting Planner for Singapore Time Zone Converter for Singapore Event Time Announcer for Singapore Time difference between Singapore and other locations Distance calculator to/from Singapore Display a free clock for Singapore on your website or blog Calendar & Holidays Create Singapore calendar Upcoming Holidays 31 Oct - Diwali/Deepavali 21 Dec - December Solstice 24 Dec - Christmas Eve More Holidays in Singapore Airports Singapore Changi Airport, SIN Seletar Airport, XSP Sembawang Air Base Paya Lebar Air Base, QPG Tengah Air Base, TGA CHANGI (RSAF) Advertising How was your experience? Thank you for your', 'relevance': 'high'}]`. \n",
      "            Based on the earlier context, answer the question What is the current time in Singapore?.\"\n",
      "            \n",
      "\n",
      "\n",
      "\n"
     ]
    },
    {
     "data": {
      "text/html": [
       "<font color=\"yellow\">Assistant:\n",
       "\n",
       "</font>"
      ],
      "text/plain": [
       "<IPython.core.display.HTML object>"
      ]
     },
     "metadata": {},
     "output_type": "display_data"
    },
    {
     "name": "stdout",
     "output_type": "stream",
     "text": [
      "\n",
      "\n",
      "\n",
      "\n"
     ]
    }
   ],
   "source": [
    "# ASSERT\n",
    "TestAgentHelper.ShowAgent(agent)\n"
   ]
  },
  {
   "cell_type": "markdown",
   "metadata": {},
   "source": [
    "## State 6. PROCESS\n",
    "\n"
   ]
  },
  {
   "cell_type": "code",
   "execution_count": 9,
   "metadata": {},
   "outputs": [
    {
     "name": "stdout",
     "output_type": "stream",
     "text": [
      "step=6\n",
      "state=PROCESS\n",
      "tool_choice=none\n",
      "tool_name='text\n"
     ]
    },
    {
     "data": {
      "text/html": [
       "<div style=\"background-color: #cccccc; color: #333333; white-space: pre-wrap; padding: 10px;\">content=<i>\" According to my online research, the current time in Singapore is 15:10. This information can be found in the context provided, which includes the local time in Singapore. The timezone in Singapore is UTC +8, which is also mentioned in the context. Additionally, the context provides a list of holidays in Singapore, as well as information about airports in Singapore\"</i></div>"
      ],
      "text/plain": [
       "<IPython.core.display.HTML object>"
      ]
     },
     "metadata": {},
     "output_type": "display_data"
    },
    {
     "name": "stdout",
     "output_type": "stream",
     "text": [
      "\n",
      "\n",
      "MONOLOGUE\n",
      "\n"
     ]
    },
    {
     "data": {
      "text/html": [
       "<font color=\"yellow\">System:\n",
       "\n",
       "</font>"
      ],
      "text/plain": [
       "<IPython.core.display.HTML object>"
      ]
     },
     "metadata": {},
     "output_type": "display_data"
    },
    {
     "name": "stdout",
     "output_type": "stream",
     "text": [
      "👩‍🔬, use only the information provided to you by the user to answer the user''s question.\n",
      "            👩‍🔬, whenever possible, do not simply answer the question but try to be as informative as you can.\n",
      "            Remember, these information are scraped from the web so you may need to proofread and edit the content before responding.\n",
      "            👩‍🔬 will reply in point forms, precede each point with a newline \"\n",
      "\", and be precise in your articulation.\n",
      "            👩‍🔬 will provide your own reasoned subjective perspective, noting where your view differs from or expands on the contents.\n",
      "            Rules:\n",
      "                - Consolidate the materials provided by the user and then organise them point by point.\n",
      "                - Don't just answer the question, be as informative as you can. For example, provide and proofread some background information or fun-fact to support your answer and make it interesting.\n",
      "                - Begin your report by saying `According to my online research,...`\n",
      "                - Always provide your answers in point form.\n",
      "\n",
      "\n",
      "\n"
     ]
    },
    {
     "data": {
      "text/html": [
       "<font color=\"yellow\">User:\n",
       "\n",
       "</font>"
      ],
      "text/plain": [
       "<IPython.core.display.HTML object>"
      ]
     },
     "metadata": {},
     "output_type": "display_data"
    },
    {
     "name": "stdout",
     "output_type": "stream",
     "text": [
      "\n",
      "            Refer to the following context: `[{'subject': 'current time Singapore', 'topic': \"Sun & Moon Sun & Moon Today Sunrise & Sunset Moonrise & Moonset Moon Phases Eclipses Night Sky 15:10:33 SGT Monday, 21 October 2024 Fullscreen Country: Singapore Lat/Long: 1°17'N / 103°51'E Elevation: 93 m Currency: Singapore Dollar (SGD) Languages: English, Malay, Tamil, … Country Code: +65 °C Weather 32 °C Partly sunny. 33 / 25 °C Tue 22. 33 / 25 °C Wed 23. 32 / 24 °C Weather by CustomWeather, © 2024 More weather details Time Zone SGT (Singapore Time) UTC/GMT +8 hours No DST No Daylight Saving Time in 2024 Difference Same time as Singapore About SGT — Singapore Time Set your location Sunrise 06:46 ↑ 101° East Sunset 18:51 ↑ 259° West Day length 12 hours, 5 minutes -3s shorter Moon 80.3% Set – 10:12 Rise – 22:39 High Tide High – 01:47 High – 12:48 Low Tide Low – 07:14 Low – 19:40 More Sun & Moon in Singapore + Show More Twilight and Moon Phase Information Solar Noon Sun in South: 12:49 Altitude: 77.9° Astronomical Twilight 05:36 – 06:01 19:37 – 20:01 Nautical Twilight 06:01 – 06:25\", 'relevance': 'high'}, {'subject': 'current time Singapore', 'topic': 'Current Local Time in Singapore, Singapore Sign in News News Home Astronomy News Time Zone News Calendar & Holiday News Newsletter Live events World Clock Main World Clock Extended World Clock Personal World Clock Clock for Your Site UTC Time Time Zones Time Zones Home Time Zone Converter Meeting Planner Event Time Announcer Time Zone Map Time Zone Abbreviations Daylight Saving Time Time Changes Worldwide Time Difference Time Zone News Calendar Calendars Home Calendar 2024 Calendar 2025 Monthly Calendar Printable Calendar (PDF) Add Your Own Calendar Events Calendar Creator Holidays Worldwide On This Day in History Fun Holidays Months of the Year Days of the Week About Leap Years Calendar & Holiday News Weather Worldwide Local Weather Hour-by-Hour 2-Week Forecast Past Week Climate Sun, Moon & Space Sun & Moon Home Sun Calculator Moon Calculator Moon Phases Night Sky Meteor Showers Day and Night Map Moon Light World Map Eclipses Live Streams Seasons Astronomy News Timers Timers Home', 'relevance': 'high'}, {'subject': 'current time Singapore', 'topic': 'Time Zones: 1 Dial Code: +65 Time Zone in Singapore 15:10 Singapore SGT UTC +8 See all Time Zones in Singapore See Holidays in Singapore Create a Calendar for Singapore Current Local Time in Locations in Singapore with Links for More Information (1 Location) Singapore Mon 15:10 Popup Window Fullscreen Exit Singapore 15:10 46 Monday, 21 October 2024 Need some help? Tools & Converters Meeting Planner for Singapore Time Zone Converter for Singapore Event Time Announcer for Singapore Time difference between Singapore and other locations Distance calculator to/from Singapore Display a free clock for Singapore on your website or blog Calendar & Holidays Create Singapore calendar Upcoming Holidays 31 Oct - Diwali/Deepavali 21 Dec - December Solstice 24 Dec - Christmas Eve More Holidays in Singapore Airports Singapore Changi Airport, SIN Seletar Airport, XSP Sembawang Air Base Paya Lebar Air Base, QPG Tengah Air Base, TGA CHANGI (RSAF) Advertising How was your experience? Thank you for your', 'relevance': 'high'}]`. \n",
      "            Based on the earlier context, answer the question What is the current time in Singapore?.\"\n",
      "            \n",
      "\n",
      "\n",
      "\n"
     ]
    },
    {
     "data": {
      "text/html": [
       "<font color=\"yellow\">Alfred:\n",
       "\n",
       "</font>"
      ],
      "text/plain": [
       "<IPython.core.display.HTML object>"
      ]
     },
     "metadata": {},
     "output_type": "display_data"
    },
    {
     "name": "stdout",
     "output_type": "stream",
     "text": [
      " According to my online research, the current time in Singapore is 15:10. This information can be found in the context provided, which includes the local time in Singapore. The timezone in Singapore is UTC +8, which is also mentioned in the context. Additionally, the context provides a list of holidays in Singapore, as well as information about airports in Singapore\n",
      "\n",
      "\n",
      "\n"
     ]
    }
   ],
   "source": [
    "# ACT\n",
    "agent.next()\n",
    "\n",
    "# ASSERT\n",
    "TestAgentHelper.ShowAgent(agent)\n"
   ]
  }
 ],
 "metadata": {
  "kernelspec": {
   "display_name": ".venv",
   "language": "python",
   "name": "python3"
  },
  "language_info": {
   "codemirror_mode": {
    "name": "ipython",
    "version": 3
   },
   "file_extension": ".py",
   "mimetype": "text/x-python",
   "name": "python",
   "nbconvert_exporter": "python",
   "pygments_lexer": "ipython3",
   "version": "3.10.12"
  }
 },
 "nbformat": 4,
 "nbformat_minor": 2
}
