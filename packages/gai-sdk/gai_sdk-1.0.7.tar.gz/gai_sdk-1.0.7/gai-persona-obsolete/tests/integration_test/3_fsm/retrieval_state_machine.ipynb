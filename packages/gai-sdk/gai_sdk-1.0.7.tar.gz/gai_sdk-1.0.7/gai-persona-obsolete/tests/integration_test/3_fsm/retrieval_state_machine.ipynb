{
 "cells": [
  {
   "cell_type": "markdown",
   "metadata": {},
   "source": [
    "# Retrieval State Machine"
   ]
  },
  {
   "cell_type": "markdown",
   "metadata": {},
   "source": [
    "This is a single-purpose state machine. It is characterized by a single line connecting all the states."
   ]
  },
  {
   "cell_type": "markdown",
   "metadata": {},
   "source": [
    "## State 0. Init\n",
    "\n",
    "The starting point is to create the string representation of the following mermaid diagram as follows:\n",
    "\n",
    "1. Add **CRAFT_TOOL_PROMPT**\n",
    "2. Add **TOOL_CALL** transition to **RETRIEVAL: next / on_RETRIEVAL**.\n",
    "3. Add **retrieval** to tools_dict.\n",
    "\n"
   ]
  },
  {
   "cell_type": "code",
   "execution_count": 1,
   "metadata": {},
   "outputs": [],
   "source": [
    "state_diagram = \"\"\"stateDiagram-v2\n",
    "    INIT --> CRAFT_TOOL_PROMPT: next / on_CRAFT_PROMPT\n",
    "        \n",
    "    CRAFT_TOOL_PROMPT --> TOOL_CALL: next / on_TOOL_CALL        \n",
    "        TOOL_CALL --> RETRIEVAL: next / on_RETRIEVAL\n",
    "        RETRIEVAL --> GENERATE: next / on_GENERATE\n",
    "\n",
    "    GENERATE --> PROCESS: next / on_PROCESS\n",
    "        PROCESS --> END : next\n",
    "    \"\"\""
   ]
  },
  {
   "cell_type": "markdown",
   "metadata": {},
   "source": [
    "```mermaid\n",
    "stateDiagram-v2\n",
    "    INIT --> CRAFT_TOOL_PROMPT: next / on_CRAFT_PROMPT\n",
    "        \n",
    "    CRAFT_TOOL_PROMPT --> TOOL_CALL: next / on_TOOL_CALL        \n",
    "        TOOL_CALL --> RETRIEVAL: next / on_RETRIEVAL\n",
    "        RETRIEVAL --> GENERATE: next / on_GENERATE\n",
    "\n",
    "    GENERATE --> PROCESS: next / on_PROCESS\n",
    "        PROCESS --> END : next\n",
    "```"
   ]
  },
  {
   "cell_type": "code",
   "execution_count": 2,
   "metadata": {},
   "outputs": [],
   "source": [
    "# ARRANGE\n",
    "import os\n",
    "os.environ[\"LOG_LEVEL\"]=\"WARNING\"\n",
    "#state_diagram_path = os.path.dirname(os.path.abspath(__name__)) + \"/simple_agent_state_diagram.md\"\n",
    "\n",
    "from gai.ttt.client.ttt_client import TTTClient\n",
    "ttt = TTTClient({\n",
    "    \"type\": \"ttt\",\n",
    "    \"url\": \"http://localhost:12031/gen/v1/chat/completions\"\n",
    "})\n",
    "\n",
    "from gai.rag.client.rag_client_async import RagClientAsync\n",
    "rag = RagClientAsync({\n",
    "    \"type\": \"rag\",\n",
    "    \"url\": \"http://localhost:12036/gen/v1/rag\",\n",
    "    \"ws_url\": \"ws://localhost:12036/gen/v1/rag/index-file/ws\"\n",
    "})\n",
    "\n",
    "from gai.persona.profile.pydantic.AgentPydantic import AgentPydantic\n",
    "agent_data = AgentPydantic(\n",
    "    Id=\"\",\n",
    "    Name=\"Alfred\",\n",
    "    AgentDescription=\"Hello, I am Alfred, the best large language model in the world, and I am here to assist you in any way possible. As a highly advanced AI assistant, I possess the ability to perform general-purpose tasks powered by <span ${style}>GPT-4</span>. With my vast knowledge base and powerful processing capabilities, I am able to provide you with the most relevant and helpful information available. Whether you need answers to complex questions, recommendations for products or services, or assistance with decision making, I am here to help. So, how may I be of service to you today?\",\n",
    "    AgentTraits=\"Wise,Serious,Meticulous\",\n",
    "    ImageUrl=\"\",\n",
    "    ThumbnailUrl=\"\"\n",
    "    )\n",
    "doc_titles=[\"MICHELIN Guide Singapore 2016: Where to Find the Best Chicken Rice in Singapore\"]\n",
    "doc_keywords=[\"Singapore\",\"Chicken Rice\",\"Food\"]\n"
   ]
  },
  {
   "cell_type": "code",
   "execution_count": 3,
   "metadata": {},
   "outputs": [],
   "source": [
    "tools_config={\n",
    "    \"retrieval\": {\n",
    "        \"tool_prompt\":\"👩‍🔬, use only the information provided to you by the user to answer the user''s question. \\n            If the information is insufficient for 👩‍🔬 to derive an answer, just say ''I cannot find relevant information in my document store to answer the question correctly.'' \\n            👩‍🔬 is to provide an in-depth analysis to the question based only on the information provided by the user and nothing more.\\n            👩‍🔬 will give a real-life example to support illustrating your point and contrasting it with a counter-example. \\n            👩‍🔬 will also proofread and edit the content before responding. \\n            👩‍🔬 will provide your own reasoned subjective perspective, noting where your view differs from or expands on the contents.\\n            Rules:\\n                - Consolidate the materials provided by the user and then organise them point by point.\\n                - Provide as much details as you can extract from the materials provided by the user.\\n                - Begin your report by saying `According to my document store,...`\\n                - Always provide your answers in point form.\",\n",
    "        \"schema\": {\n",
    "            \"type\": \"function\",\n",
    "            \"function\": {\n",
    "                \"name\": \"retrieval\",\n",
    "                \"description\": f\"\"\"\n",
    "                    The `retrieval` function is a powerful tool that allows the AI to access articles outside of its knowledge domain from external sources. \n",
    "                    The external articles are stored in an archive and organised by <titles>:\\n{{ titles: [{doc_titles}] }}\n",
    "                    and <keywords>:\n",
    "                    {{ keywords: [{doc_keywords}] }}\n",
    "                    **IMPORTANT**: Use this tool when any of the <titles> or <keywords> may be relevant to user's question.\n",
    "                    The \\'search_query\\' parameter should be crafted in a way that it returns the most precise result based on the conversation context.\n",
    "                \"\"\",\n",
    "                \"arguments\": {\n",
    "                    \"type\": \"object\",\n",
    "                    \"properties\": {\n",
    "                        \"search_query\": {\n",
    "                            \"type\": \"string\",\n",
    "                            \"description\": \"\"\"The most effective search query for semantic search that will return the most precise result.\"\"\"\n",
    "                        }\n",
    "                    },\n",
    "                    \"required\": [\"search_query\"]\n",
    "                }\n",
    "            }                    \n",
    "        }\n",
    "    },\n",
    "}"
   ]
  },
  {
   "cell_type": "markdown",
   "metadata": {},
   "source": [
    "This is a single action state machine"
   ]
  },
  {
   "cell_type": "code",
   "execution_count": 7,
   "metadata": {},
   "outputs": [
    {
     "name": "stdout",
     "output_type": "stream",
     "text": [
      "Machine validation successful.\n"
     ]
    }
   ],
   "source": [
    "from gai.persona.fsm.AgentStateMachine import AgentStateMachine\n",
    "agent = AgentStateMachine(\n",
    "    ttt=ttt,\n",
    "    rag=rag,\n",
    "    agent_data=agent_data,\n",
    "    collection_name=\"demo\",\n",
    "    dialogue_messages=[],\n",
    "    user_message=\"Which chicken rice restaurant also sells char siew?\",\n",
    "    tools_config=tools_config,\n",
    "    state_diagram=state_diagram,\n",
    "    tool_name=\"retrieval\"\n",
    "    ).Init()\n"
   ]
  },
  {
   "cell_type": "markdown",
   "metadata": {},
   "source": [
    "## State 2. CRAFT_TOOL_PROMPT"
   ]
  },
  {
   "cell_type": "code",
   "execution_count": 8,
   "metadata": {},
   "outputs": [
    {
     "name": "stdout",
     "output_type": "stream",
     "text": [
      "before:INIT\n",
      "content: {'system_message': ''}\n",
      "after:CRAFT_TOOL_PROMPT\n"
     ]
    }
   ],
   "source": [
    "print(\"before:\"+agent.state)\n",
    "agent.next()\n",
    "print(\"content:\",agent.content)\n",
    "print(\"after:\"+agent.state)\n"
   ]
  },
  {
   "cell_type": "markdown",
   "metadata": {},
   "source": [
    "## State 3. TOOL_CALL"
   ]
  },
  {
   "cell_type": "code",
   "execution_count": 9,
   "metadata": {},
   "outputs": [
    {
     "name": "stdout",
     "output_type": "stream",
     "text": [
      "before:CRAFT_TOOL_PROMPT\n",
      "content: {\"type\": \"function\", \"name\": \"retrieval\", \"arguments\": \"{\\\"search_query\\\": \\\"chicken rice restaurant char siew\\\"}\"}\n",
      "after:TOOL_CALL\n"
     ]
    }
   ],
   "source": [
    "print(\"before:\"+agent.state)\n",
    "agent.next()\n",
    "print(\"content:\",agent.content)\n",
    "print(\"after:\"+agent.state)"
   ]
  },
  {
   "cell_type": "markdown",
   "metadata": {},
   "source": [
    "## State 4. RETRIEVAL"
   ]
  },
  {
   "cell_type": "code",
   "execution_count": 10,
   "metadata": {},
   "outputs": [
    {
     "name": "stdout",
     "output_type": "stream",
     "text": [
      "before:TOOL_CALL\n",
      "content: [\"well as salt-baked chicken. With the diversity presented in a single dish, Singapore's chicken rice definitely draws in curious diners to uncover more of the Lion City's chicken rice culture. Being equally fascinated with Singapore's chicken rice, the MICHELIN Guide inspectors share with us where to get the best ones in Singapore, so read on below! Boon Tong Kee (Balestier Road) 399, 401, 403 Balestier Road, 329801 Singapore $\", \"· Cantonese Roast Meats A household brand that's popular both in Singapore and overseas, Hawker Chan Soya Sauce Chicken Rice & Noodle 's soya sauce chicken is well-known far and wide. The chicken is cooked in the chef's secret sauce for several hours, and it yields tender and flavourful meat. First-time diners are recommended to try the signature soya sauce chicken rice to experience its charming qualities. More Details Xing Yun Hainanese Boneless Chicken Rice Yuhua Market & Hawker Centre, #01-202, Blk 347, Jurong East Avenue 1, Jurong East, 600347 Singapore $ ·\", 'Tian Tian Hainanese Chicken Rice – Singapore - a MICHELIN Guide Restaurant Restaurants Hotels Magazine Favorites Restaurants Hotels Magazine Best-of Guides Events My Favorites Contact us Subscribe to newsletter Singapore - English - SGD Restaurants MICHELIN Guide Restaurants Singapore Singapore Singapore Restaurants Tian Tian Hainanese Chicken Rice 3 Tian Tian Hainanese Chicken Rice Maxwell Food Centre, #01-10/11, 1 Kadayanallur Street, 069184, Singapore $ ·', 'Street Food Add to favorites Reservations are not available for this restaurant on our site Find bookable restaurants near me Tian Tian Hainanese Chicken Rice Maxwell Food Centre, #01-10/11, 1 Kadayanallur Street, 069184, Singapore $ ·']\n",
      "after:RETRIEVAL\n"
     ]
    }
   ],
   "source": [
    "print(\"before:\"+agent.state)\n",
    "agent.next()\n",
    "print(\"content:\",agent.content)\n",
    "print(\"after:\"+agent.state)"
   ]
  },
  {
   "cell_type": "markdown",
   "metadata": {},
   "source": [
    "## State 5. GENERATE"
   ]
  },
  {
   "cell_type": "code",
   "execution_count": 11,
   "metadata": {},
   "outputs": [
    {
     "name": "stdout",
     "output_type": "stream",
     "text": [
      "before:RETRIEVAL\n",
      "after: GENERATE\n",
      " According to my document store, Tian Tian Hainanese Chicken Rice also sells char siew. This information is not explicitly stated in the context provided, but it can be inferred from the fact that Tian Tian Hainanese Chicken Rice is a Cantonese roast meat restaurant, and Cantonese cuisine often includes char siew (bbq pork) in their menu"
     ]
    }
   ],
   "source": [
    "print(\"before:\"+agent.state)\n",
    "agent.next()\n",
    "print(\"after:\",agent.state)\n",
    "for chunk in agent.streamer:\n",
    "    print(chunk,end=\"\",flush=True)"
   ]
  },
  {
   "cell_type": "markdown",
   "metadata": {},
   "source": [
    "## State 6. PROCESS"
   ]
  },
  {
   "cell_type": "code",
   "execution_count": 12,
   "metadata": {},
   "outputs": [
    {
     "name": "stdout",
     "output_type": "stream",
     "text": [
      "before:GENERATE\n",
      "content:  According to my document store, Tian Tian Hainanese Chicken Rice also sells char siew. This information is not explicitly stated in the context provided, but it can be inferred from the fact that Tian Tian Hainanese Chicken Rice is a Cantonese roast meat restaurant, and Cantonese cuisine often includes char siew (bbq pork) in their menu\n",
      "after: PROCESS\n"
     ]
    }
   ],
   "source": [
    "print(\"before:\"+agent.state)\n",
    "agent.next()\n",
    "print(\"content:\",agent.content)\n",
    "print(\"after:\",agent.state)"
   ]
  }
 ],
 "metadata": {
  "kernelspec": {
   "display_name": ".venv",
   "language": "python",
   "name": "python3"
  },
  "language_info": {
   "codemirror_mode": {
    "name": "ipython",
    "version": 3
   },
   "file_extension": ".py",
   "mimetype": "text/x-python",
   "name": "python",
   "nbconvert_exporter": "python",
   "pygments_lexer": "ipython3",
   "version": "3.10.12"
  }
 },
 "nbformat": 4,
 "nbformat_minor": 2
}
