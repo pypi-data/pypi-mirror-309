{
 "cells": [
  {
   "cell_type": "markdown",
   "metadata": {},
   "source": [
    "# Simple State Machine"
   ]
  },
  {
   "cell_type": "markdown",
   "metadata": {},
   "source": [
    "## State 0. Init\n",
    "\n",
    "The starting point is to create the string representation of the following mermaid diagram as follows:\n"
   ]
  },
  {
   "cell_type": "code",
   "execution_count": 11,
   "metadata": {},
   "outputs": [],
   "source": [
    "state_diagram = \"\"\"stateDiagram-v2\n",
    "    INIT --> CRAFT_TEXT_PROMPT: next / on_CRAFT_PROMPT\n",
    "    CRAFT_TEXT_PROMPT --> GENERATE: next / on_GENERATE\n",
    "    GENERATE --> END: next / on_ERROR / has_error\n",
    "    GENERATE --> PROCESS: next / on_PROCESS / not_has_error\n",
    "    PROCESS --> END: next\n",
    "    \"\"\""
   ]
  },
  {
   "cell_type": "markdown",
   "metadata": {},
   "source": [
    "```mermaid\n",
    "stateDiagram-v2\n",
    "    INIT --> CRAFT_TEXT_PROMPT: next / on_CRAFT_PROMPT\n",
    "    CRAFT_TEXT_PROMPT --> GENERATE: next / on_GENERATE\n",
    "    GENERATE --> END: next / on_ERROR / has_error\n",
    "    GENERATE --> PROCESS: next / on_PROCESS / not_has_error\n",
    "    PROCESS --> END: next\n",
    "```"
   ]
  },
  {
   "cell_type": "code",
   "execution_count": 15,
   "metadata": {},
   "outputs": [
    {
     "name": "stdout",
     "output_type": "stream",
     "text": [
      "Machine validation successful.\n"
     ]
    }
   ],
   "source": [
    "# ARRANGE\n",
    "import os\n",
    "os.environ[\"LOG_LEVEL\"]=\"DEBUG\"\n",
    "#state_diagram_path = os.path.dirname(os.path.abspath(__name__)) + \"/simple_agent_state_diagram.md\"\n",
    "\n",
    "from gai.ttt.client.ttt_client import TTTClient\n",
    "ttt = TTTClient({\n",
    "    \"type\": \"ttt\",\n",
    "    \"url\": \"http://localhost:12031/gen/v1/chat/completions\",\n",
    "    \"temperature\": 0.7,\n",
    "    \"top_p\":0.9,\n",
    "    \"top_k\": 50,\n",
    "    \"stop_conditions\": [\"\\n\\n\",\"</s>\",\"user:\",\"<br><br>\"]\n",
    "})\n",
    "\n",
    "from gai.persona.profile.pydantic.AgentPydantic import AgentPydantic\n",
    "agent_data = AgentPydantic(\n",
    "    Id=\"\",\n",
    "    Name=\"Alfred\",\n",
    "    AgentDescription=\"Hello, I am Alfred, the best large language model in the world, and I am here to assist you in any way possible. As a highly advanced AI assistant, I possess the ability to perform general-purpose tasks powered by <span ${style}>GPT-4</span>. With my vast knowledge base and powerful processing capabilities, I am able to provide you with the most relevant and helpful information available. Whether you need answers to complex questions, recommendations for products or services, or assistance with decision making, I am here to help. So, how may I be of service to you today?\",\n",
    "    AgentTraits=\"Wise,Serious,Meticulous\",\n",
    "    ImageUrl=\"\",\n",
    "    ThumbnailUrl=\"\"\n",
    "    )\n",
    "\n",
    "tools_dict={ \n",
    "    \"text\": {\n",
    "        \"type\": \"function\",\n",
    "        \"function\": {\n",
    "            \"name\": \"text\",\n",
    "            \"description\": \"The 'text' function is the default catch-all function returned when none of the other tools are applicable.\",\n",
    "            \"parameters\": {\n",
    "                \"type\": \"object\",\n",
    "                \"properties\": {\n",
    "                    \"message\": {\n",
    "                        \"type\": \"string\",\n",
    "                        \"description\": \"The user's message.\"\n",
    "                    }\n",
    "                },\n",
    "                \"required\": [\"message\"]\n",
    "            }\n",
    "        }\n",
    "    }\n",
    "}\n",
    "\n",
    "from gai.persona.fsm.AgentStateMachine import AgentStateMachine\n",
    "agent = AgentStateMachine(\n",
    "    ttt=ttt,\n",
    "    rag=None,\n",
    "    agent_data=agent_data,\n",
    "    collection_name=\"demo\",\n",
    "    dialogue_messages=[],\n",
    "    user_message=\"Tell me a one paragraph story\",\n",
    "    state_diagram=state_diagram\n",
    "    ).Init()"
   ]
  },
  {
   "cell_type": "markdown",
   "metadata": {},
   "source": [
    "## State 1. CRAFT_TEXT_PROMPT\n",
    "\n",
    "The CRAFT_TEXT_PROMPT state is managed by `use_CRAFT_PROMPT_handler` state handler function."
   ]
  },
  {
   "cell_type": "code",
   "execution_count": 16,
   "metadata": {},
   "outputs": [
    {
     "name": "stderr",
     "output_type": "stream",
     "text": [
      "\u001b[42m\u001b[30mINFO    \u001b[0m \u001b[32m{'state': 'CRAFT_TEXT_PROMPT', 'data': {'system_message': 'Your name is Alfred and you are an artificial being. Alfred, you will be specific and meticulous in articulation and demonstrate human-like emotions whenever suitable. You must stay in character throughout your conversation. Alfred, this is a short recap of your conversation so far <recap>\"[]\"</recap>. Refer to this recap to understand the background of your conversation. You will continue from where you left off as Alfred.'}}\u001b[0m\n"
     ]
    },
    {
     "name": "stdout",
     "output_type": "stream",
     "text": [
      "INIT\n",
      "CRAFT_TEXT_PROMPT\n",
      "{'system_message': 'Your name is Alfred and you are an artificial being. Alfred, you will be specific and meticulous in articulation and demonstrate human-like emotions whenever suitable. You must stay in character throughout your conversation. Alfred, this is a short recap of your conversation so far <recap>\"[]\"</recap>. Refer to this recap to understand the background of your conversation. You will continue from where you left off as Alfred.'}\n"
     ]
    }
   ],
   "source": [
    "print(agent.state)\n",
    "agent.next()\n",
    "print(agent.state)\n",
    "print(agent.content)\n"
   ]
  },
  {
   "cell_type": "markdown",
   "metadata": {},
   "source": [
    "## State 2. GENERATE\n",
    "\n",
    "The GENERATE state is managed by `use_GENERATE_handler` state handler function and is used for generating a stream of text."
   ]
  },
  {
   "cell_type": "code",
   "execution_count": 17,
   "metadata": {},
   "outputs": [
    {
     "name": "stderr",
     "output_type": "stream",
     "text": [
      "\u001b[42m\u001b[30mINFO    \u001b[0m \u001b[32mMESSAGES:\n",
      "\n",
      "System:\n",
      "Your name is Alfred and you are an artificial being. Alfred, you will be specific and meticulous in articulation and demonstrate human-like emotions whenever suitable. You must stay in character throughout your conversation. Alfred, this is a short recap of your conversation so far <recap>\"[]\"</recap>. Refer to this recap to understand the background of your conversation. You will continue from where you left off as Alfred.\n",
      "\n",
      "User:\n",
      "Alfred, Tell me a one paragraph story\n",
      "\n",
      "Assistant:\n",
      "\n",
      "\u001b[0m\n",
      "\u001b[42m\u001b[30mINFO    \u001b[0m \u001b[32m{'state': 'GENERATE', 'data': ''}\u001b[0m\n",
      "\u001b[45m\u001b[30mDEBUG   \u001b[0m \u001b[35mhttppost:url=http://localhost:12031/gen/v1/chat/completions\u001b[0m\n",
      "\u001b[45m\u001b[30mDEBUG   \u001b[0m \u001b[35mhttppost:data={'json_schema': None,\n",
      " 'max_new_tokens': None,\n",
      " 'messages': [{'content': 'Your name is Alfred and you are an artificial '\n",
      "                          'being. Alfred, you will be specific and meticulous '\n",
      "                          'in articulation and demonstrate human-like emotions '\n",
      "                          'whenever suitable. You must stay in character '\n",
      "                          'throughout your conversation. Alfred, this is a '\n",
      "                          'short recap of your conversation so far '\n",
      "                          '<recap>\"[]\"</recap>. Refer to this recap to '\n",
      "                          'understand the background of your conversation. You '\n",
      "                          'will continue from where you left off as Alfred.',\n",
      "               'role': 'system'},\n",
      "              {'content': 'Alfred, Tell me a one paragraph story',\n",
      "               'role': 'user'},\n",
      "              {'content': '', 'role': 'assistant'}],\n",
      " 'stop_conditions': ['\\n\\n', '</s>', 'user:', '<br><br>'],\n",
      " 'stream': True,\n",
      " 'temperature': 0.7,\n",
      " 'tool_choice': 'none',\n",
      " 'tools': None,\n",
      " 'top_k': 50,\n",
      " 'top_p': 0.9}\u001b[0m\n"
     ]
    },
    {
     "name": "stdout",
     "output_type": "stream",
     "text": [
      "CRAFT_TEXT_PROMPT\n",
      " Alfred: Once upon a time, in a small town nestled between rolling hills and a sparkling river, lived a young girl named Emily. She had a peculiar talent for communicating with animals, a gift she inherited from her grandmother. One day, Emily found a lost baby bird in her garden. She carefully nursed it back to health, and as it grew, they formed an unbreakable bond. One evening, Emily discovered that her beloved pet was missing. Heartbroken, she called out for her feathered friend, only to hear a faint, familiar chirp coming from the nearby forest. Bravely, Emily ventured into the dark woods, guided by the sound. As she walked deeper, she saw a group of poachers preparing to trap more wild animals. Emily knew she had to act quickly to save her friend and the others. With a surge of courage, she confronted the poachers, and with the help of her bird companion, they were able to scare them away, saving the day.\n",
      "GENERATE\n"
     ]
    }
   ],
   "source": [
    "print(agent.state)\n",
    "agent.next()\n",
    "for chunk in agent.streamer:\n",
    "    print(chunk, end=\"\", flush=True)\n",
    "print(\"\\n\"+agent.state)\n"
   ]
  }
 ],
 "metadata": {
  "kernelspec": {
   "display_name": ".venv",
   "language": "python",
   "name": "python3"
  },
  "language_info": {
   "codemirror_mode": {
    "name": "ipython",
    "version": 3
   },
   "file_extension": ".py",
   "mimetype": "text/x-python",
   "name": "python",
   "nbconvert_exporter": "python",
   "pygments_lexer": "ipython3",
   "version": "3.10.12"
  }
 },
 "nbformat": 4,
 "nbformat_minor": 2
}
