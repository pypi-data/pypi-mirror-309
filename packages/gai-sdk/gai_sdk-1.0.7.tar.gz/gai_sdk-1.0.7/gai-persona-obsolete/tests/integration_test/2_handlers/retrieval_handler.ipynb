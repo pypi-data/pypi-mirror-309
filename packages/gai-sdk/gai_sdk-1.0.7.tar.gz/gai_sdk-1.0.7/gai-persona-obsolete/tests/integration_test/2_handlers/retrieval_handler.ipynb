{
 "cells": [
  {
   "cell_type": "markdown",
   "metadata": {},
   "source": [
    "### on_RETRIEVAL_Handler"
   ]
  },
  {
   "cell_type": "markdown",
   "metadata": {},
   "source": [
    "a) For text file"
   ]
  },
  {
   "cell_type": "markdown",
   "metadata": {},
   "source": [
    "**ARRANGE:** index the document"
   ]
  },
  {
   "cell_type": "code",
   "execution_count": 1,
   "metadata": {},
   "outputs": [
    {
     "name": "stderr",
     "output_type": "stream",
     "text": [
      "\u001b[45m\u001b[30mDEBUG   \u001b[0m \u001b[35mhttppost:url=http://localhost:12036/gen/v1/rag/index-file\u001b[0m\n",
      "\u001b[45m\u001b[30mDEBUG   \u001b[0m \u001b[35mhttppost:data=None\u001b[0m\n",
      "\u001b[45m\u001b[30mDEBUG   \u001b[0m \u001b[35mhttppost:files={'file': ('where_to_find_the_best_chicken_rice_in_singapore.txt',\n",
      "          <_io.BufferedReader name='/home/kakkoii1337/github/kakkoii1337/gai-core/gai-sdk/gai-persona/tests/integration_test/2_handlers/where_to_find_the_best_chicken_rice_in_singapore.txt'>,\n",
      "          'application/pdf'),\n",
      " 'req': (None,\n",
      "         '{\"Id\":null,\"CollectionName\":\"demo\",\"FilePath\":\"/home/kakkoii1337/github/kakkoii1337/gai-core/gai-sdk/gai-persona/tests/integration_test/2_handlers/where_to_find_the_best_chicken_rice_in_singapore.txt\",\"FileType\":\"\",\"Source\":\"\",\"ByteSize\":null,\"Title\":\"\",\"Abstract\":null,\"Authors\":\"\",\"Publisher\":\"\",\"PublishedDate\":\"\",\"Comments\":\"\",\"Keywords\":\"\",\"ChunkGroupId\":null,\"ChunkSize\":null,\"ChunkOverlap\":null,\"ChunkCount\":null}',\n",
      "         'application/json')}\u001b[0m\n"
     ]
    },
    {
     "data": {
      "text/plain": [
       "IndexedDocChunkIdsPydantic(DocumentId='PPa4WO6HZIWHS4cFAWTeiAtpyA1QYHRLTNtLQyzCBHA', ChunkgroupId='7c128d24-e6de-4c50-8498-789145416a89', ChunkIds=['3106ed38-b569-4ece-bbb5-9d8a6743bce9', 'ff5f2907-8fb6-47db-b4e3-dccf9c7a7138', '57e00076-8032-46ac-9b1c-585a28ad790e', 'b7d6c414-89ec-4f34-bea8-13af8240b7be', 'a0e5fd66-9610-438e-a662-15fc7e1b0a03', '30523fa1-28ec-4d6e-ac2c-aee58c88c145', 'd3077146-eec2-4a7b-8e46-8698ca7b2055', '15820bea-3621-492d-96a4-e9c53c424b98', '0488dfa8-9407-4325-9ba8-89fa0b3c9665', 'a13b70c9-eb86-4993-89f8-5e69105a288c', 'e5cdadb0-c6c7-422f-9ee4-6fae71e66d24', 'e429ba9f-0183-4f41-9198-da9350e52e45', '6116212e-7e50-4878-9e5d-ba96a8575f35', 'c75888c6-6d87-41d1-b95f-d14bec4d1dd6', '2c5f8a26-2e67-4f3e-9799-6166fad91ce6', 'e593fe23-d89f-436c-b35a-26e3578940a8', '351511fb-d89a-4d81-9265-f0b5fb03245e', '10b91d2f-18f2-4622-82c3-be36ab81d2e1', '28e9a326-eddf-41cd-bb24-f77b67f56181', '6b084c80-e331-4684-82a3-b48e90031385', '43e9a7f9-4248-4a23-9d11-0fdf43095310', '666761d2-4cb6-4d40-bfdc-af941ba1ad54', '6f21cde3-d1e8-4d10-a8f8-a3153bae5a18'])"
      ]
     },
     "execution_count": 1,
     "metadata": {},
     "output_type": "execute_result"
    }
   ],
   "source": [
    "# Index test doc\n",
    "import os\n",
    "os.environ[\"LOG_LEVEL\"]=\"DEBUG\"\n",
    "\n",
    "from gai.rag.client.rag_client_async import RagClientAsync\n",
    "rag = RagClientAsync({\n",
    "    \"type\": \"rag\",\n",
    "    \"url\": \"http://localhost:12036/gen/v1/rag\",\n",
    "    \"ws_url\": \"ws://localhost:12036/gen/v1/rag/index-file/ws\"\n",
    "})\n",
    "cwd = os.getcwd()\n",
    "\n",
    "await rag.index_document_async(collection_name=\"demo\", file_path=f\"{cwd}/where_to_find_the_best_chicken_rice_in_singapore.txt\")"
   ]
  },
  {
   "cell_type": "markdown",
   "metadata": {},
   "source": [
    "**ACT:** Perform retrieval on the document"
   ]
  },
  {
   "cell_type": "code",
   "execution_count": 2,
   "metadata": {},
   "outputs": [
    {
     "name": "stderr",
     "output_type": "stream",
     "text": [
      "\u001b[45m\u001b[30mDEBUG   \u001b[0m \u001b[35mhttppost:url=http://localhost:12036/gen/v1/rag/retrieve\u001b[0m\n",
      "\u001b[45m\u001b[30mDEBUG   \u001b[0m \u001b[35mhttppost:data={'collection_name': 'demo',\n",
      " 'n_results': 4,\n",
      " 'query_texts': 'Which of the stall sells char siew?'}\u001b[0m\n",
      "\u001b[45m\u001b[30mDEBUG   \u001b[0m \u001b[35mhttppost:files=None\u001b[0m\n"
     ]
    },
    {
     "name": "stdout",
     "output_type": "stream",
     "text": [
      "RAG 1\n"
     ]
    },
    {
     "data": {
      "text/html": [
       "<font color=\"yellow\">Street Food Reserve a table Tambi Singapore $$ ·</font>"
      ],
      "text/plain": [
       "<IPython.core.display.HTML object>"
      ]
     },
     "metadata": {},
     "output_type": "display_data"
    },
    {
     "name": "stdout",
     "output_type": "stream",
     "text": [
      "RAG 2\n"
     ]
    },
    {
     "data": {
      "text/html": [
       "<font color=\"yellow\">· Street Food Located at Yishun's Chong Pang Market and Food Centre, Ji De Lai Hainanese Chicken Rice' s fare comes in various portions. Set meals are also available and add-ons such as vegetables cooked in oyster sauce, egg, chicken innards, and bean sprouts. More Details Hoe Kee Kitchen Jurong West 505 Market & Food Centre, #01-39, Blk 505, Jurong West Street 52, 640505 Singapore $ ·</font>"
      ],
      "text/plain": [
       "<IPython.core.display.HTML object>"
      ]
     },
     "metadata": {},
     "output_type": "display_data"
    }
   ],
   "source": [
    "from gai.persona.fsm.handlers.use_RETRIEVAL_handler import use_RETRIEVAL_handler\n",
    "from gai.rag.client.rag_client_async import RagClientAsync\n",
    "rag=RagClientAsync({\n",
    "    \"type\": \"ttt\",\n",
    "    \"url\": \"http://localhost:12036/gen/v1/rag\",\n",
    "})\n",
    "import nest_asyncio\n",
    "nest_asyncio.apply()\n",
    "handler = use_RETRIEVAL_handler()\n",
    "handler.rag=rag\n",
    "handler.collection_name=\"demo\"\n",
    "handler.user_message=\"Which of the stall sells char siew?\"\n",
    "# handler.tool_prompt = \"\"\"👩‍🔬, use only the information provided to you by the user to answer the user''s question. \n",
    "#             If the information is insufficient for 👩‍🔬 to derive an answer, just say ''I cannot find relevant information in my document store to answer the question correctly.'' \n",
    "#             👩‍🔬 is to provide an in-depth analysis to the question based only on the information provided by the user and nothing more.\n",
    "#             👩‍🔬 will give a real-life example to support illustrating your point and contrasting it with a counter-example. \n",
    "#             👩‍🔬 will also proofread and edit the content before responding. \n",
    "#             👩‍🔬 will provide your own reasoned subjective perspective, noting where your view differs from or expands on the contents.\n",
    "#             Rules:\n",
    "#                 - Consolidate the materials provided by the user and then organise them point by point.\n",
    "#                 - Provide as much details as you can extract from the materials provided by the user.\n",
    "#                 - Begin your report by saying `According to my document store,...`\n",
    "#                 - Always provide your answers in point form.\n",
    "#             \"\"\"\n",
    "handler.tool_name=\"retrieval\"\n",
    "handler.tool_prompts ={ \"retrieval\": \"👩‍🔬, use only the information provided to you by the user to answer the user''s question. \\n            If the information is insufficient for 👩‍🔬 to derive an answer, just say ''I cannot find relevant information in my document store to answer the question correctly.'' \\n            👩‍🔬 is to provide an in-depth analysis to the question based only on the information provided by the user and nothing more.\\n            👩‍🔬 will give a real-life example to support illustrating your point and contrasting it with a counter-example. \\n            👩‍🔬 will also proofread and edit the content before responding. \\n            👩‍🔬 will provide your own reasoned subjective perspective, noting where your view differs from or expands on the contents.\\n            Rules:\\n                - Consolidate the materials provided by the user and then organise them point by point.\\n                - Provide as much details as you can extract from the materials provided by the user.\\n                - Begin your report by saying `According to my document store,...`\\n                - Always provide your answers in point form.\"}\n",
    "handler.n_rag=2\n",
    "handler.on_RETRIEVAL()\n",
    "\n",
    "from gai.lib.common.notebook import highlight\n",
    "for i in range(handler.n_rag):\n",
    "    print(f\"RAG {i+1}\")\n",
    "    highlight(handler.content[i])\n",
    "\n"
   ]
  },
  {
   "cell_type": "markdown",
   "metadata": {},
   "source": [
    "b) for pdf file"
   ]
  },
  {
   "cell_type": "code",
   "execution_count": 3,
   "metadata": {},
   "outputs": [
    {
     "name": "stderr",
     "output_type": "stream",
     "text": [
      "\u001b[45m\u001b[30mDEBUG   \u001b[0m \u001b[35mhttppost:url=http://localhost:12036/gen/v1/rag/index-file\u001b[0m\n",
      "\u001b[45m\u001b[30mDEBUG   \u001b[0m \u001b[35mhttppost:data=None\u001b[0m\n",
      "\u001b[45m\u001b[30mDEBUG   \u001b[0m \u001b[35mhttppost:files={'file': ('ReAct-2210.03629.pdf',\n",
      "          <_io.BufferedReader name='/home/kakkoii1337/github/kakkoii1337/gai-core/gai-sdk/gai-persona/tests/integration_test/2_handlers/ReAct-2210.03629.pdf'>,\n",
      "          'application/pdf'),\n",
      " 'req': (None,\n",
      "         '{\"Id\":null,\"CollectionName\":\"demo\",\"FilePath\":\"/home/kakkoii1337/github/kakkoii1337/gai-core/gai-sdk/gai-persona/tests/integration_test/2_handlers/ReAct-2210.03629.pdf\",\"FileType\":\"\",\"Source\":\"\",\"ByteSize\":null,\"Title\":\"\",\"Abstract\":null,\"Authors\":\"\",\"Publisher\":\"\",\"PublishedDate\":\"\",\"Comments\":\"\",\"Keywords\":\"\",\"ChunkGroupId\":null,\"ChunkSize\":null,\"ChunkOverlap\":null,\"ChunkCount\":null}',\n",
      "         'application/json')}\u001b[0m\n"
     ]
    },
    {
     "data": {
      "text/plain": [
       "IndexedDocChunkIdsPydantic(DocumentId='Mm1GAmuGfs3VoA2sit0njabQGAZ75eyfszIkAxGY5e4', ChunkgroupId='b4180ce8-457e-4991-82c3-c33f3505ad47', ChunkIds=['1b385a56-df55-4c24-86c0-046c2b2751b2', '5d5190df-0cac-4007-953b-c3964bdea8a0', '6a9419ae-ee7a-4276-bde6-a48552c5fa40', '7f58f767-8c90-4455-811a-417d94249c32', '0b02b46d-801d-4609-bdd3-275d98b96517', '71320334-412a-4d7b-bbea-624bf11a1f3d', 'cd99348e-9b3a-43f8-b8d8-06852cfdbb82', '7432ff5f-dd21-4f34-a6c3-4982a9667fb2', '4dc622f2-d93d-4249-97ab-5210d956fcae', 'a32bfbf1-1689-431e-b14f-58cc215cecdd', '5a1f765a-287a-4ba3-94bf-2c5210aaf6b5', '9c1a62b7-4080-4c56-860a-4f22ff2b8063', '2cf20fa1-b349-46b2-93ed-7e9f27679929', '67bdcbf8-a054-4b72-92ca-c8dec67e5d36', 'c2b192a9-6ae2-4842-93b4-5a57ca3ef5ce', '87d1da90-4944-44cc-b8bc-218a7fbb6672', '0832b901-acad-44cb-884d-b0a86ca575e2', 'bc45e2a5-adb6-4b26-be2d-2a2688bc4b0e', '9f4aa68b-88a4-42a6-9bbb-0d31cea02d66', '52788e81-a4e8-491e-9668-f98427691a9b', '40593e76-86a2-46d2-a335-cba87e311c1f', 'aa8bd17e-176e-4275-9269-911abfa490c1', '23088abf-1c50-4394-90fb-a4e4f66936d3', '6e01f52d-cb25-495d-a14d-b889b40d5cfe', '3fc6e7f2-491b-4b0e-8b5e-b5b0cd91a196', '9e2a1d71-12f8-451e-abe1-12c8e95f3e85', 'de2b97c7-09df-463a-a51e-7b53e234d184', 'f4303b47-030b-4f2c-b33f-7992b241c5b5', '1bc87481-da3d-4558-92e7-934313b2ddc2', '799dbb10-c7ed-4baf-a6fe-e5d401ca4e6d', '8d99a82f-cbe3-4819-9acb-b1f824bed51b', '575cba3f-71b4-4193-adc4-f6e55065c678', 'd0dde02a-4804-49d2-876c-bd021388ec61', '932caead-ea5d-4f95-87f7-54a0a2b7b6b6', '043e84d1-102b-4bc6-bc81-629342300e32', 'e66479c1-fbe7-4e82-ab1e-66f3f385d4b1', '18b4cf1c-6f8e-45a6-9f14-1c9eacd6b3c7', 'a07dc2d7-93b5-4ad1-a79e-1ffea277cb12', 'f19ac79b-b633-4685-8916-745c7bc2576d', '76595bcd-78a3-413d-aa7d-b2c6ce50ae49', '75bc880b-9f61-4287-8d70-7e7e6fe4fc56', 'cf9bb0bd-82ab-4b34-a894-833796f98a99', '8a5b6518-3f4d-4779-ae9f-85666758f343', 'befc74b3-1be6-49c9-9df3-b6764b5d4584', 'e98f5cc2-c057-4688-b874-3c83c6a0365c', '5820e0e4-1e88-48fb-8751-0b1c5c2392b8', '83ffaceb-1783-4aba-b5f1-83393e084dbd', 'f44fd890-3414-452c-8852-95d3b7480207', 'b256e3ba-bc3f-4d12-b7b1-eaaa2e150845', '3f5921f0-16a1-4fce-8948-c027c2d9b939', 'acb83c84-09e5-4949-bc92-c07ede898354', '493342f2-23ce-4dda-9061-e49fead5b543', '14af4e5e-b8b8-42b0-98a2-aed7fa956f1e', '7a886ea4-7653-427c-91ef-8d2c26fee2b9', '8c6388a1-8eb4-4f43-ae9d-dbad09272230', 'd3bc13d0-356e-445f-8128-00ff79b0e41a', '64c4fe83-b2d1-41c2-9cc5-a1490101c650', '524d6321-ca01-402c-825e-c80ec8cef5ae', 'aab622a6-98c0-4c47-b56f-123aad6cbc8f', '445c9e4d-e364-43d5-80d2-52c21be48164', 'cb502c2a-6de0-480d-bf8a-836f69e0eda4', 'e6143453-e546-4b88-a088-dd4e8b836b8f', '123c86ae-4435-4cb6-91e6-348b418a954c', 'c0d9042e-ef68-448e-b6e0-33bdebdea540', 'e60de344-33a0-4044-a60c-3bf11bd6c0da', 'd17edfa5-3901-42de-8d70-0dc92a19b78b', '1939af8f-e306-4ae8-a02a-7822d87a536e', 'e75f7c2d-2e35-4381-aa75-bb88afb1a01e', '5aaae925-46d2-496b-813b-8a904892f95c', '321cf028-4226-48b2-b30f-88b31a092e3d', '65206dc3-622a-4c81-9b96-7d0b67db469e', 'b999b59b-2a5f-4e32-b24e-683fdd97001a', 'c3945abb-f0ce-425b-af9d-0f766b97bf4d', 'f6ba47bf-5570-4167-9c75-bf2aea4bb7c4', '041a451f-1464-4a96-b6c9-09a897b912c1', '539643e8-ce25-4b51-91f6-1e6e2d0ac16b', '3f95e6ba-0244-414c-99f6-179d6aefb820', 'a48edffa-76e6-4c57-a14b-a1fcf1b0f696', '4140564d-3982-4378-9be7-b4ae332869de', '32c7b24e-a203-44d6-8b89-d1e66da1a58f', 'c49e59a3-37e2-4857-bab8-675782e33ef4', '5e9e92d2-3a75-424d-a4da-100b1bf36bb3', '8de8ae31-5416-42df-8b14-c296d7a5e599', '0386fbb4-953b-4191-8bb4-80071969a3fd', '79f61244-e753-4bf5-9f0c-14b999c79a6e', 'a376fcf9-c8db-42e8-8254-a20b78af3ff8', '866b8d0a-59a9-49bf-a0bc-7b9217b7d8d5', 'dfa490b2-1083-4f64-90fe-c42133c35a62', '95b929e5-2920-4b05-8862-7704ed38fa81', 'c0a6a500-db0f-424b-a861-d65851896537', '10e96e88-bf82-4d82-8cad-177572f6a3eb', '7f5e5e0f-6223-4bba-8aba-827a5ffda53e', '795e2c60-6d7b-4751-87ef-383804aff9c2', '9dfc6a4b-b725-4631-9984-4f9e12ead324', '7f518fc5-67d4-4802-8ebf-f674f45504c9', 'c614bdde-d2c8-4dfe-a078-f461b444ad6e', '439a15d6-eac6-4707-abdf-4bff4dc980c9', '96c0d920-f7b1-47bc-9e59-c81c1fc6776e', 'd0f3d3b5-f4ef-4925-8671-f0a7f9c63878', '327ee2cb-a82b-4345-b759-f03a08317452', 'c17c362b-16ef-4b31-bbfd-b870cf2ddc9a', '7e7e3eba-8356-494c-a751-74866f7e1ea8', '6ab5e5f5-7af9-41e3-a74d-680022d01540', 'ac5e4dfb-dd63-4cfb-b2b6-474557327ba7', '308b12c4-10b5-41ee-adad-6e1cce610791', 'fb41d273-b83d-4004-a81b-e9387ee7f84e', '97422dab-14a1-4754-92b4-6d901821cda2', '15b12fe1-706b-4815-b4b1-2efa3308fe71', 'd0f0263d-ce2b-458f-9a49-7af10749edcb', 'b00b63b7-b355-47bb-85d1-be7e69571911', 'c9f73ac2-1e3b-47c6-ba16-06e2cec88cb0', 'd2105f34-b6e0-439d-9768-a12f652b47c1', '98a86265-0482-457a-868d-4a8e53586c88', '1dd3db5a-0fbf-4bef-83d6-4510d8a9edcd'])"
      ]
     },
     "execution_count": 3,
     "metadata": {},
     "output_type": "execute_result"
    }
   ],
   "source": [
    "# Index test doc\n",
    "import os\n",
    "os.environ[\"LOG_LEVEL\"]=\"DEBUG\"\n",
    "\n",
    "from gai.rag.client.rag_client_async import RagClientAsync\n",
    "rag = RagClientAsync({\n",
    "    \"type\": \"rag\",\n",
    "    \"url\": \"http://localhost:12036/gen/v1/rag\",\n",
    "    \"ws_url\": \"ws://localhost:12036/gen/v1/rag/index-file/ws\"\n",
    "})\n",
    "cwd = os.getcwd()\n",
    "\n",
    "await rag.index_document_async(collection_name=\"demo\", file_path=f\"{cwd}/ReAct-2210.03629.pdf\")"
   ]
  },
  {
   "cell_type": "code",
   "execution_count": 4,
   "metadata": {},
   "outputs": [
    {
     "name": "stderr",
     "output_type": "stream",
     "text": [
      "\u001b[45m\u001b[30mDEBUG   \u001b[0m \u001b[35mhttppost:url=http://localhost:12036/gen/v1/rag/retrieve\u001b[0m\n",
      "\u001b[45m\u001b[30mDEBUG   \u001b[0m \u001b[35mhttppost:data={'collection_name': 'demo',\n",
      " 'n_results': 4,\n",
      " 'query_texts': 'How does REACT differ from Chain-of-thought?'}\u001b[0m\n",
      "\u001b[45m\u001b[30mDEBUG   \u001b[0m \u001b[35mhttppost:files=None\u001b[0m\n"
     ]
    },
    {
     "name": "stdout",
     "output_type": "stream",
     "text": [
      "RAG 1\n"
     ]
    },
    {
     "data": {
      "text/html": [
       "<font color=\"yellow\">within a closed-loop system. Perhaps the closest prior work is Inner Monologue (IM), from Huang et al. (2022b), in which actions from an embodied agent are motivated by an eponymous “inner monologue”. However, IM’s “inner monologue” is limited to observations of the environment state and what needs to be completed by the agent for the goal to be satisﬁed. In contrast, the reasoning traces in ReAct for decision making is ﬂexible and sparse, allowing diverse reasoning types (see Section 2) to be induced for different tasks. To demonstrate the differences between ReAct and IM, and to highlight the importance of internal reasoning vs. simple reactions to external feedback, we ran an ablation experiment using a thought pattern composed of IM-like dense external feedback. As can be seen in Table 3, ReAct substantially outperforms IM-style prompting (ReAct-IM) (71 vs. 53 overall success rate), with consistent advantages on ﬁve out of six tasks. Qualitatively, we observed that ReAct-IM often</font>"
      ],
      "text/plain": [
       "<IPython.core.display.HTML object>"
      ]
     },
     "metadata": {},
     "output_type": "display_data"
    },
    {
     "name": "stdout",
     "output_type": "stream",
     "text": [
      "RAG 2\n"
     ]
    },
    {
     "data": {
      "text/html": [
       "<font color=\"yellow\">on how reasoning and acting can be combined in a synergistic manner for general task solving, and if such a combination can bring systematic beneﬁts compared to reasoning or acting alone. In this work, we present ReAct, a general paradigm to combine reasoning and acting with language models for solving diverse language reasoning and decision making tasks (Figure 1). ReAct prompts LLMs to generate both verbal reasoning traces and actions pertaining to a task in an interleaved manner, which allows the model to perform dynamic reasoning to create, maintain, and adjust high-level plans for acting (reason to act), while also interact with the external environments (e.g. Wikipedia) to incorporate additional information into reasoning (act to reason). 2 Published as a conference paper at ICLR 2023 We conduct empirical evaluations of ReAct and state-of-the-art baselines on four diverse benchmarks: question answering (HotPotQA, Yang et al., 2018), fact veriﬁcation (Fever, Thorne et al., 2018),</font>"
      ],
      "text/plain": [
       "<IPython.core.display.HTML object>"
      ]
     },
     "metadata": {},
     "output_type": "display_data"
    }
   ],
   "source": [
    "from gai.persona.fsm.handlers.use_RETRIEVAL_handler import use_RETRIEVAL_handler\n",
    "from gai.rag.client.rag_client_async import RagClientAsync\n",
    "rag=RagClientAsync({\n",
    "    \"type\": \"ttt\",\n",
    "    \"url\": \"http://localhost:12036/gen/v1/rag\",\n",
    "})\n",
    "import nest_asyncio\n",
    "nest_asyncio.apply()\n",
    "handler = use_RETRIEVAL_handler()\n",
    "handler.rag=rag\n",
    "handler.collection_name=\"demo\"\n",
    "handler.user_message=\"How does REACT differ from Chain-of-thought?\"\n",
    "handler.tool_name=\"retrieval\"\n",
    "handler.tool_prompts ={ \"retrieval\": \"👩‍🔬, use only the information provided to you by the user to answer the user''s question. \\n            If the information is insufficient for 👩‍🔬 to derive an answer, just say ''I cannot find relevant information in my document store to answer the question correctly.'' \\n            👩‍🔬 is to provide an in-depth analysis to the question based only on the information provided by the user and nothing more.\\n            👩‍🔬 will give a real-life example to support illustrating your point and contrasting it with a counter-example. \\n            👩‍🔬 will also proofread and edit the content before responding. \\n            👩‍🔬 will provide your own reasoned subjective perspective, noting where your view differs from or expands on the contents.\\n            Rules:\\n                - Consolidate the materials provided by the user and then organise them point by point.\\n                - Provide as much details as you can extract from the materials provided by the user.\\n                - Begin your report by saying `According to my document store,...`\\n                - Always provide your answers in point form.\"}\n",
    "handler.n_rag=2\n",
    "handler.on_RETRIEVAL()\n",
    "\n",
    "from gai.lib.common.notebook import highlight\n",
    "for i in range(handler.n_rag):\n",
    "    print(f\"RAG {i+1}\")\n",
    "    highlight(handler.content[i])\n",
    "\n"
   ]
  }
 ],
 "metadata": {
  "kernelspec": {
   "display_name": ".venv",
   "language": "python",
   "name": "python3"
  },
  "language_info": {
   "codemirror_mode": {
    "name": "ipython",
    "version": 3
   },
   "file_extension": ".py",
   "mimetype": "text/x-python",
   "name": "python",
   "nbconvert_exporter": "python",
   "pygments_lexer": "ipython3",
   "version": "3.10.12"
  }
 },
 "nbformat": 4,
 "nbformat_minor": 2
}
