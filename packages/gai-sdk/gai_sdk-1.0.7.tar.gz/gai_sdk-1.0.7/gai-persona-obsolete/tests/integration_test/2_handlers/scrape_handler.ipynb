{
 "cells": [
  {
   "cell_type": "markdown",
   "metadata": {},
   "source": [
    "### on_SCRAPE_handler"
   ]
  },
  {
   "cell_type": "code",
   "execution_count": 1,
   "metadata": {},
   "outputs": [
    {
     "data": {
      "text/plain": [
       "['/tmp/chunks/16f5f671ae6c45dea6c3dc44641c4a60',\n",
       " '/tmp/chunks/7cfeedf377cc4d6d8a7b5a969ec0a113',\n",
       " '/tmp/chunks/fb8ed873dc774159ba643671ffa9ac25',\n",
       " '/tmp/chunks/8be5daf300a74ef8a22eeb3afba03517']"
      ]
     },
     "execution_count": 1,
     "metadata": {},
     "output_type": "execute_result"
    }
   ],
   "source": [
    "from gai.persona.fsm.handlers.use_SCRAPE_handler import use_SCRAPE_handler\n",
    "handler = use_SCRAPE_handler()\n",
    "urls = [{'title': 'Where to Find the Best Chicken Rice in Singapore - MICHELIN Guideguide.michelin.com › best-of › where-to-find-the-best-chicken-rice-in-sing...',\n",
    "  'url': 'https://guide.michelin.com/sg/en/best-of/where-to-find-the-best-chicken-rice-in-singapore'},\n",
    " {'title': 'Tian Tian Hainanese Chicken...',\n",
    "  'url': 'https://guide.michelin.com/sg/en/singapore-region/singapore/restaurant/tian-tian-hainanese-chicken-rice'},\n",
    " {'title': 'Ji De Lai Hainanese Chicken...',\n",
    "  'url': 'https://guide.michelin.com/th/en/singapore-region/singapore/restaurant/ji-de-lai-hainanese-chicken-rice'},\n",
    " {'title': 'Best Hainan chicken rice in Singapore? : r/askSingapore - Redditwww.reddit.com › askSingapore › comments › best_hainan_chicken_rice_i...',\n",
    "  'url': 'https://www.reddit.com/r/askSingapore/comments/15egzfm/best_hainan_chicken_rice_in_singapore/'}]\n",
    "urls = [link[\"url\"] for link in urls]\n",
    "scraped_dirs=handler.handle_SCRAPE(urls=urls)\n",
    "scraped_dirs"
   ]
  }
 ],
 "metadata": {
  "kernelspec": {
   "display_name": ".venv",
   "language": "python",
   "name": "python3"
  },
  "language_info": {
   "codemirror_mode": {
    "name": "ipython",
    "version": 3
   },
   "file_extension": ".py",
   "mimetype": "text/x-python",
   "name": "python",
   "nbconvert_exporter": "python",
   "pygments_lexer": "ipython3",
   "version": "3.10.12"
  }
 },
 "nbformat": 4,
 "nbformat_minor": 2
}
