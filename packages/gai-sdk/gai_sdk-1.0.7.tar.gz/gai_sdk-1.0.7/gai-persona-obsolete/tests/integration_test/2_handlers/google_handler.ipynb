{
 "cells": [
  {
   "cell_type": "markdown",
   "metadata": {},
   "source": [
    "### on_GOOGLE_Handler"
   ]
  },
  {
   "cell_type": "code",
   "execution_count": 2,
   "metadata": {},
   "outputs": [
    {
     "name": "stderr",
     "output_type": "stream",
     "text": [
      "\u001b[42m\u001b[30mINFO    \u001b[0m \u001b[32mon_GOOGLE_handler: search_query='Singapore Best Hainanese Chicken Rice'\u001b[0m\n",
      "\u001b[42m\u001b[30mINFO    \u001b[0m \u001b[32mon_SCRAPE_handler: found 1/1\u001b[0m\n"
     ]
    },
    {
     "data": {
      "text/html": [
       "<font color=\"yellow\">[{'subject': 'Singapore Best Hainanese Chicken Rice', 'topic': '· Singaporean Popular with locals, Boon Tong Kee (Balestier Road) which opened in the 1980s started out as a small stall and has now expanded to a number of branches. The signature boiled chicken that they serve is made with a treasured recipe. The meat is delicately cooked and tender; and to accompany it is a special chicken sauce and glossy chicken rice — everything comes together perfectly. Paper-wrapped chicken and spring chickens are also available. More Details Ji De Lai Hainanese Chicken Rice Chong Pang Market and Food Centre, #01-152, 105 Yishun Ring Road, 760105 Singapore $ ·', 'relevance': 'high'}]</font>"
      ],
      "text/plain": [
       "<IPython.core.display.HTML object>"
      ]
     },
     "metadata": {},
     "output_type": "display_data"
    }
   ],
   "source": [
    "import os\n",
    "os.environ[\"LOG_LEVEL\"] = \"INFO\"\n",
    "\n",
    "from gai.ttt.client.ttt_client import TTTClient\n",
    "ttt = TTTClient({\n",
    "    \"type\": \"ttt\",\n",
    "    \"url\": \"http://localhost:12031/gen/v1/chat/completions\"\n",
    "})\n",
    "from gai.persona.fsm.handlers.use_GOOGLE_handler import use_GOOGLE_handler\n",
    "handler = use_GOOGLE_handler()\n",
    "handler.ttt = ttt\n",
    "handler.dialogue_messages=[]\n",
    "handler.user_message = \"Best Hainanese Chicken Rice in Singapore\"\n",
    "# handler.tool_prompt = f\"\"\"👩‍🔬, use only the information provided to you by the user to answer the user''s question.\n",
    "#             👩‍🔬, whenever possible, do not simply answer the question but try to be as informative as you can.\n",
    "#             Remember, these information are scraped from the web so you may need to proofread and edit the content before responding.\n",
    "#             👩‍🔬 will reply in point forms, precede each point with a newline \"\\n\", and be precise in your articulation.\n",
    "#             👩‍🔬 will provide your own reasoned subjective perspective, noting where your view differs from or expands on the contents.\n",
    "#             Rules:\n",
    "#                 - Consolidate the materials provided by the user and then organise them point by point.\n",
    "#                 - Don't just answer the question, be as informative as you can. For example, provide and proofread some background information or fun-fact to support your answer and make it interesting.\n",
    "#                 - Begin your report by saying `According to my online research,...`\n",
    "#                 - Always provide your answers in point form.\n",
    "#             \"\"\"\n",
    "handler.tool_name=\"google\"\n",
    "handler.tool_prompts ={ \"google\": \"👩‍🔬, use only the information provided to you by the user to answer the user''s question.\\n            👩‍🔬, whenever possible, do not simply answer the question but try to be as informative as you can.\\n            Remember, these information are scraped from the web so you may need to proofread and edit the content before responding.\\n            👩‍🔬 will reply in point forms, precede each point with a newline \\\"\\n\\\", and be precise in your articulation.\\n            👩‍🔬 will provide your own reasoned subjective perspective, noting where your view differs from or expands on the contents.\\n            Rules:\\n                - Consolidate the materials provided by the user and then organise them point by point.\\n                - Don't just answer the question, be as informative as you can. For example, provide and proofread some background information or fun-fact to support your answer and make it interesting.\\n                - Begin your report by saying `According to my online research,...`\\n                - Always provide your answers in point form.\"}\n",
    "handler.TOOL_CALL_output='{\"arguments\": \"{\\\\\"search_query\\\\\":\\\\\"Singapore Best Hainanese Chicken Rice\\\\\"}\" }'\n",
    "handler.n_search = 1\n",
    "handler.on_GOOGLE()\n",
    "\n",
    "from gai.lib.common.notebook import highlight\n",
    "highlight(handler.content)"
   ]
  }
 ],
 "metadata": {
  "kernelspec": {
   "display_name": ".venv",
   "language": "python",
   "name": "python3"
  },
  "language_info": {
   "codemirror_mode": {
    "name": "ipython",
    "version": 3
   },
   "file_extension": ".py",
   "mimetype": "text/x-python",
   "name": "python",
   "nbconvert_exporter": "python",
   "pygments_lexer": "ipython3",
   "version": "3.10.12"
  }
 },
 "nbformat": 4,
 "nbformat_minor": 2
}
