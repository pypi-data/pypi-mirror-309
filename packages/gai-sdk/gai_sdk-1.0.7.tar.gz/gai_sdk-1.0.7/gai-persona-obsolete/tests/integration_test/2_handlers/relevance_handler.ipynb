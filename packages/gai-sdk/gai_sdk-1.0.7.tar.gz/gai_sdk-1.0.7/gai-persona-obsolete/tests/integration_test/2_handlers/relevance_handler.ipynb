{
 "cells": [
  {
   "cell_type": "markdown",
   "metadata": {},
   "source": [
    "### on_RELEVANCE_Handler"
   ]
  },
  {
   "cell_type": "markdown",
   "metadata": {},
   "source": [
    "Scrape some content from the web"
   ]
  },
  {
   "cell_type": "code",
   "execution_count": 1,
   "metadata": {},
   "outputs": [
    {
     "name": "stderr",
     "output_type": "stream",
     "text": [
      "\u001b[42m\u001b[30mINFO    \u001b[0m \u001b[32msubject: ADMIN MOD Best Hainan chicken rice in Singapore? Question I'm visiting in a few weeks and would love to try the best Singapore has to offer if anyone has any suggestions, (to be honest any suggestions for anywhere else to eat would be most welcome). Read more Archived post. New comments cannot be posted and votes cannot be cast. Top 1% Rank by size Public Anyone can view, post, and comment to this community Top Posts Reddit reReddit: Top posts of July 31, 2023 Reddit reReddit: Top posts of July \u001b[0m\n"
     ]
    }
   ],
   "source": [
    "import os\n",
    "os.environ[\"LOG_LEVEL\"]=\"DEBUG\"\n",
    "\n",
    "from gai.lib.common.logging import getLogger\n",
    "logger = getLogger(__name__)\n",
    "from gai.lib.tools.scraper import Scraper\n",
    "url = 'https://www.reddit.com/r/askSingapore/comments/15egzfm/best_hainan_chicken_rice_in_singapore/'\n",
    "html, links = Scraper().scrape(url)\n",
    "subject = html[500:1000]\n",
    "logger.info(f\"subject: {subject}\")\n"
   ]
  },
  {
   "cell_type": "markdown",
   "metadata": {},
   "source": [
    "Chicken rice is not relevant to the current time"
   ]
  },
  {
   "cell_type": "code",
   "execution_count": 2,
   "metadata": {},
   "outputs": [
    {
     "name": "stderr",
     "output_type": "stream",
     "text": [
      "\u001b[45m\u001b[30mDEBUG   \u001b[0m \u001b[35mhttppost:url=http://localhost:12031/gen/v1/chat/completions\u001b[0m\n",
      "\u001b[45m\u001b[30mDEBUG   \u001b[0m \u001b[35mhttppost:data={'json_schema': {'properties': {'relevance': {'enum': ['high', 'medium', 'low'],\n",
      "                                              'type': 'string'}},\n",
      "                 'required': ['relevance'],\n",
      "                 'type': 'object'},\n",
      " 'max_new_tokens': None,\n",
      " 'messages': [{'content': '{\"Subject\": \"Clock\", \"Topic\": \"What time is it in '\n",
      "                          'Singapore right now?\"}',\n",
      "               'role': 'user'},\n",
      "              {'content': '', 'role': 'assistant'}],\n",
      " 'stop_conditions': None,\n",
      " 'stream': False,\n",
      " 'temperature': 0,\n",
      " 'tool_choice': None,\n",
      " 'tools': None,\n",
      " 'top_k': None,\n",
      " 'top_p': None}\u001b[0m\n"
     ]
    },
    {
     "data": {
      "text/html": [
       "<font color=\"yellow\">{'Subject': 'Clock', 'Topic': 'What time is it in Singapore right now?', 'relevance': 'high', 'answer': 'The current time in Singapore is 12:30 PM.'}</font>"
      ],
      "text/plain": [
       "<IPython.core.display.HTML object>"
      ]
     },
     "metadata": {},
     "output_type": "display_data"
    }
   ],
   "source": [
    "import os\n",
    "os.environ[\"LOG_LEVEL\"]=\"DEBUG\"\n",
    "from gai.persona.fsm.handlers.on_RELEVANCE_handler import on_RELEVANCE_handler\n",
    "from gai.ttt.client.ttt_client import TTTClient\n",
    "from gai.lib.common.logging import getLogger\n",
    "logger = getLogger(__name__)\n",
    "ttt=TTTClient({\n",
    "    \"type\": \"ttt-svr\",\n",
    "    \"url\": \"http://localhost:12031/gen/v1/chat/completions\"\n",
    "})\n",
    "handler=on_RELEVANCE_handler()\n",
    "handler.ttt = ttt\n",
    "handler.topic = \"What time is it in Singapore right now?\"\n",
    "handler.subject = \"Clock\"\n",
    "handler.on_RELEVANCE()\n",
    "\n",
    "from gai.lib.common.notebook import highlight\n",
    "highlight(handler.content)\n"
   ]
  },
  {
   "cell_type": "markdown",
   "metadata": {},
   "source": [
    "chicken rice is relevant to food"
   ]
  },
  {
   "cell_type": "code",
   "execution_count": 3,
   "metadata": {},
   "outputs": [
    {
     "name": "stderr",
     "output_type": "stream",
     "text": [
      "\u001b[45m\u001b[30mDEBUG   \u001b[0m \u001b[35mhttppost:url=http://localhost:12031/gen/v1/chat/completions\u001b[0m\n",
      "\u001b[45m\u001b[30mDEBUG   \u001b[0m \u001b[35mhttppost:data={'json_schema': {'properties': {'relevance': {'enum': ['high', 'medium', 'low'],\n",
      "                                              'type': 'string'}},\n",
      "                 'required': ['relevance'],\n",
      "                 'type': 'object'},\n",
      " 'max_new_tokens': None,\n",
      " 'messages': [{'content': '{\"Subject\": \"Cars\", \"Topic\": \"Food\"}',\n",
      "               'role': 'user'},\n",
      "              {'content': '', 'role': 'assistant'}],\n",
      " 'stop_conditions': None,\n",
      " 'stream': False,\n",
      " 'temperature': 0,\n",
      " 'tool_choice': None,\n",
      " 'tools': None,\n",
      " 'top_k': None,\n",
      " 'top_p': None}\u001b[0m\n"
     ]
    },
    {
     "data": {
      "text/html": [
       "<font color=\"yellow\">{'Subject': 'Cars', 'Topic': 'Food', 'relevance': 'low'}</font>"
      ],
      "text/plain": [
       "<IPython.core.display.HTML object>"
      ]
     },
     "metadata": {},
     "output_type": "display_data"
    }
   ],
   "source": [
    "import os\n",
    "os.environ[\"LOG_LEVEL\"]=\"DEBUG\"\n",
    "from gai.persona.fsm.handlers.on_RELEVANCE_handler import on_RELEVANCE_handler\n",
    "from gai.ttt.client.ttt_client import TTTClient\n",
    "from gai.lib.common.logging import getLogger\n",
    "logger = getLogger(__name__)\n",
    "ttt=TTTClient({\n",
    "    \"type\": \"ttt\",\n",
    "    \"url\": \"http://localhost:12031/gen/v1/chat/completions\"\n",
    "})\n",
    "handler=on_RELEVANCE_handler()\n",
    "handler.ttt = ttt\n",
    "handler.topic = \"Food\"\n",
    "handler.subject = \"Cars\"\n",
    "handler.on_RELEVANCE()\n",
    "\n",
    "from gai.lib.common.notebook import highlight\n",
    "highlight(handler.content)\n"
   ]
  }
 ],
 "metadata": {
  "kernelspec": {
   "display_name": ".venv",
   "language": "python",
   "name": "python3"
  },
  "language_info": {
   "codemirror_mode": {
    "name": "ipython",
    "version": 3
   },
   "file_extension": ".py",
   "mimetype": "text/x-python",
   "name": "python",
   "nbconvert_exporter": "python",
   "pygments_lexer": "ipython3",
   "version": "3.10.12"
  }
 },
 "nbformat": 4,
 "nbformat_minor": 2
}
