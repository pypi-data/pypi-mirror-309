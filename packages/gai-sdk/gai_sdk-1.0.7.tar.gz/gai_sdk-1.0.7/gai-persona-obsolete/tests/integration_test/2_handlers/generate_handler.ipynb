{
 "cells": [
  {
   "cell_type": "markdown",
   "metadata": {},
   "source": [
    "### on_GENERATE_Handler"
   ]
  },
  {
   "cell_type": "markdown",
   "metadata": {},
   "source": [
    "stream"
   ]
  },
  {
   "cell_type": "code",
   "execution_count": 1,
   "metadata": {},
   "outputs": [
    {
     "name": "stderr",
     "output_type": "stream",
     "text": [
      "\u001b[42m\u001b[30mINFO    \u001b[0m \u001b[32mMESSAGES:\n",
      "\n",
      "User:\n",
      "Tell me a one paragraph story\n",
      "\n",
      "Assistant:\n",
      "\n",
      "\u001b[0m\n",
      "\u001b[45m\u001b[30mDEBUG   \u001b[0m \u001b[35mhttppost:url=http://localhost:12031/gen/v1/chat/completions\u001b[0m\n",
      "\u001b[45m\u001b[30mDEBUG   \u001b[0m \u001b[35mhttppost:data={'json_schema': None,\n",
      " 'max_new_tokens': None,\n",
      " 'messages': [{'content': 'Tell me a one paragraph story', 'role': 'user'},\n",
      "              {'content': '', 'role': 'assistant'}],\n",
      " 'stop_conditions': ['\\n\\n', '</s>', 'user:', '<br><br>'],\n",
      " 'stream': True,\n",
      " 'temperature': 0.7,\n",
      " 'tool_choice': 'none',\n",
      " 'tools': None,\n",
      " 'top_k': 50,\n",
      " 'top_p': 0.9}\u001b[0m\n"
     ]
    },
    {
     "name": "stdout",
     "output_type": "stream",
     "text": [
      " Once upon a time, in a small village nestled between the mountains, lived a humble farmer named Tomas. Despite the harsh conditions, he managed to cultivate the most beautiful flowers in the valley. One day, a wealthy merchant from a distant city came across Tomas' garden and was captivated by the beauty of his flowers. He offered to buy the entire garden for a large sum of money. Though hesitant at first, Tomas agreed, changing his life forever. He used the money to build a school for the children in his village, ensuring they received an education that he never had. And so, the simple farmer who grew beautiful flowers became a hero in his community, leaving a lasting legacy for generations to come."
     ]
    }
   ],
   "source": [
    "import os\n",
    "os.environ[\"LOG_LEVEL\"]=\"DEBUG\"\n",
    "\n",
    "# ARRANGE\n",
    "from gai.ttt.client.ttt_client import TTTClient\n",
    "ttt=TTTClient({\n",
    "    \"type\": \"ttt\",\n",
    "    \"url\": \"http://localhost:12031/gen/v1/chat/completions\",\n",
    "    \"max_new_tokens\":300,\n",
    "    \"max_tokens\":300,\n",
    "    \"temperature\": 0.7,\n",
    "    \"top_p\":0.9,\n",
    "    \"top_k\": 50,\n",
    "    \"stop_conditions\": [\"\\n\\n\",\"</s>\",\"user:\",\"<br><br>\"]\n",
    "})\n",
    "from gai.lib.dialogue.MonologueMessageBuilder import MonologueMessageBuilder\n",
    "messages = MonologueMessageBuilder(\n",
    "    ).AddUserMessage(\"Tell me a one paragraph story\"\n",
    "    ).AddAssistantMessage(\n",
    "    ).Build()\n",
    "\n",
    "# ACT\n",
    "from gai.persona.fsm.handlers.use_GENERATE_handler import use_GENERATE_handler\n",
    "handler = use_GENERATE_handler()\n",
    "handler.stream = True\n",
    "handler.monologue_messages = messages\n",
    "handler.ttt = ttt\n",
    "handler.on_GENERATE()\n",
    "for chunk in handler.streamer:\n",
    "    print(chunk, end='', flush=True)\n",
    "\n"
   ]
  },
  {
   "cell_type": "code",
   "execution_count": null,
   "metadata": {},
   "outputs": [],
   "source": [
    "import os\n",
    "os.environ[\"LOG_LEVEL\"]=\"DEBUG\"\n",
    "\n",
    "# ARRANGE\n",
    "from gai.ttt.client.ttt_client import TTTClient\n",
    "ttt=TTTClient({\n",
    "    \"type\": \"ttt\",\n",
    "    \"url\": \"http://localhost:12031/gen/v1/chat/completions\",\n",
    "    \"max_new_tokens\":300,\n",
    "    \"max_tokens\":300,\n",
    "    \"temperature\": 0.7,\n",
    "    \"top_p\":0.9,\n",
    "    \"top_k\": 50,\n",
    "    \"stop_conditions\": [\"\\n\\n\",\"</s>\",\"user:\",\"<br><br>\"]\n",
    "})\n",
    "from gai.lib.dialogue.MonologueMessageBuilder import MonologueMessageBuilder\n",
    "messages = MonologueMessageBuilder(\n",
    "    ).AddUserMessage(\"Tell me a one paragraph story\"\n",
    "    ).AddAssistantMessage(\n",
    "    ).Build()\n"
   ]
  }
 ],
 "metadata": {
  "kernelspec": {
   "display_name": ".venv",
   "language": "python",
   "name": "python3"
  },
  "language_info": {
   "codemirror_mode": {
    "name": "ipython",
    "version": 3
   },
   "file_extension": ".py",
   "mimetype": "text/x-python",
   "name": "python",
   "nbconvert_exporter": "python",
   "pygments_lexer": "ipython3",
   "version": "3.10.12"
  }
 },
 "nbformat": 4,
 "nbformat_minor": 2
}
