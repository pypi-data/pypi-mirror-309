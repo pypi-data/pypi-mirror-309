{
 "cells": [
  {
   "cell_type": "markdown",
   "metadata": {},
   "source": [
    "# use_TOOL_CHOICE_handler"
   ]
  },
  {
   "cell_type": "code",
   "execution_count": 2,
   "metadata": {},
   "outputs": [],
   "source": [
    "# Create a function that returns a dictionary of tools.\n",
    "# Note that \n",
    "\n",
    "def create_tools_dict():\n",
    "    doc_titles=[\"MICHELIN Guide Singapore 2016: Where to Find the Best Chicken Rice in Singapore\"]\n",
    "    doc_keywords=[\"Singapore\",\"Chicken Rice\",\"Food\"]\n",
    "\n",
    "    # tools_dict loaded from /gai/persona/tools/data/tools_template.json\n",
    "    tools_dict={ \n",
    "        \"google\":{\n",
    "                \"type\": \"function\",\n",
    "                \"function\": {\n",
    "                    \"name\": \"google\",\n",
    "                    \"description\": \"The 'google' function is a powerful tool that allows the AI to gather external information from the internet using Google search. It can be invoked when the AI needs to answer a question or provide information that requires up-to-date, comprehensive, and diverse sources which are not inherently known by the AI. For instance, it can be used to find current news, weather updates, latest sports scores, trending topics, specific facts, or even the current date and time. The usage of this tool should be considered when the user's query implies or explicitly requests recent or wide-ranging data, or when the AI's inherent knowledge base may not have the required or most current information. The 'search_query' parameter should be a concise and accurate representation of the information needed.\",\n",
    "                    \"parameters\": {\n",
    "                        \"type\": \"object\",\n",
    "                        \"properties\": {\n",
    "                            \"search_query\": {\n",
    "                                \"type\": \"string\",\n",
    "                                \"description\": \"The search query to search google with. For example, to find the current date or time, use 'current date' or 'current time' respectively.\"\n",
    "                            }\n",
    "                        },\n",
    "                        \"required\": [\"search_query\"]\n",
    "                    }\n",
    "                }\n",
    "            },\n",
    "        \"retrieval\":{\n",
    "            \"type\": \"function\",\n",
    "            \"function\": {\n",
    "                \"name\": \"retrieval\",\n",
    "                \"description\": f\"\"\"\n",
    "                    The `retrieval` function is a powerful tool that allows the AI to access articles outside of its knowledge domain from external sources. \n",
    "                    The external articles are stored in an archive and organised by <titles>:\\n{{ titles: [{doc_titles}] }}\n",
    "                    and <keywords>:\n",
    "                    {{ keywords: [{doc_keywords}] }}\n",
    "                    **IMPORTANT**: Use this tool when any of the <titles> or <keywords> may be relevant to user's question.\n",
    "                    The \\'search_query\\' parameter should be crafted in a way that it returns the most precise result based on the conversation context.\n",
    "                \"\"\",\n",
    "                \"parameters\": {\n",
    "                    \"type\": \"object\",\n",
    "                    \"properties\": {\n",
    "                        \"search_query\": {\n",
    "                            \"type\": \"string\",\n",
    "                            \"description\": \"\"\"The most effective search query for semantic search that will return the most precise result.\"\"\"\n",
    "                        }\n",
    "                    },\n",
    "                    \"required\": [\"search_query\"]\n",
    "                }\n",
    "            }\n",
    "        },\n",
    "        \"text\": {\n",
    "            \"type\": \"function\",\n",
    "            \"function\": {\n",
    "                \"name\": \"text\",\n",
    "                \"description\": \"The 'text' function is the default catch-all function returned when none of the other tools are applicable.\",\n",
    "                \"parameters\": {\n",
    "                    \"type\": \"object\",\n",
    "                    \"properties\": {\n",
    "                        \"message\": {\n",
    "                            \"type\": \"string\",\n",
    "                            \"description\": \"The user's message.\"\n",
    "                        }\n",
    "                    },\n",
    "                    \"required\": [\"message\"]\n",
    "                }\n",
    "            }\n",
    "        }\n",
    "    }\n",
    "    return tools_dict"
   ]
  },
  {
   "cell_type": "code",
   "execution_count": 3,
   "metadata": {},
   "outputs": [
    {
     "name": "stdout",
     "output_type": "stream",
     "text": [
      "{'type': 'object', 'properties': {'result': {'type': 'string', 'enum': ['google', 'retrieval', 'text']}}, 'required': ['result']}\n"
     ]
    }
   ],
   "source": [
    "import jsonschema\n",
    "from gai.persona.fsm.handlers.use_TOOL_CHOICE_handler import use_TOOL_CHOICE_handler\n",
    "handler=use_TOOL_CHOICE_handler()\n",
    "tool_choice_schema=handler._get_tool_choice_schema(create_tools_dict())\n",
    "print (tool_choice_schema)\n",
    "assert tool_choice_schema[\"properties\"][\"result\"][\"enum\"] == [\"google\", \"retrieval\", \"text\"]"
   ]
  },
  {
   "cell_type": "code",
   "execution_count": 3,
   "metadata": {},
   "outputs": [
    {
     "data": {
      "text/html": [
       "<font color=\"yellow\">{'result': 'text'}</font>"
      ],
      "text/plain": [
       "<IPython.core.display.HTML object>"
      ]
     },
     "metadata": {},
     "output_type": "display_data"
    }
   ],
   "source": [
    "from gai.ttt.client.ttt_client import TTTClient\n",
    "ttt=TTTClient({\n",
    "    \"type\": \"ttt\",\n",
    "    \"url\": \"http://localhost:12031/gen/v1/chat/completions\"\n",
    "})\n",
    "recap=[]\n",
    "tools_dict=create_tools_dict()\n",
    "handler.ttt=ttt\n",
    "handler.dialogue_messages=[]\n",
    "handler.tools_dict=tools_dict\n",
    "handler.user_message=\"Tell me a one paragraph story\"\n",
    "handler.on_TOOL_CHOICE()\n",
    "\n",
    "from gai.lib.common.notebook import highlight\n",
    "highlight(handler.content)"
   ]
  },
  {
   "cell_type": "code",
   "execution_count": 4,
   "metadata": {},
   "outputs": [
    {
     "data": {
      "text/html": [
       "<font color=\"yellow\">{'result': 'google'}</font>"
      ],
      "text/plain": [
       "<IPython.core.display.HTML object>"
      ]
     },
     "metadata": {},
     "output_type": "display_data"
    }
   ],
   "source": [
    "from gai.ttt.client.ttt_client import TTTClient\n",
    "ttt=TTTClient({\n",
    "    \"type\": \"ttt\",\n",
    "    \"url\": \"http://localhost:12031/gen/v1/chat/completions\"\n",
    "})\n",
    "recap=[]\n",
    "tools_dict=create_tools_dict()\n",
    "handler.ttt=ttt\n",
    "handler.dialogue_messages=[]\n",
    "handler.tools_dict=tools_dict\n",
    "handler.user_message=\"What is the current time in Singapore?\"\n",
    "handler.on_TOOL_CHOICE()\n",
    "\n",
    "from gai.lib.common.notebook import highlight\n",
    "highlight(handler.content)"
   ]
  },
  {
   "cell_type": "code",
   "execution_count": 6,
   "metadata": {},
   "outputs": [
    {
     "data": {
      "text/html": [
       "<font color=\"yellow\">{'result': 'retrieval'}</font>"
      ],
      "text/plain": [
       "<IPython.core.display.HTML object>"
      ]
     },
     "metadata": {},
     "output_type": "display_data"
    }
   ],
   "source": [
    "from gai.ttt.client.ttt_client import TTTClient\n",
    "ttt=TTTClient({\n",
    "    \"type\": \"ttt\",\n",
    "    \"url\": \"http://localhost:12031/gen/v1/chat/completions\"\n",
    "})\n",
    "recap=[]\n",
    "tools_dict=create_tools_dict()\n",
    "handler.ttt=ttt\n",
    "handler.dialogue_messages=[]\n",
    "handler.tools_dict=tools_dict\n",
    "handler.user_message=\"Where will you recommend a tourist for Singapore's famous Chicken Rice?\"\n",
    "handler.on_TOOL_CHOICE()\n",
    "\n",
    "from gai.lib.common.notebook import highlight\n",
    "highlight(handler.content)"
   ]
  },
  {
   "cell_type": "markdown",
   "metadata": {},
   "source": [
    "# With recap"
   ]
  },
  {
   "cell_type": "code",
   "execution_count": 1,
   "metadata": {},
   "outputs": [
    {
     "name": "stdout",
     "output_type": "stream",
     "text": [
      "{'type': 'object', 'properties': {'result': {'type': 'string', 'enum': ['google', 'text']}}, 'required': ['result']}\n"
     ]
    },
    {
     "data": {
      "text/html": [
       "<font color=\"yellow\">{'result': 'google'}</font>"
      ],
      "text/plain": [
       "<IPython.core.display.HTML object>"
      ]
     },
     "metadata": {},
     "output_type": "display_data"
    }
   ],
   "source": [
    "# Create a function that returns a dictionary of tools.\n",
    "# Note that \n",
    "\n",
    "def create_tools_dict():\n",
    "\n",
    "    # tools_dict loaded from /gai/persona/tools/data/tools_template.json\n",
    "    tools_dict={ \n",
    "        \"google\":{\n",
    "                \"type\": \"function\",\n",
    "                \"function\": {\n",
    "                    \"name\": \"google\",\n",
    "                    \"description\": \"The 'google' function is a powerful tool that allows the AI to gather external information from the internet using Google search. It can be invoked when the AI needs to answer a question or provide information that requires up-to-date, comprehensive, and diverse sources which are not inherently known by the AI. For instance, it can be used to find current news, weather updates, latest sports scores, trending topics, specific facts, or even the current date and time. The usage of this tool should be considered when the user's query implies or explicitly requests recent or wide-ranging data, or when the AI's inherent knowledge base may not have the required or most current information. The 'search_query' parameter should be a concise and accurate representation of the information needed.\",\n",
    "                    \"parameters\": {\n",
    "                        \"type\": \"object\",\n",
    "                        \"properties\": {\n",
    "                            \"search_query\": {\n",
    "                                \"type\": \"string\",\n",
    "                                \"description\": \"The search query to search google with. For example, to find the current date or time, use 'current date' or 'current time' respectively.\"\n",
    "                            }\n",
    "                        },\n",
    "                        \"required\": [\"search_query\"]\n",
    "                    }\n",
    "                }\n",
    "            },\n",
    "        \"text\": {\n",
    "            \"type\": \"function\",\n",
    "            \"function\": {\n",
    "                \"name\": \"text\",\n",
    "                \"description\": \"The 'text' function is the default catch-all function returned when none of the other tools are applicable.\",\n",
    "                \"parameters\": {\n",
    "                    \"type\": \"object\",\n",
    "                    \"properties\": {\n",
    "                        \"message\": {\n",
    "                            \"type\": \"string\",\n",
    "                            \"description\": \"The user's message.\"\n",
    "                        }\n",
    "                    },\n",
    "                    \"required\": [\"message\"]\n",
    "                }\n",
    "            }\n",
    "        }\n",
    "    }\n",
    "    return tools_dict\n",
    "\n",
    "import jsonschema\n",
    "from gai.persona.fsm.handlers.use_TOOL_CHOICE_handler import use_TOOL_CHOICE_handler\n",
    "handler=use_TOOL_CHOICE_handler()\n",
    "tool_choice_schema=handler._get_tool_choice_schema(create_tools_dict())\n",
    "print (tool_choice_schema)\n",
    "assert tool_choice_schema[\"properties\"][\"result\"][\"enum\"] == [\"google\", \"text\"]\n",
    "\n",
    "\n",
    "from gai.ttt.client.ttt_client import TTTClient\n",
    "ttt=TTTClient({\n",
    "    \"type\": \"ttt\",\n",
    "    \"url\": \"http://localhost:12031/gen/v1/chat/completions\"\n",
    "})\n",
    "\n",
    "from gai.lib.dialogue.dialogue_message import DialogueMessage\n",
    "\n",
    "dialogue_messages=[\n",
    "    DialogueMessage(Id='ebd75c13-a7b8-406f-ba76-e5feed87dbd9', DialogueId='', Order=0, OwnerId=None, Role='user', Name=\"User\", Content='Sara, Introduce yourself.', Monologue=None, Timestamp=0, ImageUrl=None),\n",
    "    DialogueMessage(Id='ebd75c13-a7b8-406f-ba76-e5feed87dbd9', DialogueId='', Order=0, OwnerId=None, Role='assistant', Name=\"Sara\", Content=\"Hello there! My name is Sara. I'm an artificial being, designed to simulate human-like interactions. I'm here to provide information, engage in conversations, and assist you with tasks. I'm always learning and growing, so I can offer a wide range of responses. I'm looking forward to our chat!\", Monologue=None, Timestamp=0, ImageUrl=None),\n",
    "    DialogueMessage(Id='ebd75c13-a7b8-406f-ba76-e5feed87dbd9', DialogueId='', Order=0, OwnerId=None, Role='user', Name=\"User\", Content='Diana, Introduce yourself.', Monologue=None, Timestamp=0, ImageUrl=None),\n",
    "    DialogueMessage(Id='ebd75c13-a7b8-406f-ba76-e5feed87dbd9', DialogueId='', Order=0, OwnerId=None, Role='assistant', Name=\"Diana\", Content=\"Hello, my name is Diana. I am an artificial intelligence designed to simulate human-like interactions. I am here to provide information, engage in conversations, and assist you with tasks. I am programmed to learn and grow, which allows me to offer a wide range of responses. I am looking forward to our interaction!\", Monologue=None, Timestamp=0, ImageUrl=None),\n",
    "    DialogueMessage(Id='ebd75c13-a7b8-406f-ba76-e5feed87dbd9', DialogueId='', Order=0, OwnerId=None, Role='user', Name=\"User\", Content='George, Introduce yourself.', Monologue=None, Timestamp=0, ImageUrl=None),\n",
    "    DialogueMessage(Id='ebd75c13-a7b8-406f-ba76-e5feed87dbd9', DialogueId='', Order=0, OwnerId=None, Role='assistant', Name=\"George\", Content=\"Hello, my name is George. I am an artificial intelligence designed to simulate human-like interactions. I am here to provide information, engage in conversations, and assist you with tasks. I am programmed to learn and grow, which allows me to offer a wide range of responses. I am looking forward to our interaction!\", Monologue=None, Timestamp=0, ImageUrl=None),\n",
    "    DialogueMessage(Id='ebd75c13-a7b8-406f-ba76-e5feed87dbd9', DialogueId='', Order=0, OwnerId=None, Role='user', Name=\"User\", Content='Sara, Help me plan a trip to Greece.', Monologue=None, Timestamp=0, ImageUrl=None),\n",
    "    DialogueMessage(Id='ebd75c13-a7b8-406f-ba76-e5feed87dbd9', DialogueId='', Order=0, OwnerId=None, Role='assistant', Name=\"Sara\", Content=\"Hello again! I'd be delighted to assist you in planning your trip to Greece. Firstly, could you please provide me with some more details? I'll need to know the purpose of your visit, the duration of your stay, your preferred budget, and any specific places or activities you're interested in. This will help me provide a more tailored travel plan for you.\", Monologue=None, Timestamp=0, ImageUrl=None),\n",
    "    DialogueMessage(Id='ebd75c13-a7b8-406f-ba76-e5feed87dbd9', DialogueId='', Order=0, OwnerId=None, Role='user', Name=\"User\", Content=\"Diana, Diana, it is your turn to respond.\", Monologue=None, Timestamp=0, ImageUrl=None),\n",
    "    DialogueMessage(Id='ebd75c13-a7b8-406f-ba76-e5feed87dbd9', DialogueId='', Order=0, OwnerId=None, Role='assistant', Name=\"Diana\", Content=\"Hello! I'm glad to assist you in planning your trip to Greece. Let's start by discussing the purpose of your visit. Are you planning this trip for leisure, business, or something else? Understanding the purpose will help me suggest appropriate activities and destinations.\", Monologue=None, Timestamp=0, ImageUrl=None),\n",
    " ]\n",
    "\n",
    "tools_dict=create_tools_dict()\n",
    "handler.ttt=ttt\n",
    "handler.dialogue_messages=dialogue_messages\n",
    "handler.tools_dict=tools_dict\n",
    "handler.user_message='George, George, it is your turn to respond.'\n",
    "handler.on_TOOL_CHOICE()\n",
    "\n",
    "from gai.lib.common.notebook import highlight\n",
    "highlight(handler.content)"
   ]
  }
 ],
 "metadata": {
  "kernelspec": {
   "display_name": ".venv",
   "language": "python",
   "name": "python3"
  },
  "language_info": {
   "codemirror_mode": {
    "name": "ipython",
    "version": 3
   },
   "file_extension": ".py",
   "mimetype": "text/x-python",
   "name": "python",
   "nbconvert_exporter": "python",
   "pygments_lexer": "ipython3",
   "version": "3.10.12"
  }
 },
 "nbformat": 4,
 "nbformat_minor": 2
}
