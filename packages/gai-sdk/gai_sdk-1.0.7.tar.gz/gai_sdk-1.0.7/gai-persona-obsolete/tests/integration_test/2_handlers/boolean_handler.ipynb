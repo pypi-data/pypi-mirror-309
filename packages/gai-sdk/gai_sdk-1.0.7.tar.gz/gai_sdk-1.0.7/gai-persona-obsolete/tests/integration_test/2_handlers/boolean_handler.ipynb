{
 "cells": [
  {
   "cell_type": "markdown",
   "metadata": {},
   "source": [
    "### on_BOOLEAN_Handler"
   ]
  },
  {
   "cell_type": "code",
   "execution_count": 2,
   "metadata": {},
   "outputs": [
    {
     "name": "stderr",
     "output_type": "stream",
     "text": [
      "\u001b[45m\u001b[30mDEBUG   \u001b[0m \u001b[35mhttppost:url=http://localhost:12031/gen/v1/chat/completions\u001b[0m\n",
      "\u001b[45m\u001b[30mDEBUG   \u001b[0m \u001b[35mhttppost:data={'json_schema': {'properties': {'result': {'type': 'boolean'}},\n",
      "                 'required': ['result'],\n",
      "                 'title': 'Predicate',\n",
      "                 'type': 'object'},\n",
      " 'max_new_tokens': None,\n",
      " 'messages': [{'content': 'Is this true or false: `The sun rises from the '\n",
      "                          'east?`',\n",
      "               'role': 'user'},\n",
      "              {'content': '', 'role': 'assistant'}],\n",
      " 'stop_conditions': None,\n",
      " 'stream': False,\n",
      " 'temperature': 0,\n",
      " 'tool_choice': 'none',\n",
      " 'tools': None,\n",
      " 'top_k': None,\n",
      " 'top_p': None}\u001b[0m\n"
     ]
    },
    {
     "data": {
      "text/html": [
       "<font color=\"yellow\">True</font>"
      ],
      "text/plain": [
       "<IPython.core.display.HTML object>"
      ]
     },
     "metadata": {},
     "output_type": "display_data"
    }
   ],
   "source": [
    "import os\n",
    "os.environ[\"LOG_LEVEL\"] = \"DEBUG\"\n",
    "from gai.ttt.client.ttt_client import TTTClient\n",
    "\n",
    "from gai.persona.fsm.handlers.use_BOOLEAN_handler import use_BOOLEAN_handler\n",
    "handler = use_BOOLEAN_handler()\n",
    "handler.ttt=TTTClient({\n",
    "    \"type\": \"ttt\",\n",
    "    \"url\": \"http://localhost:12031/gen/v1/chat/completions\"\n",
    "})\n",
    "handler.user_message=\"The sun rises from the east?\"\n",
    "handler.on_BOOLEAN()\n",
    "\n",
    "from gai.lib.common.notebook import highlight\n",
    "highlight(handler.content)\n",
    "assert handler.content == True"
   ]
  },
  {
   "cell_type": "code",
   "execution_count": 4,
   "metadata": {},
   "outputs": [
    {
     "name": "stderr",
     "output_type": "stream",
     "text": [
      "\u001b[45m\u001b[30mDEBUG   \u001b[0m \u001b[35mhttppost:url=http://localhost:12031/gen/v1/chat/completions\u001b[0m\n",
      "\u001b[45m\u001b[30mDEBUG   \u001b[0m \u001b[35mhttppost:data={'json_schema': {'properties': {'result': {'type': 'boolean'}},\n",
      "                 'required': ['result'],\n",
      "                 'title': 'Predicate',\n",
      "                 'type': 'object'},\n",
      " 'max_new_tokens': None,\n",
      " 'messages': [{'content': 'Is this true or false: `The sun sets in the west?`',\n",
      "               'role': 'user'},\n",
      "              {'content': '', 'role': 'assistant'}],\n",
      " 'stop_conditions': None,\n",
      " 'stream': False,\n",
      " 'temperature': 0,\n",
      " 'tool_choice': 'none',\n",
      " 'tools': None,\n",
      " 'top_k': None,\n",
      " 'top_p': None}\u001b[0m\n"
     ]
    },
    {
     "data": {
      "text/html": [
       "<font color=\"yellow\">False</font>"
      ],
      "text/plain": [
       "<IPython.core.display.HTML object>"
      ]
     },
     "metadata": {},
     "output_type": "display_data"
    },
    {
     "ename": "AssertionError",
     "evalue": "",
     "output_type": "error",
     "traceback": [
      "\u001b[0;31m---------------------------------------------------------------------------\u001b[0m",
      "\u001b[0;31mAssertionError\u001b[0m                            Traceback (most recent call last)",
      "Cell \u001b[0;32mIn[4], line 16\u001b[0m\n\u001b[1;32m     14\u001b[0m \u001b[38;5;28;01mfrom\u001b[39;00m \u001b[38;5;21;01mgai\u001b[39;00m\u001b[38;5;21;01m.\u001b[39;00m\u001b[38;5;21;01mlib\u001b[39;00m\u001b[38;5;21;01m.\u001b[39;00m\u001b[38;5;21;01mcommon\u001b[39;00m\u001b[38;5;21;01m.\u001b[39;00m\u001b[38;5;21;01mnotebook\u001b[39;00m \u001b[38;5;28;01mimport\u001b[39;00m highlight\n\u001b[1;32m     15\u001b[0m highlight(handler\u001b[38;5;241m.\u001b[39mcontent)\n\u001b[0;32m---> 16\u001b[0m \u001b[38;5;28;01massert\u001b[39;00m handler\u001b[38;5;241m.\u001b[39mcontent \u001b[38;5;241m==\u001b[39m \u001b[38;5;28;01mTrue\u001b[39;00m\n",
      "\u001b[0;31mAssertionError\u001b[0m: "
     ]
    }
   ],
   "source": [
    "import os\n",
    "os.environ[\"LOG_LEVEL\"] = \"DEBUG\"\n",
    "from gai.ttt.client.ttt_client import TTTClient\n",
    "\n",
    "from gai.persona.fsm.handlers.use_BOOLEAN_handler import use_BOOLEAN_handler\n",
    "handler = use_BOOLEAN_handler()\n",
    "handler.ttt=TTTClient({\n",
    "    \"type\": \"ttt\",\n",
    "    \"url\": \"http://localhost:12031/gen/v1/chat/completions\"\n",
    "})\n",
    "handler.user_message=\"The sun sets in the west?\"\n",
    "handler.on_BOOLEAN()\n",
    "\n",
    "from gai.lib.common.notebook import highlight\n",
    "highlight(handler.content)\n",
    "assert handler.content == True\n"
   ]
  }
 ],
 "metadata": {
  "kernelspec": {
   "display_name": ".venv",
   "language": "python",
   "name": "python3"
  },
  "language_info": {
   "codemirror_mode": {
    "name": "ipython",
    "version": 3
   },
   "file_extension": ".py",
   "mimetype": "text/x-python",
   "name": "python",
   "nbconvert_exporter": "python",
   "pygments_lexer": "ipython3",
   "version": "3.10.12"
  }
 },
 "nbformat": 4,
 "nbformat_minor": 2
}
