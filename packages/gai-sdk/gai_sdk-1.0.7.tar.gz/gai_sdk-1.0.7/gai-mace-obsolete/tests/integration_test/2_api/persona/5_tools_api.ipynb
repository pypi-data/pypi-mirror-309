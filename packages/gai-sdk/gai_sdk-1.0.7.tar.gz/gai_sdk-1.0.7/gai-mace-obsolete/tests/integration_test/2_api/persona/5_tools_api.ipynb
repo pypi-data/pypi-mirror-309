{
 "cells": [
  {
   "cell_type": "markdown",
   "metadata": {},
   "source": [
    "---\n",
    "## Tools API"
   ]
  },
  {
   "cell_type": "markdown",
   "metadata": {},
   "source": [
    "### List Readable Tools"
   ]
  },
  {
   "cell_type": "code",
   "execution_count": 1,
   "metadata": {},
   "outputs": [
    {
     "name": "stdout",
     "output_type": "stream",
     "text": [
      "[{'Id': '00000000-0000-0000-0000-000000000000', 'CreatorId': '00000000-0000-0000-0000-000000000000', 'UsageType': 'public', 'ToolPrompt': '', 'ToolName': 'text', 'ToolDesc': \"\\nThe 'text' function is the default catch-all function returned when none of the other tools are applicable.\\n        \", 'ToolApiUrl': None, 'ToolApiKey': None, 'ToolParameters': [{'Id': '00000000-0000-0000-0000-000000000000', 'ToolId': '00000000-0000-0000-0000-000000000000', 'ParamOrder': 0, 'ParamName': 'text_string', 'ParamType': 'string', 'ParamDescription': 'Text response.'}]}, {'Id': '00000000-0000-0000-0000-000000000001', 'CreatorId': '00000000-0000-0000-0000-000000000000', 'UsageType': 'public', 'ToolPrompt': '👩\\u200d🔬, use only the information provided to you by the user to answer the user\\'\\'s question.\\n👩\\u200d🔬, whenever possible, do not simply answer the question but try to be as informative as you can.\\n*  Remember, these information are scraped from the web so you may need to proofread and edit the content before responding.\\n*  👩\\u200d🔬 will reply in point forms, precede each point with a newline \"\\n\", and be precise in your articulation.\\n*  👩\\u200d🔬 will provide your own reasoned subjective perspective, noting where your view differs from or expands on the contents.\\n*  Rules:\\n    - Consolidate the materials provided by the user and then organise them point by point.\\n    - Don\\'t just answer the question, be as informative as you can. For example, provide and proofread some background information or fun-fact to support your answer and make it interesting.\\n    - Begin your report by saying `According to my online research,...`\\n    - Always provide your answers in point form.', 'ToolName': 'google', 'ToolDesc': \"The 'google' function is a powerful tool that allows the AI to gather external information from the internet using Google search. It can be invoked when the AI needs to answer a question or provide information that requires up-to-date, comprehensive, and diverse sources which are not inherently known by the AI. For instance, it can be used to find current news, weather updates, latest sports scores, trending topics, specific facts, or even the current date and time. The usage of this tool should be considered when the user's query implies or explicitly requests recent or wide-ranging data, or when the AI's inherent knowledge base may not have the required or most current information. The 'search_query' parameter should be a concise and accurate representation of the information needed.\", 'ToolApiUrl': None, 'ToolApiKey': None, 'ToolParameters': [{'Id': '00000000-0000-0000-0000-000000000001', 'ToolId': '00000000-0000-0000-0000-000000000001', 'ParamOrder': 0, 'ParamName': 'search_query', 'ParamType': 'string', 'ParamDescription': \"The search query to search google with. For example, to find the current date or time, use 'current date' or 'current time' respectively.\"}]}, {'Id': '08099a97-6b00-4bcb-be27-13c787128a38', 'CreatorId': '00000000-0000-0000-0000-000000000000', 'UsageType': 'private', 'ToolPrompt': '', 'ToolName': 'text_20241022101034', 'ToolDesc': \"\\nThe 'text' function is the default catch-all function returned when none of the other tools are applicable.\\n        \", 'ToolApiUrl': None, 'ToolApiKey': None, 'ToolParameters': [{'Id': '00000000-0000-0000-0000-000000000000', 'ToolId': '00000000-0000-0000-0000-000000000000', 'ParamOrder': 0, 'ParamName': 'text_string', 'ParamType': 'string', 'ParamDescription': 'Text response.'}]}]\n"
     ]
    }
   ],
   "source": [
    "import httpx\n",
    "url = \"http://localhost:12033/api/v1/persona/tools/readable/00000000-0000-0000-0000-000000000000\"\n",
    "\n",
    "async with httpx.AsyncClient() as client:\n",
    "    response = await client.get(url)\n",
    "    if response.status_code == 200:\n",
    "        response_json=response.json()\n",
    "        print(response_json)\n",
    "    else:\n",
    "        print(f\"Error: {response.status_code}\")\n"
   ]
  },
  {
   "cell_type": "markdown",
   "metadata": {},
   "source": [
    "### Duplicate Tool"
   ]
  },
  {
   "cell_type": "code",
   "execution_count": 2,
   "metadata": {},
   "outputs": [
    {
     "name": "stdout",
     "output_type": "stream",
     "text": [
      "29fb8d0b-cdea-421f-bb99-67d462eb7b8c\n"
     ]
    }
   ],
   "source": [
    "import httpx\n",
    "url = \"http://localhost:12033/api/v1/persona/tool/duplicate/00000000-0000-0000-0000-000000000000\"\n",
    "\n",
    "async with httpx.AsyncClient() as client:\n",
    "    response = await client.post(url)\n",
    "    if response.status_code == 200:\n",
    "        response_json=response.json()\n",
    "        print(response_json)\n",
    "    else:\n",
    "        print(f\"Error: {response.status_code}\")\n"
   ]
  }
 ],
 "metadata": {
  "kernelspec": {
   "display_name": ".venv",
   "language": "python",
   "name": "python3"
  },
  "language_info": {
   "codemirror_mode": {
    "name": "ipython",
    "version": 3
   },
   "file_extension": ".py",
   "mimetype": "text/x-python",
   "name": "python",
   "nbconvert_exporter": "python",
   "pygments_lexer": "ipython3",
   "version": "3.10.12"
  }
 },
 "nbformat": 4,
 "nbformat_minor": 2
}
