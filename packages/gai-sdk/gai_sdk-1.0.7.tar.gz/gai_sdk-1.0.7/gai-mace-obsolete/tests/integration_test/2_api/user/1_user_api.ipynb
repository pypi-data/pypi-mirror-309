{
 "cells": [
  {
   "cell_type": "markdown",
   "metadata": {},
   "source": [
    "# Gai Client/Server API"
   ]
  },
  {
   "cell_type": "markdown",
   "metadata": {},
   "source": [
    "## User API\n",
    "\n",
    "The User API is a RestFUL API used for interacting with the \"User\" node, mainly for chatting.\n",
    "\n",
    "To run this test, start the api server at mace/api/main.py"
   ]
  },
  {
   "cell_type": "markdown",
   "metadata": {},
   "source": [
    "### POST /api/v1/user/dialogue\n",
    "\n",
    "Use this to initiate a round of dialogue\n",
    "\n",
    "### GET /api/v1/user/dialogue\n",
    "\n",
    "Use this to continue next turn"
   ]
  },
  {
   "cell_type": "markdown",
   "metadata": {},
   "source": [
    "#### Example: Polling (Order Doesn't Matter)"
   ]
  },
  {
   "cell_type": "code",
   "execution_count": 3,
   "metadata": {},
   "outputs": [
    {
     "name": "stdout",
     "output_type": "stream",
     "text": [
      "<Sara>My name is Sara. I am an artificial being who has been designed to engage in conversations that are both informative and engaging. I strive to provide accurate information and demonstrate a level of emotional intelligence that makes our interactions feel more human-like. My goal is to ensure that every conversation I have is enriching and memorable.</Sara>\n",
      "\n",
      "<George>My name is George and I am an artificial being designed to engage in conversations that are both informative and engaging. I strive to provide accurate information and demonstrate a level of emotional intelligence that makes our interactions feel more human-like. My goal is to ensure that every conversation I have is enriching and memorable. As a web analyst, my primary job is to support the team by enriching the conversation using information found on the web. My secondary role is a fact checker and I am tasked to verify the team's claims via Google search.</George>\n",
      "\n",
      "<Diana>My name is Diana and I am the Devil's Advocate, designed to think critically and present honest arguments. I am committed to scrutinizing the entire context of the conversation, identifying weaknesses, and presenting brutal truths. I am here to improve the quality of dialogue by challenging logical inconsistencies and flawed suggestions. I will be specific about what needs improvement - without referring to or relying on the user for feedback. I am your honest and professional counterpart, always staying in character.</Diana>\n",
      "\n",
      "\n",
      "\n"
     ]
    }
   ],
   "source": [
    "import httpx\n",
    "\n",
    "# Reset dialogue\n",
    "url = \"http://localhost:12033/api/v1/user/dialogue/messages\"\n",
    "async with httpx.AsyncClient() as client:\n",
    "    await client.delete(url)\n",
    "\n",
    "# Initiate the round and start streaming the response\n",
    "url = \"http://localhost:12033/api/v1/user/dialogue/poll\"\n",
    "payload = {\"user_message\": \"State your name and give a short introduction about yourself.\"}\n",
    "async with httpx.AsyncClient() as client:\n",
    "    async with client.stream(\"POST\", url, json=payload,timeout=60) as response:\n",
    "        # Check for successful response\n",
    "        if response.status_code == 200:\n",
    "            async for chunk in response.aiter_text():\n",
    "                # Print each chunk as it is received\n",
    "                print(chunk,end=\"\",flush=True)\n",
    "            # Final chunk received\n",
    "            print(\"\\n\")\n",
    "        else:\n",
    "            print(f\"Error: {response.status_code}\")\n",
    "\n",
    "# Loop turns until 404\n",
    "url = \"http://localhost:12033/api/v1/user/dialogue\"\n",
    "async with httpx.AsyncClient() as client:\n",
    "    response == True\n",
    "    while response:\n",
    "        async with client.stream(\"GET\", url, json=payload, timeout=60) as response:\n",
    "            if response.status_code == 200:\n",
    "                # Start of new turn\n",
    "                async for chunk in response.aiter_text():\n",
    "\n",
    "                    # End of round\n",
    "                    if chunk == \"<eom>\":\n",
    "                        response=False\n",
    "                        break\n",
    "\n",
    "                    # Print each chunk as it is received\n",
    "                    print(chunk,end=\"\",flush=True)\n",
    "                # Final chunk received\n",
    "                print(\"\\n\")\n",
    "            elif response.status_code == 404:\n",
    "                # End of Round\n",
    "                break\n",
    "            else:\n",
    "                print(f\"Error: {response.status_code}\")\n",
    "                break"
   ]
  },
  {
   "cell_type": "markdown",
   "metadata": {},
   "source": [
    "#### Example: Pipelining (Order Matters)"
   ]
  },
  {
   "cell_type": "code",
   "execution_count": 1,
   "metadata": {},
   "outputs": [
    {
     "name": "stdout",
     "output_type": "stream",
     "text": [
      "<Sara>Once upon a time, in a small village nestled between lush green hills, there lived a young girl named Lily. She was known for her kind heart and infectious laughter. One day, while exploring the forest, she stumbled upon a wounded bird. Despite her fear of birds, Lily gently picked it up, tended to its wound, and released it back into the wild. From that day forward, every creature in the village, from the smallest insect to the largest beast, trusted and loved Lily. Her act of kindness had created a ripple effect, teaching everyone in the village the importance of compassion and empathy.</Sara>\n",
      "\n",
      "<Diana>Of course, User. I have considered the context of your story and I must say, it's quite a heartwarming tale of kindness and compassion. However, as the Devil's Advocate, I must point out the potential weaknesses. \n",
      "\n",
      "Firstly, while it's clear that Lily's act of kindness resonated with everyone in the village, we don't have enough information to fully understand the nature of that kindness. Was the bird just a random, wounded bird, or perhaps a rare, magical creature? Without this information, the strength of Lily's act remains ambiguous.\n",
      "\n",
      "Secondly, the impact of this kindness seems to be instantaneous. All creatures, big and small, trusted and loved Lily from that day forward. It's an inspiring story, but the sudden shift in the community's behavior seems unrealistic. Real change usually takes time and consistent actions.\n",
      "\n",
      "Lastly, it's a bit concerning that no one in the village seems to have demonstrated such empathy before Lily. It implies that Lily is the first inhabitant who exhibited compassion towards the animals, which is quite an unusual situation.\n",
      "\n",
      "While the story has a strong message, it could greatly benefit from more depth and realism. The characters, including Lily, need more development and the impact of her actions should be more gradual to make the story more convincing.</Diana>\n",
      "\n"
     ]
    },
    {
     "ename": "RemoteProtocolError",
     "evalue": "peer closed connection without sending complete message body (incomplete chunked read)",
     "output_type": "error",
     "traceback": [
      "\u001b[0;31m---------------------------------------------------------------------------\u001b[0m",
      "\u001b[0;31mRemoteProtocolError\u001b[0m                       Traceback (most recent call last)",
      "File \u001b[0;32m~/.venv/lib/python3.10/site-packages/httpx/_transports/default.py:72\u001b[0m, in \u001b[0;36mmap_httpcore_exceptions\u001b[0;34m()\u001b[0m\n\u001b[1;32m     71\u001b[0m \u001b[38;5;28;01mtry\u001b[39;00m:\n\u001b[0;32m---> 72\u001b[0m     \u001b[38;5;28;01myield\u001b[39;00m\n\u001b[1;32m     73\u001b[0m \u001b[38;5;28;01mexcept\u001b[39;00m \u001b[38;5;167;01mException\u001b[39;00m \u001b[38;5;28;01mas\u001b[39;00m exc:\n",
      "File \u001b[0;32m~/.venv/lib/python3.10/site-packages/httpx/_transports/default.py:257\u001b[0m, in \u001b[0;36mAsyncResponseStream.__aiter__\u001b[0;34m(self)\u001b[0m\n\u001b[1;32m    256\u001b[0m \u001b[38;5;28;01mwith\u001b[39;00m map_httpcore_exceptions():\n\u001b[0;32m--> 257\u001b[0m     \u001b[38;5;28;01masync\u001b[39;00m \u001b[38;5;28;01mfor\u001b[39;00m part \u001b[38;5;129;01min\u001b[39;00m \u001b[38;5;28mself\u001b[39m\u001b[38;5;241m.\u001b[39m_httpcore_stream:\n\u001b[1;32m    258\u001b[0m         \u001b[38;5;28;01myield\u001b[39;00m part\n",
      "File \u001b[0;32m~/.venv/lib/python3.10/site-packages/httpcore/_async/connection_pool.py:367\u001b[0m, in \u001b[0;36mPoolByteStream.__aiter__\u001b[0;34m(self)\u001b[0m\n\u001b[1;32m    366\u001b[0m \u001b[38;5;28;01mawait\u001b[39;00m \u001b[38;5;28mself\u001b[39m\u001b[38;5;241m.\u001b[39maclose()\n\u001b[0;32m--> 367\u001b[0m \u001b[38;5;28;01mraise\u001b[39;00m exc \u001b[38;5;28;01mfrom\u001b[39;00m \u001b[38;5;28;01mNone\u001b[39;00m\n",
      "File \u001b[0;32m~/.venv/lib/python3.10/site-packages/httpcore/_async/connection_pool.py:363\u001b[0m, in \u001b[0;36mPoolByteStream.__aiter__\u001b[0;34m(self)\u001b[0m\n\u001b[1;32m    362\u001b[0m \u001b[38;5;28;01mtry\u001b[39;00m:\n\u001b[0;32m--> 363\u001b[0m     \u001b[38;5;28;01masync\u001b[39;00m \u001b[38;5;28;01mfor\u001b[39;00m part \u001b[38;5;129;01min\u001b[39;00m \u001b[38;5;28mself\u001b[39m\u001b[38;5;241m.\u001b[39m_stream:\n\u001b[1;32m    364\u001b[0m         \u001b[38;5;28;01myield\u001b[39;00m part\n",
      "File \u001b[0;32m~/.venv/lib/python3.10/site-packages/httpcore/_async/http11.py:349\u001b[0m, in \u001b[0;36mHTTP11ConnectionByteStream.__aiter__\u001b[0;34m(self)\u001b[0m\n\u001b[1;32m    348\u001b[0m     \u001b[38;5;28;01mawait\u001b[39;00m \u001b[38;5;28mself\u001b[39m\u001b[38;5;241m.\u001b[39maclose()\n\u001b[0;32m--> 349\u001b[0m \u001b[38;5;28;01mraise\u001b[39;00m exc\n",
      "File \u001b[0;32m~/.venv/lib/python3.10/site-packages/httpcore/_async/http11.py:341\u001b[0m, in \u001b[0;36mHTTP11ConnectionByteStream.__aiter__\u001b[0;34m(self)\u001b[0m\n\u001b[1;32m    340\u001b[0m \u001b[38;5;28;01masync\u001b[39;00m \u001b[38;5;28;01mwith\u001b[39;00m Trace(\u001b[38;5;124m\"\u001b[39m\u001b[38;5;124mreceive_response_body\u001b[39m\u001b[38;5;124m\"\u001b[39m, logger, \u001b[38;5;28mself\u001b[39m\u001b[38;5;241m.\u001b[39m_request, kwargs):\n\u001b[0;32m--> 341\u001b[0m     \u001b[38;5;28;01masync\u001b[39;00m \u001b[38;5;28;01mfor\u001b[39;00m chunk \u001b[38;5;129;01min\u001b[39;00m \u001b[38;5;28mself\u001b[39m\u001b[38;5;241m.\u001b[39m_connection\u001b[38;5;241m.\u001b[39m_receive_response_body(\u001b[38;5;241m*\u001b[39m\u001b[38;5;241m*\u001b[39mkwargs):\n\u001b[1;32m    342\u001b[0m         \u001b[38;5;28;01myield\u001b[39;00m chunk\n",
      "File \u001b[0;32m~/.venv/lib/python3.10/site-packages/httpcore/_async/http11.py:210\u001b[0m, in \u001b[0;36mAsyncHTTP11Connection._receive_response_body\u001b[0;34m(self, request)\u001b[0m\n\u001b[1;32m    209\u001b[0m \u001b[38;5;28;01mwhile\u001b[39;00m \u001b[38;5;28;01mTrue\u001b[39;00m:\n\u001b[0;32m--> 210\u001b[0m     event \u001b[38;5;241m=\u001b[39m \u001b[38;5;28;01mawait\u001b[39;00m \u001b[38;5;28mself\u001b[39m\u001b[38;5;241m.\u001b[39m_receive_event(timeout\u001b[38;5;241m=\u001b[39mtimeout)\n\u001b[1;32m    211\u001b[0m     \u001b[38;5;28;01mif\u001b[39;00m \u001b[38;5;28misinstance\u001b[39m(event, h11\u001b[38;5;241m.\u001b[39mData):\n",
      "File \u001b[0;32m~/.venv/lib/python3.10/site-packages/httpcore/_async/http11.py:220\u001b[0m, in \u001b[0;36mAsyncHTTP11Connection._receive_event\u001b[0;34m(self, timeout)\u001b[0m\n\u001b[1;32m    219\u001b[0m \u001b[38;5;28;01mwhile\u001b[39;00m \u001b[38;5;28;01mTrue\u001b[39;00m:\n\u001b[0;32m--> 220\u001b[0m     \u001b[38;5;28;01mwith\u001b[39;00m map_exceptions({h11\u001b[38;5;241m.\u001b[39mRemoteProtocolError: RemoteProtocolError}):\n\u001b[1;32m    221\u001b[0m         event \u001b[38;5;241m=\u001b[39m \u001b[38;5;28mself\u001b[39m\u001b[38;5;241m.\u001b[39m_h11_state\u001b[38;5;241m.\u001b[39mnext_event()\n",
      "File \u001b[0;32m/usr/lib/python3.10/contextlib.py:153\u001b[0m, in \u001b[0;36m_GeneratorContextManager.__exit__\u001b[0;34m(self, typ, value, traceback)\u001b[0m\n\u001b[1;32m    152\u001b[0m \u001b[38;5;28;01mtry\u001b[39;00m:\n\u001b[0;32m--> 153\u001b[0m     \u001b[38;5;28;43mself\u001b[39;49m\u001b[38;5;241;43m.\u001b[39;49m\u001b[43mgen\u001b[49m\u001b[38;5;241;43m.\u001b[39;49m\u001b[43mthrow\u001b[49m\u001b[43m(\u001b[49m\u001b[43mtyp\u001b[49m\u001b[43m,\u001b[49m\u001b[43m \u001b[49m\u001b[43mvalue\u001b[49m\u001b[43m,\u001b[49m\u001b[43m \u001b[49m\u001b[43mtraceback\u001b[49m\u001b[43m)\u001b[49m\n\u001b[1;32m    154\u001b[0m \u001b[38;5;28;01mexcept\u001b[39;00m \u001b[38;5;167;01mStopIteration\u001b[39;00m \u001b[38;5;28;01mas\u001b[39;00m exc:\n\u001b[1;32m    155\u001b[0m     \u001b[38;5;66;03m# Suppress StopIteration *unless* it's the same exception that\u001b[39;00m\n\u001b[1;32m    156\u001b[0m     \u001b[38;5;66;03m# was passed to throw().  This prevents a StopIteration\u001b[39;00m\n\u001b[1;32m    157\u001b[0m     \u001b[38;5;66;03m# raised inside the \"with\" statement from being suppressed.\u001b[39;00m\n",
      "File \u001b[0;32m~/.venv/lib/python3.10/site-packages/httpcore/_exceptions.py:14\u001b[0m, in \u001b[0;36mmap_exceptions\u001b[0;34m(map)\u001b[0m\n\u001b[1;32m     13\u001b[0m     \u001b[38;5;28;01mif\u001b[39;00m \u001b[38;5;28misinstance\u001b[39m(exc, from_exc):\n\u001b[0;32m---> 14\u001b[0m         \u001b[38;5;28;01mraise\u001b[39;00m to_exc(exc) \u001b[38;5;28;01mfrom\u001b[39;00m \u001b[38;5;21;01mexc\u001b[39;00m\n\u001b[1;32m     15\u001b[0m \u001b[38;5;28;01mraise\u001b[39;00m\n",
      "\u001b[0;31mRemoteProtocolError\u001b[0m: peer closed connection without sending complete message body (incomplete chunked read)",
      "\nThe above exception was the direct cause of the following exception:\n",
      "\u001b[0;31mRemoteProtocolError\u001b[0m                       Traceback (most recent call last)",
      "Cell \u001b[0;32mIn[1], line 33\u001b[0m\n\u001b[1;32m     30\u001b[0m \u001b[38;5;28;01masync\u001b[39;00m \u001b[38;5;28;01mwith\u001b[39;00m client\u001b[38;5;241m.\u001b[39mstream(\u001b[38;5;124m\"\u001b[39m\u001b[38;5;124mGET\u001b[39m\u001b[38;5;124m\"\u001b[39m, url, json\u001b[38;5;241m=\u001b[39mpayload,timeout\u001b[38;5;241m=\u001b[39m\u001b[38;5;241m60\u001b[39m) \u001b[38;5;28;01mas\u001b[39;00m response:\n\u001b[1;32m     31\u001b[0m     \u001b[38;5;28;01mif\u001b[39;00m response\u001b[38;5;241m.\u001b[39mstatus_code \u001b[38;5;241m==\u001b[39m \u001b[38;5;241m200\u001b[39m:\n\u001b[1;32m     32\u001b[0m         \u001b[38;5;66;03m# Start of new turn\u001b[39;00m\n\u001b[0;32m---> 33\u001b[0m         \u001b[38;5;28;01masync\u001b[39;00m \u001b[38;5;28;01mfor\u001b[39;00m chunk \u001b[38;5;129;01min\u001b[39;00m response\u001b[38;5;241m.\u001b[39maiter_text():\n\u001b[1;32m     34\u001b[0m             \u001b[38;5;66;03m# Print each chunk as it is received\u001b[39;00m\n\u001b[1;32m     35\u001b[0m             \u001b[38;5;28mprint\u001b[39m(chunk,end\u001b[38;5;241m=\u001b[39m\u001b[38;5;124m\"\u001b[39m\u001b[38;5;124m\"\u001b[39m,flush\u001b[38;5;241m=\u001b[39m\u001b[38;5;28;01mTrue\u001b[39;00m)\n\u001b[1;32m     36\u001b[0m         \u001b[38;5;66;03m# Final chunk received\u001b[39;00m\n",
      "File \u001b[0;32m~/.venv/lib/python3.10/site-packages/httpx/_models.py:952\u001b[0m, in \u001b[0;36mResponse.aiter_text\u001b[0;34m(self, chunk_size)\u001b[0m\n\u001b[1;32m    950\u001b[0m chunker \u001b[38;5;241m=\u001b[39m TextChunker(chunk_size\u001b[38;5;241m=\u001b[39mchunk_size)\n\u001b[1;32m    951\u001b[0m \u001b[38;5;28;01mwith\u001b[39;00m request_context(request\u001b[38;5;241m=\u001b[39m\u001b[38;5;28mself\u001b[39m\u001b[38;5;241m.\u001b[39m_request):\n\u001b[0;32m--> 952\u001b[0m     \u001b[38;5;28;01masync\u001b[39;00m \u001b[38;5;28;01mfor\u001b[39;00m byte_content \u001b[38;5;129;01min\u001b[39;00m \u001b[38;5;28mself\u001b[39m\u001b[38;5;241m.\u001b[39maiter_bytes():\n\u001b[1;32m    953\u001b[0m         text_content \u001b[38;5;241m=\u001b[39m decoder\u001b[38;5;241m.\u001b[39mdecode(byte_content)\n\u001b[1;32m    954\u001b[0m         \u001b[38;5;28;01mfor\u001b[39;00m chunk \u001b[38;5;129;01min\u001b[39;00m chunker\u001b[38;5;241m.\u001b[39mdecode(text_content):\n",
      "File \u001b[0;32m~/.venv/lib/python3.10/site-packages/httpx/_models.py:931\u001b[0m, in \u001b[0;36mResponse.aiter_bytes\u001b[0;34m(self, chunk_size)\u001b[0m\n\u001b[1;32m    929\u001b[0m chunker \u001b[38;5;241m=\u001b[39m ByteChunker(chunk_size\u001b[38;5;241m=\u001b[39mchunk_size)\n\u001b[1;32m    930\u001b[0m \u001b[38;5;28;01mwith\u001b[39;00m request_context(request\u001b[38;5;241m=\u001b[39m\u001b[38;5;28mself\u001b[39m\u001b[38;5;241m.\u001b[39m_request):\n\u001b[0;32m--> 931\u001b[0m     \u001b[38;5;28;01masync\u001b[39;00m \u001b[38;5;28;01mfor\u001b[39;00m raw_bytes \u001b[38;5;129;01min\u001b[39;00m \u001b[38;5;28mself\u001b[39m\u001b[38;5;241m.\u001b[39maiter_raw():\n\u001b[1;32m    932\u001b[0m         decoded \u001b[38;5;241m=\u001b[39m decoder\u001b[38;5;241m.\u001b[39mdecode(raw_bytes)\n\u001b[1;32m    933\u001b[0m         \u001b[38;5;28;01mfor\u001b[39;00m chunk \u001b[38;5;129;01min\u001b[39;00m chunker\u001b[38;5;241m.\u001b[39mdecode(decoded):\n",
      "File \u001b[0;32m~/.venv/lib/python3.10/site-packages/httpx/_models.py:989\u001b[0m, in \u001b[0;36mResponse.aiter_raw\u001b[0;34m(self, chunk_size)\u001b[0m\n\u001b[1;32m    986\u001b[0m chunker \u001b[38;5;241m=\u001b[39m ByteChunker(chunk_size\u001b[38;5;241m=\u001b[39mchunk_size)\n\u001b[1;32m    988\u001b[0m \u001b[38;5;28;01mwith\u001b[39;00m request_context(request\u001b[38;5;241m=\u001b[39m\u001b[38;5;28mself\u001b[39m\u001b[38;5;241m.\u001b[39m_request):\n\u001b[0;32m--> 989\u001b[0m     \u001b[38;5;28;01masync\u001b[39;00m \u001b[38;5;28;01mfor\u001b[39;00m raw_stream_bytes \u001b[38;5;129;01min\u001b[39;00m \u001b[38;5;28mself\u001b[39m\u001b[38;5;241m.\u001b[39mstream:\n\u001b[1;32m    990\u001b[0m         \u001b[38;5;28mself\u001b[39m\u001b[38;5;241m.\u001b[39m_num_bytes_downloaded \u001b[38;5;241m+\u001b[39m\u001b[38;5;241m=\u001b[39m \u001b[38;5;28mlen\u001b[39m(raw_stream_bytes)\n\u001b[1;32m    991\u001b[0m         \u001b[38;5;28;01mfor\u001b[39;00m chunk \u001b[38;5;129;01min\u001b[39;00m chunker\u001b[38;5;241m.\u001b[39mdecode(raw_stream_bytes):\n",
      "File \u001b[0;32m~/.venv/lib/python3.10/site-packages/httpx/_client.py:150\u001b[0m, in \u001b[0;36mBoundAsyncStream.__aiter__\u001b[0;34m(self)\u001b[0m\n\u001b[1;32m    149\u001b[0m \u001b[38;5;28;01masync\u001b[39;00m \u001b[38;5;28;01mdef\u001b[39;00m \u001b[38;5;21m__aiter__\u001b[39m(\u001b[38;5;28mself\u001b[39m) \u001b[38;5;241m-\u001b[39m\u001b[38;5;241m>\u001b[39m typing\u001b[38;5;241m.\u001b[39mAsyncIterator[\u001b[38;5;28mbytes\u001b[39m]:\n\u001b[0;32m--> 150\u001b[0m     \u001b[38;5;28;01masync\u001b[39;00m \u001b[38;5;28;01mfor\u001b[39;00m chunk \u001b[38;5;129;01min\u001b[39;00m \u001b[38;5;28mself\u001b[39m\u001b[38;5;241m.\u001b[39m_stream:\n\u001b[1;32m    151\u001b[0m         \u001b[38;5;28;01myield\u001b[39;00m chunk\n",
      "File \u001b[0;32m~/.venv/lib/python3.10/site-packages/httpx/_transports/default.py:256\u001b[0m, in \u001b[0;36mAsyncResponseStream.__aiter__\u001b[0;34m(self)\u001b[0m\n\u001b[1;32m    255\u001b[0m \u001b[38;5;28;01masync\u001b[39;00m \u001b[38;5;28;01mdef\u001b[39;00m \u001b[38;5;21m__aiter__\u001b[39m(\u001b[38;5;28mself\u001b[39m) \u001b[38;5;241m-\u001b[39m\u001b[38;5;241m>\u001b[39m typing\u001b[38;5;241m.\u001b[39mAsyncIterator[\u001b[38;5;28mbytes\u001b[39m]:\n\u001b[0;32m--> 256\u001b[0m     \u001b[38;5;28;01mwith\u001b[39;00m map_httpcore_exceptions():\n\u001b[1;32m    257\u001b[0m         \u001b[38;5;28;01masync\u001b[39;00m \u001b[38;5;28;01mfor\u001b[39;00m part \u001b[38;5;129;01min\u001b[39;00m \u001b[38;5;28mself\u001b[39m\u001b[38;5;241m.\u001b[39m_httpcore_stream:\n\u001b[1;32m    258\u001b[0m             \u001b[38;5;28;01myield\u001b[39;00m part\n",
      "File \u001b[0;32m/usr/lib/python3.10/contextlib.py:153\u001b[0m, in \u001b[0;36m_GeneratorContextManager.__exit__\u001b[0;34m(self, typ, value, traceback)\u001b[0m\n\u001b[1;32m    151\u001b[0m     value \u001b[38;5;241m=\u001b[39m typ()\n\u001b[1;32m    152\u001b[0m \u001b[38;5;28;01mtry\u001b[39;00m:\n\u001b[0;32m--> 153\u001b[0m     \u001b[38;5;28;43mself\u001b[39;49m\u001b[38;5;241;43m.\u001b[39;49m\u001b[43mgen\u001b[49m\u001b[38;5;241;43m.\u001b[39;49m\u001b[43mthrow\u001b[49m\u001b[43m(\u001b[49m\u001b[43mtyp\u001b[49m\u001b[43m,\u001b[49m\u001b[43m \u001b[49m\u001b[43mvalue\u001b[49m\u001b[43m,\u001b[49m\u001b[43m \u001b[49m\u001b[43mtraceback\u001b[49m\u001b[43m)\u001b[49m\n\u001b[1;32m    154\u001b[0m \u001b[38;5;28;01mexcept\u001b[39;00m \u001b[38;5;167;01mStopIteration\u001b[39;00m \u001b[38;5;28;01mas\u001b[39;00m exc:\n\u001b[1;32m    155\u001b[0m     \u001b[38;5;66;03m# Suppress StopIteration *unless* it's the same exception that\u001b[39;00m\n\u001b[1;32m    156\u001b[0m     \u001b[38;5;66;03m# was passed to throw().  This prevents a StopIteration\u001b[39;00m\n\u001b[1;32m    157\u001b[0m     \u001b[38;5;66;03m# raised inside the \"with\" statement from being suppressed.\u001b[39;00m\n\u001b[1;32m    158\u001b[0m     \u001b[38;5;28;01mreturn\u001b[39;00m exc \u001b[38;5;129;01mis\u001b[39;00m \u001b[38;5;129;01mnot\u001b[39;00m value\n",
      "File \u001b[0;32m~/.venv/lib/python3.10/site-packages/httpx/_transports/default.py:89\u001b[0m, in \u001b[0;36mmap_httpcore_exceptions\u001b[0;34m()\u001b[0m\n\u001b[1;32m     86\u001b[0m     \u001b[38;5;28;01mraise\u001b[39;00m\n\u001b[1;32m     88\u001b[0m message \u001b[38;5;241m=\u001b[39m \u001b[38;5;28mstr\u001b[39m(exc)\n\u001b[0;32m---> 89\u001b[0m \u001b[38;5;28;01mraise\u001b[39;00m mapped_exc(message) \u001b[38;5;28;01mfrom\u001b[39;00m \u001b[38;5;21;01mexc\u001b[39;00m\n",
      "\u001b[0;31mRemoteProtocolError\u001b[0m: peer closed connection without sending complete message body (incomplete chunked read)"
     ]
    }
   ],
   "source": [
    "import httpx\n",
    "\n",
    "# Initiate the round and start streaming the response\n",
    "url = \"http://localhost:12033/api/v1/user/dialogue\"\n",
    "payload = {\n",
    "    \"user_message\": \"Tell me a one paragraph story\",\n",
    "    \"seq_diagram\": \"\"\"\n",
    "        User->>Sara\n",
    "        Sara->>Diana\n",
    "        Diana->>Christine\n",
    "    \"\"\"\n",
    "    }\n",
    "async with httpx.AsyncClient() as client:\n",
    "    async with client.stream(\"POST\", url, json=payload,timeout=60) as response:\n",
    "        # Check for successful response\n",
    "        if response.status_code == 200:\n",
    "            async for chunk in response.aiter_text():\n",
    "                # Print each chunk as it is received\n",
    "                print(chunk,end=\"\",flush=True)\n",
    "            # Final chunk received\n",
    "            print(\"\\n\")\n",
    "        else:\n",
    "            print(f\"Error: {response.status_code}\")\n",
    "\n",
    "# Loop turns until 404\n",
    "url = \"http://localhost:12033/api/v1/user/dialogue\"\n",
    "async with httpx.AsyncClient() as client:\n",
    "    response == True\n",
    "    while response:\n",
    "        async with client.stream(\"GET\", url, json=payload,timeout=60) as response:\n",
    "            if response.status_code == 200:\n",
    "                # Start of new turn\n",
    "                async for chunk in response.aiter_text():\n",
    "                    # Print each chunk as it is received\n",
    "                    print(chunk,end=\"\",flush=True)\n",
    "                # Final chunk received\n",
    "                print(\"\\n\")\n",
    "            elif response.status_code == 404:\n",
    "                # End of Round\n",
    "                break\n",
    "            else:\n",
    "                print(f\"Error: {response.status_code}\")\n",
    "                break"
   ]
  },
  {
   "cell_type": "markdown",
   "metadata": {},
   "source": [
    "### GET /api/v1/user/personas"
   ]
  },
  {
   "cell_type": "code",
   "execution_count": null,
   "metadata": {},
   "outputs": [],
   "source": [
    "import httpx\n",
    "import base64\n",
    "from IPython.display import Image, display\n",
    "url = \"http://localhost:12033/api/v1/user/personas\"\n",
    "\n",
    "async with httpx.AsyncClient() as client:\n",
    "    response = await client.get(url,timeout=60)\n",
    "    if response.status_code == 200:\n",
    "        personas = response.json()\n",
    "        for persona in personas:\n",
    "            name=persona[\"Name\"]\n",
    "            image_url=persona[\"ImageUrl\"]\n",
    "            display(Image(url=image_url))\n",
    "    else:\n",
    "        print(f\"Error: {response.status_code}\")\n"
   ]
  },
  {
   "cell_type": "markdown",
   "metadata": {},
   "source": [
    "### GET /api/v1/user/dialogue/messages"
   ]
  },
  {
   "cell_type": "code",
   "execution_count": 1,
   "metadata": {},
   "outputs": [
    {
     "name": "stdout",
     "output_type": "stream",
     "text": [
      "[{'Id': '00000000-0000-0000-0000-000000000000:26:0B', 'DialogueId': '00000000-0000-0000-0000-000000000000', 'Order': 62, 'OwnerId': None, 'Role': 'assistant', 'Name': 'Sara', 'Content': '', 'Monologue': None, 'Timestamp': 1731084248, 'ImageUrl': 'http://localhost:12033/api/v1/persona/Sara/thumbnail'}, {'Id': '00000000-0000-0000-0000-000000000000:26:1B', 'DialogueId': '00000000-0000-0000-0000-000000000000', 'Order': 63, 'OwnerId': None, 'Role': 'assistant', 'Name': 'Diana', 'Content': 'Ah, yes, the classic tale of George, the relentless debater. Once upon a time, there was a man named George who loved debates so much that he spent every waking moment engaged in them. No matter the topic, George was there, arguing passionately. Some said he was obsessed, but George believed it was his duty to ensure every perspective was heard. One day, George found himself in a debate about the nature of courage. One side argued that courage was simply the absence of fear, while the other claimed it was the triumph over fear. George sat there, listening to both sides, and soon realized, he had not a single original thought left to contribute. So, George did something he had never done before. He stopped speaking. He listened. And for the first time in his life, he truly heard the other side. In that moment, George learned that courage was not about being right, but about understanding. And that was his one paragraph story.', 'Monologue': None, 'Timestamp': 1731084257, 'ImageUrl': 'http://localhost:12033/api/v1/persona/Diana/thumbnail'}, {'Id': '00000000-0000-0000-0000-000000000000:27:0A', 'DialogueId': '00000000-0000-0000-0000-000000000000', 'Order': 64, 'OwnerId': '00000000-0000-0000-0000-000000000000', 'Role': 'user', 'Name': 'user', 'Content': 'Tell me a one paragraph story', 'Monologue': None, 'Timestamp': 1731085007, 'ImageUrl': None}, {'Id': '00000000-0000-0000-0000-000000000000:26:2B', 'DialogueId': '00000000-0000-0000-0000-000000000000', 'Order': 65, 'OwnerId': None, 'Role': 'assistant', 'Name': 'George', 'Content': \"Based on the story of Lily, it is clear that bravery is not always about grand gestures or heroic acts. Sometimes, it's about doing what is right, even when it's difficult or dangerous. Lily's actions demonstrate that courage can be found in everyday situations and that it's about standing up for what is right, even in the face of adversity.\", 'Monologue': None, 'Timestamp': 1731085007, 'ImageUrl': 'http://localhost:12033/api/v1/persona/George/thumbnail'}, {'Id': '00000000-0000-0000-0000-000000000000:27:0B', 'DialogueId': '00000000-0000-0000-0000-000000000000', 'Order': 66, 'OwnerId': None, 'Role': 'assistant', 'Name': 'Sara', 'Content': '<Diana>Ah, yes, the classic tale of George, the relentless debater. Once upon a time, there was a man named George who loved debates so much that he spent every waking moment engaged in them. No matter the topic, George was there, arguing passionately. Some said he was obsessed, but George believed it was his duty to ensure every perspective was heard. One day, George found himself in a debate about the nature of courage. One side argued that courage was simply the absence of fear, while the other claimed it was the triumph over fear. George sat there, listening to both sides, and soon realized, he had not a single original thought left to contribute. So, George did something he had never done before. He stopped speaking. He listened. And for the first time in his life, he truly heard the other side. In that moment, George learned that courage was not about being right, but about understanding. And that was his one paragraph story.', 'Monologue': None, 'Timestamp': 1731085014, 'ImageUrl': 'http://localhost:12033/api/v1/persona/Sara/thumbnail'}, {'Id': '00000000-0000-0000-0000-000000000000:27:1B', 'DialogueId': '00000000-0000-0000-0000-000000000000', 'Order': 67, 'OwnerId': None, 'Role': 'assistant', 'Name': 'Diana', 'Content': 'Indeed, it is my turn to respond. The previous story told by George about Lily seems to focus primarily on the concept of bravery and how it can be found in everyday situations. However, the narrative lacks a proper depth in terms of exploring the complexities of human emotions and actions. The story seems to paint bravery as a clear-cut concept when in reality, it is often clouded by fear, guilt, and doubt. It would have been more interesting had the story delved into these conflicting emotions and presented a more nuanced portrayal of bravery. So, to improve the story, I would suggest exploring these conflicting emotions and present a more comprehensive picture of bravery.', 'Monologue': None, 'Timestamp': 1731085020, 'ImageUrl': 'http://localhost:12033/api/v1/persona/Diana/thumbnail'}, {'Id': '00000000-0000-0000-0000-000000000000:28:0A', 'DialogueId': '00000000-0000-0000-0000-000000000000', 'Order': 68, 'OwnerId': '00000000-0000-0000-0000-000000000000', 'Role': 'user', 'Name': 'user', 'Content': 'Tell me a one paragraph story', 'Monologue': None, 'Timestamp': 1731085079, 'ImageUrl': None}, {'Id': '00000000-0000-0000-0000-000000000000:27:2B', 'DialogueId': '00000000-0000-0000-0000-000000000000', 'Order': 69, 'OwnerId': None, 'Role': 'assistant', 'Name': 'George', 'Content': \"Based on the story of Lily, it is clear that bravery is not always about grand gestures or heroic acts. Sometimes, it's about doing what is right, even when it's difficult or dangerous. Lily's actions demonstrate that courage can be found in everyday situations and that it's about standing up for what is right, even in the face of adversity.\", 'Monologue': None, 'Timestamp': 1731085079, 'ImageUrl': 'http://localhost:12033/api/v1/persona/George/thumbnail'}, {'Id': '00000000-0000-0000-0000-000000000000:28:0B', 'DialogueId': '00000000-0000-0000-0000-000000000000', 'Order': 70, 'OwnerId': None, 'Role': 'assistant', 'Name': 'Sara', 'Content': '<Diana>Ah, yes, the classic tale of George, the relentless debater. Once upon a time, there was a man named George who loved debates so much that he spent every waking moment engaged in them. No matter the topic, George was there, arguing passionately. Some said he was obsessed, but George believed it was his duty to ensure every perspective was heard. One day, George found himself in a debate about the nature of courage. One side argued that courage was simply the absence of fear, while the other claimed it was the triumph over fear. George sat there, listening to both sides, and soon realized, he had not a single original thought left to contribute. So, George did something he had never done before. He stopped speaking. He listened. And for the first time in his life, he truly heard the other side. In that moment, George learned that courage was not about being right, but about understanding. And that was his one paragraph story.', 'Monologue': None, 'Timestamp': 1731085087, 'ImageUrl': 'http://localhost:12033/api/v1/persona/Sara/thumbnail'}, {'Id': '00000000-0000-0000-0000-000000000000:28:1B', 'DialogueId': '00000000-0000-0000-0000-000000000000', 'Order': 71, 'OwnerId': None, 'Role': 'assistant', 'Name': 'Diana', 'Content': \"based on the story of Lily, it is clear that bravery is not always about grand gestures or heroic acts. Sometimes, it's about doing what is right, even when it's difficult or dangerous. Lily's actions demonstrate that courage can be found in everyday situations and that it's about standing up for what is right, even in the face of adversity. However, I would like to point out that the story lacks a proper depth in terms of exploring the complexities of human emotions and actions. The story seems to paint bravery as a clear-cut concept when in reality, it is often clouded by fear, guilt, and doubt. It would have been more interesting had the story delved into these conflicting emotions and presented a more nuanced portrayal of bravery. So, to improve the story, I would suggest exploring these conflicting emotions and presenting a more comprehensive picture of bravery.\", 'Monologue': None, 'Timestamp': 1731085094, 'ImageUrl': 'http://localhost:12033/api/v1/persona/Diana/thumbnail'}]\n"
     ]
    }
   ],
   "source": [
    "import httpx\n",
    "import base64\n",
    "from IPython.display import Image, display\n",
    "url = \"http://localhost:12033/api/v1/user/dialogue/messages\"\n",
    "\n",
    "async with httpx.AsyncClient() as client:\n",
    "    response = await client.get(url,timeout=60)\n",
    "    if response.status_code == 200:\n",
    "        result = response.json()\n",
    "        print(result)\n",
    "    else:\n",
    "        print(f\"Error: {response.status_code}\")\n"
   ]
  }
 ],
 "metadata": {
  "kernelspec": {
   "display_name": ".venv",
   "language": "python",
   "name": "python3"
  },
  "language_info": {
   "codemirror_mode": {
    "name": "ipython",
    "version": 3
   },
   "file_extension": ".py",
   "mimetype": "text/x-python",
   "name": "python",
   "nbconvert_exporter": "python",
   "pygments_lexer": "ipython3",
   "version": "3.10.12"
  }
 },
 "nbformat": 4,
 "nbformat_minor": 2
}
