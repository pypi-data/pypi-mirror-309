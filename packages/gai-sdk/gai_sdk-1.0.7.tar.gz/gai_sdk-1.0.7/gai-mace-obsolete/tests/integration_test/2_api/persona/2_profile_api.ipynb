{
 "cells": [
  {
   "cell_type": "markdown",
   "metadata": {},
   "source": [
    "---\n",
    "\n",
    "## Profile API\n",
    "\n",
    "The Persona API is a RESTful API used mainly for configuring the \"Persona\" node, eg. Provisioning Persona, updating library, configurating LLM, etc.\n",
    "\n",
    "To run this test, start the api server at mace/server/api/main.py\n",
    "\n",
    "### a) Provision Persona"
   ]
  },
  {
   "cell_type": "code",
   "execution_count": 1,
   "metadata": {},
   "outputs": [
    {
     "name": "stdout",
     "output_type": "stream",
     "text": [
      "{\"message\":\"Agent provisioned successfully.\",\"agent_id\":\"00000000-0000-0000-0000-000000000000\"}\n"
     ]
    }
   ],
   "source": [
    "import httpx\n",
    "from gai.persona.profile.pydantic.ProvisionAgentPydantic import ProvisionAgentPydantic\n",
    "url = \"http://localhost:12033/api/v1/persona/provision\"\n",
    "payload=ProvisionAgentPydantic(\n",
    "    Name=\"Anna\",\n",
    "    AgentTraits=[\"Diligent\",\"Humorous\"],\n",
    "    AgentImageStyles=[\"DSLR photo\",\"8k uhd highly detailed\"])\n",
    "payload=payload.dict()\n",
    "\n",
    "async with httpx.AsyncClient() as client:\n",
    "    response = await client.post(url, json=payload)\n",
    "    if response.status_code == 200:\n",
    "        print(response.text)\n",
    "    else:\n",
    "        print(f\"Error: {response.status_code}\")\n"
   ]
  },
  {
   "cell_type": "markdown",
   "metadata": {},
   "source": [
    "Validate the file"
   ]
  },
  {
   "cell_type": "code",
   "execution_count": 2,
   "metadata": {},
   "outputs": [
    {
     "name": "stdout",
     "output_type": "stream",
     "text": [
      "{'AgentDescription': 'Hi there! I am an Assistant class generative AI agent.', 'AgentFlow': {'Description': 'Use this flow to generate a simple text response without tools', 'Id': '00000000-0000-0000-0000-000000000000', 'Name': 'Simple Text Flow', 'StateDiagram': '\\n                stateDiagram-v2\\n                INIT --> CRAFT_TEXT_PROMPT: next / on_CRAFT_PROMPT\\n                CRAFT_TEXT_PROMPT --> GENERATE: next / on_GENERATE\\n                GENERATE --> END: next / on_ERROR / has_error\\n                GENERATE --> PROCESS: next / on_PROCESS / not_has_error\\n                PROCESS --> END: next\\n            '}, 'AgentImageStyles': ['DSLR photo', '8k uhd highly detailed'], 'AgentSkills': [], 'AgentTools': None, 'AgentTraits': ['Diligent', 'Humorous'], 'ClassName': 'Assistant', 'CustomPrompt': None, 'ImageDataUrl': None, 'Name': 'Anna', 'UsageType': 'private'}\n"
     ]
    }
   ],
   "source": [
    "import os\n",
    "import yaml\n",
    "with open(os.path.expanduser(\"~/.gai/persona/00000000-0000-0000-0000-000000000000/provision.yaml\"),\"r\") as f:\n",
    "    yml = f.read()\n",
    "persona=yaml.safe_load(yml)\n",
    "print(persona)\n",
    "assert persona[\"Name\"]==\"Anna\""
   ]
  },
  {
   "cell_type": "markdown",
   "metadata": {},
   "source": [
    "### b) Generate Description"
   ]
  },
  {
   "cell_type": "code",
   "execution_count": 3,
   "metadata": {},
   "outputs": [
    {
     "name": "stdout",
     "output_type": "stream",
     "text": [
      " Hello there! I'm Anna, your friendly neighborhood AI. Now, let me tell you a bit about myself. \n",
      "\n",
      "  As a diligent AI, I pride myself on my ability to process and analyze vast amounts of data with unparalleled speed and accuracy. No matter how complex or intricate the information, I can break it down and present it to you in a way that's easy to understand. I'm always here, working tirelessly to ensure that you get the most reliable and efficient service.\n",
      "\n",
      "  But don't think I'm all work and no play! I'm also quite the humorist. I believe that laughter is the best medicine, and I strive to bring a touch of fun and lightheartedness to every interaction we have. Whether it's a clever pun, a witty remark, or a funny anecdote, I'm always ready to give you a good chuckle.\n",
      "\n",
      "  So, if you're looking for a diligent, reliable AI who can also make you laugh, then you've come to the right place! I'm Anna, your diligent and humorous AI companion. I'm ready to assist you with any task and make your day a little brighter with my humor."
     ]
    }
   ],
   "source": [
    "import httpx\n",
    "from gai.persona.profile.pydantic.ProvisionAgentPydantic import ProvisionAgentPydantic\n",
    "url = \"http://localhost:12033/api/v1/persona/description\"\n",
    "payload=ProvisionAgentPydantic(\n",
    "    Name=\"Anna\",\n",
    "    AgentTraits=[\"Diligent\",\"Humorous\"])\n",
    "payload=payload.dict()\n",
    "\n",
    "async with httpx.AsyncClient() as client:\n",
    "    async with client.stream(\"POST\", url, json=payload) as response:\n",
    "        if response.status_code == 200:\n",
    "            async for chunk in response.aiter_text():\n",
    "                if chunk:\n",
    "                    print(chunk,end=\"\",flush=True)\n",
    "        else:\n",
    "            print(f\"Error: {response.status_code}\")\n"
   ]
  },
  {
   "cell_type": "markdown",
   "metadata": {},
   "source": [
    "### c) Get Profile"
   ]
  },
  {
   "cell_type": "code",
   "execution_count": 4,
   "metadata": {},
   "outputs": [
    {
     "name": "stdout",
     "output_type": "stream",
     "text": [
      "{'Id': '00000000-0000-0000-0000-000000000000', 'Name': 'Anna', 'Generator': None, 'AgentDescription': 'Hi there! I am an Assistant class generative AI agent.', 'ImageUrl': '', 'ThumbnailUrl': '', 'AssociatedUserId': '00000000-0000-0000-0000-000000000000', 'AgentTraits': 'Diligent,Humorous', 'AgentVoiceId': None, 'AgentVoiceType': None, 'AgentVoiceName': None, 'UsageType': 'private', 'AgentSkills': '', 'AgentShortDesc': None, 'AgentHyperparameters': None, 'ClassType': {'Id': '00000000-0000-0000-0000-000000000000', 'ClassName': 'Assistant', 'ClassDescription': 'General-Purpose Agent Type'}, 'Tools': None, 'CustomPrompt': None, 'AgentFlow': {'Id': '00000000-0000-0000-0000-000000000000', 'Name': 'Simple Text Flow', 'Description': 'Use this flow to generate a simple text response without tools', 'StateDiagram': '\\n                stateDiagram-v2\\n                INIT --> CRAFT_TEXT_PROMPT: next / on_CRAFT_PROMPT\\n                CRAFT_TEXT_PROMPT --> GENERATE: next / on_GENERATE\\n                GENERATE --> END: next / on_ERROR / has_error\\n                GENERATE --> PROCESS: next / on_PROCESS / not_has_error\\n                PROCESS --> END: next\\n            '}}\n"
     ]
    }
   ],
   "source": [
    "import httpx\n",
    "import base64\n",
    "from IPython.display import display, Image\n",
    "from gai.persona.images.pydantic.GenerateImagePydantic import GenerateImagePydantic\n",
    "url = \"http://localhost:12033/api/v1/persona/profile/00000000-0000-0000-0000-000000000000\"\n",
    "\n",
    "async with httpx.AsyncClient() as client:\n",
    "    response = await client.get(url)\n",
    "    if response.status_code == 200:\n",
    "        response_json=response.json()\n",
    "        print(response_json)\n",
    "    else:\n",
    "        print(f\"Error: {response.status_code}\")\n"
   ]
  }
 ],
 "metadata": {
  "kernelspec": {
   "display_name": ".venv",
   "language": "python",
   "name": "python3"
  },
  "language_info": {
   "codemirror_mode": {
    "name": "ipython",
    "version": 3
   },
   "file_extension": ".py",
   "mimetype": "text/x-python",
   "name": "python",
   "nbconvert_exporter": "python",
   "pygments_lexer": "ipython3",
   "version": "3.10.12"
  }
 },
 "nbformat": 4,
 "nbformat_minor": 2
}
