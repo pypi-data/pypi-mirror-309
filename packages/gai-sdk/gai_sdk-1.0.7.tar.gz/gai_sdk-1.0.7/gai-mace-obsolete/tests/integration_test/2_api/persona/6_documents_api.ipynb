{
 "cells": [
  {
   "cell_type": "markdown",
   "metadata": {},
   "source": [
    "# Documents API"
   ]
  },
  {
   "cell_type": "markdown",
   "metadata": {},
   "source": [
    "### GET /api/v1/persona/{persona_id}/documents\n",
    "\n",
    "list public documents or private documents owned by persona"
   ]
  },
  {
   "cell_type": "code",
   "execution_count": 1,
   "metadata": {},
   "outputs": [
    {
     "name": "stdout",
     "output_type": "stream",
     "text": [
      "{'detail': {'code': 'unknown_error', 'message': 'An unexpected error occurred. Please try again later.', 'id': 'f44bf83b-790b-4008-8f6b-b45ed480d693'}}\n"
     ]
    }
   ],
   "source": [
    "import httpx\n",
    "with httpx.Client() as client:\n",
    "    response = client.get('http://localhost:12033/api/v1/persona/00000000-0000-0000-0000-000000000000/documents')\n",
    "    print(response.json())\n"
   ]
  },
  {
   "cell_type": "markdown",
   "metadata": {},
   "source": [
    "### POST /api/v1/persona/{personaId}/document/step/temp\n",
    "Step 1 - Upload the agent document to a temporary directory on the API server"
   ]
  },
  {
   "cell_type": "code",
   "execution_count": 7,
   "metadata": {},
   "outputs": [
    {
     "name": "stdout",
     "output_type": "stream",
     "text": [
      "{'filename': '7020a45f-2811-404f-b782-32cc35ac63d2.txt'}\n"
     ]
    },
    {
     "data": {
      "text/plain": [
       "True"
      ]
     },
     "execution_count": 7,
     "metadata": {},
     "output_type": "execute_result"
    }
   ],
   "source": [
    "import os\n",
    "from gai.lib.common.utils import this_dir\n",
    "path = os.getcwd()\n",
    "file_path = os.path.join(path, 'where_to_find_the_best_chicken_rice_in_singapore.txt')\n",
    "with open(file_path, 'rb') as f:\n",
    "    files = {'file': (file_path,f)}\n",
    "    import httpx\n",
    "    with httpx.Client() as client:\n",
    "        response = client.post('http://localhost:12033/api/v1/persona/00000000-0000-0000-0000-000000000000/document/step/upload', \n",
    "                    files=files,\n",
    "                    timeout=3000\n",
    "                    )\n",
    "        print(response.json())\n",
    "        uploaded_file_path=response.json()[\"filename\"]\n",
    "\n",
    "# check\n",
    "os.path.exists(f\"/tmp/00000000-0000-0000-0000-000000000000/{uploaded_file_path}\")"
   ]
  },
  {
   "cell_type": "markdown",
   "metadata": {},
   "source": [
    "### POST /api/v1/persona/{persona_id}/document/step/header\n",
    "\n",
    "Step 2 - Upload to RAG server and header"
   ]
  },
  {
   "cell_type": "code",
   "execution_count": 8,
   "metadata": {},
   "outputs": [
    {
     "name": "stdout",
     "output_type": "stream",
     "text": [
      "{'documents': [{'Id': 'PPa4WO6HZIWHS4cFAWTeiAtpyA1QYHRLTNtLQyzCBHA', 'AgentId': '00000000-0000-0000-0000-000000000000', 'FileName': 'd0923ed2-c4f3-473a-8181-19f68521c760.txt', 'FileType': '.txt', 'Source': 'https://guide.michelin.com/sg/en/article/dining-out/8-michelin-listed-spots-for-chicken-rice', 'ByteSize': 13991, 'Title': '8 MICHELIN-Listed Spots For Chicken Rice', 'Abstract': None, 'Authors': None, 'Publisher': None, 'PublishedDate': None, 'Comments': None, 'Keywords': None, 'ChunkGroupId': 'ffd23115-d890-4913-81ce-feff92789b13', 'ChunkSize': 1000, 'ChunkOverlap': 100, 'ChunkCount': 23}]}\n"
     ]
    }
   ],
   "source": [
    "import httpx\n",
    "with httpx.Client() as client:\n",
    "\n",
    "    from gai.persona.docs.pydantic.FlattenedAgentDocumentPydantic import FlattenedAgentDocumentPydantic\n",
    "    data = FlattenedAgentDocumentPydantic(\n",
    "        AgentId=\"00000000-0000-0000-0000-000000000000\",\n",
    "        FileName=f\"/tmp/00000000-0000-0000-0000-000000000000/{uploaded_file_path}\",\n",
    "        Title=\"8 MICHELIN-Listed Spots For Chicken Rice\",\n",
    "        Source=\"https://guide.michelin.com/sg/en/article/dining-out/8-michelin-listed-spots-for-chicken-rice\",\n",
    "    )\n",
    "    response = client.post('http://localhost:12033/api/v1/persona/00000000-0000-0000-0000-000000000000/document/step/header', \n",
    "                json=data.dict(),\n",
    "                timeout=3000\n",
    "                )\n",
    "    doc=response.json()\n",
    "    doc_id=doc[\"Id\"]\n",
    "\n",
    "# check\n",
    "with httpx.Client() as client:\n",
    "    response = client.get(\"http://localhost:12033/api/v1/persona/00000000-0000-0000-0000-000000000000/documents\")\n",
    "    print(response.json())\n"
   ]
  },
  {
   "cell_type": "markdown",
   "metadata": {},
   "source": [
    "### POST /api/v1/persona/{persona_id}/document/step/split\n",
    "\n",
    "Split file and save chunks on RAG server"
   ]
  },
  {
   "cell_type": "code",
   "execution_count": 9,
   "metadata": {},
   "outputs": [
    {
     "name": "stdout",
     "output_type": "stream",
     "text": [
      "{'Id': '53b11f12-2a16-415a-9158-a37c2f9b278a', 'DocumentId': 'PPa4WO6HZIWHS4cFAWTeiAtpyA1QYHRLTNtLQyzCBHA', 'SplitAlgo': 'recursive_split', 'ChunkCount': 23, 'ChunkSize': 1000, 'Overlap': 100, 'IsActive': True, 'ChunksDir': '/tmp/chunks/2ad491ef31c54b0d97a41adef3d05c96'}\n"
     ]
    }
   ],
   "source": [
    "import httpx\n",
    "with httpx.Client() as client:\n",
    "    data = {\n",
    "        \"DocumentId\":doc_id,\n",
    "        \"ChunkSize\":1000,\n",
    "        \"ChunkOverlap\":100,\n",
    "    }\n",
    "    response = client.post('http://localhost:12033/api/v1/persona/00000000-0000-0000-0000-000000000000/document/step/split', \n",
    "                json=data,\n",
    "                timeout=3000\n",
    "                )\n",
    "    group_id = response.json()[\"Id\"]    \n",
    "    \n",
    "    print(response.json())"
   ]
  },
  {
   "cell_type": "markdown",
   "metadata": {},
   "source": [
    "### Test websocket connection once\n",
    "\n",
    "This is a very important step and often neglected. Fix it before moving forward."
   ]
  },
  {
   "cell_type": "code",
   "execution_count": 10,
   "metadata": {},
   "outputs": [],
   "source": [
    "from gai.lib.common.StatusListener import StatusListener\n",
    "import asyncio\n",
    "\n",
    "# Point to websocket but not connected yet.\n",
    "ws_url = \"ws://localhost:12033/api/v1/persona/00000000-0000-0000-0000-000000000000/document/step/index/ws\"\n",
    "listener = StatusListener(ws_url)\n",
    "\n",
    "# spin off a seperate task and connect to websocket\n",
    "async def async_callback(status):\n",
    "    print(status)\n",
    "listen_task=asyncio.create_task(listener.listen(async_callback))"
   ]
  },
  {
   "cell_type": "markdown",
   "metadata": {},
   "source": [
    "### /api/v1/agent/{agent_id}/document/step/index"
   ]
  },
  {
   "cell_type": "code",
   "execution_count": 11,
   "metadata": {},
   "outputs": [
    {
     "name": "stdout",
     "output_type": "stream",
     "text": [
      "async_callback: {\"progress\": 4}\n",
      "async_callback: {\"progress\": 8}\n",
      "async_callback: {\"progress\": 13}\n",
      "async_callback: {\"progress\": 17}\n",
      "async_callback: {\"progress\": 21}\n",
      "async_callback: {\"progress\": 26}\n",
      "async_callback: {\"progress\": 30}\n",
      "async_callback: {\"progress\": 34}\n",
      "async_callback: {\"progress\": 39}\n",
      "async_callback: {\"progress\": 43}\n",
      "async_callback: {\"progress\": 47}\n",
      "async_callback: {\"progress\": 52}\n",
      "async_callback: {\"progress\": 56}\n",
      "async_callback: {\"progress\": 60}\n",
      "async_callback: {\"progress\": 65}\n",
      "async_callback: {\"progress\": 69}\n",
      "async_callback: {\"progress\": 73}\n",
      "async_callback: {\"progress\": 78}\n",
      "async_callback: {\"progress\": 82}\n",
      "async_callback: {\"progress\": 86}\n",
      "async_callback: {\"progress\": 91}\n",
      "async_callback: {\"progress\": 95}\n",
      "async_callback: {\"progress\": 100}\n",
      "{'chunk_ids': ['d42c0487-f314-487f-bfdd-9d2a4d0fed1b', '27ab8769-4da0-4503-9c8b-836853de510f', '4e47dda5-cd3c-44d6-b40b-8a9b0a8d6c20', '47208a37-6726-45b6-8c02-73d872986ae0', '485d4f60-65eb-4582-98e9-2d93c4ad7ca4', '628e5e3f-1e7b-4b4a-900f-e0d584572b88', 'ac0f95b2-52c1-4961-9ca4-a953fdf56ad6', '7e0d20c2-4712-4cf8-aafe-7ff9ee0e11a8', 'e5073c2f-6b28-47ad-832f-35efc100099c', '659712f3-3739-4929-b503-66849e941a41', '937c285b-8c32-4065-af49-8ce25883d0a6', 'fa3bad48-4e00-45b7-8aa9-fc8810d16fab', 'c4a56a95-335a-4100-8e61-90cfba96a996', '6e9c632f-31c4-4aee-a16d-f72e2486e9d8', 'ef35d3ce-a568-4e22-b197-b5b7ea2efe7d', '64674119-5230-4ebd-a35d-9147c14907a1', '2525c3c6-adcd-4820-bef8-356652736a5b', '88f146f5-3b64-4c63-b858-f3a07ee31689', '330f3348-799d-4237-8011-b6790e08a6d2', '1299496f-13c9-4a3c-a52d-54e4b8b59537', 'a45cf4d1-fc2b-4a03-85bc-a68a19bfe992', 'aa7d24c0-98cb-41a0-ace4-ab9426021eca', 'a0aaa6c5-770b-471e-8723-3851db730cea']}\n"
     ]
    }
   ],
   "source": [
    "import asyncio\n",
    "import ssl\n",
    "from gai.lib.common.StatusListener import StatusListener\n",
    "import httpx\n",
    "import websockets\n",
    "import json\n",
    "\n",
    "\n",
    "from gai.lib.common.StatusListener import StatusListener\n",
    "import asyncio\n",
    "\n",
    "# Point to websocket but not connected yet.\n",
    "ws_url = \"ws://localhost:12033/api/v1/persona/00000000-0000-0000-0000-000000000000/document/step/index/ws\"\n",
    "listener = StatusListener(ws_url)\n",
    "\n",
    "# spin off a seperate task and connect to websocket\n",
    "async def async_callback(text):\n",
    "    jsoned = json.loads(text)\n",
    "    print(f\"async_callback: {jsoned}\")\n",
    "listen_task=asyncio.create_task(listener.listen(async_callback))\n",
    "\n",
    "async with httpx.AsyncClient() as client:\n",
    "    data = {\n",
    "        \"document_id\":doc_id,\n",
    "        \"chunkgroup_id\":group_id\n",
    "    }\n",
    "    try:\n",
    "        response = await client.post('http://localhost:12033/api/v1/persona/00000000-0000-0000-0000-000000000000/document/step/index', \n",
    "                    json=data,\n",
    "                    timeout=3000\n",
    "                    )\n",
    "        print(response.json())\n",
    "    except Exception as e:\n",
    "        print(e)\n",
    "\n"
   ]
  }
 ],
 "metadata": {
  "kernelspec": {
   "display_name": ".venv",
   "language": "python",
   "name": "python3"
  },
  "language_info": {
   "codemirror_mode": {
    "name": "ipython",
    "version": 3
   },
   "file_extension": ".py",
   "mimetype": "text/x-python",
   "name": "python",
   "nbconvert_exporter": "python",
   "pygments_lexer": "ipython3",
   "version": "3.10.12"
  }
 },
 "nbformat": 4,
 "nbformat_minor": 2
}
