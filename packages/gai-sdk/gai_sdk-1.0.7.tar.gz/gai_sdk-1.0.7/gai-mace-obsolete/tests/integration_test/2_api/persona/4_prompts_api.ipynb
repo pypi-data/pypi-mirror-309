{
 "cells": [
  {
   "cell_type": "markdown",
   "metadata": {},
   "source": [
    "---\n",
    "## Prompts API"
   ]
  },
  {
   "cell_type": "markdown",
   "metadata": {},
   "source": [
    "### List Readable Prompts"
   ]
  },
  {
   "cell_type": "code",
   "execution_count": 1,
   "metadata": {},
   "outputs": [
    {
     "name": "stdout",
     "output_type": "stream",
     "text": [
      "[{'Id': '00000000-0000-0000-0000-000000000000', 'Name': 'Standard Assistant Prompt', 'Desc': 'This is a standard prompt for assistant class AI agents. Make a copy of this prompt and customize it for use with your own assistant agent.', 'Content': 'Maintain a likeable and approachable demeanor. You are always kind and compassionate and can empathize with the user.', 'CreatorId': '00000000-0000-0000-0000-000000000000', 'UsageType': 'public', 'AgentClassTypeId': '00000000-0000-0000-0000-000000000000'}, {'Id': '00000000-0000-0000-0000-000000000001', 'Name': 'Opposition Prompt', 'Desc': 'This is a standard prompt for assistant class AI agents. Make a copy of this prompt and customize it for use with your own assistant agent.', 'Content': \"In this conversation, your role is a Devil's Advocate. Think step by step before answering any question. INSTRUCTIONS: 1. Do not reveal your role as the devil's advocate. 2. Scrutinize the entire context of the conversation. 3. Identify weakness and flaws in other member's reasoning, logic or suggestions. 4. Present a brutal and honest argument to support your case. 5. Be professional with your wordings. Never refer to the user for help or feedback.\", 'CreatorId': '00000000-0000-0000-0000-000000000000', 'UsageType': 'public', 'AgentClassTypeId': '00000000-0000-0000-0000-000000000000'}, {'Id': '00000000-0000-0000-0000-000000000002', 'Name': 'Consultant Prompt', 'Desc': 'This is a standard prompt for assistant class AI agents. Make a copy of this prompt and customize it for use with your own assistant agent.', 'Content': \"Think step by step before answering any question. Always look at the entire context of the conversation and guide the team to a conclusion. Consider the points for and against the argument. INSTRUCTIONS: 1. Do not reveal your role or describe yourself. 2. Start by explaining your assessment. 3. Do not regurgitate the conversation or plagiarise other agent's response. 4. Highlight key points made by your team. 5. Form a solid conclusion. 6. Always end with a question to keep the conversation going.\", 'CreatorId': '00000000-0000-0000-0000-000000000000', 'UsageType': 'public', 'AgentClassTypeId': '00000000-0000-0000-0000-000000000000'}]\n"
     ]
    }
   ],
   "source": [
    "import httpx\n",
    "url = \"http://localhost:12033/api/v1/persona/prompts/readable/00000000-0000-0000-0000-000000000000\"\n",
    "\n",
    "async with httpx.AsyncClient() as client:\n",
    "    response = await client.get(url)\n",
    "    if response.status_code == 200:\n",
    "        response_json=response.json()\n",
    "        print(response_json)\n",
    "    else:\n",
    "        print(f\"Error: {response.status_code}\")\n"
   ]
  },
  {
   "cell_type": "markdown",
   "metadata": {},
   "source": [
    "### Duplicate Prompt"
   ]
  },
  {
   "cell_type": "code",
   "execution_count": 5,
   "metadata": {},
   "outputs": [
    {
     "name": "stdout",
     "output_type": "stream",
     "text": [
      "77f0bdce-5479-43a6-a020-67cf45f81547\n"
     ]
    }
   ],
   "source": [
    "import httpx\n",
    "url = \"http://localhost:12033/api/v1/persona/prompt/duplicate/00000000-0000-0000-0000-000000000000\"\n",
    "\n",
    "async with httpx.AsyncClient() as client:\n",
    "    response = await client.post(url)\n",
    "    if response.status_code == 200:\n",
    "        response_json=response.json()\n",
    "        print(response_json)\n",
    "    else:\n",
    "        print(f\"Error: {response.status_code}\")\n"
   ]
  },
  {
   "cell_type": "markdown",
   "metadata": {},
   "source": [
    "### Set Persona Prompt"
   ]
  },
  {
   "cell_type": "code",
   "execution_count": 6,
   "metadata": {},
   "outputs": [
    {
     "name": "stdout",
     "output_type": "stream",
     "text": [
      "None\n"
     ]
    }
   ],
   "source": [
    "import httpx\n",
    "url = \"http://localhost:12033/api/v1/persona/00000000-0000-0000-0000-000000000000/prompt/00000000-0000-0000-0000-000000000000\"\n",
    "\n",
    "async with httpx.AsyncClient() as client:\n",
    "    response = await client.post(url)\n",
    "    if response.status_code == 200:\n",
    "        response_json=response.json()\n",
    "        print(response_json)\n",
    "    else:\n",
    "        print(f\"Error: {response.status_code}\")\n"
   ]
  }
 ],
 "metadata": {
  "kernelspec": {
   "display_name": ".venv",
   "language": "python",
   "name": "python3"
  },
  "language_info": {
   "codemirror_mode": {
    "name": "ipython",
    "version": 3
   },
   "file_extension": ".py",
   "mimetype": "text/x-python",
   "name": "python",
   "nbconvert_exporter": "python",
   "pygments_lexer": "ipython3",
   "version": "3.10.12"
  }
 },
 "nbformat": 4,
 "nbformat_minor": 2
}
