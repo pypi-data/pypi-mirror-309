{
 "cells": [
  {
   "cell_type": "markdown",
   "metadata": {
    "id": "kmyCzJVyCymN"
   },
   "source": [
    "Colab for [Ultimate RVC](https://github.com/JackismyShephard/ultimate-rvc)\n",
    "\n",
    "This Colab notebook will **help** you if you don’t have a GPU or if your PC isn’t very powerful.\n",
    "\n",
    "Simply click `Runtime` in the top navigation bar and `Run all`. Wait for the output of the final cell to show the public gradio url and click on it.\n"
   ]
  },
  {
   "cell_type": "code",
   "execution_count": null,
   "metadata": {
    "cellView": "form",
    "id": "TfYDhnzOyig5"
   },
   "outputs": [],
   "source": [
    "# @title 0: Initialize notebook\n",
    "import codecs\n",
    "import threading\n",
    "import time\n",
    "import os\n",
    "\n",
    "from IPython.display import clear_output\n",
    "\n",
    "\n",
    "def update_timer_and_print() -> None:\n",
    "    \"\"\"Print a timer in the console.\"\"\"\n",
    "    global timer\n",
    "    while True:\n",
    "        hours, remainder = divmod(timer, 3600)\n",
    "        minutes, seconds = divmod(remainder, 60)\n",
    "        timer_str = f\"{hours:02}:{minutes:02}:{seconds:02}\"\n",
    "        print(f\"\\rTimer: {timer_str} \", end=\"\", flush=True)  # noqa: T201\n",
    "        time.sleep(1)\n",
    "        timer += 1\n",
    "\n",
    "\n",
    "timer = 0\n",
    "threading.Thread(target=update_timer_and_print, daemon=True).start()\n",
    "\n",
    "install_to_drive = False\n",
    "if install_to_drive:\n",
    "    from google.colab import drive\n",
    "\n",
    "    drive.mount(\"/content/drive\")\n",
    "    %cd /content/drive/MyDrive\n",
    "else:\n",
    "    %cd /content\n",
    "clear_output()"
   ]
  },
  {
   "cell_type": "code",
   "execution_count": null,
   "metadata": {
    "cellView": "form",
    "id": "aaokDv1VzpAX"
   },
   "outputs": [],
   "source": [
    "# @title 1: Clone repository\n",
    "cloneing = codecs.decode(\n",
    "    \"uggcf://tvguho.pbz/WnpxvfzlFurcuneq/hygvzngr-eip.tvg\",\n",
    "    \"rot_13\",\n",
    ")\n",
    "\n",
    "!git clone $cloneing HRVC\n",
    "%cd HRVC\n",
    "clear_output()"
   ]
  },
  {
   "cell_type": "code",
   "execution_count": null,
   "metadata": {
    "cellView": "form",
    "id": "lVGNygIa0F_1"
   },
   "outputs": [],
   "source": [
    "# @title 2: Install dependencies\n",
    "\n",
    "light = codecs.decode(\"uggcf://nfgeny.fu/hi/0.5.0/vafgnyy.fu\", \"rot_13\")\n",
    "inits = codecs.decode(\"./fep/hygvzngr_eip/pber/znva.cl\", \"rot_13\")\n",
    "\n",
    "!apt install -y python3-dev unzip\n",
    "!curl -LsSf $light | sh\n",
    "\n",
    "os.environ[\"URVC_CONSOLE_LOG_LEVEL\"] = \"WARNING\"\n",
    "!uv run -q $inits\n",
    "clear_output()"
   ]
  },
  {
   "cell_type": "code",
   "execution_count": null,
   "metadata": {
    "cellView": "form",
    "id": "lVGNygIa0F_2"
   },
   "outputs": [],
   "source": [
    "# @title 3: Run Ultimate RVC\n",
    "runpice = codecs.decode(\"./fep/hygvzngr_eip/jro/znva.cl\", \"rot_13\")\n",
    "\n",
    "!uv run $runpice --share --listen-port 9999"
   ]
  }
 ],
 "metadata": {
  "accelerator": "GPU",
  "colab": {
   "gpuType": "T4",
   "provenance": []
  },
  "kernelspec": {
   "display_name": "Python 3",
   "name": "python3"
  },
  "language_info": {
   "name": "python"
  }
 },
 "nbformat": 4,
 "nbformat_minor": 0
}
