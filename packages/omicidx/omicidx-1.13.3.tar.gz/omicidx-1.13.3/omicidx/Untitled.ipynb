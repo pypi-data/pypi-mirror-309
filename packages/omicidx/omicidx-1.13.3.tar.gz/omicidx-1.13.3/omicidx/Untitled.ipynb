{
 "cells": [
  {
   "cell_type": "code",
   "execution_count": 1,
   "id": "db947132-771e-4a95-813a-b2af7052bffb",
   "metadata": {},
   "outputs": [],
   "source": [
    "from omicidx.geo import parser as gp"
   ]
  },
  {
   "cell_type": "code",
   "execution_count": 2,
   "id": "174ad101-1e43-4eaa-9ae6-0161774c36f4",
   "metadata": {},
   "outputs": [
    {
     "data": {
      "text/plain": [
       "\u001b[0;31mSignature:\u001b[0m\n",
       "\u001b[0mgp\u001b[0m\u001b[0;34m.\u001b[0m\u001b[0mget_geo_accessions\u001b[0m\u001b[0;34m(\u001b[0m\u001b[0;34m\u001b[0m\n",
       "\u001b[0;34m\u001b[0m    \u001b[0metyp\u001b[0m\u001b[0;34m=\u001b[0m\u001b[0;32mNone\u001b[0m\u001b[0;34m,\u001b[0m\u001b[0;34m\u001b[0m\n",
       "\u001b[0;34m\u001b[0m    \u001b[0mbatch_size\u001b[0m\u001b[0;34m=\u001b[0m\u001b[0;36m1000\u001b[0m\u001b[0;34m,\u001b[0m\u001b[0;34m\u001b[0m\n",
       "\u001b[0;34m\u001b[0m    \u001b[0madd_term\u001b[0m\u001b[0;34m=\u001b[0m\u001b[0;32mNone\u001b[0m\u001b[0;34m,\u001b[0m\u001b[0;34m\u001b[0m\n",
       "\u001b[0;34m\u001b[0m    \u001b[0memail\u001b[0m\u001b[0;34m=\u001b[0m\u001b[0;34m'user@example.com'\u001b[0m\u001b[0;34m,\u001b[0m\u001b[0;34m\u001b[0m\n",
       "\u001b[0;34m\u001b[0m\u001b[0;34m)\u001b[0m\u001b[0;34m\u001b[0m\u001b[0;34m\u001b[0m\u001b[0m\n",
       "\u001b[0;31mDocstring:\u001b[0m\n",
       "Get GEO accessions by etyp\n",
       "\n",
       "Useful for getting all the ETYP accessions for\n",
       "later bulk processing\n",
       "\n",
       "Parameters\n",
       "----------\n",
       "etyp: str\n",
       "    One of GSE, GPL, GSM, GDS\n",
       "batch_size: int \n",
       "    the number of accessions to return in one batch. \n",
       "    Transparent to the user, as this returns an iterator.\n",
       "add_term: str\n",
       "    Add a search term for the query. Useful to limit\n",
       "    by date or search for specific text. For example, \n",
       "    to limit by date: '2007/01/01:2007/03/01[PDAT]'\n",
       "email: str\n",
       "    user email (not important)\n",
       "\n",
       "Return\n",
       "------\n",
       "an iterator of accessions, each as a string\n",
       "\u001b[0;31mFile:\u001b[0m      ~/Documents/git/omicidx-parsers/omicidx/geo/parser.py\n",
       "\u001b[0;31mType:\u001b[0m      function\n"
      ]
     },
     "metadata": {},
     "output_type": "display_data"
    }
   ],
   "source": [
    "?gp.get_geo_accessions"
   ]
  },
  {
   "cell_type": "code",
   "execution_count": 3,
   "id": "35705eca-f0f5-4d3d-87bf-a48bd1555fa6",
   "metadata": {},
   "outputs": [],
   "source": [
    "import datetime\n",
    "import logging\n",
    "logging.basicConfig(level=logging.INFO)\n",
    "\n",
    "logger = logging.getLogger()\n",
    "\n",
    "def yielder():\n",
    "    start_date = datetime.date(2020, 1, 1)\n",
    "    end_date = datetime.date.today()\n",
    "    delta = datetime.timedelta(days=1)\n",
    "    while start_date < end_date:\n",
    "        logger.info(f\"date: {start_date}\")\n",
    "        d1 = start_date.strftime('%Y/%m/%d')\n",
    "        start_date = start_date+delta\n",
    "        d2 = start_date.strftime('%Y/%m/%d')\n",
    "        term = f\"{d1}:{d2}[PDAT]\"\n",
    "        geo_acc_iterator = gp.get_geo_accessions(add_term=term)\n",
    "        for a in geo_acc_iterator:\n",
    "            yield a"
   ]
  },
  {
   "cell_type": "code",
   "execution_count": 75,
   "id": "9825c6eb-6cb8-491b-ba1f-bdb37decdb3c",
   "metadata": {},
   "outputs": [],
   "source": [
    "import httpx\n",
    "import asyncio\n",
    "\n",
    "queue = asyncio.Queue(15)\n",
    "\n",
    "\n",
    "async def get_url(GEO):\n",
    "    url = f\"https://geo-serverless-whnnxetv4q-uc.a.run.app/geo/{GEO}\"\n",
    "    async with httpx.AsyncClient() as client:\n",
    "        try:\n",
    "            resp = await client.get(url)\n",
    "            print(GEO)\n",
    "            print(resp.json())\n",
    "            return resp.json()\n",
    "        except:\n",
    "            print('error')\n",
    "    \n",
    "async def producer(queue):\n",
    "    for geo in yielder():\n",
    "        await queue.put(geo)\n",
    "    \n",
    "async def consumer(queue):\n",
    "    while True:\n",
    "        val = await queue.get()\n",
    "        ret = await get_url(val)\n",
    "        queue.task_done()\n",
    "        return(ret)\n",
    "\n",
    "async def main():\n",
    "    consumers = []\n",
    "    for _ in range(15):\n",
    "        consumer1 = asyncio.create_task(consumer(queue))\n",
    "        consumers.append(consumer1)\n",
    "    try:\n",
    "        for geo in yielder():\n",
    "            await queue.put(geo)\n",
    "        await queue.join()\n",
    "    finally:\n",
    "        for t in consumers:\n",
    "            t.cancel()\n"
   ]
  },
  {
   "cell_type": "code",
   "execution_count": 73,
   "id": "13eb4ef1-9574-416a-9837-8de0c07bf588",
   "metadata": {},
   "outputs": [
    {
     "name": "stderr",
     "output_type": "stream",
     "text": [
      "INFO:root:date: 2020-01-01\n",
      "INFO:root:found 8552 records for None database\n"
     ]
    },
    {
     "name": "stdout",
     "output_type": "stream",
     "text": [
      "GSE84351\n",
      "{'GSE84351': {'title': 'Reprogramming Hutchinson-Gilford Progeria Syndrome fibroblasts resets epigenomic landscape in patient-derived induced pluripotent stem cells [Affymetrix]', 'status': 'Public on Jan 02 2020', 'submission_date': '2016-07-13', 'last_update_date': '2020-01-04', 'accession': 'GSE84351', 'subseries': [], 'bioprojects': ['PRJNA340427'], 'sra_studies': [], 'contact': {'city': 'Ottawa', 'name': {'first': 'Carol', 'middle': '', 'last': 'Perez-Iratxeta'}, 'email': 'ogicinfo@ohri.ca', 'state': 'ON', 'address': '501 Smyth Rd.', 'department': 'Ottawa Hospital Research Institute', 'country': 'Canada', 'web_link': None, 'institute': 'Ontario Genomics Innovation Centre (OGIC)', 'zip_postal_code': None, 'phone': '(613) 737-8899    -73255'}, 'type': ['Expression profiling by array'], 'summary': 'Hutchinson-Gilford Progeria Syndrome (HGPS) is a segmental premature aging disorder caused by the accumulation of the truncated form of Lamin A known as Progerin within the nuclear lamina.  Cellular hallmarks of HGPS include nuclear blebbing, loss of peripheral heterochromatin, defective epigenetic inheritance, altered gene expression, and senescence. To model HGPS using iPSCs, detailed genome-wide and structural analysis of the epigenetic landscape is required to assess the initiation and progression of the disease. We generated a library of iPSC lines from fibroblasts of HGPS patients and controls, including one family trio. Our microarray results suggest that despite the presence of defects associated with Progerin in the nuclear lamina including structural defects, senescence and abnormal epigenetic marks, HGPS fibroblasts can be reprogrammed into iPSCs with transcriptomes that are essentially identical to control iPSCs and hESCs.', 'relation': ['SubSeries of: GSE84360', 'BioProject: https://www.ncbi.nlm.nih.gov/bioproject/PRJNA340427'], 'pubmed_id': [], 'sample_id': ['GSM2232606', 'GSM2232607', 'GSM2232608', 'GSM2232609', 'GSM2232610', 'GSM2232611', 'GSM2232612', 'GSM2232613', 'GSM2232614', 'GSM2232615', 'GSM2232616', 'GSM2232617', 'GSM2232618', 'GSM2232619', 'GSM2232620', 'GSM2232621', 'GSM2232622', 'GSM2232623', 'GSM2232624', 'GSM2232625', 'GSM2232626', 'GSM2232627', 'GSM2232628', 'GSM2232629', 'GSM2232630', 'GSM2232631', 'GSM2232632', 'GSM2232633', 'GSM2232634', 'GSM2232635', 'GSM2232636', 'GSM2232637', 'GSM2232638', 'GSM2232639', 'GSM2232640', 'GSM2232641', 'GSM2232642', 'GSM2232643', 'GSM2232644', 'GSM2232645', 'GSM2232646', 'GSM2232647', 'GSM2232648', 'GSM2232649', 'GSM2232650', 'GSM2232651', 'GSM2232652', 'GSM2232653', 'GSM2232654', 'GSM2232655', 'GSM2232656', 'GSM2232657', 'GSM2232658', 'GSM2232659'], 'sample_taxid': [9606], 'sample_organism': ['Homo sapiens'], 'platform_id': ['GPL16686'], 'platform_taxid': [9606], 'platform_organism': ['Homo sapiens'], 'data_processing': None, 'description': None, 'supplemental_file': [], 'overall_design': 'We generated a library of iPSC lines from fibroblasts of HGPS patients and controls, including one family trio.', 'contributor': [{'first': 'William', 'middle': 'L', 'last': 'Stanford'}, {'first': 'Zhaoyi', 'middle': '', 'last': 'Chen'}]}}\n",
      "GSE93052\n",
      "{'GSE93052': {'title': 'The human CCHC-type Zinc Finger nucleic acid binding protein binds G-rich elements in target mRNA coding sequences initiation promotes translation (Ribosome profiling).', 'status': 'Public on Jan 02 2020', 'submission_date': '2017-01-02', 'last_update_date': '2020-01-02', 'accession': 'GSE93052', 'subseries': [], 'bioprojects': ['PRJNA359690'], 'sra_studies': ['SRP095901'], 'contact': {'city': 'Wuerzburg', 'name': {'first': 'Sanjay', 'middle': 'Kumar', 'last': 'Gupta'}, 'email': 'sanjay.gupta@uni-wuerzburg.de', 'state': 'Bavaria', 'address': 'Biozentrum, Am Hubland', 'department': 'Dept of Biochemistry', 'country': 'Germany', 'web_link': None, 'institute': 'University of Wuerzburg', 'zip_postal_code': None, 'phone': None}, 'type': ['Other'], 'summary': 'CNBP is a eukaryote-conserved nucleic-acid binding protein required in mammals for embryonic development. It contains seven CCHC-type zinc-finger domains and was suggested to act as a nucleic acid chaperone, as well as a transcription factor. Here, we identify all CNBP isoforms as cytoplasmic messenger RNA (mRNA)-binding proteins. Using Photoactivatable Ribonucleoside Enhanced Cross-linking and Immunoprecipitation, we mapped its binding sites on RNA at nucleotide-level resolution on a genome-wide scale and find that CNBP interacted with 3961 mRNAs in human cell lines, preferentially at a G-rich motif close to the AUG start codon on mature mRNAs. Loss- and gain-of-function analyses coupled with system-wide RNA and protein quantification revealed that CNBP did not affect RNA abundance, but rather promoted translation of its targets. This is consistent with an RNA chaperone function of CNBP helping to resolve secondary structures, thus promoting translation.', 'relation': ['SubSeries of: GSE93053', 'BioProject: https://www.ncbi.nlm.nih.gov/bioproject/PRJNA359690', 'SRA: https://www.ncbi.nlm.nih.gov/sra?term=SRP095901'], 'pubmed_id': [], 'sample_id': ['GSM2443016', 'GSM2443017', 'GSM2443018', 'GSM2443019', 'GSM2443020', 'GSM2443021', 'GSM2443022', 'GSM2443023', 'GSM2443024', 'GSM2443025', 'GSM2443026', 'GSM2443027'], 'sample_taxid': [9606], 'sample_organism': ['Homo sapiens'], 'platform_id': ['GPL16791'], 'platform_taxid': [9606], 'platform_organism': ['Homo sapiens'], 'data_processing': None, 'description': None, 'supplemental_file': [], 'overall_design': 'CNBP protein knockout and Ribosome profiling', 'contributor': [{'first': 'S', 'middle': 'K', 'last': 'Gupta'}, {'first': 'D', 'middle': '', 'last': 'Benhalevy'}, {'first': 'C', 'middle': 'H', 'last': 'Danan'}, {'first': 'M', 'middle': '', 'last': 'Hafner'}, {'first': 'S', 'middle': '', 'last': 'Juranek'}]}}\n",
      "GSE128544\n",
      "{'GSE128544': {'title': 'Regulation of the gamma delta T cell functional programming by the Slam/SAP signaling pathway', 'status': 'Public on Jan 02 2020', 'submission_date': '2019-03-19', 'last_update_date': '2020-01-04', 'accession': 'GSE128544', 'subseries': [], 'bioprojects': ['PRJNA528041'], 'sra_studies': [], 'contact': {'city': 'Burlington', 'name': {'first': 'Julie', 'middle': '', 'last': 'Dragon'}, 'email': 'julie.dragon@uvm.edu', 'state': 'VT', 'address': '95 Carrigan Dr', 'department': 'MMG', 'country': 'USA', 'web_link': None, 'institute': 'UNIVERSITY OF VERMONT & ST AGRIC COLLEGE', 'zip_postal_code': None, 'phone': None}, 'type': ['Expression profiling by array'], 'summary': 'Slam receptors regulate the development and function of several lymphocyte subsets. Nevertheless, their role on gamma delta T cells is largely unknown. We discovered the presence of distinct Vgamma4+ T cell subsets expressing either SLAMf1 or SLAMf6, but not both. We used microarray gene expression analysis of SLAMf1+ and SLAMf6+ single positive Vgamma4+ T cells to investigate the functional significance of those SLAM receptors in gamma delta T cell biology.', 'relation': ['BioProject: https://www.ncbi.nlm.nih.gov/bioproject/PRJNA528041'], 'pubmed_id': [], 'sample_id': ['GSM3679689', 'GSM3679690', 'GSM3679691', 'GSM3679692', 'GSM3679693', 'GSM3679694'], 'sample_taxid': [10090], 'sample_organism': ['Mus musculus'], 'platform_id': ['GPL16570'], 'platform_taxid': [10090], 'platform_organism': ['Mus musculus'], 'data_processing': None, 'description': None, 'supplemental_file': [], 'overall_design': 'Single cell suspensions of mouse lungs were prepared, stained with specific antibodies for SLAMf1, SLAMf6 and VÎ³4 T cell receptors and flow sorted.', 'contributor': [{'first': 'Oliver', 'middle': '', 'last': 'Dienz'}, {'first': 'Victoria', 'middle': 'L', 'last': 'DeVault'}, {'first': 'Somen', 'middle': 'K', 'last': 'Mistri'}, {'first': 'Linda', 'middle': '', 'last': 'Mei'}, {'first': 'Shawn', 'middle': 'C', 'last': 'Musial'}, {'first': 'Camarie', 'middle': '', 'last': 'Spear'}, {'first': 'Julie', 'middle': 'A', 'last': 'Dragon'}, {'first': 'Jonathan', 'middle': 'E', 'last': 'Boyson'}]}}\n",
      "GSE132786\n",
      "{'GSE132786': {'title': 'Microfluidic platform for next-generation sequencing library preparation with low-input samples', 'status': 'Public on Jan 02 2020', 'submission_date': '2019-06-14', 'last_update_date': '2020-04-02', 'accession': 'GSE132786', 'subseries': [], 'bioprojects': ['PRJNA548967'], 'sra_studies': ['SRP201502'], 'contact': {'city': 'Blacksburg', 'name': {'first': 'Chang', 'middle': '', 'last': 'Lu'}, 'email': 'changlu@vt.edu', 'state': 'VA', 'address': '235 Goodwin Hall, 635 Prices Fork Road, Virginia Tech', 'department': 'Chemical Engineering', 'country': 'USA', 'web_link': None, 'institute': 'Virginia Tech', 'zip_postal_code': None, 'phone': '5402318681'}, 'type': ['Genome binding/occupancy profiling by high throughput sequencing'], 'summary': 'Advances in Next Generation Sequencing (NGS) have made available a wealth of information that had previously been inaccessible to researchers and clinicians. NGS has been applied to understand genomic, transcriptomic, and epigenomic changes and gained traction as a significant tool capable of accelerating diagnosis, prognosis, and biomarker discovery. However, these NGS assays have yet to be practical methods for patient stratification or diagnosis because of the gap between the tiny quantities of biomaterials provided by a clinical sample and the large DNA input required by most of these assays. Current library preparation methodologies typically require large input amounts of DNA and a long and complicated manual process. Here we present a microfluidic reactor system for NGS library preparation, capable of reducing the number of pipetting steps significantly, automating much of the process, while supporting extremely low DNA input requirement (10 pg per library). This largely automated technology will allow for low-input preparations of 8 libraries simultaneously while reducing batch to batch variation and operator hands-on time.', 'relation': ['BioProject: https://www.ncbi.nlm.nih.gov/bioproject/PRJNA548967', 'SRA: https://www.ncbi.nlm.nih.gov/sra?term=SRP201502'], 'pubmed_id': [31894965], 'sample_id': ['GSM3891961', 'GSM3891962', 'GSM3891963', 'GSM3891964', 'GSM3891965', 'GSM3891966', 'GSM3891967', 'GSM3891968', 'GSM3891969', 'GSM3891970', 'GSM3891971', 'GSM3891972', 'GSM3891973', 'GSM3891974', 'GSM3891975', 'GSM3891976', 'GSM3891977', 'GSM3891978', 'GSM3891979'], 'sample_taxid': [9606, 10090], 'sample_organism': ['Homo sapiens', 'Mus musculus'], 'platform_id': ['GPL20301', 'GPL21103'], 'platform_taxid': [9606, 10090], 'platform_organism': ['Homo sapiens', 'Mus musculus'], 'data_processing': None, 'description': None, 'supplemental_file': [], 'overall_design': 'We examined library preparation efficiency using various ChIP DNA amounts looking at genome wide H3K4me3 profiles of GM12878 cell line. The system was further validated using ChIP DNA samples prepared from prefrontal cortex (PFC) of 10-week old male CD-1 mice, exploring different histone modifications: H3K4me3, H3K9me3, H3K36me3, and H3K79me2.', 'contributor': [{'first': 'Travis', 'middle': '', 'last': 'Murphy'}, {'first': 'Chang', 'middle': '', 'last': 'Lu'}]}}\n",
      "GSE84356\n",
      "{'GSE84356': {'title': 'Reprogramming Hutchinson-Gilford Progeria Syndrome fibroblasts resets epigenomic landscape in patient-derived induced pluripotent stem cells [ChIP-Seq]', 'status': 'Public on Jan 02 2020', 'submission_date': '2016-07-13', 'last_update_date': '2020-04-03', 'accession': 'GSE84356', 'subseries': [], 'bioprojects': ['PRJNA335417'], 'sra_studies': ['SRP079925'], 'contact': {'city': 'Ottawa', 'name': {'first': 'Carol', 'middle': '', 'last': 'Perez-Iratxeta'}, 'email': 'ogicinfo@ohri.ca', 'state': 'ON', 'address': '501 Smyth Rd.', 'department': 'Ottawa Hospital Research Institute', 'country': 'Canada', 'web_link': None, 'institute': 'Ontario Genomics Innovation Centre (OGIC)', 'zip_postal_code': None, 'phone': '(613) 737-8899    -73255'}, 'type': ['Genome binding/occupancy profiling by high throughput sequencing'], 'summary': 'Hutchinson-Gilford Progeria Syndrome (HGPS) is a segmental premature aging disorder caused by the accumulation of the truncated form of Lamin A known as Progerin within the nuclear lamina. Cellular hallmarks of HGPS include nuclear blebbing, loss of peripheral heterochromatin, defective epigenetic inheritance, altered gene expression, and senescence. To model HGPS using iPSCs, detailed genome-wide and structural analysis of the epigenetic landscape is required to assess the initiation and progression of the disease.', 'relation': ['SubSeries of: GSE84360', 'BioProject: https://www.ncbi.nlm.nih.gov/bioproject/PRJNA335417', 'SRA: https://www.ncbi.nlm.nih.gov/sra?term=SRP079925'], 'pubmed_id': [28597562], 'sample_id': ['GSM2232668', 'GSM2232669', 'GSM2232670', 'GSM2232671', 'GSM2232676', 'GSM2232677', 'GSM2232678', 'GSM2232679', 'GSM2232680', 'GSM2232681', 'GSM2232682', 'GSM2232683', 'GSM2232684', 'GSM2232685', 'GSM2232686', 'GSM2232687'], 'sample_taxid': [9606], 'sample_organism': ['Homo sapiens'], 'platform_id': ['GPL10999'], 'platform_taxid': [9606], 'platform_organism': ['Homo sapiens'], 'data_processing': None, 'description': None, 'supplemental_file': [], 'overall_design': 'Before addition of antibodies, an aliquot of each sample was reserved for input control.  After reverse cross-linking and cleanup, approximately 20ng of each sample was prepared for sequencing using the ChIP-seq sample rep kit (Illumina) according to the manufacturerâ\\x80\\x99s instructions.', 'contributor': [{'first': 'William', 'middle': '', 'last': 'Stanford'}, {'first': 'Zhaoyi', 'middle': '', 'last': 'Chen'}]}}\n",
      "GSE84360\n",
      "{'GSE84360': {'title': 'Reprogramming Hutchinson-Gilford Progeria Syndrome fibroblasts resets epigenomic landscape in patient-derived induced pluripotent stem cells Jan 01, 2018   pending   None', 'status': 'Public on Jan 02 2020', 'submission_date': '2016-07-13', 'last_update_date': '2020-01-04', 'accession': 'GSE84360', 'subseries': ['GSE84351', 'GSE84356'], 'bioprojects': ['PRJNA335408'], 'sra_studies': [], 'contact': {'city': 'Ottawa', 'name': {'first': 'Carol', 'middle': '', 'last': 'Perez-Iratxeta'}, 'email': 'ogicinfo@ohri.ca', 'state': 'ON', 'address': '501 Smyth Rd.', 'department': 'Ottawa Hospital Research Institute', 'country': 'Canada', 'web_link': None, 'institute': 'Ontario Genomics Innovation Centre (OGIC)', 'zip_postal_code': None, 'phone': '(613) 737-8899    -73255'}, 'type': ['Expression profiling by array', 'Genome binding/occupancy profiling by high throughput sequencing'], 'summary': 'This SuperSeries is composed of the SubSeries listed below.', 'relation': ['SuperSeries of: GSE84351', 'SuperSeries of: GSE84356', 'BioProject: https://www.ncbi.nlm.nih.gov/bioproject/PRJNA335408'], 'pubmed_id': [], 'sample_id': ['GSM2232606', 'GSM2232607', 'GSM2232608', 'GSM2232609', 'GSM2232610', 'GSM2232611', 'GSM2232612', 'GSM2232613', 'GSM2232614', 'GSM2232615', 'GSM2232616', 'GSM2232617', 'GSM2232618', 'GSM2232619', 'GSM2232620', 'GSM2232621', 'GSM2232622', 'GSM2232623', 'GSM2232624', 'GSM2232625', 'GSM2232626', 'GSM2232627', 'GSM2232628', 'GSM2232629', 'GSM2232630', 'GSM2232631', 'GSM2232632', 'GSM2232633', 'GSM2232634', 'GSM2232635', 'GSM2232636', 'GSM2232637', 'GSM2232638', 'GSM2232639', 'GSM2232640', 'GSM2232641', 'GSM2232642', 'GSM2232643', 'GSM2232644', 'GSM2232645', 'GSM2232646', 'GSM2232647', 'GSM2232648', 'GSM2232649', 'GSM2232650', 'GSM2232651', 'GSM2232652', 'GSM2232653', 'GSM2232654', 'GSM2232655', 'GSM2232656', 'GSM2232657', 'GSM2232658', 'GSM2232659', 'GSM2232668', 'GSM2232669', 'GSM2232670', 'GSM2232671', 'GSM2232676', 'GSM2232677', 'GSM2232678', 'GSM2232679', 'GSM2232680', 'GSM2232681', 'GSM2232682', 'GSM2232683', 'GSM2232684', 'GSM2232685', 'GSM2232686', 'GSM2232687'], 'sample_taxid': [9606], 'sample_organism': ['Homo sapiens'], 'platform_id': ['GPL10999', 'GPL16686'], 'platform_taxid': [9606], 'platform_organism': ['Homo sapiens'], 'data_processing': None, 'description': None, 'supplemental_file': [], 'overall_design': 'Refer to individual Series', 'contributor': []}}\n",
      "GSE127475\n",
      "{'GSE127475': {'title': 'The mTOR pathway is necessary for survival of mice with short telomeres.', 'status': 'Public on Jan 02 2020', 'submission_date': '2019-02-28', 'last_update_date': '2020-04-02', 'accession': 'GSE127475', 'subseries': [], 'bioprojects': ['PRJNA524859'], 'sra_studies': ['SRP187080'], 'contact': {'city': 'Madrid', 'name': {'first': 'Osvaldo', 'middle': '', 'last': 'GraÃ±a'}, 'email': None, 'state': 'Comunidad de Madrid', 'address': 'C/ Melchor FernÃ¡ndez Almagro, 3', 'department': 'Structural Biology', 'country': 'Spain', 'web_link': None, 'institute': 'CNIO', 'zip_postal_code': None, 'phone': None}, 'type': ['Expression profiling by high throughput sequencing'], 'summary': 'Gene expression profiles of Terc+/+ and generation 2 (G2) Terc-/- male mice fed rapamycin or control diet during 2 months. Rapamycin diet contains encapsulated rapamycin at 42 ppm (mg of drug per kg of food); control diet contains coating material (Eudragit S100). Rapamycin was microencapsulated by Rapamycin Holdings Inc. (San Antonio, Texas) and was then incorporated into 5LG6 mouse chow (TestDiet, London, UK).', 'relation': ['BioProject: https://www.ncbi.nlm.nih.gov/bioproject/PRJNA524859', 'SRA: https://www.ncbi.nlm.nih.gov/sra?term=SRP187080'], 'pubmed_id': [32127537], 'sample_id': ['GSM3635377', 'GSM3635378', 'GSM3635379', 'GSM3635380', 'GSM3635381', 'GSM3635382', 'GSM3635383', 'GSM3635384', 'GSM3635385', 'GSM3635386', 'GSM3635387', 'GSM3635388'], 'sample_taxid': [10090], 'sample_organism': ['Mus musculus'], 'platform_id': ['GPL17021'], 'platform_taxid': [10090], 'platform_organism': ['Mus musculus'], 'data_processing': None, 'description': None, 'supplemental_file': [], 'overall_design': '2-3 months old Terc+/+ and G2 Terc-/- male mice were fed rapamycin or control diet during 2 months. Before sacrifice they were fasted overnight and refed during 3 hours.', 'contributor': [{'first': 'Iole', 'middle': '', 'last': 'Ferrara'}, {'first': 'Osvaldo', 'middle': '', 'last': 'GraÃ±a-Castro'}, {'first': 'Paula', 'middle': '', 'last': 'MartÃ\\xadnez'}, {'first': 'MarÃ\\xada', 'middle': '', 'last': 'Blasco'}]}}\n",
      "GSE93051\n",
      "{'GSE93051': {'title': 'The human CCHC-type Zinc Finger nucleic acid binding protein binds G-rich elements in target mRNA coding sequences initiation promotes translation (RNA-Seq).', 'status': 'Public on Jan 02 2020', 'submission_date': '2017-01-02', 'last_update_date': '2020-01-02', 'accession': 'GSE93051', 'subseries': [], 'bioprojects': ['PRJNA359691'], 'sra_studies': ['SRP095900'], 'contact': {'city': 'Wuerzburg', 'name': {'first': 'Sanjay', 'middle': 'Kumar', 'last': 'Gupta'}, 'email': 'sanjay.gupta@uni-wuerzburg.de', 'state': 'Bavaria', 'address': 'Biozentrum, Am Hubland', 'department': 'Dept of Biochemistry', 'country': 'Germany', 'web_link': None, 'institute': 'University of Wuerzburg', 'zip_postal_code': None, 'phone': None}, 'type': ['Expression profiling by high throughput sequencing'], 'summary': 'CNBP is a eukaryote-conserved nucleic-acid binding protein required in mammals for embryonic development. It contains seven CCHC-type zinc-finger domains and was suggested to act as a nucleic acid chaperone, as well as a transcription factor. Here, we identify all CNBP isoforms as cytoplasmic messenger RNA (mRNA)-binding proteins. Using Photoactivatable Ribonucleoside Enhanced Cross-linking and Immunoprecipitation, we mapped its binding sites on RNA at nucleotide-level resolution on a genome-wide scale and find that CNBP interacted with 3961 mRNAs in human cell lines, preferentially at a G-rich motif close to the AUG start codon on mature mRNAs. Loss- and gain-of-function analyses coupled with system-wide RNA and protein quantification revealed that CNBP did not affect RNA abundance, but rather promoted translation of its targets. This is consistent with an RNA chaperone function of CNBP helping to resolve secondary structures, thus promoting translation.', 'relation': ['SubSeries of: GSE93053', 'BioProject: https://www.ncbi.nlm.nih.gov/bioproject/PRJNA359691', 'SRA: https://www.ncbi.nlm.nih.gov/sra?term=SRP095900'], 'pubmed_id': [], 'sample_id': ['GSM2443010', 'GSM2443011', 'GSM2443012', 'GSM2443013', 'GSM2443014', 'GSM2443015'], 'sample_taxid': [9606], 'sample_organism': ['Homo sapiens'], 'platform_id': ['GPL16791'], 'platform_taxid': [9606], 'platform_organism': ['Homo sapiens'], 'data_processing': None, 'description': None, 'supplemental_file': [], 'overall_design': 'CNBP protein knockout and RNA-seq', 'contributor': [{'first': 'S', 'middle': 'K', 'last': 'Gupta'}, {'first': 'D', 'middle': '', 'last': 'Benhalevy'}, {'first': 'C', 'middle': 'H', 'last': 'Danan'}, {'first': 'M', 'middle': '', 'last': 'Hafner'}, {'first': 'S', 'middle': '', 'last': 'Juranek'}]}}\n",
      "GSE142814\n",
      "{'GSE142814': {'title': 'Real-time quantitative PCR analysis of cortisol-indeced sex change in epinephelus coioides', 'status': 'Public on Jan 02 2020', 'submission_date': '2020-01-01', 'last_update_date': '2020-02-24', 'accession': 'GSE142814', 'subseries': [], 'bioprojects': ['PRJNA598445'], 'sra_studies': [], 'contact': {'city': 'Guangzhou', 'name': {'first': 'Jiaxing', 'middle': '', 'last': 'Chen'}, 'email': 'jiaxingchan@163.com', 'state': 'Guangdong', 'address': 'Xingang Road No. 135, Haizhu District, Guangzhou', 'department': None, 'country': 'China', 'web_link': None, 'institute': 'Sun Yat-Sen University', 'zip_postal_code': None, 'phone': None}, 'type': ['Expression profiling by RT-PCR'], 'summary': 'Cortisol was injected into the protogynous epinephelus coioides to investigate the role of this hormone on sex change. Following injection, we evaluated sex-related gene expression during the processes of cortisol-induced sex change in epinephelus coioides.', 'relation': ['BioProject: https://www.ncbi.nlm.nih.gov/bioproject/PRJNA598445'], 'pubmed_id': [32082256], 'sample_id': ['GSM4240493', 'GSM4240494', 'GSM4240495', 'GSM4240496', 'GSM4240497', 'GSM4240498', 'GSM4240499', 'GSM4240500', 'GSM4240501', 'GSM4240502', 'GSM4240503', 'GSM4240504', 'GSM4240505', 'GSM4240506', 'GSM4240507', 'GSM4240508'], 'sample_taxid': [94232], 'sample_organism': ['Epinephelus coioides'], 'platform_id': ['GPL27964'], 'platform_taxid': [94232], 'platform_organism': ['Epinephelus coioides'], 'data_processing': None, 'description': None, 'supplemental_file': [], 'overall_design': 'qPCR gene expression profiling. Gonadal tissues were collected from the fish in each group at 24 hours after cortisol treatment (hat), 96 hat, 7 days after treatment (dat), 15 dat, 30 dat and 60 dat for gene expression analysis.', 'contributor': [{'first': 'Jiaxing', 'middle': '', 'last': 'Chen'}, {'first': 'Yong', 'middle': '', 'last': 'Zhang'}]}}\n",
      "GSE123876\n",
      "{'GSE123876': {'title': 'Sexually dimorphic role of constitutive androstane receptor in the regulation of endocrine and metabolic homeostasis', 'status': 'Public on Jan 02 2020', 'submission_date': '2018-12-14', 'last_update_date': '2020-01-02', 'accession': 'GSE123876', 'subseries': [], 'bioprojects': ['PRJNA510103'], 'sra_studies': [], 'contact': {'city': 'Toulouse', 'name': {'first': 'CÃ©line', 'middle': '', 'last': 'Lukowicz'}, 'email': 'celine.lukowicz@inra.fr', 'state': None, 'address': '180 chemin de tournefeuille', 'department': 'ToxAlim', 'country': 'France', 'web_link': None, 'institute': 'INRA UMR1331', 'zip_postal_code': None, 'phone': None}, 'type': ['Expression profiling by array'], 'summary': 'The constitutive androstane receptor (CAR) is a transcription factor involved in detoxification through regulating expression of xenobiotic-metabolizing enzymes. Highly expressed in the liver, it is important in protecting the organism against exogenous and endogenous toxic molecules such as bile acids and bilirubin and in the catabolism of thyroid and steroid hormones. A role has also been assigned to CAR in the regulation of energy metabolism, although related mechanisms have been studied primarily in males and in physiopathological conditions. Here, we compared the impact of CAR deficiency on energy homeostasis regulation between male and female mice in a normal physiological context. Large-scale gene expression analysis in 16-week-old animals revealed significant sexual dimorphism in the hepatic transcriptome of CAR-/- mice.', 'relation': ['BioProject: https://www.ncbi.nlm.nih.gov/bioproject/PRJNA510103'], 'pubmed_id': [31882815], 'sample_id': ['GSM3514991', 'GSM3514992', 'GSM3514993', 'GSM3514994', 'GSM3514995', 'GSM3514996', 'GSM3514997', 'GSM3514998', 'GSM3514999', 'GSM3515000', 'GSM3515001', 'GSM3515002', 'GSM3515003', 'GSM3515004', 'GSM3515005', 'GSM3515006', 'GSM3515007', 'GSM3515008', 'GSM3515009', 'GSM3515010', 'GSM3515011', 'GSM3515012', 'GSM3515013', 'GSM3515014'], 'sample_taxid': [10090], 'sample_organism': ['Mus musculus'], 'platform_id': ['GPL10787'], 'platform_taxid': [10090], 'platform_organism': ['Mus musculus'], 'data_processing': None, 'description': None, 'supplemental_file': [], 'overall_design': \"Thirty-six WT or CAR-/- males and 36 WT or CAR-/- females were housed in the laboratory animal room (23 Â± 2 ÂºC) and segregated in 2 groupes each including 18 mice. One groupe of WT and CAR-/- males and females was sacrified at the age of 16 weeks. An other group containing the same animals was  followed for 68 weeks. Body weight was monitored throughout the experiment, and glucose tolerance and insulin sensitivity tests were performed. At death, blood, liver, epididymal adipose tissue (WAT) were collected and serum biochemical parameters were measured. Liver were analyzed for fatty acid content, histology. Hepatic gene expression studies were performed on the 16 week-old mice  by microarray . Gene expression profiles were performed on 6 liver samples per group at the GeTâ\\x80\\x90TRiX facility (GÃ©noToul, GÃ©nopole Toulouse Midi-PyrÃ©nÃ©es) using Agilent Sureprint G3 Mouse GE v2 microarrays (8x60K, design 074809) following the manufacturer's instructions. For each sample, Cyanine-3 (Cy3) labeled cRNA was prepared from 200 ng of total RNA using the One-Color Quick Amp Labeling kit (Agilent) according to the manufacturer's instructions, followed by Agencourt RNAClean XP (Agencourt Bioscience Corporation, Beverly, Massachusetts). Dye incorporation and cRNA yield were checked using Dropsenseâ\\x84¢ 96 UV/VIS droplet reader (Trinean, Belgium). 600 ng of Cy3-labelled cRNA were hybridized on the microarray slides following the manufacturerâ\\x80\\x99s instructions. Immediately after washing, the slides were scanned on Agilent G2505C Microarray Scanner using Agilent Scan Control A.8.5.1 software and fluorescence signal extracted using Agilent Feature Extraction software v10.10.1.1 with default parameters. Microarray data were analyzed using R (www.r-project.org, R v. 3.1.2), using Bioconductor packages (www.bioconductor.org, v 3.0, as described in GEO accession GSE. Raw data (median signal intensity) were filtered, log2 transformed and normalized using quantile method3\", 'contributor': [{'first': 'CÃ©line', 'middle': '', 'last': 'Lukowicz'}, {'first': 'Sandrine', 'middle': '', 'last': 'Ellero-Simatos'}, {'first': 'Fabiana', 'middle': '', 'last': 'Oliviero'}, {'first': 'Arnaud', 'middle': '', 'last': 'Polizzi'}, {'first': 'Claire', 'middle': '', 'last': 'Naylies'}, {'first': 'Yannick', 'middle': '', 'last': 'Lippi'}, {'first': 'Herve', 'middle': '', 'last': 'Guillou'}, {'first': 'Laila', 'middle': '', 'last': 'Mselli-Lakhal'}]}}\n",
      "GSE142815\n",
      "{'GSE142815': {'title': 'Genome-wide maps of chromatin state and gene expression in mouse liver.', 'status': 'Public on Jan 02 2020', 'submission_date': '2020-01-01', 'last_update_date': '2020-02-18', 'accession': 'GSE142815', 'subseries': [], 'bioprojects': ['PRJNA598444'], 'sra_studies': ['SRP239229'], 'contact': {'city': 'Berkeley', 'name': {'first': 'Jose', 'middle': 'A', 'last': 'Viscarra'}, 'email': 'jviscarra@berkeley.edu', 'state': 'Ca', 'address': '220 Morgan Hall', 'department': 'NST', 'country': 'USA', 'web_link': None, 'institute': 'UC Berkeley', 'zip_postal_code': None, 'phone': None}, 'type': ['Expression profiling by high throughput sequencing', 'Genome binding/occupancy profiling by high throughput sequencing'], 'summary': 'Using high throughput sequencing we report chromatin accessibility, H3K9 methylation status, and gene expression in mouse liver upon fasting/refeeding a high carb diet in wild-type and JMJD1C KO mice.', 'relation': ['BioProject: https://www.ncbi.nlm.nih.gov/bioproject/PRJNA598444', 'SRA: https://www.ncbi.nlm.nih.gov/sra?term=SRP239229'], 'pubmed_id': [32034158], 'sample_id': ['GSM4240509', 'GSM4240510', 'GSM4240511', 'GSM4240512', 'GSM4240513', 'GSM4240514', 'GSM4240515', 'GSM4240516', 'GSM4240517', 'GSM4240518', 'GSM4240519', 'GSM4240520', 'GSM4240521', 'GSM4240522', 'GSM4240523', 'GSM4240524', 'GSM4240525', 'GSM4240526'], 'sample_taxid': [10090], 'sample_organism': ['Mus musculus'], 'platform_id': ['GPL21103'], 'platform_taxid': [10090], 'platform_organism': ['Mus musculus'], 'data_processing': None, 'description': None, 'supplemental_file': [], 'overall_design': 'Examination of chromatin accessibility, H3K9me2 methylation, and gene expression in mouse liver', 'contributor': [{'first': 'Hei', 'middle': 'S', 'last': 'Sul'}, {'first': 'Jose', 'middle': 'A', 'last': 'Viscarra'}]}}\n",
      "GSE124792\n",
      "{'GSE124792': {'title': 'Transcriptome analysis and quantification of microaerobic growth of Geobacter sulfurreducens', 'status': 'Public on Jan 02 2020', 'submission_date': '2019-01-08', 'last_update_date': '2020-03-24', 'accession': 'GSE124792', 'subseries': [], 'bioprojects': ['PRJNA513494'], 'sra_studies': [], 'contact': {'city': 'Braunschweig', 'name': {'first': 'Rebekka', 'middle': '', 'last': 'Biedendieck'}, 'email': None, 'state': None, 'address': 'Rebenring 56', 'department': 'Institute of Microbiology', 'country': 'Germany', 'web_link': None, 'institute': 'Technische UniverstitÃ¤t Braunschweig', 'zip_postal_code': None, 'phone': None}, 'type': ['Expression profiling by array'], 'summary': 'Geobacter sulfurreducens was originally considered a strict anaerobe. However, this bacterium was later shown to not only tolerate but also to use oxygen as terminal electron acceptor. Research performed has so far only revealed the general ability of G. sulfurreducens to reduce oxygen, but the oxygen consumption rate has not been quantified, nor has evidence been provided as to how the bacterium achieves oxygen consumption. The microaerobic growth of G. sulfurreducens under more controlled operating conditions was investigated here and a transcriptome analysis was performed to elucidate possible metabolic mechanisms important for oxygen consumption in G. sulfurreducens. The experiments revealed that growth with oxygen is possible to the same extent as with fumarate when a maximum oxygen load per cell of 95 mgO2gcdw-1h-1 is applied. When oxygen concentrations are too high, growth is completely inhibited and there is no partial consumption. Transcriptome analysis suggests a menaquinol oxidase to be the enzyme responsible for oxygen reduction. Transcriptome analysis has further revealed three different survival strategies, depending on the oxygen concentration present. When prompted with small amounts of oxygen, G. sulfurreducens will try to escape the microaerobic area; if concentrations are higher cells will focus on rapid and complete reduction; and ultimately cells will form protective layers if a complete reduction becomes impossible. The results presented here have important implications for understanding how G. sulfurreducens survives exposure to oxygen.', 'relation': ['BioProject: https://www.ncbi.nlm.nih.gov/bioproject/PRJNA513494'], 'pubmed_id': [31945063], 'sample_id': ['GSM3554161', 'GSM3554162', 'GSM3554163', 'GSM3554164', 'GSM3554165', 'GSM3554166', 'GSM3554167', 'GSM3554168', 'GSM3554169', 'GSM3554170', 'GSM3554171', 'GSM3554172'], 'sample_taxid': [35554], 'sample_organism': ['Geobacter sulfurreducens'], 'platform_id': ['GPL26004'], 'platform_taxid': [35554], 'platform_organism': ['Geobacter sulfurreducens'], 'data_processing': None, 'description': None, 'supplemental_file': [], 'overall_design': 'Geobacter sulfurreducens was grown in minimal medium containing 10 mM acetate under anaerobic and aerobic conditions. Cultivations were performed with three biological replicates. Samples were taken during the late growth phase from cultures exposed to 1%, 3% or 5% of oxygen. Reference for transcriptome analysis were samples taken from anaerobic cultivations.', 'contributor': [{'first': 'Christina', 'middle': '', 'last': 'Engel'}, {'first': 'David', 'middle': '', 'last': 'VorlÃ¤nder'}, {'first': 'Rebekka', 'middle': '', 'last': 'Biedendieck'}, {'first': 'Katrin', 'middle': '', 'last': 'Dohnt'}, {'first': 'Rainer', 'middle': '', 'last': 'Krull'}]}}\n",
      "GSE139488\n",
      "{'GSE139488': {'title': 'Transcriptomes of different developmental stages of Zeugodacus cucurbitae', 'status': 'Public on Jan 02 2020', 'submission_date': '2019-10-28', 'last_update_date': '2021-12-02', 'accession': 'GSE139488', 'subseries': [], 'bioprojects': [], 'sra_studies': ['SRP220120'], 'contact': {'city': 'Beibei', 'name': {'first': 'Dong', 'middle': '', 'last': 'Wei'}, 'email': 'dong_wei1988@yahoo.com', 'state': 'Chongqing', 'address': 'Tiansheng', 'department': None, 'country': 'China', 'web_link': None, 'institute': 'Southwest University', 'zip_postal_code': None, 'phone': None}, 'type': ['Expression profiling by high throughput sequencing'], 'summary': 'Functional studies of the genes associated with development and reproduction during different life stages are limited in Zeugodacus cucurbitae. There have yet to be comprehensive transcriptomic resources for genetic and functional genomic studies to identify the molecular mechanisms related to its development and reproduction.', 'relation': ['SRA: https://www.ncbi.nlm.nih.gov/sra?term=SRP220120'], 'pubmed_id': [32047161], 'sample_id': ['GSM4142233', 'GSM4142234', 'GSM4142235', 'GSM4142236', 'GSM4142237', 'GSM4142238', 'GSM4142239', 'GSM4142240', 'GSM4142241', 'GSM4142242', 'GSM4142243', 'GSM4142244', 'GSM4142245', 'GSM4142246', 'GSM4142247', 'GSM4142248', 'GSM4142249', 'GSM4142250', 'GSM4142251', 'GSM4142252', 'GSM4142253', 'GSM4142254', 'GSM4142255', 'GSM4142256', 'GSM4142257', 'GSM4142258', 'GSM4142259', 'GSM4142260', 'GSM4142261', 'GSM4142262', 'GSM4142263', 'GSM4142264', 'GSM4142265', 'GSM4142266', 'GSM4142267', 'GSM4142268', 'GSM4142269', 'GSM4142270', 'GSM4142271', 'GSM4142272', 'GSM4142273', 'GSM4142274', 'GSM4142275', 'GSM4142276', 'GSM4142277', 'GSM4142278', 'GSM4142279', 'GSM4142280', 'GSM4142281', 'GSM4142282', 'GSM4142283', 'GSM4142284'], 'sample_taxid': [28588], 'sample_organism': ['Zeugodacus cucurbitae'], 'platform_id': ['GPL27683'], 'platform_taxid': [28588], 'platform_organism': ['Zeugodacus cucurbitae'], 'data_processing': None, 'description': None, 'supplemental_file': [], 'overall_design': 'we comprehensively sequenced the transcriptomes of four different developmental stages: egg, larva, pupa, and adults.\\nSRA Study accession (SRP220120) and BioProject accession (PRJNA562032)', 'contributor': [{'first': 'Dong', 'middle': '', 'last': 'Wei'}, {'first': 'Jin-Jun', 'middle': '', 'last': 'Wang'}, {'first': 'Hui-Qian', 'middle': '', 'last': 'Xu'}]}}\n",
      "GSE93053\n",
      "{'GSE93053': {'title': 'The human CCHC-type Zinc Finger nucleic acid binding protein binds G-rich elements in target mRNA coding sequences initiation promotes translation.', 'status': 'Public on Jan 02 2020', 'submission_date': '2017-01-02', 'last_update_date': '2020-01-02', 'accession': 'GSE93053', 'subseries': ['GSE93051', 'GSE93052'], 'bioprojects': ['PRJNA359689'], 'sra_studies': [], 'contact': {'city': 'Wuerzburg', 'name': {'first': 'Sanjay', 'middle': 'Kumar', 'last': 'Gupta'}, 'email': 'sanjay.gupta@uni-wuerzburg.de', 'state': 'Bavaria', 'address': 'Biozentrum, Am Hubland', 'department': 'Dept of Biochemistry', 'country': 'Germany', 'web_link': None, 'institute': 'University of Wuerzburg', 'zip_postal_code': None, 'phone': None}, 'type': ['Expression profiling by high throughput sequencing', 'Other'], 'summary': 'This SuperSeries is composed of the SubSeries listed below.', 'relation': ['SuperSeries of: GSE93051', 'SuperSeries of: GSE93052', 'BioProject: https://www.ncbi.nlm.nih.gov/bioproject/PRJNA359689'], 'pubmed_id': [], 'sample_id': ['GSM2443010', 'GSM2443011', 'GSM2443012', 'GSM2443013', 'GSM2443014', 'GSM2443015', 'GSM2443016', 'GSM2443017', 'GSM2443018', 'GSM2443019', 'GSM2443020', 'GSM2443021', 'GSM2443022', 'GSM2443023', 'GSM2443024', 'GSM2443025', 'GSM2443026', 'GSM2443027'], 'sample_taxid': [9606], 'sample_organism': ['Homo sapiens'], 'platform_id': ['GPL16791'], 'platform_taxid': [9606], 'platform_organism': ['Homo sapiens'], 'data_processing': None, 'description': None, 'supplemental_file': [], 'overall_design': 'Refer to individual Series', 'contributor': []}}\n",
      "GSE142464\n",
      "{'GSE142464': {'title': 'Pseudomonas aeruginosa core metabolism exerts a widespread growth-independent control on virulence', 'status': 'Public on Jan 02 2020', 'submission_date': '2019-12-20', 'last_update_date': '2020-06-14', 'accession': 'GSE142464', 'subseries': [], 'bioprojects': ['PRJNA597059'], 'sra_studies': ['SRP238428'], 'contact': {'city': 'Aglantzia', 'name': {'first': 'Vasilis', 'middle': 'J', 'last': 'Promponas'}, 'email': 'vprobon@ucy.ac.cy', 'state': 'Nicosia', 'address': '1 Panepistimiou Avenue', 'department': 'Department of Biological Sciences', 'country': 'Cyprus', 'web_link': None, 'institute': 'University of Cypus', 'zip_postal_code': None, 'phone': None}, 'type': ['Expression profiling by high throughput sequencing'], 'summary': 'Gene expression analysis of highly vs. lowly pathogenic P. aeruginosa strains identifies many virulence factors and only a few metabolism genes related to virulence. Functional transcriptomics re-analysis of core metabolism at the pathway level, reveals amino-acid, succinate, citramalate, and chorismate biosynthesis and beta-oxidation as important for full virulence and expression of these pathways indicative of virulence in various strains.', 'relation': ['BioProject: https://www.ncbi.nlm.nih.gov/bioproject/PRJNA597059', 'SRA: https://www.ncbi.nlm.nih.gov/sra?term=SRP238428'], 'pubmed_id': [32528034], 'sample_id': ['GSM4228142', 'GSM4228143', 'GSM4228144', 'GSM4228145', 'GSM4228146', 'GSM4228147', 'GSM4228148', 'GSM4228149', 'GSM4228150', 'GSM4228151', 'GSM4228152', 'GSM4228153', 'GSM4228154', 'GSM4228155', 'GSM4228156', 'GSM4228157', 'GSM4228158', 'GSM4228159', 'GSM4228160', 'GSM4228161', 'GSM4228162', 'GSM4228163', 'GSM4228164', 'GSM4228165'], 'sample_taxid': [287], 'sample_organism': ['Pseudomonas aeruginosa'], 'platform_id': ['GPL23385'], 'platform_taxid': [287], 'platform_organism': ['Pseudomonas aeruginosa'], 'data_processing': None, 'description': None, 'supplemental_file': [], 'overall_design': 'Highly pathogenic Pseudomonas aeruginosa strains (PA14, MTB-1 and B136-33) were compared with lowly pathogenic ones (CF5, C3719 and PACS2) via RNAseq using  RNA isolated from LB cultures at OD600nm 1 and 3 in 2 biological replicates each.', 'contributor': [{'first': 'Vasilis', 'middle': 'J', 'last': 'Promponas'}, {'first': 'Yiorgos', 'middle': '', 'last': 'Apidianakis'}]}}\n"
     ]
    },
    {
     "ename": "CancelledError",
     "evalue": "",
     "output_type": "error",
     "traceback": [
      "\u001b[0;31m---------------------------------------------------------------------------\u001b[0m",
      "\u001b[0;31mCancelledError\u001b[0m                            Traceback (most recent call last)",
      "Input \u001b[0;32mIn [73]\u001b[0m, in \u001b[0;36m<module>\u001b[0;34m\u001b[0m\n\u001b[0;32m----> 1\u001b[0m \u001b[38;5;28;01mawait\u001b[39;00m main()\n",
      "Input \u001b[0;32mIn [72]\u001b[0m, in \u001b[0;36mmain\u001b[0;34m()\u001b[0m\n\u001b[1;32m     34\u001b[0m \u001b[38;5;28;01mtry\u001b[39;00m:\n\u001b[1;32m     35\u001b[0m     \u001b[38;5;28;01mfor\u001b[39;00m geo \u001b[38;5;129;01min\u001b[39;00m yielder():\n\u001b[0;32m---> 36\u001b[0m         \u001b[38;5;28;01mawait\u001b[39;00m queue\u001b[38;5;241m.\u001b[39mput(geo)\n\u001b[1;32m     37\u001b[0m     \u001b[38;5;28;01mawait\u001b[39;00m queue\u001b[38;5;241m.\u001b[39mjoin()\n\u001b[1;32m     38\u001b[0m \u001b[38;5;28;01mfinally\u001b[39;00m:\n",
      "File \u001b[0;32m~/.pyenv/versions/3.9.6/lib/python3.9/asyncio/queues.py:128\u001b[0m, in \u001b[0;36mQueue.put\u001b[0;34m(self, item)\u001b[0m\n\u001b[1;32m    126\u001b[0m \u001b[38;5;28mself\u001b[39m\u001b[38;5;241m.\u001b[39m_putters\u001b[38;5;241m.\u001b[39mappend(putter)\n\u001b[1;32m    127\u001b[0m \u001b[38;5;28;01mtry\u001b[39;00m:\n\u001b[0;32m--> 128\u001b[0m     \u001b[38;5;28;01mawait\u001b[39;00m putter\n\u001b[1;32m    129\u001b[0m \u001b[38;5;28;01mexcept\u001b[39;00m:\n\u001b[1;32m    130\u001b[0m     putter\u001b[38;5;241m.\u001b[39mcancel()  \u001b[38;5;66;03m# Just in case putter is not done yet.\u001b[39;00m\n",
      "\u001b[0;31mCancelledError\u001b[0m: "
     ]
    }
   ],
   "source": [
    "await main()"
   ]
  },
  {
   "cell_type": "code",
   "execution_count": null,
   "id": "73dd532a-7e3f-4128-9817-2c2919c95165",
   "metadata": {},
   "outputs": [],
   "source": []
  }
 ],
 "metadata": {
  "kernelspec": {
   "display_name": "omicidx-py39",
   "language": "python",
   "name": "omicidx-py39"
  },
  "language_info": {
   "codemirror_mode": {
    "name": "ipython",
    "version": 3
   },
   "file_extension": ".py",
   "mimetype": "text/x-python",
   "name": "python",
   "nbconvert_exporter": "python",
   "pygments_lexer": "ipython3",
   "version": "3.9.6"
  }
 },
 "nbformat": 4,
 "nbformat_minor": 5
}
