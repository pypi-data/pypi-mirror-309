{
 "cells": [
  {
   "cell_type": "code",
   "execution_count": null,
   "metadata": {},
   "outputs": [],
   "source": [
    "!pip install pyinpe -q\n",
    "from pyinpe.WFS import connectDeter, getAlerts\n",
    "\n",
    "# Connect to INPE's DETER Cerrado WFS\n",
    "connectDeter('Cerrado')"
   ]
  },
  {
   "cell_type": "code",
   "execution_count": null,
   "metadata": {},
   "outputs": [],
   "source": [
    "# Get a geodataframe with alerts at the city of Posse, Goias in 2020\n",
    "getAlerts(spatial_filter='Posse - GO', temporal_filter=['2020-01-01', '2020-12-31'])"
   ]
  },
  {
   "cell_type": "code",
   "execution_count": null,
   "metadata": {},
   "outputs": [],
   "source": [
    "# Get a geodataframe with alerts using the IBGE geocode for the city of Brasilândia, Mato Grosso do Sul\n",
    "getAlerts(spatial_filter=5002308) "
   ]
  },
  {
   "cell_type": "code",
   "execution_count": null,
   "metadata": {},
   "outputs": [],
   "source": [
    "# Get a geodataframe with alerts within a bounding box [x_min, y_min, x_max, y_max]\n",
    "getAlerts(spatial_filter = [-53.5,-21,-53,-20.5])"
   ]
  },
  {
   "cell_type": "code",
   "execution_count": null,
   "metadata": {},
   "outputs": [],
   "source": [
    "# Get a geodataframe with alerts that overlaps a WKT geometry\n",
    "getAlerts(spatial_filter = 'POLYGON ((-46.3 -14.3, -46.2 -14.2, -46.2 -14.3, -46.3 -14.3))', temporal_filter=['2020-01-01', '2024-12-31'])"
   ]
  },
  {
   "cell_type": "code",
   "execution_count": null,
   "metadata": {},
   "outputs": [],
   "source": [
    "# Connect to INPE's DETER Amazonia WFS\n",
    "connectDeter('Amazonia')"
   ]
  },
  {
   "cell_type": "code",
   "execution_count": null,
   "metadata": {},
   "outputs": [],
   "source": [
    "getAlerts(spatial_filter = 'Colniza - MT', alert_type = 'degradation')"
   ]
  },
  {
   "cell_type": "code",
   "execution_count": null,
   "metadata": {},
   "outputs": [],
   "source": [
    "from pyinpe.WFS import connectQueimadas, getFires\n",
    "\n",
    "# Connect to INPE's Queimadas WFS\n",
    "connectQueimadas()"
   ]
  },
  {
   "cell_type": "code",
   "execution_count": null,
   "metadata": {},
   "outputs": [],
   "source": [
    "# Get a geodataframe with fires at the city of Colniza, Mato Grosso in the first semester of 2021\n",
    "getFires(spatial_filter = 'Colniza - MT', temporal_filter = ['2021-01-01', '2021-06-30'])"
   ]
  },
  {
   "cell_type": "code",
   "execution_count": null,
   "metadata": {},
   "outputs": [],
   "source": [
    "# Get a geodataframe with fires using the IBGE geocode for the city of Novo Mundo, Mato Grosso from October 2021 to February 2022\n",
    "getFires(spatial_filter = 5106265, temporal_filter=['2021-10-01', '2022-02-28'])"
   ]
  },
  {
   "cell_type": "code",
   "execution_count": null,
   "metadata": {},
   "outputs": [],
   "source": [
    "# Get a geodataframe with fires within a bounding box [x_min, y_min, x_max, y_max] from November 15, 2022 to January 15, 2023\n",
    "getFires(spatial_filter = [-59.5,-7,-59,-6.5], temporal_filter = ['2022-11-15', '2023-01-15'])"
   ]
  },
  {
   "cell_type": "code",
   "execution_count": null,
   "metadata": {},
   "outputs": [],
   "source": [
    "# Get a geodataframe with fires within a WKT geometry in the year of 2023\n",
    "getFires(spatial_filter = 'POLYGON ((-60 -10, -59.9 -9.9, -59.9 -10, -60 -10))', temporal_filter=['2023-01-01', '2023-12-31'])"
   ]
  }
 ],
 "metadata": {
  "kernelspec": {
   "display_name": "base",
   "language": "python",
   "name": "python3"
  },
  "language_info": {
   "codemirror_mode": {
    "name": "ipython",
    "version": 3
   },
   "file_extension": ".py",
   "mimetype": "text/x-python",
   "name": "python",
   "nbconvert_exporter": "python",
   "pygments_lexer": "ipython3",
   "version": "3.11.7"
  },
  "orig_nbformat": 4
 },
 "nbformat": 4,
 "nbformat_minor": 2
}
