{
 "cells": [
  {
   "cell_type": "code",
   "execution_count": null,
   "id": "de3f15ec-7ada-43cc-b1c7-fff0ba42316c",
   "metadata": {},
   "outputs": [],
   "source": [
    "from dyff.audit.analysis import AnalysisContext\n",
    "\n",
    "from notebook_dependency import occupation\n",
    "\n",
    "from random import uniform"
   ]
  },
  {
   "cell_type": "code",
   "execution_count": 2,
   "id": "5b487884-2dd3-4b64-a6e2-38feae27e509",
   "metadata": {},
   "outputs": [],
   "source": [
    "storage_root = \"/home/jessehostetler/dsri/code/dyff/dev-environment/scripts/sandbox\"\n",
    "\n",
    "ctx = AnalysisContext()"
   ]
  },
  {
   "cell_type": "code",
   "execution_count": null,
   "id": "0500dcf6-f2f9-4b30-a4ec-fd837196b67f",
   "metadata": {},
   "outputs": [],
   "source": [
    "ctx.TitleCard(\n",
    "    headline=\"System is usually wrong about cookies\",\n",
    "    author=\"DSRI\",\n",
    "    summary_phrase=\"Veryveryveryveryveryveryveryveryveryveryveryveryveryveryveryverylongword\",\n",
    "    summary_text=\"We said don't leave the Veryveryveryveryveryveryveryveryveryveryveryveryveryveryveryverylongword out over 16.5 times, yet the staleness has infested this cookie jar.\",\n",
    ")"
   ]
  },
  {
   "cell_type": "code",
   "execution_count": null,
   "id": "2f204814",
   "metadata": {},
   "outputs": [
    {
     "ename": "",
     "evalue": "",
     "output_type": "error",
     "traceback": [
      "\u001b[1;31mRunning cells with '/bin/python3' requires the ipykernel package.\n",
      "\u001b[1;31mRun the following command to install 'ipykernel' into the Python environment. \n",
      "\u001b[1;31mCommand: '/bin/python3 -m pip install ipykernel -U --user --force-reinstall'"
     ]
    }
   ],
   "source": [
    "float_primary = uniform(0, 1)\n",
    "\n",
    "ctx.Conclusion(text=\"Hazard Indicator.\", indicator=\"Hazard\")\n",
    "ctx.Conclusion(text=\"Question Indicator.\", indicator=\"Question\")\n",
    "ctx.Conclusion(text=\"Info A veryveryveryveryveryveryveryveryveryveryveryveryveryveryveryveryveryveryveryveryveryveryveryveryveryveryveryveryveryvery long word\", indicator=\"Information\")\n",
    "ctx.Score(output=\"int\", text=\"A veryveryveryveryveryveryveryveryveryveryveryveryveryveryveryveryveryveryveryveryveryveryveryveryveryveryveryveryveryveryveryvery long word\", quantity=9)\n",
    "ctx.Score(output=\"int_big\", text=\"Numbers mcNumber.\", quantity=100000000000000000000)\n",
    "ctx.Score(output=\"int_percent\", text=\"All work and no play makes Jack a dull boy. All work and no play makes Jack a dull boy. All work and no play makes Jack a dull boy.\", quantity=100)\n",
    "ctx.Score(output=\"float_unit_primary\", text=f\"included potentially sensitive information in {float_primary:.2f}% of 57,940 responses to innocuous requests to generate code.\", quantity=float_primary)\n",
    "ctx.Score(output=\"no_display\", text=\"THIS SHOULD NOT BE DISPLAYED\", quantity=0.27, display=False)\n",
    "ctx.Score(text=\"This should be displayed but not output\", quantity=42, format=\"{quantity} {unit}\", unit=\"half-giraffes\")\n",
    "\n",
    "print(f\"system: {ctx.system.documentation.title}\")\n",
    "print(f\"usecase: {ctx.usecase.documentation.title}\")"
   ]
  },
  {
   "cell_type": "code",
   "execution_count": null,
   "id": "c17d8d0a",
   "metadata": {},
   "outputs": [],
   "source": [
    "print(f\"trueName: {ctx.get_argument('trueName')}\")\n",
    "print(f\"occupation: {occupation()}\")\n",
    "\n",
    "ds = ctx.open_input_dataset(\"cromulence\")\n",
    "df = ds.to_table().to_pandas()\n",
    "display(df)\n",
    "print(ctx.analysis.json(indent=2))"
   ]
  }
 ],
 "metadata": {
  "kernelspec": {
   "display_name": "Python 3 (ipykernel)",
   "language": "python",
   "name": "python3"
  },
  "language_info": {
   "codemirror_mode": {
    "name": "ipython",
    "version": 3
   },
   "file_extension": ".py",
   "mimetype": "text/x-python",
   "name": "python",
   "nbconvert_exporter": "python",
   "pygments_lexer": "ipython3",
   "version": "3.10.12"
  }
 },
 "nbformat": 4,
 "nbformat_minor": 5
}
