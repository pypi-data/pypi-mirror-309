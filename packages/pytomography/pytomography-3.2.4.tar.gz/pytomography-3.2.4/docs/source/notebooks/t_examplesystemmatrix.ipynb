{
 "cells": [
  {
   "cell_type": "markdown",
   "id": "9fba7144",
   "metadata": {
    "papermill": {
     "duration": 0.010306,
     "end_time": "2024-10-02T04:12:02.606399",
     "exception": false,
     "start_time": "2024-10-02T04:12:02.596093",
     "status": "completed"
    },
    "tags": []
   },
   "source": [
    "# Implementing New System Matrices"
   ]
  },
  {
   "cell_type": "code",
   "execution_count": 1,
   "id": "664a5b9e",
   "metadata": {
    "execution": {
     "iopub.execute_input": "2024-10-02T04:12:02.627755Z",
     "iopub.status.busy": "2024-10-02T04:12:02.627161Z",
     "iopub.status.idle": "2024-10-02T04:12:06.357636Z",
     "shell.execute_reply": "2024-10-02T04:12:06.356863Z"
    },
    "papermill": {
     "duration": 3.743186,
     "end_time": "2024-10-02T04:12:06.359499",
     "exception": false,
     "start_time": "2024-10-02T04:12:02.616313",
     "status": "completed"
    },
    "tags": []
   },
   "outputs": [],
   "source": [
    "import pytomography\n",
    "from pytomography.algorithms import OSEM, MLEM\n",
    "from pytomography.metadata import ObjectMeta, ProjMeta\n",
    "from pytomography.projectors import SystemMatrix\n",
    "from pytomography.likelihoods import NegativeMSELikelihood\n",
    "import matplotlib.pyplot as plt\n",
    "import torch"
   ]
  },
  {
   "cell_type": "markdown",
   "id": "608c20bb",
   "metadata": {
    "papermill": {
     "duration": 0.009514,
     "end_time": "2024-10-02T04:12:06.379217",
     "exception": false,
     "start_time": "2024-10-02T04:12:06.369703",
     "status": "completed"
    },
    "tags": []
   },
   "source": [
    "For now, we'll set `pytomography.device='cpu'` since all the objects we'll be creating/testing on will be on CPU, but this can be changed (provided all created objects are placed on GPU)."
   ]
  },
  {
   "cell_type": "code",
   "execution_count": 2,
   "id": "a5e573b5",
   "metadata": {
    "execution": {
     "iopub.execute_input": "2024-10-02T04:12:06.400803Z",
     "iopub.status.busy": "2024-10-02T04:12:06.400170Z",
     "iopub.status.idle": "2024-10-02T04:12:06.403598Z",
     "shell.execute_reply": "2024-10-02T04:12:06.403038Z"
    },
    "papermill": {
     "duration": 0.015169,
     "end_time": "2024-10-02T04:12:06.404853",
     "exception": false,
     "start_time": "2024-10-02T04:12:06.389684",
     "status": "completed"
    },
    "tags": []
   },
   "outputs": [],
   "source": [
    "pytomography.device = 'cpu'"
   ]
  },
  {
   "cell_type": "markdown",
   "id": "c8b3a6ea",
   "metadata": {
    "papermill": {
     "duration": 0.009634,
     "end_time": "2024-10-02T04:12:06.424449",
     "exception": false,
     "start_time": "2024-10-02T04:12:06.414815",
     "status": "completed"
    },
    "tags": []
   },
   "source": [
    "This tutorial demonstrates how to implement new system matrices in PyTomography that interface with all the available likelihoods/reconstruction algorithms. We will consider a very simple scenario of an imaging system where \n",
    "\n",
    "* data is acquired at two angles (0 and 90 degrees)\n",
    "* detector consists of an MxM grid that perfectly aligns with an object of shape $M \\times M \\times M$\n",
    "* each detector pixel has a different sensitivity $s_j$\n",
    "\n",
    "The value of each pixel is thus\n",
    "\n",
    "$$ p_j = s_j \\sum_{i \\in \\text{line}_j} x_i$$\n",
    "\n",
    "<img src=\"../images/example_scanner_sm.png\"  width=\"500\">\n",
    "\n",
    "\n",
    "\n",
    " We'll call this system the **Example Scanner**, (or *EXS* for short) "
   ]
  },
  {
   "cell_type": "code",
   "execution_count": 3,
   "id": "9d74de56",
   "metadata": {
    "execution": {
     "iopub.execute_input": "2024-10-02T04:12:06.445320Z",
     "iopub.status.busy": "2024-10-02T04:12:06.444691Z",
     "iopub.status.idle": "2024-10-02T04:12:06.448138Z",
     "shell.execute_reply": "2024-10-02T04:12:06.447595Z"
    },
    "papermill": {
     "duration": 0.015591,
     "end_time": "2024-10-02T04:12:06.449642",
     "exception": false,
     "start_time": "2024-10-02T04:12:06.434051",
     "status": "completed"
    },
    "tags": []
   },
   "outputs": [],
   "source": [
    "M = 3\n",
    "object_meta = ObjectMeta(dr=(1.5,1.5,1.5), shape=(M,M,M))"
   ]
  },
  {
   "cell_type": "markdown",
   "id": "622a1606",
   "metadata": {
    "papermill": {
     "duration": 0.010249,
     "end_time": "2024-10-02T04:12:06.469457",
     "exception": false,
     "start_time": "2024-10-02T04:12:06.459208",
     "status": "completed"
    },
    "tags": []
   },
   "source": [
    "The objects we consider thus have dimensions of $3 \\times 3 \\times 3$ with voxel dimensions of $1.5 \\times 1.5 \\times 1.5$. The units of the voxel dimensions can be whatever (mm/cm): their units are defined by the system matrix."
   ]
  },
  {
   "cell_type": "markdown",
   "id": "9fd14578",
   "metadata": {
    "papermill": {
     "duration": 0.016153,
     "end_time": "2024-10-02T04:12:06.495540",
     "exception": false,
     "start_time": "2024-10-02T04:12:06.479387",
     "status": "completed"
    },
    "tags": []
   },
   "source": [
    "# Example 1: Non-ListMode"
   ]
  },
  {
   "cell_type": "markdown",
   "id": "4180e797",
   "metadata": {
    "papermill": {
     "duration": 0.009654,
     "end_time": "2024-10-02T04:12:06.514798",
     "exception": false,
     "start_time": "2024-10-02T04:12:06.505144",
     "status": "completed"
    },
    "tags": []
   },
   "source": [
    "## Metadata"
   ]
  },
  {
   "cell_type": "markdown",
   "id": "4364c1e4",
   "metadata": {
    "papermill": {
     "duration": 0.009769,
     "end_time": "2024-10-02T04:12:06.534425",
     "exception": false,
     "start_time": "2024-10-02T04:12:06.524656",
     "status": "completed"
    },
    "tags": []
   },
   "source": [
    "We'll start by creating a projection metadata class which will interface with the system matrix\n",
    "* It should be a subclass of the `ProjMeta` class of PyTomography"
   ]
  },
  {
   "cell_type": "code",
   "execution_count": 4,
   "id": "1a5f16fb",
   "metadata": {
    "execution": {
     "iopub.execute_input": "2024-10-02T04:12:06.555418Z",
     "iopub.status.busy": "2024-10-02T04:12:06.554951Z",
     "iopub.status.idle": "2024-10-02T04:12:06.559045Z",
     "shell.execute_reply": "2024-10-02T04:12:06.558375Z"
    },
    "papermill": {
     "duration": 0.016248,
     "end_time": "2024-10-02T04:12:06.560416",
     "exception": false,
     "start_time": "2024-10-02T04:12:06.544168",
     "status": "completed"
    },
    "tags": []
   },
   "outputs": [],
   "source": [
    "class EXSProjMeta(ProjMeta):\n",
    "    def __init__(self, M, sensitivity_factor):\n",
    "        self.M = M\n",
    "        self.sensitivity_factor = sensitivity_factor\n",
    "        if (sensitivity_factor.shape[0]!=M)*(sensitivity_factor.shape[1]!=M):\n",
    "            raise ValueError(\"sensitivity_factor should have side dimensions M\")"
   ]
  },
  {
   "cell_type": "code",
   "execution_count": 5,
   "id": "66d71c60",
   "metadata": {
    "execution": {
     "iopub.execute_input": "2024-10-02T04:12:06.581291Z",
     "iopub.status.busy": "2024-10-02T04:12:06.580812Z",
     "iopub.status.idle": "2024-10-02T04:12:06.585139Z",
     "shell.execute_reply": "2024-10-02T04:12:06.584587Z"
    },
    "papermill": {
     "duration": 0.016386,
     "end_time": "2024-10-02T04:12:06.586413",
     "exception": false,
     "start_time": "2024-10-02T04:12:06.570027",
     "status": "completed"
    },
    "tags": []
   },
   "outputs": [],
   "source": [
    "M = object_meta.shape[0]\n",
    "# Note: the sensitivty factor is the same for each projection angle, a single detector is \"rotating\" between angle 0 and 90\n",
    "sensitivity_factor = torch.ones((M,M))+0.3*torch.rand((M,M))\n",
    "proj_meta = EXSProjMeta(M, sensitivity_factor)"
   ]
  },
  {
   "cell_type": "markdown",
   "id": "c35a1fb7",
   "metadata": {
    "papermill": {
     "duration": 0.009577,
     "end_time": "2024-10-02T04:12:06.605717",
     "exception": false,
     "start_time": "2024-10-02T04:12:06.596140",
     "status": "completed"
    },
    "tags": []
   },
   "source": [
    "## System Matrix\n",
    "\n",
    "### Part 1: Understanding the Forward/Backward PRojections"
   ]
  },
  {
   "cell_type": "markdown",
   "id": "af64ab91",
   "metadata": {
    "papermill": {
     "duration": 0.009629,
     "end_time": "2024-10-02T04:12:06.625155",
     "exception": false,
     "start_time": "2024-10-02T04:12:06.615526",
     "status": "completed"
    },
    "tags": []
   },
   "source": [
    "Before we begin to build the system matrix, lets understand the operations required to implement this system matrix. \n",
    "\n",
    "* Forward projection requires summing the object along its $x$-axis and $y$-axis respectively, and then concatenating together.\n",
    "* In PyTomography, our object is 3D, so it's shape is `[Lx,Ly,Lz]`; our projections have shape `[2,M,M]`"
   ]
  },
  {
   "cell_type": "code",
   "execution_count": 6,
   "id": "590d28dc",
   "metadata": {
    "execution": {
     "iopub.execute_input": "2024-10-02T04:12:06.646361Z",
     "iopub.status.busy": "2024-10-02T04:12:06.645933Z",
     "iopub.status.idle": "2024-10-02T04:12:06.653746Z",
     "shell.execute_reply": "2024-10-02T04:12:06.653139Z"
    },
    "papermill": {
     "duration": 0.020147,
     "end_time": "2024-10-02T04:12:06.655039",
     "exception": false,
     "start_time": "2024-10-02T04:12:06.634892",
     "status": "completed"
    },
    "tags": []
   },
   "outputs": [
    {
     "data": {
      "text/plain": [
       "torch.Size([2, 3, 3])"
      ]
     },
     "execution_count": 6,
     "metadata": {},
     "output_type": "execute_result"
    }
   ],
   "source": [
    "sample_object = torch.rand(object_meta.shape) \n",
    "# Sum object along x to get projection at 0 degrees\n",
    "sample_projection_0degrees = sample_object.sum(dim=0) * proj_meta.sensitivity_factor\n",
    "# Sum object along y to get projection at 90 degrees\n",
    "sample_projection_90degrees = sample_object.sum(dim=1) * proj_meta.sensitivity_factor\n",
    "# Concatenate to get the full set of projections\n",
    "sample_projections = torch.stack([sample_projection_0degrees, sample_projection_90degrees], dim=0)\n",
    "sample_projections.shape"
   ]
  },
  {
   "cell_type": "markdown",
   "id": "e1f378ca",
   "metadata": {
    "papermill": {
     "duration": 0.00995,
     "end_time": "2024-10-02T04:12:06.674714",
     "exception": false,
     "start_time": "2024-10-02T04:12:06.664764",
     "status": "completed"
    },
    "tags": []
   },
   "source": [
    "Let's plot the projections at each angle"
   ]
  },
  {
   "cell_type": "code",
   "execution_count": 7,
   "id": "bb35936b",
   "metadata": {
    "execution": {
     "iopub.execute_input": "2024-10-02T04:12:06.695525Z",
     "iopub.status.busy": "2024-10-02T04:12:06.694990Z",
     "iopub.status.idle": "2024-10-02T04:12:06.880354Z",
     "shell.execute_reply": "2024-10-02T04:12:06.879720Z"
    },
    "papermill": {
     "duration": 0.197455,
     "end_time": "2024-10-02T04:12:06.881700",
     "exception": false,
     "start_time": "2024-10-02T04:12:06.684245",
     "status": "completed"
    },
    "tags": []
   },
   "outputs": [
    {
     "data": {
      "image/png": "[encoded data removed]",
      "text/plain": [
       "<Figure size 400x150 with 4 Axes>"
      ]
     },
     "metadata": {},
     "output_type": "display_data"
    }
   ],
   "source": [
    "plt.figure(figsize=(4,1.5))\n",
    "plt.subplot(121)\n",
    "plt.pcolormesh(sample_projections[0].cpu().T, vmin=0, vmax=2)\n",
    "plt.colorbar()\n",
    "plt.axis('off')\n",
    "plt.title('Angle 0')\n",
    "plt.subplot(122)\n",
    "plt.pcolormesh(sample_projections[1].cpu().T, vmin=0, vmax=2)\n",
    "plt.colorbar()\n",
    "plt.axis('off')\n",
    "plt.title('Angle 90')\n",
    "plt.show()"
   ]
  },
  {
   "cell_type": "markdown",
   "id": "298ad3af",
   "metadata": {
    "papermill": {
     "duration": 0.009872,
     "end_time": "2024-10-02T04:12:06.902059",
     "exception": false,
     "start_time": "2024-10-02T04:12:06.892187",
     "status": "completed"
    },
    "tags": []
   },
   "source": [
    "* Back projection: The transpose of summing along X and Y is duplication along X and Y"
   ]
  },
  {
   "cell_type": "code",
   "execution_count": 8,
   "id": "539cdaa5",
   "metadata": {
    "execution": {
     "iopub.execute_input": "2024-10-02T04:12:06.923758Z",
     "iopub.status.busy": "2024-10-02T04:12:06.923342Z",
     "iopub.status.idle": "2024-10-02T04:12:06.927798Z",
     "shell.execute_reply": "2024-10-02T04:12:06.927227Z"
    },
    "papermill": {
     "duration": 0.016753,
     "end_time": "2024-10-02T04:12:06.929199",
     "exception": false,
     "start_time": "2024-10-02T04:12:06.912446",
     "status": "completed"
    },
    "tags": []
   },
   "outputs": [],
   "source": [
    "# First adjust projections by sensitivity factor\n",
    "sample_projections_angle_0_sensitivity_adjusted = sample_projections[0]*proj_meta.sensitivity_factor\n",
    "# Back project at angle 0 by duplication\n",
    "sample_object_BP_angle0 = sample_projections_angle_0_sensitivity_adjusted.unsqueeze(0).repeat(object_meta.shape[0],1,1)\n",
    "# Back project at angle 90 by duplication\n",
    "sample_projections_angle_90_sensitivity_adjusted = sample_projections[1]*proj_meta.sensitivity_factor\n",
    "sample_object_BP_angle90 = sample_projections_angle_90_sensitivity_adjusted.unsqueeze(1).repeat(1,object_meta.shape[0],1)\n",
    "# Back projected object is sum of each\n",
    "sample_object_BP = sample_object_BP_angle0 + sample_object_BP_angle90"
   ]
  },
  {
   "cell_type": "code",
   "execution_count": 9,
   "id": "189754b7",
   "metadata": {
    "execution": {
     "iopub.execute_input": "2024-10-02T04:12:06.950609Z",
     "iopub.status.busy": "2024-10-02T04:12:06.949777Z",
     "iopub.status.idle": "2024-10-02T04:12:06.992547Z",
     "shell.execute_reply": "2024-10-02T04:12:06.991936Z"
    },
    "papermill": {
     "duration": 0.054779,
     "end_time": "2024-10-02T04:12:06.993854",
     "exception": false,
     "start_time": "2024-10-02T04:12:06.939075",
     "status": "completed"
    },
    "tags": []
   },
   "outputs": [
    {
     "data": {
      "image/png": "[encoded data removed]",
      "text/plain": [
       "<Figure size 200x200 with 1 Axes>"
      ]
     },
     "metadata": {},
     "output_type": "display_data"
    }
   ],
   "source": [
    "plt.figure(figsize=(2,2))\n",
    "plt.title('Top Z-Slice BP')\n",
    "plt.pcolormesh(sample_object_BP[:,:,-1].T)\n",
    "plt.axis('off')\n",
    "plt.show()"
   ]
  },
  {
   "cell_type": "markdown",
   "id": "48019e0f",
   "metadata": {
    "papermill": {
     "duration": 0.010165,
     "end_time": "2024-10-02T04:12:07.014622",
     "exception": false,
     "start_time": "2024-10-02T04:12:07.004457",
     "status": "completed"
    },
    "tags": []
   },
   "source": [
    "### Part 2: Implementing The Forward/Backward Projections in the System Matrix Class"
   ]
  },
  {
   "cell_type": "markdown",
   "id": "3be6e522",
   "metadata": {
    "papermill": {
     "duration": 0.010502,
     "end_time": "2024-10-02T04:12:07.035621",
     "exception": false,
     "start_time": "2024-10-02T04:12:07.025119",
     "status": "completed"
    },
    "tags": []
   },
   "source": [
    "We can now create a system matrix class that implements forward and back projection\n",
    "\n",
    "* We inherit from the `SystemMatrix` class of PyTomography\n",
    "* The method for forward projection should be called `forward`, while the method for back projection should be called `backward`"
   ]
  },
  {
   "cell_type": "code",
   "execution_count": 10,
   "id": "65933c32",
   "metadata": {
    "execution": {
     "iopub.execute_input": "2024-10-02T04:12:07.058330Z",
     "iopub.status.busy": "2024-10-02T04:12:07.058056Z",
     "iopub.status.idle": "2024-10-02T04:12:07.063546Z",
     "shell.execute_reply": "2024-10-02T04:12:07.062982Z"
    },
    "papermill": {
     "duration": 0.01884,
     "end_time": "2024-10-02T04:12:07.064824",
     "exception": false,
     "start_time": "2024-10-02T04:12:07.045984",
     "status": "completed"
    },
    "tags": []
   },
   "outputs": [],
   "source": [
    "class EXSSystemMatrix(SystemMatrix):\n",
    "    def forward(self, object, subset_idx = None):\n",
    "        projection_0degrees = object.sum(dim=0)\n",
    "        projection_90degrees = object.sum(dim=1)\n",
    "        projections = torch.stack([projection_0degrees, projection_90degrees], dim=0)\n",
    "        projections *= self.proj_meta.sensitivity_factor\n",
    "        return projections\n",
    "    def backward(self, projections, subset_idx = None):\n",
    "        object_BP_angle0 = (projections[0]*self.proj_meta.sensitivity_factor).unsqueeze(0).repeat(self.proj_meta.M,1,1)\n",
    "        object_BP_angle90 = (projections[1]*self.proj_meta.sensitivity_factor).unsqueeze(1).repeat(1,self.proj_meta.M,1)\n",
    "        object_BP = object_BP_angle0 + object_BP_angle90\n",
    "        return object_BP"
   ]
  },
  {
   "cell_type": "markdown",
   "id": "2da28fc9",
   "metadata": {
    "papermill": {
     "duration": 0.01034,
     "end_time": "2024-10-02T04:12:07.085665",
     "exception": false,
     "start_time": "2024-10-02T04:12:07.075325",
     "status": "completed"
    },
    "tags": []
   },
   "source": [
    "This system matrix can now be used for forward/backward projection"
   ]
  },
  {
   "cell_type": "code",
   "execution_count": 11,
   "id": "6902f897",
   "metadata": {
    "execution": {
     "iopub.execute_input": "2024-10-02T04:12:07.107804Z",
     "iopub.status.busy": "2024-10-02T04:12:07.107381Z",
     "iopub.status.idle": "2024-10-02T04:12:07.111290Z",
     "shell.execute_reply": "2024-10-02T04:12:07.110688Z"
    },
    "papermill": {
     "duration": 0.016575,
     "end_time": "2024-10-02T04:12:07.112510",
     "exception": false,
     "start_time": "2024-10-02T04:12:07.095935",
     "status": "completed"
    },
    "tags": []
   },
   "outputs": [],
   "source": [
    "system_matrix = EXSSystemMatrix(object_meta=object_meta, proj_meta=proj_meta)\n",
    "FP = system_matrix.forward(sample_object)\n",
    "BP = system_matrix.forward(sample_object)"
   ]
  },
  {
   "cell_type": "markdown",
   "id": "003cc694",
   "metadata": {
    "papermill": {
     "duration": 0.010066,
     "end_time": "2024-10-02T04:12:07.132789",
     "exception": false,
     "start_time": "2024-10-02T04:12:07.122723",
     "status": "completed"
    },
    "tags": []
   },
   "source": [
    "In order to use the system matrix in reconstruction algorithms, one of the requirements is the computation of a normalization factor $H^T 1$. For this, we need to define the `compute_normalization_factor` method:"
   ]
  },
  {
   "cell_type": "code",
   "execution_count": 12,
   "id": "b60c3988",
   "metadata": {
    "execution": {
     "iopub.execute_input": "2024-10-02T04:12:07.154955Z",
     "iopub.status.busy": "2024-10-02T04:12:07.154371Z",
     "iopub.status.idle": "2024-10-02T04:12:07.159612Z",
     "shell.execute_reply": "2024-10-02T04:12:07.159068Z"
    },
    "papermill": {
     "duration": 0.017865,
     "end_time": "2024-10-02T04:12:07.160894",
     "exception": false,
     "start_time": "2024-10-02T04:12:07.143029",
     "status": "completed"
    },
    "tags": []
   },
   "outputs": [],
   "source": [
    "class EXSSystemMatrix(SystemMatrix):\n",
    "    def compute_normalization_factor(self):\n",
    "        # A clever implementation of this function will only compute the normalization factor once, and then store it for future use (e.g. using a boolean flag)\n",
    "        norm_projections = torch.ones((2,self.proj_meta.M, self.proj_meta.M))\n",
    "        return self.backward(norm_projections)\n",
    "    def forward(self, object, subset_idx = None):\n",
    "        projection_0degrees = object.sum(dim=0)\n",
    "        projection_90degrees = object.sum(dim=1)\n",
    "        projections = torch.stack([projection_0degrees, projection_90degrees], dim=0)\n",
    "        projections *= self.proj_meta.sensitivity_factor\n",
    "        return projections\n",
    "    def backward(self, projections, subset_idx = None):\n",
    "        object_BP_angle0 = (projections[0]*self.proj_meta.sensitivity_factor).unsqueeze(0).repeat(self.proj_meta.M,1,1)\n",
    "        object_BP_angle90 = (projections[1]*self.proj_meta.sensitivity_factor).unsqueeze(1).repeat(1,self.proj_meta.M,1)\n",
    "        object_BP = object_BP_angle0 + object_BP_angle90\n",
    "        return object_BP"
   ]
  },
  {
   "cell_type": "markdown",
   "id": "43a98f9c",
   "metadata": {
    "papermill": {
     "duration": 0.009795,
     "end_time": "2024-10-02T04:12:07.180756",
     "exception": false,
     "start_time": "2024-10-02T04:12:07.170961",
     "status": "completed"
    },
    "tags": []
   },
   "source": [
    "Then we can compute the normalization factor as follows:"
   ]
  },
  {
   "cell_type": "code",
   "execution_count": 13,
   "id": "0d12725e",
   "metadata": {
    "execution": {
     "iopub.execute_input": "2024-10-02T04:12:07.202013Z",
     "iopub.status.busy": "2024-10-02T04:12:07.201409Z",
     "iopub.status.idle": "2024-10-02T04:12:07.204989Z",
     "shell.execute_reply": "2024-10-02T04:12:07.204411Z"
    },
    "papermill": {
     "duration": 0.015482,
     "end_time": "2024-10-02T04:12:07.206254",
     "exception": false,
     "start_time": "2024-10-02T04:12:07.190772",
     "status": "completed"
    },
    "tags": []
   },
   "outputs": [],
   "source": [
    "system_matrix = EXSSystemMatrix(object_meta=object_meta, proj_meta=proj_meta)\n",
    "norm_factor = system_matrix.compute_normalization_factor()"
   ]
  },
  {
   "cell_type": "code",
   "execution_count": 14,
   "id": "75a1f5ec",
   "metadata": {
    "execution": {
     "iopub.execute_input": "2024-10-02T04:12:07.230400Z",
     "iopub.status.busy": "2024-10-02T04:12:07.230181Z",
     "iopub.status.idle": "2024-10-02T04:12:07.323875Z",
     "shell.execute_reply": "2024-10-02T04:12:07.323247Z"
    },
    "papermill": {
     "duration": 0.106653,
     "end_time": "2024-10-02T04:12:07.325371",
     "exception": false,
     "start_time": "2024-10-02T04:12:07.218718",
     "status": "completed"
    },
    "tags": []
   },
   "outputs": [
    {
     "data": {
      "image/png": "[encoded data removed]",
      "text/plain": [
       "<Figure size 200x200 with 2 Axes>"
      ]
     },
     "metadata": {},
     "output_type": "display_data"
    }
   ],
   "source": [
    "plt.figure(figsize=(2,2))\n",
    "plt.title('Top Z-Slice Norm')\n",
    "plt.pcolormesh(norm_factor[:,:,-1].T)\n",
    "plt.colorbar()\n",
    "plt.axis('off')\n",
    "plt.show()"
   ]
  },
  {
   "cell_type": "markdown",
   "id": "f464c7b7",
   "metadata": {
    "papermill": {
     "duration": 0.010058,
     "end_time": "2024-10-02T04:12:07.346419",
     "exception": false,
     "start_time": "2024-10-02T04:12:07.336361",
     "status": "completed"
    },
    "tags": []
   },
   "source": [
    "Now that the system matrix has been defined, we can reconstruct using the available reconstruction algorithms (up to this point, we haven't defined any subset functionality, so we can only use non-subset based algorithms) "
   ]
  },
  {
   "cell_type": "code",
   "execution_count": 15,
   "id": "345794a5",
   "metadata": {
    "execution": {
     "iopub.execute_input": "2024-10-02T04:12:07.368204Z",
     "iopub.status.busy": "2024-10-02T04:12:07.367646Z",
     "iopub.status.idle": "2024-10-02T04:12:07.371488Z",
     "shell.execute_reply": "2024-10-02T04:12:07.370889Z"
    },
    "papermill": {
     "duration": 0.016145,
     "end_time": "2024-10-02T04:12:07.372848",
     "exception": false,
     "start_time": "2024-10-02T04:12:07.356703",
     "status": "completed"
    },
    "tags": []
   },
   "outputs": [],
   "source": [
    "sample_object = torch.rand(object_meta.shape) # object has batch dimension\n",
    "sample_projections = system_matrix.forward(sample_object)"
   ]
  },
  {
   "cell_type": "code",
   "execution_count": 16,
   "id": "dc1136c9",
   "metadata": {
    "execution": {
     "iopub.execute_input": "2024-10-02T04:12:07.394669Z",
     "iopub.status.busy": "2024-10-02T04:12:07.394130Z",
     "iopub.status.idle": "2024-10-02T04:12:07.397710Z",
     "shell.execute_reply": "2024-10-02T04:12:07.397226Z"
    },
    "papermill": {
     "duration": 0.015812,
     "end_time": "2024-10-02T04:12:07.399055",
     "exception": false,
     "start_time": "2024-10-02T04:12:07.383243",
     "status": "completed"
    },
    "tags": []
   },
   "outputs": [],
   "source": [
    "# Define system matrix\n",
    "system_matrix = EXSSystemMatrix(object_meta=object_meta, proj_meta=proj_meta)\n",
    "# Define likelihood that characterizes measured data (for SPECT/PET, this is PoissonLog, but here we'll use NegativeMSE)\n",
    "likelihood = NegativeMSELikelihood(system_matrix, projections=sample_projections, scaling_constant=0.01)\n",
    "# Define \n",
    "reconstruction_algorithm = MLEM(likelihood)"
   ]
  },
  {
   "cell_type": "code",
   "execution_count": 17,
   "id": "2385a26b",
   "metadata": {
    "execution": {
     "iopub.execute_input": "2024-10-02T04:12:07.421912Z",
     "iopub.status.busy": "2024-10-02T04:12:07.421420Z",
     "iopub.status.idle": "2024-10-02T04:12:07.433882Z",
     "shell.execute_reply": "2024-10-02T04:12:07.433189Z"
    },
    "papermill": {
     "duration": 0.025385,
     "end_time": "2024-10-02T04:12:07.435163",
     "exception": false,
     "start_time": "2024-10-02T04:12:07.409778",
     "status": "completed"
    },
    "tags": []
   },
   "outputs": [],
   "source": [
    "recon = reconstruction_algorithm(n_iters=40)"
   ]
  },
  {
   "cell_type": "markdown",
   "id": "bb5e6b72",
   "metadata": {
    "papermill": {
     "duration": 0.01163,
     "end_time": "2024-10-02T04:12:07.457419",
     "exception": false,
     "start_time": "2024-10-02T04:12:07.445789",
     "status": "completed"
    },
    "tags": []
   },
   "source": [
    "In this case our system matrix is underdetermined so we have no way of ensuring we get the right solution"
   ]
  },
  {
   "cell_type": "code",
   "execution_count": 18,
   "id": "30ff4c3c",
   "metadata": {
    "execution": {
     "iopub.execute_input": "2024-10-02T04:12:07.479524Z",
     "iopub.status.busy": "2024-10-02T04:12:07.479104Z",
     "iopub.status.idle": "2024-10-02T04:12:07.639937Z",
     "shell.execute_reply": "2024-10-02T04:12:07.639374Z"
    },
    "papermill": {
     "duration": 0.173323,
     "end_time": "2024-10-02T04:12:07.641270",
     "exception": false,
     "start_time": "2024-10-02T04:12:07.467947",
     "status": "completed"
    },
    "tags": []
   },
   "outputs": [
    {
     "data": {
      "text/plain": [
       "<matplotlib.colorbar.Colorbar at 0x7fd9bb16a990>"
      ]
     },
     "execution_count": 18,
     "metadata": {},
     "output_type": "execute_result"
    },
    {
     "data": {
      "image/png": "[encoded data removed]",
      "text/plain": [
       "<Figure size 400x200 with 4 Axes>"
      ]
     },
     "metadata": {},
     "output_type": "display_data"
    }
   ],
   "source": [
    "plt.figure(figsize=(4,2))\n",
    "plt.subplot(121)\n",
    "plt.pcolormesh(sample_object[:,:,0], vmin=0, vmax=1)\n",
    "plt.axis('off')\n",
    "plt.colorbar()\n",
    "plt.subplot(122)\n",
    "plt.pcolormesh(recon[:,:,0])\n",
    "plt.axis('off')\n",
    "plt.colorbar()"
   ]
  },
  {
   "cell_type": "markdown",
   "id": "1b6d7e80",
   "metadata": {
    "papermill": {
     "duration": 0.010241,
     "end_time": "2024-10-02T04:12:07.662359",
     "exception": false,
     "start_time": "2024-10-02T04:12:07.652118",
     "status": "completed"
    },
    "tags": []
   },
   "source": [
    "### Part 3: Incorporating Subsets"
   ]
  },
  {
   "cell_type": "markdown",
   "id": "f8d501ea",
   "metadata": {
    "papermill": {
     "duration": 0.013479,
     "end_time": "2024-10-02T04:12:07.686124",
     "exception": false,
     "start_time": "2024-10-02T04:12:07.672645",
     "status": "completed"
    },
    "tags": []
   },
   "source": [
    "Up until now, we've ignored the `subset_idx` which specifies how projection data can be split into subsets in ordered subset based reconstruction algorithms. In such algorithms, the projection data is split up into disjoint subsets: in SPECT/PET, one typically partitions using the projection angle. We will do the same thing here, giving the option of `subset_idx=0` for the first projection angle and `subset_idx=1` for the second:"
   ]
  },
  {
   "cell_type": "code",
   "execution_count": 19,
   "id": "880773c9",
   "metadata": {
    "execution": {
     "iopub.execute_input": "2024-10-02T04:12:07.709647Z",
     "iopub.status.busy": "2024-10-02T04:12:07.709028Z",
     "iopub.status.idle": "2024-10-02T04:12:07.716016Z",
     "shell.execute_reply": "2024-10-02T04:12:07.715228Z"
    },
    "papermill": {
     "duration": 0.019882,
     "end_time": "2024-10-02T04:12:07.717330",
     "exception": false,
     "start_time": "2024-10-02T04:12:07.697448",
     "status": "completed"
    },
    "tags": []
   },
   "outputs": [],
   "source": [
    "class EXSSystemMatrix(SystemMatrix):\n",
    "    def compute_normalization_factor(self):\n",
    "        norm_projections = torch.ones((2,self.proj_meta.M, self.proj_meta.M))\n",
    "        return self.backward(norm_projections)\n",
    "    def forward(self, object, subset_idx = None):\n",
    "        projection_0degrees = object.sum(dim=0)\n",
    "        projection_90degrees = object.sum(dim=0)\n",
    "        if subset_idx==0:\n",
    "            projections = projection_0degrees\n",
    "        elif subset_idx==1:\n",
    "            projections = projection_90degrees\n",
    "        else:\n",
    "            projections = torch.stack([projection_0degrees, projection_90degrees], dim=0)\n",
    "        projections *= self.proj_meta.sensitivity_factor\n",
    "        return projections\n",
    "    def backward(self, proj, subset_idx = None):\n",
    "        # Back projection expects projections in their subset\n",
    "        if subset_idx is not None:\n",
    "            object_BP = (proj[0]*self.proj_meta.sensitivity_factor).unsqueeze(subset_idx).repeat_interleave(self.proj_meta.M, subset_idx)\n",
    "        else:\n",
    "            object_BP_angle0 = (proj[0]*self.proj_meta.sensitivity_factor).unsqueeze(0).repeat(self.proj_meta.M,1,1)\n",
    "            object_BP_angle90 = (proj[1]*self.proj_meta.sensitivity_factor).unsqueeze(1).repeat(1,self.proj_meta.M,1)\n",
    "            object_BP = object_BP_angle0 + object_BP_angle90\n",
    "        return object_BP"
   ]
  },
  {
   "cell_type": "code",
   "execution_count": 20,
   "id": "0e7d5b2f",
   "metadata": {
    "execution": {
     "iopub.execute_input": "2024-10-02T04:12:07.739901Z",
     "iopub.status.busy": "2024-10-02T04:12:07.739397Z",
     "iopub.status.idle": "2024-10-02T04:12:07.743982Z",
     "shell.execute_reply": "2024-10-02T04:12:07.743354Z"
    },
    "papermill": {
     "duration": 0.017208,
     "end_time": "2024-10-02T04:12:07.745261",
     "exception": false,
     "start_time": "2024-10-02T04:12:07.728053",
     "status": "completed"
    },
    "tags": []
   },
   "outputs": [],
   "source": [
    "system_matrix = EXSSystemMatrix(object_meta=object_meta, proj_meta=proj_meta)\n",
    "FP_subset0 = system_matrix.forward(sample_object, subset_idx=0)\n",
    "FP_subset1 = system_matrix.forward(sample_object, subset_idx=1)\n",
    "BP_subset0 = system_matrix.backward(FP_subset0, subset_idx=0)\n",
    "BP_subset1 = system_matrix.backward(FP_subset0, subset_idx=1)"
   ]
  },
  {
   "cell_type": "code",
   "execution_count": 21,
   "id": "847a197b",
   "metadata": {
    "execution": {
     "iopub.execute_input": "2024-10-02T04:12:07.767568Z",
     "iopub.status.busy": "2024-10-02T04:12:07.766853Z",
     "iopub.status.idle": "2024-10-02T04:12:07.849213Z",
     "shell.execute_reply": "2024-10-02T04:12:07.848692Z"
    },
    "papermill": {
     "duration": 0.094895,
     "end_time": "2024-10-02T04:12:07.850616",
     "exception": false,
     "start_time": "2024-10-02T04:12:07.755721",
     "status": "completed"
    },
    "tags": []
   },
   "outputs": [
    {
     "data": {
      "image/png": "[encoded data removed]",
      "text/plain": [
       "<Figure size 400x200 with 2 Axes>"
      ]
     },
     "metadata": {},
     "output_type": "display_data"
    }
   ],
   "source": [
    "plt.figure(figsize=(4,2))\n",
    "plt.subplot(121)\n",
    "plt.title('Top Z-Slice BP Sub0')\n",
    "plt.pcolormesh(BP_subset0[:,:,-1].T)\n",
    "plt.axis('off')\n",
    "plt.subplot(122)\n",
    "plt.title('Top Z-Slice BP Sub1')\n",
    "plt.pcolormesh(BP_subset1[:,:,-1].T)\n",
    "plt.axis('off')\n",
    "plt.show()"
   ]
  },
  {
   "cell_type": "markdown",
   "id": "341ec6bb",
   "metadata": {
    "papermill": {
     "duration": 0.010735,
     "end_time": "2024-10-02T04:12:07.872596",
     "exception": false,
     "start_time": "2024-10-02T04:12:07.861861",
     "status": "completed"
    },
    "tags": []
   },
   "source": [
    "There are a couple other methods we need to implement for subset based image reconstruction algorithms:\n",
    "* `set_n_subsets`: Sets the number of \"subsets\" used in an iterative reconstruction algorithm. This requires partitioning the projection data into N distinct subsets. In general, the way in which this is done depends on the particular imaging modality (in SPECT/PET, one typically partitions using the projection angle).In our case, we have only set up our forward/back projectors to consider 2 subsets (we only have two possible angles). More advanced system matrices will need to consider implementation of arbitrary numbers of subsets \n",
    "* `get_projection_subset`: Returns the projection data corresponding to the ith subset \n",
    "* `get_weighting_subset`: This is used for scaling prior functions used in Bayesian reconstruction algorithms. It should be equal to the fraction of data elements in the particular subset. (For $N$ even subsets, this factor is $1/N$ for each subset, but sometimes the subsets aren't even)\n",
    "* We need to modify `compute_normalization_factor` so it can get the normalization factor of the $m$ th subset"
   ]
  },
  {
   "cell_type": "code",
   "execution_count": 22,
   "id": "c697007d",
   "metadata": {
    "execution": {
     "iopub.execute_input": "2024-10-02T04:12:07.895114Z",
     "iopub.status.busy": "2024-10-02T04:12:07.894676Z",
     "iopub.status.idle": "2024-10-02T04:12:07.902702Z",
     "shell.execute_reply": "2024-10-02T04:12:07.902060Z"
    },
    "papermill": {
     "duration": 0.021266,
     "end_time": "2024-10-02T04:12:07.904121",
     "exception": false,
     "start_time": "2024-10-02T04:12:07.882855",
     "status": "completed"
    },
    "tags": []
   },
   "outputs": [],
   "source": [
    "class EXSSystemMatrix(SystemMatrix):\n",
    "    # ----\n",
    "    # NEW METHODS\n",
    "    # ----\n",
    "    def set_n_subsets(self, n_subsets):\n",
    "        self.n_subsets = n_subsets\n",
    "    def get_projection_subset(self, projections, subset_idx):\n",
    "        # Called when n_subsets>1 in internal pytomography code, in this case, assumes 2 subsets since thats the only possible number of subsets we have. In general, this should split data evenly (see SPECTSystemMatrix source code)\n",
    "        return projections[subset_idx].unsqueeze(0)\n",
    "    def compute_normalization_factor(self, subset_idx = None):\n",
    "        # This function generally looks the same for all system matrices\n",
    "        norm_projections = torch.ones((2,self.proj_meta.M, self.proj_meta.M))\n",
    "        if subset_idx is not None:\n",
    "            norm_projections = self.get_projection_subset(norm_projections, subset_idx)\n",
    "        return self.backward(norm_projections, subset_idx)\n",
    "    def get_weighting_subset(self, subset_idx):\n",
    "        if subset_idx is None:\n",
    "            return 1\n",
    "        elif self.n_subsets==2:\n",
    "            return 0.5 # equal weighting in this case, in general need to be careful with this\n",
    "    # ----\n",
    "    # SAME AS PREVIOUS\n",
    "    # ----\n",
    "    def forward(self, object, subset_idx = None):\n",
    "        projection_0degrees = object.sum(dim=0)\n",
    "        projection_90degrees = object.sum(dim=0)\n",
    "        if subset_idx==0:\n",
    "            projections = projection_0degrees\n",
    "        elif subset_idx==1:\n",
    "            projections = projection_90degrees\n",
    "        else:\n",
    "            projections = torch.stack([projection_0degrees, projection_90degrees], dim=0)\n",
    "        projections *= self.proj_meta.sensitivity_factor\n",
    "        return projections\n",
    "    def backward(self, proj, subset_idx = None):\n",
    "        # Back projection expects projections in their subset\n",
    "        if subset_idx is not None:\n",
    "            object_BP = (proj[0]*self.proj_meta.sensitivity_factor).unsqueeze(subset_idx).repeat_interleave(self.proj_meta.M, subset_idx)\n",
    "        else:\n",
    "            object_BP_angle0 = (proj[0]*self.proj_meta.sensitivity_factor).unsqueeze(0).repeat(self.proj_meta.M,1,1)\n",
    "            object_BP_angle90 = (proj[1]*self.proj_meta.sensitivity_factor).unsqueeze(1).repeat(1,self.proj_meta.M,1)\n",
    "            object_BP = object_BP_angle0 + object_BP_angle90\n",
    "        return object_BP"
   ]
  },
  {
   "cell_type": "code",
   "execution_count": 23,
   "id": "96b4bc58",
   "metadata": {
    "execution": {
     "iopub.execute_input": "2024-10-02T04:12:07.927511Z",
     "iopub.status.busy": "2024-10-02T04:12:07.926817Z",
     "iopub.status.idle": "2024-10-02T04:12:07.930218Z",
     "shell.execute_reply": "2024-10-02T04:12:07.929599Z"
    },
    "papermill": {
     "duration": 0.016623,
     "end_time": "2024-10-02T04:12:07.931673",
     "exception": false,
     "start_time": "2024-10-02T04:12:07.915050",
     "status": "completed"
    },
    "tags": []
   },
   "outputs": [],
   "source": [
    "system_matrix = EXSSystemMatrix(object_meta=object_meta, proj_meta=proj_meta)"
   ]
  },
  {
   "cell_type": "markdown",
   "id": "55228d8e",
   "metadata": {
    "papermill": {
     "duration": 0.010633,
     "end_time": "2024-10-02T04:12:07.953036",
     "exception": false,
     "start_time": "2024-10-02T04:12:07.942403",
     "status": "completed"
    },
    "tags": []
   },
   "source": [
    "Our system matrix can now be used in reconstruction algorithms. Let's reconstruct our simulated data. Like the tutorials online, we now create a likelihood function and then a reconstruction algorithm:"
   ]
  },
  {
   "cell_type": "code",
   "execution_count": 24,
   "id": "47d21aef",
   "metadata": {
    "execution": {
     "iopub.execute_input": "2024-10-02T04:12:07.975804Z",
     "iopub.status.busy": "2024-10-02T04:12:07.975437Z",
     "iopub.status.idle": "2024-10-02T04:12:07.979941Z",
     "shell.execute_reply": "2024-10-02T04:12:07.978996Z"
    },
    "papermill": {
     "duration": 0.017586,
     "end_time": "2024-10-02T04:12:07.981289",
     "exception": false,
     "start_time": "2024-10-02T04:12:07.963703",
     "status": "completed"
    },
    "tags": []
   },
   "outputs": [],
   "source": [
    "sample_object = torch.rand(object_meta.shape) # object has batch dimension\n",
    "sample_projections = system_matrix.forward(sample_object)"
   ]
  },
  {
   "cell_type": "code",
   "execution_count": 25,
   "id": "9d4bfbea",
   "metadata": {
    "execution": {
     "iopub.execute_input": "2024-10-02T04:12:08.004116Z",
     "iopub.status.busy": "2024-10-02T04:12:08.003623Z",
     "iopub.status.idle": "2024-10-02T04:12:08.007266Z",
     "shell.execute_reply": "2024-10-02T04:12:08.006716Z"
    },
    "papermill": {
     "duration": 0.016864,
     "end_time": "2024-10-02T04:12:08.008606",
     "exception": false,
     "start_time": "2024-10-02T04:12:07.991742",
     "status": "completed"
    },
    "tags": []
   },
   "outputs": [],
   "source": [
    "system_matrix = EXSSystemMatrix(object_meta=object_meta, proj_meta=proj_meta)\n",
    "likelihood = NegativeMSELikelihood(system_matrix, projections=sample_projections, scaling_constant=0.01)\n",
    "reconstruction_algorithm = OSEM(likelihood)"
   ]
  },
  {
   "cell_type": "code",
   "execution_count": 26,
   "id": "fc7c44b2",
   "metadata": {
    "execution": {
     "iopub.execute_input": "2024-10-02T04:12:08.032847Z",
     "iopub.status.busy": "2024-10-02T04:12:08.032334Z",
     "iopub.status.idle": "2024-10-02T04:12:08.051056Z",
     "shell.execute_reply": "2024-10-02T04:12:08.050507Z"
    },
    "papermill": {
     "duration": 0.032677,
     "end_time": "2024-10-02T04:12:08.052320",
     "exception": false,
     "start_time": "2024-10-02T04:12:08.019643",
     "status": "completed"
    },
    "tags": []
   },
   "outputs": [],
   "source": [
    "recon = reconstruction_algorithm(n_iters=40, n_subsets=2)"
   ]
  },
  {
   "cell_type": "code",
   "execution_count": 27,
   "id": "a2b79907",
   "metadata": {
    "execution": {
     "iopub.execute_input": "2024-10-02T04:12:08.075867Z",
     "iopub.status.busy": "2024-10-02T04:12:08.075459Z",
     "iopub.status.idle": "2024-10-02T04:12:08.235534Z",
     "shell.execute_reply": "2024-10-02T04:12:08.234198Z"
    },
    "papermill": {
     "duration": 0.173701,
     "end_time": "2024-10-02T04:12:08.236898",
     "exception": false,
     "start_time": "2024-10-02T04:12:08.063197",
     "status": "completed"
    },
    "tags": []
   },
   "outputs": [
    {
     "data": {
      "text/plain": [
       "<matplotlib.collections.QuadMesh at 0x7fd9bb0af3d0>"
      ]
     },
     "execution_count": 27,
     "metadata": {},
     "output_type": "execute_result"
    },
    {
     "data": {
      "image/png": "[encoded data removed]",
      "text/plain": [
       "<Figure size 400x200 with 2 Axes>"
      ]
     },
     "metadata": {},
     "output_type": "display_data"
    }
   ],
   "source": [
    "plt.figure(figsize=(4,2))\n",
    "plt.subplot(121)\n",
    "plt.pcolormesh(sample_object[:,:,-1])\n",
    "plt.subplot(122)\n",
    "plt.pcolormesh(recon[:,:,-1])"
   ]
  },
  {
   "cell_type": "markdown",
   "id": "33e97a20",
   "metadata": {
    "papermill": {
     "duration": 0.010578,
     "end_time": "2024-10-02T04:12:08.258840",
     "exception": false,
     "start_time": "2024-10-02T04:12:08.248262",
     "status": "completed"
    },
    "tags": []
   },
   "source": [
    "# Example 2: List Mode System Matrices"
   ]
  },
  {
   "cell_type": "markdown",
   "id": "bb66c947",
   "metadata": {
    "papermill": {
     "duration": 0.010462,
     "end_time": "2024-10-02T04:12:08.280027",
     "exception": false,
     "start_time": "2024-10-02T04:12:08.269565",
     "status": "completed"
    },
    "tags": []
   },
   "source": [
    "Modalities containing listmode data can also be implemented in PyTomography; their implementation may look slightly different than above, however. Regardless, if implemented properly, they are still usable with all available reconstruction algorithms\n",
    "\n",
    "For our simple imaging system, listmode data might be stored via a list of integers where each integer specifies a given pixel in projection space. Since we have 2 projections, each with $M \\times M$ pixels, the total number of detector elements is $2M^2$.\n",
    "\n",
    "We can simulate 100 random events as follows (in reality, a more sophisticated program, such as GATE, would be required to give a proper distribution according to a specific phantom/source distribution)"
   ]
  },
  {
   "cell_type": "code",
   "execution_count": 28,
   "id": "49218215",
   "metadata": {
    "execution": {
     "iopub.execute_input": "2024-10-02T04:12:08.303347Z",
     "iopub.status.busy": "2024-10-02T04:12:08.302654Z",
     "iopub.status.idle": "2024-10-02T04:12:08.310446Z",
     "shell.execute_reply": "2024-10-02T04:12:08.309651Z"
    },
    "papermill": {
     "duration": 0.021148,
     "end_time": "2024-10-02T04:12:08.311792",
     "exception": false,
     "start_time": "2024-10-02T04:12:08.290644",
     "status": "completed"
    },
    "tags": []
   },
   "outputs": [
    {
     "data": {
      "text/plain": [
       "tensor([ 9,  0,  8,  2, 10,  5, 12,  0,  7, 16, 13,  4, 15,  8,  5, 13, 12,  5,\n",
       "         6, 12,  0, 10, 13, 13, 16,  7, 15, 11, 15, 16,  0,  1,  0,  2, 15,  8,\n",
       "         1, 11, 14,  7,  7,  6,  9,  4,  0,  9,  3,  7, 11,  2,  4,  2,  9, 17,\n",
       "         1,  3,  5, 11,  4,  2,  5, 15, 11,  9, 16,  0, 14, 14,  2, 17,  3, 13,\n",
       "         8,  9,  5,  8,  0,  2,  0,  0, 11,  7, 17, 17, 13,  4,  7,  6,  4,  8,\n",
       "         2,  3, 14,  1, 16,  7, 13,  6,  7, 13,  0, 12,  7, 14,  5, 12,  5, 10,\n",
       "         6, 14,  9,  4, 14,  1,  0,  1,  9,  6, 15,  4,  6,  3,  1,  7, 13, 11,\n",
       "        11, 10, 11, 14, 10, 11,  6,  9, 15,  2, 11, 10,  4,  6,  6,  4,  8, 14,\n",
       "         6, 16,  8, 10, 15, 13,  5,  1,  3, 10,  3, 14, 13, 12,  2,  8,  8,  6,\n",
       "         0,  5, 16, 16, 17,  9, 17,  2, 16,  6,  1, 10, 16,  2, 13, 16,  2,  2,\n",
       "         5, 12, 14,  6,  4, 16,  3,  9, 15,  5,  5,  4, 14, 14,  2,  0,  9,  2,\n",
       "        16,  2,  5,  1,  1, 13,  5,  7,  1, 13,  9, 10, 10, 10, 10, 11, 11,  1,\n",
       "         6,  4,  1,  4,  0, 13, 16,  3,  6,  4, 13,  9, 14,  2, 12,  1, 16, 15,\n",
       "        10,  4,  7, 17, 15,  6,  1,  6, 13,  9,  3,  4, 10, 12,  2,  4, 12, 11,\n",
       "         6, 12, 11,  3, 16, 17, 14, 12, 17,  7,  7, 14, 15,  5,  6, 12,  1, 10,\n",
       "        14,  3,  4, 13, 15, 14, 16,  5, 12,  0, 15,  0, 12, 11, 16,  1, 13, 14,\n",
       "        13,  3, 15,  9,  6, 11, 10, 12, 17,  9, 15,  8,  5, 10, 12,  2,  8,  5,\n",
       "        11, 14, 12,  7, 11, 14, 15,  1,  3,  9,  4, 13, 14,  4,  8, 10, 14, 16,\n",
       "        12, 16,  0,  8,  5,  1,  8,  0,  2,  9,  7,  3, 13,  1, 12, 11, 14,  2,\n",
       "         6,  6, 14,  2, 13, 14,  0,  0, 12, 17,  3,  6, 12,  0, 11, 10, 14, 16,\n",
       "         6, 11,  9, 14, 15,  1,  5, 11, 16, 16, 15,  0,  2,  7,  2,  5,  1,  0,\n",
       "         6, 15,  8, 10,  1,  9, 10,  0,  6,  5,  2, 10, 16,  6,  5, 14,  9, 13,\n",
       "        15,  1,  9, 14])"
      ]
     },
     "execution_count": 28,
     "metadata": {},
     "output_type": "execute_result"
    }
   ],
   "source": [
    "detector_ids = torch.randint(low=0, high=2*M**2, size=(400,))\n",
    "detector_ids"
   ]
  },
  {
   "cell_type": "markdown",
   "id": "73f224b9",
   "metadata": {
    "papermill": {
     "duration": 0.010937,
     "end_time": "2024-10-02T04:12:08.334211",
     "exception": false,
     "start_time": "2024-10-02T04:12:08.323274",
     "status": "completed"
    },
    "tags": []
   },
   "source": [
    "## MetaData"
   ]
  },
  {
   "cell_type": "markdown",
   "id": "e4d87c3f",
   "metadata": {
    "papermill": {
     "duration": 0.011448,
     "end_time": "2024-10-02T04:12:08.357472",
     "exception": false,
     "start_time": "2024-10-02T04:12:08.346024",
     "status": "completed"
    },
    "tags": []
   },
   "source": [
    "Each integer corresponds to a given detector element where a count has been measured.First, we may want to generate a lookup table for these integer values and corresponding detector coordinates:"
   ]
  },
  {
   "cell_type": "code",
   "execution_count": 29,
   "id": "bd4f61ce",
   "metadata": {
    "execution": {
     "iopub.execute_input": "2024-10-02T04:12:08.381618Z",
     "iopub.status.busy": "2024-10-02T04:12:08.381020Z",
     "iopub.status.idle": "2024-10-02T04:12:08.387043Z",
     "shell.execute_reply": "2024-10-02T04:12:08.386412Z"
    },
    "papermill": {
     "duration": 0.019273,
     "end_time": "2024-10-02T04:12:08.388280",
     "exception": false,
     "start_time": "2024-10-02T04:12:08.369007",
     "status": "completed"
    },
    "tags": []
   },
   "outputs": [
    {
     "data": {
      "text/plain": [
       "tensor([[0, 0, 0],\n",
       "        [0, 0, 1],\n",
       "        [0, 0, 2],\n",
       "        [0, 1, 0],\n",
       "        [0, 1, 1],\n",
       "        [0, 1, 2],\n",
       "        [0, 2, 0],\n",
       "        [0, 2, 1],\n",
       "        [0, 2, 2],\n",
       "        [1, 0, 0],\n",
       "        [1, 0, 1],\n",
       "        [1, 0, 2],\n",
       "        [1, 1, 0],\n",
       "        [1, 1, 1],\n",
       "        [1, 1, 2],\n",
       "        [1, 2, 0],\n",
       "        [1, 2, 1],\n",
       "        [1, 2, 2]])"
      ]
     },
     "execution_count": 29,
     "metadata": {},
     "output_type": "execute_result"
    }
   ],
   "source": [
    "scanner_LUT = torch.cartesian_prod(\n",
    "    torch.tensor([0,1]), # Angle\n",
    "    torch.arange(M), # row\n",
    "    torch.arange(M), # column\n",
    ")\n",
    "scanner_LUT"
   ]
  },
  {
   "cell_type": "markdown",
   "id": "fbc876df",
   "metadata": {
    "papermill": {
     "duration": 0.011194,
     "end_time": "2024-10-02T04:12:08.411039",
     "exception": false,
     "start_time": "2024-10-02T04:12:08.399845",
     "status": "completed"
    },
    "tags": []
   },
   "source": [
    "This lookup table gives the angle index, row index, and column index in projection space for each detector ID. For example, if we want the location corresponding to detector ID 11:"
   ]
  },
  {
   "cell_type": "code",
   "execution_count": 30,
   "id": "6ae5406e",
   "metadata": {
    "execution": {
     "iopub.execute_input": "2024-10-02T04:12:08.435617Z",
     "iopub.status.busy": "2024-10-02T04:12:08.434837Z",
     "iopub.status.idle": "2024-10-02T04:12:08.439703Z",
     "shell.execute_reply": "2024-10-02T04:12:08.439149Z"
    },
    "papermill": {
     "duration": 0.018752,
     "end_time": "2024-10-02T04:12:08.441096",
     "exception": false,
     "start_time": "2024-10-02T04:12:08.422344",
     "status": "completed"
    },
    "tags": []
   },
   "outputs": [
    {
     "data": {
      "text/plain": [
       "tensor([0, 1, 2])"
      ]
     },
     "execution_count": 30,
     "metadata": {},
     "output_type": "execute_result"
    }
   ],
   "source": [
    "scanner_LUT[5]"
   ]
  },
  {
   "cell_type": "markdown",
   "id": "09dcf616",
   "metadata": {
    "papermill": {
     "duration": 0.011322,
     "end_time": "2024-10-02T04:12:08.463364",
     "exception": false,
     "start_time": "2024-10-02T04:12:08.452042",
     "status": "completed"
    },
    "tags": []
   },
   "source": [
    "Similarily, if we wanted the location corresponding to the first 5 measured events:"
   ]
  },
  {
   "cell_type": "code",
   "execution_count": 31,
   "id": "5e4d9228",
   "metadata": {
    "execution": {
     "iopub.execute_input": "2024-10-02T04:12:08.487939Z",
     "iopub.status.busy": "2024-10-02T04:12:08.487177Z",
     "iopub.status.idle": "2024-10-02T04:12:08.492296Z",
     "shell.execute_reply": "2024-10-02T04:12:08.491755Z"
    },
    "papermill": {
     "duration": 0.018524,
     "end_time": "2024-10-02T04:12:08.493601",
     "exception": false,
     "start_time": "2024-10-02T04:12:08.475077",
     "status": "completed"
    },
    "tags": []
   },
   "outputs": [
    {
     "data": {
      "text/plain": [
       "tensor([[1, 0, 0],\n",
       "        [0, 0, 0],\n",
       "        [0, 2, 2],\n",
       "        [0, 0, 2],\n",
       "        [1, 0, 1]])"
      ]
     },
     "execution_count": 31,
     "metadata": {},
     "output_type": "execute_result"
    }
   ],
   "source": [
    "scanner_LUT[detector_ids[0:5]]"
   ]
  },
  {
   "cell_type": "markdown",
   "id": "240aa164",
   "metadata": {
    "papermill": {
     "duration": 0.011622,
     "end_time": "2024-10-02T04:12:08.516334",
     "exception": false,
     "start_time": "2024-10-02T04:12:08.504712",
     "status": "completed"
    },
    "tags": []
   },
   "source": [
    "We can also get the sensitivity factor for each listmode event:"
   ]
  },
  {
   "cell_type": "code",
   "execution_count": 32,
   "id": "dd743f9e",
   "metadata": {
    "execution": {
     "iopub.execute_input": "2024-10-02T04:12:08.540068Z",
     "iopub.status.busy": "2024-10-02T04:12:08.539413Z",
     "iopub.status.idle": "2024-10-02T04:12:08.547148Z",
     "shell.execute_reply": "2024-10-02T04:12:08.546638Z"
    },
    "papermill": {
     "duration": 0.021057,
     "end_time": "2024-10-02T04:12:08.548350",
     "exception": false,
     "start_time": "2024-10-02T04:12:08.527293",
     "status": "completed"
    },
    "tags": []
   },
   "outputs": [
    {
     "data": {
      "text/plain": [
       "tensor([1.1857, 1.0389, 1.0806, 1.0389, 1.1857, 1.1392, 1.1079, 1.0389, 1.0806,\n",
       "        1.0473, 1.1079, 1.1392, 1.0473, 1.0806, 1.1392, 1.1079, 1.1079, 1.1392,\n",
       "        1.0806, 1.1079, 1.0389, 1.1857, 1.1079, 1.1079, 1.0473, 1.0806, 1.0473,\n",
       "        1.1857, 1.0473, 1.0473, 1.0389, 1.0389, 1.0389, 1.0389, 1.0473, 1.0806,\n",
       "        1.0389, 1.1857, 1.1079, 1.0806, 1.0806, 1.0806, 1.1857, 1.1392, 1.0389,\n",
       "        1.1857, 1.1392, 1.0806, 1.1857, 1.0389, 1.1392, 1.0389, 1.1857, 1.0473,\n",
       "        1.0389, 1.1392, 1.1392, 1.1857, 1.1392, 1.0389, 1.1392, 1.0473, 1.1857,\n",
       "        1.1857, 1.0473, 1.0389, 1.1079, 1.1079, 1.0389, 1.0473, 1.1392, 1.1079,\n",
       "        1.0806, 1.1857, 1.1392, 1.0806, 1.0389, 1.0389, 1.0389, 1.0389, 1.1857,\n",
       "        1.0806, 1.0473, 1.0473, 1.1079, 1.1392, 1.0806, 1.0806, 1.1392, 1.0806,\n",
       "        1.0389, 1.1392, 1.1079, 1.0389, 1.0473, 1.0806, 1.1079, 1.0806, 1.0806,\n",
       "        1.1079, 1.0389, 1.1079, 1.0806, 1.1079, 1.1392, 1.1079, 1.1392, 1.1857,\n",
       "        1.0806, 1.1079, 1.1857, 1.1392, 1.1079, 1.0389, 1.0389, 1.0389, 1.1857,\n",
       "        1.0806, 1.0473, 1.1392, 1.0806, 1.1392, 1.0389, 1.0806, 1.1079, 1.1857,\n",
       "        1.1857, 1.1857, 1.1857, 1.1079, 1.1857, 1.1857, 1.0806, 1.1857, 1.0473,\n",
       "        1.0389, 1.1857, 1.1857, 1.1392, 1.0806, 1.0806, 1.1392, 1.0806, 1.1079,\n",
       "        1.0806, 1.0473, 1.0806, 1.1857, 1.0473, 1.1079, 1.1392, 1.0389, 1.1392,\n",
       "        1.1857, 1.1392, 1.1079, 1.1079, 1.1079, 1.0389, 1.0806, 1.0806, 1.0806,\n",
       "        1.0389, 1.1392, 1.0473, 1.0473, 1.0473, 1.1857, 1.0473, 1.0389, 1.0473,\n",
       "        1.0806, 1.0389, 1.1857, 1.0473, 1.0389, 1.1079, 1.0473, 1.0389, 1.0389,\n",
       "        1.1392, 1.1079, 1.1079, 1.0806, 1.1392, 1.0473, 1.1392, 1.1857, 1.0473,\n",
       "        1.1392, 1.1392, 1.1392, 1.1079, 1.1079, 1.0389, 1.0389, 1.1857, 1.0389,\n",
       "        1.0473, 1.0389, 1.1392, 1.0389, 1.0389, 1.1079, 1.1392, 1.0806, 1.0389,\n",
       "        1.1079, 1.1857, 1.1857, 1.1857, 1.1857, 1.1857, 1.1857, 1.1857, 1.0389,\n",
       "        1.0806, 1.1392, 1.0389, 1.1392, 1.0389, 1.1079, 1.0473, 1.1392, 1.0806,\n",
       "        1.1392, 1.1079, 1.1857, 1.1079, 1.0389, 1.1079, 1.0389, 1.0473, 1.0473,\n",
       "        1.1857, 1.1392, 1.0806, 1.0473, 1.0473, 1.0806, 1.0389, 1.0806, 1.1079,\n",
       "        1.1857, 1.1392, 1.1392, 1.1857, 1.1079, 1.0389, 1.1392, 1.1079, 1.1857,\n",
       "        1.0806, 1.1079, 1.1857, 1.1392, 1.0473, 1.0473, 1.1079, 1.1079, 1.0473,\n",
       "        1.0806, 1.0806, 1.1079, 1.0473, 1.1392, 1.0806, 1.1079, 1.0389, 1.1857,\n",
       "        1.1079, 1.1392, 1.1392, 1.1079, 1.0473, 1.1079, 1.0473, 1.1392, 1.1079,\n",
       "        1.0389, 1.0473, 1.0389, 1.1079, 1.1857, 1.0473, 1.0389, 1.1079, 1.1079,\n",
       "        1.1079, 1.1392, 1.0473, 1.1857, 1.0806, 1.1857, 1.1857, 1.1079, 1.0473,\n",
       "        1.1857, 1.0473, 1.0806, 1.1392, 1.1857, 1.1079, 1.0389, 1.0806, 1.1392,\n",
       "        1.1857, 1.1079, 1.1079, 1.0806, 1.1857, 1.1079, 1.0473, 1.0389, 1.1392,\n",
       "        1.1857, 1.1392, 1.1079, 1.1079, 1.1392, 1.0806, 1.1857, 1.1079, 1.0473,\n",
       "        1.1079, 1.0473, 1.0389, 1.0806, 1.1392, 1.0389, 1.0806, 1.0389, 1.0389,\n",
       "        1.1857, 1.0806, 1.1392, 1.1079, 1.0389, 1.1079, 1.1857, 1.1079, 1.0389,\n",
       "        1.0806, 1.0806, 1.1079, 1.0389, 1.1079, 1.1079, 1.0389, 1.0389, 1.1079,\n",
       "        1.0473, 1.1392, 1.0806, 1.1079, 1.0389, 1.1857, 1.1857, 1.1079, 1.0473,\n",
       "        1.0806, 1.1857, 1.1857, 1.1079, 1.0473, 1.0389, 1.1392, 1.1857, 1.0473,\n",
       "        1.0473, 1.0473, 1.0389, 1.0389, 1.0806, 1.0389, 1.1392, 1.0389, 1.0389,\n",
       "        1.0806, 1.0473, 1.0806, 1.1857, 1.0389, 1.1857, 1.1857, 1.0389, 1.0806,\n",
       "        1.1392, 1.0389, 1.1857, 1.0473, 1.0806, 1.1392, 1.1079, 1.1857, 1.1079,\n",
       "        1.0473, 1.0389, 1.1857, 1.1079])"
      ]
     },
     "execution_count": 32,
     "metadata": {},
     "output_type": "execute_result"
    }
   ],
   "source": [
    "sensitivity_factor[*scanner_LUT[detector_ids][:,:2].T]"
   ]
  },
  {
   "cell_type": "markdown",
   "id": "c5ccca9f",
   "metadata": {
    "papermill": {
     "duration": 0.011118,
     "end_time": "2024-10-02T04:12:08.570880",
     "exception": false,
     "start_time": "2024-10-02T04:12:08.559762",
     "status": "completed"
    },
    "tags": []
   },
   "source": [
    "With this in mind, we can define our new listmode projection metadata class:"
   ]
  },
  {
   "cell_type": "code",
   "execution_count": 33,
   "id": "412ad17d",
   "metadata": {
    "execution": {
     "iopub.execute_input": "2024-10-02T04:12:08.595351Z",
     "iopub.status.busy": "2024-10-02T04:12:08.594791Z",
     "iopub.status.idle": "2024-10-02T04:12:08.599366Z",
     "shell.execute_reply": "2024-10-02T04:12:08.598803Z"
    },
    "papermill": {
     "duration": 0.017777,
     "end_time": "2024-10-02T04:12:08.600630",
     "exception": false,
     "start_time": "2024-10-02T04:12:08.582853",
     "status": "completed"
    },
    "tags": []
   },
   "outputs": [],
   "source": [
    "class EXSListmodeProjMeta(ProjMeta):\n",
    "    def __init__(self, shape, scanner_LUT, detector_ids, sensitivity_factor):\n",
    "        self.scanner_LUT = scanner_LUT\n",
    "        self.detector_ids = detector_ids\n",
    "        self.sensitivity_at_ids = sensitivity_factor[*scanner_LUT[:,1:].T]\n",
    "        self.shape = shape\n",
    "        if (sensitivity_factor.shape[0]!=M)*(sensitivity_factor.shape[1]!=M):\n",
    "            raise ValueError(\"sensitivity_factor should have side dimensions M\")\n",
    "proj_meta_listmode = EXSListmodeProjMeta((2,M,M), scanner_LUT, detector_ids, sensitivity_factor)"
   ]
  },
  {
   "cell_type": "markdown",
   "id": "6ecf19f2",
   "metadata": {
    "papermill": {
     "duration": 0.011402,
     "end_time": "2024-10-02T04:12:08.624772",
     "exception": false,
     "start_time": "2024-10-02T04:12:08.613370",
     "status": "completed"
    },
    "tags": []
   },
   "source": [
    "Lets now implement the forward/backward methods of the system matrix. We'll start with forward projection, which forward projects an object to each `id` form the listmode data."
   ]
  },
  {
   "cell_type": "code",
   "execution_count": 34,
   "id": "49fe35e1",
   "metadata": {
    "execution": {
     "iopub.execute_input": "2024-10-02T04:12:08.648503Z",
     "iopub.status.busy": "2024-10-02T04:12:08.647962Z",
     "iopub.status.idle": "2024-10-02T04:12:08.652869Z",
     "shell.execute_reply": "2024-10-02T04:12:08.652320Z"
    },
    "papermill": {
     "duration": 0.018045,
     "end_time": "2024-10-02T04:12:08.654218",
     "exception": false,
     "start_time": "2024-10-02T04:12:08.636173",
     "status": "completed"
    },
    "tags": []
   },
   "outputs": [],
   "source": [
    "class EXSListmodeSystemMatrix(SystemMatrix):\n",
    "    def forward(self, object, subset_idx = None):\n",
    "        # There is probably a faster implementation, but I am trying to keep it simple for illustration purposes\n",
    "        projections = []\n",
    "        for i, detector_id in enumerate(self.proj_meta.detector_ids):\n",
    "            coord = self.proj_meta.scanner_LUT[detector_id]\n",
    "            sensitivity_factor_i = self.proj_meta.sensitivity_at_ids[detector_id]\n",
    "            if coord[0]==0: # If angle 0:\n",
    "                projections.append(object[:,coord[1],coord[2]].sum() *  sensitivity_factor_i) # sum along x\n",
    "            elif coord[0]==1: # If angle 90:\n",
    "                projections.append(object[coord[1],:,coord[2]].sum() * sensitivity_factor_i)  # sum along y\n",
    "        return torch.tensor(projections)"
   ]
  },
  {
   "cell_type": "code",
   "execution_count": 35,
   "id": "15285752",
   "metadata": {
    "execution": {
     "iopub.execute_input": "2024-10-02T04:12:08.677492Z",
     "iopub.status.busy": "2024-10-02T04:12:08.677276Z",
     "iopub.status.idle": "2024-10-02T04:12:08.704079Z",
     "shell.execute_reply": "2024-10-02T04:12:08.703533Z"
    },
    "papermill": {
     "duration": 0.039805,
     "end_time": "2024-10-02T04:12:08.705283",
     "exception": false,
     "start_time": "2024-10-02T04:12:08.665478",
     "status": "completed"
    },
    "tags": []
   },
   "outputs": [
    {
     "data": {
      "text/plain": [
       "tensor([2.0330, 1.6112, 1.8148, 1.7479, 0.9122, 1.9431, 1.9063, 1.6112, 1.2265,\n",
       "        1.7308, 2.8246, 2.2089, 1.3294, 1.8148, 1.9431, 2.8246, 1.9063, 1.9431,\n",
       "        1.6145, 1.9063, 1.6112, 0.9122, 2.8246, 2.8246, 1.7308, 1.2265, 1.3294,\n",
       "        1.3073, 1.3294, 1.7308, 1.6112, 2.0206, 1.6112, 1.7479, 1.3294, 1.8148,\n",
       "        2.0206, 1.3073, 1.8169, 1.2265, 1.2265, 1.6145, 2.0330, 2.2089, 1.6112,\n",
       "        2.0330, 2.1111, 1.2265, 1.3073, 1.7479, 2.2089, 1.7479, 2.0330, 2.3819,\n",
       "        2.0206, 2.1111, 1.9431, 1.3073, 2.2089, 1.7479, 1.9431, 1.3294, 1.3073,\n",
       "        2.0330, 1.7308, 1.6112, 1.8169, 1.8169, 1.7479, 2.3819, 2.1111, 2.8246,\n",
       "        1.8148, 2.0330, 1.9431, 1.8148, 1.6112, 1.7479, 1.6112, 1.6112, 1.3073,\n",
       "        1.2265, 2.3819, 2.3819, 2.8246, 2.2089, 1.2265, 1.6145, 2.2089, 1.8148,\n",
       "        1.7479, 2.1111, 1.8169, 2.0206, 1.7308, 1.2265, 2.8246, 1.6145, 1.2265,\n",
       "        2.8246, 1.6112, 1.9063, 1.2265, 1.8169, 1.9431, 1.9063, 1.9431, 0.9122,\n",
       "        1.6145, 1.8169, 2.0330, 2.2089, 1.8169, 2.0206, 1.6112, 2.0206, 2.0330,\n",
       "        1.6145, 1.3294, 2.2089, 1.6145, 2.1111, 2.0206, 1.2265, 2.8246, 1.3073,\n",
       "        1.3073, 0.9122, 1.3073, 1.8169, 0.9122, 1.3073, 1.6145, 2.0330, 1.3294,\n",
       "        1.7479, 1.3073, 0.9122, 2.2089, 1.6145, 1.6145, 2.2089, 1.8148, 1.8169,\n",
       "        1.6145, 1.7308, 1.8148, 0.9122, 1.3294, 2.8246, 1.9431, 2.0206, 2.1111,\n",
       "        0.9122, 2.1111, 1.8169, 2.8246, 1.9063, 1.7479, 1.8148, 1.8148, 1.6145,\n",
       "        1.6112, 1.9431, 1.7308, 1.7308, 2.3819, 2.0330, 2.3819, 1.7479, 1.7308,\n",
       "        1.6145, 2.0206, 0.9122, 1.7308, 1.7479, 2.8246, 1.7308, 1.7479, 1.7479,\n",
       "        1.9431, 1.9063, 1.8169, 1.6145, 2.2089, 1.7308, 2.1111, 2.0330, 1.3294,\n",
       "        1.9431, 1.9431, 2.2089, 1.8169, 1.8169, 1.7479, 1.6112, 2.0330, 1.7479,\n",
       "        1.7308, 1.7479, 1.9431, 2.0206, 2.0206, 2.8246, 1.9431, 1.2265, 2.0206,\n",
       "        2.8246, 2.0330, 0.9122, 0.9122, 0.9122, 0.9122, 1.3073, 1.3073, 2.0206,\n",
       "        1.6145, 2.2089, 2.0206, 2.2089, 1.6112, 2.8246, 1.7308, 2.1111, 1.6145,\n",
       "        2.2089, 2.8246, 2.0330, 1.8169, 1.7479, 1.9063, 2.0206, 1.7308, 1.3294,\n",
       "        0.9122, 2.2089, 1.2265, 2.3819, 1.3294, 1.6145, 2.0206, 1.6145, 2.8246,\n",
       "        2.0330, 2.1111, 2.2089, 0.9122, 1.9063, 1.7479, 2.2089, 1.9063, 1.3073,\n",
       "        1.6145, 1.9063, 1.3073, 2.1111, 1.7308, 2.3819, 1.8169, 1.9063, 2.3819,\n",
       "        1.2265, 1.2265, 1.8169, 1.3294, 1.9431, 1.6145, 1.9063, 2.0206, 0.9122,\n",
       "        1.8169, 2.1111, 2.2089, 2.8246, 1.3294, 1.8169, 1.7308, 1.9431, 1.9063,\n",
       "        1.6112, 1.3294, 1.6112, 1.9063, 1.3073, 1.7308, 2.0206, 2.8246, 1.8169,\n",
       "        2.8246, 2.1111, 1.3294, 2.0330, 1.6145, 1.3073, 0.9122, 1.9063, 2.3819,\n",
       "        2.0330, 1.3294, 1.8148, 1.9431, 0.9122, 1.9063, 1.7479, 1.8148, 1.9431,\n",
       "        1.3073, 1.8169, 1.9063, 1.2265, 1.3073, 1.8169, 1.3294, 2.0206, 2.1111,\n",
       "        2.0330, 2.2089, 2.8246, 1.8169, 2.2089, 1.8148, 0.9122, 1.8169, 1.7308,\n",
       "        1.9063, 1.7308, 1.6112, 1.8148, 1.9431, 2.0206, 1.8148, 1.6112, 1.7479,\n",
       "        2.0330, 1.2265, 2.1111, 2.8246, 2.0206, 1.9063, 1.3073, 1.8169, 1.7479,\n",
       "        1.6145, 1.6145, 1.8169, 1.7479, 2.8246, 1.8169, 1.6112, 1.6112, 1.9063,\n",
       "        2.3819, 2.1111, 1.6145, 1.9063, 1.6112, 1.3073, 0.9122, 1.8169, 1.7308,\n",
       "        1.6145, 1.3073, 2.0330, 1.8169, 1.3294, 2.0206, 1.9431, 1.3073, 1.7308,\n",
       "        1.7308, 1.3294, 1.6112, 1.7479, 1.2265, 1.7479, 1.9431, 2.0206, 1.6112,\n",
       "        1.6145, 1.3294, 1.8148, 0.9122, 2.0206, 2.0330, 0.9122, 1.6112, 1.6145,\n",
       "        1.9431, 1.7479, 0.9122, 1.7308, 1.6145, 1.9431, 1.8169, 2.0330, 2.8246,\n",
       "        1.3294, 2.0206, 2.0330, 1.8169])"
      ]
     },
     "execution_count": 35,
     "metadata": {},
     "output_type": "execute_result"
    }
   ],
   "source": [
    "system_matrix = EXSListmodeSystemMatrix(object_meta=object_meta, proj_meta=proj_meta_listmode)\n",
    "sample_object = torch.rand(object_meta.shape) # object has batch dimension\n",
    "sample_projections = system_matrix.forward(sample_object)\n",
    "sample_projections"
   ]
  },
  {
   "cell_type": "markdown",
   "id": "1aa08b40",
   "metadata": {
    "papermill": {
     "duration": 0.01104,
     "end_time": "2024-10-02T04:12:08.727868",
     "exception": false,
     "start_time": "2024-10-02T04:12:08.716828",
     "status": "completed"
    },
    "tags": []
   },
   "source": [
    "Note that our \"projections\" are now in listmode format: namely, these correspond to forward projected values at all the \"detector_ids\" which formed our listmode dataset. The backward method is analogous:"
   ]
  },
  {
   "cell_type": "code",
   "execution_count": 36,
   "id": "43e643fa",
   "metadata": {
    "execution": {
     "iopub.execute_input": "2024-10-02T04:12:08.752350Z",
     "iopub.status.busy": "2024-10-02T04:12:08.752100Z",
     "iopub.status.idle": "2024-10-02T04:12:08.758276Z",
     "shell.execute_reply": "2024-10-02T04:12:08.757692Z"
    },
    "papermill": {
     "duration": 0.020481,
     "end_time": "2024-10-02T04:12:08.759816",
     "exception": false,
     "start_time": "2024-10-02T04:12:08.739335",
     "status": "completed"
    },
    "tags": []
   },
   "outputs": [],
   "source": [
    "class EXSListmodeSystemMatrix(SystemMatrix):\n",
    "    # ----\n",
    "    # SAME AS ABOVE\n",
    "    # ----\n",
    "    def forward(self, object, subset_idx = None):\n",
    "        # There is probably a faster implementation, but I am trying to keep it simple for illustration purposes\n",
    "        projections = []\n",
    "        for i, detector_id in enumerate(self.proj_meta.detector_ids):\n",
    "            coord = self.proj_meta.scanner_LUT[detector_id]\n",
    "            sensitivity_factor_i = self.proj_meta.sensitivity_at_ids[detector_id]\n",
    "            if coord[0]==0: # If angle 0:\n",
    "                projections.append(object[:,coord[1],coord[2]].sum() *  sensitivity_factor_i) # sum along x\n",
    "            elif coord[0]==1: # If angle 90:\n",
    "                projections.append(object[coord[1],:,coord[2]].sum() * sensitivity_factor_i)  # sum along y\n",
    "        return torch.tensor(projections)\n",
    "    # ---\n",
    "    # NEW CODE\n",
    "    # ---\n",
    "    def backward(self, projections, subset_idx = None):\n",
    "        # There is probably a faster implementation, but I am trying to keep it simple for illustration purposes\n",
    "        object = torch.zeros(object_meta.shape)\n",
    "        projections *= self.proj_meta.sensitivity_at_ids[self.proj_meta.detector_ids]\n",
    "        for i, detector_id in enumerate(detector_ids):\n",
    "            coord = self.proj_meta.scanner_LUT[detector_id]\n",
    "            if coord[0]==0: # If angle 0:\n",
    "                object[:,coord[1],coord[2]] += projections[i]\n",
    "            elif coord[0]==1: # If angle 90:\n",
    "                object[coord[1],:,coord[2]] += projections[i]\n",
    "        return object"
   ]
  },
  {
   "cell_type": "code",
   "execution_count": 37,
   "id": "0cf8e99a",
   "metadata": {
    "execution": {
     "iopub.execute_input": "2024-10-02T04:12:08.784471Z",
     "iopub.status.busy": "2024-10-02T04:12:08.783894Z",
     "iopub.status.idle": "2024-10-02T04:12:08.825425Z",
     "shell.execute_reply": "2024-10-02T04:12:08.824815Z"
    },
    "papermill": {
     "duration": 0.056479,
     "end_time": "2024-10-02T04:12:08.827791",
     "exception": false,
     "start_time": "2024-10-02T04:12:08.771312",
     "status": "completed"
    },
    "tags": []
   },
   "outputs": [],
   "source": [
    "system_matrix = EXSListmodeSystemMatrix(object_meta=object_meta, proj_meta=proj_meta_listmode)\n",
    "sample_object = torch.rand(object_meta.shape) # object has batch dimension\n",
    "FP = system_matrix.forward(sample_object)\n",
    "BP = system_matrix.backward(FP)"
   ]
  },
  {
   "cell_type": "markdown",
   "id": "1e69772e",
   "metadata": {
    "papermill": {
     "duration": 0.011297,
     "end_time": "2024-10-02T04:12:08.850597",
     "exception": false,
     "start_time": "2024-10-02T04:12:08.839300",
     "status": "completed"
    },
    "tags": []
   },
   "source": [
    "The computation of the normalization factor for listmode reconstruction is slightly more nuanced since it requires defining a \"projection of all 1s\". In this case, the projection of all 1s corresponds to a value of 1 in each location of the scanner LUT.\n",
    "\n",
    "* This is distinct from the regular forward/back projection which projects to all the measured detector IDs. For example, if we measure 1000 events, then forward projection produces an array of size 1000, and back projection takes in projections of size 1000 to produce an object. Computation of the normalization factor, however, takes in detector IDs corresponding to each detector, in the case $M=3$, it would take in 18 detector IDs"
   ]
  },
  {
   "cell_type": "code",
   "execution_count": 38,
   "id": "b9aeacd0",
   "metadata": {
    "execution": {
     "iopub.execute_input": "2024-10-02T04:12:08.875508Z",
     "iopub.status.busy": "2024-10-02T04:12:08.874963Z",
     "iopub.status.idle": "2024-10-02T04:12:08.883462Z",
     "shell.execute_reply": "2024-10-02T04:12:08.882805Z"
    },
    "papermill": {
     "duration": 0.022208,
     "end_time": "2024-10-02T04:12:08.884757",
     "exception": false,
     "start_time": "2024-10-02T04:12:08.862549",
     "status": "completed"
    },
    "tags": []
   },
   "outputs": [],
   "source": [
    "class EXSListmodeSystemMatrix(SystemMatrix):\n",
    "    # ----\n",
    "    # SAME AS ABOVE\n",
    "    # ----\n",
    "    def forward(self, object, subset_idx = None):\n",
    "        # There is probably a faster implementation, but I am trying to keep it simple for illustration purposes\n",
    "        projections = []\n",
    "        for i, detector_id in enumerate(self.proj_meta.detector_ids):\n",
    "            coord = self.proj_meta.scanner_LUT[detector_id]\n",
    "            sensitivity_factor_i = self.proj_meta.sensitivity_at_ids[detector_id]\n",
    "            if coord[0]==0: # If angle 0:\n",
    "                projections.append(object[:,coord[1],coord[2]].sum() *  sensitivity_factor_i) # sum along x\n",
    "            elif coord[0]==1: # If angle 90:\n",
    "                projections.append(object[coord[1],:,coord[2]].sum() * sensitivity_factor_i)  # sum along y\n",
    "        return torch.tensor(projections)\n",
    "    def backward(self, projections, subset_idx = None):\n",
    "        # There is probably a faster implementation, but I am trying to keep it simple for illustration purposes\n",
    "        object = torch.zeros(object_meta.shape)\n",
    "        projections *= self.proj_meta.sensitivity_at_ids[self.proj_meta.detector_ids]\n",
    "        for i, detector_id in enumerate(detector_ids):\n",
    "            coord = self.proj_meta.scanner_LUT[detector_id]\n",
    "            if coord[0]==0: # If angle 0:\n",
    "                object[:,coord[1],coord[2]] += projections[i]\n",
    "            elif coord[0]==1: # If angle 90:\n",
    "                object[coord[1],:,coord[2]] += projections[i]\n",
    "        return object\n",
    "    # ----\n",
    "    # NEW CODE\n",
    "    # ----\n",
    "    def compute_normalization_factor(self):\n",
    "        norm_BP = torch.zeros(object_meta.shape)\n",
    "        # Now we loop through unique detector ids instead\n",
    "        unique_detector_ids = torch.arange(scanner_LUT.shape[0])\n",
    "        for i, detector_id in enumerate(unique_detector_ids):\n",
    "            coord = self.proj_meta.scanner_LUT[detector_id]\n",
    "            sensitivity_factor_i = self.proj_meta.sensitivity_at_ids[detector_id]\n",
    "            if coord[0]==0: # If angle 0:\n",
    "                norm_BP[:,coord[1],coord[2]] += sensitivity_factor_i\n",
    "            elif coord[0]==1: # If angle 90:\n",
    "                norm_BP[coord[1],:,coord[2]] += sensitivity_factor_i\n",
    "        return norm_BP"
   ]
  },
  {
   "cell_type": "code",
   "execution_count": 39,
   "id": "92cb175c",
   "metadata": {
    "execution": {
     "iopub.execute_input": "2024-10-02T04:12:08.909625Z",
     "iopub.status.busy": "2024-10-02T04:12:08.909117Z",
     "iopub.status.idle": "2024-10-02T04:12:08.914386Z",
     "shell.execute_reply": "2024-10-02T04:12:08.913765Z"
    },
    "papermill": {
     "duration": 0.019227,
     "end_time": "2024-10-02T04:12:08.915672",
     "exception": false,
     "start_time": "2024-10-02T04:12:08.896445",
     "status": "completed"
    },
    "tags": []
   },
   "outputs": [
    {
     "data": {
      "text/plain": [
       "tensor([[1.0389, 1.1392, 1.0806],\n",
       "        [1.1857, 1.1079, 1.0473],\n",
       "        [1.2224, 1.2087, 1.0737]])"
      ]
     },
     "execution_count": 39,
     "metadata": {},
     "output_type": "execute_result"
    }
   ],
   "source": [
    "sensitivity_factor"
   ]
  },
  {
   "cell_type": "code",
   "execution_count": 40,
   "id": "8fa09e9a",
   "metadata": {
    "execution": {
     "iopub.execute_input": "2024-10-02T04:12:08.939953Z",
     "iopub.status.busy": "2024-10-02T04:12:08.939576Z",
     "iopub.status.idle": "2024-10-02T04:12:08.943883Z",
     "shell.execute_reply": "2024-10-02T04:12:08.943291Z"
    },
    "papermill": {
     "duration": 0.018123,
     "end_time": "2024-10-02T04:12:08.945195",
     "exception": false,
     "start_time": "2024-10-02T04:12:08.927072",
     "status": "completed"
    },
    "tags": []
   },
   "outputs": [],
   "source": [
    "system_matrix = EXSListmodeSystemMatrix(object_meta=object_meta, proj_meta=proj_meta_listmode)\n",
    "norm_BP = system_matrix.compute_normalization_factor()"
   ]
  },
  {
   "cell_type": "code",
   "execution_count": 41,
   "id": "ed422116",
   "metadata": {
    "execution": {
     "iopub.execute_input": "2024-10-02T04:12:08.969704Z",
     "iopub.status.busy": "2024-10-02T04:12:08.969374Z",
     "iopub.status.idle": "2024-10-02T04:12:09.111697Z",
     "shell.execute_reply": "2024-10-02T04:12:09.111171Z"
    },
    "papermill": {
     "duration": 0.1562,
     "end_time": "2024-10-02T04:12:09.112988",
     "exception": false,
     "start_time": "2024-10-02T04:12:08.956788",
     "status": "completed"
    },
    "tags": []
   },
   "outputs": [
    {
     "data": {
      "text/plain": [
       "<matplotlib.colorbar.Colorbar at 0x7fd9bb324550>"
      ]
     },
     "execution_count": 41,
     "metadata": {},
     "output_type": "execute_result"
    },
    {
     "data": {
      "image/png": "[encoded data removed]",
      "text/plain": [
       "<Figure size 200x200 with 2 Axes>"
      ]
     },
     "metadata": {},
     "output_type": "display_data"
    }
   ],
   "source": [
    "plt.figure(figsize=(2,2))\n",
    "plt.pcolormesh(norm_BP[:,:,1])\n",
    "plt.colorbar()"
   ]
  },
  {
   "cell_type": "markdown",
   "id": "ce5513ff",
   "metadata": {
    "papermill": {
     "duration": 0.041977,
     "end_time": "2024-10-02T04:12:09.167470",
     "exception": false,
     "start_time": "2024-10-02T04:12:09.125493",
     "status": "completed"
    },
    "tags": []
   },
   "source": [
    "Now we can use the listmode system matrix with the rest of the library.\n",
    "\n",
    "**For list mode system matrices, we no longer need to provide `projections` to the likelihood function**"
   ]
  },
  {
   "cell_type": "code",
   "execution_count": 42,
   "id": "90bce2c6",
   "metadata": {
    "execution": {
     "iopub.execute_input": "2024-10-02T04:12:09.193133Z",
     "iopub.status.busy": "2024-10-02T04:12:09.192655Z",
     "iopub.status.idle": "2024-10-02T04:12:09.196809Z",
     "shell.execute_reply": "2024-10-02T04:12:09.196199Z"
    },
    "papermill": {
     "duration": 0.01865,
     "end_time": "2024-10-02T04:12:09.198124",
     "exception": false,
     "start_time": "2024-10-02T04:12:09.179474",
     "status": "completed"
    },
    "tags": []
   },
   "outputs": [],
   "source": [
    "system_matrix = EXSListmodeSystemMatrix(object_meta=object_meta, proj_meta=proj_meta_listmode)\n",
    "likelihood = NegativeMSELikelihood(system_matrix, scaling_constant=0.01)\n",
    "reconstruction_algorithm = OSEM(likelihood)"
   ]
  },
  {
   "cell_type": "code",
   "execution_count": 43,
   "id": "9893b652",
   "metadata": {
    "execution": {
     "iopub.execute_input": "2024-10-02T04:12:09.222849Z",
     "iopub.status.busy": "2024-10-02T04:12:09.222475Z",
     "iopub.status.idle": "2024-10-02T04:12:10.806116Z",
     "shell.execute_reply": "2024-10-02T04:12:10.805223Z"
    },
    "papermill": {
     "duration": 1.598003,
     "end_time": "2024-10-02T04:12:10.807917",
     "exception": false,
     "start_time": "2024-10-02T04:12:09.209914",
     "status": "completed"
    },
    "tags": []
   },
   "outputs": [],
   "source": [
    "recon = reconstruction_algorithm(n_iters=40)"
   ]
  },
  {
   "cell_type": "code",
   "execution_count": 44,
   "id": "83b34a34",
   "metadata": {
    "execution": {
     "iopub.execute_input": "2024-10-02T04:12:10.834550Z",
     "iopub.status.busy": "2024-10-02T04:12:10.833989Z",
     "iopub.status.idle": "2024-10-02T04:12:10.926119Z",
     "shell.execute_reply": "2024-10-02T04:12:10.925501Z"
    },
    "papermill": {
     "duration": 0.107004,
     "end_time": "2024-10-02T04:12:10.927573",
     "exception": false,
     "start_time": "2024-10-02T04:12:10.820569",
     "status": "completed"
    },
    "tags": []
   },
   "outputs": [
    {
     "data": {
      "text/plain": [
       "<matplotlib.colorbar.Colorbar at 0x7fd9baf9a2d0>"
      ]
     },
     "execution_count": 44,
     "metadata": {},
     "output_type": "execute_result"
    },
    {
     "data": {
      "image/png": "[encoded data removed]",
      "text/plain": [
       "<Figure size 200x200 with 2 Axes>"
      ]
     },
     "metadata": {},
     "output_type": "display_data"
    }
   ],
   "source": [
    "plt.figure(figsize=(2,2))\n",
    "plt.pcolormesh(recon[:,:,1], vmin=0, cmap='nipy_spectral')\n",
    "plt.axis('off')\n",
    "plt.colorbar()"
   ]
  },
  {
   "cell_type": "markdown",
   "id": "dc2a8e5b",
   "metadata": {
    "papermill": {
     "duration": 0.013026,
     "end_time": "2024-10-02T04:12:10.953676",
     "exception": false,
     "start_time": "2024-10-02T04:12:10.940650",
     "status": "completed"
    },
    "tags": []
   },
   "source": [
    "## Part 2: Incorporating Subsets"
   ]
  },
  {
   "cell_type": "markdown",
   "id": "0ac55a2f",
   "metadata": {
    "papermill": {
     "duration": 0.012444,
     "end_time": "2024-10-02T04:12:10.978738",
     "exception": false,
     "start_time": "2024-10-02T04:12:10.966294",
     "status": "completed"
    },
    "tags": []
   },
   "source": [
    "Incorporating subsets is slightly more intuitive with listmode data. In this case, we split up all the detected events into $N$ approximately equal subsets using the `torch.tensor_split` function"
   ]
  },
  {
   "cell_type": "code",
   "execution_count": 45,
   "id": "7ddc7653",
   "metadata": {
    "execution": {
     "iopub.execute_input": "2024-10-02T04:12:11.005382Z",
     "iopub.status.busy": "2024-10-02T04:12:11.004891Z",
     "iopub.status.idle": "2024-10-02T04:12:11.015851Z",
     "shell.execute_reply": "2024-10-02T04:12:11.015198Z"
    },
    "papermill": {
     "duration": 0.026222,
     "end_time": "2024-10-02T04:12:11.017142",
     "exception": false,
     "start_time": "2024-10-02T04:12:10.990920",
     "status": "completed"
    },
    "tags": []
   },
   "outputs": [],
   "source": [
    "class EXSListmodeSystemMatrix(SystemMatrix):\n",
    "    # ----\n",
    "    # NEW CODE\n",
    "    # ----\n",
    "    def set_n_subsets(self, n_subsets):\n",
    "        self.n_subsets = n_subsets\n",
    "        idx = torch.arange(proj_meta_listmode.detector_ids.shape[0])\n",
    "        self.subset_indices_array = torch.tensor_split(idx, self.n_subsets)\n",
    "    def get_projection_subset(self, projections, subset_idx):\n",
    "        # Needs to consider cases where projection is simply a 1 element tensor in the numerator, but also cases of scatter where it is a longer tensor\n",
    "        if (projections.shape[0]>1)*(subset_idx is not None):\n",
    "            subset_indices = self.subset_indices_array[subset_idx]\n",
    "            proj_subset = projections[subset_indices]\n",
    "        else:\n",
    "            proj_subset = projections\n",
    "        return proj_subset\n",
    "    def get_weighting_subset(self, subset_idx):\n",
    "        if subset_idx is None:\n",
    "            return 1\n",
    "        else:\n",
    "            # Fraction of events in the subset\n",
    "            return self.subset_indices_array[subset_idx].shape[0] / proj_meta_listmode.detector_ids.shape[0]\n",
    "    def forward(self, object, subset_idx = None):\n",
    "        # There is probably a faster implementation, but I am trying to keep it simple for illustration purposes\n",
    "        projections = []\n",
    "        if subset_idx is None:\n",
    "            detector_ids_subset = self.proj_meta.detector_ids\n",
    "        else:\n",
    "            detector_ids_subset = self.proj_meta.detector_ids[self.subset_indices_array[subset_idx]]\n",
    "        for i, detector_id in enumerate(detector_ids_subset):\n",
    "            coord = self.proj_meta.scanner_LUT[detector_id]\n",
    "            sensitivity_factor_i = self.proj_meta.sensitivity_at_ids[detector_id]\n",
    "            if coord[0]==0: # If angle 0:\n",
    "                projections.append(object[:,coord[1],coord[2]].sum() *  sensitivity_factor_i) # sum along x\n",
    "            elif coord[0]==1: # If angle 90:\n",
    "                projections.append(object[coord[1],:,coord[2]].sum() * sensitivity_factor_i)  # sum along y\n",
    "        return torch.tensor(projections)\n",
    "    def backward(self, projections, subset_idx = None):\n",
    "        # There is probably a faster implementation, but I am trying to keep it simple for illustration purposes\n",
    "        object = torch.zeros(object_meta.shape)\n",
    "        if subset_idx is None:\n",
    "            detector_ids_subset = self.proj_meta.detector_ids\n",
    "        else:\n",
    "            detector_ids_subset = self.proj_meta.detector_ids[self.subset_indices_array[subset_idx]]\n",
    "        projections *= self.proj_meta.sensitivity_at_ids[detector_ids_subset]\n",
    "        for i, detector_id in enumerate(detector_ids_subset):\n",
    "            coord = self.proj_meta.scanner_LUT[detector_id]\n",
    "            if coord[0]==0: # If angle 0:\n",
    "                object[:,coord[1],coord[2]] += projections[i]\n",
    "            elif coord[0]==1: # If angle 90:\n",
    "                object[coord[1],:,coord[2]] += projections[i]\n",
    "        return object\n",
    "    def compute_normalization_factor(self, subset_idx=None):\n",
    "        fraction_considered = self.get_weighting_subset(subset_idx)\n",
    "        norm_BP = torch.zeros(object_meta.shape)\n",
    "        # Now we loop through unique detector ids instead\n",
    "        unique_detector_ids = torch.arange(scanner_LUT.shape[0])\n",
    "        for i, detector_id in enumerate(unique_detector_ids):\n",
    "            coord = self.proj_meta.scanner_LUT[detector_id]\n",
    "            sensitivity_factor_i = self.proj_meta.sensitivity_at_ids[detector_id]\n",
    "            if coord[0]==0: # If angle 0:\n",
    "                norm_BP[:,coord[1],coord[2]] += sensitivity_factor_i\n",
    "            elif coord[0]==1: # If angle 90:\n",
    "                norm_BP[coord[1],:,coord[2]] += sensitivity_factor_i\n",
    "        return norm_BP * fraction_considered"
   ]
  },
  {
   "cell_type": "code",
   "execution_count": 46,
   "id": "a2debf5a",
   "metadata": {
    "execution": {
     "iopub.execute_input": "2024-10-02T04:12:11.042795Z",
     "iopub.status.busy": "2024-10-02T04:12:11.042459Z",
     "iopub.status.idle": "2024-10-02T04:12:11.046240Z",
     "shell.execute_reply": "2024-10-02T04:12:11.045607Z"
    },
    "papermill": {
     "duration": 0.018138,
     "end_time": "2024-10-02T04:12:11.047511",
     "exception": false,
     "start_time": "2024-10-02T04:12:11.029373",
     "status": "completed"
    },
    "tags": []
   },
   "outputs": [],
   "source": [
    "system_matrix = EXSListmodeSystemMatrix(object_meta=object_meta, proj_meta=proj_meta_listmode)\n",
    "likelihood = NegativeMSELikelihood(system_matrix, scaling_constant=0.01)\n",
    "reconstruction_algorithm = OSEM(likelihood)"
   ]
  },
  {
   "cell_type": "code",
   "execution_count": 47,
   "id": "66a7cea9",
   "metadata": {
    "execution": {
     "iopub.execute_input": "2024-10-02T04:12:11.073083Z",
     "iopub.status.busy": "2024-10-02T04:12:11.072736Z",
     "iopub.status.idle": "2024-10-02T04:12:13.401739Z",
     "shell.execute_reply": "2024-10-02T04:12:13.400750Z"
    },
    "papermill": {
     "duration": 2.343635,
     "end_time": "2024-10-02T04:12:13.403413",
     "exception": false,
     "start_time": "2024-10-02T04:12:11.059778",
     "status": "completed"
    },
    "tags": []
   },
   "outputs": [],
   "source": [
    "recon_2subsets = reconstruction_algorithm(n_iters=20, n_subsets=2)\n",
    "reconstruction_algorithm = OSEM(likelihood)\n",
    "recon_1subset = reconstruction_algorithm(n_iters=40)"
   ]
  },
  {
   "cell_type": "markdown",
   "id": "1371e63c",
   "metadata": {
    "papermill": {
     "duration": 0.011806,
     "end_time": "2024-10-02T04:12:13.427959",
     "exception": false,
     "start_time": "2024-10-02T04:12:13.416153",
     "status": "completed"
    },
    "tags": []
   },
   "source": [
    "Now lets plot the reconstructions:"
   ]
  },
  {
   "cell_type": "code",
   "execution_count": 48,
   "id": "8e190a1d",
   "metadata": {
    "execution": {
     "iopub.execute_input": "2024-10-02T04:12:13.454383Z",
     "iopub.status.busy": "2024-10-02T04:12:13.453868Z",
     "iopub.status.idle": "2024-10-02T04:12:13.610422Z",
     "shell.execute_reply": "2024-10-02T04:12:13.609808Z"
    },
    "papermill": {
     "duration": 0.171398,
     "end_time": "2024-10-02T04:12:13.611781",
     "exception": false,
     "start_time": "2024-10-02T04:12:13.440383",
     "status": "completed"
    },
    "tags": []
   },
   "outputs": [
    {
     "data": {
      "text/plain": [
       "<matplotlib.colorbar.Colorbar at 0x7fd9baf02990>"
      ]
     },
     "execution_count": 48,
     "metadata": {},
     "output_type": "execute_result"
    },
    {
     "data": {
      "image/png": "[encoded data removed]",
      "text/plain": [
       "<Figure size 400x200 with 4 Axes>"
      ]
     },
     "metadata": {},
     "output_type": "display_data"
    }
   ],
   "source": [
    "max_value = max([recon_1subset[:,:,1].max().item(), recon_1subset[:,:,1].max().item()])\n",
    "plt.figure(figsize=(4,2))\n",
    "plt.subplot(121)\n",
    "plt.pcolormesh(recon_1subset[:,:,1], vmin=0, vmax=max_value, cmap='nipy_spectral')\n",
    "plt.axis('off')\n",
    "plt.colorbar()\n",
    "plt.subplot(122)\n",
    "plt.pcolormesh(recon_2subsets[:,:,1], vmin=0, vmax=max_value, cmap='nipy_spectral')\n",
    "plt.axis('off')\n",
    "plt.colorbar()"
   ]
  },
  {
   "cell_type": "markdown",
   "id": "73b08003",
   "metadata": {
    "papermill": {
     "duration": 0.012041,
     "end_time": "2024-10-02T04:12:13.636974",
     "exception": false,
     "start_time": "2024-10-02T04:12:13.624933",
     "status": "completed"
    },
    "tags": []
   },
   "source": [
    "For a better imaging system (we're not collecting nearly enough angles here), these two images should look very similar."
   ]
  }
 ],
 "metadata": {
  "kernelspec": {
   "display_name": "pytomo_install_test",
   "language": "python",
   "name": "python3"
  },
  "language_info": {
   "codemirror_mode": {
    "name": "ipython",
    "version": 3
   },
   "file_extension": ".py",
   "mimetype": "text/x-python",
   "name": "python",
   "nbconvert_exporter": "python",
   "pygments_lexer": "ipython3",
   "version": "3.11.10"
  },
  "papermill": {
   "default_parameters": {},
   "duration": 12.926397,
   "end_time": "2024-10-02T04:12:14.767456",
   "environment_variables": {},
   "exception": null,
   "input_path": "t_examplesystemmatrix.ipynb",
   "output_path": "t_examplesystemmatrix.ipynb",
   "parameters": {},
   "start_time": "2024-10-02T04:12:01.841059",
   "version": "2.6.0"
  }
 },
 "nbformat": 4,
 "nbformat_minor": 5
}