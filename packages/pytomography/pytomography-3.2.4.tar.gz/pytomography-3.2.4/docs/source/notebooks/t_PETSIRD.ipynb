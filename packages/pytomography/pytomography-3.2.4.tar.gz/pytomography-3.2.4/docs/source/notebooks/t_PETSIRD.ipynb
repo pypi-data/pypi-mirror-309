{
 "cells": [
  {
   "cell_type": "markdown",
   "metadata": {},
   "source": [
    "# PETSIRD Data (Listmode)"
   ]
  },
  {
   "cell_type": "markdown",
   "metadata": {},
   "source": [
    "PyTomography offers PET listmode, time-of-flight reconstruction capabilities for data in the PETSIRD format. This relatively new data format is being advocated by the Emission Tomography Standardization Initiative (ETSI) to be the standard data format for all PET listmode data. More about ETSI can be found at https://etsinitiative.org/. The goal of ETSI is to standardize PET list mode data, and their current objective is to work with major vendors (such as Siemens, General Electric, United Imaging, Canon Medical Systems, Positrigo, and SynchroPET) to align all output PET data formats. \n",
    "\n",
    "**It should be strongly emphasized that this data format is still considered a work-in-progress**. While the data format is still relatively new, PyTomography will continue to add updated support throughout its evolution. The sample PETSIRD data file used in this tutorial was generated during the ETSI hackathon and is the output of a GATE simulation. This tutorial will demonstrate how to reconstruction this data in PyTomography.\n",
    "\n",
    "A few caveats:\n",
    "* Currently, sinogram is reconstruction is not available for PETSIRD data as the system geometry is not specified.\n",
    "* The establishment of *all valid detector pairs* has not yet been formulated in the PETSIRD format as of yet. For now, it is assumed that all combinations of detector pairs are valid: this is important when computing normalization/sensitivity factors."
   ]
  },
  {
   "cell_type": "code",
   "execution_count": 1,
   "metadata": {},
   "outputs": [],
   "source": [
    "import torch\n",
    "import pytomography\n",
    "from pytomography.metadata import ObjectMeta, PETLMProjMeta\n",
    "from pytomography.projectors.PET import PETLMSystemMatrix\n",
    "from pytomography.likelihoods import PoissonLogLikelihood\n",
    "from pytomography.priors import RelativeDifferencePrior\n",
    "from pytomography.algorithms import BSREM\n",
    "from pytomography.io.PET import petsird, gate\n",
    "import os\n",
    "from pytomography.transforms.shared import GaussianFilter\n",
    "import numpy as np\n",
    "import matplotlib.pyplot as plt\n",
    "import nibabel as nib"
   ]
  },
  {
   "cell_type": "markdown",
   "metadata": {},
   "source": [
    "Specify the path of the PETSIRD file, containing all listmode data:"
   ]
  },
  {
   "cell_type": "code",
   "execution_count": 2,
   "metadata": {},
   "outputs": [],
   "source": [
    "folder = '/disk1/pytomography_tutorial_data/petsird_tutorial'\n",
    "petsird_path = os.path.join(folder, 'mIEC_ETSIPETscanner_1.petsird')\n",
    "eta_path = os.path.join(folder, 'eta.npy')"
   ]
  },
  {
   "cell_type": "markdown",
   "metadata": {},
   "source": [
    "Here we load all the detector IDs (corresponding to a pair of detectors where an event was measured, along with its time of flight bin) as well as the PETSIRD header, which contains required information about the PET system."
   ]
  },
  {
   "cell_type": "code",
   "execution_count": 3,
   "metadata": {},
   "outputs": [],
   "source": [
    "detector_ids, header = petsird.get_detector_ids(\n",
    "    petsird_path,\n",
    "    read_tof=True,\n",
    "    read_energy=False,\n",
    "    time_block_ids=None,\n",
    "    return_header=True\n",
    ")"
   ]
  },
  {
   "cell_type": "markdown",
   "metadata": {},
   "source": [
    "From the header, we can get our scanner lookup table as well as our time-of-flight metadata"
   ]
  },
  {
   "cell_type": "code",
   "execution_count": 4,
   "metadata": {},
   "outputs": [],
   "source": [
    "scanner_LUT = petsird.get_scanner_LUT_from_header(header)\n",
    "tof_meta = petsird.get_TOF_meta_from_header(header)"
   ]
  },
  {
   "cell_type": "markdown",
   "metadata": {},
   "source": [
    "Define object metadata, which specifies the region of reconstruction"
   ]
  },
  {
   "cell_type": "code",
   "execution_count": 5,
   "metadata": {},
   "outputs": [],
   "source": [
    "dr = (2.5, 2.5, 2.5)\n",
    "shape = (128,128,44)\n",
    "object_meta = ObjectMeta(dr, shape)"
   ]
  },
  {
   "cell_type": "markdown",
   "metadata": {},
   "source": [
    "Now lets remove all events that are out of bounds of the reconstruction region (important for limited FOV)"
   ]
  },
  {
   "cell_type": "code",
   "execution_count": 6,
   "metadata": {},
   "outputs": [],
   "source": [
    "detector_ids = gate.remove_events_out_of_bounds(detector_ids, scanner_LUT, object_meta)"
   ]
  },
  {
   "cell_type": "markdown",
   "metadata": {},
   "source": [
    "Now we setup the projection metadata."
   ]
  },
  {
   "cell_type": "code",
   "execution_count": 7,
   "metadata": {},
   "outputs": [],
   "source": [
    "weights_sensitivity = torch.tensor(np.load(eta_path))\n",
    "proj_meta_nonTOF = PETLMProjMeta(\n",
    "    detector_ids=detector_ids[:,:2],\n",
    "    scanner_LUT=scanner_LUT,\n",
    "    weights_sensitivity=weights_sensitivity)\n",
    "proj_meta_TOF = PETLMProjMeta(\n",
    "    detector_ids=detector_ids,\n",
    "    scanner_LUT=scanner_LUT,\n",
    "    tof_meta=tof_meta,\n",
    "    weights_sensitivity=weights_sensitivity)"
   ]
  },
  {
   "cell_type": "markdown",
   "metadata": {},
   "source": [
    "Load attenuation map generated from the GATE simulation that accompanies this dataset:"
   ]
  },
  {
   "cell_type": "code",
   "execution_count": 8,
   "metadata": {},
   "outputs": [],
   "source": [
    "amap = gate.get_aligned_attenuation_map('/home/gpuvmadm/PyTomography/notebook_testing/ETSIPET_ACmap_IEC_10cmRadius.hv', object_meta)"
   ]
  },
  {
   "cell_type": "markdown",
   "metadata": {},
   "source": [
    "Now we can create system matrices that correspond to modeling without and with time of flight (TOF). In the non-TOF matrix, we only give the first two indices of `detector_ids`, (and not the third, which gives the TOF bin).\n",
    "* For PSF modeling, we'll use a Gaussian filter with 4mm FWHM"
   ]
  },
  {
   "cell_type": "code",
   "execution_count": 9,
   "metadata": {},
   "outputs": [],
   "source": [
    "psf_transform = GaussianFilter(4)\n",
    "system_matrix_nontof = PETLMSystemMatrix(\n",
    "    object_meta,\n",
    "    proj_meta_nonTOF,\n",
    "    obj2obj_transforms=[psf_transform],\n",
    "    attenuation_map=amap,\n",
    "    N_splits=4\n",
    "    )\n",
    "system_matrix_tof = PETLMSystemMatrix(\n",
    "    object_meta,\n",
    "    proj_meta_TOF,\n",
    "    obj2obj_transforms=[psf_transform],\n",
    "    attenuation_map=amap,\n",
    "    N_splits=4\n",
    "    )"
   ]
  },
  {
   "cell_type": "markdown",
   "metadata": {},
   "source": [
    "For image reconstruction we'll use `BSREM` with the `RelativeDifferencePrior`. Of note: the `projections` argument when reconstructing PET LM data **must be a tensor with the element 1 inside**. This has to do with the fact that the number of observed events along each LOR (which are listed in order) is simply 1 (hence why it was recorded)."
   ]
  },
  {
   "cell_type": "code",
   "execution_count": 10,
   "metadata": {},
   "outputs": [],
   "source": [
    "likelihood_tof = PoissonLogLikelihood(system_matrix_tof, torch.tensor([1.]).to(pytomography.device))\n",
    "likelihood_nontof = PoissonLogLikelihood(system_matrix_nontof, torch.tensor([1.]).to(pytomography.device))\n",
    "prior_rdp = RelativeDifferencePrior(beta=75, gamma=2)\n",
    "recon_algorithm_nontof = BSREM(\n",
    "    likelihood_nontof,\n",
    "    prior=prior_rdp,\n",
    ")\n",
    "recon_algorithm_tof = BSREM(\n",
    "    likelihood_tof,\n",
    "    prior=prior_rdp,\n",
    ")"
   ]
  },
  {
   "cell_type": "markdown",
   "metadata": {},
   "source": [
    "Now we'll reconstruct for 100 iterations using 1 subset (only 1 subset because the data is noisy)"
   ]
  },
  {
   "cell_type": "code",
   "execution_count": 11,
   "metadata": {},
   "outputs": [],
   "source": [
    "recon_tof = recon_algorithm_tof(n_iters=100, n_subsets=1)"
   ]
  },
  {
   "cell_type": "code",
   "execution_count": 12,
   "metadata": {},
   "outputs": [],
   "source": [
    "recon_nontof = recon_algorithm_nontof(n_iters=100, n_subsets=1)"
   ]
  },
  {
   "cell_type": "markdown",
   "metadata": {},
   "source": [
    "And we can plot the reconstructed objects:"
   ]
  },
  {
   "cell_type": "code",
   "execution_count": 13,
   "metadata": {},
   "outputs": [
    {
     "data": {
      "image/png": "[encoded data removed]",
      "text/plain": [
       "<Figure size 750x400 with 2 Axes>"
      ]
     },
     "metadata": {},
     "output_type": "display_data"
    }
   ],
   "source": [
    "vmax=0.02\n",
    "slc = 29 \n",
    "fig, axes = plt.subplots(1,2,figsize=(7.5,4))\n",
    "plt.subplot(121)\n",
    "c = plt.pcolormesh(recon_nontof[0,:,:,slc].cpu().T, cmap='magma', vmax=vmax)\n",
    "plt.axis('off')\n",
    "plt.title('Non Time-Of-Flight')\n",
    "plt.subplot(122)\n",
    "plt.pcolormesh(recon_tof[0,:,:,slc].cpu().T, cmap='magma')\n",
    "plt.axis('off')\n",
    "plt.title('Time-Of-Flight')\n",
    "fig.tight_layout()"
   ]
  },
  {
   "cell_type": "markdown",
   "metadata": {},
   "source": [
    "We can also save these as nifti files if we want to view them in an external viewing software."
   ]
  },
  {
   "cell_type": "code",
   "execution_count": 14,
   "metadata": {},
   "outputs": [],
   "source": [
    "affine=np.eye(4); affine[-1,-1] = 0\n",
    "recon_tof_nib = nib.Nifti1Image(recon_tof[0].cpu().numpy(), affine=affine)\n",
    "nib.save(recon_tof_nib, os.path.join(folder, 'bsrem_nopsf_tof.nii.gz'))\n",
    "recon_nontof_nib = nib.Nifti1Image(recon_nontof[0].cpu().numpy(), affine=affine)\n",
    "nib.save(recon_nontof_nib, os.path.join(folder, 'bsrem_nopsf_nontof.nii.gz'))"
   ]
  },
  {
   "cell_type": "markdown",
   "metadata": {},
   "source": [
    "A few current limitations of the PETSIRD format:\n",
    "\n",
    "* Detector orientation and mean interaction depth in each crystal is not recorded in the detector. As such, the reconstructions may be slightly skewed. This information should be recorded in future PETSIRD versions\n",
    "* Normalization coefficients for each LOR are not recorded in the header. As such, they need to be manually computed. In this case, they are loaded from a `.npy` file. In future PETSIRD versions, these coefficients should be stored."
   ]
  }
 ],
 "metadata": {
  "kernelspec": {
   "display_name": "pytomo_install_test",
   "language": "python",
   "name": "python3"
  },
  "language_info": {
   "codemirror_mode": {
    "name": "ipython",
    "version": 3
   },
   "file_extension": ".py",
   "mimetype": "text/x-python",
   "name": "python",
   "nbconvert_exporter": "python",
   "pygments_lexer": "ipython3",
   "version": "3.11.6"
  }
 },
 "nbformat": 4,
 "nbformat_minor": 2
}
