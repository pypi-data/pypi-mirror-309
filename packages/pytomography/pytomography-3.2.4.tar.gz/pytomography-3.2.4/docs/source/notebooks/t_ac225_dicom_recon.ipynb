{
 "cells": [
  {
   "cell_type": "markdown",
   "id": "03498682",
   "metadata": {
    "papermill": {
     "duration": 0.003821,
     "end_time": "2024-10-02T02:51:08.274718",
     "exception": false,
     "start_time": "2024-10-02T02:51:08.270897",
     "status": "completed"
    },
    "tags": []
   },
   "source": [
    "# Ac-225 Advanced PSF Modeling (DICOM)"
   ]
  },
  {
   "cell_type": "markdown",
   "id": "8fba0269",
   "metadata": {
    "papermill": {
     "duration": 0.002809,
     "end_time": "2024-10-02T02:51:08.281002",
     "exception": false,
     "start_time": "2024-10-02T02:51:08.278193",
     "status": "completed"
    },
    "tags": []
   },
   "source": [
    "This tutorial uses the PSF operators obtained using the SPECTPSF toolbox to reconstruct Ac225 data. The operator was obtained using tutorial 5, available at this [link](https://github.com/lukepolson/SPECTPSFToolbox/blob/main/tutorials/5_optimization_ac225.ipynb). Use of this operator requires the SPECTPSFToolbox to be installed; instructions for installing can be found on the README [here](https://github.com/lukepolson/SPECTPSFToolbox/tree/main)"
   ]
  },
  {
   "cell_type": "code",
   "execution_count": 1,
   "id": "d79369fa",
   "metadata": {
    "execution": {
     "iopub.execute_input": "2024-10-02T02:51:08.290366Z",
     "iopub.status.busy": "2024-10-02T02:51:08.290064Z",
     "iopub.status.idle": "2024-10-02T02:51:12.172441Z",
     "shell.execute_reply": "2024-10-02T02:51:12.171131Z"
    },
    "papermill": {
     "duration": 3.890416,
     "end_time": "2024-10-02T02:51:12.174640",
     "exception": false,
     "start_time": "2024-10-02T02:51:08.284224",
     "status": "completed"
    },
    "tags": []
   },
   "outputs": [],
   "source": [
    "import matplotlib.pyplot as plt\n",
    "import torch # needed for kernels\n",
    "import pytomography\n",
    "from pytomography.projectors.SPECT import SPECTSystemMatrix\n",
    "from pytomography.io.SPECT import dicom\n",
    "from pytomography.algorithms import OSEM\n",
    "from pytomography.likelihoods import PoissonLogLikelihood\n",
    "from pytomography.transforms.SPECT import SPECTAttenuationTransform, SPECTPSFTransform\n",
    "from pytomography.transforms.shared import GaussianFilter\n",
    "from pytomography.io.SPECT.shared import subsample_projections_and_modify_metadata\n",
    "import dill\n",
    "import os"
   ]
  },
  {
   "cell_type": "markdown",
   "id": "e192c2c8",
   "metadata": {
    "papermill": {
     "duration": 0.003149,
     "end_time": "2024-10-02T02:51:12.181363",
     "exception": false,
     "start_time": "2024-10-02T02:51:12.178214",
     "status": "completed"
    },
    "tags": []
   },
   "source": [
    "Tutorial data path"
   ]
  },
  {
   "cell_type": "code",
   "execution_count": 2,
   "id": "1de46494",
   "metadata": {
    "execution": {
     "iopub.execute_input": "2024-10-02T02:51:12.189648Z",
     "iopub.status.busy": "2024-10-02T02:51:12.189016Z",
     "iopub.status.idle": "2024-10-02T02:51:12.193348Z",
     "shell.execute_reply": "2024-10-02T02:51:12.192741Z"
    },
    "papermill": {
     "duration": 0.010405,
     "end_time": "2024-10-02T02:51:12.194700",
     "exception": false,
     "start_time": "2024-10-02T02:51:12.184295",
     "status": "completed"
    },
    "tags": []
   },
   "outputs": [],
   "source": [
    "path  = '/disk1/pytomography_tutorial_data'"
   ]
  },
  {
   "cell_type": "markdown",
   "id": "793e12d3",
   "metadata": {
    "papermill": {
     "duration": 0.003113,
     "end_time": "2024-10-02T02:51:12.202452",
     "exception": false,
     "start_time": "2024-10-02T02:51:12.199339",
     "status": "completed"
    },
    "tags": []
   },
   "source": [
    "Location of files"
   ]
  },
  {
   "cell_type": "code",
   "execution_count": 3,
   "id": "81409907",
   "metadata": {
    "execution": {
     "iopub.execute_input": "2024-10-02T02:51:12.209517Z",
     "iopub.status.busy": "2024-10-02T02:51:12.209194Z",
     "iopub.status.idle": "2024-10-02T02:51:12.213009Z",
     "shell.execute_reply": "2024-10-02T02:51:12.212398Z"
    },
    "papermill": {
     "duration": 0.009039,
     "end_time": "2024-10-02T02:51:12.214437",
     "exception": false,
     "start_time": "2024-10-02T02:51:12.205398",
     "status": "completed"
    },
    "tags": []
   },
   "outputs": [],
   "source": [
    "pathCT = os.path.join(path, 'ac225_tutorials', 'dicom', 'CT')\n",
    "files_CT = [os.path.join(pathCT, file) for file in os.listdir(pathCT)]\n",
    "file_NM = os.path.join(path, 'ac225_tutorials', 'dicom', 'projection_data.IMA')"
   ]
  },
  {
   "cell_type": "markdown",
   "id": "141eb774",
   "metadata": {
    "papermill": {
     "duration": 0.003158,
     "end_time": "2024-10-02T02:51:12.220733",
     "exception": false,
     "start_time": "2024-10-02T02:51:12.217575",
     "status": "completed"
    },
    "tags": []
   },
   "source": [
    "Open the PSF operator created in [this tutorial](https://github.com/lukepolson/SPECTPSFToolbox/blob/main/tutorials/5_optimization_ac225.ipynb)"
   ]
  },
  {
   "cell_type": "code",
   "execution_count": 4,
   "id": "e6a7b810",
   "metadata": {
    "execution": {
     "iopub.execute_input": "2024-10-02T02:51:12.227922Z",
     "iopub.status.busy": "2024-10-02T02:51:12.227604Z",
     "iopub.status.idle": "2024-10-02T02:51:13.006128Z",
     "shell.execute_reply": "2024-10-02T02:51:13.005484Z"
    },
    "papermill": {
     "duration": 0.784034,
     "end_time": "2024-10-02T02:51:13.007931",
     "exception": false,
     "start_time": "2024-10-02T02:51:12.223897",
     "status": "completed"
    },
    "tags": []
   },
   "outputs": [],
   "source": [
    "with open(os.path.join(path, 'ac225_tutorials', 'psf_operator_ac225.pkl'), 'rb') as f:\n",
    "    psf_operator = dill.load(f)\n",
    "    psf_operator.set_device(pytomography.device)"
   ]
  },
  {
   "cell_type": "markdown",
   "id": "0c77dc88",
   "metadata": {
    "papermill": {
     "duration": 0.003564,
     "end_time": "2024-10-02T02:51:13.015424",
     "exception": false,
     "start_time": "2024-10-02T02:51:13.011860",
     "status": "completed"
    },
    "tags": []
   },
   "source": [
    "Define the peak, lower, and upper indices"
   ]
  },
  {
   "cell_type": "code",
   "execution_count": 5,
   "id": "f8f4a96c",
   "metadata": {
    "execution": {
     "iopub.execute_input": "2024-10-02T02:51:13.026729Z",
     "iopub.status.busy": "2024-10-02T02:51:13.026386Z",
     "iopub.status.idle": "2024-10-02T02:51:20.330139Z",
     "shell.execute_reply": "2024-10-02T02:51:20.328248Z"
    },
    "papermill": {
     "duration": 7.313434,
     "end_time": "2024-10-02T02:51:20.332395",
     "exception": false,
     "start_time": "2024-10-02T02:51:13.018961",
     "status": "completed"
    },
    "tags": []
   },
   "outputs": [],
   "source": [
    "index_peak = 3\n",
    "index_lower = 4\n",
    "index_upper = 5\n",
    "object_meta, proj_meta = dicom.get_metadata(file_NM, index_peak=index_peak)\n",
    "projections = dicom.get_projections(file_NM)\n",
    "attenuation_map = dicom.get_attenuation_map_from_CT_slices(files_CT, file_NM, index_peak=index_peak, HU2mu_technique='from_cortical_bone_fit')"
   ]
  },
  {
   "cell_type": "markdown",
   "id": "35dc77da",
   "metadata": {
    "papermill": {
     "duration": 0.002859,
     "end_time": "2024-10-02T02:51:20.340164",
     "exception": false,
     "start_time": "2024-10-02T02:51:20.337305",
     "status": "completed"
    },
    "tags": []
   },
   "source": [
    "Subsample the metadata and projections so that there are only 32 angles instead of 96. \n",
    "\n",
    "* When we obtain the scatter we also apply Gaussian blurring with standard deviations of 2 degrees, 0.48cm, and 0.48cm in the angular, radial, and axial directions respectively."
   ]
  },
  {
   "cell_type": "code",
   "execution_count": 6,
   "id": "b6e95d21",
   "metadata": {
    "execution": {
     "iopub.execute_input": "2024-10-02T02:51:20.347722Z",
     "iopub.status.busy": "2024-10-02T02:51:20.347306Z",
     "iopub.status.idle": "2024-10-02T02:51:20.536040Z",
     "shell.execute_reply": "2024-10-02T02:51:20.535361Z"
    },
    "papermill": {
     "duration": 0.195008,
     "end_time": "2024-10-02T02:51:20.538244",
     "exception": false,
     "start_time": "2024-10-02T02:51:20.343236",
     "status": "completed"
    },
    "tags": []
   },
   "outputs": [],
   "source": [
    "object_meta, proj_meta, projections = subsample_projections_and_modify_metadata(object_meta, proj_meta, projections, N_angle=3)\n",
    "photopeak = projections[index_peak]\n",
    "scatter = dicom.get_energy_window_scatter_estimate_projections(file_NM, projections, index_peak=index_peak, index_lower=index_lower, index_upper=index_upper, sigma_theta=2, sigma_r=0.48, sigma_z=0.48, proj_meta=proj_meta)"
   ]
  },
  {
   "cell_type": "markdown",
   "id": "ac75c0ae",
   "metadata": {
    "papermill": {
     "duration": 0.003149,
     "end_time": "2024-10-02T02:51:20.544846",
     "exception": false,
     "start_time": "2024-10-02T02:51:20.541697",
     "status": "completed"
    },
    "tags": []
   },
   "source": [
    "Define system matrix"
   ]
  },
  {
   "cell_type": "code",
   "execution_count": 7,
   "id": "a682c202",
   "metadata": {
    "execution": {
     "iopub.execute_input": "2024-10-02T02:51:20.551957Z",
     "iopub.status.busy": "2024-10-02T02:51:20.551601Z",
     "iopub.status.idle": "2024-10-02T02:51:20.563626Z",
     "shell.execute_reply": "2024-10-02T02:51:20.563014Z"
    },
    "papermill": {
     "duration": 0.017243,
     "end_time": "2024-10-02T02:51:20.564998",
     "exception": false,
     "start_time": "2024-10-02T02:51:20.547755",
     "status": "completed"
    },
    "tags": []
   },
   "outputs": [],
   "source": [
    "att_transform = SPECTAttenuationTransform(attenuation_map=attenuation_map)\n",
    "psf_transform = SPECTPSFTransform(psf_operator=psf_operator)\n",
    "system_matrix = SPECTSystemMatrix(\n",
    "        obj2obj_transforms = [att_transform,psf_transform],\n",
    "        proj2proj_transforms = [],\n",
    "        object_meta = object_meta,\n",
    "        proj_meta = proj_meta)"
   ]
  },
  {
   "cell_type": "markdown",
   "id": "9ef0b359",
   "metadata": {
    "papermill": {
     "duration": 0.003585,
     "end_time": "2024-10-02T02:51:20.571449",
     "exception": false,
     "start_time": "2024-10-02T02:51:20.567864",
     "status": "completed"
    },
    "tags": []
   },
   "source": [
    "Define likelihood and algorithm"
   ]
  },
  {
   "cell_type": "code",
   "execution_count": 8,
   "id": "55d75660",
   "metadata": {
    "execution": {
     "iopub.execute_input": "2024-10-02T02:51:20.578939Z",
     "iopub.status.busy": "2024-10-02T02:51:20.578610Z",
     "iopub.status.idle": "2024-10-02T02:51:20.599715Z",
     "shell.execute_reply": "2024-10-02T02:51:20.599023Z"
    },
    "papermill": {
     "duration": 0.026253,
     "end_time": "2024-10-02T02:51:20.601100",
     "exception": false,
     "start_time": "2024-10-02T02:51:20.574847",
     "status": "completed"
    },
    "tags": []
   },
   "outputs": [],
   "source": [
    "likelihood = PoissonLogLikelihood(system_matrix, photopeak, scatter)\n",
    "algorithm = OSEM(likelihood)"
   ]
  },
  {
   "cell_type": "markdown",
   "id": "f00736bc",
   "metadata": {
    "papermill": {
     "duration": 0.003091,
     "end_time": "2024-10-02T02:51:20.607263",
     "exception": false,
     "start_time": "2024-10-02T02:51:20.604172",
     "status": "completed"
    },
    "tags": []
   },
   "source": [
    "Reconstruct using MLEM 100it"
   ]
  },
  {
   "cell_type": "code",
   "execution_count": 9,
   "id": "71bb1b88",
   "metadata": {
    "execution": {
     "iopub.execute_input": "2024-10-02T02:51:20.614483Z",
     "iopub.status.busy": "2024-10-02T02:51:20.614064Z",
     "iopub.status.idle": "2024-10-02T02:53:54.859531Z",
     "shell.execute_reply": "2024-10-02T02:53:54.858490Z"
    },
    "papermill": {
     "duration": 154.251119,
     "end_time": "2024-10-02T02:53:54.861314",
     "exception": false,
     "start_time": "2024-10-02T02:51:20.610195",
     "status": "completed"
    },
    "tags": []
   },
   "outputs": [],
   "source": [
    "recon = algorithm(n_iters=100, n_subsets=1)"
   ]
  },
  {
   "cell_type": "markdown",
   "id": "33430f2f",
   "metadata": {
    "papermill": {
     "duration": 0.003069,
     "end_time": "2024-10-02T02:53:54.867942",
     "exception": false,
     "start_time": "2024-10-02T02:53:54.864873",
     "status": "completed"
    },
    "tags": []
   },
   "source": [
    "Smooth the reconstructed image using a Gaussian filter with FWHM of 2cm."
   ]
  },
  {
   "cell_type": "code",
   "execution_count": 10,
   "id": "f24d4164",
   "metadata": {
    "execution": {
     "iopub.execute_input": "2024-10-02T02:53:54.876248Z",
     "iopub.status.busy": "2024-10-02T02:53:54.875643Z",
     "iopub.status.idle": "2024-10-02T02:53:54.882496Z",
     "shell.execute_reply": "2024-10-02T02:53:54.881826Z"
    },
    "papermill": {
     "duration": 0.012717,
     "end_time": "2024-10-02T02:53:54.883984",
     "exception": false,
     "start_time": "2024-10-02T02:53:54.871267",
     "status": "completed"
    },
    "tags": []
   },
   "outputs": [],
   "source": [
    "filter = GaussianFilter(3) # 2cm FWHM\n",
    "filter.configure(object_meta, proj_meta)\n",
    "recon_smoothed = filter(recon)"
   ]
  },
  {
   "cell_type": "markdown",
   "id": "6b785c28",
   "metadata": {
    "papermill": {
     "duration": 0.002918,
     "end_time": "2024-10-02T02:53:54.889843",
     "exception": false,
     "start_time": "2024-10-02T02:53:54.886925",
     "status": "completed"
    },
    "tags": []
   },
   "source": [
    "Show an axial slice of the smoothed reconstruction. We'll also show the attenuation map in the background:"
   ]
  },
  {
   "cell_type": "code",
   "execution_count": 11,
   "id": "bf4165f4",
   "metadata": {
    "execution": {
     "iopub.execute_input": "2024-10-02T02:53:54.896990Z",
     "iopub.status.busy": "2024-10-02T02:53:54.896627Z",
     "iopub.status.idle": "2024-10-02T02:53:55.106552Z",
     "shell.execute_reply": "2024-10-02T02:53:55.105909Z"
    },
    "papermill": {
     "duration": 0.215315,
     "end_time": "2024-10-02T02:53:55.108122",
     "exception": false,
     "start_time": "2024-10-02T02:53:54.892807",
     "status": "completed"
    },
    "tags": []
   },
   "outputs": [
    {
     "data": {
      "image/png": "[encoded data removed]",
      "text/plain": [
       "<Figure size 1000x400 with 2 Axes>"
      ]
     },
     "metadata": {},
     "output_type": "display_data"
    }
   ],
   "source": [
    "slice_pytomography = recon_smoothed.cpu()[:,:,70].T\n",
    "slice_amap = attenuation_map.cpu()[:,:,70].T\n",
    "plt.figure(figsize=(10,4))\n",
    "plt.subplot(121)\n",
    "plt.title('440keV Peak: OSEM4it8ss')\n",
    "plt.imshow(slice_amap, cmap='Greys_r', interpolation='gaussian', vmin=0.1)\n",
    "plt.imshow(slice_pytomography, cmap='magma', interpolation='gaussian', alpha=0.5)\n",
    "plt.axis('off')\n",
    "plt.xlim(35,95)\n",
    "plt.ylim(47,107)\n",
    "plt.colorbar(label='Counts')\n",
    "plt.show()"
   ]
  },
  {
   "cell_type": "markdown",
   "id": "a9c1aada",
   "metadata": {
    "papermill": {
     "duration": 0.005725,
     "end_time": "2024-10-02T02:53:55.118056",
     "exception": false,
     "start_time": "2024-10-02T02:53:55.112331",
     "status": "completed"
    },
    "tags": []
   },
   "source": [
    "Activity can be seen in the largest sphere, which is of 60mm diameter. The smaller sphere at the bottom, which is of diameter 37mm, also appears to have some counts. The SPECT reconstructions are of poor quality since there is so little data collected in standard Ac225 protocols. Soon we will be releasing a paper showing the uncertainty in each of the spheres, as well as a high count reconstruction; the link to that will be shared here ASAP."
   ]
  }
 ],
 "metadata": {
  "kernelspec": {
   "display_name": "pytomo_install_test",
   "language": "python",
   "name": "python3"
  },
  "language_info": {
   "codemirror_mode": {
    "name": "ipython",
    "version": 3
   },
   "file_extension": ".py",
   "mimetype": "text/x-python",
   "name": "python",
   "nbconvert_exporter": "python",
   "pygments_lexer": "ipython3",
   "version": "3.11.10"
  },
  "papermill": {
   "default_parameters": {},
   "duration": 169.097035,
   "end_time": "2024-10-02T02:53:56.444872",
   "environment_variables": {},
   "exception": null,
   "input_path": "t_ac225_dicom_recon.ipynb",
   "output_path": "t_ac225_dicom_recon.ipynb",
   "parameters": {},
   "start_time": "2024-10-02T02:51:07.347837",
   "version": "2.6.0"
  }
 },
 "nbformat": 4,
 "nbformat_minor": 5
}