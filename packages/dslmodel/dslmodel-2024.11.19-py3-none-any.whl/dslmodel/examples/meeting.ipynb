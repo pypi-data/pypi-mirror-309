{
 "cells": [
  {
   "cell_type": "code",
   "id": "initial_id",
   "metadata": {
    "collapsed": true,
    "ExecuteTime": {
     "end_time": "2024-11-13T05:04:03.086253Z",
     "start_time": "2024-11-13T05:03:58.968987Z"
    }
   },
   "source": [
    "from typing import List\n",
    "from pydantic import Field\n",
    "from dslmodel import DSLModel\n",
    "\n",
    "\n",
    "class Participant(DSLModel):\n",
    "    \"\"\"Represents a participant in a meeting.\"\"\"\n",
    "    name: str = Field(\"{{ fake_name() }}\", description=\"Name of the participant.\")\n",
    "    role: str = Field(\"{{ fake_job() }}\", description=\"Role of the participant.\")\n",
    "    company: str = Field(\"{{ fake_bs() }}\")\n",
    "\n",
    "class Meeting(DSLModel):\n",
    "    \"\"\"Represents a meeting and its participants.\"\"\"\n",
    "    name: str = Field(..., description=\"Name of the meeting.\")\n",
    "    participants: List[Participant] = Field(..., description=\"List of participants.\")"
   ],
   "outputs": [],
   "execution_count": 1
  },
  {
   "metadata": {
    "ExecuteTime": {
     "end_time": "2024-11-13T05:04:03.117215Z",
     "start_time": "2024-11-13T05:04:03.087195Z"
    }
   },
   "cell_type": "code",
   "source": "person = Participant()",
   "id": "3557db30b135eb8c",
   "outputs": [],
   "execution_count": 2
  },
  {
   "metadata": {
    "ExecuteTime": {
     "end_time": "2024-11-13T05:04:03.120813Z",
     "start_time": "2024-11-13T05:04:03.117927Z"
    }
   },
   "cell_type": "code",
   "source": "person.to_yaml()",
   "id": "3fe8474c7e57c758",
   "outputs": [
    {
     "data": {
      "text/plain": [
       "'company: cultivate interactive initiatives\\nname: Jeremy Parks\\nrole: Research scientist (life sciences)\\n'"
      ]
     },
     "execution_count": 3,
     "metadata": {},
     "output_type": "execute_result"
    }
   ],
   "execution_count": 3
  },
  {
   "metadata": {
    "ExecuteTime": {
     "end_time": "2024-11-13T05:04:03.676113Z",
     "start_time": "2024-11-13T05:04:03.121739Z"
    }
   },
   "cell_type": "code",
   "source": [
    "from dslmodel import init_instant\n",
    "\n",
    "init_instant()\n",
    "\n",
    "mtg = Meeting.from_prompt(\"Example meeting\")"
   ],
   "id": "eadad25321c9d23f",
   "outputs": [
    {
     "name": "stderr",
     "output_type": "stream",
     "text": [
      "\u001B[92m21:04:03 - LiteLLM:INFO\u001B[0m: utils.py:2749 - \n",
      "LiteLLM completion() model= llama-3.1-8b-instant; provider = groq\n",
      "INFO:LiteLLM:\n",
      "LiteLLM completion() model= llama-3.1-8b-instant; provider = groq\n",
      "INFO:httpx:HTTP Request: POST https://api.groq.com/openai/v1/chat/completions \"HTTP/1.1 200 OK\"\n",
      "\u001B[92m21:04:03 - LiteLLM:INFO\u001B[0m: utils.py:944 - Wrapper: Completed Call, calling success_handler\n",
      "INFO:LiteLLM:Wrapper: Completed Call, calling success_handler\n"
     ]
    }
   ],
   "execution_count": 4
  },
  {
   "metadata": {
    "ExecuteTime": {
     "end_time": "2024-11-13T05:04:03.679652Z",
     "start_time": "2024-11-13T05:04:03.677158Z"
    }
   },
   "cell_type": "code",
   "source": "mtg.to_toml()",
   "id": "e82dec9aacdc4975",
   "outputs": [
    {
     "data": {
      "text/plain": [
       "'name = \"Example meeting\"\\n[[participants]]\\nname = \"John Doe\"\\nrole = \"Manager\"\\ncompany = \"ABC Corporation\"\\n\\n[[participants]]\\nname = \"Jane Smith\"\\nrole = \"Developer\"\\ncompany = \"XYZ Inc.\"\\n\\n[[participants]]\\nname = \"Bob Johnson\"\\nrole = \"Designer\"\\ncompany = \"DEF Agency\"\\n\\n'"
      ]
     },
     "execution_count": 5,
     "metadata": {},
     "output_type": "execute_result"
    }
   ],
   "execution_count": 5
  },
  {
   "metadata": {
    "ExecuteTime": {
     "end_time": "2024-11-13T05:04:03.979469Z",
     "start_time": "2024-11-13T05:04:03.680425Z"
    }
   },
   "cell_type": "code",
   "source": "mtg.save(file_format=\"toml\")",
   "id": "2eafb79bdf7c17d3",
   "outputs": [
    {
     "name": "stderr",
     "output_type": "stream",
     "text": [
      "\u001B[92m21:04:03 - LiteLLM:INFO\u001B[0m: utils.py:2749 - \n",
      "LiteLLM completion() model= llama-3.1-8b-instant; provider = groq\n",
      "INFO:LiteLLM:\n",
      "LiteLLM completion() model= llama-3.1-8b-instant; provider = groq\n",
      "INFO:httpx:HTTP Request: POST https://api.groq.com/openai/v1/chat/completions \"HTTP/1.1 200 OK\"\n",
      "\u001B[92m21:04:03 - LiteLLM:INFO\u001B[0m: utils.py:944 - Wrapper: Completed Call, calling success_handler\n",
      "INFO:LiteLLM:Wrapper: Completed Call, calling success_handler\n"
     ]
    },
    {
     "data": {
      "text/plain": [
       "'Example_meeting_ABC_Corporation_John_Doe_XYZ_Inc_Jane_Smith_DEF_Agency_Bob_Johnson.toml'"
      ]
     },
     "execution_count": 6,
     "metadata": {},
     "output_type": "execute_result"
    }
   ],
   "execution_count": 6
  },
  {
   "metadata": {
    "ExecuteTime": {
     "end_time": "2024-11-13T05:04:04.113581Z",
     "start_time": "2024-11-13T05:04:03.980245Z"
    }
   },
   "cell_type": "code",
   "source": [
    "mtg2 = Meeting.load(\"Example_meeting.toml\")\n",
    "mtg2"
   ],
   "id": "37e8244138a66a89",
   "outputs": [
    {
     "ename": "FileNotFoundError",
     "evalue": "[Errno 2] No such file or directory: 'Example_meeting.toml'",
     "output_type": "error",
     "traceback": [
      "\u001B[0;31m---------------------------------------------------------------------------\u001B[0m",
      "\u001B[0;31mFileNotFoundError\u001B[0m                         Traceback (most recent call last)",
      "Cell \u001B[0;32mIn[7], line 1\u001B[0m\n\u001B[0;32m----> 1\u001B[0m mtg2 \u001B[38;5;241m=\u001B[39m \u001B[43mMeeting\u001B[49m\u001B[38;5;241;43m.\u001B[39;49m\u001B[43mload\u001B[49m\u001B[43m(\u001B[49m\u001B[38;5;124;43m\"\u001B[39;49m\u001B[38;5;124;43mExample_meeting.toml\u001B[39;49m\u001B[38;5;124;43m\"\u001B[39;49m\u001B[43m)\u001B[49m\n\u001B[1;32m      2\u001B[0m mtg2\n",
      "File \u001B[0;32m~/dev/dslmodel/src/dslmodel/mixins/file_handler_dsl_mixin.py:67\u001B[0m, in \u001B[0;36mFileHandlerDSLMixin.load\u001B[0;34m(cls, file_path)\u001B[0m\n\u001B[1;32m     64\u001B[0m _, ext \u001B[38;5;241m=\u001B[39m os\u001B[38;5;241m.\u001B[39mpath\u001B[38;5;241m.\u001B[39msplitext(file_path)\n\u001B[1;32m     65\u001B[0m ext \u001B[38;5;241m=\u001B[39m ext\u001B[38;5;241m.\u001B[39mlower()\n\u001B[0;32m---> 67\u001B[0m \u001B[38;5;28;01mwith\u001B[39;00m \u001B[38;5;28;43mopen\u001B[39;49m\u001B[43m(\u001B[49m\u001B[43mfile_path\u001B[49m\u001B[43m)\u001B[49m \u001B[38;5;28;01mas\u001B[39;00m file:\n\u001B[1;32m     68\u001B[0m     content \u001B[38;5;241m=\u001B[39m file\u001B[38;5;241m.\u001B[39mread()\n\u001B[1;32m     70\u001B[0m \u001B[38;5;28;01mif\u001B[39;00m ext \u001B[38;5;129;01min\u001B[39;00m [\u001B[38;5;124m\"\u001B[39m\u001B[38;5;124m.yaml\u001B[39m\u001B[38;5;124m\"\u001B[39m, \u001B[38;5;124m\"\u001B[39m\u001B[38;5;124m.yml\u001B[39m\u001B[38;5;124m\"\u001B[39m]:\n",
      "\u001B[0;31mFileNotFoundError\u001B[0m: [Errno 2] No such file or directory: 'Example_meeting.toml'"
     ]
    }
   ],
   "execution_count": 7
  },
  {
   "metadata": {},
   "cell_type": "code",
   "execution_count": null,
   "source": "",
   "id": "66810ff8c9cb7da0",
   "outputs": []
  }
 ],
 "metadata": {
  "kernelspec": {
   "display_name": "Python 3",
   "language": "python",
   "name": "python3"
  },
  "language_info": {
   "codemirror_mode": {
    "name": "ipython",
    "version": 2
   },
   "file_extension": ".py",
   "mimetype": "text/x-python",
   "name": "python",
   "nbconvert_exporter": "python",
   "pygments_lexer": "ipython2",
   "version": "2.7.6"
  }
 },
 "nbformat": 4,
 "nbformat_minor": 5
}
